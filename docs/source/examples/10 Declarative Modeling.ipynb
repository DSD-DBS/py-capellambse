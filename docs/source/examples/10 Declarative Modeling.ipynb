{
 "cells": [
  {
   "cell_type": "markdown",
   "metadata": {},
   "source": [
    "# Declarative Modeling Example\n",
    "\n",
    "Declarative approach to modeling means that one could define or update a model using a fragment of structured text. A number of fragments could be \"played\" against a model in a sequence to build it up.\n",
    "\n",
    "Enabling declarative modeling for Capella models enables a range of complex automations around modeling process that are explainable / transparent to human auditors.\n",
    "\n",
    "This notebook will demonstrate a basic application of this approach to modeling on a coffee machine example. Please note that we will not model any specific modeling process but rather a \"free-form\" demo."
   ]
  },
  {
   "cell_type": "markdown",
   "metadata": {},
   "source": [
    "## System Analysis of a Coffee Machine\n",
    "\n",
    "Lets do a quick system analysis of a coffee machine. Lets assume that our meta-solution is an automated coffee machine for a household use. We may look into variant management scenario in a separate example.\n",
    "\n",
    "### 0. Initialize\n",
    "\n",
    "But before we can model something lets first initialize the model. We will use an empty Capella 5.2 model as a starting point."
   ]
  },
  {
   "cell_type": "code",
   "execution_count": 1,
   "metadata": {},
   "outputs": [],
   "source": [
    "import io\n",
    "\n",
    "import capellambse\n",
    "from capellambse import decl\n",
    "\n",
    "model = capellambse.MelodyModel(\n",
    "    \"../../../tests/data/decl/empty_project_52/empty_project_52.aird\"\n",
    ")"
   ]
  },
  {
   "cell_type": "markdown",
   "metadata": {},
   "source": [
    "to visualize the modeling results we'll use context-diagrams extension, you may get one by uncommenting and running the command below"
   ]
  },
  {
   "cell_type": "code",
   "execution_count": 2,
   "metadata": {},
   "outputs": [],
   "source": [
    "!pip install -q capellambse_context_diagrams"
   ]
  },
  {
   "cell_type": "markdown",
   "metadata": {},
   "source": [
    "lets verify that the model is empty at SA layer:"
   ]
  },
  {
   "cell_type": "code",
   "execution_count": 3,
   "metadata": {},
   "outputs": [
    {
     "name": "stdout",
     "output_type": "stream",
     "text": [
      "At SA layer the model has 0, out of which 0 are allocated to Root Component\n"
     ]
    }
   ],
   "source": [
    "functions_allocated = model.sa.root_component.allocated_functions\n",
    "functions_available = model.sa.root_function.functions\n",
    "print(\n",
    "    f\"At SA layer the model has {len(functions_available)},\"\n",
    "    f\" out of which {len(functions_allocated)} are allocated to Root Component\"\n",
    ")"
   ]
  },
  {
   "cell_type": "markdown",
   "metadata": {},
   "source": [
    "Also for this to work we'll need \"coordinates\" of some key elements in the model:"
   ]
  },
  {
   "cell_type": "code",
   "execution_count": 4,
   "metadata": {},
   "outputs": [],
   "source": [
    "root_function = model.sa.root_function\n",
    "root_component = model.sa.root_component\n",
    "structure = model.sa.component_package"
   ]
  },
  {
   "cell_type": "markdown",
   "metadata": {},
   "source": [
    "### 1. Context\n",
    "\n",
    "Lets start by renaming the root component from **System** to **Coffee Machine**, creating a human actor **User** and a component exchange between those two.\n",
    "\n",
    "We can achieve this by applying the following YAML patch to an empty Capella model:"
   ]
  },
  {
   "cell_type": "code",
   "execution_count": 5,
   "metadata": {},
   "outputs": [],
   "source": [
    "model_update = f\"\"\"\n",
    "- parent: !uuid {root_component.uuid}\n",
    "  set:\n",
    "    name: Coffee Machine\n",
    "- parent: !uuid {root_component.uuid}\n",
    "  extend:\n",
    "    ports:\n",
    "      - name: usr\n",
    "        direction: INOUT\n",
    "        promise_id: usr-port-promise\n",
    "    exchanges:\n",
    "      - name: user interactions\n",
    "        source: !promise usr-port-promise\n",
    "        target: !promise cm-port-promise\n",
    "- parent: !uuid {structure.uuid}\n",
    "  extend:\n",
    "    components:\n",
    "      - name: User\n",
    "        is_actor: true\n",
    "        is_human: true\n",
    "        ports:\n",
    "          - name: cm\n",
    "            direction: INOUT\n",
    "            promise_id: cm-port-promise\n",
    "\"\"\"\n",
    "# the below line applies the model_update to the model\n",
    "decl.apply(model, io.StringIO(model_update));"
   ]
  },
  {
   "cell_type": "markdown",
   "metadata": {},
   "source": [
    "and now we can verify the changes by visualizing the context of our system under analysis:"
   ]
  },
  {
   "cell_type": "code",
   "execution_count": 6,
   "metadata": {},
   "outputs": [
    {
     "data": {
      "image/png": "[encoded data removed]",
      "image/svg+xml": [
       "<svg baseProfile=\"full\" class=\"SystemArchitectureBlank\" font-family=\"'Open Sans','Segoe UI',Arial,sans-serif\" font-size=\"10px\" height=\"57\" shape-rendering=\"geometricPrecision\" version=\"1.1\" viewBox=\"2 2 362 57\" width=\"362\" xmlns=\"http://www.w3.org/2000/svg\" xmlns:ev=\"http://www.w3.org/2001/xml-events\" xmlns:xlink=\"http://www.w3.org/1999/xlink\"><defs><symbol id=\"SystemComponentSymbol\" viewBox=\"0 12 79 55\"><g transform=\"matrix(0.25509703,0,0,0.25509703,-19.119473,-26.4767)\"><g fill=\"#e3ebf8\" stroke-width=\"1.33145\" transform=\"matrix(0.92548165,0,0,0.92249056,-32.422011,-1.2909536)\"><path d=\"m 160.03785,180.47519 h 280.8845 v 200.68502 h -280.8845 z\" stroke=\"#000\" stroke-width=\"7\" /></g><path d=\"m 81.854696,210.17533 h 66.250264 v 35.37025 H 81.854696 Z\" fill=\"#e7efff\" stroke=\"#000\" stroke-width=\"7\" /><path d=\"m 83.588316,268.94271 h 66.250254 v 35.37024 H 83.588316 Z\" fill=\"#e7efff\" stroke=\"#000\" stroke-width=\"7\" /><rect fill=\"#000\" height=\"5\" stroke=\"#000\" stroke-width=\"54.1038\" width=\"5\" x=\"214.8075\" y=\"236.39\" /><rect fill=\"#000\" height=\"5\" stroke=\"#000\" stroke-width=\"54.1038\" width=\"5\" x=\"297.44\" y=\"298.36\" /><rect fill=\"#000\" height=\"5\" stroke=\"#000\" stroke-width=\"54.1038\" width=\"5\" x=\"297.44\" y=\"215.73\" /><path d=\"m 219.70896,218.22099 h 79.0257 v 85.9132 h -80.34135 z\" fill=\"none\" stroke=\"#000\" stroke-width=\"4.29901px\" /></g></symbol><linearGradient id=\"CustomGradient_C3E6FF_96B1DA\" x1=\"0\" x2=\"0\" y1=\"0\" y2=\"1\"><stop offset=\"0.0\" stop-color=\"#C3E6FF\" stop-opacity=\"1\" /><stop offset=\"1.0\" stop-color=\"#96B1DA\" stop-opacity=\"1\" /></linearGradient><symbol id=\"SystemHumanActorSymbol\" stroke=\"#000\" stroke-width=\"2\" viewBox=\"0 0 79 79\"><use transform=\"matrix(0.81762456,0,0,0.81762456,-2.5207584,0.47091696)\" xlink:href=\"#StickFigureSymbol\" /></symbol><symbol id=\"StickFigureSymbol\" stroke=\"#000\" stroke-width=\"2\" viewBox=\"362.861 210.892 75 75\"><g stroke=\"#000\" stroke-width=\"2.4944\" transform=\"matrix(1.0611338,0,0,1.0611338,-24.47665,-12.241673)\"><line fill=\"none\" x1=\"400.362\" x2=\"400.362\" y1=\"232.586\" y2=\"257.534\" /><line fill=\"none\" x1=\"400.83401\" x2=\"388.423\" y1=\"254.299\" y2=\"275.009\" /><line fill=\"none\" x1=\"400.25201\" x2=\"413.97\" y1=\"254.46001\" y2=\"274.987\" /><line fill=\"none\" x1=\"385.634\" x2=\"415.703\" y1=\"244.569\" y2=\"244.49699\" /><ellipse cx=\"400.53201\" cy=\"223.35899\" fill=\"none\" rx=\"9.2180004\" ry=\"8.5080004\" /></g></symbol><linearGradient id=\"CustomGradient_DAFDFF_C6E6FF\" x1=\"0\" x2=\"0\" y1=\"0\" y2=\"1\"><stop offset=\"0.0\" stop-color=\"#DAFDFF\" stop-opacity=\"1\" /><stop offset=\"1.0\" stop-color=\"#C6E6FF\" stop-opacity=\"1\" /></linearGradient><symbol id=\"ComponentExchangeSymbol\" viewBox=\"0 0 40 30\"><linearGradient id=\"ComponentExchangeSymbol-gradient\" x1=\"0\" x2=\"1\" y1=\"0\" y2=\"1\"><stop offset=\"0.0\" stop-color=\"#8FA5B6\" stop-opacity=\"1\" /><stop offset=\"1.0\" stop-color=\"#E0E9F3\" stop-opacity=\"1\" /></linearGradient><linearGradient id=\"ComponentExchangeSymbol-gradientreverse\" x1=\"0\" x2=\"1\" y1=\"0\" y2=\"1\"><stop offset=\"0.0\" stop-color=\"#E0E9F3\" stop-opacity=\"1\" /><stop offset=\"1.0\" stop-color=\"#8FA5B6\" stop-opacity=\"1\" /></linearGradient><g stroke=\"#000\" stroke-width=\"2\"><path d=\"M 36.190065,5.0377724 V 24.962228 H 26.17482 V 5.0377724 Z\" fill=\"url(#ComponentExchangeSymbol-gradientreverse)\" /><path d=\"m 14.372107,10 h 12.622435 c 0.926189,0.585267 1.836022,1.274509 2.268178,5 -0.208657,2.812473 -0.954601,4.503809 -2.273297,5 H 14.296948\" fill=\"#A3BCD0\" /><path d=\"M 3.9464908,5.0048246 V 24.995175 H 10.87518 C 12.433713,24.159139 15.158267,20.291241 15.313795,15 15.498614,11.583142 14.059659,6.6240913 10.87518,5.0048246 c -2.2179509,0 -4.5908341,0 -6.9286892,0 z\" fill=\"url(#ComponentExchangeSymbol-gradient)\" /></g></symbol></defs><rect fill=\"#fff\" height=\"57\" stroke=\"none\" width=\"362\" x=\"2\" y=\"2\" /><g class=\"Box SystemComponent context-0681a392-246d-46ab-95f9-f3cbd7448caf context-08e13729-ea0e-4d62-b415-20b00c387aeb context-4bb1b790-4498-4728-91e1-b2e739d33b0f context-7af5971f-1a6c-47d3-b9a8-4e709444113e context-902fb6a9-637e-492f-a2c9-9cf2bd3200a2\" id=\"7af5971f-1a6c-47d3-b9a8-4e709444113e\"><rect class=\"SystemComponent\" fill=\"url(&quot;#CustomGradient_C3E6FF_96B1DA&quot;)\" height=\"37\" stroke=\"#4A4A97\" stroke-width=\"4\" width=\"118\" x=\"13.5\" y=\"12.5\" /><text class=\"SystemComponent\" dominant-baseline=\"middle\" fill=\"#000000\" text-anchor=\"middle\" x=\"12\" y=\"24\"><tspan x=\"78.5\" xml:space=\"preserve\" y=\"30.714285714285715\">Coffee Machine</tspan></text><use height=\"20\" width=\"20\" x=\"23.0\" xlink:href=\"#SystemComponentSymbol\" y=\"20.714285714285715\" /></g><g class=\"Box SystemHumanActor context-0681a392-246d-46ab-95f9-f3cbd7448caf context-08e13729-ea0e-4d62-b415-20b00c387aeb context-4bb1b790-4498-4728-91e1-b2e739d33b0f context-7af5971f-1a6c-47d3-b9a8-4e709444113e context-902fb6a9-637e-492f-a2c9-9cf2bd3200a2\" id=\"4bb1b790-4498-4728-91e1-b2e739d33b0f\"><rect class=\"SystemHumanActor\" fill=\"url(&quot;#CustomGradient_DAFDFF_C6E6FF&quot;)\" height=\"37\" stroke=\"#4A4A97\" stroke-width=\"1\" width=\"59\" x=\"294.5\" y=\"12.5\" /><text class=\"SystemHumanActor\" dominant-baseline=\"middle\" fill=\"#000000\" text-anchor=\"middle\" x=\"301\" y=\"24\"><tspan x=\"338.0\" xml:space=\"preserve\" y=\"30.714285714285715\">User</tspan></text><use height=\"20\" width=\"20\" x=\"308.0\" xlink:href=\"#SystemHumanActorSymbol\" y=\"20.714285714285715\" /></g><g class=\"Edge ComponentExchange context-0681a392-246d-46ab-95f9-f3cbd7448caf context-08e13729-ea0e-4d62-b415-20b00c387aeb context-4bb1b790-4498-4728-91e1-b2e739d33b0f context-7af5971f-1a6c-47d3-b9a8-4e709444113e context-902fb6a9-637e-492f-a2c9-9cf2bd3200a2\" id=\"902fb6a9-637e-492f-a2c9-9cf2bd3200a2\"><path class=\"Edge\" d=\"M 133.5 31.5 292.5 31.5\" fill=\"none\" stroke=\"#4A4A97\" stroke-width=\"2\" /><text class=\"Annotation\" dominant-baseline=\"middle\" fill=\"#4A4A97\" text-anchor=\"middle\" x=\"142.5\" y=\"34\"><tspan x=\"224.0\" xml:space=\"preserve\" y=\"42.714285714285715\">user interactions</tspan></text><use height=\"20\" width=\"20\" x=\"164.5\" xlink:href=\"#ComponentExchangeSymbol\" y=\"32.714285714285715\" /></g><g class=\"Box CP_INOUT context-0681a392-246d-46ab-95f9-f3cbd7448caf context-08e13729-ea0e-4d62-b415-20b00c387aeb context-4bb1b790-4498-4728-91e1-b2e739d33b0f context-7af5971f-1a6c-47d3-b9a8-4e709444113e context-902fb6a9-637e-492f-a2c9-9cf2bd3200a2\" id=\"0681a392-246d-46ab-95f9-f3cbd7448caf\"><rect class=\"CP_INOUT\" fill=\"#FFFFFF\" height=\"10\" stroke=\"#000000\" stroke-width=\"1\" transform=\"rotate(-90 128.5 31.5)\" width=\"10\" x=\"123.5\" y=\"26.5\" /></g><g class=\"Box CP_INOUT context-0681a392-246d-46ab-95f9-f3cbd7448caf context-08e13729-ea0e-4d62-b415-20b00c387aeb context-4bb1b790-4498-4728-91e1-b2e739d33b0f context-7af5971f-1a6c-47d3-b9a8-4e709444113e context-902fb6a9-637e-492f-a2c9-9cf2bd3200a2\" id=\"08e13729-ea0e-4d62-b415-20b00c387aeb\"><rect class=\"CP_INOUT\" fill=\"#FFFFFF\" height=\"10\" stroke=\"#000000\" stroke-width=\"1\" transform=\"rotate(90 297.5 31.5)\" width=\"10\" x=\"292.5\" y=\"26.5\" /></g></svg>"
      ],
      "text/plain": [
       "<Diagram 'Context of Coffee Machine'>"
      ]
     },
     "execution_count": 6,
     "metadata": {},
     "output_type": "execute_result"
    }
   ],
   "source": [
    "root_component.context_diagram"
   ]
  },
  {
   "cell_type": "markdown",
   "metadata": {},
   "source": [
    "Please note: the changes we made are not yet stored - if you like those to be saved you may use `model.save()` method. This will save the model back to where it was loaded from, for example by writing back into local files, or by creating a Git commit and pushing it back to the remote.\n"
   ]
  }
 ],
 "metadata": {
  "kernelspec": {
   "display_name": "Python 3 (ipykernel)",
   "language": "python",
   "name": "python3"
  },
  "language_info": {
   "codemirror_mode": {
    "name": "ipython",
    "version": 3
   },
   "file_extension": ".py",
   "mimetype": "text/x-python",
   "name": "python",
   "nbconvert_exporter": "python",
   "pygments_lexer": "ipython3",
   "version": "3.11.5"
  },
  "vscode": {
   "interpreter": {
    "hash": "c5ea7dc634d8047a259e5b898f154d237fbe6934b444b1a949475949608d751e"
   }
  }
 },
 "nbformat": 4,
 "nbformat_minor": 4
}
