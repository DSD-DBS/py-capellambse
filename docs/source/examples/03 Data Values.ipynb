{
 "cells": [
  {
   "cell_type": "markdown",
   "id": "1a1fe414",
   "metadata": {},
   "source": [
    "# Data Types and Data Values\n",
    "\n",
    "This Jupyter notebook demonstrates how Data Values in Capella can be handled.\n",
    "First, let's load the model again..."
   ]
  },
  {
   "cell_type": "code",
   "execution_count": 1,
   "id": "3e28d1c9",
   "metadata": {},
   "outputs": [
    {
     "data": {
      "text/plain": [
       "<capellambse.model._model.MelodyModel at 0x72bcc64d7b30>"
      ]
     },
     "execution_count": 1,
     "metadata": {},
     "output_type": "execute_result"
    }
   ],
   "source": [
    "import capellambse\n",
    "\n",
    "path_to_model = \"../../../tests/data/melodymodel/5_2/Melody Model Test.aird\"\n",
    "model = capellambse.MelodyModel(path_to_model)\n",
    "model"
   ]
  },
  {
   "cell_type": "markdown",
   "id": "48ce0c1e",
   "metadata": {},
   "source": [
    "As explained in the notebook 01, please ignore the warning about PVMT missing above."
   ]
  },
  {
   "cell_type": "markdown",
   "id": "7e68b88c-b4bc-4c20-a39f-48094c0eabdd",
   "metadata": {
    "tags": []
   },
   "source": [
    "## Example 1: Look into the Data package of the Logical Architecture\n",
    "\n",
    "Let's have a look into the data package on the Logical Architecture. It works the same with the other architectures, just replace the `oa` accordingly. We can see the defined classes, collections, enuemrations, and so on."
   ]
  },
  {
   "cell_type": "code",
   "execution_count": 2,
   "id": "da8b86b7",
   "metadata": {},
   "outputs": [
    {
     "data": {
      "text/html": [
       "<h1>Data <span style=\"font-size: 70%;\">(org.polarsys.capella.core.data.information:DataPkg)</span></h1>\n",
       "<table>\n",
       "<tr><th style=\"text-align: right;\">applied_property_value_groups</th><td style=\"text-align: left;\"><p><em>(Empty list)</em></p></td></tr>\n",
       "<tr><th style=\"text-align: right;\">applied_property_values</th><td style=\"text-align: left;\"><p><em>(Empty list)</em></p></td></tr>\n",
       "<tr><th style=\"text-align: right;\">classes</th><td style=\"text-align: left;\"><ol start=\"0\" style=\"text-align: left;\">\n",
       "<li><img src=\"data:image/svg+xml;base64,PHN2ZyBiYXNlUHJvZmlsZT0iZnVsbCIgaGVpZ2h0PSIxMDAlIiB2ZXJzaW9uPSIxLjEiIHZpZXdCb3g9IjAgMCAxNSAxNSIgd2lkdGg9IjEwMCUiIHhtbG5zPSJodHRwOi8vd3d3LnczLm9yZy8yMDAwL3N2ZyIgeG1sbnM6ZXY9Imh0dHA6Ly93d3cudzMub3JnLzIwMDEveG1sLWV2ZW50cyIgeG1sbnM6eGxpbms9Imh0dHA6Ly93d3cudzMub3JnLzE5OTkveGxpbmsiPjxkZWZzPjxzeW1ib2wgaWQ9IkNsYXNzU3ltYm9sIiB2aWV3Qm94PSIwIDAgMjUgMjUiPjxsaW5lYXJHcmFkaWVudCBpZD0iQ2xhc3NTeW1ib2wtZ3JhZGllbnQiIHgxPSIwIiB4Mj0iMCIgeTE9IjAiIHkyPSIxIj48c3RvcCBvZmZzZXQ9IjAuMCIgc3RvcC1jb2xvcj0iI2NmYTZhNSIgc3RvcC1vcGFjaXR5PSIxIiAvPjxzdG9wIG9mZnNldD0iMS4wIiBzdG9wLWNvbG9yPSIjZjFlMmUzIiBzdG9wLW9wYWNpdHk9IjEiIC8+PC9saW5lYXJHcmFkaWVudD48ZyBzdHJva2U9IiM5MTM3MzQiPjxyZWN0IGZpbGw9IiNlZWRjZGQiIGhlaWdodD0iMyIgd2lkdGg9IjE1IiB4PSI1IiB5PSIxNyIgLz48cmVjdCBmaWxsPSIjZWVkY2RkIiBoZWlnaHQ9IjMiIHdpZHRoPSIxNSIgeD0iNSIgeT0iMTQiIC8+PHJlY3QgZmlsbD0idXJsKCNDbGFzc1N5bWJvbC1ncmFkaWVudCkiIGhlaWdodD0iMTAiIHdpZHRoPSIxNSIgeD0iNSIgeT0iNCIgLz48L2c+PC9zeW1ib2w+PC9kZWZzPjx1c2UgaGVpZ2h0PSIxNSIgd2lkdGg9IjE1IiB4PSIwIiB4bGluazpocmVmPSIjQ2xhc3NTeW1ib2wiIHk9IjAiIC8+PC9zdmc+\" alt=\"Class\" title=\"Class\" width=\"15\" height=\"15\" style=\"display: inline-block\"> <a href=\"hlink://c710f1c2-ede6-444e-9e2b-0ff30d7fd040\">&quot;Wand&quot;</a> (c710f1c2-ede6-444e-9e2b-0ff30d7fd040)</li>\n",
       "<li><img src=\"data:image/svg+xml;base64,PHN2ZyBiYXNlUHJvZmlsZT0iZnVsbCIgaGVpZ2h0PSIxMDAlIiB2ZXJzaW9uPSIxLjEiIHZpZXdCb3g9IjAgMCAxNSAxNSIgd2lkdGg9IjEwMCUiIHhtbG5zPSJodHRwOi8vd3d3LnczLm9yZy8yMDAwL3N2ZyIgeG1sbnM6ZXY9Imh0dHA6Ly93d3cudzMub3JnLzIwMDEveG1sLWV2ZW50cyIgeG1sbnM6eGxpbms9Imh0dHA6Ly93d3cudzMub3JnLzE5OTkveGxpbmsiPjxkZWZzPjxzeW1ib2wgaWQ9IkNsYXNzU3ltYm9sIiB2aWV3Qm94PSIwIDAgMjUgMjUiPjxsaW5lYXJHcmFkaWVudCBpZD0iQ2xhc3NTeW1ib2wtZ3JhZGllbnQiIHgxPSIwIiB4Mj0iMCIgeTE9IjAiIHkyPSIxIj48c3RvcCBvZmZzZXQ9IjAuMCIgc3RvcC1jb2xvcj0iI2NmYTZhNSIgc3RvcC1vcGFjaXR5PSIxIiAvPjxzdG9wIG9mZnNldD0iMS4wIiBzdG9wLWNvbG9yPSIjZjFlMmUzIiBzdG9wLW9wYWNpdHk9IjEiIC8+PC9saW5lYXJHcmFkaWVudD48ZyBzdHJva2U9IiM5MTM3MzQiPjxyZWN0IGZpbGw9IiNlZWRjZGQiIGhlaWdodD0iMyIgd2lkdGg9IjE1IiB4PSI1IiB5PSIxNyIgLz48cmVjdCBmaWxsPSIjZWVkY2RkIiBoZWlnaHQ9IjMiIHdpZHRoPSIxNSIgeD0iNSIgeT0iMTQiIC8+PHJlY3QgZmlsbD0idXJsKCNDbGFzc1N5bWJvbC1ncmFkaWVudCkiIGhlaWdodD0iMTAiIHdpZHRoPSIxNSIgeD0iNSIgeT0iNCIgLz48L2c+PC9zeW1ib2w+PC9kZWZzPjx1c2UgaGVpZ2h0PSIxNSIgd2lkdGg9IjE1IiB4PSIwIiB4bGluazpocmVmPSIjQ2xhc3NTeW1ib2wiIHk9IjAiIC8+PC9zdmc+\" alt=\"Class\" title=\"Class\" width=\"15\" height=\"15\" style=\"display: inline-block\"> <a href=\"hlink://1adf8097-18f9-474e-b136-6c845fc6d9e9\">&quot;Class 2&quot;</a> (1adf8097-18f9-474e-b136-6c845fc6d9e9)</li>\n",
       "<li><img src=\"data:image/svg+xml;base64,PHN2ZyBiYXNlUHJvZmlsZT0iZnVsbCIgaGVpZ2h0PSIxMDAlIiB2ZXJzaW9uPSIxLjEiIHZpZXdCb3g9IjAgMCAxNSAxNSIgd2lkdGg9IjEwMCUiIHhtbG5zPSJodHRwOi8vd3d3LnczLm9yZy8yMDAwL3N2ZyIgeG1sbnM6ZXY9Imh0dHA6Ly93d3cudzMub3JnLzIwMDEveG1sLWV2ZW50cyIgeG1sbnM6eGxpbms9Imh0dHA6Ly93d3cudzMub3JnLzE5OTkveGxpbmsiPjxkZWZzPjxzeW1ib2wgaWQ9IkNsYXNzU3ltYm9sIiB2aWV3Qm94PSIwIDAgMjUgMjUiPjxsaW5lYXJHcmFkaWVudCBpZD0iQ2xhc3NTeW1ib2wtZ3JhZGllbnQiIHgxPSIwIiB4Mj0iMCIgeTE9IjAiIHkyPSIxIj48c3RvcCBvZmZzZXQ9IjAuMCIgc3RvcC1jb2xvcj0iI2NmYTZhNSIgc3RvcC1vcGFjaXR5PSIxIiAvPjxzdG9wIG9mZnNldD0iMS4wIiBzdG9wLWNvbG9yPSIjZjFlMmUzIiBzdG9wLW9wYWNpdHk9IjEiIC8+PC9saW5lYXJHcmFkaWVudD48ZyBzdHJva2U9IiM5MTM3MzQiPjxyZWN0IGZpbGw9IiNlZWRjZGQiIGhlaWdodD0iMyIgd2lkdGg9IjE1IiB4PSI1IiB5PSIxNyIgLz48cmVjdCBmaWxsPSIjZWVkY2RkIiBoZWlnaHQ9IjMiIHdpZHRoPSIxNSIgeD0iNSIgeT0iMTQiIC8+PHJlY3QgZmlsbD0idXJsKCNDbGFzc1N5bWJvbC1ncmFkaWVudCkiIGhlaWdodD0iMTAiIHdpZHRoPSIxNSIgeD0iNSIgeT0iNCIgLz48L2c+PC9zeW1ib2w+PC9kZWZzPjx1c2UgaGVpZ2h0PSIxNSIgd2lkdGg9IjE1IiB4PSIwIiB4bGluazpocmVmPSIjQ2xhc3NTeW1ib2wiIHk9IjAiIC8+PC9zdmc+\" alt=\"Class\" title=\"Class\" width=\"15\" height=\"15\" style=\"display: inline-block\"> <a href=\"hlink://2b34c799-769c-42f2-8a1b-4533dba209a0\">&quot;Branch&quot;</a> (2b34c799-769c-42f2-8a1b-4533dba209a0)</li>\n",
       "</ol></td></tr>\n",
       "<tr><th style=\"text-align: right;\">collections</th><td style=\"text-align: left;\"><p><em>(Empty list)</em></p></td></tr>\n",
       "<tr><th style=\"text-align: right;\">complex_values</th><td style=\"text-align: left;\"><p><em>(Empty list)</em></p></td></tr>\n",
       "<tr><th style=\"text-align: right;\">constraints</th><td style=\"text-align: left;\"><p><em>(Empty list)</em></p></td></tr>\n",
       "<tr><th style=\"text-align: right;\">datatypes</th><td style=\"text-align: left;\"><ol start=\"0\" style=\"text-align: left;\">\n",
       "<li><img src=\"data:image/svg+xml;base64,PHN2ZyBiYXNlUHJvZmlsZT0iZnVsbCIgaGVpZ2h0PSIxMDAlIiB2ZXJzaW9uPSIxLjEiIHZpZXdCb3g9IjAgMCAxNSAxNSIgd2lkdGg9IjEwMCUiIHhtbG5zPSJodHRwOi8vd3d3LnczLm9yZy8yMDAwL3N2ZyIgeG1sbnM6ZXY9Imh0dHA6Ly93d3cudzMub3JnLzIwMDEveG1sLWV2ZW50cyIgeG1sbnM6eGxpbms9Imh0dHA6Ly93d3cudzMub3JnLzE5OTkveGxpbmsiPjxkZWZzPjxzeW1ib2wgaWQ9IkVudW1lcmF0aW9uU3ltYm9sIiB2aWV3Qm94PSIwIDAgMjUgMjAiPjxsaW5lYXJHcmFkaWVudCBpZD0iRW51bWVyYXRpb25TeW1ib2wtZ3JhZGllbnQiIHgxPSIwIiB4Mj0iMCIgeTE9IjAiIHkyPSIxIj48c3RvcCBvZmZzZXQ9IjAuMCIgc3RvcC1jb2xvcj0iI2NmYTZhNSIgc3RvcC1vcGFjaXR5PSIxIiAvPjxzdG9wIG9mZnNldD0iMS4wIiBzdG9wLWNvbG9yPSIjZjFlMmUzIiBzdG9wLW9wYWNpdHk9IjEiIC8+PC9saW5lYXJHcmFkaWVudD48ZyBzdHJva2U9IiM5MTM3MzQiPjxyZWN0IGZpbGw9IiNlZWRjZGQiIGhlaWdodD0iMy41IiB3aWR0aD0iMTUiIHg9IjUiIHk9IjEzIiAvPjxyZWN0IGZpbGw9InVybCgjRW51bWVyYXRpb25TeW1ib2wtZ3JhZGllbnQpIiBoZWlnaHQ9IjkiIHdpZHRoPSIxNSIgeD0iNSIgeT0iNCIgLz48L2c+PGcgc3Ryb2tlPSIjMDAwIiBzdHJva2Utd2lkdGg9IjEuNSIgdHJhbnNmb3JtPSJzY2FsZSgwLjMsMC4zKSB0cmFuc2xhdGUoMjAsIDE2KSI+PHBhdGggZD0iTSA0LjI1IDE3LjQgTCAwIDE3LjYgTCAwIDE1LjYgTCAzLjM3NSAxNS40NzUgTCAzLjM3NSAyLjY1IEwgMC4yNSAyLjg3NSBMIDAuMjUgMSBMIDUuNjI1IDAgTCA1LjYyNSAxNS40NzUgTCA4LjUgMTUuNiBMIDguNSAxNy42IEwgNC4yNSAxNy40IFoiIC8+PHBhdGggZD0iTSAxMy4zNzUgMTUuNSBMIDI0LjYyNSAxNS41IEwgMjQuNjI1IDE3LjUgTCAxMS4xMjUgMTcuNSBMIDExLjEyNSA4LjcgTCAyMi4zNzUgNy40NSBMIDIyLjM3NSAyIEwgMTEuMzc1IDIgTCAxMS4zNzUgMCBMIDIyLjYyNSAwIEwgMjQuNjI1IDIgTCAyNC42MjUgOS4xMjUgTCAxMy4zNzUgMTAuMzc1IEwgMTMuMzc1IDE1LjUgWiIgdHJhbnNmb3JtPSJ0cmFuc2xhdGUoMSwgMykiIC8+PHBhdGggZD0iTSA0MC4zNzUgMTUuNSBMIDM4LjM3NSAxNy41IEwgMjYuODc1IDE3LjUgTCAyNi44NzUgMTUuNSBMIDM4LjEyNSAxNS41IEwgMzguMTI1IDkuNSBMIDI4LjM3NSA5LjUgTCAyOC4zNzUgNy41IEwgMzcuNjI1IDcuNSBMIDM3LjYyNSAyIEwgMjcuMTI1IDIgTCAyNy4xMjUgMCBMIDM3Ljg3NSAwIEwgMzkuODc1IDIgTCAzOS44NzUgNy4yNzUgTCAzOC40NSA4LjM1IEwgNDAuMzc1IDkuODUgTCA0MC4zNzUgMTUuNSBaIiB0cmFuc2Zvcm09InRyYW5zbGF0ZSgzLCA2KSIgLz48L2c+PC9zeW1ib2w+PC9kZWZzPjx1c2UgaGVpZ2h0PSIxNSIgd2lkdGg9IjE1IiB4PSIwIiB4bGluazpocmVmPSIjRW51bWVyYXRpb25TeW1ib2wiIHk9IjAiIC8+PC9zdmc+\" alt=\"Enumeration\" title=\"Enumeration\" width=\"15\" height=\"15\" style=\"display: inline-block\"> <a href=\"hlink://546cd75a-c7ac-4e07-9d2d-8a1f93d82419\">&quot;Wand Core&quot;</a> (546cd75a-c7ac-4e07-9d2d-8a1f93d82419)</li>\n",
       "<li><img src=\"data:image/svg+xml;base64,PHN2ZyBiYXNlUHJvZmlsZT0iZnVsbCIgaGVpZ2h0PSIxMDAlIiB2ZXJzaW9uPSIxLjEiIHZpZXdCb3g9IjAgMCAxNSAxNSIgd2lkdGg9IjEwMCUiIHhtbG5zPSJodHRwOi8vd3d3LnczLm9yZy8yMDAwL3N2ZyIgeG1sbnM6ZXY9Imh0dHA6Ly93d3cudzMub3JnLzIwMDEveG1sLWV2ZW50cyIgeG1sbnM6eGxpbms9Imh0dHA6Ly93d3cudzMub3JnLzE5OTkveGxpbmsiPjxkZWZzPjxzeW1ib2wgaWQ9IkVudW1lcmF0aW9uU3ltYm9sIiB2aWV3Qm94PSIwIDAgMjUgMjAiPjxsaW5lYXJHcmFkaWVudCBpZD0iRW51bWVyYXRpb25TeW1ib2wtZ3JhZGllbnQiIHgxPSIwIiB4Mj0iMCIgeTE9IjAiIHkyPSIxIj48c3RvcCBvZmZzZXQ9IjAuMCIgc3RvcC1jb2xvcj0iI2NmYTZhNSIgc3RvcC1vcGFjaXR5PSIxIiAvPjxzdG9wIG9mZnNldD0iMS4wIiBzdG9wLWNvbG9yPSIjZjFlMmUzIiBzdG9wLW9wYWNpdHk9IjEiIC8+PC9saW5lYXJHcmFkaWVudD48ZyBzdHJva2U9IiM5MTM3MzQiPjxyZWN0IGZpbGw9IiNlZWRjZGQiIGhlaWdodD0iMy41IiB3aWR0aD0iMTUiIHg9IjUiIHk9IjEzIiAvPjxyZWN0IGZpbGw9InVybCgjRW51bWVyYXRpb25TeW1ib2wtZ3JhZGllbnQpIiBoZWlnaHQ9IjkiIHdpZHRoPSIxNSIgeD0iNSIgeT0iNCIgLz48L2c+PGcgc3Ryb2tlPSIjMDAwIiBzdHJva2Utd2lkdGg9IjEuNSIgdHJhbnNmb3JtPSJzY2FsZSgwLjMsMC4zKSB0cmFuc2xhdGUoMjAsIDE2KSI+PHBhdGggZD0iTSA0LjI1IDE3LjQgTCAwIDE3LjYgTCAwIDE1LjYgTCAzLjM3NSAxNS40NzUgTCAzLjM3NSAyLjY1IEwgMC4yNSAyLjg3NSBMIDAuMjUgMSBMIDUuNjI1IDAgTCA1LjYyNSAxNS40NzUgTCA4LjUgMTUuNiBMIDguNSAxNy42IEwgNC4yNSAxNy40IFoiIC8+PHBhdGggZD0iTSAxMy4zNzUgMTUuNSBMIDI0LjYyNSAxNS41IEwgMjQuNjI1IDE3LjUgTCAxMS4xMjUgMTcuNSBMIDExLjEyNSA4LjcgTCAyMi4zNzUgNy40NSBMIDIyLjM3NSAyIEwgMTEuMzc1IDIgTCAxMS4zNzUgMCBMIDIyLjYyNSAwIEwgMjQuNjI1IDIgTCAyNC42MjUgOS4xMjUgTCAxMy4zNzUgMTAuMzc1IEwgMTMuMzc1IDE1LjUgWiIgdHJhbnNmb3JtPSJ0cmFuc2xhdGUoMSwgMykiIC8+PHBhdGggZD0iTSA0MC4zNzUgMTUuNSBMIDM4LjM3NSAxNy41IEwgMjYuODc1IDE3LjUgTCAyNi44NzUgMTUuNSBMIDM4LjEyNSAxNS41IEwgMzguMTI1IDkuNSBMIDI4LjM3NSA5LjUgTCAyOC4zNzUgNy41IEwgMzcuNjI1IDcuNSBMIDM3LjYyNSAyIEwgMjcuMTI1IDIgTCAyNy4xMjUgMCBMIDM3Ljg3NSAwIEwgMzkuODc1IDIgTCAzOS44NzUgNy4yNzUgTCAzOC40NSA4LjM1IEwgNDAuMzc1IDkuODUgTCA0MC4zNzUgMTUuNSBaIiB0cmFuc2Zvcm09InRyYW5zbGF0ZSgzLCA2KSIgLz48L2c+PC9zeW1ib2w+PC9kZWZzPjx1c2UgaGVpZ2h0PSIxNSIgd2lkdGg9IjE1IiB4PSIwIiB4bGluazpocmVmPSIjRW51bWVyYXRpb25TeW1ib2wiIHk9IjAiIC8+PC9zdmc+\" alt=\"Enumeration\" title=\"Enumeration\" width=\"15\" height=\"15\" style=\"display: inline-block\"> <a href=\"hlink://60314ce6-bc96-4b57-8965-7187241148ae\">&quot;Wand Wood&quot;</a> (60314ce6-bc96-4b57-8965-7187241148ae)</li>\n",
       "</ol></td></tr>\n",
       "<tr><th style=\"text-align: right;\">description</th><td style=\"text-align: left;\"></td></tr>\n",
       "<tr><th style=\"text-align: right;\">diagrams</th><td style=\"text-align: left;\"><ol start=\"0\" style=\"text-align: left;\">\n",
       "<li><b>[CDB] Harry&#39;s Wand</b> (uuid: _kqj3UF9REe2rko4oG1H6IQ)</li>\n",
       "</ol></td></tr>\n",
       "<tr><th style=\"text-align: right;\">enumerations</th><td style=\"text-align: left;\"><ol start=\"0\" style=\"text-align: left;\">\n",
       "<li><img src=\"data:image/svg+xml;base64,PHN2ZyBiYXNlUHJvZmlsZT0iZnVsbCIgaGVpZ2h0PSIxMDAlIiB2ZXJzaW9uPSIxLjEiIHZpZXdCb3g9IjAgMCAxNSAxNSIgd2lkdGg9IjEwMCUiIHhtbG5zPSJodHRwOi8vd3d3LnczLm9yZy8yMDAwL3N2ZyIgeG1sbnM6ZXY9Imh0dHA6Ly93d3cudzMub3JnLzIwMDEveG1sLWV2ZW50cyIgeG1sbnM6eGxpbms9Imh0dHA6Ly93d3cudzMub3JnLzE5OTkveGxpbmsiPjxkZWZzPjxzeW1ib2wgaWQ9IkVudW1lcmF0aW9uU3ltYm9sIiB2aWV3Qm94PSIwIDAgMjUgMjAiPjxsaW5lYXJHcmFkaWVudCBpZD0iRW51bWVyYXRpb25TeW1ib2wtZ3JhZGllbnQiIHgxPSIwIiB4Mj0iMCIgeTE9IjAiIHkyPSIxIj48c3RvcCBvZmZzZXQ9IjAuMCIgc3RvcC1jb2xvcj0iI2NmYTZhNSIgc3RvcC1vcGFjaXR5PSIxIiAvPjxzdG9wIG9mZnNldD0iMS4wIiBzdG9wLWNvbG9yPSIjZjFlMmUzIiBzdG9wLW9wYWNpdHk9IjEiIC8+PC9saW5lYXJHcmFkaWVudD48ZyBzdHJva2U9IiM5MTM3MzQiPjxyZWN0IGZpbGw9IiNlZWRjZGQiIGhlaWdodD0iMy41IiB3aWR0aD0iMTUiIHg9IjUiIHk9IjEzIiAvPjxyZWN0IGZpbGw9InVybCgjRW51bWVyYXRpb25TeW1ib2wtZ3JhZGllbnQpIiBoZWlnaHQ9IjkiIHdpZHRoPSIxNSIgeD0iNSIgeT0iNCIgLz48L2c+PGcgc3Ryb2tlPSIjMDAwIiBzdHJva2Utd2lkdGg9IjEuNSIgdHJhbnNmb3JtPSJzY2FsZSgwLjMsMC4zKSB0cmFuc2xhdGUoMjAsIDE2KSI+PHBhdGggZD0iTSA0LjI1IDE3LjQgTCAwIDE3LjYgTCAwIDE1LjYgTCAzLjM3NSAxNS40NzUgTCAzLjM3NSAyLjY1IEwgMC4yNSAyLjg3NSBMIDAuMjUgMSBMIDUuNjI1IDAgTCA1LjYyNSAxNS40NzUgTCA4LjUgMTUuNiBMIDguNSAxNy42IEwgNC4yNSAxNy40IFoiIC8+PHBhdGggZD0iTSAxMy4zNzUgMTUuNSBMIDI0LjYyNSAxNS41IEwgMjQuNjI1IDE3LjUgTCAxMS4xMjUgMTcuNSBMIDExLjEyNSA4LjcgTCAyMi4zNzUgNy40NSBMIDIyLjM3NSAyIEwgMTEuMzc1IDIgTCAxMS4zNzUgMCBMIDIyLjYyNSAwIEwgMjQuNjI1IDIgTCAyNC42MjUgOS4xMjUgTCAxMy4zNzUgMTAuMzc1IEwgMTMuMzc1IDE1LjUgWiIgdHJhbnNmb3JtPSJ0cmFuc2xhdGUoMSwgMykiIC8+PHBhdGggZD0iTSA0MC4zNzUgMTUuNSBMIDM4LjM3NSAxNy41IEwgMjYuODc1IDE3LjUgTCAyNi44NzUgMTUuNSBMIDM4LjEyNSAxNS41IEwgMzguMTI1IDkuNSBMIDI4LjM3NSA5LjUgTCAyOC4zNzUgNy41IEwgMzcuNjI1IDcuNSBMIDM3LjYyNSAyIEwgMjcuMTI1IDIgTCAyNy4xMjUgMCBMIDM3Ljg3NSAwIEwgMzkuODc1IDIgTCAzOS44NzUgNy4yNzUgTCAzOC40NSA4LjM1IEwgNDAuMzc1IDkuODUgTCA0MC4zNzUgMTUuNSBaIiB0cmFuc2Zvcm09InRyYW5zbGF0ZSgzLCA2KSIgLz48L2c+PC9zeW1ib2w+PC9kZWZzPjx1c2UgaGVpZ2h0PSIxNSIgd2lkdGg9IjE1IiB4PSIwIiB4bGluazpocmVmPSIjRW51bWVyYXRpb25TeW1ib2wiIHk9IjAiIC8+PC9zdmc+\" alt=\"Enumeration\" title=\"Enumeration\" width=\"15\" height=\"15\" style=\"display: inline-block\"> <a href=\"hlink://546cd75a-c7ac-4e07-9d2d-8a1f93d82419\">&quot;Wand Core&quot;</a> (546cd75a-c7ac-4e07-9d2d-8a1f93d82419)</li>\n",
       "<li><img src=\"data:image/svg+xml;base64,PHN2ZyBiYXNlUHJvZmlsZT0iZnVsbCIgaGVpZ2h0PSIxMDAlIiB2ZXJzaW9uPSIxLjEiIHZpZXdCb3g9IjAgMCAxNSAxNSIgd2lkdGg9IjEwMCUiIHhtbG5zPSJodHRwOi8vd3d3LnczLm9yZy8yMDAwL3N2ZyIgeG1sbnM6ZXY9Imh0dHA6Ly93d3cudzMub3JnLzIwMDEveG1sLWV2ZW50cyIgeG1sbnM6eGxpbms9Imh0dHA6Ly93d3cudzMub3JnLzE5OTkveGxpbmsiPjxkZWZzPjxzeW1ib2wgaWQ9IkVudW1lcmF0aW9uU3ltYm9sIiB2aWV3Qm94PSIwIDAgMjUgMjAiPjxsaW5lYXJHcmFkaWVudCBpZD0iRW51bWVyYXRpb25TeW1ib2wtZ3JhZGllbnQiIHgxPSIwIiB4Mj0iMCIgeTE9IjAiIHkyPSIxIj48c3RvcCBvZmZzZXQ9IjAuMCIgc3RvcC1jb2xvcj0iI2NmYTZhNSIgc3RvcC1vcGFjaXR5PSIxIiAvPjxzdG9wIG9mZnNldD0iMS4wIiBzdG9wLWNvbG9yPSIjZjFlMmUzIiBzdG9wLW9wYWNpdHk9IjEiIC8+PC9saW5lYXJHcmFkaWVudD48ZyBzdHJva2U9IiM5MTM3MzQiPjxyZWN0IGZpbGw9IiNlZWRjZGQiIGhlaWdodD0iMy41IiB3aWR0aD0iMTUiIHg9IjUiIHk9IjEzIiAvPjxyZWN0IGZpbGw9InVybCgjRW51bWVyYXRpb25TeW1ib2wtZ3JhZGllbnQpIiBoZWlnaHQ9IjkiIHdpZHRoPSIxNSIgeD0iNSIgeT0iNCIgLz48L2c+PGcgc3Ryb2tlPSIjMDAwIiBzdHJva2Utd2lkdGg9IjEuNSIgdHJhbnNmb3JtPSJzY2FsZSgwLjMsMC4zKSB0cmFuc2xhdGUoMjAsIDE2KSI+PHBhdGggZD0iTSA0LjI1IDE3LjQgTCAwIDE3LjYgTCAwIDE1LjYgTCAzLjM3NSAxNS40NzUgTCAzLjM3NSAyLjY1IEwgMC4yNSAyLjg3NSBMIDAuMjUgMSBMIDUuNjI1IDAgTCA1LjYyNSAxNS40NzUgTCA4LjUgMTUuNiBMIDguNSAxNy42IEwgNC4yNSAxNy40IFoiIC8+PHBhdGggZD0iTSAxMy4zNzUgMTUuNSBMIDI0LjYyNSAxNS41IEwgMjQuNjI1IDE3LjUgTCAxMS4xMjUgMTcuNSBMIDExLjEyNSA4LjcgTCAyMi4zNzUgNy40NSBMIDIyLjM3NSAyIEwgMTEuMzc1IDIgTCAxMS4zNzUgMCBMIDIyLjYyNSAwIEwgMjQuNjI1IDIgTCAyNC42MjUgOS4xMjUgTCAxMy4zNzUgMTAuMzc1IEwgMTMuMzc1IDE1LjUgWiIgdHJhbnNmb3JtPSJ0cmFuc2xhdGUoMSwgMykiIC8+PHBhdGggZD0iTSA0MC4zNzUgMTUuNSBMIDM4LjM3NSAxNy41IEwgMjYuODc1IDE3LjUgTCAyNi44NzUgMTUuNSBMIDM4LjEyNSAxNS41IEwgMzguMTI1IDkuNSBMIDI4LjM3NSA5LjUgTCAyOC4zNzUgNy41IEwgMzcuNjI1IDcuNSBMIDM3LjYyNSAyIEwgMjcuMTI1IDIgTCAyNy4xMjUgMCBMIDM3Ljg3NSAwIEwgMzkuODc1IDIgTCAzOS44NzUgNy4yNzUgTCAzOC40NSA4LjM1IEwgNDAuMzc1IDkuODUgTCA0MC4zNzUgMTUuNSBaIiB0cmFuc2Zvcm09InRyYW5zbGF0ZSgzLCA2KSIgLz48L2c+PC9zeW1ib2w+PC9kZWZzPjx1c2UgaGVpZ2h0PSIxNSIgd2lkdGg9IjE1IiB4PSIwIiB4bGluazpocmVmPSIjRW51bWVyYXRpb25TeW1ib2wiIHk9IjAiIC8+PC9zdmc+\" alt=\"Enumeration\" title=\"Enumeration\" width=\"15\" height=\"15\" style=\"display: inline-block\"> <a href=\"hlink://60314ce6-bc96-4b57-8965-7187241148ae\">&quot;Wand Wood&quot;</a> (60314ce6-bc96-4b57-8965-7187241148ae)</li>\n",
       "</ol></td></tr>\n",
       "<tr><th style=\"text-align: right;\">filtering_criteria</th><td style=\"text-align: left;\"><p><em>(Empty list)</em></p></td></tr>\n",
       "<tr><th style=\"text-align: right;\">layer</th><td style=\"text-align: left;\"><strong>LogicalArchitecture</strong> <a href=\"hlink://853cb005-cba0-489b-8fe3-bb694ad4543b\">&quot;Logical Architecture&quot;</a> (853cb005-cba0-489b-8fe3-bb694ad4543b)</td></tr>\n",
       "<tr><th style=\"text-align: right;\">name</th><td style=\"text-align: left;\">Data</td></tr>\n",
       "<tr><th style=\"text-align: right;\">owned_associations</th><td style=\"text-align: left;\"><p><em>(Empty list)</em></p></td></tr>\n",
       "<tr><th style=\"text-align: right;\">packages</th><td style=\"text-align: left;\"><ol start=\"0\" style=\"text-align: left;\">\n",
       "<li><strong>DataPkg</strong> <a href=\"hlink://880af86d-6fac-4fba-a559-2fffd036fa9a\">&quot;Wand Objects&quot;</a> (880af86d-6fac-4fba-a559-2fffd036fa9a)</li>\n",
       "</ol></td></tr>\n",
       "<tr><th style=\"text-align: right;\">parent</th><td style=\"text-align: left;\"><strong>LogicalArchitecture</strong> <a href=\"hlink://853cb005-cba0-489b-8fe3-bb694ad4543b\">&quot;Logical Architecture&quot;</a> (853cb005-cba0-489b-8fe3-bb694ad4543b)</td></tr>\n",
       "<tr><th style=\"text-align: right;\">progress_status</th><td style=\"text-align: left;\">NOT_SET</td></tr>\n",
       "<tr><th style=\"text-align: right;\">property_value_groups</th><td style=\"text-align: left;\"><p><em>(Empty list)</em></p></td></tr>\n",
       "<tr><th style=\"text-align: right;\">property_value_packages</th><td style=\"text-align: left;\"><p><em>(Empty list)</em></p></td></tr>\n",
       "<tr><th style=\"text-align: right;\">property_values</th><td style=\"text-align: left;\"><p><em>(Empty list)</em></p></td></tr>\n",
       "<tr><th style=\"text-align: right;\">pvmt</th><td style=\"text-align: left;\">Property Value Management for <strong>DataPkg</strong> <a href=\"hlink://39e99d4a-a32c-4b70-b4b6-d03fec612e17\">&quot;Data&quot;</a> (39e99d4a-a32c-4b70-b4b6-d03fec612e17)</td></tr>\n",
       "<tr><th style=\"text-align: right;\">requirements</th><td style=\"text-align: left;\"><p><em>(Empty list)</em></p></td></tr>\n",
       "<tr><th style=\"text-align: right;\">sid</th><td style=\"text-align: left;\"></td></tr>\n",
       "<tr><th style=\"text-align: right;\">summary</th><td style=\"text-align: left;\"></td></tr>\n",
       "<tr><th style=\"text-align: right;\">traces</th><td style=\"text-align: left;\"><p><em>(Empty list)</em></p></td></tr>\n",
       "<tr><th style=\"text-align: right;\">unions</th><td style=\"text-align: left;\"><p><em>(Empty list)</em></p></td></tr>\n",
       "<tr><th style=\"text-align: right;\">uuid</th><td style=\"text-align: left;\">39e99d4a-a32c-4b70-b4b6-d03fec612e17</td></tr>\n",
       "<tr><th style=\"text-align: right;\">validation</th><td style=\"text-align: left;\"><em>&lt;capellambse.extensions.validation._validate.ElementValidation object at 0x72bcbc33e8a0&gt;</em></td></tr>\n",
       "<tr><th style=\"text-align: right;\">visible_on_diagrams</th><td style=\"text-align: left;\"><p><em>(Empty list)</em></p></td></tr>\n",
       "<tr><th style=\"text-align: right;\">xtype</th><td style=\"text-align: left;\">org.polarsys.capella.core.data.information:DataPkg</td></tr>\n",
       "</table>"
      ],
      "text/plain": [
       "<DataPkg 'Data' (39e99d4a-a32c-4b70-b4b6-d03fec612e17)>\n",
       ".applied_property_value_groups = []\n",
       ".applied_property_values = []\n",
       ".classes = [0] <Class 'Wand' (c710f1c2-ede6-444e-9e2b-0ff30d7fd040)>\n",
       "           [1] <Class 'Class 2' (1adf8097-18f9-474e-b136-6c845fc6d9e9)>\n",
       "           [2] <Class 'Branch' (2b34c799-769c-42f2-8a1b-4533dba209a0)>\n",
       ".collections = []\n",
       ".complex_values = []\n",
       ".constraints = []\n",
       ".datatypes = [0] <Enumeration 'Wand Core' (546cd75a-c7ac-4e07-9d2d-8a1f93d82419)>\n",
       "             [1] <Enumeration 'Wand Wood' (60314ce6-bc96-4b57-8965-7187241148ae)>\n",
       ".description = Markup('')\n",
       ".diagrams = [0] <Diagram \"[CDB] Harry's Wand\">\n",
       ".enumerations = [0] <Enumeration 'Wand Core' (546cd75a-c7ac-4e07-9d2d-8a1f93d82419)>\n",
       "                [1] <Enumeration 'Wand Wood' (60314ce6-bc96-4b57-8965-7187241148ae)>\n",
       ".filtering_criteria = []\n",
       ".layer = <LogicalArchitecture 'Logical Architecture' (853cb005-cba0-489b-8fe3-bb694ad4543b)>\n",
       ".name = 'Data'\n",
       ".owned_associations = []\n",
       ".packages = [0] <DataPkg 'Wand Objects' (880af86d-6fac-4fba-a559-2fffd036fa9a)>\n",
       ".parent = <LogicalArchitecture 'Logical Architecture' (853cb005-cba0-489b-8fe3-bb694ad4543b)>\n",
       ".progress_status = 'NOT_SET'\n",
       ".property_value_groups = []\n",
       ".property_value_packages = []\n",
       ".property_values = []\n",
       ".pvmt = <Property Value Management for <DataPkg 'Data' (39e99d4a-a32c-4b70-b4b6-d03fec612e17)>>\n",
       ".requirements = []\n",
       ".sid = ''\n",
       ".summary = ''\n",
       ".traces = []\n",
       ".unions = []\n",
       ".uuid = '39e99d4a-a32c-4b70-b4b6-d03fec612e17'\n",
       ".validation = <capellambse.extensions.validation._validate.ElementValidation object at 0x72bcc431e4e0>\n",
       ".visible_on_diagrams = []\n",
       ".xtype = 'org.polarsys.capella.core.data.information:DataPkg'"
      ]
     },
     "execution_count": 2,
     "metadata": {},
     "output_type": "execute_result"
    }
   ],
   "source": [
    "model.la.data_package"
   ]
  },
  {
   "cell_type": "markdown",
   "id": "e01263c2",
   "metadata": {},
   "source": [
    "For Enumerations we can see the Literals assigned to it. We can see both the literals that have been inherited by the specialized super class, and the literals that are defined within this model element (own_literals)."
   ]
  },
  {
   "cell_type": "code",
   "execution_count": 3,
   "id": "abcd8693",
   "metadata": {},
   "outputs": [
    {
     "data": {
      "text/html": [
       "<h1><img src=\"data:image/svg+xml;base64,PHN2ZyBiYXNlUHJvZmlsZT0iZnVsbCIgaGVpZ2h0PSIxMDAlIiB2ZXJzaW9uPSIxLjEiIHZpZXdCb3g9IjAgMCAyMCAyMCIgd2lkdGg9IjEwMCUiIHhtbG5zPSJodHRwOi8vd3d3LnczLm9yZy8yMDAwL3N2ZyIgeG1sbnM6ZXY9Imh0dHA6Ly93d3cudzMub3JnLzIwMDEveG1sLWV2ZW50cyIgeG1sbnM6eGxpbms9Imh0dHA6Ly93d3cudzMub3JnLzE5OTkveGxpbmsiPjxkZWZzPjxzeW1ib2wgaWQ9IkVudW1lcmF0aW9uU3ltYm9sIiB2aWV3Qm94PSIwIDAgMjUgMjAiPjxsaW5lYXJHcmFkaWVudCBpZD0iRW51bWVyYXRpb25TeW1ib2wtZ3JhZGllbnQiIHgxPSIwIiB4Mj0iMCIgeTE9IjAiIHkyPSIxIj48c3RvcCBvZmZzZXQ9IjAuMCIgc3RvcC1jb2xvcj0iI2NmYTZhNSIgc3RvcC1vcGFjaXR5PSIxIiAvPjxzdG9wIG9mZnNldD0iMS4wIiBzdG9wLWNvbG9yPSIjZjFlMmUzIiBzdG9wLW9wYWNpdHk9IjEiIC8+PC9saW5lYXJHcmFkaWVudD48ZyBzdHJva2U9IiM5MTM3MzQiPjxyZWN0IGZpbGw9IiNlZWRjZGQiIGhlaWdodD0iMy41IiB3aWR0aD0iMTUiIHg9IjUiIHk9IjEzIiAvPjxyZWN0IGZpbGw9InVybCgjRW51bWVyYXRpb25TeW1ib2wtZ3JhZGllbnQpIiBoZWlnaHQ9IjkiIHdpZHRoPSIxNSIgeD0iNSIgeT0iNCIgLz48L2c+PGcgc3Ryb2tlPSIjMDAwIiBzdHJva2Utd2lkdGg9IjEuNSIgdHJhbnNmb3JtPSJzY2FsZSgwLjMsMC4zKSB0cmFuc2xhdGUoMjAsIDE2KSI+PHBhdGggZD0iTSA0LjI1IDE3LjQgTCAwIDE3LjYgTCAwIDE1LjYgTCAzLjM3NSAxNS40NzUgTCAzLjM3NSAyLjY1IEwgMC4yNSAyLjg3NSBMIDAuMjUgMSBMIDUuNjI1IDAgTCA1LjYyNSAxNS40NzUgTCA4LjUgMTUuNiBMIDguNSAxNy42IEwgNC4yNSAxNy40IFoiIC8+PHBhdGggZD0iTSAxMy4zNzUgMTUuNSBMIDI0LjYyNSAxNS41IEwgMjQuNjI1IDE3LjUgTCAxMS4xMjUgMTcuNSBMIDExLjEyNSA4LjcgTCAyMi4zNzUgNy40NSBMIDIyLjM3NSAyIEwgMTEuMzc1IDIgTCAxMS4zNzUgMCBMIDIyLjYyNSAwIEwgMjQuNjI1IDIgTCAyNC42MjUgOS4xMjUgTCAxMy4zNzUgMTAuMzc1IEwgMTMuMzc1IDE1LjUgWiIgdHJhbnNmb3JtPSJ0cmFuc2xhdGUoMSwgMykiIC8+PHBhdGggZD0iTSA0MC4zNzUgMTUuNSBMIDM4LjM3NSAxNy41IEwgMjYuODc1IDE3LjUgTCAyNi44NzUgMTUuNSBMIDM4LjEyNSAxNS41IEwgMzguMTI1IDkuNSBMIDI4LjM3NSA5LjUgTCAyOC4zNzUgNy41IEwgMzcuNjI1IDcuNSBMIDM3LjYyNSAyIEwgMjcuMTI1IDIgTCAyNy4xMjUgMCBMIDM3Ljg3NSAwIEwgMzkuODc1IDIgTCAzOS44NzUgNy4yNzUgTCAzOC40NSA4LjM1IEwgNDAuMzc1IDkuODUgTCA0MC4zNzUgMTUuNSBaIiB0cmFuc2Zvcm09InRyYW5zbGF0ZSgzLCA2KSIgLz48L2c+PC9zeW1ib2w+PC9kZWZzPjx1c2UgaGVpZ2h0PSIyMCIgd2lkdGg9IjIwIiB4PSIwIiB4bGluazpocmVmPSIjRW51bWVyYXRpb25TeW1ib2wiIHk9IjAiIC8+PC9zdmc+\" alt=\"\" width=\"20\" height=\"20\"> Wand Core <span style=\"font-size: 70%;\">(org.polarsys.capella.core.data.information.datatype:Enumeration)</span></h1>\n",
       "<table>\n",
       "<tr><th style=\"text-align: right;\">applied_property_value_groups</th><td style=\"text-align: left;\"><p><em>(Empty list)</em></p></td></tr>\n",
       "<tr><th style=\"text-align: right;\">applied_property_values</th><td style=\"text-align: left;\"><p><em>(Empty list)</em></p></td></tr>\n",
       "<tr><th style=\"text-align: right;\">constraints</th><td style=\"text-align: left;\"><p><em>(Empty list)</em></p></td></tr>\n",
       "<tr><th style=\"text-align: right;\">description</th><td style=\"text-align: left;\"></td></tr>\n",
       "<tr><th style=\"text-align: right;\">diagrams</th><td style=\"text-align: left;\"><p><em>(Empty list)</em></p></td></tr>\n",
       "<tr><th style=\"text-align: right;\">domain_type</th><td style=\"text-align: left;\"><em>None</em></td></tr>\n",
       "<tr><th style=\"text-align: right;\">filtering_criteria</th><td style=\"text-align: left;\"><p><em>(Empty list)</em></p></td></tr>\n",
       "<tr><th style=\"text-align: right;\">is_discrete</th><td style=\"text-align: left;\"><em>False</em></td></tr>\n",
       "<tr><th style=\"text-align: right;\">layer</th><td style=\"text-align: left;\"><strong>LogicalArchitecture</strong> <a href=\"hlink://853cb005-cba0-489b-8fe3-bb694ad4543b\">&quot;Logical Architecture&quot;</a> (853cb005-cba0-489b-8fe3-bb694ad4543b)</td></tr>\n",
       "<tr><th style=\"text-align: right;\">literals</th><td style=\"text-align: left;\"><ol start=\"0\" style=\"text-align: left;\">\n",
       "<li><strong>EnumerationLiteral</strong> <a href=\"hlink://79263437-b45d-410d-a264-8aa28d7574d1\">&quot;Unicorn Hair&quot;</a>: None (79263437-b45d-410d-a264-8aa28d7574d1)</li>\n",
       "<li><strong>EnumerationLiteral</strong> <a href=\"hlink://6bb9876c-f3a7-4d59-a6d1-819372368fa0\">&quot;Dragon Heartstring&quot;</a>: None (6bb9876c-f3a7-4d59-a6d1-819372368fa0)</li>\n",
       "<li><strong>EnumerationLiteral</strong> <a href=\"hlink://492fd9ca-88cb-4e9d-b92e-df14a1c1543b\">&quot;Pheonix Feather&quot;</a>: None (492fd9ca-88cb-4e9d-b92e-df14a1c1543b)</li>\n",
       "<li><strong>EnumerationLiteral</strong> <a href=\"hlink://1e73d13b-1c26-4537-834d-e467f993befe\">&quot;Thestral Tail-Hair&quot;</a>: None (1e73d13b-1c26-4537-834d-e467f993befe)</li>\n",
       "</ol></td></tr>\n",
       "<tr><th style=\"text-align: right;\">max_inclusive</th><td style=\"text-align: left;\"><em>False</em></td></tr>\n",
       "<tr><th style=\"text-align: right;\">min_inclusive</th><td style=\"text-align: left;\"><em>False</em></td></tr>\n",
       "<tr><th style=\"text-align: right;\">name</th><td style=\"text-align: left;\">Wand Core</td></tr>\n",
       "<tr><th style=\"text-align: right;\">owned_literals</th><td style=\"text-align: left;\"><ol start=\"0\" style=\"text-align: left;\">\n",
       "<li><strong>EnumerationLiteral</strong> <a href=\"hlink://79263437-b45d-410d-a264-8aa28d7574d1\">&quot;Unicorn Hair&quot;</a>: None (79263437-b45d-410d-a264-8aa28d7574d1)</li>\n",
       "<li><strong>EnumerationLiteral</strong> <a href=\"hlink://6bb9876c-f3a7-4d59-a6d1-819372368fa0\">&quot;Dragon Heartstring&quot;</a>: None (6bb9876c-f3a7-4d59-a6d1-819372368fa0)</li>\n",
       "<li><strong>EnumerationLiteral</strong> <a href=\"hlink://492fd9ca-88cb-4e9d-b92e-df14a1c1543b\">&quot;Pheonix Feather&quot;</a>: None (492fd9ca-88cb-4e9d-b92e-df14a1c1543b)</li>\n",
       "<li><strong>EnumerationLiteral</strong> <a href=\"hlink://1e73d13b-1c26-4537-834d-e467f993befe\">&quot;Thestral Tail-Hair&quot;</a>: None (1e73d13b-1c26-4537-834d-e467f993befe)</li>\n",
       "</ol></td></tr>\n",
       "<tr><th style=\"text-align: right;\">parent</th><td style=\"text-align: left;\"><strong>DataPkg</strong> <a href=\"hlink://39e99d4a-a32c-4b70-b4b6-d03fec612e17\">&quot;Data&quot;</a> (39e99d4a-a32c-4b70-b4b6-d03fec612e17)</td></tr>\n",
       "<tr><th style=\"text-align: right;\">pattern</th><td style=\"text-align: left;\"></td></tr>\n",
       "<tr><th style=\"text-align: right;\">progress_status</th><td style=\"text-align: left;\">NOT_SET</td></tr>\n",
       "<tr><th style=\"text-align: right;\">property_value_groups</th><td style=\"text-align: left;\"><p><em>(Empty list)</em></p></td></tr>\n",
       "<tr><th style=\"text-align: right;\">property_value_packages</th><td style=\"text-align: left;\"><p><em>(Empty list)</em></p></td></tr>\n",
       "<tr><th style=\"text-align: right;\">property_values</th><td style=\"text-align: left;\"><p><em>(Empty list)</em></p></td></tr>\n",
       "<tr><th style=\"text-align: right;\">pvmt</th><td style=\"text-align: left;\">Property Value Management for <img src=\"data:image/svg+xml;base64,PHN2ZyBiYXNlUHJvZmlsZT0iZnVsbCIgaGVpZ2h0PSIxMDAlIiB2ZXJzaW9uPSIxLjEiIHZpZXdCb3g9IjAgMCAxNSAxNSIgd2lkdGg9IjEwMCUiIHhtbG5zPSJodHRwOi8vd3d3LnczLm9yZy8yMDAwL3N2ZyIgeG1sbnM6ZXY9Imh0dHA6Ly93d3cudzMub3JnLzIwMDEveG1sLWV2ZW50cyIgeG1sbnM6eGxpbms9Imh0dHA6Ly93d3cudzMub3JnLzE5OTkveGxpbmsiPjxkZWZzPjxzeW1ib2wgaWQ9IkVudW1lcmF0aW9uU3ltYm9sIiB2aWV3Qm94PSIwIDAgMjUgMjAiPjxsaW5lYXJHcmFkaWVudCBpZD0iRW51bWVyYXRpb25TeW1ib2wtZ3JhZGllbnQiIHgxPSIwIiB4Mj0iMCIgeTE9IjAiIHkyPSIxIj48c3RvcCBvZmZzZXQ9IjAuMCIgc3RvcC1jb2xvcj0iI2NmYTZhNSIgc3RvcC1vcGFjaXR5PSIxIiAvPjxzdG9wIG9mZnNldD0iMS4wIiBzdG9wLWNvbG9yPSIjZjFlMmUzIiBzdG9wLW9wYWNpdHk9IjEiIC8+PC9saW5lYXJHcmFkaWVudD48ZyBzdHJva2U9IiM5MTM3MzQiPjxyZWN0IGZpbGw9IiNlZWRjZGQiIGhlaWdodD0iMy41IiB3aWR0aD0iMTUiIHg9IjUiIHk9IjEzIiAvPjxyZWN0IGZpbGw9InVybCgjRW51bWVyYXRpb25TeW1ib2wtZ3JhZGllbnQpIiBoZWlnaHQ9IjkiIHdpZHRoPSIxNSIgeD0iNSIgeT0iNCIgLz48L2c+PGcgc3Ryb2tlPSIjMDAwIiBzdHJva2Utd2lkdGg9IjEuNSIgdHJhbnNmb3JtPSJzY2FsZSgwLjMsMC4zKSB0cmFuc2xhdGUoMjAsIDE2KSI+PHBhdGggZD0iTSA0LjI1IDE3LjQgTCAwIDE3LjYgTCAwIDE1LjYgTCAzLjM3NSAxNS40NzUgTCAzLjM3NSAyLjY1IEwgMC4yNSAyLjg3NSBMIDAuMjUgMSBMIDUuNjI1IDAgTCA1LjYyNSAxNS40NzUgTCA4LjUgMTUuNiBMIDguNSAxNy42IEwgNC4yNSAxNy40IFoiIC8+PHBhdGggZD0iTSAxMy4zNzUgMTUuNSBMIDI0LjYyNSAxNS41IEwgMjQuNjI1IDE3LjUgTCAxMS4xMjUgMTcuNSBMIDExLjEyNSA4LjcgTCAyMi4zNzUgNy40NSBMIDIyLjM3NSAyIEwgMTEuMzc1IDIgTCAxMS4zNzUgMCBMIDIyLjYyNSAwIEwgMjQuNjI1IDIgTCAyNC42MjUgOS4xMjUgTCAxMy4zNzUgMTAuMzc1IEwgMTMuMzc1IDE1LjUgWiIgdHJhbnNmb3JtPSJ0cmFuc2xhdGUoMSwgMykiIC8+PHBhdGggZD0iTSA0MC4zNzUgMTUuNSBMIDM4LjM3NSAxNy41IEwgMjYuODc1IDE3LjUgTCAyNi44NzUgMTUuNSBMIDM4LjEyNSAxNS41IEwgMzguMTI1IDkuNSBMIDI4LjM3NSA5LjUgTCAyOC4zNzUgNy41IEwgMzcuNjI1IDcuNSBMIDM3LjYyNSAyIEwgMjcuMTI1IDIgTCAyNy4xMjUgMCBMIDM3Ljg3NSAwIEwgMzkuODc1IDIgTCAzOS44NzUgNy4yNzUgTCAzOC40NSA4LjM1IEwgNDAuMzc1IDkuODUgTCA0MC4zNzUgMTUuNSBaIiB0cmFuc2Zvcm09InRyYW5zbGF0ZSgzLCA2KSIgLz48L2c+PC9zeW1ib2w+PC9kZWZzPjx1c2UgaGVpZ2h0PSIxNSIgd2lkdGg9IjE1IiB4PSIwIiB4bGluazpocmVmPSIjRW51bWVyYXRpb25TeW1ib2wiIHk9IjAiIC8+PC9zdmc+\" alt=\"Enumeration\" title=\"Enumeration\" width=\"15\" height=\"15\" style=\"display: inline-block\"> <a href=\"hlink://546cd75a-c7ac-4e07-9d2d-8a1f93d82419\">&quot;Wand Core&quot;</a> (546cd75a-c7ac-4e07-9d2d-8a1f93d82419)</td></tr>\n",
       "<tr><th style=\"text-align: right;\">requirements</th><td style=\"text-align: left;\"><p><em>(Empty list)</em></p></td></tr>\n",
       "<tr><th style=\"text-align: right;\">sid</th><td style=\"text-align: left;\"></td></tr>\n",
       "<tr><th style=\"text-align: right;\">sub</th><td style=\"text-align: left;\"><em>Backreference to Enumeration - omitted: can be slow to compute. Display this property directly to show.</em></td></tr>\n",
       "<tr><th style=\"text-align: right;\">summary</th><td style=\"text-align: left;\"></td></tr>\n",
       "<tr><th style=\"text-align: right;\">super</th><td style=\"text-align: left;\"><em>None</em></td></tr>\n",
       "<tr><th style=\"text-align: right;\">traces</th><td style=\"text-align: left;\"><p><em>(Empty list)</em></p></td></tr>\n",
       "<tr><th style=\"text-align: right;\">uuid</th><td style=\"text-align: left;\">546cd75a-c7ac-4e07-9d2d-8a1f93d82419</td></tr>\n",
       "<tr><th style=\"text-align: right;\">validation</th><td style=\"text-align: left;\"><em>&lt;capellambse.extensions.validation._validate.ElementValidation object at 0x72bcc431e4e0&gt;</em></td></tr>\n",
       "<tr><th style=\"text-align: right;\">visibility</th><td style=\"text-align: left;\"><em>&lt;VisibilityKind.UNSET: &#39;UNSET&#39;&gt;</em></td></tr>\n",
       "<tr><th style=\"text-align: right;\">visible_on_diagrams</th><td style=\"text-align: left;\"><ol start=\"0\" style=\"text-align: left;\">\n",
       "<li><b>[CDB] Harry&#39;s Wand</b> (uuid: _kqj3UF9REe2rko4oG1H6IQ)</li>\n",
       "</ol></td></tr>\n",
       "<tr><th style=\"text-align: right;\">xtype</th><td style=\"text-align: left;\">org.polarsys.capella.core.data.information.datatype:Enumeration</td></tr>\n",
       "</table>"
      ],
      "text/plain": [
       "<Enumeration 'Wand Core' (546cd75a-c7ac-4e07-9d2d-8a1f93d82419)>\n",
       ".applied_property_value_groups = []\n",
       ".applied_property_values = []\n",
       ".constraints = []\n",
       ".description = Markup('')\n",
       ".diagrams = []\n",
       ".domain_type = None\n",
       ".filtering_criteria = []\n",
       ".is_discrete = False\n",
       ".layer = <LogicalArchitecture 'Logical Architecture' (853cb005-cba0-489b-8fe3-bb694ad4543b)>\n",
       ".literals = [0] <EnumerationLiteral 'Unicorn Hair' (79263437-b45d-410d-a264-8aa28d7574d1)>\n",
       "            [1] <EnumerationLiteral 'Dragon Heartstring' (6bb9876c-f3a7-4d59-a6d1-819372368fa0)>\n",
       "            [2] <EnumerationLiteral 'Pheonix Feather' (492fd9ca-88cb-4e9d-b92e-df14a1c1543b)>\n",
       "            [3] <EnumerationLiteral 'Thestral Tail-Hair' (1e73d13b-1c26-4537-834d-e467f993befe)>\n",
       ".max_inclusive = False\n",
       ".min_inclusive = False\n",
       ".name = 'Wand Core'\n",
       ".owned_literals = [0] <EnumerationLiteral 'Unicorn Hair' (79263437-b45d-410d-a264-8aa28d7574d1)>\n",
       "                  [1] <EnumerationLiteral 'Dragon Heartstring' (6bb9876c-f3a7-4d59-a6d1-819372368fa0)>\n",
       "                  [2] <EnumerationLiteral 'Pheonix Feather' (492fd9ca-88cb-4e9d-b92e-df14a1c1543b)>\n",
       "                  [3] <EnumerationLiteral 'Thestral Tail-Hair' (1e73d13b-1c26-4537-834d-e467f993befe)>\n",
       ".parent = <DataPkg 'Data' (39e99d4a-a32c-4b70-b4b6-d03fec612e17)>\n",
       ".pattern = ''\n",
       ".progress_status = 'NOT_SET'\n",
       ".property_value_groups = []\n",
       ".property_value_packages = []\n",
       ".property_values = []\n",
       ".pvmt = <Property Value Management for <Enumeration 'Wand Core' (546cd75a-c7ac-4e07-9d2d-8a1f93d82419)>>\n",
       ".requirements = []\n",
       ".sid = ''\n",
       ".sub = ... # backreference to Enumeration - omitted: can be slow to compute\n",
       ".summary = ''\n",
       ".super = None\n",
       ".traces = []\n",
       ".uuid = '546cd75a-c7ac-4e07-9d2d-8a1f93d82419'\n",
       ".validation = <capellambse.extensions.validation._validate.ElementValidation object at 0x72bcc431ed50>\n",
       ".visibility = <VisibilityKind.UNSET: 'UNSET'>\n",
       ".visible_on_diagrams = [0] <Diagram \"[CDB] Harry's Wand\">\n",
       ".xtype = 'org.polarsys.capella.core.data.information.datatype:Enumeration'"
      ]
     },
     "execution_count": 3,
     "metadata": {},
     "output_type": "execute_result"
    }
   ],
   "source": [
    "model.la.data_package.enumerations[0]"
   ]
  },
  {
   "cell_type": "markdown",
   "id": "dfcbe9cf",
   "metadata": {},
   "source": [
    "Let's do the same for a class. Again, we can see the properties of the super class and the properties of the own model element.\n",
    "\n",
    "![Harry's Wand](../_static/img/harrys_wand.png)"
   ]
  },
  {
   "cell_type": "code",
   "execution_count": 4,
   "id": "a968821f",
   "metadata": {},
   "outputs": [
    {
     "data": {
      "text/html": [
       "<h1><img src=\"data:image/svg+xml;base64,PHN2ZyBiYXNlUHJvZmlsZT0iZnVsbCIgaGVpZ2h0PSIxMDAlIiB2ZXJzaW9uPSIxLjEiIHZpZXdCb3g9IjAgMCAyMCAyMCIgd2lkdGg9IjEwMCUiIHhtbG5zPSJodHRwOi8vd3d3LnczLm9yZy8yMDAwL3N2ZyIgeG1sbnM6ZXY9Imh0dHA6Ly93d3cudzMub3JnLzIwMDEveG1sLWV2ZW50cyIgeG1sbnM6eGxpbms9Imh0dHA6Ly93d3cudzMub3JnLzE5OTkveGxpbmsiPjxkZWZzPjxzeW1ib2wgaWQ9IkNsYXNzU3ltYm9sIiB2aWV3Qm94PSIwIDAgMjUgMjUiPjxsaW5lYXJHcmFkaWVudCBpZD0iQ2xhc3NTeW1ib2wtZ3JhZGllbnQiIHgxPSIwIiB4Mj0iMCIgeTE9IjAiIHkyPSIxIj48c3RvcCBvZmZzZXQ9IjAuMCIgc3RvcC1jb2xvcj0iI2NmYTZhNSIgc3RvcC1vcGFjaXR5PSIxIiAvPjxzdG9wIG9mZnNldD0iMS4wIiBzdG9wLWNvbG9yPSIjZjFlMmUzIiBzdG9wLW9wYWNpdHk9IjEiIC8+PC9saW5lYXJHcmFkaWVudD48ZyBzdHJva2U9IiM5MTM3MzQiPjxyZWN0IGZpbGw9IiNlZWRjZGQiIGhlaWdodD0iMyIgd2lkdGg9IjE1IiB4PSI1IiB5PSIxNyIgLz48cmVjdCBmaWxsPSIjZWVkY2RkIiBoZWlnaHQ9IjMiIHdpZHRoPSIxNSIgeD0iNSIgeT0iMTQiIC8+PHJlY3QgZmlsbD0idXJsKCNDbGFzc1N5bWJvbC1ncmFkaWVudCkiIGhlaWdodD0iMTAiIHdpZHRoPSIxNSIgeD0iNSIgeT0iNCIgLz48L2c+PC9zeW1ib2w+PC9kZWZzPjx1c2UgaGVpZ2h0PSIyMCIgd2lkdGg9IjIwIiB4PSIwIiB4bGluazpocmVmPSIjQ2xhc3NTeW1ib2wiIHk9IjAiIC8+PC9zdmc+\" alt=\"\" width=\"20\" height=\"20\"> Wand <span style=\"font-size: 70%;\">(org.polarsys.capella.core.data.information:Class)</span></h1>\n",
       "<table>\n",
       "<tr><th style=\"text-align: right;\">applied_property_value_groups</th><td style=\"text-align: left;\"><p><em>(Empty list)</em></p></td></tr>\n",
       "<tr><th style=\"text-align: right;\">applied_property_values</th><td style=\"text-align: left;\"><p><em>(Empty list)</em></p></td></tr>\n",
       "<tr><th style=\"text-align: right;\">constraints</th><td style=\"text-align: left;\"><p><em>(Empty list)</em></p></td></tr>\n",
       "<tr><th style=\"text-align: right;\">description</th><td style=\"text-align: left;\"></td></tr>\n",
       "<tr><th style=\"text-align: right;\">diagrams</th><td style=\"text-align: left;\"><p><em>(Empty list)</em></p></td></tr>\n",
       "<tr><th style=\"text-align: right;\">filtering_criteria</th><td style=\"text-align: left;\"><p><em>(Empty list)</em></p></td></tr>\n",
       "<tr><th style=\"text-align: right;\">generalizations</th><td style=\"text-align: left;\"><ol start=\"0\" style=\"text-align: left;\">\n",
       "<li><a href=\"hlink://7b66d8fb-3960-40c7-85c6-1738aee234e5\"><strong>Generalization</strong></a> (7b66d8fb-3960-40c7-85c6-1738aee234e5)</li>\n",
       "</ol></td></tr>\n",
       "<tr><th style=\"text-align: right;\">is_abstract</th><td style=\"text-align: left;\"><em>False</em></td></tr>\n",
       "<tr><th style=\"text-align: right;\">is_final</th><td style=\"text-align: left;\"><em>False</em></td></tr>\n",
       "<tr><th style=\"text-align: right;\">is_primitive</th><td style=\"text-align: left;\"><em>False</em></td></tr>\n",
       "<tr><th style=\"text-align: right;\">layer</th><td style=\"text-align: left;\"><strong>LogicalArchitecture</strong> <a href=\"hlink://853cb005-cba0-489b-8fe3-bb694ad4543b\">&quot;Logical Architecture&quot;</a> (853cb005-cba0-489b-8fe3-bb694ad4543b)</td></tr>\n",
       "<tr><th style=\"text-align: right;\">name</th><td style=\"text-align: left;\">Wand</td></tr>\n",
       "<tr><th style=\"text-align: right;\">owned_properties</th><td style=\"text-align: left;\"><ol start=\"0\" style=\"text-align: left;\">\n",
       "<li><strong>Property</strong> <a href=\"hlink://9b1f6d9c-58d6-4e5e-a0f1-822cb5440a51\">&quot;owner&quot;</a> (9b1f6d9c-58d6-4e5e-a0f1-822cb5440a51)</li>\n",
       "<li><strong>Property</strong> <a href=\"hlink://32f70910-a1fd-4ec9-8d22-4c585ceaf7b9\">&quot;core&quot;</a> (32f70910-a1fd-4ec9-8d22-4c585ceaf7b9)</li>\n",
       "<li><strong>Property</strong> <a href=\"hlink://df884a71-e774-49e1-8aee-0a675179c647\">&quot;wood&quot;</a> (df884a71-e774-49e1-8aee-0a675179c647)</li>\n",
       "</ol></td></tr>\n",
       "<tr><th style=\"text-align: right;\">parent</th><td style=\"text-align: left;\"><strong>DataPkg</strong> <a href=\"hlink://39e99d4a-a32c-4b70-b4b6-d03fec612e17\">&quot;Data&quot;</a> (39e99d4a-a32c-4b70-b4b6-d03fec612e17)</td></tr>\n",
       "<tr><th style=\"text-align: right;\">progress_status</th><td style=\"text-align: left;\">NOT_SET</td></tr>\n",
       "<tr><th style=\"text-align: right;\">properties</th><td style=\"text-align: left;\"><ol start=\"0\" style=\"text-align: left;\">\n",
       "<li><strong>Property</strong> <a href=\"hlink://9b1f6d9c-58d6-4e5e-a0f1-822cb5440a51\">&quot;owner&quot;</a> (9b1f6d9c-58d6-4e5e-a0f1-822cb5440a51)</li>\n",
       "<li><strong>Property</strong> <a href=\"hlink://32f70910-a1fd-4ec9-8d22-4c585ceaf7b9\">&quot;core&quot;</a> (32f70910-a1fd-4ec9-8d22-4c585ceaf7b9)</li>\n",
       "<li><strong>Property</strong> <a href=\"hlink://df884a71-e774-49e1-8aee-0a675179c647\">&quot;wood&quot;</a> (df884a71-e774-49e1-8aee-0a675179c647)</li>\n",
       "<li><strong>Property</strong> <a href=\"hlink://87f356eb-c79e-4155-b297-8d733685621c\">&quot;wood&quot;</a> (87f356eb-c79e-4155-b297-8d733685621c)</li>\n",
       "</ol></td></tr>\n",
       "<tr><th style=\"text-align: right;\">property_value_groups</th><td style=\"text-align: left;\"><p><em>(Empty list)</em></p></td></tr>\n",
       "<tr><th style=\"text-align: right;\">property_value_packages</th><td style=\"text-align: left;\"><p><em>(Empty list)</em></p></td></tr>\n",
       "<tr><th style=\"text-align: right;\">property_values</th><td style=\"text-align: left;\"><p><em>(Empty list)</em></p></td></tr>\n",
       "<tr><th style=\"text-align: right;\">pvmt</th><td style=\"text-align: left;\">Property Value Management for <img src=\"data:image/svg+xml;base64,PHN2ZyBiYXNlUHJvZmlsZT0iZnVsbCIgaGVpZ2h0PSIxMDAlIiB2ZXJzaW9uPSIxLjEiIHZpZXdCb3g9IjAgMCAxNSAxNSIgd2lkdGg9IjEwMCUiIHhtbG5zPSJodHRwOi8vd3d3LnczLm9yZy8yMDAwL3N2ZyIgeG1sbnM6ZXY9Imh0dHA6Ly93d3cudzMub3JnLzIwMDEveG1sLWV2ZW50cyIgeG1sbnM6eGxpbms9Imh0dHA6Ly93d3cudzMub3JnLzE5OTkveGxpbmsiPjxkZWZzPjxzeW1ib2wgaWQ9IkNsYXNzU3ltYm9sIiB2aWV3Qm94PSIwIDAgMjUgMjUiPjxsaW5lYXJHcmFkaWVudCBpZD0iQ2xhc3NTeW1ib2wtZ3JhZGllbnQiIHgxPSIwIiB4Mj0iMCIgeTE9IjAiIHkyPSIxIj48c3RvcCBvZmZzZXQ9IjAuMCIgc3RvcC1jb2xvcj0iI2NmYTZhNSIgc3RvcC1vcGFjaXR5PSIxIiAvPjxzdG9wIG9mZnNldD0iMS4wIiBzdG9wLWNvbG9yPSIjZjFlMmUzIiBzdG9wLW9wYWNpdHk9IjEiIC8+PC9saW5lYXJHcmFkaWVudD48ZyBzdHJva2U9IiM5MTM3MzQiPjxyZWN0IGZpbGw9IiNlZWRjZGQiIGhlaWdodD0iMyIgd2lkdGg9IjE1IiB4PSI1IiB5PSIxNyIgLz48cmVjdCBmaWxsPSIjZWVkY2RkIiBoZWlnaHQ9IjMiIHdpZHRoPSIxNSIgeD0iNSIgeT0iMTQiIC8+PHJlY3QgZmlsbD0idXJsKCNDbGFzc1N5bWJvbC1ncmFkaWVudCkiIGhlaWdodD0iMTAiIHdpZHRoPSIxNSIgeD0iNSIgeT0iNCIgLz48L2c+PC9zeW1ib2w+PC9kZWZzPjx1c2UgaGVpZ2h0PSIxNSIgd2lkdGg9IjE1IiB4PSIwIiB4bGluazpocmVmPSIjQ2xhc3NTeW1ib2wiIHk9IjAiIC8+PC9zdmc+\" alt=\"Class\" title=\"Class\" width=\"15\" height=\"15\" style=\"display: inline-block\"> <a href=\"hlink://c710f1c2-ede6-444e-9e2b-0ff30d7fd040\">&quot;Wand&quot;</a> (c710f1c2-ede6-444e-9e2b-0ff30d7fd040)</td></tr>\n",
       "<tr><th style=\"text-align: right;\">realizations</th><td style=\"text-align: left;\"><ol start=\"0\" style=\"text-align: left;\">\n",
       "<li><a href=\"hlink://793520e1-acbf-4f93-a219-587840aa5a3b\"><strong>InformationRealization</strong></a> (793520e1-acbf-4f93-a219-587840aa5a3b)</li>\n",
       "</ol></td></tr>\n",
       "<tr><th style=\"text-align: right;\">realized_by</th><td style=\"text-align: left;\"><em>Backreference to Class - omitted: can be slow to compute. Display this property directly to show.</em></td></tr>\n",
       "<tr><th style=\"text-align: right;\">realized_classes</th><td style=\"text-align: left;\"><ol start=\"0\" style=\"text-align: left;\">\n",
       "<li><img src=\"data:image/svg+xml;base64,PHN2ZyBiYXNlUHJvZmlsZT0iZnVsbCIgaGVpZ2h0PSIxMDAlIiB2ZXJzaW9uPSIxLjEiIHZpZXdCb3g9IjAgMCAxNSAxNSIgd2lkdGg9IjEwMCUiIHhtbG5zPSJodHRwOi8vd3d3LnczLm9yZy8yMDAwL3N2ZyIgeG1sbnM6ZXY9Imh0dHA6Ly93d3cudzMub3JnLzIwMDEveG1sLWV2ZW50cyIgeG1sbnM6eGxpbms9Imh0dHA6Ly93d3cudzMub3JnLzE5OTkveGxpbmsiPjxkZWZzPjxzeW1ib2wgaWQ9IkNsYXNzU3ltYm9sIiB2aWV3Qm94PSIwIDAgMjUgMjUiPjxsaW5lYXJHcmFkaWVudCBpZD0iQ2xhc3NTeW1ib2wtZ3JhZGllbnQiIHgxPSIwIiB4Mj0iMCIgeTE9IjAiIHkyPSIxIj48c3RvcCBvZmZzZXQ9IjAuMCIgc3RvcC1jb2xvcj0iI2NmYTZhNSIgc3RvcC1vcGFjaXR5PSIxIiAvPjxzdG9wIG9mZnNldD0iMS4wIiBzdG9wLWNvbG9yPSIjZjFlMmUzIiBzdG9wLW9wYWNpdHk9IjEiIC8+PC9saW5lYXJHcmFkaWVudD48ZyBzdHJva2U9IiM5MTM3MzQiPjxyZWN0IGZpbGw9IiNlZWRjZGQiIGhlaWdodD0iMyIgd2lkdGg9IjE1IiB4PSI1IiB5PSIxNyIgLz48cmVjdCBmaWxsPSIjZWVkY2RkIiBoZWlnaHQ9IjMiIHdpZHRoPSIxNSIgeD0iNSIgeT0iMTQiIC8+PHJlY3QgZmlsbD0idXJsKCNDbGFzc1N5bWJvbC1ncmFkaWVudCkiIGhlaWdodD0iMTAiIHdpZHRoPSIxNSIgeD0iNSIgeT0iNCIgLz48L2c+PC9zeW1ib2w+PC9kZWZzPjx1c2UgaGVpZ2h0PSIxNSIgd2lkdGg9IjE1IiB4PSIwIiB4bGluazpocmVmPSIjQ2xhc3NTeW1ib2wiIHk9IjAiIC8+PC9zdmc+\" alt=\"Class\" title=\"Class\" width=\"15\" height=\"15\" style=\"display: inline-block\"> <a href=\"hlink://0fef2887-04ce-4406-b1a1-a1b35e1ce0f3\">&quot;SpecialTwist&quot;</a> (0fef2887-04ce-4406-b1a1-a1b35e1ce0f3)</li>\n",
       "</ol></td></tr>\n",
       "<tr><th style=\"text-align: right;\">requirements</th><td style=\"text-align: left;\"><p><em>(Empty list)</em></p></td></tr>\n",
       "<tr><th style=\"text-align: right;\">sid</th><td style=\"text-align: left;\"></td></tr>\n",
       "<tr><th style=\"text-align: right;\">state_machines</th><td style=\"text-align: left;\"><p><em>(Empty list)</em></p></td></tr>\n",
       "<tr><th style=\"text-align: right;\">sub</th><td style=\"text-align: left;\"><em>Backreference to Class - omitted: can be slow to compute. Display this property directly to show.</em></td></tr>\n",
       "<tr><th style=\"text-align: right;\">summary</th><td style=\"text-align: left;\"></td></tr>\n",
       "<tr><th style=\"text-align: right;\">super</th><td style=\"text-align: left;\"><img src=\"data:image/svg+xml;base64,PHN2ZyBiYXNlUHJvZmlsZT0iZnVsbCIgaGVpZ2h0PSIxMDAlIiB2ZXJzaW9uPSIxLjEiIHZpZXdCb3g9IjAgMCAxNSAxNSIgd2lkdGg9IjEwMCUiIHhtbG5zPSJodHRwOi8vd3d3LnczLm9yZy8yMDAwL3N2ZyIgeG1sbnM6ZXY9Imh0dHA6Ly93d3cudzMub3JnLzIwMDEveG1sLWV2ZW50cyIgeG1sbnM6eGxpbms9Imh0dHA6Ly93d3cudzMub3JnLzE5OTkveGxpbmsiPjxkZWZzPjxzeW1ib2wgaWQ9IkNsYXNzU3ltYm9sIiB2aWV3Qm94PSIwIDAgMjUgMjUiPjxsaW5lYXJHcmFkaWVudCBpZD0iQ2xhc3NTeW1ib2wtZ3JhZGllbnQiIHgxPSIwIiB4Mj0iMCIgeTE9IjAiIHkyPSIxIj48c3RvcCBvZmZzZXQ9IjAuMCIgc3RvcC1jb2xvcj0iI2NmYTZhNSIgc3RvcC1vcGFjaXR5PSIxIiAvPjxzdG9wIG9mZnNldD0iMS4wIiBzdG9wLWNvbG9yPSIjZjFlMmUzIiBzdG9wLW9wYWNpdHk9IjEiIC8+PC9saW5lYXJHcmFkaWVudD48ZyBzdHJva2U9IiM5MTM3MzQiPjxyZWN0IGZpbGw9IiNlZWRjZGQiIGhlaWdodD0iMyIgd2lkdGg9IjE1IiB4PSI1IiB5PSIxNyIgLz48cmVjdCBmaWxsPSIjZWVkY2RkIiBoZWlnaHQ9IjMiIHdpZHRoPSIxNSIgeD0iNSIgeT0iMTQiIC8+PHJlY3QgZmlsbD0idXJsKCNDbGFzc1N5bWJvbC1ncmFkaWVudCkiIGhlaWdodD0iMTAiIHdpZHRoPSIxNSIgeD0iNSIgeT0iNCIgLz48L2c+PC9zeW1ib2w+PC9kZWZzPjx1c2UgaGVpZ2h0PSIxNSIgd2lkdGg9IjE1IiB4PSIwIiB4bGluazpocmVmPSIjQ2xhc3NTeW1ib2wiIHk9IjAiIC8+PC9zdmc+\" alt=\"Class\" title=\"Class\" width=\"15\" height=\"15\" style=\"display: inline-block\"> <a href=\"hlink://2b34c799-769c-42f2-8a1b-4533dba209a0\">&quot;Branch&quot;</a> (2b34c799-769c-42f2-8a1b-4533dba209a0)</td></tr>\n",
       "<tr><th style=\"text-align: right;\">traces</th><td style=\"text-align: left;\"><p><em>(Empty list)</em></p></td></tr>\n",
       "<tr><th style=\"text-align: right;\">tree_view</th><td style=\"text-align: left;\"><b>Tree view of Wand</b> (uuid: c710f1c2-ede6-444e-9e2b-0ff30d7fd040_tree_view)</td></tr>\n",
       "<tr><th style=\"text-align: right;\">uuid</th><td style=\"text-align: left;\">c710f1c2-ede6-444e-9e2b-0ff30d7fd040</td></tr>\n",
       "<tr><th style=\"text-align: right;\">validation</th><td style=\"text-align: left;\"><em>&lt;capellambse.extensions.validation._validate.ElementValidation object at 0x72bcb2f72f60&gt;</em></td></tr>\n",
       "<tr><th style=\"text-align: right;\">visibility</th><td style=\"text-align: left;\"><em>&lt;VisibilityKind.UNSET: &#39;UNSET&#39;&gt;</em></td></tr>\n",
       "<tr><th style=\"text-align: right;\">visible_on_diagrams</th><td style=\"text-align: left;\"><ol start=\"0\" style=\"text-align: left;\">\n",
       "<li><b>[CDB] Harry&#39;s Wand</b> (uuid: _kqj3UF9REe2rko4oG1H6IQ)</li>\n",
       "</ol></td></tr>\n",
       "<tr><th style=\"text-align: right;\">xtype</th><td style=\"text-align: left;\">org.polarsys.capella.core.data.information:Class</td></tr>\n",
       "</table>"
      ],
      "text/plain": [
       "<Class 'Wand' (c710f1c2-ede6-444e-9e2b-0ff30d7fd040)>\n",
       ".applied_property_value_groups = []\n",
       ".applied_property_values = []\n",
       ".constraints = []\n",
       ".description = Markup('')\n",
       ".diagrams = []\n",
       ".filtering_criteria = []\n",
       ".generalizations = [0] <Generalization (7b66d8fb-3960-40c7-85c6-1738aee234e5)>\n",
       ".is_abstract = False\n",
       ".is_final = False\n",
       ".is_primitive = False\n",
       ".layer = <LogicalArchitecture 'Logical Architecture' (853cb005-cba0-489b-8fe3-bb694ad4543b)>\n",
       ".name = 'Wand'\n",
       ".owned_properties = [0] <Property 'owner' (9b1f6d9c-58d6-4e5e-a0f1-822cb5440a51)>\n",
       "                    [1] <Property 'core' (32f70910-a1fd-4ec9-8d22-4c585ceaf7b9)>\n",
       "                    [2] <Property 'wood' (df884a71-e774-49e1-8aee-0a675179c647)>\n",
       ".parent = <DataPkg 'Data' (39e99d4a-a32c-4b70-b4b6-d03fec612e17)>\n",
       ".progress_status = 'NOT_SET'\n",
       ".properties = [0] <Property 'owner' (9b1f6d9c-58d6-4e5e-a0f1-822cb5440a51)>\n",
       "              [1] <Property 'core' (32f70910-a1fd-4ec9-8d22-4c585ceaf7b9)>\n",
       "              [2] <Property 'wood' (df884a71-e774-49e1-8aee-0a675179c647)>\n",
       "              [3] <Property 'wood' (87f356eb-c79e-4155-b297-8d733685621c)>\n",
       ".property_value_groups = []\n",
       ".property_value_packages = []\n",
       ".property_values = []\n",
       ".pvmt = <Property Value Management for <Class 'Wand' (c710f1c2-ede6-444e-9e2b-0ff30d7fd040)>>\n",
       ".realizations = [0] <InformationRealization (793520e1-acbf-4f93-a219-587840aa5a3b)>\n",
       ".realized_by = ... # backreference to Class - omitted: can be slow to compute\n",
       ".realized_classes = [0] <Class 'SpecialTwist' (0fef2887-04ce-4406-b1a1-a1b35e1ce0f3)>\n",
       ".requirements = []\n",
       ".sid = ''\n",
       ".state_machines = []\n",
       ".sub = ... # backreference to Class - omitted: can be slow to compute\n",
       ".summary = ''\n",
       ".super = <Class 'Branch' (2b34c799-769c-42f2-8a1b-4533dba209a0)>\n",
       ".traces = []\n",
       ".tree_view = <Diagram 'Tree view of Wand'>\n",
       ".uuid = 'c710f1c2-ede6-444e-9e2b-0ff30d7fd040'\n",
       ".validation = <capellambse.extensions.validation._validate.ElementValidation object at 0x72bcc41b60c0>\n",
       ".visibility = <VisibilityKind.UNSET: 'UNSET'>\n",
       ".visible_on_diagrams = [0] <Diagram \"[CDB] Harry's Wand\">\n",
       ".xtype = 'org.polarsys.capella.core.data.information:Class'"
      ]
     },
     "execution_count": 4,
     "metadata": {},
     "output_type": "execute_result"
    }
   ],
   "source": [
    "model.la.data_package.classes[0]"
   ]
  },
  {
   "cell_type": "markdown",
   "id": "b7bc5a40",
   "metadata": {},
   "source": [
    "We can investigate the properties of a Class"
   ]
  },
  {
   "cell_type": "code",
   "execution_count": 5,
   "id": "56bb4b44",
   "metadata": {},
   "outputs": [
    {
     "data": {
      "text/html": [
       "<h1>owner <span style=\"font-size: 70%;\">(org.polarsys.capella.core.data.information:Property)</span></h1>\n",
       "<table>\n",
       "<tr><th style=\"text-align: right;\">applied_property_value_groups</th><td style=\"text-align: left;\"><p><em>(Empty list)</em></p></td></tr>\n",
       "<tr><th style=\"text-align: right;\">applied_property_values</th><td style=\"text-align: left;\"><p><em>(Empty list)</em></p></td></tr>\n",
       "<tr><th style=\"text-align: right;\">association</th><td style=\"text-align: left;\"><em>Backreference to Association - omitted: can be slow to compute. Display this property directly to show.</em></td></tr>\n",
       "<tr><th style=\"text-align: right;\">constraints</th><td style=\"text-align: left;\"><p><em>(Empty list)</em></p></td></tr>\n",
       "<tr><th style=\"text-align: right;\">default_value</th><td style=\"text-align: left;\"><em>None</em></td></tr>\n",
       "<tr><th style=\"text-align: right;\">description</th><td style=\"text-align: left;\"></td></tr>\n",
       "<tr><th style=\"text-align: right;\">diagrams</th><td style=\"text-align: left;\"><p><em>(Empty list)</em></p></td></tr>\n",
       "<tr><th style=\"text-align: right;\">filtering_criteria</th><td style=\"text-align: left;\"><p><em>(Empty list)</em></p></td></tr>\n",
       "<tr><th style=\"text-align: right;\">is_abstract</th><td style=\"text-align: left;\"><em>False</em></td></tr>\n",
       "<tr><th style=\"text-align: right;\">is_derived</th><td style=\"text-align: left;\"><em>False</em></td></tr>\n",
       "<tr><th style=\"text-align: right;\">is_ordered</th><td style=\"text-align: left;\"><em>False</em></td></tr>\n",
       "<tr><th style=\"text-align: right;\">is_part_of_key</th><td style=\"text-align: left;\"><em>False</em></td></tr>\n",
       "<tr><th style=\"text-align: right;\">is_read_only</th><td style=\"text-align: left;\"><em>False</em></td></tr>\n",
       "<tr><th style=\"text-align: right;\">is_static</th><td style=\"text-align: left;\"><em>False</em></td></tr>\n",
       "<tr><th style=\"text-align: right;\">is_unique</th><td style=\"text-align: left;\"><em>False</em></td></tr>\n",
       "<tr><th style=\"text-align: right;\">kind</th><td style=\"text-align: left;\"><em>&lt;AggregationKind.UNSET: &#39;UNSET&#39;&gt;</em></td></tr>\n",
       "<tr><th style=\"text-align: right;\">layer</th><td style=\"text-align: left;\"><strong>LogicalArchitecture</strong> <a href=\"hlink://853cb005-cba0-489b-8fe3-bb694ad4543b\">&quot;Logical Architecture&quot;</a> (853cb005-cba0-489b-8fe3-bb694ad4543b)</td></tr>\n",
       "<tr><th style=\"text-align: right;\">max_card</th><td style=\"text-align: left;\"><a href=\"hlink://43e39098-ace4-47c4-8f1c-1df1986063e2\"><strong>LiteralNumericValue</strong></a>: 1 (43e39098-ace4-47c4-8f1c-1df1986063e2)</td></tr>\n",
       "<tr><th style=\"text-align: right;\">max_value</th><td style=\"text-align: left;\"><em>None</em></td></tr>\n",
       "<tr><th style=\"text-align: right;\">min_card</th><td style=\"text-align: left;\"><a href=\"hlink://95d6a6e5-6442-408d-afb2-d8f7a24c5f56\"><strong>LiteralNumericValue</strong></a>: 1 (95d6a6e5-6442-408d-afb2-d8f7a24c5f56)</td></tr>\n",
       "<tr><th style=\"text-align: right;\">min_value</th><td style=\"text-align: left;\"><em>None</em></td></tr>\n",
       "<tr><th style=\"text-align: right;\">name</th><td style=\"text-align: left;\">owner</td></tr>\n",
       "<tr><th style=\"text-align: right;\">null_value</th><td style=\"text-align: left;\"><em>None</em></td></tr>\n",
       "<tr><th style=\"text-align: right;\">parent</th><td style=\"text-align: left;\"><img src=\"data:image/svg+xml;base64,PHN2ZyBiYXNlUHJvZmlsZT0iZnVsbCIgaGVpZ2h0PSIxMDAlIiB2ZXJzaW9uPSIxLjEiIHZpZXdCb3g9IjAgMCAxNSAxNSIgd2lkdGg9IjEwMCUiIHhtbG5zPSJodHRwOi8vd3d3LnczLm9yZy8yMDAwL3N2ZyIgeG1sbnM6ZXY9Imh0dHA6Ly93d3cudzMub3JnLzIwMDEveG1sLWV2ZW50cyIgeG1sbnM6eGxpbms9Imh0dHA6Ly93d3cudzMub3JnLzE5OTkveGxpbmsiPjxkZWZzPjxzeW1ib2wgaWQ9IkNsYXNzU3ltYm9sIiB2aWV3Qm94PSIwIDAgMjUgMjUiPjxsaW5lYXJHcmFkaWVudCBpZD0iQ2xhc3NTeW1ib2wtZ3JhZGllbnQiIHgxPSIwIiB4Mj0iMCIgeTE9IjAiIHkyPSIxIj48c3RvcCBvZmZzZXQ9IjAuMCIgc3RvcC1jb2xvcj0iI2NmYTZhNSIgc3RvcC1vcGFjaXR5PSIxIiAvPjxzdG9wIG9mZnNldD0iMS4wIiBzdG9wLWNvbG9yPSIjZjFlMmUzIiBzdG9wLW9wYWNpdHk9IjEiIC8+PC9saW5lYXJHcmFkaWVudD48ZyBzdHJva2U9IiM5MTM3MzQiPjxyZWN0IGZpbGw9IiNlZWRjZGQiIGhlaWdodD0iMyIgd2lkdGg9IjE1IiB4PSI1IiB5PSIxNyIgLz48cmVjdCBmaWxsPSIjZWVkY2RkIiBoZWlnaHQ9IjMiIHdpZHRoPSIxNSIgeD0iNSIgeT0iMTQiIC8+PHJlY3QgZmlsbD0idXJsKCNDbGFzc1N5bWJvbC1ncmFkaWVudCkiIGhlaWdodD0iMTAiIHdpZHRoPSIxNSIgeD0iNSIgeT0iNCIgLz48L2c+PC9zeW1ib2w+PC9kZWZzPjx1c2UgaGVpZ2h0PSIxNSIgd2lkdGg9IjE1IiB4PSIwIiB4bGluazpocmVmPSIjQ2xhc3NTeW1ib2wiIHk9IjAiIC8+PC9zdmc+\" alt=\"Class\" title=\"Class\" width=\"15\" height=\"15\" style=\"display: inline-block\"> <a href=\"hlink://c710f1c2-ede6-444e-9e2b-0ff30d7fd040\">&quot;Wand&quot;</a> (c710f1c2-ede6-444e-9e2b-0ff30d7fd040)</td></tr>\n",
       "<tr><th style=\"text-align: right;\">progress_status</th><td style=\"text-align: left;\">NOT_SET</td></tr>\n",
       "<tr><th style=\"text-align: right;\">property_value_groups</th><td style=\"text-align: left;\"><p><em>(Empty list)</em></p></td></tr>\n",
       "<tr><th style=\"text-align: right;\">property_value_packages</th><td style=\"text-align: left;\"><p><em>(Empty list)</em></p></td></tr>\n",
       "<tr><th style=\"text-align: right;\">property_values</th><td style=\"text-align: left;\"><p><em>(Empty list)</em></p></td></tr>\n",
       "<tr><th style=\"text-align: right;\">pvmt</th><td style=\"text-align: left;\">Property Value Management for <strong>Property</strong> <a href=\"hlink://9b1f6d9c-58d6-4e5e-a0f1-822cb5440a51\">&quot;owner&quot;</a> (9b1f6d9c-58d6-4e5e-a0f1-822cb5440a51)</td></tr>\n",
       "<tr><th style=\"text-align: right;\">requirements</th><td style=\"text-align: left;\"><p><em>(Empty list)</em></p></td></tr>\n",
       "<tr><th style=\"text-align: right;\">sid</th><td style=\"text-align: left;\"></td></tr>\n",
       "<tr><th style=\"text-align: right;\">summary</th><td style=\"text-align: left;\"></td></tr>\n",
       "<tr><th style=\"text-align: right;\">traces</th><td style=\"text-align: left;\"><p><em>(Empty list)</em></p></td></tr>\n",
       "<tr><th style=\"text-align: right;\">type</th><td style=\"text-align: left;\"><strong>StringType</strong> <a href=\"hlink://b2f035e6-78c8-4dfd-99f0-bf4a40ea3e81\">&quot;String&quot;</a> (b2f035e6-78c8-4dfd-99f0-bf4a40ea3e81)</td></tr>\n",
       "<tr><th style=\"text-align: right;\">uuid</th><td style=\"text-align: left;\">9b1f6d9c-58d6-4e5e-a0f1-822cb5440a51</td></tr>\n",
       "<tr><th style=\"text-align: right;\">validation</th><td style=\"text-align: left;\"><em>&lt;capellambse.extensions.validation._validate.ElementValidation object at 0x72bcb2f715b0&gt;</em></td></tr>\n",
       "<tr><th style=\"text-align: right;\">visibility</th><td style=\"text-align: left;\"><em>&lt;VisibilityKind.UNSET: &#39;UNSET&#39;&gt;</em></td></tr>\n",
       "<tr><th style=\"text-align: right;\">visible_on_diagrams</th><td style=\"text-align: left;\"><p><em>(Empty list)</em></p></td></tr>\n",
       "<tr><th style=\"text-align: right;\">xtype</th><td style=\"text-align: left;\">org.polarsys.capella.core.data.information:Property</td></tr>\n",
       "</table>"
      ],
      "text/plain": [
       "<Property 'owner' (9b1f6d9c-58d6-4e5e-a0f1-822cb5440a51)>\n",
       ".applied_property_value_groups = []\n",
       ".applied_property_values = []\n",
       ".association = ... # backreference to Association - omitted: can be slow to compute\n",
       ".constraints = []\n",
       ".default_value = None\n",
       ".description = Markup('')\n",
       ".diagrams = []\n",
       ".filtering_criteria = []\n",
       ".is_abstract = False\n",
       ".is_derived = False\n",
       ".is_ordered = False\n",
       ".is_part_of_key = False\n",
       ".is_read_only = False\n",
       ".is_static = False\n",
       ".is_unique = False\n",
       ".kind = <AggregationKind.UNSET: 'UNSET'>\n",
       ".layer = <LogicalArchitecture 'Logical Architecture' (853cb005-cba0-489b-8fe3-bb694ad4543b)>\n",
       ".max_card = <LiteralNumericValue (43e39098-ace4-47c4-8f1c-1df1986063e2)>\n",
       ".max_value = None\n",
       ".min_card = <LiteralNumericValue (95d6a6e5-6442-408d-afb2-d8f7a24c5f56)>\n",
       ".min_value = None\n",
       ".name = 'owner'\n",
       ".null_value = None\n",
       ".parent = <Class 'Wand' (c710f1c2-ede6-444e-9e2b-0ff30d7fd040)>\n",
       ".progress_status = 'NOT_SET'\n",
       ".property_value_groups = []\n",
       ".property_value_packages = []\n",
       ".property_values = []\n",
       ".pvmt = <Property Value Management for <Property 'owner' (9b1f6d9c-58d6-4e5e-a0f1-822cb5440a51)>>\n",
       ".requirements = []\n",
       ".sid = ''\n",
       ".summary = ''\n",
       ".traces = []\n",
       ".type = <StringType 'String' (b2f035e6-78c8-4dfd-99f0-bf4a40ea3e81)>\n",
       ".uuid = '9b1f6d9c-58d6-4e5e-a0f1-822cb5440a51'\n",
       ".validation = <capellambse.extensions.validation._validate.ElementValidation object at 0x72bcb2f73ec0>\n",
       ".visibility = <VisibilityKind.UNSET: 'UNSET'>\n",
       ".visible_on_diagrams = []\n",
       ".xtype = 'org.polarsys.capella.core.data.information:Property'"
      ]
     },
     "execution_count": 5,
     "metadata": {},
     "output_type": "execute_result"
    }
   ],
   "source": [
    "model.la.data_package.classes[0].properties[0]"
   ]
  },
  {
   "cell_type": "markdown",
   "id": "36670ae2",
   "metadata": {},
   "source": [
    "As you can see the `kind` attribute is `UNSET`. That means this property isn't modelled as an association. An example for a `COMPOSITION`:\n",
    "\n",
    "![Waypoint](../_static/img/waypoints.png)"
   ]
  },
  {
   "cell_type": "code",
   "execution_count": 6,
   "id": "7ca2429b",
   "metadata": {},
   "outputs": [
    {
     "data": {
      "text/html": [
       "<h1>waypoints <span style=\"font-size: 70%;\">(org.polarsys.capella.core.data.information:Property)</span></h1>\n",
       "<table>\n",
       "<tr><th style=\"text-align: right;\">applied_property_value_groups</th><td style=\"text-align: left;\"><p><em>(Empty list)</em></p></td></tr>\n",
       "<tr><th style=\"text-align: right;\">applied_property_values</th><td style=\"text-align: left;\"><p><em>(Empty list)</em></p></td></tr>\n",
       "<tr><th style=\"text-align: right;\">association</th><td style=\"text-align: left;\"><em>Backreference to Association - omitted: can be slow to compute. Display this property directly to show.</em></td></tr>\n",
       "<tr><th style=\"text-align: right;\">constraints</th><td style=\"text-align: left;\"><p><em>(Empty list)</em></p></td></tr>\n",
       "<tr><th style=\"text-align: right;\">default_value</th><td style=\"text-align: left;\"><em>None</em></td></tr>\n",
       "<tr><th style=\"text-align: right;\">description</th><td style=\"text-align: left;\"></td></tr>\n",
       "<tr><th style=\"text-align: right;\">diagrams</th><td style=\"text-align: left;\"><p><em>(Empty list)</em></p></td></tr>\n",
       "<tr><th style=\"text-align: right;\">filtering_criteria</th><td style=\"text-align: left;\"><p><em>(Empty list)</em></p></td></tr>\n",
       "<tr><th style=\"text-align: right;\">is_abstract</th><td style=\"text-align: left;\"><em>False</em></td></tr>\n",
       "<tr><th style=\"text-align: right;\">is_derived</th><td style=\"text-align: left;\"><em>False</em></td></tr>\n",
       "<tr><th style=\"text-align: right;\">is_ordered</th><td style=\"text-align: left;\"><em>False</em></td></tr>\n",
       "<tr><th style=\"text-align: right;\">is_part_of_key</th><td style=\"text-align: left;\"><em>False</em></td></tr>\n",
       "<tr><th style=\"text-align: right;\">is_read_only</th><td style=\"text-align: left;\"><em>False</em></td></tr>\n",
       "<tr><th style=\"text-align: right;\">is_static</th><td style=\"text-align: left;\"><em>False</em></td></tr>\n",
       "<tr><th style=\"text-align: right;\">is_unique</th><td style=\"text-align: left;\"><em>False</em></td></tr>\n",
       "<tr><th style=\"text-align: right;\">kind</th><td style=\"text-align: left;\"><em>&lt;AggregationKind.COMPOSITION: &#39;COMPOSITION&#39;&gt;</em></td></tr>\n",
       "<tr><th style=\"text-align: right;\">layer</th><td style=\"text-align: left;\"><strong>SystemAnalysis</strong> <a href=\"hlink://79d35fe7-f172-4405-b499-48aef545148a\">&quot;System Analysis&quot;</a> (79d35fe7-f172-4405-b499-48aef545148a)</td></tr>\n",
       "<tr><th style=\"text-align: right;\">max_card</th><td style=\"text-align: left;\"><a href=\"hlink://57d146cf-6e40-42f4-9413-1cd0240d1431\"><strong>LiteralNumericValue</strong></a>: * (57d146cf-6e40-42f4-9413-1cd0240d1431)</td></tr>\n",
       "<tr><th style=\"text-align: right;\">max_value</th><td style=\"text-align: left;\"><em>None</em></td></tr>\n",
       "<tr><th style=\"text-align: right;\">min_card</th><td style=\"text-align: left;\"><a href=\"hlink://1df38231-5a0a-4c47-8c99-96119b8b8af8\"><strong>LiteralNumericValue</strong></a>: 1 (1df38231-5a0a-4c47-8c99-96119b8b8af8)</td></tr>\n",
       "<tr><th style=\"text-align: right;\">min_value</th><td style=\"text-align: left;\"><em>None</em></td></tr>\n",
       "<tr><th style=\"text-align: right;\">name</th><td style=\"text-align: left;\">waypoints</td></tr>\n",
       "<tr><th style=\"text-align: right;\">null_value</th><td style=\"text-align: left;\"><em>None</em></td></tr>\n",
       "<tr><th style=\"text-align: right;\">parent</th><td style=\"text-align: left;\"><img src=\"data:image/svg+xml;base64,PHN2ZyBiYXNlUHJvZmlsZT0iZnVsbCIgaGVpZ2h0PSIxMDAlIiB2ZXJzaW9uPSIxLjEiIHZpZXdCb3g9IjAgMCAxNSAxNSIgd2lkdGg9IjEwMCUiIHhtbG5zPSJodHRwOi8vd3d3LnczLm9yZy8yMDAwL3N2ZyIgeG1sbnM6ZXY9Imh0dHA6Ly93d3cudzMub3JnLzIwMDEveG1sLWV2ZW50cyIgeG1sbnM6eGxpbms9Imh0dHA6Ly93d3cudzMub3JnLzE5OTkveGxpbmsiPjxkZWZzPjxzeW1ib2wgaWQ9IkNsYXNzU3ltYm9sIiB2aWV3Qm94PSIwIDAgMjUgMjUiPjxsaW5lYXJHcmFkaWVudCBpZD0iQ2xhc3NTeW1ib2wtZ3JhZGllbnQiIHgxPSIwIiB4Mj0iMCIgeTE9IjAiIHkyPSIxIj48c3RvcCBvZmZzZXQ9IjAuMCIgc3RvcC1jb2xvcj0iI2NmYTZhNSIgc3RvcC1vcGFjaXR5PSIxIiAvPjxzdG9wIG9mZnNldD0iMS4wIiBzdG9wLWNvbG9yPSIjZjFlMmUzIiBzdG9wLW9wYWNpdHk9IjEiIC8+PC9saW5lYXJHcmFkaWVudD48ZyBzdHJva2U9IiM5MTM3MzQiPjxyZWN0IGZpbGw9IiNlZWRjZGQiIGhlaWdodD0iMyIgd2lkdGg9IjE1IiB4PSI1IiB5PSIxNyIgLz48cmVjdCBmaWxsPSIjZWVkY2RkIiBoZWlnaHQ9IjMiIHdpZHRoPSIxNSIgeD0iNSIgeT0iMTQiIC8+PHJlY3QgZmlsbD0idXJsKCNDbGFzc1N5bWJvbC1ncmFkaWVudCkiIGhlaWdodD0iMTAiIHdpZHRoPSIxNSIgeD0iNSIgeT0iNCIgLz48L2c+PC9zeW1ib2w+PC9kZWZzPjx1c2UgaGVpZ2h0PSIxNSIgd2lkdGg9IjE1IiB4PSIwIiB4bGluazpocmVmPSIjQ2xhc3NTeW1ib2wiIHk9IjAiIC8+PC9zdmc+\" alt=\"Class\" title=\"Class\" width=\"15\" height=\"15\" style=\"display: inline-block\"> <a href=\"hlink://c3c96805-d6f6-4092-b9f4-df7970651cdc\">&quot;Trajectory&quot;</a> (c3c96805-d6f6-4092-b9f4-df7970651cdc)</td></tr>\n",
       "<tr><th style=\"text-align: right;\">progress_status</th><td style=\"text-align: left;\">NOT_SET</td></tr>\n",
       "<tr><th style=\"text-align: right;\">property_value_groups</th><td style=\"text-align: left;\"><p><em>(Empty list)</em></p></td></tr>\n",
       "<tr><th style=\"text-align: right;\">property_value_packages</th><td style=\"text-align: left;\"><p><em>(Empty list)</em></p></td></tr>\n",
       "<tr><th style=\"text-align: right;\">property_values</th><td style=\"text-align: left;\"><p><em>(Empty list)</em></p></td></tr>\n",
       "<tr><th style=\"text-align: right;\">pvmt</th><td style=\"text-align: left;\">Property Value Management for <strong>Property</strong> <a href=\"hlink://424efd65-eaa9-4220-b61b-fb3340dbc19a\">&quot;waypoints&quot;</a> (424efd65-eaa9-4220-b61b-fb3340dbc19a)</td></tr>\n",
       "<tr><th style=\"text-align: right;\">requirements</th><td style=\"text-align: left;\"><p><em>(Empty list)</em></p></td></tr>\n",
       "<tr><th style=\"text-align: right;\">sid</th><td style=\"text-align: left;\"></td></tr>\n",
       "<tr><th style=\"text-align: right;\">summary</th><td style=\"text-align: left;\"></td></tr>\n",
       "<tr><th style=\"text-align: right;\">traces</th><td style=\"text-align: left;\"><p><em>(Empty list)</em></p></td></tr>\n",
       "<tr><th style=\"text-align: right;\">type</th><td style=\"text-align: left;\"><img src=\"data:image/svg+xml;base64,PHN2ZyBiYXNlUHJvZmlsZT0iZnVsbCIgaGVpZ2h0PSIxMDAlIiB2ZXJzaW9uPSIxLjEiIHZpZXdCb3g9IjAgMCAxNSAxNSIgd2lkdGg9IjEwMCUiIHhtbG5zPSJodHRwOi8vd3d3LnczLm9yZy8yMDAwL3N2ZyIgeG1sbnM6ZXY9Imh0dHA6Ly93d3cudzMub3JnLzIwMDEveG1sLWV2ZW50cyIgeG1sbnM6eGxpbms9Imh0dHA6Ly93d3cudzMub3JnLzE5OTkveGxpbmsiPjxkZWZzPjxzeW1ib2wgaWQ9IkNsYXNzU3ltYm9sIiB2aWV3Qm94PSIwIDAgMjUgMjUiPjxsaW5lYXJHcmFkaWVudCBpZD0iQ2xhc3NTeW1ib2wtZ3JhZGllbnQiIHgxPSIwIiB4Mj0iMCIgeTE9IjAiIHkyPSIxIj48c3RvcCBvZmZzZXQ9IjAuMCIgc3RvcC1jb2xvcj0iI2NmYTZhNSIgc3RvcC1vcGFjaXR5PSIxIiAvPjxzdG9wIG9mZnNldD0iMS4wIiBzdG9wLWNvbG9yPSIjZjFlMmUzIiBzdG9wLW9wYWNpdHk9IjEiIC8+PC9saW5lYXJHcmFkaWVudD48ZyBzdHJva2U9IiM5MTM3MzQiPjxyZWN0IGZpbGw9IiNlZWRjZGQiIGhlaWdodD0iMyIgd2lkdGg9IjE1IiB4PSI1IiB5PSIxNyIgLz48cmVjdCBmaWxsPSIjZWVkY2RkIiBoZWlnaHQ9IjMiIHdpZHRoPSIxNSIgeD0iNSIgeT0iMTQiIC8+PHJlY3QgZmlsbD0idXJsKCNDbGFzc1N5bWJvbC1ncmFkaWVudCkiIGhlaWdodD0iMTAiIHdpZHRoPSIxNSIgeD0iNSIgeT0iNCIgLz48L2c+PC9zeW1ib2w+PC9kZWZzPjx1c2UgaGVpZ2h0PSIxNSIgd2lkdGg9IjE1IiB4PSIwIiB4bGluazpocmVmPSIjQ2xhc3NTeW1ib2wiIHk9IjAiIC8+PC9zdmc+\" alt=\"Class\" title=\"Class\" width=\"15\" height=\"15\" style=\"display: inline-block\"> <a href=\"hlink://c89849fd-0643-4708-a4da-74c9ea9ca7b1\">&quot;Waypoint&quot;</a> (c89849fd-0643-4708-a4da-74c9ea9ca7b1)</td></tr>\n",
       "<tr><th style=\"text-align: right;\">uuid</th><td style=\"text-align: left;\">424efd65-eaa9-4220-b61b-fb3340dbc19a</td></tr>\n",
       "<tr><th style=\"text-align: right;\">validation</th><td style=\"text-align: left;\"><em>&lt;capellambse.extensions.validation._validate.ElementValidation object at 0x72bcb2f70320&gt;</em></td></tr>\n",
       "<tr><th style=\"text-align: right;\">visibility</th><td style=\"text-align: left;\"><em>&lt;VisibilityKind.UNSET: &#39;UNSET&#39;&gt;</em></td></tr>\n",
       "<tr><th style=\"text-align: right;\">visible_on_diagrams</th><td style=\"text-align: left;\"><p><em>(Empty list)</em></p></td></tr>\n",
       "<tr><th style=\"text-align: right;\">xtype</th><td style=\"text-align: left;\">org.polarsys.capella.core.data.information:Property</td></tr>\n",
       "</table>"
      ],
      "text/plain": [
       "<Property 'waypoints' (424efd65-eaa9-4220-b61b-fb3340dbc19a)>\n",
       ".applied_property_value_groups = []\n",
       ".applied_property_values = []\n",
       ".association = ... # backreference to Association - omitted: can be slow to compute\n",
       ".constraints = []\n",
       ".default_value = None\n",
       ".description = Markup('')\n",
       ".diagrams = []\n",
       ".filtering_criteria = []\n",
       ".is_abstract = False\n",
       ".is_derived = False\n",
       ".is_ordered = False\n",
       ".is_part_of_key = False\n",
       ".is_read_only = False\n",
       ".is_static = False\n",
       ".is_unique = False\n",
       ".kind = <AggregationKind.COMPOSITION: 'COMPOSITION'>\n",
       ".layer = <SystemAnalysis 'System Analysis' (79d35fe7-f172-4405-b499-48aef545148a)>\n",
       ".max_card = <LiteralNumericValue (57d146cf-6e40-42f4-9413-1cd0240d1431)>\n",
       ".max_value = None\n",
       ".min_card = <LiteralNumericValue (1df38231-5a0a-4c47-8c99-96119b8b8af8)>\n",
       ".min_value = None\n",
       ".name = 'waypoints'\n",
       ".null_value = None\n",
       ".parent = <Class 'Trajectory' (c3c96805-d6f6-4092-b9f4-df7970651cdc)>\n",
       ".progress_status = 'NOT_SET'\n",
       ".property_value_groups = []\n",
       ".property_value_packages = []\n",
       ".property_values = []\n",
       ".pvmt = <Property Value Management for <Property 'waypoints' (424efd65-eaa9-4220-b61b-fb3340dbc19a)>>\n",
       ".requirements = []\n",
       ".sid = ''\n",
       ".summary = ''\n",
       ".traces = []\n",
       ".type = <Class 'Waypoint' (c89849fd-0643-4708-a4da-74c9ea9ca7b1)>\n",
       ".uuid = '424efd65-eaa9-4220-b61b-fb3340dbc19a'\n",
       ".validation = <capellambse.extensions.validation._validate.ElementValidation object at 0x72bcbc15a2a0>\n",
       ".visibility = <VisibilityKind.UNSET: 'UNSET'>\n",
       ".visible_on_diagrams = []\n",
       ".xtype = 'org.polarsys.capella.core.data.information:Property'"
      ]
     },
     "execution_count": 6,
     "metadata": {},
     "output_type": "execute_result"
    }
   ],
   "source": [
    "prop = model.sa.all_classes.by_name(\"Trajectory\").properties[0]\n",
    "prop"
   ]
  },
  {
   "cell_type": "markdown",
   "id": "7ab5f3a6",
   "metadata": {},
   "source": [
    "The role name is exposed as the `name` attribute of the property. As you can see the only *navigable* role is `waypoints` and its min- and max-card are also accessible. The `Class` can be accessed via the `type` attribute and the `association` is there to receive information about the incoming role/property. Let's have a look at it:"
   ]
  },
  {
   "cell_type": "code",
   "execution_count": 7,
   "id": "90c3cf8c",
   "metadata": {},
   "outputs": [
    {
     "data": {
      "text/html": [
       "<h1>waypoint association <span style=\"font-size: 70%;\">(org.polarsys.capella.core.data.information:Association)</span></h1>\n",
       "<table>\n",
       "<tr><th style=\"text-align: right;\">applied_property_value_groups</th><td style=\"text-align: left;\"><p><em>(Empty list)</em></p></td></tr>\n",
       "<tr><th style=\"text-align: right;\">applied_property_values</th><td style=\"text-align: left;\"><p><em>(Empty list)</em></p></td></tr>\n",
       "<tr><th style=\"text-align: right;\">constraints</th><td style=\"text-align: left;\"><p><em>(Empty list)</em></p></td></tr>\n",
       "<tr><th style=\"text-align: right;\">description</th><td style=\"text-align: left;\"></td></tr>\n",
       "<tr><th style=\"text-align: right;\">diagrams</th><td style=\"text-align: left;\"><p><em>(Empty list)</em></p></td></tr>\n",
       "<tr><th style=\"text-align: right;\">filtering_criteria</th><td style=\"text-align: left;\"><p><em>(Empty list)</em></p></td></tr>\n",
       "<tr><th style=\"text-align: right;\">layer</th><td style=\"text-align: left;\"><strong>SystemAnalysis</strong> <a href=\"hlink://79d35fe7-f172-4405-b499-48aef545148a\">&quot;System Analysis&quot;</a> (79d35fe7-f172-4405-b499-48aef545148a)</td></tr>\n",
       "<tr><th style=\"text-align: right;\">members</th><td style=\"text-align: left;\"><ol start=\"0\" style=\"text-align: left;\">\n",
       "<li><strong>Property</strong> <a href=\"hlink://c0e5b34c-297e-4b3c-8957-58bbe4d36199\">&quot;trajectory&quot;</a> (c0e5b34c-297e-4b3c-8957-58bbe4d36199)</li>\n",
       "</ol></td></tr>\n",
       "<tr><th style=\"text-align: right;\">name</th><td style=\"text-align: left;\">waypoint association</td></tr>\n",
       "<tr><th style=\"text-align: right;\">navigable_members</th><td style=\"text-align: left;\"><ol start=\"0\" style=\"text-align: left;\">\n",
       "<li><strong>Property</strong> <a href=\"hlink://424efd65-eaa9-4220-b61b-fb3340dbc19a\">&quot;waypoints&quot;</a> (424efd65-eaa9-4220-b61b-fb3340dbc19a)</li>\n",
       "</ol></td></tr>\n",
       "<tr><th style=\"text-align: right;\">parent</th><td style=\"text-align: left;\"><strong>DataPkg</strong> <a href=\"hlink://814464a3-3278-48eb-b66c-e255ed11afa8\">&quot;Data&quot;</a> (814464a3-3278-48eb-b66c-e255ed11afa8)</td></tr>\n",
       "<tr><th style=\"text-align: right;\">progress_status</th><td style=\"text-align: left;\">NOT_SET</td></tr>\n",
       "<tr><th style=\"text-align: right;\">property_value_groups</th><td style=\"text-align: left;\"><p><em>(Empty list)</em></p></td></tr>\n",
       "<tr><th style=\"text-align: right;\">property_value_packages</th><td style=\"text-align: left;\"><p><em>(Empty list)</em></p></td></tr>\n",
       "<tr><th style=\"text-align: right;\">property_values</th><td style=\"text-align: left;\"><p><em>(Empty list)</em></p></td></tr>\n",
       "<tr><th style=\"text-align: right;\">pvmt</th><td style=\"text-align: left;\">Property Value Management for <strong>Association</strong> <a href=\"hlink://3d738685-83e8-45f9-ade2-d5bcc6de1a0c\">&quot;waypoint association&quot;</a> (3d738685-83e8-45f9-ade2-d5bcc6de1a0c)</td></tr>\n",
       "<tr><th style=\"text-align: right;\">requirements</th><td style=\"text-align: left;\"><p><em>(Empty list)</em></p></td></tr>\n",
       "<tr><th style=\"text-align: right;\">roles</th><td style=\"text-align: left;\"><ol start=\"0\" style=\"text-align: left;\">\n",
       "<li><strong>Property</strong> <a href=\"hlink://c0e5b34c-297e-4b3c-8957-58bbe4d36199\">&quot;trajectory&quot;</a> (c0e5b34c-297e-4b3c-8957-58bbe4d36199)</li>\n",
       "<li><strong>Property</strong> <a href=\"hlink://424efd65-eaa9-4220-b61b-fb3340dbc19a\">&quot;waypoints&quot;</a> (424efd65-eaa9-4220-b61b-fb3340dbc19a)</li>\n",
       "</ol></td></tr>\n",
       "<tr><th style=\"text-align: right;\">sid</th><td style=\"text-align: left;\"></td></tr>\n",
       "<tr><th style=\"text-align: right;\">summary</th><td style=\"text-align: left;\">Find waypoints and you will finish consistently.</td></tr>\n",
       "<tr><th style=\"text-align: right;\">traces</th><td style=\"text-align: left;\"><p><em>(Empty list)</em></p></td></tr>\n",
       "<tr><th style=\"text-align: right;\">uuid</th><td style=\"text-align: left;\">3d738685-83e8-45f9-ade2-d5bcc6de1a0c</td></tr>\n",
       "<tr><th style=\"text-align: right;\">validation</th><td style=\"text-align: left;\"><em>&lt;capellambse.extensions.validation._validate.ElementValidation object at 0x72bcb2f71910&gt;</em></td></tr>\n",
       "<tr><th style=\"text-align: right;\">visible_on_diagrams</th><td style=\"text-align: left;\"><ol start=\"0\" style=\"text-align: left;\">\n",
       "<li><b>[CDB] Class tests</b> (uuid: _KZRQIWA9Eey8erljvkS-pQ)</li>\n",
       "</ol></td></tr>\n",
       "<tr><th style=\"text-align: right;\">xtype</th><td style=\"text-align: left;\">org.polarsys.capella.core.data.information:Association</td></tr>\n",
       "</table>"
      ],
      "text/plain": [
       "<Association 'waypoint association' (3d738685-83e8-45f9-ade2-d5bcc6de1a0c)>\n",
       ".applied_property_value_groups = []\n",
       ".applied_property_values = []\n",
       ".constraints = []\n",
       ".description = Markup('')\n",
       ".diagrams = []\n",
       ".filtering_criteria = []\n",
       ".layer = <SystemAnalysis 'System Analysis' (79d35fe7-f172-4405-b499-48aef545148a)>\n",
       ".members = [0] <Property 'trajectory' (c0e5b34c-297e-4b3c-8957-58bbe4d36199)>\n",
       ".name = 'waypoint association'\n",
       ".navigable_members = [0] <Property 'waypoints' (424efd65-eaa9-4220-b61b-fb3340dbc19a)>\n",
       ".parent = <DataPkg 'Data' (814464a3-3278-48eb-b66c-e255ed11afa8)>\n",
       ".progress_status = 'NOT_SET'\n",
       ".property_value_groups = []\n",
       ".property_value_packages = []\n",
       ".property_values = []\n",
       ".pvmt = <Property Value Management for <Association 'waypoint association' (3d738685-83e8-45f9-ade2-d5bcc6de1a0c)>>\n",
       ".requirements = []\n",
       ".roles = [0] <Property 'trajectory' (c0e5b34c-297e-4b3c-8957-58bbe4d36199)>\n",
       "         [1] <Property 'waypoints' (424efd65-eaa9-4220-b61b-fb3340dbc19a)>\n",
       ".sid = ''\n",
       ".summary = 'Find waypoints and you will finish consistently.'\n",
       ".traces = []\n",
       ".uuid = '3d738685-83e8-45f9-ade2-d5bcc6de1a0c'\n",
       ".validation = <capellambse.extensions.validation._validate.ElementValidation object at 0x72bcb2f71d90>\n",
       ".visible_on_diagrams = [0] <Diagram '[CDB] Class tests'>\n",
       ".xtype = 'org.polarsys.capella.core.data.information:Association'"
      ]
     },
     "execution_count": 7,
     "metadata": {},
     "output_type": "execute_result"
    }
   ],
   "source": [
    "prop.association"
   ]
  },
  {
   "cell_type": "markdown",
   "id": "19c3fffc",
   "metadata": {},
   "source": [
    "An `Association` has `navigable_members` which can be at most 2 (the source and target roles) and a `source_role`. Whenever the `is Navigable` option is ticked in Capella the property element will appear underneath the target `Class` of the `Association`."
   ]
  },
  {
   "cell_type": "markdown",
   "id": "eb05ea54",
   "metadata": {},
   "source": [
    "## Example 2: Complex Values (instances of Classes)\n",
    "\n",
    "Capella allows to create Complex Values which have the type of a class model element. Complex Values can contain Value Parts that instantiate the properties of the class. Let's have a look at Harry's wand:"
   ]
  },
  {
   "cell_type": "code",
   "execution_count": 8,
   "id": "77a5dc04",
   "metadata": {},
   "outputs": [
    {
     "data": {
      "text/html": [
       "<h1>Harry&#39;s Wand <span style=\"font-size: 70%;\">(org.polarsys.capella.core.data.information.datavalue:ComplexValue)</span></h1>\n",
       "<table>\n",
       "<tr><th style=\"text-align: right;\">applied_property_value_groups</th><td style=\"text-align: left;\"><p><em>(Empty list)</em></p></td></tr>\n",
       "<tr><th style=\"text-align: right;\">applied_property_values</th><td style=\"text-align: left;\"><p><em>(Empty list)</em></p></td></tr>\n",
       "<tr><th style=\"text-align: right;\">constraints</th><td style=\"text-align: left;\"><p><em>(Empty list)</em></p></td></tr>\n",
       "<tr><th style=\"text-align: right;\">description</th><td style=\"text-align: left;\"></td></tr>\n",
       "<tr><th style=\"text-align: right;\">diagrams</th><td style=\"text-align: left;\"><p><em>(Empty list)</em></p></td></tr>\n",
       "<tr><th style=\"text-align: right;\">filtering_criteria</th><td style=\"text-align: left;\"><p><em>(Empty list)</em></p></td></tr>\n",
       "<tr><th style=\"text-align: right;\">layer</th><td style=\"text-align: left;\"><strong>LogicalArchitecture</strong> <a href=\"hlink://853cb005-cba0-489b-8fe3-bb694ad4543b\">&quot;Logical Architecture&quot;</a> (853cb005-cba0-489b-8fe3-bb694ad4543b)</td></tr>\n",
       "<tr><th style=\"text-align: right;\">name</th><td style=\"text-align: left;\">Harry&#39;s Wand</td></tr>\n",
       "<tr><th style=\"text-align: right;\">parent</th><td style=\"text-align: left;\"><strong>DataPkg</strong> <a href=\"hlink://880af86d-6fac-4fba-a559-2fffd036fa9a\">&quot;Wand Objects&quot;</a> (880af86d-6fac-4fba-a559-2fffd036fa9a)</td></tr>\n",
       "<tr><th style=\"text-align: right;\">progress_status</th><td style=\"text-align: left;\">NOT_SET</td></tr>\n",
       "<tr><th style=\"text-align: right;\">property_value_groups</th><td style=\"text-align: left;\"><p><em>(Empty list)</em></p></td></tr>\n",
       "<tr><th style=\"text-align: right;\">property_value_packages</th><td style=\"text-align: left;\"><p><em>(Empty list)</em></p></td></tr>\n",
       "<tr><th style=\"text-align: right;\">property_values</th><td style=\"text-align: left;\"><p><em>(Empty list)</em></p></td></tr>\n",
       "<tr><th style=\"text-align: right;\">pvmt</th><td style=\"text-align: left;\">Property Value Management for <strong>ComplexValue</strong> <a href=\"hlink://3a467d68-f53c-4d66-9d32-fe032a8cb2c5\">&quot;Harry&#39;s Wand&quot;</a> (3a467d68-f53c-4d66-9d32-fe032a8cb2c5)</td></tr>\n",
       "<tr><th style=\"text-align: right;\">requirements</th><td style=\"text-align: left;\"><p><em>(Empty list)</em></p></td></tr>\n",
       "<tr><th style=\"text-align: right;\">sid</th><td style=\"text-align: left;\"></td></tr>\n",
       "<tr><th style=\"text-align: right;\">summary</th><td style=\"text-align: left;\"></td></tr>\n",
       "<tr><th style=\"text-align: right;\">traces</th><td style=\"text-align: left;\"><p><em>(Empty list)</em></p></td></tr>\n",
       "<tr><th style=\"text-align: right;\">type</th><td style=\"text-align: left;\"><img src=\"data:image/svg+xml;base64,PHN2ZyBiYXNlUHJvZmlsZT0iZnVsbCIgaGVpZ2h0PSIxMDAlIiB2ZXJzaW9uPSIxLjEiIHZpZXdCb3g9IjAgMCAxNSAxNSIgd2lkdGg9IjEwMCUiIHhtbG5zPSJodHRwOi8vd3d3LnczLm9yZy8yMDAwL3N2ZyIgeG1sbnM6ZXY9Imh0dHA6Ly93d3cudzMub3JnLzIwMDEveG1sLWV2ZW50cyIgeG1sbnM6eGxpbms9Imh0dHA6Ly93d3cudzMub3JnLzE5OTkveGxpbmsiPjxkZWZzPjxzeW1ib2wgaWQ9IkNsYXNzU3ltYm9sIiB2aWV3Qm94PSIwIDAgMjUgMjUiPjxsaW5lYXJHcmFkaWVudCBpZD0iQ2xhc3NTeW1ib2wtZ3JhZGllbnQiIHgxPSIwIiB4Mj0iMCIgeTE9IjAiIHkyPSIxIj48c3RvcCBvZmZzZXQ9IjAuMCIgc3RvcC1jb2xvcj0iI2NmYTZhNSIgc3RvcC1vcGFjaXR5PSIxIiAvPjxzdG9wIG9mZnNldD0iMS4wIiBzdG9wLWNvbG9yPSIjZjFlMmUzIiBzdG9wLW9wYWNpdHk9IjEiIC8+PC9saW5lYXJHcmFkaWVudD48ZyBzdHJva2U9IiM5MTM3MzQiPjxyZWN0IGZpbGw9IiNlZWRjZGQiIGhlaWdodD0iMyIgd2lkdGg9IjE1IiB4PSI1IiB5PSIxNyIgLz48cmVjdCBmaWxsPSIjZWVkY2RkIiBoZWlnaHQ9IjMiIHdpZHRoPSIxNSIgeD0iNSIgeT0iMTQiIC8+PHJlY3QgZmlsbD0idXJsKCNDbGFzc1N5bWJvbC1ncmFkaWVudCkiIGhlaWdodD0iMTAiIHdpZHRoPSIxNSIgeD0iNSIgeT0iNCIgLz48L2c+PC9zeW1ib2w+PC9kZWZzPjx1c2UgaGVpZ2h0PSIxNSIgd2lkdGg9IjE1IiB4PSIwIiB4bGluazpocmVmPSIjQ2xhc3NTeW1ib2wiIHk9IjAiIC8+PC9zdmc+\" alt=\"Class\" title=\"Class\" width=\"15\" height=\"15\" style=\"display: inline-block\"> <a href=\"hlink://c710f1c2-ede6-444e-9e2b-0ff30d7fd040\">&quot;Wand&quot;</a> (c710f1c2-ede6-444e-9e2b-0ff30d7fd040)</td></tr>\n",
       "<tr><th style=\"text-align: right;\">uuid</th><td style=\"text-align: left;\">3a467d68-f53c-4d66-9d32-fe032a8cb2c5</td></tr>\n",
       "<tr><th style=\"text-align: right;\">validation</th><td style=\"text-align: left;\"><em>&lt;capellambse.extensions.validation._validate.ElementValidation object at 0x72bcb2f73410&gt;</em></td></tr>\n",
       "<tr><th style=\"text-align: right;\">value_parts</th><td style=\"text-align: left;\"><ol start=\"0\" style=\"text-align: left;\">\n",
       "<li><a href=\"hlink://c996225b-5b1f-4d53-83cb-2bc72597e8ad\"><strong>ValuePart</strong></a>: <strong>LiteralStringValue</strong> <a href=\"hlink://f7b00d88-cf53-4ae0-a0e6-bb2049b4bdea\">&quot;LiteralStringValue&quot;</a>: Harry Potter (f7b00d88-cf53-4ae0-a0e6-bb2049b4bdea) (c996225b-5b1f-4d53-83cb-2bc72597e8ad)</li>\n",
       "<li><a href=\"hlink://66da894f-6261-47ac-9ad7-217db04671d2\"><strong>ValuePart</strong></a>: <strong>EnumerationReference</strong> <a href=\"hlink://3406b669-4572-44e9-b703-1e319c350e9b\">&quot;EnumerationReference&quot;</a>: <strong>EnumerationLiteral</strong> <a href=\"hlink://492fd9ca-88cb-4e9d-b92e-df14a1c1543b\">&quot;Pheonix Feather&quot;</a>: None (492fd9ca-88cb-4e9d-b92e-df14a1c1543b) (3406b669-4572-44e9-b703-1e319c350e9b) (66da894f-6261-47ac-9ad7-217db04671d2)</li>\n",
       "<li><a href=\"hlink://a10de770-c6de-43fc-8d9f-868efe5cd29f\"><strong>ValuePart</strong></a>: <strong>EnumerationReference</strong> <a href=\"hlink://9645687f-9485-45f0-a10b-01f8b9d24914\">&quot;EnumerationReference&quot;</a>: <strong>EnumerationLiteral</strong> <a href=\"hlink://bfd550cb-7038-48db-9d7b-57cd0ca29d03\">&quot;Holly&quot;</a>: None (bfd550cb-7038-48db-9d7b-57cd0ca29d03) (9645687f-9485-45f0-a10b-01f8b9d24914) (a10de770-c6de-43fc-8d9f-868efe5cd29f)</li>\n",
       "</ol></td></tr>\n",
       "<tr><th style=\"text-align: right;\">visible_on_diagrams</th><td style=\"text-align: left;\"><p><em>(Empty list)</em></p></td></tr>\n",
       "<tr><th style=\"text-align: right;\">xtype</th><td style=\"text-align: left;\">org.polarsys.capella.core.data.information.datavalue:ComplexValue</td></tr>\n",
       "</table>"
      ],
      "text/plain": [
       "<ComplexValue \"Harry's Wand\" (3a467d68-f53c-4d66-9d32-fe032a8cb2c5)>\n",
       ".applied_property_value_groups = []\n",
       ".applied_property_values = []\n",
       ".constraints = []\n",
       ".description = Markup('')\n",
       ".diagrams = []\n",
       ".filtering_criteria = []\n",
       ".layer = <LogicalArchitecture 'Logical Architecture' (853cb005-cba0-489b-8fe3-bb694ad4543b)>\n",
       ".name = \"Harry's Wand\"\n",
       ".parent = <DataPkg 'Wand Objects' (880af86d-6fac-4fba-a559-2fffd036fa9a)>\n",
       ".progress_status = 'NOT_SET'\n",
       ".property_value_groups = []\n",
       ".property_value_packages = []\n",
       ".property_values = []\n",
       ".pvmt = <Property Value Management for <ComplexValue \"Harry's Wand\" (3a467d68-f53c-4d66-9d32-fe032a8cb2c5)>>\n",
       ".requirements = []\n",
       ".sid = ''\n",
       ".summary = ''\n",
       ".traces = []\n",
       ".type = <Class 'Wand' (c710f1c2-ede6-444e-9e2b-0ff30d7fd040)>\n",
       ".uuid = '3a467d68-f53c-4d66-9d32-fe032a8cb2c5'\n",
       ".validation = <capellambse.extensions.validation._validate.ElementValidation object at 0x72bcb2f71910>\n",
       ".value_parts = [0] <ValuePart (c996225b-5b1f-4d53-83cb-2bc72597e8ad)>\n",
       "               [1] <ValuePart (66da894f-6261-47ac-9ad7-217db04671d2)>\n",
       "               [2] <ValuePart (a10de770-c6de-43fc-8d9f-868efe5cd29f)>\n",
       ".visible_on_diagrams = []\n",
       ".xtype = 'org.polarsys.capella.core.data.information.datavalue:ComplexValue'"
      ]
     },
     "execution_count": 8,
     "metadata": {},
     "output_type": "execute_result"
    }
   ],
   "source": [
    "model.la.data_package.packages[0].complex_values[0]"
   ]
  },
  {
   "cell_type": "markdown",
   "id": "8e7b17c0",
   "metadata": {},
   "source": [
    "and let's see what wood Harry's wand is made of:"
   ]
  },
  {
   "cell_type": "code",
   "execution_count": 9,
   "id": "0557c2a5",
   "metadata": {},
   "outputs": [
    {
     "name": "stdout",
     "output_type": "stream",
     "text": [
      "The owner of Harry's Wand is Harry Potter.\n",
      "The core of Harry's Wand is Pheonix Feather.\n",
      "The wood of Harry's Wand is Holly.\n"
     ]
    }
   ],
   "source": [
    "from capellambse.metamodel.information import datavalue\n",
    "\n",
    "instance = model.la.data_package.packages[0].complex_values[0]\n",
    "for value_part in instance.value_parts:\n",
    "    value = value_part.value.value\n",
    "    if isinstance(value, datavalue.EnumerationLiteral):\n",
    "        value = value.name\n",
    "\n",
    "    print(\n",
    "        f\"The {value_part.referenced_property.name} of {instance.name} is {value}.\"\n",
    "    )"
   ]
  }
 ],
 "metadata": {
  "kernelspec": {
   "display_name": "Python 3 (ipykernel)",
   "language": "python",
   "name": "python3"
  },
  "language_info": {
   "codemirror_mode": {
    "name": "ipython",
    "version": 3
   },
   "file_extension": ".py",
   "mimetype": "text/x-python",
   "name": "python",
   "nbconvert_exporter": "python",
   "pygments_lexer": "ipython3",
   "version": "3.11.5"
  }
 },
 "nbformat": 4,
 "nbformat_minor": 5
}
