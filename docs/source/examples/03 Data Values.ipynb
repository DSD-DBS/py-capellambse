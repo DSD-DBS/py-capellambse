{
 "cells": [
  {
   "cell_type": "markdown",
   "id": "1a1fe414",
   "metadata": {},
   "source": [
    "# Data Types and Data Values\n",
    "\n",
    "This Jupyter notebook demonstrates how Data Values in Capella can be handled.\n",
    "First, let's load the model again..."
   ]
  },
  {
   "cell_type": "code",
   "execution_count": 1,
   "id": "3e28d1c9",
   "metadata": {},
   "outputs": [
    {
     "name": "stderr",
     "output_type": "stream",
     "text": [
      "Cannot load PVMT extension: ValueError: Provided model does not have a PropertyValuePkg\n",
      "Property values are not available in this model\n"
     ]
    },
    {
     "data": {
      "text/plain": [
       "<capellambse.model.MelodyModel at 0x7f73fb5fefe0>"
      ]
     },
     "execution_count": 1,
     "metadata": {},
     "output_type": "execute_result"
    }
   ],
   "source": [
    "import capellambse\n",
    "path_to_model = \"../../../tests/data/melodymodel/5_0/Melody Model Test.aird\"\n",
    "model = capellambse.MelodyModel(path_to_model, jupyter_untrusted=True)\n",
    "model"
   ]
  },
  {
   "cell_type": "markdown",
   "id": "48ce0c1e",
   "metadata": {},
   "source": [
    "As explained in the notebook 01, please ignore the warning about PVMT missing above."
   ]
  },
  {
   "cell_type": "markdown",
   "id": "7e68b88c-b4bc-4c20-a39f-48094c0eabdd",
   "metadata": {
    "tags": []
   },
   "source": [
    "## Example 1: Look into the Data package of the Logical Architecture\n",
    "\n",
    "Let's have a look into the data package on the Logical Architecture. It works the same with the other architectures, just replace the `oa` accordingly. We can see the defined classes, collections, enuemrations, and so on."
   ]
  },
  {
   "cell_type": "code",
   "execution_count": 2,
   "id": "da8b86b7",
   "metadata": {},
   "outputs": [
    {
     "data": {
      "text/html": [
       "<h1>DataPkg <span style=\"font-size: 70%;\">(org.polarsys.capella.core.data.information:DataPkg)</span></h1><table><tr><th style=\"text-align: right;\">classes</th><td style=\"text-align: left;\"><ol start=\"0\" style=\"text-align: left;\"><li><strong>Class</strong> &quot;Wand&quot; (c710f1c2-ede6-444e-9e2b-0ff30d7fd040)</li><li><strong>Class</strong> &quot;Class 2&quot; (1adf8097-18f9-474e-b136-6c845fc6d9e9)</li></ol></td></tr><tr><th style=\"text-align: right;\">collections</th><td style=\"text-align: left;\"><p><em>(Empty list)</em></p></td></tr><tr><th style=\"text-align: right;\">complex_values</th><td style=\"text-align: left;\"><p><em>(Empty list)</em></p></td></tr><tr><th style=\"text-align: right;\">constraints</th><td style=\"text-align: left;\"><p><em>(Empty list)</em></p></td></tr><tr><th style=\"text-align: right;\">description</th><td style=\"text-align: left;\"><em>None</em></td></tr><tr><th style=\"text-align: right;\">diagrams</th><td style=\"text-align: left;\"><p><em>(Empty list)</em></p></td></tr><tr><th style=\"text-align: right;\">enumerations</th><td style=\"text-align: left;\"><ol start=\"0\" style=\"text-align: left;\"><li><strong>Enumeration</strong> &quot;Wand Core&quot; (546cd75a-c7ac-4e07-9d2d-8a1f93d82419)</li><li><strong>Enumeration</strong> &quot;Wand Wood&quot; (60314ce6-bc96-4b57-8965-7187241148ae)</li></ol></td></tr><tr><th style=\"text-align: right;\">name</th><td style=\"text-align: left;\">Data</td></tr><tr><th style=\"text-align: right;\">packages</th><td style=\"text-align: left;\"><ol start=\"0\" style=\"text-align: left;\"><li><strong>DataPkg</strong> &quot;Wand Objects&quot; (880af86d-6fac-4fba-a559-2fffd036fa9a)</li></ol></td></tr><tr><th style=\"text-align: right;\">parent</th><td style=\"text-align: left;\"><strong>LogicalArchitecture</strong> &quot;Logical Architecture&quot; (853cb005-cba0-489b-8fe3-bb694ad4543b)</td></tr><tr><th style=\"text-align: right;\">progress_status</th><td style=\"text-align: left;\">NOT_SET</td></tr><tr><th style=\"text-align: right;\">requirements</th><td style=\"text-align: left;\"><p><em>(Empty list)</em></p></td></tr><tr><th style=\"text-align: right;\">summary</th><td style=\"text-align: left;\"><em>None</em></td></tr><tr><th style=\"text-align: right;\">unions</th><td style=\"text-align: left;\"><p><em>(Empty list)</em></p></td></tr><tr><th style=\"text-align: right;\">uuid</th><td style=\"text-align: left;\">39e99d4a-a32c-4b70-b4b6-d03fec612e17</td></tr><tr><th style=\"text-align: right;\">xtype</th><td style=\"text-align: left;\">org.polarsys.capella.core.data.information:DataPkg</td></tr></table>"
      ],
      "text/plain": [
       "<DataPkg 'Data' (39e99d4a-a32c-4b70-b4b6-d03fec612e17)>"
      ]
     },
     "execution_count": 2,
     "metadata": {},
     "output_type": "execute_result"
    }
   ],
   "source": [
    "model.la.data_package"
   ]
  },
  {
   "cell_type": "markdown",
   "id": "e01263c2",
   "metadata": {},
   "source": [
    "For Enumerations we can see the Literals assigned to it. We can see both the literals that have been inherited by the specialized super class, and the literals that are defined within this model element (own_literals)."
   ]
  },
  {
   "cell_type": "code",
   "execution_count": 3,
   "id": "abcd8693",
   "metadata": {},
   "outputs": [
    {
     "data": {
      "text/html": [
       "<h1>Enumeration <span style=\"font-size: 70%;\">(org.polarsys.capella.core.data.information.datatype:Enumeration)</span></h1><table><tr><th style=\"text-align: right;\">constraints</th><td style=\"text-align: left;\"><p><em>(Empty list)</em></p></td></tr><tr><th style=\"text-align: right;\">description</th><td style=\"text-align: left;\"><em>None</em></td></tr><tr><th style=\"text-align: right;\">diagrams</th><td style=\"text-align: left;\"><p><em>(Empty list)</em></p></td></tr><tr><th style=\"text-align: right;\">literals</th><td style=\"text-align: left;\"><ol start=\"0\" style=\"text-align: left;\"><li><strong>EnumerationLiteral</strong> &quot;Unicorn Hair&quot; (79263437-b45d-410d-a264-8aa28d7574d1)</li><li><strong>EnumerationLiteral</strong> &quot;Dragon Heartstring&quot; (6bb9876c-f3a7-4d59-a6d1-819372368fa0)</li><li><strong>EnumerationLiteral</strong> &quot;Pheonix Feather&quot; (492fd9ca-88cb-4e9d-b92e-df14a1c1543b)</li><li><strong>EnumerationLiteral</strong> &quot;Thestral Tail-Hair&quot; (1e73d13b-1c26-4537-834d-e467f993befe)</li></ol></td></tr><tr><th style=\"text-align: right;\">name</th><td style=\"text-align: left;\">Wand Core</td></tr><tr><th style=\"text-align: right;\">owned_literals</th><td style=\"text-align: left;\"><ol start=\"0\" style=\"text-align: left;\"><li><strong>EnumerationLiteral</strong> &quot;Unicorn Hair&quot; (79263437-b45d-410d-a264-8aa28d7574d1)</li><li><strong>EnumerationLiteral</strong> &quot;Dragon Heartstring&quot; (6bb9876c-f3a7-4d59-a6d1-819372368fa0)</li><li><strong>EnumerationLiteral</strong> &quot;Pheonix Feather&quot; (492fd9ca-88cb-4e9d-b92e-df14a1c1543b)</li><li><strong>EnumerationLiteral</strong> &quot;Thestral Tail-Hair&quot; (1e73d13b-1c26-4537-834d-e467f993befe)</li></ol></td></tr><tr><th style=\"text-align: right;\">parent</th><td style=\"text-align: left;\"><strong>DataPkg</strong> &quot;Data&quot; (39e99d4a-a32c-4b70-b4b6-d03fec612e17)</td></tr><tr><th style=\"text-align: right;\">progress_status</th><td style=\"text-align: left;\">NOT_SET</td></tr><tr><th style=\"text-align: right;\">requirements</th><td style=\"text-align: left;\"><p><em>(Empty list)</em></p></td></tr><tr><th style=\"text-align: right;\">sub</th><td style=\"text-align: left;\"><p><em>(Empty list)</em></p></td></tr><tr><th style=\"text-align: right;\">summary</th><td style=\"text-align: left;\"><em>None</em></td></tr><tr><th style=\"text-align: right;\">super</th><td style=\"text-align: left;\"><em>None</em></td></tr><tr><th style=\"text-align: right;\">uuid</th><td style=\"text-align: left;\">546cd75a-c7ac-4e07-9d2d-8a1f93d82419</td></tr><tr><th style=\"text-align: right;\">xtype</th><td style=\"text-align: left;\">org.polarsys.capella.core.data.information.datatype:Enumeration</td></tr></table>"
      ],
      "text/plain": [
       "<Enumeration 'Wand Core' (546cd75a-c7ac-4e07-9d2d-8a1f93d82419)>"
      ]
     },
     "execution_count": 3,
     "metadata": {},
     "output_type": "execute_result"
    }
   ],
   "source": [
    "model.la.data_package.enumerations[0]"
   ]
  },
  {
   "cell_type": "markdown",
   "id": "dfcbe9cf",
   "metadata": {},
   "source": [
    "Let's do the same for a class. Again, we can see the properties of the super class and the properties of the own model element."
   ]
  },
  {
   "cell_type": "code",
   "execution_count": 4,
   "id": "a968821f",
   "metadata": {},
   "outputs": [
    {
     "data": {
      "text/html": [
       "<h1>Class <span style=\"font-size: 70%;\">(org.polarsys.capella.core.data.information:Class)</span></h1><table><tr><th style=\"text-align: right;\">constraints</th><td style=\"text-align: left;\"><p><em>(Empty list)</em></p></td></tr><tr><th style=\"text-align: right;\">description</th><td style=\"text-align: left;\"><em>None</em></td></tr><tr><th style=\"text-align: right;\">diagrams</th><td style=\"text-align: left;\"><p><em>(Empty list)</em></p></td></tr><tr><th style=\"text-align: right;\">is_abstract</th><td style=\"text-align: left;\"><em>False</em></td></tr><tr><th style=\"text-align: right;\">is_final</th><td style=\"text-align: left;\"><em>False</em></td></tr><tr><th style=\"text-align: right;\">is_primitive</th><td style=\"text-align: left;\"><em>False</em></td></tr><tr><th style=\"text-align: right;\">name</th><td style=\"text-align: left;\">Wand</td></tr><tr><th style=\"text-align: right;\">owned_properties</th><td style=\"text-align: left;\"><ol start=\"0\" style=\"text-align: left;\"><li><strong>Property</strong> &quot;owner&quot; (9b1f6d9c-58d6-4e5e-a0f1-822cb5440a51)</li><li><strong>Property</strong> &quot;core&quot; (32f70910-a1fd-4ec9-8d22-4c585ceaf7b9)</li><li><strong>Property</strong> &quot;wood&quot; (df884a71-e774-49e1-8aee-0a675179c647)</li></ol></td></tr><tr><th style=\"text-align: right;\">parent</th><td style=\"text-align: left;\"><strong>DataPkg</strong> &quot;Data&quot; (39e99d4a-a32c-4b70-b4b6-d03fec612e17)</td></tr><tr><th style=\"text-align: right;\">progress_status</th><td style=\"text-align: left;\">NOT_SET</td></tr><tr><th style=\"text-align: right;\">properties</th><td style=\"text-align: left;\"><ol start=\"0\" style=\"text-align: left;\"><li><strong>Property</strong> &quot;owner&quot; (9b1f6d9c-58d6-4e5e-a0f1-822cb5440a51)</li><li><strong>Property</strong> &quot;core&quot; (32f70910-a1fd-4ec9-8d22-4c585ceaf7b9)</li><li><strong>Property</strong> &quot;wood&quot; (df884a71-e774-49e1-8aee-0a675179c647)</li></ol></td></tr><tr><th style=\"text-align: right;\">requirements</th><td style=\"text-align: left;\"><p><em>(Empty list)</em></p></td></tr><tr><th style=\"text-align: right;\">state_machines</th><td style=\"text-align: left;\"><p><em>(Empty list)</em></p></td></tr><tr><th style=\"text-align: right;\">sub</th><td style=\"text-align: left;\"><p><em>(Empty list)</em></p></td></tr><tr><th style=\"text-align: right;\">summary</th><td style=\"text-align: left;\"><em>None</em></td></tr><tr><th style=\"text-align: right;\">super</th><td style=\"text-align: left;\"><em>None</em></td></tr><tr><th style=\"text-align: right;\">uuid</th><td style=\"text-align: left;\">c710f1c2-ede6-444e-9e2b-0ff30d7fd040</td></tr><tr><th style=\"text-align: right;\">visibility</th><td style=\"text-align: left;\"><em>&lt;VisibilityKind.UNSET: 1&gt;</em></td></tr><tr><th style=\"text-align: right;\">xtype</th><td style=\"text-align: left;\">org.polarsys.capella.core.data.information:Class</td></tr></table>"
      ],
      "text/plain": [
       "<Class 'Wand' (c710f1c2-ede6-444e-9e2b-0ff30d7fd040)>"
      ]
     },
     "execution_count": 4,
     "metadata": {},
     "output_type": "execute_result"
    }
   ],
   "source": [
    "model.la.data_package.classes[0]"
   ]
  },
  {
   "cell_type": "markdown",
   "id": "b7bc5a40",
   "metadata": {},
   "source": [
    "We can investigate the properties of a Class"
   ]
  },
  {
   "cell_type": "code",
   "execution_count": 5,
   "id": "56bb4b44",
   "metadata": {
    "scrolled": false
   },
   "outputs": [
    {
     "data": {
      "text/html": [
       "<h1>Property <span style=\"font-size: 70%;\">(org.polarsys.capella.core.data.information:Property)</span></h1><table><tr><th style=\"text-align: right;\">constraints</th><td style=\"text-align: left;\"><p><em>(Empty list)</em></p></td></tr><tr><th style=\"text-align: right;\">default_value</th><td style=\"text-align: left;\"><em>None</em></td></tr><tr><th style=\"text-align: right;\">description</th><td style=\"text-align: left;\"><em>None</em></td></tr><tr><th style=\"text-align: right;\">diagrams</th><td style=\"text-align: left;\"><p><em>(Empty list)</em></p></td></tr><tr><th style=\"text-align: right;\">is_abstract</th><td style=\"text-align: left;\"><em>False</em></td></tr><tr><th style=\"text-align: right;\">is_derived</th><td style=\"text-align: left;\"><em>False</em></td></tr><tr><th style=\"text-align: right;\">is_ordered</th><td style=\"text-align: left;\"><em>False</em></td></tr><tr><th style=\"text-align: right;\">is_part_of_key</th><td style=\"text-align: left;\"><em>False</em></td></tr><tr><th style=\"text-align: right;\">is_read_only</th><td style=\"text-align: left;\"><em>False</em></td></tr><tr><th style=\"text-align: right;\">is_static</th><td style=\"text-align: left;\"><em>False</em></td></tr><tr><th style=\"text-align: right;\">is_unique</th><td style=\"text-align: left;\"><em>False</em></td></tr><tr><th style=\"text-align: right;\">max</th><td style=\"text-align: left;\"><em>None</em></td></tr><tr><th style=\"text-align: right;\">max_card</th><td style=\"text-align: left;\"><strong>LiteralNumericValue</strong> &quot;(Unnamed org.polarsys.capella.core.data.information.datavalue:LiteralNumericValue)&quot;: 1.0 (43e39098-ace4-47c4-8f1c-1df1986063e2)</td></tr><tr><th style=\"text-align: right;\">min</th><td style=\"text-align: left;\"><em>None</em></td></tr><tr><th style=\"text-align: right;\">min_card</th><td style=\"text-align: left;\"><strong>LiteralNumericValue</strong> &quot;(Unnamed org.polarsys.capella.core.data.information.datavalue:LiteralNumericValue)&quot;: 1.0 (95d6a6e5-6442-408d-afb2-d8f7a24c5f56)</td></tr><tr><th style=\"text-align: right;\">name</th><td style=\"text-align: left;\">owner</td></tr><tr><th style=\"text-align: right;\">null_value</th><td style=\"text-align: left;\"><em>None</em></td></tr><tr><th style=\"text-align: right;\">parent</th><td style=\"text-align: left;\"><strong>Class</strong> &quot;Wand&quot; (c710f1c2-ede6-444e-9e2b-0ff30d7fd040)</td></tr><tr><th style=\"text-align: right;\">progress_status</th><td style=\"text-align: left;\">NOT_SET</td></tr><tr><th style=\"text-align: right;\">requirements</th><td style=\"text-align: left;\"><p><em>(Empty list)</em></p></td></tr><tr><th style=\"text-align: right;\">summary</th><td style=\"text-align: left;\"><em>None</em></td></tr><tr><th style=\"text-align: right;\">type</th><td style=\"text-align: left;\"><strong>GenericElement</strong> &quot;String&quot; (b2f035e6-78c8-4dfd-99f0-bf4a40ea3e81)</td></tr><tr><th style=\"text-align: right;\">uuid</th><td style=\"text-align: left;\">9b1f6d9c-58d6-4e5e-a0f1-822cb5440a51</td></tr><tr><th style=\"text-align: right;\">visibility</th><td style=\"text-align: left;\"><em>&lt;VisibilityKind.UNSET: 1&gt;</em></td></tr><tr><th style=\"text-align: right;\">xtype</th><td style=\"text-align: left;\">org.polarsys.capella.core.data.information:Property</td></tr></table>"
      ],
      "text/plain": [
       "<Property 'owner' (9b1f6d9c-58d6-4e5e-a0f1-822cb5440a51)>"
      ]
     },
     "execution_count": 5,
     "metadata": {},
     "output_type": "execute_result"
    }
   ],
   "source": [
    "model.la.data_package.classes[0].properties[0]"
   ]
  },
  {
   "cell_type": "markdown",
   "id": "eb05ea54",
   "metadata": {},
   "source": [
    "## Example 2: Complex Values (instances of Classes)\n",
    "\n",
    "Capella allows to create Complex Values which have the type of a class model element. Complex Values can contain Value Parts that instantiate the properties of the class. Let's have a look at Harry's wand:"
   ]
  },
  {
   "cell_type": "code",
   "execution_count": 6,
   "id": "77a5dc04",
   "metadata": {},
   "outputs": [
    {
     "data": {
      "text/html": [
       "<h1>ComplexValue <span style=\"font-size: 70%;\">(org.polarsys.capella.core.data.information.datavalue:ComplexValue)</span></h1><table><tr><th style=\"text-align: right;\">constraints</th><td style=\"text-align: left;\"><p><em>(Empty list)</em></p></td></tr><tr><th style=\"text-align: right;\">description</th><td style=\"text-align: left;\"><em>None</em></td></tr><tr><th style=\"text-align: right;\">diagrams</th><td style=\"text-align: left;\"><p><em>(Empty list)</em></p></td></tr><tr><th style=\"text-align: right;\">name</th><td style=\"text-align: left;\">Harry&#39;s Wand</td></tr><tr><th style=\"text-align: right;\">parent</th><td style=\"text-align: left;\"><strong>DataPkg</strong> &quot;Wand Objects&quot; (880af86d-6fac-4fba-a559-2fffd036fa9a)</td></tr><tr><th style=\"text-align: right;\">progress_status</th><td style=\"text-align: left;\">NOT_SET</td></tr><tr><th style=\"text-align: right;\">requirements</th><td style=\"text-align: left;\"><p><em>(Empty list)</em></p></td></tr><tr><th style=\"text-align: right;\">summary</th><td style=\"text-align: left;\"><em>None</em></td></tr><tr><th style=\"text-align: right;\">type</th><td style=\"text-align: left;\"><strong>Class</strong> &quot;Wand&quot; (c710f1c2-ede6-444e-9e2b-0ff30d7fd040)</td></tr><tr><th style=\"text-align: right;\">uuid</th><td style=\"text-align: left;\">3a467d68-f53c-4d66-9d32-fe032a8cb2c5</td></tr><tr><th style=\"text-align: right;\">value_parts</th><td style=\"text-align: left;\"><ol start=\"0\" style=\"text-align: left;\"><li><strong>ValuePart</strong> &quot;(Unnamed org.polarsys.capella.core.data.information.datavalue:ValuePart)&quot;: <LiteralStringValue 'LiteralStringValue' (f7b00d88-cf53-4ae0-a0e6-bb2049b4bdea)> (c996225b-5b1f-4d53-83cb-2bc72597e8ad)</li><li><strong>ValuePart</strong> &quot;(Unnamed org.polarsys.capella.core.data.information.datavalue:ValuePart)&quot;: <EnumerationReference 'EnumerationReference' (3406b669-4572-44e9-b703-1e319c350e9b)> (66da894f-6261-47ac-9ad7-217db04671d2)</li><li><strong>ValuePart</strong> &quot;(Unnamed org.polarsys.capella.core.data.information.datavalue:ValuePart)&quot;: <EnumerationReference 'EnumerationReference' (9645687f-9485-45f0-a10b-01f8b9d24914)> (a10de770-c6de-43fc-8d9f-868efe5cd29f)</li></ol></td></tr><tr><th style=\"text-align: right;\">xtype</th><td style=\"text-align: left;\">org.polarsys.capella.core.data.information.datavalue:ComplexValue</td></tr></table>"
      ],
      "text/plain": [
       "<ComplexValue \"Harry's Wand\" (3a467d68-f53c-4d66-9d32-fe032a8cb2c5)>"
      ]
     },
     "execution_count": 6,
     "metadata": {},
     "output_type": "execute_result"
    }
   ],
   "source": [
    "model.la.data_package.packages[0].complex_values[0]"
   ]
  },
  {
   "cell_type": "markdown",
   "id": "8e7b17c0",
   "metadata": {},
   "source": [
    "and let's see what wood Harry's wand is made of:"
   ]
  },
  {
   "cell_type": "code",
   "execution_count": 7,
   "id": "0557c2a5",
   "metadata": {},
   "outputs": [
    {
     "name": "stdout",
     "output_type": "stream",
     "text": [
      "The owner of Harry's Wand is Harry Potter\n",
      "The core of Harry's Wand is <EnumerationLiteral 'Pheonix Feather' (492fd9ca-88cb-4e9d-b92e-df14a1c1543b)>\n",
      "The wood of Harry's Wand is <EnumerationLiteral 'Holly' (bfd550cb-7038-48db-9d7b-57cd0ca29d03)>\n"
     ]
    }
   ],
   "source": [
    "instance = model.la.data_package.packages[0].complex_values[0]\n",
    "for value_part in instance.value_parts:\n",
    "    print(f\"The {value_part.referenced_property.name} of {instance.name} is {value_part.value.value}\")"
   ]
  }
 ],
 "metadata": {
  "kernelspec": {
   "display_name": "venv",
   "language": "python",
   "name": "venv"
  },
  "language_info": {
   "codemirror_mode": {
    "name": "ipython",
    "version": 3
   },
   "file_extension": ".py",
   "mimetype": "text/x-python",
   "name": "python",
   "nbconvert_exporter": "python",
   "pygments_lexer": "ipython3",
   "version": "3.10.6"
  }
 },
 "nbformat": 4,
 "nbformat_minor": 5
}
