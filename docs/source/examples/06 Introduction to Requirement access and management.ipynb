{
 "cells": [
  {
   "cell_type": "markdown",
   "id": "7bcee230",
   "metadata": {},
   "source": [
    "# Introduction to Requirement access and management\n",
    "\n",
    "Welcome to the ReqIF extension Showcase notebook. This notebook will show you some basic (and not so basic) things that you can get done using this library.\n",
    "\n",
    "The below code loads the library and one of the test models:"
   ]
  },
  {
   "cell_type": "code",
   "execution_count": 1,
   "id": "a52777dd",
   "metadata": {},
   "outputs": [
    {
     "data": {
      "text/plain": [
       "<capellambse.model.MelodyModel at 0x7f6c60257ca0>"
      ]
     },
     "execution_count": 1,
     "metadata": {},
     "output_type": "execute_result"
    }
   ],
   "source": [
    "import capellambse\n",
    "\n",
    "path_to_model = \"../../../tests/data/melodymodel/5_0/Melody Model Test.aird\"\n",
    "model = capellambse.MelodyModel(path_to_model)\n",
    "model"
   ]
  },
  {
   "cell_type": "markdown",
   "id": "d8442183",
   "metadata": {},
   "source": [
    "You can access a lookup for all requirements defined in a specific layer."
   ]
  },
  {
   "cell_type": "code",
   "execution_count": 2,
   "id": "42a46a49",
   "metadata": {},
   "outputs": [
    {
     "data": {
      "text/html": [
       "<ol start=\"0\" style=\"text-align: left;\"><li><strong>Requirement</strong> &quot;TestReq1&quot; (3c2d312c-37c9-41b5-8c32-67578fa52dc3)</li><li><strong>Requirement</strong> &quot;TypedReq2&quot; (0a9a68b1-ba9a-4793-b2cf-4448f0b4b8cc)</li><li><strong>Requirement</strong> &quot;TestReq3&quot; (79291c33-5147-4543-9398-9077d582576d)</li><li><strong>Requirement</strong> &quot;TypedReq1&quot; (85d41db2-9e17-438b-95cf-49342452ddf3)</li><li><strong>Requirement</strong> &quot;TestReq&quot; (1092f69a-5f3a-4fe6-a8fd-b2dffde90650)</li></ol>"
      ],
      "text/plain": [
       "[0] <Requirement 'TestReq1' (3c2d312c-37c9-41b5-8c32-67578fa52dc3)>\n",
       "[1] <Requirement 'TypedReq2' (0a9a68b1-ba9a-4793-b2cf-4448f0b4b8cc)>\n",
       "[2] <Requirement 'TestReq3' (79291c33-5147-4543-9398-9077d582576d)>\n",
       "[3] <Requirement 'TypedReq1' (85d41db2-9e17-438b-95cf-49342452ddf3)>\n",
       "[4] <Requirement 'TestReq' (1092f69a-5f3a-4fe6-a8fd-b2dffde90650)>"
      ]
     },
     "execution_count": 2,
     "metadata": {},
     "output_type": "execute_result"
    }
   ],
   "source": [
    "model.oa.all_requirements"
   ]
  },
  {
   "cell_type": "markdown",
   "id": "904c842b",
   "metadata": {},
   "source": [
    "Have a look at all of the available attributes for a Requirement ModelElement:"
   ]
  },
  {
   "cell_type": "code",
   "execution_count": 3,
   "id": "cb0a5b75",
   "metadata": {},
   "outputs": [
    {
     "data": {
      "text/html": [
       "<h1>TestReq1 <span style=\"font-size: 70%;\">(Requirements:Requirement)</span></h1><table><tr><th style=\"text-align: right;\">applied_property_value_groups</th><td style=\"text-align: left;\"><p><em>(Empty list)</em></p></td></tr><tr><th style=\"text-align: right;\">applied_property_values</th><td style=\"text-align: left;\"><p><em>(Empty list)</em></p></td></tr><tr><th style=\"text-align: right;\">attributes</th><td style=\"text-align: left;\"><ol start=\"0\" style=\"text-align: left;\"><li><strong>BooleanValueAttribute</strong> &quot;AttrDef&quot; (9c692405-b8aa-4caa-b988-51d27db5cd1b)</li><li><strong>DateValueAttribute</strong> &quot;AttrDef&quot; (b97c09b5-948a-46e8-a656-69d764ddce7d)</li><li><strong>IntegerValueAttribute</strong> &quot;AttrDef&quot; (85dfd42c-7f6e-4236-a181-bdd784040431)</li><li><strong>RealValueAttribute</strong> &quot;AttrDef&quot; (d2231d14-854d-4625-b48b-6cf1c2554367)</li><li><strong>StringValueAttribute</strong> &quot;AttrDef&quot; (ee8a69ef-61b9-4db9-9a0f-628e5d4704e1)</li><li><strong>BooleanValueAttribute</strong> &quot;None&quot; (dcb8614e-2d1c-4cb3-aa0c-667a297e7489)</li></ol></td></tr><tr><th style=\"text-align: right;\">chapter_name</th><td style=\"text-align: left;\">2</td></tr><tr><th style=\"text-align: right;\">constraints</th><td style=\"text-align: left;\"><p><em>(Empty list)</em></p></td></tr><tr><th style=\"text-align: right;\">description</th><td style=\"text-align: left;\">This is a test requirement of kind 1.</td></tr><tr><th style=\"text-align: right;\">diagrams</th><td style=\"text-align: left;\"><p><em>(Empty list)</em></p></td></tr><tr><th style=\"text-align: right;\">filtering_criteria</th><td style=\"text-align: left;\"><p><em>(Empty list)</em></p></td></tr><tr><th style=\"text-align: right;\">foreign_id</th><td style=\"text-align: left;\"><em>1</em></td></tr><tr><th style=\"text-align: right;\">identifier</th><td style=\"text-align: left;\">REQTYPE-1</td></tr><tr><th style=\"text-align: right;\">long_name</th><td style=\"text-align: left;\">1</td></tr><tr><th style=\"text-align: right;\">name</th><td style=\"text-align: left;\">TestReq1</td></tr><tr><th style=\"text-align: right;\">owner</th><td style=\"text-align: left;\"><strong>Folder</strong> &quot;Folder&quot; (e16f5cc1-3299-43d0-b1a0-82d31a137111)</td></tr><tr><th style=\"text-align: right;\">parent</th><td style=\"text-align: left;\"><strong>Folder</strong> &quot;Folder&quot; (e16f5cc1-3299-43d0-b1a0-82d31a137111)</td></tr><tr><th style=\"text-align: right;\">prefix</th><td style=\"text-align: left;\">3</td></tr><tr><th style=\"text-align: right;\">progress_status</th><td style=\"text-align: left;\">NOT_SET</td></tr><tr><th style=\"text-align: right;\">property_value_groups</th><td style=\"text-align: left;\"><p><em>(Empty list)</em></p></td></tr><tr><th style=\"text-align: right;\">property_values</th><td style=\"text-align: left;\"><p><em>(Empty list)</em></p></td></tr><tr><th style=\"text-align: right;\">pvmt</th><td style=\"text-align: left;\"><em>&lt;capellambse.extensions.pvmt.PropertyValueProxy object at 0x7f3afe4e68d0&gt;</em></td></tr><tr><th style=\"text-align: right;\">related</th><td style=\"text-align: left;\"><ol start=\"0\" style=\"text-align: left;\"><li><strong>Entity</strong> &quot;Weather&quot; (4bf0356c-89dd-45e9-b8a6-e0332c026d33)</li><li><strong>SystemFunction</strong> &quot;Sysexfunc&quot; (00e7b925-cf4c-4cb0-929e-5409a1cd872b)</li><li><strong>Requirement</strong> &quot;TypedReq1&quot; (85d41db2-9e17-438b-95cf-49342452ddf3)</li><li><strong>LogicalComponent</strong> &quot;Hogwarts&quot; (0d2edb8f-fa34-4e73-89ec-fb9a63001440)</li></ol></td></tr><tr><th style=\"text-align: right;\">relations</th><td style=\"text-align: left;\"><ol start=\"0\" style=\"text-align: left;\"><li><strong>CapellaIncomingRelation</strong> &quot;Controlling the weather&quot; (078b2c69-4352-4cf9-9ea5-6573b75e5eec)</li><li><strong>CapellaIncomingRelation</strong> &quot;Test req&quot; (24c824ef-b187-4725-a051-a68707e82d70)</li><li><strong>InternalRelation</strong> &quot;None&quot; (7de4c1a5-e106-4171-902a-502b816b60b0)</li><li><strong>CapellaOutgoingRelation</strong> &quot;None&quot; (57033242-3766-4961-8091-ce3d9326ed67)</li></ol></td></tr><tr><th style=\"text-align: right;\">requirements</th><td style=\"text-align: left;\"><ol start=\"0\" style=\"text-align: left;\"><li><strong>Entity</strong> &quot;Weather&quot; (4bf0356c-89dd-45e9-b8a6-e0332c026d33)</li><li><strong>SystemFunction</strong> &quot;Sysexfunc&quot; (00e7b925-cf4c-4cb0-929e-5409a1cd872b)</li><li><strong>Requirement</strong> &quot;TypedReq1&quot; (85d41db2-9e17-438b-95cf-49342452ddf3)</li><li><strong>LogicalComponent</strong> &quot;Hogwarts&quot; (0d2edb8f-fa34-4e73-89ec-fb9a63001440)</li></ol></td></tr><tr><th style=\"text-align: right;\">summary</th><td style=\"text-align: left;\"><em>None</em></td></tr><tr><th style=\"text-align: right;\">text</th><td style=\"text-align: left;\"><p>Test requirement 1 really l o n g text that is&nbsp;way too long to display here as that</p>\n",
       "\n",
       "<p>&lt; &gt; &quot; &#39;</p>\n",
       "\n",
       "<ul>\n",
       "\t<li>This&nbsp;is a list</li>\n",
       "\t<li>an unordered one</li>\n",
       "</ul>\n",
       "\n",
       "<ol>\n",
       "\t<li>Ordered list</li>\n",
       "\t<li>Ok</li>\n",
       "</ol>\n",
       "</td></tr><tr><th style=\"text-align: right;\">traces</th><td style=\"text-align: left;\"><p><em>(Empty list)</em></p></td></tr><tr><th style=\"text-align: right;\">type</th><td style=\"text-align: left;\"><strong>RequirementType</strong> &quot;ReqType&quot; (db47fca9-ddb6-4397-8d4b-e397e53d277e)</td></tr><tr><th style=\"text-align: right;\">uuid</th><td style=\"text-align: left;\">3c2d312c-37c9-41b5-8c32-67578fa52dc3</td></tr><tr><th style=\"text-align: right;\">xtype</th><td style=\"text-align: left;\">Requirements:Requirement</td></tr></table>"
      ],
      "text/plain": [
       "<Requirement 'TestReq1' (3c2d312c-37c9-41b5-8c32-67578fa52dc3)>\n",
       ".applied_property_value_groups = []\n",
       ".applied_property_values = []\n",
       ".attributes = [0] <BooleanValueAttribute [AttrDef] True (9c692405-b8aa-4caa-b988-51d27db5cd1b)>\n",
       "              [1] <DateValueAttribute [AttrDef] 2021-07-23T15:00:00+02:00 (b97c09b5-948a-46e8-a656-69d764ddce7d)>\n",
       "              [2] <IntegerValueAttribute [AttrDef] 10 (85dfd42c-7f6e-4236-a181-bdd784040431)>\n",
       "              [3] <RealValueAttribute [AttrDef] 10.5 (d2231d14-854d-4625-b48b-6cf1c2554367)>\n",
       "              [4] <StringValueAttribute [AttrDef] 'Test' (ee8a69ef-61b9-4db9-9a0f-628e5d4704e1)>\n",
       "              [5] <BooleanValueAttribute [Boolean Value Attribute] False (dcb8614e-2d1c-4cb3-aa0c-667a297e7489)>\n",
       ".chapter_name = '2'\n",
       ".constraints = []\n",
       ".description = 'This is a test requirement of kind 1.'\n",
       ".diagrams = []\n",
       ".filtering_criteria = []\n",
       ".foreign_id = 1\n",
       ".identifier = 'REQTYPE-1'\n",
       ".long_name = '1'\n",
       ".name = 'TestReq1'\n",
       ".owner = <Folder 'Folder' (e16f5cc1-3299-43d0-b1a0-82d31a137111)>\n",
       ".parent = <Folder 'Folder' (e16f5cc1-3299-43d0-b1a0-82d31a137111)>\n",
       ".prefix = '3'\n",
       ".progress_status = 'NOT_SET'\n",
       ".property_value_groups = []\n",
       ".property_values = []\n",
       ".pvmt = <capellambse.extensions.pvmt.PropertyValueProxy object at 0x7f3afe547310>\n",
       ".related = [0] <Entity 'Weather' (4bf0356c-89dd-45e9-b8a6-e0332c026d33)>\n",
       "           [1] <SystemFunction 'Sysexfunc' (00e7b925-cf4c-4cb0-929e-5409a1cd872b)>\n",
       "           [2] <Requirement 'TypedReq1' (85d41db2-9e17-438b-95cf-49342452ddf3)>\n",
       "           [3] <LogicalComponent 'Hogwarts' (0d2edb8f-fa34-4e73-89ec-fb9a63001440)>\n",
       ".relations = [0] <CapellaIncomingRelation 'Controlling the weather' from <Requirement 'TestReq1' (3c2d312c-37c9-41b5-8c32-67578fa52dc3)> to <Entity 'Weather' (4bf0356c-89dd-45e9-b8a6-e0332c026d33)> (078b2c69-4352-4cf9-9ea5-6573b75e5eec)>\n",
       "             [1] <CapellaIncomingRelation 'Test req' from <Requirement 'TestReq1' (3c2d312c-37c9-41b5-8c32-67578fa52dc3)> to <SystemFunction 'Sysexfunc' (00e7b925-cf4c-4cb0-929e-5409a1cd872b)> (24c824ef-b187-4725-a051-a68707e82d70)>\n",
       "             [2] <InternalRelation None from <Requirement 'TestReq1' (3c2d312c-37c9-41b5-8c32-67578fa52dc3)> to <Requirement 'TypedReq1' (85d41db2-9e17-438b-95cf-49342452ddf3)> (7de4c1a5-e106-4171-902a-502b816b60b0)>\n",
       "             [3] <CapellaOutgoingRelation None from <Requirement 'TestReq1' (3c2d312c-37c9-41b5-8c32-67578fa52dc3)> to <LogicalComponent 'Hogwarts' (0d2edb8f-fa34-4e73-89ec-fb9a63001440)> (57033242-3766-4961-8091-ce3d9326ed67)>\n",
       ".requirements = [0] <Entity 'Weather' (4bf0356c-89dd-45e9-b8a6-e0332c026d33)>\n",
       "                [1] <SystemFunction 'Sysexfunc' (00e7b925-cf4c-4cb0-929e-5409a1cd872b)>\n",
       "                [2] <Requirement 'TypedReq1' (85d41db2-9e17-438b-95cf-49342452ddf3)>\n",
       "                [3] <LogicalComponent 'Hogwarts' (0d2edb8f-fa34-4e73-89ec-fb9a63001440)>\n",
       ".summary = None\n",
       ".text = Markup('<p>Test requirement 1 really l o n g text that is&nbsp;way too long to display here as that</p>\\n\\n<p>&lt; &gt; &quot; &#39;</p>\\n\\n<ul>\\n\\t<li>This&nbsp;is a list</li>\\n\\t<li>an unordered one</li>\\n</ul>\\n\\n<ol>\\n\\t<li>Ordered [...]\n",
       ".traces = []\n",
       ".type = <RequirementType 'ReqType' (db47fca9-ddb6-4397-8d4b-e397e53d277e)>\n",
       ".uuid = '3c2d312c-37c9-41b5-8c32-67578fa52dc3'\n",
       ".xtype = 'Requirements:Requirement'"
      ]
     },
     "execution_count": 3,
     "metadata": {},
     "output_type": "execute_result"
    }
   ],
   "source": [
    "model.oa.all_requirements[0]"
   ]
  },
  {
   "cell_type": "markdown",
   "id": "896e3633",
   "metadata": {},
   "source": [
    "## Filtering for requirements by type\n",
    "\n",
    "You probably know about typing of your Requirements. You can have a view of all requirement type folders directly on a specific layer and see the stored requirement_types:"
   ]
  },
  {
   "cell_type": "code",
   "execution_count": 4,
   "id": "8dad0bed",
   "metadata": {},
   "outputs": [
    {
     "data": {
      "text/html": [
       "<h1>CapellaTypesFolder <span style=\"font-size: 70%;\">(CapellaRequirements:CapellaTypesFolder)</span></h1><table><tr><th style=\"text-align: right;\">applied_property_value_groups</th><td style=\"text-align: left;\"><p><em>(Empty list)</em></p></td></tr><tr><th style=\"text-align: right;\">applied_property_values</th><td style=\"text-align: left;\"><p><em>(Empty list)</em></p></td></tr><tr><th style=\"text-align: right;\">constraints</th><td style=\"text-align: left;\"><p><em>(Empty list)</em></p></td></tr><tr><th style=\"text-align: right;\">data_type_definitions</th><td style=\"text-align: left;\"><ol start=\"0\" style=\"text-align: left;\"><li><strong>DataTypeDefinition</strong> &quot;DataTypeDef&quot; (3b7ec38a-e26a-4c23-9fa3-275af3f629ee)</li><li><strong>EnumerationDataTypeDefinition</strong> &quot;EnumDataTypeDef&quot; (637caf95-3229-4607-99a0-7d7b990bc97f)</li></ol></td></tr><tr><th style=\"text-align: right;\">description</th><td style=\"text-align: left;\"><em>None</em></td></tr><tr><th style=\"text-align: right;\">diagrams</th><td style=\"text-align: left;\"><p><em>(Empty list)</em></p></td></tr><tr><th style=\"text-align: right;\">filtering_criteria</th><td style=\"text-align: left;\"><p><em>(Empty list)</em></p></td></tr><tr><th style=\"text-align: right;\">identifier</th><td style=\"text-align: left;\"><em>None</em></td></tr><tr><th style=\"text-align: right;\">long_name</th><td style=\"text-align: left;\">Types</td></tr><tr><th style=\"text-align: right;\">module_types</th><td style=\"text-align: left;\"><ol start=\"0\" style=\"text-align: left;\"><li><strong>ModuleType</strong> &quot;ModuleType&quot; (a67e7f43-4b49-425c-a6a7-d44e1054a488)</li></ol></td></tr><tr><th style=\"text-align: right;\">name</th><td style=\"text-align: left;\"><em>None</em></td></tr><tr><th style=\"text-align: right;\">parent</th><td style=\"text-align: left;\"><strong>OperationalAnalysis</strong> &quot;Operational Analysis&quot; (ddbef16d-ddb9-4162-934c-f1e40e6f8bed)</td></tr><tr><th style=\"text-align: right;\">prefix</th><td style=\"text-align: left;\"><em>None</em></td></tr><tr><th style=\"text-align: right;\">progress_status</th><td style=\"text-align: left;\">NOT_SET</td></tr><tr><th style=\"text-align: right;\">property_value_groups</th><td style=\"text-align: left;\"><p><em>(Empty list)</em></p></td></tr><tr><th style=\"text-align: right;\">property_values</th><td style=\"text-align: left;\"><p><em>(Empty list)</em></p></td></tr><tr><th style=\"text-align: right;\">pvmt</th><td style=\"text-align: left;\"><em>&lt;capellambse.extensions.pvmt.PropertyValueProxy object at 0x7f3ad72c8f50&gt;</em></td></tr><tr><th style=\"text-align: right;\">relation_types</th><td style=\"text-align: left;\"><ol start=\"0\" style=\"text-align: left;\"><li><strong>RelationType</strong> &quot;RelationType&quot; (f1aceb81-5f70-4469-a127-94830eb9be04)</li></ol></td></tr><tr><th style=\"text-align: right;\">requirement_types</th><td style=\"text-align: left;\"><ol start=\"0\" style=\"text-align: left;\"><li><strong>RequirementType</strong> &quot;ReqType&quot; (db47fca9-ddb6-4397-8d4b-e397e53d277e)</li></ol></td></tr><tr><th style=\"text-align: right;\">requirements</th><td style=\"text-align: left;\"><p><em>(Empty list)</em></p></td></tr><tr><th style=\"text-align: right;\">summary</th><td style=\"text-align: left;\"><em>None</em></td></tr><tr><th style=\"text-align: right;\">traces</th><td style=\"text-align: left;\"><p><em>(Empty list)</em></p></td></tr><tr><th style=\"text-align: right;\">type</th><td style=\"text-align: left;\"><em>None</em></td></tr><tr><th style=\"text-align: right;\">uuid</th><td style=\"text-align: left;\">67bba9cf-953c-4f0b-9986-41991c68d241</td></tr><tr><th style=\"text-align: right;\">xtype</th><td style=\"text-align: left;\">CapellaRequirements:CapellaTypesFolder</td></tr></table>"
      ],
      "text/plain": [
       "<CapellaTypesFolder 'Types' (67bba9cf-953c-4f0b-9986-41991c68d241)>\n",
       ".applied_property_value_groups = []\n",
       ".applied_property_values = []\n",
       ".constraints = []\n",
       ".data_type_definitions = [0] <DataTypeDefinition 'DataTypeDef' (3b7ec38a-e26a-4c23-9fa3-275af3f629ee)>\n",
       "                         [1] <EnumerationDataTypeDefinition 'EnumDataTypeDef' (637caf95-3229-4607-99a0-7d7b990bc97f)>\n",
       ".description = None\n",
       ".diagrams = []\n",
       ".filtering_criteria = []\n",
       ".identifier = None\n",
       ".long_name = 'Types'\n",
       ".module_types = [0] <ModuleType 'ModuleType' (a67e7f43-4b49-425c-a6a7-d44e1054a488)>\n",
       ".name = None\n",
       ".parent = <OperationalAnalysis 'Operational Analysis' (ddbef16d-ddb9-4162-934c-f1e40e6f8bed)>\n",
       ".prefix = None\n",
       ".progress_status = 'NOT_SET'\n",
       ".property_value_groups = []\n",
       ".property_values = []\n",
       ".pvmt = <capellambse.extensions.pvmt.PropertyValueProxy object at 0x7f3afc34b950>\n",
       ".relation_types = [0] <RelationType 'RelationType' (f1aceb81-5f70-4469-a127-94830eb9be04)>\n",
       ".requirement_types = [0] <RequirementType 'ReqType' (db47fca9-ddb6-4397-8d4b-e397e53d277e)>\n",
       ".requirements = []\n",
       ".summary = None\n",
       ".traces = []\n",
       ".type = None\n",
       ".uuid = '67bba9cf-953c-4f0b-9986-41991c68d241'\n",
       ".xtype = 'CapellaRequirements:CapellaTypesFolder'"
      ]
     },
     "execution_count": 4,
     "metadata": {},
     "output_type": "execute_result"
    }
   ],
   "source": [
    "model.oa.requirement_types_folders[0]"
   ]
  },
  {
   "cell_type": "code",
   "execution_count": 5,
   "id": "28c463c1",
   "metadata": {},
   "outputs": [
    {
     "data": {
      "text/html": [
       "<h1>RequirementType <span style=\"font-size: 70%;\">(Requirements:RequirementType)</span></h1><table><tr><th style=\"text-align: right;\">applied_property_value_groups</th><td style=\"text-align: left;\"><p><em>(Empty list)</em></p></td></tr><tr><th style=\"text-align: right;\">applied_property_values</th><td style=\"text-align: left;\"><p><em>(Empty list)</em></p></td></tr><tr><th style=\"text-align: right;\">attribute_definitions</th><td style=\"text-align: left;\"><ol start=\"0\" style=\"text-align: left;\"><li><strong>AttributeDefinition</strong> &quot;AttrDef&quot; (682bd51d-5451-4930-a97e-8bfca6c3a127)</li><li><strong>AttributeDefinitionEnumeration</strong> &quot;AttrDefEnum&quot; (c316ab07-c5c3-4866-a896-92e34733055c)</li><li><strong>AttributeDefinitionEnumeration</strong> &quot;MultiEnum&quot; (f31d4dd3-99f7-41d1-b1ce-f07b20d26eac)</li><li><strong>AttributeDefinition</strong> &quot;version&quot; (0bd40628-10a5-451e-86da-187c93bc3b10)</li></ol></td></tr><tr><th style=\"text-align: right;\">constraints</th><td style=\"text-align: left;\"><p><em>(Empty list)</em></p></td></tr><tr><th style=\"text-align: right;\">description</th><td style=\"text-align: left;\"><em>None</em></td></tr><tr><th style=\"text-align: right;\">diagrams</th><td style=\"text-align: left;\"><p><em>(Empty list)</em></p></td></tr><tr><th style=\"text-align: right;\">filtering_criteria</th><td style=\"text-align: left;\"><p><em>(Empty list)</em></p></td></tr><tr><th style=\"text-align: right;\">identifier</th><td style=\"text-align: left;\"><em>None</em></td></tr><tr><th style=\"text-align: right;\">long_name</th><td style=\"text-align: left;\">ReqType</td></tr><tr><th style=\"text-align: right;\">name</th><td style=\"text-align: left;\"><em>None</em></td></tr><tr><th style=\"text-align: right;\">owner</th><td style=\"text-align: left;\"><strong>CapellaTypesFolder</strong> &quot;Types&quot; (67bba9cf-953c-4f0b-9986-41991c68d241)</td></tr><tr><th style=\"text-align: right;\">parent</th><td style=\"text-align: left;\"><strong>CapellaTypesFolder</strong> &quot;Types&quot; (67bba9cf-953c-4f0b-9986-41991c68d241)</td></tr><tr><th style=\"text-align: right;\">prefix</th><td style=\"text-align: left;\"><em>None</em></td></tr><tr><th style=\"text-align: right;\">progress_status</th><td style=\"text-align: left;\">NOT_SET</td></tr><tr><th style=\"text-align: right;\">property_value_groups</th><td style=\"text-align: left;\"><p><em>(Empty list)</em></p></td></tr><tr><th style=\"text-align: right;\">property_values</th><td style=\"text-align: left;\"><p><em>(Empty list)</em></p></td></tr><tr><th style=\"text-align: right;\">pvmt</th><td style=\"text-align: left;\"><em>&lt;capellambse.extensions.pvmt.PropertyValueProxy object at 0x7f3ad72f7910&gt;</em></td></tr><tr><th style=\"text-align: right;\">requirements</th><td style=\"text-align: left;\"><p><em>(Empty list)</em></p></td></tr><tr><th style=\"text-align: right;\">summary</th><td style=\"text-align: left;\"><em>None</em></td></tr><tr><th style=\"text-align: right;\">traces</th><td style=\"text-align: left;\"><p><em>(Empty list)</em></p></td></tr><tr><th style=\"text-align: right;\">type</th><td style=\"text-align: left;\"><em>None</em></td></tr><tr><th style=\"text-align: right;\">uuid</th><td style=\"text-align: left;\">db47fca9-ddb6-4397-8d4b-e397e53d277e</td></tr><tr><th style=\"text-align: right;\">xtype</th><td style=\"text-align: left;\">Requirements:RequirementType</td></tr></table>"
      ],
      "text/plain": [
       "<RequirementType 'ReqType' (db47fca9-ddb6-4397-8d4b-e397e53d277e)>\n",
       ".applied_property_value_groups = []\n",
       ".applied_property_values = []\n",
       ".attribute_definitions = [0] <AttributeDefinition 'AttrDef' (682bd51d-5451-4930-a97e-8bfca6c3a127)>\n",
       "                         [1] <AttributeDefinitionEnumeration 'AttrDefEnum' (c316ab07-c5c3-4866-a896-92e34733055c)>\n",
       "                         [2] <AttributeDefinitionEnumeration 'MultiEnum' (f31d4dd3-99f7-41d1-b1ce-f07b20d26eac)>\n",
       "                         [3] <AttributeDefinition 'version' (0bd40628-10a5-451e-86da-187c93bc3b10)>\n",
       ".constraints = []\n",
       ".description = None\n",
       ".diagrams = []\n",
       ".filtering_criteria = []\n",
       ".identifier = None\n",
       ".long_name = 'ReqType'\n",
       ".name = None\n",
       ".owner = <CapellaTypesFolder 'Types' (67bba9cf-953c-4f0b-9986-41991c68d241)>\n",
       ".parent = <CapellaTypesFolder 'Types' (67bba9cf-953c-4f0b-9986-41991c68d241)>\n",
       ".prefix = None\n",
       ".progress_status = 'NOT_SET'\n",
       ".property_value_groups = []\n",
       ".property_values = []\n",
       ".pvmt = <capellambse.extensions.pvmt.PropertyValueProxy object at 0x7f3ad72679d0>\n",
       ".requirements = []\n",
       ".summary = None\n",
       ".traces = []\n",
       ".type = None\n",
       ".uuid = 'db47fca9-ddb6-4397-8d4b-e397e53d277e'\n",
       ".xtype = 'Requirements:RequirementType'"
      ]
     },
     "execution_count": 5,
     "metadata": {},
     "output_type": "execute_result"
    }
   ],
   "source": [
    "reqtype = model.oa.requirement_types_folders[0].requirement_types[0]\n",
    "reqtype"
   ]
  },
  {
   "cell_type": "markdown",
   "id": "62baecda",
   "metadata": {},
   "source": [
    "Now we actually want to filter the requirements by this type with name 'ReqType'. Very original name, we know. You wouldn't really see the filtering effect since all requirements in the oa layer are of that type. So let us create one new requirement dynamically:"
   ]
  },
  {
   "cell_type": "code",
   "execution_count": 6,
   "id": "2d985277",
   "metadata": {},
   "outputs": [
    {
     "data": {
      "text/html": [
       "<h1>New showcase req1 <span style=\"font-size: 70%;\">(Requirements:Requirement)</span></h1><table><tr><th style=\"text-align: right;\">applied_property_value_groups</th><td style=\"text-align: left;\"><p><em>(Empty list)</em></p></td></tr><tr><th style=\"text-align: right;\">applied_property_values</th><td style=\"text-align: left;\"><p><em>(Empty list)</em></p></td></tr><tr><th style=\"text-align: right;\">attributes</th><td style=\"text-align: left;\"><p><em>(Empty list)</em></p></td></tr><tr><th style=\"text-align: right;\">chapter_name</th><td style=\"text-align: left;\"><em>None</em></td></tr><tr><th style=\"text-align: right;\">constraints</th><td style=\"text-align: left;\"><p><em>(Empty list)</em></p></td></tr><tr><th style=\"text-align: right;\">description</th><td style=\"text-align: left;\"><em>None</em></td></tr><tr><th style=\"text-align: right;\">diagrams</th><td style=\"text-align: left;\"><p><em>(Empty list)</em></p></td></tr><tr><th style=\"text-align: right;\">filtering_criteria</th><td style=\"text-align: left;\"><p><em>(Empty list)</em></p></td></tr><tr><th style=\"text-align: right;\">foreign_id</th><td style=\"text-align: left;\"><em>None</em></td></tr><tr><th style=\"text-align: right;\">identifier</th><td style=\"text-align: left;\"><em>None</em></td></tr><tr><th style=\"text-align: right;\">long_name</th><td style=\"text-align: left;\"><em>None</em></td></tr><tr><th style=\"text-align: right;\">name</th><td style=\"text-align: left;\">New showcase req1</td></tr><tr><th style=\"text-align: right;\">owner</th><td style=\"text-align: left;\"><strong>CapellaModule</strong> &quot;Test Module&quot; (f8e2195d-b5f5-4452-a12b-79233d943d5e)</td></tr><tr><th style=\"text-align: right;\">parent</th><td style=\"text-align: left;\"><strong>CapellaModule</strong> &quot;Test Module&quot; (f8e2195d-b5f5-4452-a12b-79233d943d5e)</td></tr><tr><th style=\"text-align: right;\">prefix</th><td style=\"text-align: left;\"><em>None</em></td></tr><tr><th style=\"text-align: right;\">progress_status</th><td style=\"text-align: left;\">NOT_SET</td></tr><tr><th style=\"text-align: right;\">property_value_groups</th><td style=\"text-align: left;\"><p><em>(Empty list)</em></p></td></tr><tr><th style=\"text-align: right;\">property_values</th><td style=\"text-align: left;\"><p><em>(Empty list)</em></p></td></tr><tr><th style=\"text-align: right;\">pvmt</th><td style=\"text-align: left;\"><em>&lt;capellambse.extensions.pvmt.PropertyValueProxy object at 0x7f3afc3ddd50&gt;</em></td></tr><tr><th style=\"text-align: right;\">related</th><td style=\"text-align: left;\"><p><em>(Empty list)</em></p></td></tr><tr><th style=\"text-align: right;\">relations</th><td style=\"text-align: left;\"><p><em>(Empty list)</em></p></td></tr><tr><th style=\"text-align: right;\">requirements</th><td style=\"text-align: left;\"><p><em>(Empty list)</em></p></td></tr><tr><th style=\"text-align: right;\">summary</th><td style=\"text-align: left;\"><em>None</em></td></tr><tr><th style=\"text-align: right;\">text</th><td style=\"text-align: left;\"></td></tr><tr><th style=\"text-align: right;\">traces</th><td style=\"text-align: left;\"><p><em>(Empty list)</em></p></td></tr><tr><th style=\"text-align: right;\">type</th><td style=\"text-align: left;\"><em>None</em></td></tr><tr><th style=\"text-align: right;\">uuid</th><td style=\"text-align: left;\">0ce7877e-68d6-4113-8aca-be69b2e25253</td></tr><tr><th style=\"text-align: right;\">xtype</th><td style=\"text-align: left;\">Requirements:Requirement</td></tr></table>"
      ],
      "text/plain": [
       "<Requirement 'New showcase req1' (0ce7877e-68d6-4113-8aca-be69b2e25253)>\n",
       ".applied_property_value_groups = []\n",
       ".applied_property_values = []\n",
       ".attributes = []\n",
       ".chapter_name = None\n",
       ".constraints = []\n",
       ".description = None\n",
       ".diagrams = []\n",
       ".filtering_criteria = []\n",
       ".foreign_id = None\n",
       ".identifier = None\n",
       ".long_name = None\n",
       ".name = 'New showcase req1'\n",
       ".owner = <CapellaModule 'Test Module' (f8e2195d-b5f5-4452-a12b-79233d943d5e)>\n",
       ".parent = <CapellaModule 'Test Module' (f8e2195d-b5f5-4452-a12b-79233d943d5e)>\n",
       ".prefix = None\n",
       ".progress_status = 'NOT_SET'\n",
       ".property_value_groups = []\n",
       ".property_values = []\n",
       ".pvmt = <capellambse.extensions.pvmt.PropertyValueProxy object at 0x7f3ad72cb6d0>\n",
       ".related = []\n",
       ".relations = []\n",
       ".requirements = []\n",
       ".summary = None\n",
       ".text = ''\n",
       ".traces = []\n",
       ".type = None\n",
       ".uuid = '0ce7877e-68d6-4113-8aca-be69b2e25253'\n",
       ".xtype = 'Requirements:Requirement'"
      ]
     },
     "metadata": {},
     "output_type": "display_data"
    },
    {
     "data": {
      "text/html": [
       "<ol start=\"0\" style=\"text-align: left;\"><li><strong>Requirement</strong> &quot;TestReq1&quot; (3c2d312c-37c9-41b5-8c32-67578fa52dc3)</li><li><strong>Requirement</strong> &quot;TypedReq2&quot; (0a9a68b1-ba9a-4793-b2cf-4448f0b4b8cc)</li><li><strong>Requirement</strong> &quot;TestReq3&quot; (79291c33-5147-4543-9398-9077d582576d)</li><li><strong>Requirement</strong> &quot;TypedReq1&quot; (85d41db2-9e17-438b-95cf-49342452ddf3)</li><li><strong>Requirement</strong> &quot;New showcase req1&quot; (0ce7877e-68d6-4113-8aca-be69b2e25253)</li><li><strong>Requirement</strong> &quot;TestReq&quot; (1092f69a-5f3a-4fe6-a8fd-b2dffde90650)</li></ol>"
      ],
      "text/plain": [
       "[0] <Requirement 'TestReq1' (3c2d312c-37c9-41b5-8c32-67578fa52dc3)>\n",
       "[1] <Requirement 'TypedReq2' (0a9a68b1-ba9a-4793-b2cf-4448f0b4b8cc)>\n",
       "[2] <Requirement 'TestReq3' (79291c33-5147-4543-9398-9077d582576d)>\n",
       "[3] <Requirement 'TypedReq1' (85d41db2-9e17-438b-95cf-49342452ddf3)>\n",
       "[4] <Requirement 'New showcase req1' (0ce7877e-68d6-4113-8aca-be69b2e25253)>\n",
       "[5] <Requirement 'TestReq' (1092f69a-5f3a-4fe6-a8fd-b2dffde90650)>"
      ]
     },
     "execution_count": 6,
     "metadata": {},
     "output_type": "execute_result"
    }
   ],
   "source": [
    "new_req = model.oa.requirement_modules[0].requirements.create(name=\"New showcase req1\")\n",
    "display(new_req)\n",
    "model.oa.all_requirements"
   ]
  },
  {
   "cell_type": "markdown",
   "id": "58941b28",
   "metadata": {},
   "source": [
    "Info about creation: Whenever you have an ElementList which deals with one\n",
    "specified classtype, here it is Requirement, then the classtype name doesn't\n",
    "need to be included."
   ]
  },
  {
   "cell_type": "code",
   "execution_count": 7,
   "id": "9156aac3",
   "metadata": {},
   "outputs": [
    {
     "data": {
      "text/html": [
       "<ol start=\"0\" style=\"text-align: left;\"><li><strong>Requirement</strong> &quot;TestReq1&quot; (3c2d312c-37c9-41b5-8c32-67578fa52dc3)</li><li><strong>Requirement</strong> &quot;TypedReq2&quot; (0a9a68b1-ba9a-4793-b2cf-4448f0b4b8cc)</li><li><strong>Requirement</strong> &quot;TestReq3&quot; (79291c33-5147-4543-9398-9077d582576d)</li><li><strong>Requirement</strong> &quot;TypedReq1&quot; (85d41db2-9e17-438b-95cf-49342452ddf3)</li><li><strong>Requirement</strong> &quot;TestReq&quot; (1092f69a-5f3a-4fe6-a8fd-b2dffde90650)</li></ol>"
      ],
      "text/plain": [
       "[0] <Requirement 'TestReq1' (3c2d312c-37c9-41b5-8c32-67578fa52dc3)>\n",
       "[1] <Requirement 'TypedReq2' (0a9a68b1-ba9a-4793-b2cf-4448f0b4b8cc)>\n",
       "[2] <Requirement 'TestReq3' (79291c33-5147-4543-9398-9077d582576d)>\n",
       "[3] <Requirement 'TypedReq1' (85d41db2-9e17-438b-95cf-49342452ddf3)>\n",
       "[4] <Requirement 'TestReq' (1092f69a-5f3a-4fe6-a8fd-b2dffde90650)>"
      ]
     },
     "execution_count": 7,
     "metadata": {},
     "output_type": "execute_result"
    }
   ],
   "source": [
    "model.oa.all_requirements.by_type(\"ReqType\")"
   ]
  },
  {
   "cell_type": "markdown",
   "id": "f6687b07",
   "metadata": {},
   "source": [
    "We see our Requirements with type `ReqType` are missing the new one.\n",
    "Let's change that, without using capella."
   ]
  },
  {
   "cell_type": "code",
   "execution_count": 8,
   "id": "19f5f917",
   "metadata": {},
   "outputs": [
    {
     "data": {
      "text/html": [
       "<ol start=\"0\" style=\"text-align: left;\"><li><strong>Requirement</strong> &quot;TestReq1&quot; (3c2d312c-37c9-41b5-8c32-67578fa52dc3)</li><li><strong>Requirement</strong> &quot;TypedReq2&quot; (0a9a68b1-ba9a-4793-b2cf-4448f0b4b8cc)</li><li><strong>Requirement</strong> &quot;TestReq3&quot; (79291c33-5147-4543-9398-9077d582576d)</li><li><strong>Requirement</strong> &quot;TypedReq1&quot; (85d41db2-9e17-438b-95cf-49342452ddf3)</li><li><strong>Requirement</strong> &quot;New showcase req1&quot; (0ce7877e-68d6-4113-8aca-be69b2e25253)</li><li><strong>Requirement</strong> &quot;TestReq&quot; (1092f69a-5f3a-4fe6-a8fd-b2dffde90650)</li></ol>"
      ],
      "text/plain": [
       "[0] <Requirement 'TestReq1' (3c2d312c-37c9-41b5-8c32-67578fa52dc3)>\n",
       "[1] <Requirement 'TypedReq2' (0a9a68b1-ba9a-4793-b2cf-4448f0b4b8cc)>\n",
       "[2] <Requirement 'TestReq3' (79291c33-5147-4543-9398-9077d582576d)>\n",
       "[3] <Requirement 'TypedReq1' (85d41db2-9e17-438b-95cf-49342452ddf3)>\n",
       "[4] <Requirement 'New showcase req1' (0ce7877e-68d6-4113-8aca-be69b2e25253)>\n",
       "[5] <Requirement 'TestReq' (1092f69a-5f3a-4fe6-a8fd-b2dffde90650)>"
      ]
     },
     "execution_count": 8,
     "metadata": {},
     "output_type": "execute_result"
    }
   ],
   "source": [
    "new_req.type = reqtype\n",
    "model.oa.all_requirements.by_type(\"ReqType\")"
   ]
  },
  {
   "cell_type": "markdown",
   "id": "3878d8d5",
   "metadata": {},
   "source": [
    "If you are sure about attributes when creating a Requirement you can also include\n",
    "it during creation. "
   ]
  },
  {
   "cell_type": "code",
   "execution_count": 9,
   "id": "f46766d6",
   "metadata": {},
   "outputs": [
    {
     "data": {
      "text/html": [
       "<ol start=\"0\" style=\"text-align: left;\"><li><strong>Requirement</strong> &quot;TestReq1&quot; (3c2d312c-37c9-41b5-8c32-67578fa52dc3)</li><li><strong>Requirement</strong> &quot;TypedReq2&quot; (0a9a68b1-ba9a-4793-b2cf-4448f0b4b8cc)</li><li><strong>Requirement</strong> &quot;TestReq3&quot; (79291c33-5147-4543-9398-9077d582576d)</li><li><strong>Requirement</strong> &quot;TypedReq1&quot; (85d41db2-9e17-438b-95cf-49342452ddf3)</li><li><strong>Requirement</strong> &quot;New showcase req1&quot; (0ce7877e-68d6-4113-8aca-be69b2e25253)</li><li><strong>Requirement</strong> &quot;ReqType during Creation&quot; (ec5f6680-501c-4a6c-a2ce-3ae8fe93be00)</li><li><strong>Requirement</strong> &quot;TestReq&quot; (1092f69a-5f3a-4fe6-a8fd-b2dffde90650)</li></ol>"
      ],
      "text/plain": [
       "[0] <Requirement 'TestReq1' (3c2d312c-37c9-41b5-8c32-67578fa52dc3)>\n",
       "[1] <Requirement 'TypedReq2' (0a9a68b1-ba9a-4793-b2cf-4448f0b4b8cc)>\n",
       "[2] <Requirement 'TestReq3' (79291c33-5147-4543-9398-9077d582576d)>\n",
       "[3] <Requirement 'TypedReq1' (85d41db2-9e17-438b-95cf-49342452ddf3)>\n",
       "[4] <Requirement 'New showcase req1' (0ce7877e-68d6-4113-8aca-be69b2e25253)>\n",
       "[5] <Requirement 'ReqType during Creation' (ec5f6680-501c-4a6c-a2ce-3ae8fe93be00)>\n",
       "[6] <Requirement 'TestReq' (1092f69a-5f3a-4fe6-a8fd-b2dffde90650)>"
      ]
     },
     "execution_count": 9,
     "metadata": {},
     "output_type": "execute_result"
    }
   ],
   "source": [
    "model.oa.requirement_modules[0].requirements.create(\n",
    "    name=\"ReqType during Creation\",\n",
    "    type=reqtype,\n",
    ")\n",
    "model.oa.all_requirements.by_type(\"ReqType\")"
   ]
  },
  {
   "cell_type": "code",
   "execution_count": 10,
   "id": "2530e4a4",
   "metadata": {},
   "outputs": [
    {
     "data": {
      "text/html": [
       "<h1>TestReq1 <span style=\"font-size: 70%;\">(Requirements:Requirement)</span></h1><table><tr><th style=\"text-align: right;\">applied_property_value_groups</th><td style=\"text-align: left;\"><p><em>(Empty list)</em></p></td></tr><tr><th style=\"text-align: right;\">applied_property_values</th><td style=\"text-align: left;\"><p><em>(Empty list)</em></p></td></tr><tr><th style=\"text-align: right;\">attributes</th><td style=\"text-align: left;\"><ol start=\"0\" style=\"text-align: left;\"><li><strong>BooleanValueAttribute</strong> &quot;AttrDef&quot; (9c692405-b8aa-4caa-b988-51d27db5cd1b)</li><li><strong>DateValueAttribute</strong> &quot;AttrDef&quot; (b97c09b5-948a-46e8-a656-69d764ddce7d)</li><li><strong>IntegerValueAttribute</strong> &quot;AttrDef&quot; (85dfd42c-7f6e-4236-a181-bdd784040431)</li><li><strong>RealValueAttribute</strong> &quot;AttrDef&quot; (d2231d14-854d-4625-b48b-6cf1c2554367)</li><li><strong>StringValueAttribute</strong> &quot;AttrDef&quot; (ee8a69ef-61b9-4db9-9a0f-628e5d4704e1)</li><li><strong>BooleanValueAttribute</strong> &quot;None&quot; (dcb8614e-2d1c-4cb3-aa0c-667a297e7489)</li></ol></td></tr><tr><th style=\"text-align: right;\">chapter_name</th><td style=\"text-align: left;\">2</td></tr><tr><th style=\"text-align: right;\">constraints</th><td style=\"text-align: left;\"><p><em>(Empty list)</em></p></td></tr><tr><th style=\"text-align: right;\">description</th><td style=\"text-align: left;\">This is a test requirement of kind 1.</td></tr><tr><th style=\"text-align: right;\">diagrams</th><td style=\"text-align: left;\"><p><em>(Empty list)</em></p></td></tr><tr><th style=\"text-align: right;\">filtering_criteria</th><td style=\"text-align: left;\"><p><em>(Empty list)</em></p></td></tr><tr><th style=\"text-align: right;\">foreign_id</th><td style=\"text-align: left;\"><em>1</em></td></tr><tr><th style=\"text-align: right;\">identifier</th><td style=\"text-align: left;\">REQTYPE-1</td></tr><tr><th style=\"text-align: right;\">long_name</th><td style=\"text-align: left;\">1</td></tr><tr><th style=\"text-align: right;\">name</th><td style=\"text-align: left;\">TestReq1</td></tr><tr><th style=\"text-align: right;\">owner</th><td style=\"text-align: left;\"><strong>Folder</strong> &quot;Folder&quot; (e16f5cc1-3299-43d0-b1a0-82d31a137111)</td></tr><tr><th style=\"text-align: right;\">parent</th><td style=\"text-align: left;\"><strong>Folder</strong> &quot;Folder&quot; (e16f5cc1-3299-43d0-b1a0-82d31a137111)</td></tr><tr><th style=\"text-align: right;\">prefix</th><td style=\"text-align: left;\">3</td></tr><tr><th style=\"text-align: right;\">progress_status</th><td style=\"text-align: left;\">NOT_SET</td></tr><tr><th style=\"text-align: right;\">property_value_groups</th><td style=\"text-align: left;\"><p><em>(Empty list)</em></p></td></tr><tr><th style=\"text-align: right;\">property_values</th><td style=\"text-align: left;\"><p><em>(Empty list)</em></p></td></tr><tr><th style=\"text-align: right;\">pvmt</th><td style=\"text-align: left;\"><em>&lt;capellambse.extensions.pvmt.PropertyValueProxy object at 0x7f3ad72dfd90&gt;</em></td></tr><tr><th style=\"text-align: right;\">related</th><td style=\"text-align: left;\"><ol start=\"0\" style=\"text-align: left;\"><li><strong>Entity</strong> &quot;Weather&quot; (4bf0356c-89dd-45e9-b8a6-e0332c026d33)</li><li><strong>SystemFunction</strong> &quot;Sysexfunc&quot; (00e7b925-cf4c-4cb0-929e-5409a1cd872b)</li><li><strong>Requirement</strong> &quot;TypedReq1&quot; (85d41db2-9e17-438b-95cf-49342452ddf3)</li><li><strong>LogicalComponent</strong> &quot;Hogwarts&quot; (0d2edb8f-fa34-4e73-89ec-fb9a63001440)</li></ol></td></tr><tr><th style=\"text-align: right;\">relations</th><td style=\"text-align: left;\"><ol start=\"0\" style=\"text-align: left;\"><li><strong>CapellaIncomingRelation</strong> &quot;Controlling the weather&quot; (078b2c69-4352-4cf9-9ea5-6573b75e5eec)</li><li><strong>CapellaIncomingRelation</strong> &quot;Test req&quot; (24c824ef-b187-4725-a051-a68707e82d70)</li><li><strong>InternalRelation</strong> &quot;None&quot; (7de4c1a5-e106-4171-902a-502b816b60b0)</li><li><strong>CapellaOutgoingRelation</strong> &quot;None&quot; (57033242-3766-4961-8091-ce3d9326ed67)</li></ol></td></tr><tr><th style=\"text-align: right;\">requirements</th><td style=\"text-align: left;\"><ol start=\"0\" style=\"text-align: left;\"><li><strong>Entity</strong> &quot;Weather&quot; (4bf0356c-89dd-45e9-b8a6-e0332c026d33)</li><li><strong>SystemFunction</strong> &quot;Sysexfunc&quot; (00e7b925-cf4c-4cb0-929e-5409a1cd872b)</li><li><strong>Requirement</strong> &quot;TypedReq1&quot; (85d41db2-9e17-438b-95cf-49342452ddf3)</li><li><strong>LogicalComponent</strong> &quot;Hogwarts&quot; (0d2edb8f-fa34-4e73-89ec-fb9a63001440)</li></ol></td></tr><tr><th style=\"text-align: right;\">summary</th><td style=\"text-align: left;\"><em>None</em></td></tr><tr><th style=\"text-align: right;\">text</th><td style=\"text-align: left;\"><p>Test requirement 1 really l o n g text that is&nbsp;way too long to display here as that</p>\n",
       "\n",
       "<p>&lt; &gt; &quot; &#39;</p>\n",
       "\n",
       "<ul>\n",
       "\t<li>This&nbsp;is a list</li>\n",
       "\t<li>an unordered one</li>\n",
       "</ul>\n",
       "\n",
       "<ol>\n",
       "\t<li>Ordered list</li>\n",
       "\t<li>Ok</li>\n",
       "</ol>\n",
       "</td></tr><tr><th style=\"text-align: right;\">traces</th><td style=\"text-align: left;\"><p><em>(Empty list)</em></p></td></tr><tr><th style=\"text-align: right;\">type</th><td style=\"text-align: left;\"><strong>RequirementType</strong> &quot;ReqType&quot; (db47fca9-ddb6-4397-8d4b-e397e53d277e)</td></tr><tr><th style=\"text-align: right;\">uuid</th><td style=\"text-align: left;\">3c2d312c-37c9-41b5-8c32-67578fa52dc3</td></tr><tr><th style=\"text-align: right;\">xtype</th><td style=\"text-align: left;\">Requirements:Requirement</td></tr></table>"
      ],
      "text/plain": [
       "<Requirement 'TestReq1' (3c2d312c-37c9-41b5-8c32-67578fa52dc3)>\n",
       ".applied_property_value_groups = []\n",
       ".applied_property_values = []\n",
       ".attributes = [0] <BooleanValueAttribute [AttrDef] True (9c692405-b8aa-4caa-b988-51d27db5cd1b)>\n",
       "              [1] <DateValueAttribute [AttrDef] 2021-07-23T15:00:00+02:00 (b97c09b5-948a-46e8-a656-69d764ddce7d)>\n",
       "              [2] <IntegerValueAttribute [AttrDef] 10 (85dfd42c-7f6e-4236-a181-bdd784040431)>\n",
       "              [3] <RealValueAttribute [AttrDef] 10.5 (d2231d14-854d-4625-b48b-6cf1c2554367)>\n",
       "              [4] <StringValueAttribute [AttrDef] 'Test' (ee8a69ef-61b9-4db9-9a0f-628e5d4704e1)>\n",
       "              [5] <BooleanValueAttribute [Boolean Value Attribute] False (dcb8614e-2d1c-4cb3-aa0c-667a297e7489)>\n",
       ".chapter_name = '2'\n",
       ".constraints = []\n",
       ".description = 'This is a test requirement of kind 1.'\n",
       ".diagrams = []\n",
       ".filtering_criteria = []\n",
       ".foreign_id = 1\n",
       ".identifier = 'REQTYPE-1'\n",
       ".long_name = '1'\n",
       ".name = 'TestReq1'\n",
       ".owner = <Folder 'Folder' (e16f5cc1-3299-43d0-b1a0-82d31a137111)>\n",
       ".parent = <Folder 'Folder' (e16f5cc1-3299-43d0-b1a0-82d31a137111)>\n",
       ".prefix = '3'\n",
       ".progress_status = 'NOT_SET'\n",
       ".property_value_groups = []\n",
       ".property_values = []\n",
       ".pvmt = <capellambse.extensions.pvmt.PropertyValueProxy object at 0x7f3ad72cb4d0>\n",
       ".related = [0] <Entity 'Weather' (4bf0356c-89dd-45e9-b8a6-e0332c026d33)>\n",
       "           [1] <SystemFunction 'Sysexfunc' (00e7b925-cf4c-4cb0-929e-5409a1cd872b)>\n",
       "           [2] <Requirement 'TypedReq1' (85d41db2-9e17-438b-95cf-49342452ddf3)>\n",
       "           [3] <LogicalComponent 'Hogwarts' (0d2edb8f-fa34-4e73-89ec-fb9a63001440)>\n",
       ".relations = [0] <CapellaIncomingRelation 'Controlling the weather' from <Requirement 'TestReq1' (3c2d312c-37c9-41b5-8c32-67578fa52dc3)> to <Entity 'Weather' (4bf0356c-89dd-45e9-b8a6-e0332c026d33)> (078b2c69-4352-4cf9-9ea5-6573b75e5eec)>\n",
       "             [1] <CapellaIncomingRelation 'Test req' from <Requirement 'TestReq1' (3c2d312c-37c9-41b5-8c32-67578fa52dc3)> to <SystemFunction 'Sysexfunc' (00e7b925-cf4c-4cb0-929e-5409a1cd872b)> (24c824ef-b187-4725-a051-a68707e82d70)>\n",
       "             [2] <InternalRelation None from <Requirement 'TestReq1' (3c2d312c-37c9-41b5-8c32-67578fa52dc3)> to <Requirement 'TypedReq1' (85d41db2-9e17-438b-95cf-49342452ddf3)> (7de4c1a5-e106-4171-902a-502b816b60b0)>\n",
       "             [3] <CapellaOutgoingRelation None from <Requirement 'TestReq1' (3c2d312c-37c9-41b5-8c32-67578fa52dc3)> to <LogicalComponent 'Hogwarts' (0d2edb8f-fa34-4e73-89ec-fb9a63001440)> (57033242-3766-4961-8091-ce3d9326ed67)>\n",
       ".requirements = [0] <Entity 'Weather' (4bf0356c-89dd-45e9-b8a6-e0332c026d33)>\n",
       "                [1] <SystemFunction 'Sysexfunc' (00e7b925-cf4c-4cb0-929e-5409a1cd872b)>\n",
       "                [2] <Requirement 'TypedReq1' (85d41db2-9e17-438b-95cf-49342452ddf3)>\n",
       "                [3] <LogicalComponent 'Hogwarts' (0d2edb8f-fa34-4e73-89ec-fb9a63001440)>\n",
       ".summary = None\n",
       ".text = Markup('<p>Test requirement 1 really l o n g text that is&nbsp;way too long to display here as that</p>\\n\\n<p>&lt; &gt; &quot; &#39;</p>\\n\\n<ul>\\n\\t<li>This&nbsp;is a list</li>\\n\\t<li>an unordered one</li>\\n</ul>\\n\\n<ol>\\n\\t<li>Ordered [...]\n",
       ".traces = []\n",
       ".type = <RequirementType 'ReqType' (db47fca9-ddb6-4397-8d4b-e397e53d277e)>\n",
       ".uuid = '3c2d312c-37c9-41b5-8c32-67578fa52dc3'\n",
       ".xtype = 'Requirements:Requirement'"
      ]
     },
     "execution_count": 10,
     "metadata": {},
     "output_type": "execute_result"
    }
   ],
   "source": [
    "model.oa.all_requirements[0]"
   ]
  },
  {
   "cell_type": "markdown",
   "id": "ec7a07c8",
   "metadata": {},
   "source": [
    "## Export all requirements to excel with pandas\n",
    "\n",
    "With `Pandas` you are able to generate data tables and export to many file-types\n",
    "like .xlsx for excel. Note that this requires the `xlsxwriter` module in\n",
    "addition to `pandas` itself."
   ]
  },
  {
   "cell_type": "code",
   "execution_count": 11,
   "id": "acbe3e06",
   "metadata": {},
   "outputs": [],
   "source": [
    "import pandas as pd\n",
    "\n",
    "requirements = [{\"id\": f\"Req_{i}\", \"uuid\": req.uuid, \"text\": req.text} for i, req in enumerate(model.oa.all_requirements)]\n",
    "data = pd.DataFrame(requirements)\n",
    "data.to_excel(excel_writer=\"Test_requirements.xlsx\")"
   ]
  },
  {
   "cell_type": "markdown",
   "id": "03bf76ca-0703-4ae7-9270-e743063d7372",
   "metadata": {},
   "source": [
    "## Export a Requirements module as Requirements Interchange Format (`.reqif`) file\n",
    "\n",
    "`capellambse` features basic export functionality for requirements modules, which allows to write `.reqif` or compressed `.reqifz` files. These can then be imported into other ReqIF-compliant applications, like CodeBeamer or IBM DOORS.\n",
    "\n",
    "Let's first take a glance at the module we're going to export:"
   ]
  },
  {
   "cell_type": "code",
   "execution_count": 12,
   "id": "e3f44e4c",
   "metadata": {},
   "outputs": [
    {
     "data": {
      "text/html": [
       "<h1>Test Module <span style=\"font-size: 70%;\">(CapellaRequirements:CapellaModule)</span></h1><table><tr><th style=\"text-align: right;\">applied_property_value_groups</th><td style=\"text-align: left;\"><p><em>(Empty list)</em></p></td></tr><tr><th style=\"text-align: right;\">applied_property_values</th><td style=\"text-align: left;\"><p><em>(Empty list)</em></p></td></tr><tr><th style=\"text-align: right;\">attributes</th><td style=\"text-align: left;\"><ol start=\"0\" style=\"text-align: left;\"><li><strong>EnumerationValueAttribute</strong> &quot;AttrDefEnum&quot; (11a2e07a-41f7-4eee-a94e-f3e33738c487)</li></ol></td></tr><tr><th style=\"text-align: right;\">constraints</th><td style=\"text-align: left;\"><p><em>(Empty list)</em></p></td></tr><tr><th style=\"text-align: right;\">description</th><td style=\"text-align: left;\">This is a test requirement module.</td></tr><tr><th style=\"text-align: right;\">diagrams</th><td style=\"text-align: left;\"><p><em>(Empty list)</em></p></td></tr><tr><th style=\"text-align: right;\">filtering_criteria</th><td style=\"text-align: left;\"><p><em>(Empty list)</em></p></td></tr><tr><th style=\"text-align: right;\">folders</th><td style=\"text-align: left;\"><ol start=\"0\" style=\"text-align: left;\"><li><strong>Folder</strong> &quot;Folder&quot; (e16f5cc1-3299-43d0-b1a0-82d31a137111)</li></ol></td></tr><tr><th style=\"text-align: right;\">identifier</th><td style=\"text-align: left;\">1</td></tr><tr><th style=\"text-align: right;\">long_name</th><td style=\"text-align: left;\">Module</td></tr><tr><th style=\"text-align: right;\">name</th><td style=\"text-align: left;\">Test Module</td></tr><tr><th style=\"text-align: right;\">parent</th><td style=\"text-align: left;\"><strong>OperationalAnalysis</strong> &quot;Operational Analysis&quot; (ddbef16d-ddb9-4162-934c-f1e40e6f8bed)</td></tr><tr><th style=\"text-align: right;\">prefix</th><td style=\"text-align: left;\">T</td></tr><tr><th style=\"text-align: right;\">progress_status</th><td style=\"text-align: left;\">NOT_SET</td></tr><tr><th style=\"text-align: right;\">property_value_groups</th><td style=\"text-align: left;\"><p><em>(Empty list)</em></p></td></tr><tr><th style=\"text-align: right;\">property_values</th><td style=\"text-align: left;\"><p><em>(Empty list)</em></p></td></tr><tr><th style=\"text-align: right;\">pvmt</th><td style=\"text-align: left;\"><em>&lt;capellambse.extensions.pvmt.PropertyValueProxy object at 0x7f3ad4787a10&gt;</em></td></tr><tr><th style=\"text-align: right;\">requirement_types_folders</th><td style=\"text-align: left;\"><p><em>(Empty list)</em></p></td></tr><tr><th style=\"text-align: right;\">requirements</th><td style=\"text-align: left;\"><ol start=\"0\" style=\"text-align: left;\"><li><strong>Requirement</strong> &quot;TypedReq1&quot; (85d41db2-9e17-438b-95cf-49342452ddf3)</li><li><strong>Requirement</strong> &quot;New showcase req1&quot; (0ce7877e-68d6-4113-8aca-be69b2e25253)</li><li><strong>Requirement</strong> &quot;ReqType during Creation&quot; (ec5f6680-501c-4a6c-a2ce-3ae8fe93be00)</li></ol></td></tr><tr><th style=\"text-align: right;\">summary</th><td style=\"text-align: left;\"><em>None</em></td></tr><tr><th style=\"text-align: right;\">traces</th><td style=\"text-align: left;\"><p><em>(Empty list)</em></p></td></tr><tr><th style=\"text-align: right;\">type</th><td style=\"text-align: left;\"><strong>ModuleType</strong> &quot;ModuleType&quot; (a67e7f43-4b49-425c-a6a7-d44e1054a488)</td></tr><tr><th style=\"text-align: right;\">uuid</th><td style=\"text-align: left;\">f8e2195d-b5f5-4452-a12b-79233d943d5e</td></tr><tr><th style=\"text-align: right;\">xtype</th><td style=\"text-align: left;\">CapellaRequirements:CapellaModule</td></tr></table>"
      ],
      "text/plain": [
       "<CapellaModule 'Test Module' (f8e2195d-b5f5-4452-a12b-79233d943d5e)>\n",
       ".applied_property_value_groups = []\n",
       ".applied_property_values = []\n",
       ".attributes = [0] <EnumerationValueAttribute [AttrDefEnum] ['enum_val2'] (11a2e07a-41f7-4eee-a94e-f3e33738c487)>\n",
       ".constraints = []\n",
       ".description = 'This is a test requirement module.'\n",
       ".diagrams = []\n",
       ".filtering_criteria = []\n",
       ".folders = [0] <Folder 'Folder' (e16f5cc1-3299-43d0-b1a0-82d31a137111)>\n",
       ".identifier = '1'\n",
       ".long_name = 'Module'\n",
       ".name = 'Test Module'\n",
       ".parent = <OperationalAnalysis 'Operational Analysis' (ddbef16d-ddb9-4162-934c-f1e40e6f8bed)>\n",
       ".prefix = 'T'\n",
       ".progress_status = 'NOT_SET'\n",
       ".property_value_groups = []\n",
       ".property_values = []\n",
       ".pvmt = <capellambse.extensions.pvmt.PropertyValueProxy object at 0x7f3a94d955d0>\n",
       ".requirement_types_folders = []\n",
       ".requirements = [0] <Requirement 'TypedReq1' (85d41db2-9e17-438b-95cf-49342452ddf3)>\n",
       "                [1] <Requirement 'New showcase req1' (0ce7877e-68d6-4113-8aca-be69b2e25253)>\n",
       "                [2] <Requirement 'ReqType during Creation' (ec5f6680-501c-4a6c-a2ce-3ae8fe93be00)>\n",
       ".summary = None\n",
       ".traces = []\n",
       ".type = <ModuleType 'ModuleType' (a67e7f43-4b49-425c-a6a7-d44e1054a488)>\n",
       ".uuid = 'f8e2195d-b5f5-4452-a12b-79233d943d5e'\n",
       ".xtype = 'CapellaRequirements:CapellaModule'"
      ]
     },
     "execution_count": 12,
     "metadata": {},
     "output_type": "execute_result"
    }
   ],
   "source": [
    "req_module = model.by_uuid(\"f8e2195d-b5f5-4452-a12b-79233d943d5e\")\n",
    "req_module"
   ]
  },
  {
   "cell_type": "code",
   "execution_count": 13,
   "id": "5c555118-246d-47be-b462-6ce01822e156",
   "metadata": {},
   "outputs": [],
   "source": [
    "req_module.to_reqif(req_module.name + \".reqif\")"
   ]
  },
  {
   "cell_type": "markdown",
   "id": "94297761-841e-4900-945c-b5f87825627f",
   "metadata": {},
   "source": [
    "And that's it! This code has created the file \"Test Module.reqif\" next to this notebook, which contains all Requirements defined in that module."
   ]
  }
 ],
 "metadata": {
  "kernelspec": {
   "display_name": "Python 3 (ipykernel)",
   "language": "python",
   "name": "python3"
  },
  "language_info": {
   "codemirror_mode": {
    "name": "ipython",
    "version": 3
   },
   "file_extension": ".py",
   "mimetype": "text/x-python",
   "name": "python",
   "nbconvert_exporter": "python",
   "pygments_lexer": "ipython3",
   "version": "3.11.5"
  },
  "vscode": {
   "interpreter": {
    "hash": "e7370f93d1d0cde622a1f8e1c04877d8463912d04d973331ad4851f04de6915a"
   }
  }
 },
 "nbformat": 4,
 "nbformat_minor": 5
}
