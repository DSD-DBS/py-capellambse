{
 "cells": [
  {
   "cell_type": "markdown",
   "id": "7bcee230",
   "metadata": {},
   "source": [
    "# Introduction to Requirement access and management\n",
    "\n",
    "Welcome to the ReqIF extension Showcase notebook. This notebook will show you some basic (and not so basic) things that you can get done using this library.\n",
    "\n",
    "The below code loads the library and one of the test models:"
   ]
  },
  {
   "cell_type": "code",
   "execution_count": 1,
   "id": "a52777dd",
   "metadata": {},
   "outputs": [
    {
     "data": {
      "text/plain": [
       "<capellambse.model._model.MelodyModel at 0x78f9a032d490>"
      ]
     },
     "execution_count": 1,
     "metadata": {},
     "output_type": "execute_result"
    }
   ],
   "source": [
    "import capellambse\n",
    "\n",
    "path_to_model = \"../../../tests/data/melodymodel/5_0/Melody Model Test.aird\"\n",
    "model = capellambse.MelodyModel(path_to_model)\n",
    "model"
   ]
  },
  {
   "cell_type": "markdown",
   "id": "d8442183",
   "metadata": {},
   "source": [
    "You can access a lookup for all requirements defined in a specific layer."
   ]
  },
  {
   "cell_type": "code",
   "execution_count": 2,
   "id": "42a46a49",
   "metadata": {},
   "outputs": [
    {
     "data": {
      "text/html": [
       "<ol start=\"0\" style=\"text-align: left;\">\n",
       "<li><strong>Requirement</strong> <a href=\"hlink://3c2d312c-37c9-41b5-8c32-67578fa52dc3\">&quot;TestReq1&quot;</a> (3c2d312c-37c9-41b5-8c32-67578fa52dc3)</li>\n",
       "<li><strong>Requirement</strong> <a href=\"hlink://0a9a68b1-ba9a-4793-b2cf-4448f0b4b8cc\">&quot;TypedReq2&quot;</a> (0a9a68b1-ba9a-4793-b2cf-4448f0b4b8cc)</li>\n",
       "<li><strong>Requirement</strong> <a href=\"hlink://79291c33-5147-4543-9398-9077d582576d\">&quot;TestReq3&quot;</a> (79291c33-5147-4543-9398-9077d582576d)</li>\n",
       "<li><strong>Requirement</strong> <a href=\"hlink://85d41db2-9e17-438b-95cf-49342452ddf3\">&quot;TypedReq1&quot;</a> (85d41db2-9e17-438b-95cf-49342452ddf3)</li>\n",
       "<li><strong>Requirement</strong> <a href=\"hlink://1092f69a-5f3a-4fe6-a8fd-b2dffde90650\">&quot;TestReq&quot;</a> (1092f69a-5f3a-4fe6-a8fd-b2dffde90650)</li>\n",
       "</ol>"
      ],
      "text/plain": [
       "[0] <Requirement 'TestReq1' (3c2d312c-37c9-41b5-8c32-67578fa52dc3)>\n",
       "[1] <Requirement 'TypedReq2' (0a9a68b1-ba9a-4793-b2cf-4448f0b4b8cc)>\n",
       "[2] <Requirement 'TestReq3' (79291c33-5147-4543-9398-9077d582576d)>\n",
       "[3] <Requirement 'TypedReq1' (85d41db2-9e17-438b-95cf-49342452ddf3)>\n",
       "[4] <Requirement 'TestReq' (1092f69a-5f3a-4fe6-a8fd-b2dffde90650)>"
      ]
     },
     "execution_count": 2,
     "metadata": {},
     "output_type": "execute_result"
    }
   ],
   "source": [
    "model.oa.all_requirements"
   ]
  },
  {
   "cell_type": "markdown",
   "id": "904c842b",
   "metadata": {},
   "source": [
    "Have a look at all of the available attributes for a Requirement ModelElement:"
   ]
  },
  {
   "cell_type": "code",
   "execution_count": 3,
   "id": "cb0a5b75",
   "metadata": {},
   "outputs": [
    {
     "data": {
      "text/html": [
       "<h1><img src=\"data:image/svg+xml;base64,PHN2ZyBiYXNlUHJvZmlsZT0iZnVsbCIgaGVpZ2h0PSIxMDAlIiB2ZXJzaW9uPSIxLjEiIHZpZXdCb3g9IjAgMCAyMCAyMCIgd2lkdGg9IjEwMCUiIHhtbG5zPSJodHRwOi8vd3d3LnczLm9yZy8yMDAwL3N2ZyIgeG1sbnM6ZXY9Imh0dHA6Ly93d3cudzMub3JnLzIwMDEveG1sLWV2ZW50cyIgeG1sbnM6eGxpbms9Imh0dHA6Ly93d3cudzMub3JnLzE5OTkveGxpbmsiPjxkZWZzPjxzeW1ib2wgaWQ9IlJlcXVpcmVtZW50U3ltYm9sIiB2aWV3Qm94PSIwIDAgNTAgNTAiPjxwYXRoIGQ9Ik0gMTIuODA2ODEzLDYuNTcwMjMyNCBBIDYuMjQ0Mzc5LDUuODExMzI0MSAwIDAgMSA2LjU2MjQzNDIsMTIuMzgxNTU3IDYuMjQ0Mzc5LDUuODExMzI0MSAwIDAgMSAwLjMxODA1NTE1LDYuNTcwMjMyNCA2LjI0NDM3OSw1LjgxMTMyNDEgMCAwIDEgNi41NjI0MzQyLDAuNzU4OTA4MjcgNi4yNDQzNzksNS44MTEzMjQxIDAgMCAxIDEyLjgwNjgxMyw2LjU3MDIzMjQgWiIgZmlsbD0iIzQzMTk2NCIgc3Ryb2tlPSJub25lIiAvPjxwYXRoIGQ9Im0gNC4zMjI4NjU4LDUuODc1MjQ3NSBoIDIuOTUxNDcyMSBxIDAuMjk0NTU4MSwwIDAuNTE4NDIyMywtMC4xNDEzODc5IFEgOC4wMjI1MTU1LDUuNTg2NTgwNiA4LjE0NjIyOTksNS4zMjE0NzgzIDguMjY5OTQ0Myw1LjA1NjM3NiA4LjI3NTgzNTUsNC43MDI5MDYzIHYgMCBxIDAsLTAuMzQ3NTc4NiAtMC4xMjM3MTQ0LC0wLjYxMjY4MDggUSA4LjAyODQwNjcsMy44MjUxMjMyIDcuNzk4NjUxMywzLjY4MzczNTMgNy41NzQ3ODcyLDMuNTM2NDU2MiA3LjI3NDMzNzksMy41MzY0NTYyIEggNC4zMjI4NjU4IFYgMi4xODczODAxIGggMi45OTI3MTAzIHEgMC43MjQ2MTI5LDAgMS4yNzI0OTA5LDAuMzEyMjMxNiAwLjU0Nzg3ODEsMC4zMTIyMzE2IDAuODQ4MzI3NCwwLjg4MzY3NDMgMC4zMDYzNDA0LDAuNTcxNDQyNyAwLjMwNjM0MDQsMS4zMTk2MjAzIHYgMCBxIDAsMC43NTQwNjg3IC0wLjMwNjM0MDQsMS4zMjU1MTE0IFEgOS4xMzU5NDUxLDYuNTk5ODYwNSA4LjU4MjE3NTksNi45MTIwOTIgOC4wMzQyOTc4LDcuMjI0MzIzNiA3LjMxNTU3NjEsNy4yMjQzMjM2IEggNC4zMjI4NjU4IFogTSAzLjczOTY0MDcsMi4xODczODAxIEggNS4xNDc2Mjg1IFYgMTAuNzU5MDIxIEggMy43Mzk2NDA3IFogTSA2LjM5MDY2MzYsNi45NTkyMjEzIDcuODUxNjcxOCw2LjY4ODIyNzkgMTAuMTAyMDk2LDEwLjc1OTAyMSBIIDguNDExMzMyMiBaIiBmaWxsPSIjZmZmIiBzdHJva2U9Im5vbmUiIC8+PC9zeW1ib2w+PC9kZWZzPjx1c2UgaGVpZ2h0PSIyMCIgd2lkdGg9IjIwIiB4PSIwIiB4bGluazpocmVmPSIjUmVxdWlyZW1lbnRTeW1ib2wiIHk9IjAiIC8+PC9zdmc+\" alt=\"\" width=\"20\" height=\"20\"> TestReq1 <span style=\"font-size: 70%;\">(Requirements:Requirement)</span></h1>\n",
       "<table>\n",
       "<tr><th style=\"text-align: right;\">applied_property_value_groups</th><td style=\"text-align: left;\"><p><em>(Empty list)</em></p></td></tr>\n",
       "<tr><th style=\"text-align: right;\">applied_property_values</th><td style=\"text-align: left;\"><p><em>(Empty list)</em></p></td></tr>\n",
       "<tr><th style=\"text-align: right;\">attributes</th><td style=\"text-align: left;\"><ol start=\"0\" style=\"text-align: left;\">\n",
       "<li><strong>BooleanValueAttribute</strong> <a href=\"hlink://9c692405-b8aa-4caa-b988-51d27db5cd1b\">&quot;AttrDef&quot;</a> (9c692405-b8aa-4caa-b988-51d27db5cd1b)</li>\n",
       "<li><strong>DateValueAttribute</strong> <a href=\"hlink://b97c09b5-948a-46e8-a656-69d764ddce7d\">&quot;AttrDef&quot;</a> (b97c09b5-948a-46e8-a656-69d764ddce7d)</li>\n",
       "<li><strong>IntegerValueAttribute</strong> <a href=\"hlink://85dfd42c-7f6e-4236-a181-bdd784040431\">&quot;AttrDef&quot;</a> (85dfd42c-7f6e-4236-a181-bdd784040431)</li>\n",
       "<li><strong>RealValueAttribute</strong> <a href=\"hlink://d2231d14-854d-4625-b48b-6cf1c2554367\">&quot;AttrDef&quot;</a> (d2231d14-854d-4625-b48b-6cf1c2554367)</li>\n",
       "<li><strong>StringValueAttribute</strong> <a href=\"hlink://ee8a69ef-61b9-4db9-9a0f-628e5d4704e1\">&quot;AttrDef&quot;</a> (ee8a69ef-61b9-4db9-9a0f-628e5d4704e1)</li>\n",
       "<li><strong>BooleanValueAttribute</strong> <a href=\"hlink://dcb8614e-2d1c-4cb3-aa0c-667a297e7489\">&quot;None&quot;</a> (dcb8614e-2d1c-4cb3-aa0c-667a297e7489)</li>\n",
       "</ol></td></tr>\n",
       "<tr><th style=\"text-align: right;\">chapter_name</th><td style=\"text-align: left;\">2</td></tr>\n",
       "<tr><th style=\"text-align: right;\">constraints</th><td style=\"text-align: left;\"><p><em>(Empty list)</em></p></td></tr>\n",
       "<tr><th style=\"text-align: right;\">description</th><td style=\"text-align: left;\">This is a test requirement of kind 1.</td></tr>\n",
       "<tr><th style=\"text-align: right;\">diagrams</th><td style=\"text-align: left;\"><p><em>(Empty list)</em></p></td></tr>\n",
       "<tr><th style=\"text-align: right;\">filtering_criteria</th><td style=\"text-align: left;\"><p><em>(Empty list)</em></p></td></tr>\n",
       "<tr><th style=\"text-align: right;\">foreign_id</th><td style=\"text-align: left;\"><em>1</em></td></tr>\n",
       "<tr><th style=\"text-align: right;\">identifier</th><td style=\"text-align: left;\">REQTYPE-1</td></tr>\n",
       "<tr><th style=\"text-align: right;\">layer</th><td style=\"text-align: left;\"><strong>OperationalAnalysis</strong> <a href=\"hlink://ddbef16d-ddb9-4162-934c-f1e40e6f8bed\">&quot;Operational Analysis&quot;</a> (ddbef16d-ddb9-4162-934c-f1e40e6f8bed)</td></tr>\n",
       "<tr><th style=\"text-align: right;\">long_name</th><td style=\"text-align: left;\">1</td></tr>\n",
       "<tr><th style=\"text-align: right;\">name</th><td style=\"text-align: left;\">TestReq1</td></tr>\n",
       "<tr><th style=\"text-align: right;\">owner</th><td style=\"text-align: left;\"><strong>Folder</strong> <a href=\"hlink://e16f5cc1-3299-43d0-b1a0-82d31a137111\">&quot;Folder&quot;</a> (e16f5cc1-3299-43d0-b1a0-82d31a137111)</td></tr>\n",
       "<tr><th style=\"text-align: right;\">parent</th><td style=\"text-align: left;\"><strong>Folder</strong> <a href=\"hlink://e16f5cc1-3299-43d0-b1a0-82d31a137111\">&quot;Folder&quot;</a> (e16f5cc1-3299-43d0-b1a0-82d31a137111)</td></tr>\n",
       "<tr><th style=\"text-align: right;\">prefix</th><td style=\"text-align: left;\">3</td></tr>\n",
       "<tr><th style=\"text-align: right;\">progress_status</th><td style=\"text-align: left;\">NOT_SET</td></tr>\n",
       "<tr><th style=\"text-align: right;\">property_value_groups</th><td style=\"text-align: left;\"><p><em>(Empty list)</em></p></td></tr>\n",
       "<tr><th style=\"text-align: right;\">property_value_packages</th><td style=\"text-align: left;\"><p><em>(Empty list)</em></p></td></tr>\n",
       "<tr><th style=\"text-align: right;\">property_values</th><td style=\"text-align: left;\"><p><em>(Empty list)</em></p></td></tr>\n",
       "<tr><th style=\"text-align: right;\">pvmt</th><td style=\"text-align: left;\">Property Value Management for <strong>Requirement</strong> <a href=\"hlink://3c2d312c-37c9-41b5-8c32-67578fa52dc3\">&quot;TestReq1&quot;</a> (3c2d312c-37c9-41b5-8c32-67578fa52dc3)</td></tr>\n",
       "<tr><th style=\"text-align: right;\">related</th><td style=\"text-align: left;\"><ol start=\"0\" style=\"text-align: left;\">\n",
       "<li><img src=\"data:image/svg+xml;base64,PHN2ZyBiYXNlUHJvZmlsZT0iZnVsbCIgaGVpZ2h0PSIxMDAlIiB2ZXJzaW9uPSIxLjEiIHZpZXdCb3g9IjAgMCAxNSAxNSIgd2lkdGg9IjEwMCUiIHhtbG5zPSJodHRwOi8vd3d3LnczLm9yZy8yMDAwL3N2ZyIgeG1sbnM6ZXY9Imh0dHA6Ly93d3cudzMub3JnLzIwMDEveG1sLWV2ZW50cyIgeG1sbnM6eGxpbms9Imh0dHA6Ly93d3cudzMub3JnLzE5OTkveGxpbmsiPjxkZWZzPjxzeW1ib2wgaWQ9IkVudGl0eVN5bWJvbCIgc3Ryb2tlPSIjMDAwIiBzdHJva2Utd2lkdGg9IjIiIHZpZXdCb3g9IjAgMCA3OSA3OSI+PHBhdGggZD0iTTE4IDIzN2g0NnY0M0gxOHoiIGZpbGw9IiNhNWI5YzgiIHRyYW5zZm9ybT0idHJhbnNsYXRlKDAgLTIxOCkiIC8+PHBhdGggZD0iTTEyIDI0N2gxMXY4SDEyeiIgZmlsbD0iI2E1YjljOCIgdHJhbnNmb3JtPSJ0cmFuc2xhdGUoMCAtMjE4KSIgLz48cGF0aCBkPSJNMTIgMjYxaDExdjhIMTJ6IiBmaWxsPSIjYTViOWM4IiB0cmFuc2Zvcm09InRyYW5zbGF0ZSgwIC0yMTgpIiAvPjxwYXRoIGQ9Im0gNDEuNjU4NDY2LDU1LjU4MTkxMyBxIDAsMS4wNjI2MTYgLTAuNjkzOTUzLDEuNzM0ODgzIC0wLjY3MjI2NywwLjY3MjI2NyAtMS43MzQ4ODMsMC42NzIyNjcgaCAtOS40OTg0ODMgcSAtMS4wNjI2MTUsMCAtMS43MzQ4ODMsLTAuNjcyMjY3IC0wLjY3MjI2NywtMC42NzIyNjcgLTAuNjcyMjY3LC0xLjczNDg4MyBWIDI2LjQ1NzU2OSBxIDAsLTEuMDYyNjE1IDAuNjcyMjY3LC0xLjczNDg4MiAwLjY3MjI2OCwtMC42NzIyNjcgMS43MzQ4ODMsLTAuNjcyMjY3IGggOS40OTg0ODMgcSAxLjA2MjYxNiwwIDEuNzM0ODgzLDAuNjcyMjY3IDAuNjkzOTUzLDAuNjcyMjY3IDAuNjkzOTUzLDEuNzM0ODgyIHogTSAzOC42NDQxMDcsNTUuMzIxNjgxIFYgMjYuNzE3ODAyIGggLTguMzA1NzUxIHYgMjguNjAzODc5IHoiIGZpbGw9IiMwMDAiIC8+PHBhdGggZD0iTSA1OC4yNDgyODMsNTcuOTg5MDYzIEggNDcuMTAxNjYyIFYgMjQuMDUwNDIgaCAxMS4wMTY1MDUgdiAyLjY2NzM4MiBIIDUwLjExNjAyIHYgMTIuNjY0NjQ0IGggNS4wOTE2MTQgbCAwLjA5MTQ1LDIuNjE2NjY1IC01LjE4MzA2OCwwLjA5NDA5IHYgMTMuMjI4NDgxIGggOC4xMzIyNjMgeiIgZmlsbD0iIzAwMCIgLz48L3N5bWJvbD48L2RlZnM+PHVzZSBoZWlnaHQ9IjE1IiB3aWR0aD0iMTUiIHg9IjAiIHhsaW5rOmhyZWY9IiNFbnRpdHlTeW1ib2wiIHk9IjAiIC8+PC9zdmc+\" alt=\"Entity\" title=\"Entity\" width=\"15\" height=\"15\" style=\"display: inline-block\"> <a href=\"hlink://4bf0356c-89dd-45e9-b8a6-e0332c026d33\">&quot;Weather&quot;</a> (4bf0356c-89dd-45e9-b8a6-e0332c026d33)</li>\n",
       "<li><img src=\"data:image/svg+xml;base64,PHN2ZyBiYXNlUHJvZmlsZT0iZnVsbCIgaGVpZ2h0PSIxMDAlIiB2ZXJzaW9uPSIxLjEiIHZpZXdCb3g9IjAgMCAxNSAxNSIgd2lkdGg9IjEwMCUiIHhtbG5zPSJodHRwOi8vd3d3LnczLm9yZy8yMDAwL3N2ZyIgeG1sbnM6ZXY9Imh0dHA6Ly93d3cudzMub3JnLzIwMDEveG1sLWV2ZW50cyIgeG1sbnM6eGxpbms9Imh0dHA6Ly93d3cudzMub3JnLzE5OTkveGxpbmsiPjxkZWZzPjxzeW1ib2wgaWQ9IlN5c3RlbUZ1bmN0aW9uU3ltYm9sIiB2aWV3Qm94PSIwIDAgNzkgNzkiPjxsaW5lYXJHcmFkaWVudCBpZD0iU0ZfZ3JlZW4iIHgxPSIwIiB4Mj0iMSIgeTE9IjAiIHkyPSIwIj48c3RvcCBvZmZzZXQ9IjAuMCIgc3RvcC1jb2xvcj0iIzZDQjM1QiIgc3RvcC1vcGFjaXR5PSIxIiAvPjxzdG9wIG9mZnNldD0iMS4wIiBzdG9wLWNvbG9yPSIjZmZmZmZmIiBzdG9wLW9wYWNpdHk9IjEiIC8+PC9saW5lYXJHcmFkaWVudD48ZWxsaXBzZSBjeD0iMzkuNSIgY3k9IjM5LjUiIGZpbGw9InVybCgjU0ZfZ3JlZW4pIiByeD0iMjYiIHJ5PSIyMSIgc3Ryb2tlPSIjMDAwIiBzdHJva2Utd2lkdGg9IjIiIC8+PHRleHQgZmlsbD0iIzAwMCIgZm9udC1mYW1pbHk9IidPcGVuIFNhbnMnLCdTZWdvZSBVSScsQXJpYWwsc2Fucy1zZXJpZiIgZm9udC1zaXplPSIyNXB4IiBmb250LXdlaWdodD0iYm9sZCIgc3Ryb2tlPSJub25lIiB0ZXh0LWFuY2hvcj0ibWlkZGxlIiB4PSI0MCIgeT0iNTAiPlNGPC90ZXh0Pjwvc3ltYm9sPjwvZGVmcz48dXNlIGhlaWdodD0iMTUiIHdpZHRoPSIxNSIgeD0iMCIgeGxpbms6aHJlZj0iI1N5c3RlbUZ1bmN0aW9uU3ltYm9sIiB5PSIwIiAvPjwvc3ZnPg==\" alt=\"SystemFunction\" title=\"SystemFunction\" width=\"15\" height=\"15\" style=\"display: inline-block\"> <a href=\"hlink://00e7b925-cf4c-4cb0-929e-5409a1cd872b\">&quot;Sysexfunc&quot;</a> (00e7b925-cf4c-4cb0-929e-5409a1cd872b)</li>\n",
       "<li><strong>Requirement</strong> <a href=\"hlink://85d41db2-9e17-438b-95cf-49342452ddf3\">&quot;TypedReq1&quot;</a> (85d41db2-9e17-438b-95cf-49342452ddf3)</li>\n",
       "<li><img src=\"data:image/svg+xml;base64,PHN2ZyBiYXNlUHJvZmlsZT0iZnVsbCIgaGVpZ2h0PSIxMDAlIiB2ZXJzaW9uPSIxLjEiIHZpZXdCb3g9IjAgMCAxNSAxNSIgd2lkdGg9IjEwMCUiIHhtbG5zPSJodHRwOi8vd3d3LnczLm9yZy8yMDAwL3N2ZyIgeG1sbnM6ZXY9Imh0dHA6Ly93d3cudzMub3JnLzIwMDEveG1sLWV2ZW50cyIgeG1sbnM6eGxpbms9Imh0dHA6Ly93d3cudzMub3JnLzE5OTkveGxpbmsiPjxkZWZzPjxzeW1ib2wgaWQ9IkxvZ2ljYWxDb21wb25lbnRTeW1ib2wiIHN0cm9rZT0iIzAwMCIgc3Ryb2tlLXdpZHRoPSIyIiB2aWV3Qm94PSIwIDAgNzkgNzkiPjxwYXRoIGQ9Ik0xOCAyMzdoNDZ2NDNIMTh6IiBmaWxsPSIjZGJlNmY0IiB0cmFuc2Zvcm09InRyYW5zbGF0ZSgwIC0yMTgpIiAvPjxwYXRoIGQ9Ik0xMiAyNDdoMTF2OEgxMnoiIGZpbGw9IiNkYmU2ZjQiIHRyYW5zZm9ybT0idHJhbnNsYXRlKDAgLTIxOCkiIC8+PHBhdGggZD0iTTEyIDI2MWgxMXY4SDEyeiIgZmlsbD0iI2RiZTZmNCIgdHJhbnNmb3JtPSJ0cmFuc2xhdGUoMCAtMjE4KSIgLz48ZyB0cmFuc2Zvcm09InNjYWxlKDAuOTA3MDUxMzUsMS4xMDI0NzM0KSI+PHBhdGggZD0ibSAzNy40Mjc0NTYsMjAuODIxMzUzIGggNC4yMjE0NzUgViA1MC45MDk3MSBIIDM3LjQyNzQ1NiBaIE0gMzkuNTM4MTk0LDQ2Ljg5NTE3IEggNTYuNzU1MTkgdiA0LjAxNDU0IEggMzkuNTM4MTk0IFoiIGZpbGw9IiMwMDAiIHN0cm9rZS13aWR0aD0iMC4xIiAvPjwvZz48L3N5bWJvbD48L2RlZnM+PHVzZSBoZWlnaHQ9IjE1IiB3aWR0aD0iMTUiIHg9IjAiIHhsaW5rOmhyZWY9IiNMb2dpY2FsQ29tcG9uZW50U3ltYm9sIiB5PSIwIiAvPjwvc3ZnPg==\" alt=\"LogicalComponent\" title=\"LogicalComponent\" width=\"15\" height=\"15\" style=\"display: inline-block\"> <a href=\"hlink://0d2edb8f-fa34-4e73-89ec-fb9a63001440\">&quot;Hogwarts&quot;</a> (0d2edb8f-fa34-4e73-89ec-fb9a63001440)</li>\n",
       "</ol></td></tr>\n",
       "<tr><th style=\"text-align: right;\">relations</th><td style=\"text-align: left;\"><ol start=\"0\" style=\"text-align: left;\">\n",
       "<li><strong>CapellaIncomingRelation</strong> <a href=\"hlink://078b2c69-4352-4cf9-9ea5-6573b75e5eec\">&quot;Controlling the weather&quot;</a> (078b2c69-4352-4cf9-9ea5-6573b75e5eec)</li>\n",
       "<li><strong>CapellaIncomingRelation</strong> <a href=\"hlink://24c824ef-b187-4725-a051-a68707e82d70\">&quot;Test req&quot;</a> (24c824ef-b187-4725-a051-a68707e82d70)</li>\n",
       "<li><a href=\"hlink://7de4c1a5-e106-4171-902a-502b816b60b0\"><strong>InternalRelation</strong></a> (7de4c1a5-e106-4171-902a-502b816b60b0)</li>\n",
       "<li><a href=\"hlink://57033242-3766-4961-8091-ce3d9326ed67\"><strong>CapellaOutgoingRelation</strong></a> (57033242-3766-4961-8091-ce3d9326ed67)</li>\n",
       "</ol></td></tr>\n",
       "<tr><th style=\"text-align: right;\">requirements</th><td style=\"text-align: left;\"><ol start=\"0\" style=\"text-align: left;\">\n",
       "<li><img src=\"data:image/svg+xml;base64,PHN2ZyBiYXNlUHJvZmlsZT0iZnVsbCIgaGVpZ2h0PSIxMDAlIiB2ZXJzaW9uPSIxLjEiIHZpZXdCb3g9IjAgMCAxNSAxNSIgd2lkdGg9IjEwMCUiIHhtbG5zPSJodHRwOi8vd3d3LnczLm9yZy8yMDAwL3N2ZyIgeG1sbnM6ZXY9Imh0dHA6Ly93d3cudzMub3JnLzIwMDEveG1sLWV2ZW50cyIgeG1sbnM6eGxpbms9Imh0dHA6Ly93d3cudzMub3JnLzE5OTkveGxpbmsiPjxkZWZzPjxzeW1ib2wgaWQ9IkVudGl0eVN5bWJvbCIgc3Ryb2tlPSIjMDAwIiBzdHJva2Utd2lkdGg9IjIiIHZpZXdCb3g9IjAgMCA3OSA3OSI+PHBhdGggZD0iTTE4IDIzN2g0NnY0M0gxOHoiIGZpbGw9IiNhNWI5YzgiIHRyYW5zZm9ybT0idHJhbnNsYXRlKDAgLTIxOCkiIC8+PHBhdGggZD0iTTEyIDI0N2gxMXY4SDEyeiIgZmlsbD0iI2E1YjljOCIgdHJhbnNmb3JtPSJ0cmFuc2xhdGUoMCAtMjE4KSIgLz48cGF0aCBkPSJNMTIgMjYxaDExdjhIMTJ6IiBmaWxsPSIjYTViOWM4IiB0cmFuc2Zvcm09InRyYW5zbGF0ZSgwIC0yMTgpIiAvPjxwYXRoIGQ9Im0gNDEuNjU4NDY2LDU1LjU4MTkxMyBxIDAsMS4wNjI2MTYgLTAuNjkzOTUzLDEuNzM0ODgzIC0wLjY3MjI2NywwLjY3MjI2NyAtMS43MzQ4ODMsMC42NzIyNjcgaCAtOS40OTg0ODMgcSAtMS4wNjI2MTUsMCAtMS43MzQ4ODMsLTAuNjcyMjY3IC0wLjY3MjI2NywtMC42NzIyNjcgLTAuNjcyMjY3LC0xLjczNDg4MyBWIDI2LjQ1NzU2OSBxIDAsLTEuMDYyNjE1IDAuNjcyMjY3LC0xLjczNDg4MiAwLjY3MjI2OCwtMC42NzIyNjcgMS43MzQ4ODMsLTAuNjcyMjY3IGggOS40OTg0ODMgcSAxLjA2MjYxNiwwIDEuNzM0ODgzLDAuNjcyMjY3IDAuNjkzOTUzLDAuNjcyMjY3IDAuNjkzOTUzLDEuNzM0ODgyIHogTSAzOC42NDQxMDcsNTUuMzIxNjgxIFYgMjYuNzE3ODAyIGggLTguMzA1NzUxIHYgMjguNjAzODc5IHoiIGZpbGw9IiMwMDAiIC8+PHBhdGggZD0iTSA1OC4yNDgyODMsNTcuOTg5MDYzIEggNDcuMTAxNjYyIFYgMjQuMDUwNDIgaCAxMS4wMTY1MDUgdiAyLjY2NzM4MiBIIDUwLjExNjAyIHYgMTIuNjY0NjQ0IGggNS4wOTE2MTQgbCAwLjA5MTQ1LDIuNjE2NjY1IC01LjE4MzA2OCwwLjA5NDA5IHYgMTMuMjI4NDgxIGggOC4xMzIyNjMgeiIgZmlsbD0iIzAwMCIgLz48L3N5bWJvbD48L2RlZnM+PHVzZSBoZWlnaHQ9IjE1IiB3aWR0aD0iMTUiIHg9IjAiIHhsaW5rOmhyZWY9IiNFbnRpdHlTeW1ib2wiIHk9IjAiIC8+PC9zdmc+\" alt=\"Entity\" title=\"Entity\" width=\"15\" height=\"15\" style=\"display: inline-block\"> <a href=\"hlink://4bf0356c-89dd-45e9-b8a6-e0332c026d33\">&quot;Weather&quot;</a> (4bf0356c-89dd-45e9-b8a6-e0332c026d33)</li>\n",
       "<li><img src=\"data:image/svg+xml;base64,PHN2ZyBiYXNlUHJvZmlsZT0iZnVsbCIgaGVpZ2h0PSIxMDAlIiB2ZXJzaW9uPSIxLjEiIHZpZXdCb3g9IjAgMCAxNSAxNSIgd2lkdGg9IjEwMCUiIHhtbG5zPSJodHRwOi8vd3d3LnczLm9yZy8yMDAwL3N2ZyIgeG1sbnM6ZXY9Imh0dHA6Ly93d3cudzMub3JnLzIwMDEveG1sLWV2ZW50cyIgeG1sbnM6eGxpbms9Imh0dHA6Ly93d3cudzMub3JnLzE5OTkveGxpbmsiPjxkZWZzPjxzeW1ib2wgaWQ9IlN5c3RlbUZ1bmN0aW9uU3ltYm9sIiB2aWV3Qm94PSIwIDAgNzkgNzkiPjxsaW5lYXJHcmFkaWVudCBpZD0iU0ZfZ3JlZW4iIHgxPSIwIiB4Mj0iMSIgeTE9IjAiIHkyPSIwIj48c3RvcCBvZmZzZXQ9IjAuMCIgc3RvcC1jb2xvcj0iIzZDQjM1QiIgc3RvcC1vcGFjaXR5PSIxIiAvPjxzdG9wIG9mZnNldD0iMS4wIiBzdG9wLWNvbG9yPSIjZmZmZmZmIiBzdG9wLW9wYWNpdHk9IjEiIC8+PC9saW5lYXJHcmFkaWVudD48ZWxsaXBzZSBjeD0iMzkuNSIgY3k9IjM5LjUiIGZpbGw9InVybCgjU0ZfZ3JlZW4pIiByeD0iMjYiIHJ5PSIyMSIgc3Ryb2tlPSIjMDAwIiBzdHJva2Utd2lkdGg9IjIiIC8+PHRleHQgZmlsbD0iIzAwMCIgZm9udC1mYW1pbHk9IidPcGVuIFNhbnMnLCdTZWdvZSBVSScsQXJpYWwsc2Fucy1zZXJpZiIgZm9udC1zaXplPSIyNXB4IiBmb250LXdlaWdodD0iYm9sZCIgc3Ryb2tlPSJub25lIiB0ZXh0LWFuY2hvcj0ibWlkZGxlIiB4PSI0MCIgeT0iNTAiPlNGPC90ZXh0Pjwvc3ltYm9sPjwvZGVmcz48dXNlIGhlaWdodD0iMTUiIHdpZHRoPSIxNSIgeD0iMCIgeGxpbms6aHJlZj0iI1N5c3RlbUZ1bmN0aW9uU3ltYm9sIiB5PSIwIiAvPjwvc3ZnPg==\" alt=\"SystemFunction\" title=\"SystemFunction\" width=\"15\" height=\"15\" style=\"display: inline-block\"> <a href=\"hlink://00e7b925-cf4c-4cb0-929e-5409a1cd872b\">&quot;Sysexfunc&quot;</a> (00e7b925-cf4c-4cb0-929e-5409a1cd872b)</li>\n",
       "<li><strong>Requirement</strong> <a href=\"hlink://85d41db2-9e17-438b-95cf-49342452ddf3\">&quot;TypedReq1&quot;</a> (85d41db2-9e17-438b-95cf-49342452ddf3)</li>\n",
       "<li><img src=\"data:image/svg+xml;base64,PHN2ZyBiYXNlUHJvZmlsZT0iZnVsbCIgaGVpZ2h0PSIxMDAlIiB2ZXJzaW9uPSIxLjEiIHZpZXdCb3g9IjAgMCAxNSAxNSIgd2lkdGg9IjEwMCUiIHhtbG5zPSJodHRwOi8vd3d3LnczLm9yZy8yMDAwL3N2ZyIgeG1sbnM6ZXY9Imh0dHA6Ly93d3cudzMub3JnLzIwMDEveG1sLWV2ZW50cyIgeG1sbnM6eGxpbms9Imh0dHA6Ly93d3cudzMub3JnLzE5OTkveGxpbmsiPjxkZWZzPjxzeW1ib2wgaWQ9IkxvZ2ljYWxDb21wb25lbnRTeW1ib2wiIHN0cm9rZT0iIzAwMCIgc3Ryb2tlLXdpZHRoPSIyIiB2aWV3Qm94PSIwIDAgNzkgNzkiPjxwYXRoIGQ9Ik0xOCAyMzdoNDZ2NDNIMTh6IiBmaWxsPSIjZGJlNmY0IiB0cmFuc2Zvcm09InRyYW5zbGF0ZSgwIC0yMTgpIiAvPjxwYXRoIGQ9Ik0xMiAyNDdoMTF2OEgxMnoiIGZpbGw9IiNkYmU2ZjQiIHRyYW5zZm9ybT0idHJhbnNsYXRlKDAgLTIxOCkiIC8+PHBhdGggZD0iTTEyIDI2MWgxMXY4SDEyeiIgZmlsbD0iI2RiZTZmNCIgdHJhbnNmb3JtPSJ0cmFuc2xhdGUoMCAtMjE4KSIgLz48ZyB0cmFuc2Zvcm09InNjYWxlKDAuOTA3MDUxMzUsMS4xMDI0NzM0KSI+PHBhdGggZD0ibSAzNy40Mjc0NTYsMjAuODIxMzUzIGggNC4yMjE0NzUgViA1MC45MDk3MSBIIDM3LjQyNzQ1NiBaIE0gMzkuNTM4MTk0LDQ2Ljg5NTE3IEggNTYuNzU1MTkgdiA0LjAxNDU0IEggMzkuNTM4MTk0IFoiIGZpbGw9IiMwMDAiIHN0cm9rZS13aWR0aD0iMC4xIiAvPjwvZz48L3N5bWJvbD48L2RlZnM+PHVzZSBoZWlnaHQ9IjE1IiB3aWR0aD0iMTUiIHg9IjAiIHhsaW5rOmhyZWY9IiNMb2dpY2FsQ29tcG9uZW50U3ltYm9sIiB5PSIwIiAvPjwvc3ZnPg==\" alt=\"LogicalComponent\" title=\"LogicalComponent\" width=\"15\" height=\"15\" style=\"display: inline-block\"> <a href=\"hlink://0d2edb8f-fa34-4e73-89ec-fb9a63001440\">&quot;Hogwarts&quot;</a> (0d2edb8f-fa34-4e73-89ec-fb9a63001440)</li>\n",
       "</ol></td></tr>\n",
       "<tr><th style=\"text-align: right;\">sid</th><td style=\"text-align: left;\"></td></tr>\n",
       "<tr><th style=\"text-align: right;\">summary</th><td style=\"text-align: left;\"></td></tr>\n",
       "<tr><th style=\"text-align: right;\">text</th><td style=\"text-align: left;\"><p>Test requirement 1 really l o n g text that is&nbsp;way too long to display here as that</p>\n",
       "\n",
       "<p>&lt; &gt; &quot; &#39;</p>\n",
       "\n",
       "<ul>\n",
       "\t<li>This&nbsp;is a list</li>\n",
       "\t<li>an unordered one</li>\n",
       "</ul>\n",
       "\n",
       "<ol>\n",
       "\t<li>Ordered list</li>\n",
       "\t<li>Ok</li>\n",
       "</ol>\n",
       "</td></tr>\n",
       "<tr><th style=\"text-align: right;\">traces</th><td style=\"text-align: left;\"><p><em>(Empty list)</em></p></td></tr>\n",
       "<tr><th style=\"text-align: right;\">type</th><td style=\"text-align: left;\"><strong>RequirementType</strong> <a href=\"hlink://db47fca9-ddb6-4397-8d4b-e397e53d277e\">&quot;ReqType&quot;</a> (db47fca9-ddb6-4397-8d4b-e397e53d277e)</td></tr>\n",
       "<tr><th style=\"text-align: right;\">uuid</th><td style=\"text-align: left;\">3c2d312c-37c9-41b5-8c32-67578fa52dc3</td></tr>\n",
       "<tr><th style=\"text-align: right;\">validation</th><td style=\"text-align: left;\"><em>&lt;capellambse.extensions.validation._validate.ElementValidation object at 0x78f9a98ce600&gt;</em></td></tr>\n",
       "<tr><th style=\"text-align: right;\">visible_on_diagrams</th><td style=\"text-align: left;\"><ol start=\"0\" style=\"text-align: left;\">\n",
       "<li><b>[SDFB] Test CC</b> (uuid: _1sGtYOSREeulYvEGRaHazg)</li>\n",
       "<li><b>[OAB] Operational Context</b> (uuid: _u8_YMLB-EeqP7JXhmLvOsg)</li>\n",
       "</ol></td></tr>\n",
       "<tr><th style=\"text-align: right;\">xtype</th><td style=\"text-align: left;\">Requirements:Requirement</td></tr>\n",
       "</table>"
      ],
      "text/plain": [
       "<Requirement 'TestReq1' (3c2d312c-37c9-41b5-8c32-67578fa52dc3)>\n",
       ".applied_property_value_groups = []\n",
       ".applied_property_values = []\n",
       ".attributes = [0] <BooleanValueAttribute [AttrDef] True (9c692405-b8aa-4caa-b988-51d27db5cd1b)>\n",
       "              [1] <DateValueAttribute [AttrDef] 2021-07-23T15:00:00+02:00 (b97c09b5-948a-46e8-a656-69d764ddce7d)>\n",
       "              [2] <IntegerValueAttribute [AttrDef] 10 (85dfd42c-7f6e-4236-a181-bdd784040431)>\n",
       "              [3] <RealValueAttribute [AttrDef] 10.5 (d2231d14-854d-4625-b48b-6cf1c2554367)>\n",
       "              [4] <StringValueAttribute [AttrDef] 'Test' (ee8a69ef-61b9-4db9-9a0f-628e5d4704e1)>\n",
       "              [5] <BooleanValueAttribute [Boolean Value Attribute] False (dcb8614e-2d1c-4cb3-aa0c-667a297e7489)>\n",
       ".chapter_name = '2'\n",
       ".constraints = []\n",
       ".description = 'This is a test requirement of kind 1.'\n",
       ".diagrams = []\n",
       ".filtering_criteria = []\n",
       ".foreign_id = 1\n",
       ".identifier = 'REQTYPE-1'\n",
       ".layer = <OperationalAnalysis 'Operational Analysis' (ddbef16d-ddb9-4162-934c-f1e40e6f8bed)>\n",
       ".long_name = '1'\n",
       ".name = 'TestReq1'\n",
       ".owner = <Folder 'Folder' (e16f5cc1-3299-43d0-b1a0-82d31a137111)>\n",
       ".parent = <Folder 'Folder' (e16f5cc1-3299-43d0-b1a0-82d31a137111)>\n",
       ".prefix = '3'\n",
       ".progress_status = 'NOT_SET'\n",
       ".property_value_groups = []\n",
       ".property_value_packages = []\n",
       ".property_values = []\n",
       ".pvmt = <Property Value Management for <Requirement 'TestReq1' (3c2d312c-37c9-41b5-8c32-67578fa52dc3)>>\n",
       ".related = [0] <Entity 'Weather' (4bf0356c-89dd-45e9-b8a6-e0332c026d33)>\n",
       "           [1] <SystemFunction 'Sysexfunc' (00e7b925-cf4c-4cb0-929e-5409a1cd872b)>\n",
       "           [2] <Requirement 'TypedReq1' (85d41db2-9e17-438b-95cf-49342452ddf3)>\n",
       "           [3] <LogicalComponent 'Hogwarts' (0d2edb8f-fa34-4e73-89ec-fb9a63001440)>\n",
       ".relations = [0] <CapellaIncomingRelation 'Controlling the weather' from <Requirement 'TestReq1' (3c2d312c-37c9-41b5-8c32-67578fa52dc3)> to <Entity 'Weather' (4bf0356c-89dd-45e9-b8a6-e0332c026d33)> (078b2c69-4352-4cf9-9ea5-6573b75e5eec)>\n",
       "             [1] <CapellaIncomingRelation 'Test req' from <Requirement 'TestReq1' (3c2d312c-37c9-41b5-8c32-67578fa52dc3)> to <SystemFunction 'Sysexfunc' (00e7b925-cf4c-4cb0-929e-5409a1cd872b)> (24c824ef-b187-4725-a051-a68707e82d70)>\n",
       "             [2] <InternalRelation '' from <Requirement 'TestReq1' (3c2d312c-37c9-41b5-8c32-67578fa52dc3)> to <Requirement 'TypedReq1' (85d41db2-9e17-438b-95cf-49342452ddf3)> (7de4c1a5-e106-4171-902a-502b816b60b0)>\n",
       "             [3] <CapellaOutgoingRelation '' from <Requirement 'TestReq1' (3c2d312c-37c9-41b5-8c32-67578fa52dc3)> to <LogicalComponent 'Hogwarts' (0d2edb8f-fa34-4e73-89ec-fb9a63001440)> (57033242-3766-4961-8091-ce3d9326ed67)>\n",
       ".requirements = [0] <Entity 'Weather' (4bf0356c-89dd-45e9-b8a6-e0332c026d33)>\n",
       "                [1] <SystemFunction 'Sysexfunc' (00e7b925-cf4c-4cb0-929e-5409a1cd872b)>\n",
       "                [2] <Requirement 'TypedReq1' (85d41db2-9e17-438b-95cf-49342452ddf3)>\n",
       "                [3] <LogicalComponent 'Hogwarts' (0d2edb8f-fa34-4e73-89ec-fb9a63001440)>\n",
       ".sid = ''\n",
       ".summary = ''\n",
       ".text = Markup('<p>Test requirement 1 really l o n g text that is&nbsp;way too long to display here as that</p>\\n\\n<p>&lt; &gt; &quot; &#39;</p>\\n\\n<ul>\\n\\t<li>This&nbsp;is a list</li>\\n\\t<li>an unordered one</li>\\n</ul>\\n\\n<ol>\\n\\t<li>Ordered [...]\n",
       ".traces = []\n",
       ".type = <RequirementType 'ReqType' (db47fca9-ddb6-4397-8d4b-e397e53d277e)>\n",
       ".uuid = '3c2d312c-37c9-41b5-8c32-67578fa52dc3'\n",
       ".validation = <capellambse.extensions.validation._validate.ElementValidation object at 0x78f99a5ff2c0>\n",
       ".visible_on_diagrams = [0] <Diagram '[SDFB] Test CC'>\n",
       "                       [1] <Diagram '[OAB] Operational Context'>\n",
       ".xtype = 'Requirements:Requirement'"
      ]
     },
     "execution_count": 3,
     "metadata": {},
     "output_type": "execute_result"
    }
   ],
   "source": [
    "model.oa.all_requirements[0]"
   ]
  },
  {
   "cell_type": "markdown",
   "id": "896e3633",
   "metadata": {},
   "source": [
    "## Filtering for requirements by type\n",
    "\n",
    "You probably know about typing of your Requirements. You can have a view of all requirement type folders directly on a specific layer and see the stored requirement_types:"
   ]
  },
  {
   "cell_type": "code",
   "execution_count": 4,
   "id": "8dad0bed",
   "metadata": {},
   "outputs": [
    {
     "data": {
      "text/html": [
       "<h1>CapellaTypesFolder <span style=\"font-size: 70%;\">(CapellaRequirements:CapellaTypesFolder)</span></h1>\n",
       "<table>\n",
       "<tr><th style=\"text-align: right;\">applied_property_value_groups</th><td style=\"text-align: left;\"><p><em>(Empty list)</em></p></td></tr>\n",
       "<tr><th style=\"text-align: right;\">applied_property_values</th><td style=\"text-align: left;\"><p><em>(Empty list)</em></p></td></tr>\n",
       "<tr><th style=\"text-align: right;\">constraints</th><td style=\"text-align: left;\"><p><em>(Empty list)</em></p></td></tr>\n",
       "<tr><th style=\"text-align: right;\">data_type_definitions</th><td style=\"text-align: left;\"><ol start=\"0\" style=\"text-align: left;\">\n",
       "<li><strong>DataTypeDefinition</strong> <a href=\"hlink://3b7ec38a-e26a-4c23-9fa3-275af3f629ee\">&quot;DataTypeDef&quot;</a> (3b7ec38a-e26a-4c23-9fa3-275af3f629ee)</li>\n",
       "<li><strong>EnumerationDataTypeDefinition</strong> <a href=\"hlink://637caf95-3229-4607-99a0-7d7b990bc97f\">&quot;EnumDataTypeDef&quot;</a> (637caf95-3229-4607-99a0-7d7b990bc97f)</li>\n",
       "</ol></td></tr>\n",
       "<tr><th style=\"text-align: right;\">description</th><td style=\"text-align: left;\"></td></tr>\n",
       "<tr><th style=\"text-align: right;\">diagrams</th><td style=\"text-align: left;\"><p><em>(Empty list)</em></p></td></tr>\n",
       "<tr><th style=\"text-align: right;\">filtering_criteria</th><td style=\"text-align: left;\"><p><em>(Empty list)</em></p></td></tr>\n",
       "<tr><th style=\"text-align: right;\">identifier</th><td style=\"text-align: left;\"></td></tr>\n",
       "<tr><th style=\"text-align: right;\">layer</th><td style=\"text-align: left;\"><strong>OperationalAnalysis</strong> <a href=\"hlink://ddbef16d-ddb9-4162-934c-f1e40e6f8bed\">&quot;Operational Analysis&quot;</a> (ddbef16d-ddb9-4162-934c-f1e40e6f8bed)</td></tr>\n",
       "<tr><th style=\"text-align: right;\">long_name</th><td style=\"text-align: left;\">Types</td></tr>\n",
       "<tr><th style=\"text-align: right;\">module_types</th><td style=\"text-align: left;\"><ol start=\"0\" style=\"text-align: left;\">\n",
       "<li><strong>ModuleType</strong> <a href=\"hlink://a67e7f43-4b49-425c-a6a7-d44e1054a488\">&quot;ModuleType&quot;</a> (a67e7f43-4b49-425c-a6a7-d44e1054a488)</li>\n",
       "</ol></td></tr>\n",
       "<tr><th style=\"text-align: right;\">name</th><td style=\"text-align: left;\"></td></tr>\n",
       "<tr><th style=\"text-align: right;\">parent</th><td style=\"text-align: left;\"><strong>OperationalAnalysis</strong> <a href=\"hlink://ddbef16d-ddb9-4162-934c-f1e40e6f8bed\">&quot;Operational Analysis&quot;</a> (ddbef16d-ddb9-4162-934c-f1e40e6f8bed)</td></tr>\n",
       "<tr><th style=\"text-align: right;\">prefix</th><td style=\"text-align: left;\"></td></tr>\n",
       "<tr><th style=\"text-align: right;\">progress_status</th><td style=\"text-align: left;\">NOT_SET</td></tr>\n",
       "<tr><th style=\"text-align: right;\">property_value_groups</th><td style=\"text-align: left;\"><p><em>(Empty list)</em></p></td></tr>\n",
       "<tr><th style=\"text-align: right;\">property_value_packages</th><td style=\"text-align: left;\"><p><em>(Empty list)</em></p></td></tr>\n",
       "<tr><th style=\"text-align: right;\">property_values</th><td style=\"text-align: left;\"><p><em>(Empty list)</em></p></td></tr>\n",
       "<tr><th style=\"text-align: right;\">pvmt</th><td style=\"text-align: left;\">Property Value Management for <strong>CapellaTypesFolder</strong> <a href=\"hlink://67bba9cf-953c-4f0b-9986-41991c68d241\">&quot;Types&quot;</a> (67bba9cf-953c-4f0b-9986-41991c68d241)</td></tr>\n",
       "<tr><th style=\"text-align: right;\">relation_types</th><td style=\"text-align: left;\"><ol start=\"0\" style=\"text-align: left;\">\n",
       "<li><strong>RelationType</strong> <a href=\"hlink://f1aceb81-5f70-4469-a127-94830eb9be04\">&quot;RelationType&quot;</a> (f1aceb81-5f70-4469-a127-94830eb9be04)</li>\n",
       "</ol></td></tr>\n",
       "<tr><th style=\"text-align: right;\">requirement_types</th><td style=\"text-align: left;\"><ol start=\"0\" style=\"text-align: left;\">\n",
       "<li><strong>RequirementType</strong> <a href=\"hlink://db47fca9-ddb6-4397-8d4b-e397e53d277e\">&quot;ReqType&quot;</a> (db47fca9-ddb6-4397-8d4b-e397e53d277e)</li>\n",
       "</ol></td></tr>\n",
       "<tr><th style=\"text-align: right;\">requirements</th><td style=\"text-align: left;\"><p><em>(Empty list)</em></p></td></tr>\n",
       "<tr><th style=\"text-align: right;\">sid</th><td style=\"text-align: left;\"></td></tr>\n",
       "<tr><th style=\"text-align: right;\">summary</th><td style=\"text-align: left;\"></td></tr>\n",
       "<tr><th style=\"text-align: right;\">traces</th><td style=\"text-align: left;\"><p><em>(Empty list)</em></p></td></tr>\n",
       "<tr><th style=\"text-align: right;\">type</th><td style=\"text-align: left;\"><em>None</em></td></tr>\n",
       "<tr><th style=\"text-align: right;\">uuid</th><td style=\"text-align: left;\">67bba9cf-953c-4f0b-9986-41991c68d241</td></tr>\n",
       "<tr><th style=\"text-align: right;\">validation</th><td style=\"text-align: left;\"><em>&lt;capellambse.extensions.validation._validate.ElementValidation object at 0x78f99a5fede0&gt;</em></td></tr>\n",
       "<tr><th style=\"text-align: right;\">visible_on_diagrams</th><td style=\"text-align: left;\"><p><em>(Empty list)</em></p></td></tr>\n",
       "<tr><th style=\"text-align: right;\">xtype</th><td style=\"text-align: left;\">CapellaRequirements:CapellaTypesFolder</td></tr>\n",
       "</table>"
      ],
      "text/plain": [
       "<CapellaTypesFolder 'Types' (67bba9cf-953c-4f0b-9986-41991c68d241)>\n",
       ".applied_property_value_groups = []\n",
       ".applied_property_values = []\n",
       ".constraints = []\n",
       ".data_type_definitions = [0] <DataTypeDefinition 'DataTypeDef' (3b7ec38a-e26a-4c23-9fa3-275af3f629ee)>\n",
       "                         [1] <EnumerationDataTypeDefinition 'EnumDataTypeDef' (637caf95-3229-4607-99a0-7d7b990bc97f)>\n",
       ".description = ''\n",
       ".diagrams = []\n",
       ".filtering_criteria = []\n",
       ".identifier = ''\n",
       ".layer = <OperationalAnalysis 'Operational Analysis' (ddbef16d-ddb9-4162-934c-f1e40e6f8bed)>\n",
       ".long_name = 'Types'\n",
       ".module_types = [0] <ModuleType 'ModuleType' (a67e7f43-4b49-425c-a6a7-d44e1054a488)>\n",
       ".name = ''\n",
       ".parent = <OperationalAnalysis 'Operational Analysis' (ddbef16d-ddb9-4162-934c-f1e40e6f8bed)>\n",
       ".prefix = ''\n",
       ".progress_status = 'NOT_SET'\n",
       ".property_value_groups = []\n",
       ".property_value_packages = []\n",
       ".property_values = []\n",
       ".pvmt = <Property Value Management for <CapellaTypesFolder 'Types' (67bba9cf-953c-4f0b-9986-41991c68d241)>>\n",
       ".relation_types = [0] <RelationType 'RelationType' (f1aceb81-5f70-4469-a127-94830eb9be04)>\n",
       ".requirement_types = [0] <RequirementType 'ReqType' (db47fca9-ddb6-4397-8d4b-e397e53d277e)>\n",
       ".requirements = []\n",
       ".sid = ''\n",
       ".summary = ''\n",
       ".traces = []\n",
       ".type = None\n",
       ".uuid = '67bba9cf-953c-4f0b-9986-41991c68d241'\n",
       ".validation = <capellambse.extensions.validation._validate.ElementValidation object at 0x78f99a5ff830>\n",
       ".visible_on_diagrams = []\n",
       ".xtype = 'CapellaRequirements:CapellaTypesFolder'"
      ]
     },
     "execution_count": 4,
     "metadata": {},
     "output_type": "execute_result"
    }
   ],
   "source": [
    "model.oa.requirement_types_folders[0]"
   ]
  },
  {
   "cell_type": "code",
   "execution_count": 5,
   "id": "28c463c1",
   "metadata": {},
   "outputs": [
    {
     "data": {
      "text/html": [
       "<h1>RequirementType <span style=\"font-size: 70%;\">(Requirements:RequirementType)</span></h1>\n",
       "<table>\n",
       "<tr><th style=\"text-align: right;\">applied_property_value_groups</th><td style=\"text-align: left;\"><p><em>(Empty list)</em></p></td></tr>\n",
       "<tr><th style=\"text-align: right;\">applied_property_values</th><td style=\"text-align: left;\"><p><em>(Empty list)</em></p></td></tr>\n",
       "<tr><th style=\"text-align: right;\">attribute_definitions</th><td style=\"text-align: left;\"><ol start=\"0\" style=\"text-align: left;\">\n",
       "<li><strong>AttributeDefinition</strong> <a href=\"hlink://682bd51d-5451-4930-a97e-8bfca6c3a127\">&quot;AttrDef&quot;</a> (682bd51d-5451-4930-a97e-8bfca6c3a127)</li>\n",
       "<li><strong>AttributeDefinitionEnumeration</strong> <a href=\"hlink://c316ab07-c5c3-4866-a896-92e34733055c\">&quot;AttrDefEnum&quot;</a> (c316ab07-c5c3-4866-a896-92e34733055c)</li>\n",
       "<li><strong>AttributeDefinitionEnumeration</strong> <a href=\"hlink://f31d4dd3-99f7-41d1-b1ce-f07b20d26eac\">&quot;MultiEnum&quot;</a> (f31d4dd3-99f7-41d1-b1ce-f07b20d26eac)</li>\n",
       "<li><strong>AttributeDefinition</strong> <a href=\"hlink://0bd40628-10a5-451e-86da-187c93bc3b10\">&quot;version&quot;</a> (0bd40628-10a5-451e-86da-187c93bc3b10)</li>\n",
       "</ol></td></tr>\n",
       "<tr><th style=\"text-align: right;\">constraints</th><td style=\"text-align: left;\"><p><em>(Empty list)</em></p></td></tr>\n",
       "<tr><th style=\"text-align: right;\">description</th><td style=\"text-align: left;\"></td></tr>\n",
       "<tr><th style=\"text-align: right;\">diagrams</th><td style=\"text-align: left;\"><p><em>(Empty list)</em></p></td></tr>\n",
       "<tr><th style=\"text-align: right;\">filtering_criteria</th><td style=\"text-align: left;\"><p><em>(Empty list)</em></p></td></tr>\n",
       "<tr><th style=\"text-align: right;\">identifier</th><td style=\"text-align: left;\"></td></tr>\n",
       "<tr><th style=\"text-align: right;\">layer</th><td style=\"text-align: left;\"><strong>OperationalAnalysis</strong> <a href=\"hlink://ddbef16d-ddb9-4162-934c-f1e40e6f8bed\">&quot;Operational Analysis&quot;</a> (ddbef16d-ddb9-4162-934c-f1e40e6f8bed)</td></tr>\n",
       "<tr><th style=\"text-align: right;\">long_name</th><td style=\"text-align: left;\">ReqType</td></tr>\n",
       "<tr><th style=\"text-align: right;\">name</th><td style=\"text-align: left;\"></td></tr>\n",
       "<tr><th style=\"text-align: right;\">owner</th><td style=\"text-align: left;\"><strong>CapellaTypesFolder</strong> <a href=\"hlink://67bba9cf-953c-4f0b-9986-41991c68d241\">&quot;Types&quot;</a> (67bba9cf-953c-4f0b-9986-41991c68d241)</td></tr>\n",
       "<tr><th style=\"text-align: right;\">parent</th><td style=\"text-align: left;\"><strong>CapellaTypesFolder</strong> <a href=\"hlink://67bba9cf-953c-4f0b-9986-41991c68d241\">&quot;Types&quot;</a> (67bba9cf-953c-4f0b-9986-41991c68d241)</td></tr>\n",
       "<tr><th style=\"text-align: right;\">prefix</th><td style=\"text-align: left;\"></td></tr>\n",
       "<tr><th style=\"text-align: right;\">progress_status</th><td style=\"text-align: left;\">NOT_SET</td></tr>\n",
       "<tr><th style=\"text-align: right;\">property_value_groups</th><td style=\"text-align: left;\"><p><em>(Empty list)</em></p></td></tr>\n",
       "<tr><th style=\"text-align: right;\">property_value_packages</th><td style=\"text-align: left;\"><p><em>(Empty list)</em></p></td></tr>\n",
       "<tr><th style=\"text-align: right;\">property_values</th><td style=\"text-align: left;\"><p><em>(Empty list)</em></p></td></tr>\n",
       "<tr><th style=\"text-align: right;\">pvmt</th><td style=\"text-align: left;\">Property Value Management for <strong>RequirementType</strong> <a href=\"hlink://db47fca9-ddb6-4397-8d4b-e397e53d277e\">&quot;ReqType&quot;</a> (db47fca9-ddb6-4397-8d4b-e397e53d277e)</td></tr>\n",
       "<tr><th style=\"text-align: right;\">requirements</th><td style=\"text-align: left;\"><p><em>(Empty list)</em></p></td></tr>\n",
       "<tr><th style=\"text-align: right;\">sid</th><td style=\"text-align: left;\"></td></tr>\n",
       "<tr><th style=\"text-align: right;\">summary</th><td style=\"text-align: left;\"></td></tr>\n",
       "<tr><th style=\"text-align: right;\">traces</th><td style=\"text-align: left;\"><p><em>(Empty list)</em></p></td></tr>\n",
       "<tr><th style=\"text-align: right;\">type</th><td style=\"text-align: left;\"><em>None</em></td></tr>\n",
       "<tr><th style=\"text-align: right;\">uuid</th><td style=\"text-align: left;\">db47fca9-ddb6-4397-8d4b-e397e53d277e</td></tr>\n",
       "<tr><th style=\"text-align: right;\">validation</th><td style=\"text-align: left;\"><em>&lt;capellambse.extensions.validation._validate.ElementValidation object at 0x78f99a5ffd40&gt;</em></td></tr>\n",
       "<tr><th style=\"text-align: right;\">visible_on_diagrams</th><td style=\"text-align: left;\"><p><em>(Empty list)</em></p></td></tr>\n",
       "<tr><th style=\"text-align: right;\">xtype</th><td style=\"text-align: left;\">Requirements:RequirementType</td></tr>\n",
       "</table>"
      ],
      "text/plain": [
       "<RequirementType 'ReqType' (db47fca9-ddb6-4397-8d4b-e397e53d277e)>\n",
       ".applied_property_value_groups = []\n",
       ".applied_property_values = []\n",
       ".attribute_definitions = [0] <AttributeDefinition 'AttrDef' (682bd51d-5451-4930-a97e-8bfca6c3a127)>\n",
       "                         [1] <AttributeDefinitionEnumeration 'AttrDefEnum' (c316ab07-c5c3-4866-a896-92e34733055c)>\n",
       "                         [2] <AttributeDefinitionEnumeration 'MultiEnum' (f31d4dd3-99f7-41d1-b1ce-f07b20d26eac)>\n",
       "                         [3] <AttributeDefinition 'version' (0bd40628-10a5-451e-86da-187c93bc3b10)>\n",
       ".constraints = []\n",
       ".description = ''\n",
       ".diagrams = []\n",
       ".filtering_criteria = []\n",
       ".identifier = ''\n",
       ".layer = <OperationalAnalysis 'Operational Analysis' (ddbef16d-ddb9-4162-934c-f1e40e6f8bed)>\n",
       ".long_name = 'ReqType'\n",
       ".name = ''\n",
       ".owner = <CapellaTypesFolder 'Types' (67bba9cf-953c-4f0b-9986-41991c68d241)>\n",
       ".parent = <CapellaTypesFolder 'Types' (67bba9cf-953c-4f0b-9986-41991c68d241)>\n",
       ".prefix = ''\n",
       ".progress_status = 'NOT_SET'\n",
       ".property_value_groups = []\n",
       ".property_value_packages = []\n",
       ".property_values = []\n",
       ".pvmt = <Property Value Management for <RequirementType 'ReqType' (db47fca9-ddb6-4397-8d4b-e397e53d277e)>>\n",
       ".requirements = []\n",
       ".sid = ''\n",
       ".summary = ''\n",
       ".traces = []\n",
       ".type = None\n",
       ".uuid = 'db47fca9-ddb6-4397-8d4b-e397e53d277e'\n",
       ".validation = <capellambse.extensions.validation._validate.ElementValidation object at 0x78f99a557620>\n",
       ".visible_on_diagrams = []\n",
       ".xtype = 'Requirements:RequirementType'"
      ]
     },
     "execution_count": 5,
     "metadata": {},
     "output_type": "execute_result"
    }
   ],
   "source": [
    "reqtype = model.oa.requirement_types_folders[0].requirement_types[0]\n",
    "reqtype"
   ]
  },
  {
   "cell_type": "markdown",
   "id": "62baecda",
   "metadata": {},
   "source": [
    "Now we actually want to filter the requirements by this type with name 'ReqType'. Very original name, we know. You wouldn't really see the filtering effect since all requirements in the oa layer are of that type. So let us create one new requirement dynamically:"
   ]
  },
  {
   "cell_type": "code",
   "execution_count": 6,
   "id": "2d985277",
   "metadata": {},
   "outputs": [
    {
     "data": {
      "text/html": [
       "<h1><img src=\"data:image/svg+xml;base64,PHN2ZyBiYXNlUHJvZmlsZT0iZnVsbCIgaGVpZ2h0PSIxMDAlIiB2ZXJzaW9uPSIxLjEiIHZpZXdCb3g9IjAgMCAyMCAyMCIgd2lkdGg9IjEwMCUiIHhtbG5zPSJodHRwOi8vd3d3LnczLm9yZy8yMDAwL3N2ZyIgeG1sbnM6ZXY9Imh0dHA6Ly93d3cudzMub3JnLzIwMDEveG1sLWV2ZW50cyIgeG1sbnM6eGxpbms9Imh0dHA6Ly93d3cudzMub3JnLzE5OTkveGxpbmsiPjxkZWZzPjxzeW1ib2wgaWQ9IlJlcXVpcmVtZW50U3ltYm9sIiB2aWV3Qm94PSIwIDAgNTAgNTAiPjxwYXRoIGQ9Ik0gMTIuODA2ODEzLDYuNTcwMjMyNCBBIDYuMjQ0Mzc5LDUuODExMzI0MSAwIDAgMSA2LjU2MjQzNDIsMTIuMzgxNTU3IDYuMjQ0Mzc5LDUuODExMzI0MSAwIDAgMSAwLjMxODA1NTE1LDYuNTcwMjMyNCA2LjI0NDM3OSw1LjgxMTMyNDEgMCAwIDEgNi41NjI0MzQyLDAuNzU4OTA4MjcgNi4yNDQzNzksNS44MTEzMjQxIDAgMCAxIDEyLjgwNjgxMyw2LjU3MDIzMjQgWiIgZmlsbD0iIzQzMTk2NCIgc3Ryb2tlPSJub25lIiAvPjxwYXRoIGQ9Im0gNC4zMjI4NjU4LDUuODc1MjQ3NSBoIDIuOTUxNDcyMSBxIDAuMjk0NTU4MSwwIDAuNTE4NDIyMywtMC4xNDEzODc5IFEgOC4wMjI1MTU1LDUuNTg2NTgwNiA4LjE0NjIyOTksNS4zMjE0NzgzIDguMjY5OTQ0Myw1LjA1NjM3NiA4LjI3NTgzNTUsNC43MDI5MDYzIHYgMCBxIDAsLTAuMzQ3NTc4NiAtMC4xMjM3MTQ0LC0wLjYxMjY4MDggUSA4LjAyODQwNjcsMy44MjUxMjMyIDcuNzk4NjUxMywzLjY4MzczNTMgNy41NzQ3ODcyLDMuNTM2NDU2MiA3LjI3NDMzNzksMy41MzY0NTYyIEggNC4zMjI4NjU4IFYgMi4xODczODAxIGggMi45OTI3MTAzIHEgMC43MjQ2MTI5LDAgMS4yNzI0OTA5LDAuMzEyMjMxNiAwLjU0Nzg3ODEsMC4zMTIyMzE2IDAuODQ4MzI3NCwwLjg4MzY3NDMgMC4zMDYzNDA0LDAuNTcxNDQyNyAwLjMwNjM0MDQsMS4zMTk2MjAzIHYgMCBxIDAsMC43NTQwNjg3IC0wLjMwNjM0MDQsMS4zMjU1MTE0IFEgOS4xMzU5NDUxLDYuNTk5ODYwNSA4LjU4MjE3NTksNi45MTIwOTIgOC4wMzQyOTc4LDcuMjI0MzIzNiA3LjMxNTU3NjEsNy4yMjQzMjM2IEggNC4zMjI4NjU4IFogTSAzLjczOTY0MDcsMi4xODczODAxIEggNS4xNDc2Mjg1IFYgMTAuNzU5MDIxIEggMy43Mzk2NDA3IFogTSA2LjM5MDY2MzYsNi45NTkyMjEzIDcuODUxNjcxOCw2LjY4ODIyNzkgMTAuMTAyMDk2LDEwLjc1OTAyMSBIIDguNDExMzMyMiBaIiBmaWxsPSIjZmZmIiBzdHJva2U9Im5vbmUiIC8+PC9zeW1ib2w+PC9kZWZzPjx1c2UgaGVpZ2h0PSIyMCIgd2lkdGg9IjIwIiB4PSIwIiB4bGluazpocmVmPSIjUmVxdWlyZW1lbnRTeW1ib2wiIHk9IjAiIC8+PC9zdmc+\" alt=\"\" width=\"20\" height=\"20\"> New showcase req1 <span style=\"font-size: 70%;\">(Requirements:Requirement)</span></h1>\n",
       "<table>\n",
       "<tr><th style=\"text-align: right;\">applied_property_value_groups</th><td style=\"text-align: left;\"><p><em>(Empty list)</em></p></td></tr>\n",
       "<tr><th style=\"text-align: right;\">applied_property_values</th><td style=\"text-align: left;\"><p><em>(Empty list)</em></p></td></tr>\n",
       "<tr><th style=\"text-align: right;\">attributes</th><td style=\"text-align: left;\"><p><em>(Empty list)</em></p></td></tr>\n",
       "<tr><th style=\"text-align: right;\">chapter_name</th><td style=\"text-align: left;\"></td></tr>\n",
       "<tr><th style=\"text-align: right;\">constraints</th><td style=\"text-align: left;\"><p><em>(Empty list)</em></p></td></tr>\n",
       "<tr><th style=\"text-align: right;\">description</th><td style=\"text-align: left;\"></td></tr>\n",
       "<tr><th style=\"text-align: right;\">diagrams</th><td style=\"text-align: left;\"><p><em>(Empty list)</em></p></td></tr>\n",
       "<tr><th style=\"text-align: right;\">filtering_criteria</th><td style=\"text-align: left;\"><p><em>(Empty list)</em></p></td></tr>\n",
       "<tr><th style=\"text-align: right;\">foreign_id</th><td style=\"text-align: left;\"><em>0</em></td></tr>\n",
       "<tr><th style=\"text-align: right;\">identifier</th><td style=\"text-align: left;\"></td></tr>\n",
       "<tr><th style=\"text-align: right;\">layer</th><td style=\"text-align: left;\"><strong>OperationalAnalysis</strong> <a href=\"hlink://ddbef16d-ddb9-4162-934c-f1e40e6f8bed\">&quot;Operational Analysis&quot;</a> (ddbef16d-ddb9-4162-934c-f1e40e6f8bed)</td></tr>\n",
       "<tr><th style=\"text-align: right;\">long_name</th><td style=\"text-align: left;\"></td></tr>\n",
       "<tr><th style=\"text-align: right;\">name</th><td style=\"text-align: left;\">New showcase req1</td></tr>\n",
       "<tr><th style=\"text-align: right;\">owner</th><td style=\"text-align: left;\"><strong>CapellaModule</strong> <a href=\"hlink://f8e2195d-b5f5-4452-a12b-79233d943d5e\">&quot;Test Module&quot;</a> (f8e2195d-b5f5-4452-a12b-79233d943d5e)</td></tr>\n",
       "<tr><th style=\"text-align: right;\">parent</th><td style=\"text-align: left;\"><strong>CapellaModule</strong> <a href=\"hlink://f8e2195d-b5f5-4452-a12b-79233d943d5e\">&quot;Test Module&quot;</a> (f8e2195d-b5f5-4452-a12b-79233d943d5e)</td></tr>\n",
       "<tr><th style=\"text-align: right;\">prefix</th><td style=\"text-align: left;\"></td></tr>\n",
       "<tr><th style=\"text-align: right;\">progress_status</th><td style=\"text-align: left;\">NOT_SET</td></tr>\n",
       "<tr><th style=\"text-align: right;\">property_value_groups</th><td style=\"text-align: left;\"><p><em>(Empty list)</em></p></td></tr>\n",
       "<tr><th style=\"text-align: right;\">property_value_packages</th><td style=\"text-align: left;\"><p><em>(Empty list)</em></p></td></tr>\n",
       "<tr><th style=\"text-align: right;\">property_values</th><td style=\"text-align: left;\"><p><em>(Empty list)</em></p></td></tr>\n",
       "<tr><th style=\"text-align: right;\">pvmt</th><td style=\"text-align: left;\">Property Value Management for <strong>Requirement</strong> <a href=\"hlink://3a208454-d271-49f4-8b93-20b958721300\">&quot;New showcase req1&quot;</a> (3a208454-d271-49f4-8b93-20b958721300)</td></tr>\n",
       "<tr><th style=\"text-align: right;\">related</th><td style=\"text-align: left;\"><p><em>(Empty list)</em></p></td></tr>\n",
       "<tr><th style=\"text-align: right;\">relations</th><td style=\"text-align: left;\"><p><em>(Empty list)</em></p></td></tr>\n",
       "<tr><th style=\"text-align: right;\">requirements</th><td style=\"text-align: left;\"><p><em>(Empty list)</em></p></td></tr>\n",
       "<tr><th style=\"text-align: right;\">sid</th><td style=\"text-align: left;\"></td></tr>\n",
       "<tr><th style=\"text-align: right;\">summary</th><td style=\"text-align: left;\"></td></tr>\n",
       "<tr><th style=\"text-align: right;\">text</th><td style=\"text-align: left;\"></td></tr>\n",
       "<tr><th style=\"text-align: right;\">traces</th><td style=\"text-align: left;\"><p><em>(Empty list)</em></p></td></tr>\n",
       "<tr><th style=\"text-align: right;\">type</th><td style=\"text-align: left;\"><em>None</em></td></tr>\n",
       "<tr><th style=\"text-align: right;\">uuid</th><td style=\"text-align: left;\">3a208454-d271-49f4-8b93-20b958721300</td></tr>\n",
       "<tr><th style=\"text-align: right;\">validation</th><td style=\"text-align: left;\"><em>&lt;capellambse.extensions.validation._validate.ElementValidation object at 0x78f99a5ff290&gt;</em></td></tr>\n",
       "<tr><th style=\"text-align: right;\">visible_on_diagrams</th><td style=\"text-align: left;\"><p><em>(Empty list)</em></p></td></tr>\n",
       "<tr><th style=\"text-align: right;\">xtype</th><td style=\"text-align: left;\">Requirements:Requirement</td></tr>\n",
       "</table>"
      ],
      "text/plain": [
       "<Requirement 'New showcase req1' (3a208454-d271-49f4-8b93-20b958721300)>\n",
       ".applied_property_value_groups = []\n",
       ".applied_property_values = []\n",
       ".attributes = []\n",
       ".chapter_name = ''\n",
       ".constraints = []\n",
       ".description = ''\n",
       ".diagrams = []\n",
       ".filtering_criteria = []\n",
       ".foreign_id = 0\n",
       ".identifier = ''\n",
       ".layer = <OperationalAnalysis 'Operational Analysis' (ddbef16d-ddb9-4162-934c-f1e40e6f8bed)>\n",
       ".long_name = ''\n",
       ".name = 'New showcase req1'\n",
       ".owner = <CapellaModule 'Test Module' (f8e2195d-b5f5-4452-a12b-79233d943d5e)>\n",
       ".parent = <CapellaModule 'Test Module' (f8e2195d-b5f5-4452-a12b-79233d943d5e)>\n",
       ".prefix = ''\n",
       ".progress_status = 'NOT_SET'\n",
       ".property_value_groups = []\n",
       ".property_value_packages = []\n",
       ".property_values = []\n",
       ".pvmt = <Property Value Management for <Requirement 'New showcase req1' (3a208454-d271-49f4-8b93-20b958721300)>>\n",
       ".related = []\n",
       ".relations = []\n",
       ".requirements = []\n",
       ".sid = ''\n",
       ".summary = ''\n",
       ".text = Markup('')\n",
       ".traces = []\n",
       ".type = None\n",
       ".uuid = '3a208454-d271-49f4-8b93-20b958721300'\n",
       ".validation = <capellambse.extensions.validation._validate.ElementValidation object at 0x78f99a5ff7d0>\n",
       ".visible_on_diagrams = []\n",
       ".xtype = 'Requirements:Requirement'"
      ]
     },
     "metadata": {},
     "output_type": "display_data"
    },
    {
     "data": {
      "text/html": [
       "<ol start=\"0\" style=\"text-align: left;\">\n",
       "<li><strong>Requirement</strong> <a href=\"hlink://3c2d312c-37c9-41b5-8c32-67578fa52dc3\">&quot;TestReq1&quot;</a> (3c2d312c-37c9-41b5-8c32-67578fa52dc3)</li>\n",
       "<li><strong>Requirement</strong> <a href=\"hlink://0a9a68b1-ba9a-4793-b2cf-4448f0b4b8cc\">&quot;TypedReq2&quot;</a> (0a9a68b1-ba9a-4793-b2cf-4448f0b4b8cc)</li>\n",
       "<li><strong>Requirement</strong> <a href=\"hlink://79291c33-5147-4543-9398-9077d582576d\">&quot;TestReq3&quot;</a> (79291c33-5147-4543-9398-9077d582576d)</li>\n",
       "<li><strong>Requirement</strong> <a href=\"hlink://85d41db2-9e17-438b-95cf-49342452ddf3\">&quot;TypedReq1&quot;</a> (85d41db2-9e17-438b-95cf-49342452ddf3)</li>\n",
       "<li><strong>Requirement</strong> <a href=\"hlink://3a208454-d271-49f4-8b93-20b958721300\">&quot;New showcase req1&quot;</a> (3a208454-d271-49f4-8b93-20b958721300)</li>\n",
       "<li><strong>Requirement</strong> <a href=\"hlink://1092f69a-5f3a-4fe6-a8fd-b2dffde90650\">&quot;TestReq&quot;</a> (1092f69a-5f3a-4fe6-a8fd-b2dffde90650)</li>\n",
       "</ol>"
      ],
      "text/plain": [
       "[0] <Requirement 'TestReq1' (3c2d312c-37c9-41b5-8c32-67578fa52dc3)>\n",
       "[1] <Requirement 'TypedReq2' (0a9a68b1-ba9a-4793-b2cf-4448f0b4b8cc)>\n",
       "[2] <Requirement 'TestReq3' (79291c33-5147-4543-9398-9077d582576d)>\n",
       "[3] <Requirement 'TypedReq1' (85d41db2-9e17-438b-95cf-49342452ddf3)>\n",
       "[4] <Requirement 'New showcase req1' (3a208454-d271-49f4-8b93-20b958721300)>\n",
       "[5] <Requirement 'TestReq' (1092f69a-5f3a-4fe6-a8fd-b2dffde90650)>"
      ]
     },
     "execution_count": 6,
     "metadata": {},
     "output_type": "execute_result"
    }
   ],
   "source": [
    "new_req = model.oa.requirement_modules[0].requirements.create(\n",
    "    name=\"New showcase req1\"\n",
    ")\n",
    "display(new_req)\n",
    "model.oa.all_requirements"
   ]
  },
  {
   "cell_type": "markdown",
   "id": "58941b28",
   "metadata": {},
   "source": [
    "Info about creation: Whenever you have an ElementList which deals with one\n",
    "specified classtype, here it is Requirement, then the classtype name doesn't\n",
    "need to be included."
   ]
  },
  {
   "cell_type": "code",
   "execution_count": 7,
   "id": "9156aac3",
   "metadata": {},
   "outputs": [
    {
     "data": {
      "text/html": [
       "<ol start=\"0\" style=\"text-align: left;\">\n",
       "<li><strong>Requirement</strong> <a href=\"hlink://3c2d312c-37c9-41b5-8c32-67578fa52dc3\">&quot;TestReq1&quot;</a> (3c2d312c-37c9-41b5-8c32-67578fa52dc3)</li>\n",
       "<li><strong>Requirement</strong> <a href=\"hlink://0a9a68b1-ba9a-4793-b2cf-4448f0b4b8cc\">&quot;TypedReq2&quot;</a> (0a9a68b1-ba9a-4793-b2cf-4448f0b4b8cc)</li>\n",
       "<li><strong>Requirement</strong> <a href=\"hlink://79291c33-5147-4543-9398-9077d582576d\">&quot;TestReq3&quot;</a> (79291c33-5147-4543-9398-9077d582576d)</li>\n",
       "<li><strong>Requirement</strong> <a href=\"hlink://85d41db2-9e17-438b-95cf-49342452ddf3\">&quot;TypedReq1&quot;</a> (85d41db2-9e17-438b-95cf-49342452ddf3)</li>\n",
       "<li><strong>Requirement</strong> <a href=\"hlink://1092f69a-5f3a-4fe6-a8fd-b2dffde90650\">&quot;TestReq&quot;</a> (1092f69a-5f3a-4fe6-a8fd-b2dffde90650)</li>\n",
       "</ol>"
      ],
      "text/plain": [
       "[0] <Requirement 'TestReq1' (3c2d312c-37c9-41b5-8c32-67578fa52dc3)>\n",
       "[1] <Requirement 'TypedReq2' (0a9a68b1-ba9a-4793-b2cf-4448f0b4b8cc)>\n",
       "[2] <Requirement 'TestReq3' (79291c33-5147-4543-9398-9077d582576d)>\n",
       "[3] <Requirement 'TypedReq1' (85d41db2-9e17-438b-95cf-49342452ddf3)>\n",
       "[4] <Requirement 'TestReq' (1092f69a-5f3a-4fe6-a8fd-b2dffde90650)>"
      ]
     },
     "execution_count": 7,
     "metadata": {},
     "output_type": "execute_result"
    }
   ],
   "source": [
    "model.oa.all_requirements.by_type(\"ReqType\")"
   ]
  },
  {
   "cell_type": "markdown",
   "id": "f6687b07",
   "metadata": {},
   "source": [
    "We see our Requirements with type `ReqType` are missing the new one.\n",
    "Let's change that, without using capella."
   ]
  },
  {
   "cell_type": "code",
   "execution_count": 8,
   "id": "19f5f917",
   "metadata": {},
   "outputs": [
    {
     "data": {
      "text/html": [
       "<ol start=\"0\" style=\"text-align: left;\">\n",
       "<li><strong>Requirement</strong> <a href=\"hlink://3c2d312c-37c9-41b5-8c32-67578fa52dc3\">&quot;TestReq1&quot;</a> (3c2d312c-37c9-41b5-8c32-67578fa52dc3)</li>\n",
       "<li><strong>Requirement</strong> <a href=\"hlink://0a9a68b1-ba9a-4793-b2cf-4448f0b4b8cc\">&quot;TypedReq2&quot;</a> (0a9a68b1-ba9a-4793-b2cf-4448f0b4b8cc)</li>\n",
       "<li><strong>Requirement</strong> <a href=\"hlink://79291c33-5147-4543-9398-9077d582576d\">&quot;TestReq3&quot;</a> (79291c33-5147-4543-9398-9077d582576d)</li>\n",
       "<li><strong>Requirement</strong> <a href=\"hlink://85d41db2-9e17-438b-95cf-49342452ddf3\">&quot;TypedReq1&quot;</a> (85d41db2-9e17-438b-95cf-49342452ddf3)</li>\n",
       "<li><strong>Requirement</strong> <a href=\"hlink://3a208454-d271-49f4-8b93-20b958721300\">&quot;New showcase req1&quot;</a> (3a208454-d271-49f4-8b93-20b958721300)</li>\n",
       "<li><strong>Requirement</strong> <a href=\"hlink://1092f69a-5f3a-4fe6-a8fd-b2dffde90650\">&quot;TestReq&quot;</a> (1092f69a-5f3a-4fe6-a8fd-b2dffde90650)</li>\n",
       "</ol>"
      ],
      "text/plain": [
       "[0] <Requirement 'TestReq1' (3c2d312c-37c9-41b5-8c32-67578fa52dc3)>\n",
       "[1] <Requirement 'TypedReq2' (0a9a68b1-ba9a-4793-b2cf-4448f0b4b8cc)>\n",
       "[2] <Requirement 'TestReq3' (79291c33-5147-4543-9398-9077d582576d)>\n",
       "[3] <Requirement 'TypedReq1' (85d41db2-9e17-438b-95cf-49342452ddf3)>\n",
       "[4] <Requirement 'New showcase req1' (3a208454-d271-49f4-8b93-20b958721300)>\n",
       "[5] <Requirement 'TestReq' (1092f69a-5f3a-4fe6-a8fd-b2dffde90650)>"
      ]
     },
     "execution_count": 8,
     "metadata": {},
     "output_type": "execute_result"
    }
   ],
   "source": [
    "new_req.type = reqtype\n",
    "model.oa.all_requirements.by_type(\"ReqType\")"
   ]
  },
  {
   "cell_type": "markdown",
   "id": "3878d8d5",
   "metadata": {},
   "source": [
    "If you are sure about attributes when creating a Requirement you can also include\n",
    "it during creation. "
   ]
  },
  {
   "cell_type": "code",
   "execution_count": 9,
   "id": "f46766d6",
   "metadata": {},
   "outputs": [
    {
     "data": {
      "text/html": [
       "<ol start=\"0\" style=\"text-align: left;\">\n",
       "<li><strong>Requirement</strong> <a href=\"hlink://3c2d312c-37c9-41b5-8c32-67578fa52dc3\">&quot;TestReq1&quot;</a> (3c2d312c-37c9-41b5-8c32-67578fa52dc3)</li>\n",
       "<li><strong>Requirement</strong> <a href=\"hlink://0a9a68b1-ba9a-4793-b2cf-4448f0b4b8cc\">&quot;TypedReq2&quot;</a> (0a9a68b1-ba9a-4793-b2cf-4448f0b4b8cc)</li>\n",
       "<li><strong>Requirement</strong> <a href=\"hlink://79291c33-5147-4543-9398-9077d582576d\">&quot;TestReq3&quot;</a> (79291c33-5147-4543-9398-9077d582576d)</li>\n",
       "<li><strong>Requirement</strong> <a href=\"hlink://85d41db2-9e17-438b-95cf-49342452ddf3\">&quot;TypedReq1&quot;</a> (85d41db2-9e17-438b-95cf-49342452ddf3)</li>\n",
       "<li><strong>Requirement</strong> <a href=\"hlink://3a208454-d271-49f4-8b93-20b958721300\">&quot;New showcase req1&quot;</a> (3a208454-d271-49f4-8b93-20b958721300)</li>\n",
       "<li><strong>Requirement</strong> <a href=\"hlink://887e45f3-a6b9-487c-ab66-46535abe70ab\">&quot;ReqType during Creation&quot;</a> (887e45f3-a6b9-487c-ab66-46535abe70ab)</li>\n",
       "<li><strong>Requirement</strong> <a href=\"hlink://1092f69a-5f3a-4fe6-a8fd-b2dffde90650\">&quot;TestReq&quot;</a> (1092f69a-5f3a-4fe6-a8fd-b2dffde90650)</li>\n",
       "</ol>"
      ],
      "text/plain": [
       "[0] <Requirement 'TestReq1' (3c2d312c-37c9-41b5-8c32-67578fa52dc3)>\n",
       "[1] <Requirement 'TypedReq2' (0a9a68b1-ba9a-4793-b2cf-4448f0b4b8cc)>\n",
       "[2] <Requirement 'TestReq3' (79291c33-5147-4543-9398-9077d582576d)>\n",
       "[3] <Requirement 'TypedReq1' (85d41db2-9e17-438b-95cf-49342452ddf3)>\n",
       "[4] <Requirement 'New showcase req1' (3a208454-d271-49f4-8b93-20b958721300)>\n",
       "[5] <Requirement 'ReqType during Creation' (887e45f3-a6b9-487c-ab66-46535abe70ab)>\n",
       "[6] <Requirement 'TestReq' (1092f69a-5f3a-4fe6-a8fd-b2dffde90650)>"
      ]
     },
     "execution_count": 9,
     "metadata": {},
     "output_type": "execute_result"
    }
   ],
   "source": [
    "model.oa.requirement_modules[0].requirements.create(\n",
    "    name=\"ReqType during Creation\",\n",
    "    type=reqtype,\n",
    ")\n",
    "model.oa.all_requirements.by_type(\"ReqType\")"
   ]
  },
  {
   "cell_type": "code",
   "execution_count": 10,
   "id": "2530e4a4",
   "metadata": {},
   "outputs": [
    {
     "data": {
      "text/html": [
       "<h1><img src=\"data:image/svg+xml;base64,PHN2ZyBiYXNlUHJvZmlsZT0iZnVsbCIgaGVpZ2h0PSIxMDAlIiB2ZXJzaW9uPSIxLjEiIHZpZXdCb3g9IjAgMCAyMCAyMCIgd2lkdGg9IjEwMCUiIHhtbG5zPSJodHRwOi8vd3d3LnczLm9yZy8yMDAwL3N2ZyIgeG1sbnM6ZXY9Imh0dHA6Ly93d3cudzMub3JnLzIwMDEveG1sLWV2ZW50cyIgeG1sbnM6eGxpbms9Imh0dHA6Ly93d3cudzMub3JnLzE5OTkveGxpbmsiPjxkZWZzPjxzeW1ib2wgaWQ9IlJlcXVpcmVtZW50U3ltYm9sIiB2aWV3Qm94PSIwIDAgNTAgNTAiPjxwYXRoIGQ9Ik0gMTIuODA2ODEzLDYuNTcwMjMyNCBBIDYuMjQ0Mzc5LDUuODExMzI0MSAwIDAgMSA2LjU2MjQzNDIsMTIuMzgxNTU3IDYuMjQ0Mzc5LDUuODExMzI0MSAwIDAgMSAwLjMxODA1NTE1LDYuNTcwMjMyNCA2LjI0NDM3OSw1LjgxMTMyNDEgMCAwIDEgNi41NjI0MzQyLDAuNzU4OTA4MjcgNi4yNDQzNzksNS44MTEzMjQxIDAgMCAxIDEyLjgwNjgxMyw2LjU3MDIzMjQgWiIgZmlsbD0iIzQzMTk2NCIgc3Ryb2tlPSJub25lIiAvPjxwYXRoIGQ9Im0gNC4zMjI4NjU4LDUuODc1MjQ3NSBoIDIuOTUxNDcyMSBxIDAuMjk0NTU4MSwwIDAuNTE4NDIyMywtMC4xNDEzODc5IFEgOC4wMjI1MTU1LDUuNTg2NTgwNiA4LjE0NjIyOTksNS4zMjE0NzgzIDguMjY5OTQ0Myw1LjA1NjM3NiA4LjI3NTgzNTUsNC43MDI5MDYzIHYgMCBxIDAsLTAuMzQ3NTc4NiAtMC4xMjM3MTQ0LC0wLjYxMjY4MDggUSA4LjAyODQwNjcsMy44MjUxMjMyIDcuNzk4NjUxMywzLjY4MzczNTMgNy41NzQ3ODcyLDMuNTM2NDU2MiA3LjI3NDMzNzksMy41MzY0NTYyIEggNC4zMjI4NjU4IFYgMi4xODczODAxIGggMi45OTI3MTAzIHEgMC43MjQ2MTI5LDAgMS4yNzI0OTA5LDAuMzEyMjMxNiAwLjU0Nzg3ODEsMC4zMTIyMzE2IDAuODQ4MzI3NCwwLjg4MzY3NDMgMC4zMDYzNDA0LDAuNTcxNDQyNyAwLjMwNjM0MDQsMS4zMTk2MjAzIHYgMCBxIDAsMC43NTQwNjg3IC0wLjMwNjM0MDQsMS4zMjU1MTE0IFEgOS4xMzU5NDUxLDYuNTk5ODYwNSA4LjU4MjE3NTksNi45MTIwOTIgOC4wMzQyOTc4LDcuMjI0MzIzNiA3LjMxNTU3NjEsNy4yMjQzMjM2IEggNC4zMjI4NjU4IFogTSAzLjczOTY0MDcsMi4xODczODAxIEggNS4xNDc2Mjg1IFYgMTAuNzU5MDIxIEggMy43Mzk2NDA3IFogTSA2LjM5MDY2MzYsNi45NTkyMjEzIDcuODUxNjcxOCw2LjY4ODIyNzkgMTAuMTAyMDk2LDEwLjc1OTAyMSBIIDguNDExMzMyMiBaIiBmaWxsPSIjZmZmIiBzdHJva2U9Im5vbmUiIC8+PC9zeW1ib2w+PC9kZWZzPjx1c2UgaGVpZ2h0PSIyMCIgd2lkdGg9IjIwIiB4PSIwIiB4bGluazpocmVmPSIjUmVxdWlyZW1lbnRTeW1ib2wiIHk9IjAiIC8+PC9zdmc+\" alt=\"\" width=\"20\" height=\"20\"> TestReq1 <span style=\"font-size: 70%;\">(Requirements:Requirement)</span></h1>\n",
       "<table>\n",
       "<tr><th style=\"text-align: right;\">applied_property_value_groups</th><td style=\"text-align: left;\"><p><em>(Empty list)</em></p></td></tr>\n",
       "<tr><th style=\"text-align: right;\">applied_property_values</th><td style=\"text-align: left;\"><p><em>(Empty list)</em></p></td></tr>\n",
       "<tr><th style=\"text-align: right;\">attributes</th><td style=\"text-align: left;\"><ol start=\"0\" style=\"text-align: left;\">\n",
       "<li><strong>BooleanValueAttribute</strong> <a href=\"hlink://9c692405-b8aa-4caa-b988-51d27db5cd1b\">&quot;AttrDef&quot;</a> (9c692405-b8aa-4caa-b988-51d27db5cd1b)</li>\n",
       "<li><strong>DateValueAttribute</strong> <a href=\"hlink://b97c09b5-948a-46e8-a656-69d764ddce7d\">&quot;AttrDef&quot;</a> (b97c09b5-948a-46e8-a656-69d764ddce7d)</li>\n",
       "<li><strong>IntegerValueAttribute</strong> <a href=\"hlink://85dfd42c-7f6e-4236-a181-bdd784040431\">&quot;AttrDef&quot;</a> (85dfd42c-7f6e-4236-a181-bdd784040431)</li>\n",
       "<li><strong>RealValueAttribute</strong> <a href=\"hlink://d2231d14-854d-4625-b48b-6cf1c2554367\">&quot;AttrDef&quot;</a> (d2231d14-854d-4625-b48b-6cf1c2554367)</li>\n",
       "<li><strong>StringValueAttribute</strong> <a href=\"hlink://ee8a69ef-61b9-4db9-9a0f-628e5d4704e1\">&quot;AttrDef&quot;</a> (ee8a69ef-61b9-4db9-9a0f-628e5d4704e1)</li>\n",
       "<li><strong>BooleanValueAttribute</strong> <a href=\"hlink://dcb8614e-2d1c-4cb3-aa0c-667a297e7489\">&quot;None&quot;</a> (dcb8614e-2d1c-4cb3-aa0c-667a297e7489)</li>\n",
       "</ol></td></tr>\n",
       "<tr><th style=\"text-align: right;\">chapter_name</th><td style=\"text-align: left;\">2</td></tr>\n",
       "<tr><th style=\"text-align: right;\">constraints</th><td style=\"text-align: left;\"><p><em>(Empty list)</em></p></td></tr>\n",
       "<tr><th style=\"text-align: right;\">description</th><td style=\"text-align: left;\">This is a test requirement of kind 1.</td></tr>\n",
       "<tr><th style=\"text-align: right;\">diagrams</th><td style=\"text-align: left;\"><p><em>(Empty list)</em></p></td></tr>\n",
       "<tr><th style=\"text-align: right;\">filtering_criteria</th><td style=\"text-align: left;\"><p><em>(Empty list)</em></p></td></tr>\n",
       "<tr><th style=\"text-align: right;\">foreign_id</th><td style=\"text-align: left;\"><em>1</em></td></tr>\n",
       "<tr><th style=\"text-align: right;\">identifier</th><td style=\"text-align: left;\">REQTYPE-1</td></tr>\n",
       "<tr><th style=\"text-align: right;\">layer</th><td style=\"text-align: left;\"><strong>OperationalAnalysis</strong> <a href=\"hlink://ddbef16d-ddb9-4162-934c-f1e40e6f8bed\">&quot;Operational Analysis&quot;</a> (ddbef16d-ddb9-4162-934c-f1e40e6f8bed)</td></tr>\n",
       "<tr><th style=\"text-align: right;\">long_name</th><td style=\"text-align: left;\">1</td></tr>\n",
       "<tr><th style=\"text-align: right;\">name</th><td style=\"text-align: left;\">TestReq1</td></tr>\n",
       "<tr><th style=\"text-align: right;\">owner</th><td style=\"text-align: left;\"><strong>Folder</strong> <a href=\"hlink://e16f5cc1-3299-43d0-b1a0-82d31a137111\">&quot;Folder&quot;</a> (e16f5cc1-3299-43d0-b1a0-82d31a137111)</td></tr>\n",
       "<tr><th style=\"text-align: right;\">parent</th><td style=\"text-align: left;\"><strong>Folder</strong> <a href=\"hlink://e16f5cc1-3299-43d0-b1a0-82d31a137111\">&quot;Folder&quot;</a> (e16f5cc1-3299-43d0-b1a0-82d31a137111)</td></tr>\n",
       "<tr><th style=\"text-align: right;\">prefix</th><td style=\"text-align: left;\">3</td></tr>\n",
       "<tr><th style=\"text-align: right;\">progress_status</th><td style=\"text-align: left;\">NOT_SET</td></tr>\n",
       "<tr><th style=\"text-align: right;\">property_value_groups</th><td style=\"text-align: left;\"><p><em>(Empty list)</em></p></td></tr>\n",
       "<tr><th style=\"text-align: right;\">property_value_packages</th><td style=\"text-align: left;\"><p><em>(Empty list)</em></p></td></tr>\n",
       "<tr><th style=\"text-align: right;\">property_values</th><td style=\"text-align: left;\"><p><em>(Empty list)</em></p></td></tr>\n",
       "<tr><th style=\"text-align: right;\">pvmt</th><td style=\"text-align: left;\">Property Value Management for <strong>Requirement</strong> <a href=\"hlink://3c2d312c-37c9-41b5-8c32-67578fa52dc3\">&quot;TestReq1&quot;</a> (3c2d312c-37c9-41b5-8c32-67578fa52dc3)</td></tr>\n",
       "<tr><th style=\"text-align: right;\">related</th><td style=\"text-align: left;\"><ol start=\"0\" style=\"text-align: left;\">\n",
       "<li><img src=\"data:image/svg+xml;base64,PHN2ZyBiYXNlUHJvZmlsZT0iZnVsbCIgaGVpZ2h0PSIxMDAlIiB2ZXJzaW9uPSIxLjEiIHZpZXdCb3g9IjAgMCAxNSAxNSIgd2lkdGg9IjEwMCUiIHhtbG5zPSJodHRwOi8vd3d3LnczLm9yZy8yMDAwL3N2ZyIgeG1sbnM6ZXY9Imh0dHA6Ly93d3cudzMub3JnLzIwMDEveG1sLWV2ZW50cyIgeG1sbnM6eGxpbms9Imh0dHA6Ly93d3cudzMub3JnLzE5OTkveGxpbmsiPjxkZWZzPjxzeW1ib2wgaWQ9IkVudGl0eVN5bWJvbCIgc3Ryb2tlPSIjMDAwIiBzdHJva2Utd2lkdGg9IjIiIHZpZXdCb3g9IjAgMCA3OSA3OSI+PHBhdGggZD0iTTE4IDIzN2g0NnY0M0gxOHoiIGZpbGw9IiNhNWI5YzgiIHRyYW5zZm9ybT0idHJhbnNsYXRlKDAgLTIxOCkiIC8+PHBhdGggZD0iTTEyIDI0N2gxMXY4SDEyeiIgZmlsbD0iI2E1YjljOCIgdHJhbnNmb3JtPSJ0cmFuc2xhdGUoMCAtMjE4KSIgLz48cGF0aCBkPSJNMTIgMjYxaDExdjhIMTJ6IiBmaWxsPSIjYTViOWM4IiB0cmFuc2Zvcm09InRyYW5zbGF0ZSgwIC0yMTgpIiAvPjxwYXRoIGQ9Im0gNDEuNjU4NDY2LDU1LjU4MTkxMyBxIDAsMS4wNjI2MTYgLTAuNjkzOTUzLDEuNzM0ODgzIC0wLjY3MjI2NywwLjY3MjI2NyAtMS43MzQ4ODMsMC42NzIyNjcgaCAtOS40OTg0ODMgcSAtMS4wNjI2MTUsMCAtMS43MzQ4ODMsLTAuNjcyMjY3IC0wLjY3MjI2NywtMC42NzIyNjcgLTAuNjcyMjY3LC0xLjczNDg4MyBWIDI2LjQ1NzU2OSBxIDAsLTEuMDYyNjE1IDAuNjcyMjY3LC0xLjczNDg4MiAwLjY3MjI2OCwtMC42NzIyNjcgMS43MzQ4ODMsLTAuNjcyMjY3IGggOS40OTg0ODMgcSAxLjA2MjYxNiwwIDEuNzM0ODgzLDAuNjcyMjY3IDAuNjkzOTUzLDAuNjcyMjY3IDAuNjkzOTUzLDEuNzM0ODgyIHogTSAzOC42NDQxMDcsNTUuMzIxNjgxIFYgMjYuNzE3ODAyIGggLTguMzA1NzUxIHYgMjguNjAzODc5IHoiIGZpbGw9IiMwMDAiIC8+PHBhdGggZD0iTSA1OC4yNDgyODMsNTcuOTg5MDYzIEggNDcuMTAxNjYyIFYgMjQuMDUwNDIgaCAxMS4wMTY1MDUgdiAyLjY2NzM4MiBIIDUwLjExNjAyIHYgMTIuNjY0NjQ0IGggNS4wOTE2MTQgbCAwLjA5MTQ1LDIuNjE2NjY1IC01LjE4MzA2OCwwLjA5NDA5IHYgMTMuMjI4NDgxIGggOC4xMzIyNjMgeiIgZmlsbD0iIzAwMCIgLz48L3N5bWJvbD48L2RlZnM+PHVzZSBoZWlnaHQ9IjE1IiB3aWR0aD0iMTUiIHg9IjAiIHhsaW5rOmhyZWY9IiNFbnRpdHlTeW1ib2wiIHk9IjAiIC8+PC9zdmc+\" alt=\"Entity\" title=\"Entity\" width=\"15\" height=\"15\" style=\"display: inline-block\"> <a href=\"hlink://4bf0356c-89dd-45e9-b8a6-e0332c026d33\">&quot;Weather&quot;</a> (4bf0356c-89dd-45e9-b8a6-e0332c026d33)</li>\n",
       "<li><img src=\"data:image/svg+xml;base64,PHN2ZyBiYXNlUHJvZmlsZT0iZnVsbCIgaGVpZ2h0PSIxMDAlIiB2ZXJzaW9uPSIxLjEiIHZpZXdCb3g9IjAgMCAxNSAxNSIgd2lkdGg9IjEwMCUiIHhtbG5zPSJodHRwOi8vd3d3LnczLm9yZy8yMDAwL3N2ZyIgeG1sbnM6ZXY9Imh0dHA6Ly93d3cudzMub3JnLzIwMDEveG1sLWV2ZW50cyIgeG1sbnM6eGxpbms9Imh0dHA6Ly93d3cudzMub3JnLzE5OTkveGxpbmsiPjxkZWZzPjxzeW1ib2wgaWQ9IlN5c3RlbUZ1bmN0aW9uU3ltYm9sIiB2aWV3Qm94PSIwIDAgNzkgNzkiPjxsaW5lYXJHcmFkaWVudCBpZD0iU0ZfZ3JlZW4iIHgxPSIwIiB4Mj0iMSIgeTE9IjAiIHkyPSIwIj48c3RvcCBvZmZzZXQ9IjAuMCIgc3RvcC1jb2xvcj0iIzZDQjM1QiIgc3RvcC1vcGFjaXR5PSIxIiAvPjxzdG9wIG9mZnNldD0iMS4wIiBzdG9wLWNvbG9yPSIjZmZmZmZmIiBzdG9wLW9wYWNpdHk9IjEiIC8+PC9saW5lYXJHcmFkaWVudD48ZWxsaXBzZSBjeD0iMzkuNSIgY3k9IjM5LjUiIGZpbGw9InVybCgjU0ZfZ3JlZW4pIiByeD0iMjYiIHJ5PSIyMSIgc3Ryb2tlPSIjMDAwIiBzdHJva2Utd2lkdGg9IjIiIC8+PHRleHQgZmlsbD0iIzAwMCIgZm9udC1mYW1pbHk9IidPcGVuIFNhbnMnLCdTZWdvZSBVSScsQXJpYWwsc2Fucy1zZXJpZiIgZm9udC1zaXplPSIyNXB4IiBmb250LXdlaWdodD0iYm9sZCIgc3Ryb2tlPSJub25lIiB0ZXh0LWFuY2hvcj0ibWlkZGxlIiB4PSI0MCIgeT0iNTAiPlNGPC90ZXh0Pjwvc3ltYm9sPjwvZGVmcz48dXNlIGhlaWdodD0iMTUiIHdpZHRoPSIxNSIgeD0iMCIgeGxpbms6aHJlZj0iI1N5c3RlbUZ1bmN0aW9uU3ltYm9sIiB5PSIwIiAvPjwvc3ZnPg==\" alt=\"SystemFunction\" title=\"SystemFunction\" width=\"15\" height=\"15\" style=\"display: inline-block\"> <a href=\"hlink://00e7b925-cf4c-4cb0-929e-5409a1cd872b\">&quot;Sysexfunc&quot;</a> (00e7b925-cf4c-4cb0-929e-5409a1cd872b)</li>\n",
       "<li><strong>Requirement</strong> <a href=\"hlink://85d41db2-9e17-438b-95cf-49342452ddf3\">&quot;TypedReq1&quot;</a> (85d41db2-9e17-438b-95cf-49342452ddf3)</li>\n",
       "<li><img src=\"data:image/svg+xml;base64,PHN2ZyBiYXNlUHJvZmlsZT0iZnVsbCIgaGVpZ2h0PSIxMDAlIiB2ZXJzaW9uPSIxLjEiIHZpZXdCb3g9IjAgMCAxNSAxNSIgd2lkdGg9IjEwMCUiIHhtbG5zPSJodHRwOi8vd3d3LnczLm9yZy8yMDAwL3N2ZyIgeG1sbnM6ZXY9Imh0dHA6Ly93d3cudzMub3JnLzIwMDEveG1sLWV2ZW50cyIgeG1sbnM6eGxpbms9Imh0dHA6Ly93d3cudzMub3JnLzE5OTkveGxpbmsiPjxkZWZzPjxzeW1ib2wgaWQ9IkxvZ2ljYWxDb21wb25lbnRTeW1ib2wiIHN0cm9rZT0iIzAwMCIgc3Ryb2tlLXdpZHRoPSIyIiB2aWV3Qm94PSIwIDAgNzkgNzkiPjxwYXRoIGQ9Ik0xOCAyMzdoNDZ2NDNIMTh6IiBmaWxsPSIjZGJlNmY0IiB0cmFuc2Zvcm09InRyYW5zbGF0ZSgwIC0yMTgpIiAvPjxwYXRoIGQ9Ik0xMiAyNDdoMTF2OEgxMnoiIGZpbGw9IiNkYmU2ZjQiIHRyYW5zZm9ybT0idHJhbnNsYXRlKDAgLTIxOCkiIC8+PHBhdGggZD0iTTEyIDI2MWgxMXY4SDEyeiIgZmlsbD0iI2RiZTZmNCIgdHJhbnNmb3JtPSJ0cmFuc2xhdGUoMCAtMjE4KSIgLz48ZyB0cmFuc2Zvcm09InNjYWxlKDAuOTA3MDUxMzUsMS4xMDI0NzM0KSI+PHBhdGggZD0ibSAzNy40Mjc0NTYsMjAuODIxMzUzIGggNC4yMjE0NzUgViA1MC45MDk3MSBIIDM3LjQyNzQ1NiBaIE0gMzkuNTM4MTk0LDQ2Ljg5NTE3IEggNTYuNzU1MTkgdiA0LjAxNDU0IEggMzkuNTM4MTk0IFoiIGZpbGw9IiMwMDAiIHN0cm9rZS13aWR0aD0iMC4xIiAvPjwvZz48L3N5bWJvbD48L2RlZnM+PHVzZSBoZWlnaHQ9IjE1IiB3aWR0aD0iMTUiIHg9IjAiIHhsaW5rOmhyZWY9IiNMb2dpY2FsQ29tcG9uZW50U3ltYm9sIiB5PSIwIiAvPjwvc3ZnPg==\" alt=\"LogicalComponent\" title=\"LogicalComponent\" width=\"15\" height=\"15\" style=\"display: inline-block\"> <a href=\"hlink://0d2edb8f-fa34-4e73-89ec-fb9a63001440\">&quot;Hogwarts&quot;</a> (0d2edb8f-fa34-4e73-89ec-fb9a63001440)</li>\n",
       "</ol></td></tr>\n",
       "<tr><th style=\"text-align: right;\">relations</th><td style=\"text-align: left;\"><ol start=\"0\" style=\"text-align: left;\">\n",
       "<li><strong>CapellaIncomingRelation</strong> <a href=\"hlink://078b2c69-4352-4cf9-9ea5-6573b75e5eec\">&quot;Controlling the weather&quot;</a> (078b2c69-4352-4cf9-9ea5-6573b75e5eec)</li>\n",
       "<li><strong>CapellaIncomingRelation</strong> <a href=\"hlink://24c824ef-b187-4725-a051-a68707e82d70\">&quot;Test req&quot;</a> (24c824ef-b187-4725-a051-a68707e82d70)</li>\n",
       "<li><a href=\"hlink://7de4c1a5-e106-4171-902a-502b816b60b0\"><strong>InternalRelation</strong></a> (7de4c1a5-e106-4171-902a-502b816b60b0)</li>\n",
       "<li><a href=\"hlink://57033242-3766-4961-8091-ce3d9326ed67\"><strong>CapellaOutgoingRelation</strong></a> (57033242-3766-4961-8091-ce3d9326ed67)</li>\n",
       "</ol></td></tr>\n",
       "<tr><th style=\"text-align: right;\">requirements</th><td style=\"text-align: left;\"><ol start=\"0\" style=\"text-align: left;\">\n",
       "<li><img src=\"data:image/svg+xml;base64,PHN2ZyBiYXNlUHJvZmlsZT0iZnVsbCIgaGVpZ2h0PSIxMDAlIiB2ZXJzaW9uPSIxLjEiIHZpZXdCb3g9IjAgMCAxNSAxNSIgd2lkdGg9IjEwMCUiIHhtbG5zPSJodHRwOi8vd3d3LnczLm9yZy8yMDAwL3N2ZyIgeG1sbnM6ZXY9Imh0dHA6Ly93d3cudzMub3JnLzIwMDEveG1sLWV2ZW50cyIgeG1sbnM6eGxpbms9Imh0dHA6Ly93d3cudzMub3JnLzE5OTkveGxpbmsiPjxkZWZzPjxzeW1ib2wgaWQ9IkVudGl0eVN5bWJvbCIgc3Ryb2tlPSIjMDAwIiBzdHJva2Utd2lkdGg9IjIiIHZpZXdCb3g9IjAgMCA3OSA3OSI+PHBhdGggZD0iTTE4IDIzN2g0NnY0M0gxOHoiIGZpbGw9IiNhNWI5YzgiIHRyYW5zZm9ybT0idHJhbnNsYXRlKDAgLTIxOCkiIC8+PHBhdGggZD0iTTEyIDI0N2gxMXY4SDEyeiIgZmlsbD0iI2E1YjljOCIgdHJhbnNmb3JtPSJ0cmFuc2xhdGUoMCAtMjE4KSIgLz48cGF0aCBkPSJNMTIgMjYxaDExdjhIMTJ6IiBmaWxsPSIjYTViOWM4IiB0cmFuc2Zvcm09InRyYW5zbGF0ZSgwIC0yMTgpIiAvPjxwYXRoIGQ9Im0gNDEuNjU4NDY2LDU1LjU4MTkxMyBxIDAsMS4wNjI2MTYgLTAuNjkzOTUzLDEuNzM0ODgzIC0wLjY3MjI2NywwLjY3MjI2NyAtMS43MzQ4ODMsMC42NzIyNjcgaCAtOS40OTg0ODMgcSAtMS4wNjI2MTUsMCAtMS43MzQ4ODMsLTAuNjcyMjY3IC0wLjY3MjI2NywtMC42NzIyNjcgLTAuNjcyMjY3LC0xLjczNDg4MyBWIDI2LjQ1NzU2OSBxIDAsLTEuMDYyNjE1IDAuNjcyMjY3LC0xLjczNDg4MiAwLjY3MjI2OCwtMC42NzIyNjcgMS43MzQ4ODMsLTAuNjcyMjY3IGggOS40OTg0ODMgcSAxLjA2MjYxNiwwIDEuNzM0ODgzLDAuNjcyMjY3IDAuNjkzOTUzLDAuNjcyMjY3IDAuNjkzOTUzLDEuNzM0ODgyIHogTSAzOC42NDQxMDcsNTUuMzIxNjgxIFYgMjYuNzE3ODAyIGggLTguMzA1NzUxIHYgMjguNjAzODc5IHoiIGZpbGw9IiMwMDAiIC8+PHBhdGggZD0iTSA1OC4yNDgyODMsNTcuOTg5MDYzIEggNDcuMTAxNjYyIFYgMjQuMDUwNDIgaCAxMS4wMTY1MDUgdiAyLjY2NzM4MiBIIDUwLjExNjAyIHYgMTIuNjY0NjQ0IGggNS4wOTE2MTQgbCAwLjA5MTQ1LDIuNjE2NjY1IC01LjE4MzA2OCwwLjA5NDA5IHYgMTMuMjI4NDgxIGggOC4xMzIyNjMgeiIgZmlsbD0iIzAwMCIgLz48L3N5bWJvbD48L2RlZnM+PHVzZSBoZWlnaHQ9IjE1IiB3aWR0aD0iMTUiIHg9IjAiIHhsaW5rOmhyZWY9IiNFbnRpdHlTeW1ib2wiIHk9IjAiIC8+PC9zdmc+\" alt=\"Entity\" title=\"Entity\" width=\"15\" height=\"15\" style=\"display: inline-block\"> <a href=\"hlink://4bf0356c-89dd-45e9-b8a6-e0332c026d33\">&quot;Weather&quot;</a> (4bf0356c-89dd-45e9-b8a6-e0332c026d33)</li>\n",
       "<li><img src=\"data:image/svg+xml;base64,PHN2ZyBiYXNlUHJvZmlsZT0iZnVsbCIgaGVpZ2h0PSIxMDAlIiB2ZXJzaW9uPSIxLjEiIHZpZXdCb3g9IjAgMCAxNSAxNSIgd2lkdGg9IjEwMCUiIHhtbG5zPSJodHRwOi8vd3d3LnczLm9yZy8yMDAwL3N2ZyIgeG1sbnM6ZXY9Imh0dHA6Ly93d3cudzMub3JnLzIwMDEveG1sLWV2ZW50cyIgeG1sbnM6eGxpbms9Imh0dHA6Ly93d3cudzMub3JnLzE5OTkveGxpbmsiPjxkZWZzPjxzeW1ib2wgaWQ9IlN5c3RlbUZ1bmN0aW9uU3ltYm9sIiB2aWV3Qm94PSIwIDAgNzkgNzkiPjxsaW5lYXJHcmFkaWVudCBpZD0iU0ZfZ3JlZW4iIHgxPSIwIiB4Mj0iMSIgeTE9IjAiIHkyPSIwIj48c3RvcCBvZmZzZXQ9IjAuMCIgc3RvcC1jb2xvcj0iIzZDQjM1QiIgc3RvcC1vcGFjaXR5PSIxIiAvPjxzdG9wIG9mZnNldD0iMS4wIiBzdG9wLWNvbG9yPSIjZmZmZmZmIiBzdG9wLW9wYWNpdHk9IjEiIC8+PC9saW5lYXJHcmFkaWVudD48ZWxsaXBzZSBjeD0iMzkuNSIgY3k9IjM5LjUiIGZpbGw9InVybCgjU0ZfZ3JlZW4pIiByeD0iMjYiIHJ5PSIyMSIgc3Ryb2tlPSIjMDAwIiBzdHJva2Utd2lkdGg9IjIiIC8+PHRleHQgZmlsbD0iIzAwMCIgZm9udC1mYW1pbHk9IidPcGVuIFNhbnMnLCdTZWdvZSBVSScsQXJpYWwsc2Fucy1zZXJpZiIgZm9udC1zaXplPSIyNXB4IiBmb250LXdlaWdodD0iYm9sZCIgc3Ryb2tlPSJub25lIiB0ZXh0LWFuY2hvcj0ibWlkZGxlIiB4PSI0MCIgeT0iNTAiPlNGPC90ZXh0Pjwvc3ltYm9sPjwvZGVmcz48dXNlIGhlaWdodD0iMTUiIHdpZHRoPSIxNSIgeD0iMCIgeGxpbms6aHJlZj0iI1N5c3RlbUZ1bmN0aW9uU3ltYm9sIiB5PSIwIiAvPjwvc3ZnPg==\" alt=\"SystemFunction\" title=\"SystemFunction\" width=\"15\" height=\"15\" style=\"display: inline-block\"> <a href=\"hlink://00e7b925-cf4c-4cb0-929e-5409a1cd872b\">&quot;Sysexfunc&quot;</a> (00e7b925-cf4c-4cb0-929e-5409a1cd872b)</li>\n",
       "<li><strong>Requirement</strong> <a href=\"hlink://85d41db2-9e17-438b-95cf-49342452ddf3\">&quot;TypedReq1&quot;</a> (85d41db2-9e17-438b-95cf-49342452ddf3)</li>\n",
       "<li><img src=\"data:image/svg+xml;base64,PHN2ZyBiYXNlUHJvZmlsZT0iZnVsbCIgaGVpZ2h0PSIxMDAlIiB2ZXJzaW9uPSIxLjEiIHZpZXdCb3g9IjAgMCAxNSAxNSIgd2lkdGg9IjEwMCUiIHhtbG5zPSJodHRwOi8vd3d3LnczLm9yZy8yMDAwL3N2ZyIgeG1sbnM6ZXY9Imh0dHA6Ly93d3cudzMub3JnLzIwMDEveG1sLWV2ZW50cyIgeG1sbnM6eGxpbms9Imh0dHA6Ly93d3cudzMub3JnLzE5OTkveGxpbmsiPjxkZWZzPjxzeW1ib2wgaWQ9IkxvZ2ljYWxDb21wb25lbnRTeW1ib2wiIHN0cm9rZT0iIzAwMCIgc3Ryb2tlLXdpZHRoPSIyIiB2aWV3Qm94PSIwIDAgNzkgNzkiPjxwYXRoIGQ9Ik0xOCAyMzdoNDZ2NDNIMTh6IiBmaWxsPSIjZGJlNmY0IiB0cmFuc2Zvcm09InRyYW5zbGF0ZSgwIC0yMTgpIiAvPjxwYXRoIGQ9Ik0xMiAyNDdoMTF2OEgxMnoiIGZpbGw9IiNkYmU2ZjQiIHRyYW5zZm9ybT0idHJhbnNsYXRlKDAgLTIxOCkiIC8+PHBhdGggZD0iTTEyIDI2MWgxMXY4SDEyeiIgZmlsbD0iI2RiZTZmNCIgdHJhbnNmb3JtPSJ0cmFuc2xhdGUoMCAtMjE4KSIgLz48ZyB0cmFuc2Zvcm09InNjYWxlKDAuOTA3MDUxMzUsMS4xMDI0NzM0KSI+PHBhdGggZD0ibSAzNy40Mjc0NTYsMjAuODIxMzUzIGggNC4yMjE0NzUgViA1MC45MDk3MSBIIDM3LjQyNzQ1NiBaIE0gMzkuNTM4MTk0LDQ2Ljg5NTE3IEggNTYuNzU1MTkgdiA0LjAxNDU0IEggMzkuNTM4MTk0IFoiIGZpbGw9IiMwMDAiIHN0cm9rZS13aWR0aD0iMC4xIiAvPjwvZz48L3N5bWJvbD48L2RlZnM+PHVzZSBoZWlnaHQ9IjE1IiB3aWR0aD0iMTUiIHg9IjAiIHhsaW5rOmhyZWY9IiNMb2dpY2FsQ29tcG9uZW50U3ltYm9sIiB5PSIwIiAvPjwvc3ZnPg==\" alt=\"LogicalComponent\" title=\"LogicalComponent\" width=\"15\" height=\"15\" style=\"display: inline-block\"> <a href=\"hlink://0d2edb8f-fa34-4e73-89ec-fb9a63001440\">&quot;Hogwarts&quot;</a> (0d2edb8f-fa34-4e73-89ec-fb9a63001440)</li>\n",
       "</ol></td></tr>\n",
       "<tr><th style=\"text-align: right;\">sid</th><td style=\"text-align: left;\"></td></tr>\n",
       "<tr><th style=\"text-align: right;\">summary</th><td style=\"text-align: left;\"></td></tr>\n",
       "<tr><th style=\"text-align: right;\">text</th><td style=\"text-align: left;\"><p>Test requirement 1 really l o n g text that is&nbsp;way too long to display here as that</p>\n",
       "\n",
       "<p>&lt; &gt; &quot; &#39;</p>\n",
       "\n",
       "<ul>\n",
       "\t<li>This&nbsp;is a list</li>\n",
       "\t<li>an unordered one</li>\n",
       "</ul>\n",
       "\n",
       "<ol>\n",
       "\t<li>Ordered list</li>\n",
       "\t<li>Ok</li>\n",
       "</ol>\n",
       "</td></tr>\n",
       "<tr><th style=\"text-align: right;\">traces</th><td style=\"text-align: left;\"><p><em>(Empty list)</em></p></td></tr>\n",
       "<tr><th style=\"text-align: right;\">type</th><td style=\"text-align: left;\"><strong>RequirementType</strong> <a href=\"hlink://db47fca9-ddb6-4397-8d4b-e397e53d277e\">&quot;ReqType&quot;</a> (db47fca9-ddb6-4397-8d4b-e397e53d277e)</td></tr>\n",
       "<tr><th style=\"text-align: right;\">uuid</th><td style=\"text-align: left;\">3c2d312c-37c9-41b5-8c32-67578fa52dc3</td></tr>\n",
       "<tr><th style=\"text-align: right;\">validation</th><td style=\"text-align: left;\"><em>&lt;capellambse.extensions.validation._validate.ElementValidation object at 0x78f99a5ffd40&gt;</em></td></tr>\n",
       "<tr><th style=\"text-align: right;\">visible_on_diagrams</th><td style=\"text-align: left;\"><ol start=\"0\" style=\"text-align: left;\">\n",
       "<li><b>[SDFB] Test CC</b> (uuid: _1sGtYOSREeulYvEGRaHazg)</li>\n",
       "<li><b>[OAB] Operational Context</b> (uuid: _u8_YMLB-EeqP7JXhmLvOsg)</li>\n",
       "</ol></td></tr>\n",
       "<tr><th style=\"text-align: right;\">xtype</th><td style=\"text-align: left;\">Requirements:Requirement</td></tr>\n",
       "</table>"
      ],
      "text/plain": [
       "<Requirement 'TestReq1' (3c2d312c-37c9-41b5-8c32-67578fa52dc3)>\n",
       ".applied_property_value_groups = []\n",
       ".applied_property_values = []\n",
       ".attributes = [0] <BooleanValueAttribute [AttrDef] True (9c692405-b8aa-4caa-b988-51d27db5cd1b)>\n",
       "              [1] <DateValueAttribute [AttrDef] 2021-07-23T15:00:00+02:00 (b97c09b5-948a-46e8-a656-69d764ddce7d)>\n",
       "              [2] <IntegerValueAttribute [AttrDef] 10 (85dfd42c-7f6e-4236-a181-bdd784040431)>\n",
       "              [3] <RealValueAttribute [AttrDef] 10.5 (d2231d14-854d-4625-b48b-6cf1c2554367)>\n",
       "              [4] <StringValueAttribute [AttrDef] 'Test' (ee8a69ef-61b9-4db9-9a0f-628e5d4704e1)>\n",
       "              [5] <BooleanValueAttribute [Boolean Value Attribute] False (dcb8614e-2d1c-4cb3-aa0c-667a297e7489)>\n",
       ".chapter_name = '2'\n",
       ".constraints = []\n",
       ".description = 'This is a test requirement of kind 1.'\n",
       ".diagrams = []\n",
       ".filtering_criteria = []\n",
       ".foreign_id = 1\n",
       ".identifier = 'REQTYPE-1'\n",
       ".layer = <OperationalAnalysis 'Operational Analysis' (ddbef16d-ddb9-4162-934c-f1e40e6f8bed)>\n",
       ".long_name = '1'\n",
       ".name = 'TestReq1'\n",
       ".owner = <Folder 'Folder' (e16f5cc1-3299-43d0-b1a0-82d31a137111)>\n",
       ".parent = <Folder 'Folder' (e16f5cc1-3299-43d0-b1a0-82d31a137111)>\n",
       ".prefix = '3'\n",
       ".progress_status = 'NOT_SET'\n",
       ".property_value_groups = []\n",
       ".property_value_packages = []\n",
       ".property_values = []\n",
       ".pvmt = <Property Value Management for <Requirement 'TestReq1' (3c2d312c-37c9-41b5-8c32-67578fa52dc3)>>\n",
       ".related = [0] <Entity 'Weather' (4bf0356c-89dd-45e9-b8a6-e0332c026d33)>\n",
       "           [1] <SystemFunction 'Sysexfunc' (00e7b925-cf4c-4cb0-929e-5409a1cd872b)>\n",
       "           [2] <Requirement 'TypedReq1' (85d41db2-9e17-438b-95cf-49342452ddf3)>\n",
       "           [3] <LogicalComponent 'Hogwarts' (0d2edb8f-fa34-4e73-89ec-fb9a63001440)>\n",
       ".relations = [0] <CapellaIncomingRelation 'Controlling the weather' from <Requirement 'TestReq1' (3c2d312c-37c9-41b5-8c32-67578fa52dc3)> to <Entity 'Weather' (4bf0356c-89dd-45e9-b8a6-e0332c026d33)> (078b2c69-4352-4cf9-9ea5-6573b75e5eec)>\n",
       "             [1] <CapellaIncomingRelation 'Test req' from <Requirement 'TestReq1' (3c2d312c-37c9-41b5-8c32-67578fa52dc3)> to <SystemFunction 'Sysexfunc' (00e7b925-cf4c-4cb0-929e-5409a1cd872b)> (24c824ef-b187-4725-a051-a68707e82d70)>\n",
       "             [2] <InternalRelation '' from <Requirement 'TestReq1' (3c2d312c-37c9-41b5-8c32-67578fa52dc3)> to <Requirement 'TypedReq1' (85d41db2-9e17-438b-95cf-49342452ddf3)> (7de4c1a5-e106-4171-902a-502b816b60b0)>\n",
       "             [3] <CapellaOutgoingRelation '' from <Requirement 'TestReq1' (3c2d312c-37c9-41b5-8c32-67578fa52dc3)> to <LogicalComponent 'Hogwarts' (0d2edb8f-fa34-4e73-89ec-fb9a63001440)> (57033242-3766-4961-8091-ce3d9326ed67)>\n",
       ".requirements = [0] <Entity 'Weather' (4bf0356c-89dd-45e9-b8a6-e0332c026d33)>\n",
       "                [1] <SystemFunction 'Sysexfunc' (00e7b925-cf4c-4cb0-929e-5409a1cd872b)>\n",
       "                [2] <Requirement 'TypedReq1' (85d41db2-9e17-438b-95cf-49342452ddf3)>\n",
       "                [3] <LogicalComponent 'Hogwarts' (0d2edb8f-fa34-4e73-89ec-fb9a63001440)>\n",
       ".sid = ''\n",
       ".summary = ''\n",
       ".text = Markup('<p>Test requirement 1 really l o n g text that is&nbsp;way too long to display here as that</p>\\n\\n<p>&lt; &gt; &quot; &#39;</p>\\n\\n<ul>\\n\\t<li>This&nbsp;is a list</li>\\n\\t<li>an unordered one</li>\\n</ul>\\n\\n<ol>\\n\\t<li>Ordered [...]\n",
       ".traces = []\n",
       ".type = <RequirementType 'ReqType' (db47fca9-ddb6-4397-8d4b-e397e53d277e)>\n",
       ".uuid = '3c2d312c-37c9-41b5-8c32-67578fa52dc3'\n",
       ".validation = <capellambse.extensions.validation._validate.ElementValidation object at 0x78f99a5ff3b0>\n",
       ".visible_on_diagrams = [0] <Diagram '[SDFB] Test CC'>\n",
       "                       [1] <Diagram '[OAB] Operational Context'>\n",
       ".xtype = 'Requirements:Requirement'"
      ]
     },
     "execution_count": 10,
     "metadata": {},
     "output_type": "execute_result"
    }
   ],
   "source": [
    "model.oa.all_requirements[0]"
   ]
  },
  {
   "cell_type": "markdown",
   "id": "ec7a07c8",
   "metadata": {},
   "source": [
    "## Export all requirements to excel with pandas\n",
    "\n",
    "With `Pandas` you are able to generate data tables and export to many file-types\n",
    "like .xlsx for excel. Note that this requires the `xlsxwriter` module in\n",
    "addition to `pandas` itself."
   ]
  },
  {
   "cell_type": "code",
   "execution_count": 11,
   "id": "acbe3e06",
   "metadata": {},
   "outputs": [],
   "source": [
    "import pandas as pd\n",
    "\n",
    "requirements = [\n",
    "    {\"id\": f\"Req_{i}\", \"uuid\": req.uuid, \"text\": req.text}\n",
    "    for i, req in enumerate(model.oa.all_requirements)\n",
    "]\n",
    "data = pd.DataFrame(requirements)\n",
    "data.to_excel(excel_writer=\"Test_requirements.xlsx\")"
   ]
  },
  {
   "cell_type": "markdown",
   "id": "03bf76ca-0703-4ae7-9270-e743063d7372",
   "metadata": {},
   "source": [
    "## Export a Requirements module as Requirements Interchange Format (`.reqif`) file\n",
    "\n",
    "`capellambse` features basic export functionality for requirements modules, which allows to write `.reqif` or compressed `.reqifz` files. These can then be imported into other ReqIF-compliant applications, like CodeBeamer or IBM DOORS.\n",
    "\n",
    "Let's first take a glance at the module we're going to export:"
   ]
  },
  {
   "cell_type": "code",
   "execution_count": 12,
   "id": "e3f44e4c",
   "metadata": {},
   "outputs": [
    {
     "data": {
      "text/html": [
       "<h1>Test Module <span style=\"font-size: 70%;\">(CapellaRequirements:CapellaModule)</span></h1>\n",
       "<table>\n",
       "<tr><th style=\"text-align: right;\">applied_property_value_groups</th><td style=\"text-align: left;\"><p><em>(Empty list)</em></p></td></tr>\n",
       "<tr><th style=\"text-align: right;\">applied_property_values</th><td style=\"text-align: left;\"><p><em>(Empty list)</em></p></td></tr>\n",
       "<tr><th style=\"text-align: right;\">attributes</th><td style=\"text-align: left;\"><ol start=\"0\" style=\"text-align: left;\">\n",
       "<li><strong>EnumerationValueAttribute</strong> <a href=\"hlink://11a2e07a-41f7-4eee-a94e-f3e33738c487\">&quot;AttrDefEnum&quot;</a> (11a2e07a-41f7-4eee-a94e-f3e33738c487)</li>\n",
       "</ol></td></tr>\n",
       "<tr><th style=\"text-align: right;\">constraints</th><td style=\"text-align: left;\"><p><em>(Empty list)</em></p></td></tr>\n",
       "<tr><th style=\"text-align: right;\">description</th><td style=\"text-align: left;\">This is a test requirement module.</td></tr>\n",
       "<tr><th style=\"text-align: right;\">diagrams</th><td style=\"text-align: left;\"><p><em>(Empty list)</em></p></td></tr>\n",
       "<tr><th style=\"text-align: right;\">filtering_criteria</th><td style=\"text-align: left;\"><p><em>(Empty list)</em></p></td></tr>\n",
       "<tr><th style=\"text-align: right;\">folders</th><td style=\"text-align: left;\"><ol start=\"0\" style=\"text-align: left;\">\n",
       "<li><strong>Folder</strong> <a href=\"hlink://e16f5cc1-3299-43d0-b1a0-82d31a137111\">&quot;Folder&quot;</a> (e16f5cc1-3299-43d0-b1a0-82d31a137111)</li>\n",
       "</ol></td></tr>\n",
       "<tr><th style=\"text-align: right;\">identifier</th><td style=\"text-align: left;\">1</td></tr>\n",
       "<tr><th style=\"text-align: right;\">layer</th><td style=\"text-align: left;\"><strong>OperationalAnalysis</strong> <a href=\"hlink://ddbef16d-ddb9-4162-934c-f1e40e6f8bed\">&quot;Operational Analysis&quot;</a> (ddbef16d-ddb9-4162-934c-f1e40e6f8bed)</td></tr>\n",
       "<tr><th style=\"text-align: right;\">long_name</th><td style=\"text-align: left;\">Module</td></tr>\n",
       "<tr><th style=\"text-align: right;\">name</th><td style=\"text-align: left;\">Test Module</td></tr>\n",
       "<tr><th style=\"text-align: right;\">parent</th><td style=\"text-align: left;\"><strong>OperationalAnalysis</strong> <a href=\"hlink://ddbef16d-ddb9-4162-934c-f1e40e6f8bed\">&quot;Operational Analysis&quot;</a> (ddbef16d-ddb9-4162-934c-f1e40e6f8bed)</td></tr>\n",
       "<tr><th style=\"text-align: right;\">prefix</th><td style=\"text-align: left;\">T</td></tr>\n",
       "<tr><th style=\"text-align: right;\">progress_status</th><td style=\"text-align: left;\">NOT_SET</td></tr>\n",
       "<tr><th style=\"text-align: right;\">property_value_groups</th><td style=\"text-align: left;\"><p><em>(Empty list)</em></p></td></tr>\n",
       "<tr><th style=\"text-align: right;\">property_value_packages</th><td style=\"text-align: left;\"><p><em>(Empty list)</em></p></td></tr>\n",
       "<tr><th style=\"text-align: right;\">property_values</th><td style=\"text-align: left;\"><p><em>(Empty list)</em></p></td></tr>\n",
       "<tr><th style=\"text-align: right;\">pvmt</th><td style=\"text-align: left;\">Property Value Management for <strong>CapellaModule</strong> <a href=\"hlink://f8e2195d-b5f5-4452-a12b-79233d943d5e\">&quot;Test Module&quot;</a> (f8e2195d-b5f5-4452-a12b-79233d943d5e)</td></tr>\n",
       "<tr><th style=\"text-align: right;\">requirement_types_folders</th><td style=\"text-align: left;\"><p><em>(Empty list)</em></p></td></tr>\n",
       "<tr><th style=\"text-align: right;\">requirements</th><td style=\"text-align: left;\"><ol start=\"0\" style=\"text-align: left;\">\n",
       "<li><strong>Requirement</strong> <a href=\"hlink://85d41db2-9e17-438b-95cf-49342452ddf3\">&quot;TypedReq1&quot;</a> (85d41db2-9e17-438b-95cf-49342452ddf3)</li>\n",
       "<li><strong>Requirement</strong> <a href=\"hlink://3a208454-d271-49f4-8b93-20b958721300\">&quot;New showcase req1&quot;</a> (3a208454-d271-49f4-8b93-20b958721300)</li>\n",
       "<li><strong>Requirement</strong> <a href=\"hlink://887e45f3-a6b9-487c-ab66-46535abe70ab\">&quot;ReqType during Creation&quot;</a> (887e45f3-a6b9-487c-ab66-46535abe70ab)</li>\n",
       "</ol></td></tr>\n",
       "<tr><th style=\"text-align: right;\">sid</th><td style=\"text-align: left;\"></td></tr>\n",
       "<tr><th style=\"text-align: right;\">summary</th><td style=\"text-align: left;\"></td></tr>\n",
       "<tr><th style=\"text-align: right;\">traces</th><td style=\"text-align: left;\"><p><em>(Empty list)</em></p></td></tr>\n",
       "<tr><th style=\"text-align: right;\">type</th><td style=\"text-align: left;\"><strong>ModuleType</strong> <a href=\"hlink://a67e7f43-4b49-425c-a6a7-d44e1054a488\">&quot;ModuleType&quot;</a> (a67e7f43-4b49-425c-a6a7-d44e1054a488)</td></tr>\n",
       "<tr><th style=\"text-align: right;\">uuid</th><td style=\"text-align: left;\">f8e2195d-b5f5-4452-a12b-79233d943d5e</td></tr>\n",
       "<tr><th style=\"text-align: right;\">validation</th><td style=\"text-align: left;\"><em>&lt;capellambse.extensions.validation._validate.ElementValidation object at 0x78f98e93f860&gt;</em></td></tr>\n",
       "<tr><th style=\"text-align: right;\">visible_on_diagrams</th><td style=\"text-align: left;\"><p><em>(Empty list)</em></p></td></tr>\n",
       "<tr><th style=\"text-align: right;\">xtype</th><td style=\"text-align: left;\">CapellaRequirements:CapellaModule</td></tr>\n",
       "</table>"
      ],
      "text/plain": [
       "<CapellaModule 'Test Module' (f8e2195d-b5f5-4452-a12b-79233d943d5e)>\n",
       ".applied_property_value_groups = []\n",
       ".applied_property_values = []\n",
       ".attributes = [0] <EnumerationValueAttribute [AttrDefEnum] ['enum_val2'] (11a2e07a-41f7-4eee-a94e-f3e33738c487)>\n",
       ".constraints = []\n",
       ".description = 'This is a test requirement module.'\n",
       ".diagrams = []\n",
       ".filtering_criteria = []\n",
       ".folders = [0] <Folder 'Folder' (e16f5cc1-3299-43d0-b1a0-82d31a137111)>\n",
       ".identifier = '1'\n",
       ".layer = <OperationalAnalysis 'Operational Analysis' (ddbef16d-ddb9-4162-934c-f1e40e6f8bed)>\n",
       ".long_name = 'Module'\n",
       ".name = 'Test Module'\n",
       ".parent = <OperationalAnalysis 'Operational Analysis' (ddbef16d-ddb9-4162-934c-f1e40e6f8bed)>\n",
       ".prefix = 'T'\n",
       ".progress_status = 'NOT_SET'\n",
       ".property_value_groups = []\n",
       ".property_value_packages = []\n",
       ".property_values = []\n",
       ".pvmt = <Property Value Management for <CapellaModule 'Test Module' (f8e2195d-b5f5-4452-a12b-79233d943d5e)>>\n",
       ".requirement_types_folders = []\n",
       ".requirements = [0] <Requirement 'TypedReq1' (85d41db2-9e17-438b-95cf-49342452ddf3)>\n",
       "                [1] <Requirement 'New showcase req1' (3a208454-d271-49f4-8b93-20b958721300)>\n",
       "                [2] <Requirement 'ReqType during Creation' (887e45f3-a6b9-487c-ab66-46535abe70ab)>\n",
       ".sid = ''\n",
       ".summary = ''\n",
       ".traces = []\n",
       ".type = <ModuleType 'ModuleType' (a67e7f43-4b49-425c-a6a7-d44e1054a488)>\n",
       ".uuid = 'f8e2195d-b5f5-4452-a12b-79233d943d5e'\n",
       ".validation = <capellambse.extensions.validation._validate.ElementValidation object at 0x78f98003c9b0>\n",
       ".visible_on_diagrams = []\n",
       ".xtype = 'CapellaRequirements:CapellaModule'"
      ]
     },
     "execution_count": 12,
     "metadata": {},
     "output_type": "execute_result"
    }
   ],
   "source": [
    "req_module = model.by_uuid(\"f8e2195d-b5f5-4452-a12b-79233d943d5e\")\n",
    "req_module"
   ]
  },
  {
   "cell_type": "code",
   "execution_count": 13,
   "id": "5c555118-246d-47be-b462-6ce01822e156",
   "metadata": {},
   "outputs": [],
   "source": [
    "req_module.to_reqif(req_module.name + \".reqif\")"
   ]
  },
  {
   "cell_type": "markdown",
   "id": "94297761-841e-4900-945c-b5f87825627f",
   "metadata": {},
   "source": [
    "And that's it! This code has created the file \"Test Module.reqif\" next to this notebook, which contains all Requirements defined in that module."
   ]
  }
 ],
 "metadata": {
  "kernelspec": {
   "display_name": "Python 3 (ipykernel)",
   "language": "python",
   "name": "python3"
  },
  "language_info": {
   "codemirror_mode": {
    "name": "ipython",
    "version": 3
   },
   "file_extension": ".py",
   "mimetype": "text/x-python",
   "name": "python",
   "nbconvert_exporter": "python",
   "pygments_lexer": "ipython3",
   "version": "3.11.5"
  },
  "vscode": {
   "interpreter": {
    "hash": "e7370f93d1d0cde622a1f8e1c04877d8463912d04d973331ad4851f04de6915a"
   }
  }
 },
 "nbformat": 4,
 "nbformat_minor": 5
}
