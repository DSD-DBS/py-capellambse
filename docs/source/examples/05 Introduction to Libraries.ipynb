{
 "cells": [
  {
   "cell_type": "markdown",
   "metadata": {},
   "source": [
    "# Introduction to Libraries\n",
    "\n",
    "This notebook illustrates the use of Capella Libraries. When trying to load a\n",
    "model that uses a library, you may encounter an error similar to this:"
   ]
  },
  {
   "cell_type": "code",
   "execution_count": 3,
   "metadata": {
    "scrolled": false
   },
   "outputs": [
    {
     "name": "stdout",
     "output_type": "stream",
     "text": [
      "MissingResourceLocationError: 'Library Test'\n"
     ]
    }
   ],
   "source": [
    "import capellambse\n",
    "path_to_model = \"../../../tests/data/Library Project/Library Project.aird\"\n",
    "\n",
    "try:\n",
    "    capellambse.MelodyModel(path_to_model, jupyter_untrusted=True)\n",
    "except Exception as err:\n",
    "    print(f\"{type(err).__name__}: {err}\")\n",
    "else:\n",
    "    print(\"There should have been an error here ...\")"
   ]
  },
  {
   "cell_type": "markdown",
   "metadata": {},
   "source": [
    "This tells us the name that was given to the library: `Library Test`. So, we need to define a resource location with that name. As there can be arbitrarily many resource locations (i.e. linked libraries) with arbitrary names given to them, these locations are handed over in a Python `dict`.\n",
    "\n",
    "There are three ways of defining a resource location:\n",
    "\n",
    "1. A simple `str` containing only a path or URL, similar to the first positional argument of `MelodyModel`.\n",
    "2. A nested dictionary with a `path` key, as well as other keys needed to find and access that resource. These may include `subdir` or `username` and `password`.\n",
    "3. A constructed `FileHandler` object.\n",
    "\n",
    "The following cell shows a concrete example of each of them."
   ]
  },
  {
   "cell_type": "code",
   "execution_count": 4,
   "metadata": {},
   "outputs": [],
   "source": [
    "# Simple `str`\n",
    "resources = {\n",
    "    \"Library Test\": \"/data/models/Library Test\",\n",
    "}\n",
    "\n",
    "# Nested `dict`\n",
    "resources = {\n",
    "    \"Library Test\": {\n",
    "        \"path\": \"https://raw.githubusercontent.com/DSD-DBS/py-capellambse/master/tests/data/Library%20Test\",\n",
    "        # More options can be added here if necessary, e.g.:\n",
    "        # \"username\": \"demouser\",\n",
    "        # \"password\": \"super secret passphrase\",\n",
    "    }\n",
    "}\n",
    "\n",
    "# `FileHandler` object\n",
    "# (Be aware that constructing a ´FileHandler` may already involve network access,\n",
    "# for example cloning a remote git repository into a local cache.)\n",
    "lib_handler = capellambse.get_filehandler(\n",
    "    \"git+https://github.com/DSD-DBS/py-capellambse.git\",\n",
    "    subdir=\"tests/data/Library Test\",\n",
    "    revision=\"master\"\n",
    "    # More options can be added here as well, e.g.:\n",
    "    # username=\"demouser\",\n",
    "    # password=\"super secret passphrase\",\n",
    ")\n",
    "resources = {\"Library Test\": lib_handler}"
   ]
  },
  {
   "cell_type": "markdown",
   "metadata": {},
   "source": [
    "Equipped with this `resources` dictionary, we can now try to load the model again:"
   ]
  },
  {
   "cell_type": "code",
   "execution_count": 5,
   "metadata": {},
   "outputs": [
    {
     "name": "stderr",
     "output_type": "stream",
     "text": [
      "Cannot load PVMT extension: ValueError: Provided model does not have a PropertyValuePkg\n",
      "Property values are not available in this model\n"
     ]
    }
   ],
   "source": [
    "model = capellambse.MelodyModel(path_to_model, resources=resources, jupyter_untrusted=True)"
   ]
  },
  {
   "cell_type": "markdown",
   "metadata": {},
   "source": [
    "If you receive more `MissingResourceLocationError`s, add them to the same `resources` dictionary and pass them to the `MelodyModel` as well."
   ]
  },
  {
   "cell_type": "markdown",
   "metadata": {},
   "source": [
    "Once you no longer receive errors during loading, you can use the model as normal."
   ]
  },
  {
   "cell_type": "code",
   "execution_count": 6,
   "metadata": {},
   "outputs": [
    {
     "data": {
      "text/html": [
       "<ol start=\"0\" style=\"text-align: left;\"><li><b>[CDB] Library Product</b> (uuid: _q-c-0KN2EeyJNLcTD9ngpQ)</li><li><b>[LAB] E-Commerce</b> (uuid: _SMS4sKFFEeyn0YWM8vjd5w)</li></ol>"
      ],
      "text/plain": [
       "<CachedElementList at 0x00007FF9F02D36A0 [<Diagram '[CDB] Library Product'>, <Diagram '[LAB] E-Commerce'>]>"
      ]
     },
     "execution_count": 6,
     "metadata": {},
     "output_type": "execute_result"
    }
   ],
   "source": [
    "model.diagrams"
   ]
  },
  {
   "cell_type": "code",
   "execution_count": 7,
   "metadata": {},
   "outputs": [
    {
     "name": "stderr",
     "output_type": "stream",
     "text": [
      "Unknown global filter 'hide.sequencing.information.filter'\n",
      "Unknown global filter 'hide.simplified.diagram.based.component.exchanges.filter'\n",
      "Unknown global filter 'hide.simplified.oriented.grouped.component.exchanges.filter'\n",
      "Unknown global filter 'ModelExtensionFilter'\n",
      "Unknown global filter 'hide.simplified.group.of.component.exchanges.filter'\n"
     ]
    },
    {
     "data": {
      "image/png": "[encoded data removed]",
      "text/plain": [
       "<Diagram '[LAB] E-Commerce'>"
      ]
     },
     "execution_count": 7,
     "metadata": {},
     "output_type": "execute_result"
    }
   ],
   "source": [
    "model.diagrams.by_name(\"[LAB] E-Commerce\")"
   ]
  },
  {
   "cell_type": "markdown",
   "metadata": {},
   "source": [
    "## Common pitfalls\n",
    "\n",
    "In order for `capellambse` to be able to find your elements, ensure that you:\n",
    "\n",
    "1. Created a replicable element collection (REC) in the Capella Library. To do that, right-click the element in the library, and choose \"REC / RPL\" > \"Create REC\".\n",
    "2. Have instantiated the REC as a so-called Replica (RPL) in your primary project. For this, right-click any element in your project and choose \"REC / RPL\" > \"Instantiate RPL from REC\".\n",
    "\n",
    "For more information, watch this [short video about REC / RPL](https://youtu.be/h-ax61eVlxM)."
   ]
  },
  {
   "cell_type": "code",
   "execution_count": 8,
   "metadata": {
    "scrolled": true
   },
   "outputs": [
    {
     "name": "stdout",
     "output_type": "stream",
     "text": [
      "Logical System\n",
      "E-Commerce\n",
      "Truck Company\n",
      "Client\n"
     ]
    }
   ],
   "source": [
    "for component in model.la.all_components:\n",
    "    print(component.name)"
   ]
  },
  {
   "cell_type": "markdown",
   "metadata": {},
   "source": [
    "## Saving a model\n",
    "\n",
    "You can save the model as usual by calling `model.save()`. However, **this will only save the primary model**. Modifications to elements that are defined only in a library will be lost.\n",
    "\n",
    "This is normally not a problem when following the standard REC / RPL based workflow, as the definitions of those elements will be copied to and modified in the primary model.\n",
    "\n",
    "In order to modify elements in one of the used libraries, you can load the library itself as a model. This allows you to apply any needed modifications and then save the library. Afterwards, the updated library can be used in the `resources` of other models."
   ]
  }
 ],
 "metadata": {
  "interpreter": {
   "hash": "e5607734f15d1b90b8506e690cd35fc527f703262c75faee6ce3cf6c6d2ff5b2"
  },
  "kernelspec": {
   "display_name": "venv",
   "language": "python",
   "name": "venv"
  },
  "language_info": {
   "codemirror_mode": {
    "name": "ipython",
    "version": 3
   },
   "file_extension": ".py",
   "mimetype": "text/x-python",
   "name": "python",
   "nbconvert_exporter": "python",
   "pygments_lexer": "ipython3",
   "version": "3.10.6"
  }
 },
 "nbformat": 4,
 "nbformat_minor": 2
}
