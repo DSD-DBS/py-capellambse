{
 "cells": [
  {
   "cell_type": "markdown",
   "id": "f4599550",
   "metadata": {},
   "source": [
    "# Property Values\n",
    "\n",
    "capellambse provides access to property values and property value groups, as well as the Property Value Management (PVMT) extension.\n",
    "\n",
    "This notebook will show how to access and work with basic property values and groups."
   ]
  },
  {
   "cell_type": "code",
   "execution_count": 1,
   "id": "fb62b658",
   "metadata": {},
   "outputs": [],
   "source": [
    "import capellambse\n",
    "\n",
    "path_to_model = \"../../../tests/data/melodymodel/5_0/Melody Model Test.aird\"\n",
    "model = capellambse.MelodyModel(path_to_model)"
   ]
  },
  {
   "cell_type": "markdown",
   "id": "f4effeec",
   "metadata": {},
   "source": [
    "Model objects can own property values and PV groups. To access those, use the `property_values` and `property_value_groups` attributes respectively:"
   ]
  },
  {
   "cell_type": "code",
   "execution_count": 2,
   "id": "3491dc40",
   "metadata": {},
   "outputs": [],
   "source": [
    "obj = model.search(\"LogicalComponent\").by_name(\"Whomping Willow\")"
   ]
  },
  {
   "cell_type": "code",
   "execution_count": 3,
   "id": "6f1304b7",
   "metadata": {},
   "outputs": [
    {
     "data": {
      "text/html": [
       "<ol start=\"0\" style=\"text-align: left;\"><li><strong>IntegerPropertyValue</strong> &quot;cars_defeated&quot;: 1 (a928fa22-cef7-4357-9b87-675a432f6591)</li></ol>"
      ],
      "text/plain": [
       "[0] <IntegerPropertyValue 'cars_defeated' (a928fa22-cef7-4357-9b87-675a432f6591)>"
      ]
     },
     "execution_count": 3,
     "metadata": {},
     "output_type": "execute_result"
    }
   ],
   "source": [
    "obj.property_values"
   ]
  },
  {
   "cell_type": "code",
   "execution_count": 4,
   "id": "573ce32d",
   "metadata": {},
   "outputs": [
    {
     "data": {
      "text/html": [
       "<h1>cars_defeated <span style=\"font-size: 70%;\">(org.polarsys.capella.core.data.capellacore:IntegerPropertyValue)</span></h1><table><tr><th style=\"text-align: right;\">applied_property_value_groups</th><td style=\"text-align: left;\"><p><em>(Empty list)</em></p></td></tr><tr><th style=\"text-align: right;\">applied_property_values</th><td style=\"text-align: left;\"><p><em>(Empty list)</em></p></td></tr><tr><th style=\"text-align: right;\">constraints</th><td style=\"text-align: left;\"><p><em>(Empty list)</em></p></td></tr><tr><th style=\"text-align: right;\">description</th><td style=\"text-align: left;\"></td></tr><tr><th style=\"text-align: right;\">diagrams</th><td style=\"text-align: left;\"><p><em>(Empty list)</em></p></td></tr><tr><th style=\"text-align: right;\">enumerations</th><td style=\"text-align: left;\"><p><em>(Empty list)</em></p></td></tr><tr><th style=\"text-align: right;\">filtering_criteria</th><td style=\"text-align: left;\"><p><em>(Empty list)</em></p></td></tr><tr><th style=\"text-align: right;\">name</th><td style=\"text-align: left;\">cars_defeated</td></tr><tr><th style=\"text-align: right;\">parent</th><td style=\"text-align: left;\"><strong>LogicalComponent</strong> &quot;Whomping Willow&quot; (3bdd4fa2-5646-44a1-9fa6-80c68433ddb7)</td></tr><tr><th style=\"text-align: right;\">progress_status</th><td style=\"text-align: left;\">NOT_SET</td></tr><tr><th style=\"text-align: right;\">property_value_groups</th><td style=\"text-align: left;\"><p><em>(Empty list)</em></p></td></tr><tr><th style=\"text-align: right;\">property_values</th><td style=\"text-align: left;\"><p><em>(Empty list)</em></p></td></tr><tr><th style=\"text-align: right;\">pvmt</th><td style=\"text-align: left;\"><em>&lt;capellambse.extensions.pvmt.PropertyValueProxy object at 0x7f7a6eb58b10&gt;</em></td></tr><tr><th style=\"text-align: right;\">requirements</th><td style=\"text-align: left;\"><p><em>(Empty list)</em></p></td></tr><tr><th style=\"text-align: right;\">summary</th><td style=\"text-align: left;\"><em>None</em></td></tr><tr><th style=\"text-align: right;\">traces</th><td style=\"text-align: left;\"><p><em>(Empty list)</em></p></td></tr><tr><th style=\"text-align: right;\">uuid</th><td style=\"text-align: left;\">a928fa22-cef7-4357-9b87-675a432f6591</td></tr><tr><th style=\"text-align: right;\">value</th><td style=\"text-align: left;\"><em>1</em></td></tr><tr><th style=\"text-align: right;\">xtype</th><td style=\"text-align: left;\">org.polarsys.capella.core.data.capellacore:IntegerPropertyValue</td></tr></table>"
      ],
      "text/plain": [
       "<IntegerPropertyValue 'cars_defeated' (a928fa22-cef7-4357-9b87-675a432f6591)>\n",
       ".applied_property_value_groups = []\n",
       ".applied_property_values = []\n",
       ".constraints = []\n",
       ".description = ''\n",
       ".diagrams = []\n",
       ".enumerations = []\n",
       ".filtering_criteria = []\n",
       ".name = 'cars_defeated'\n",
       ".parent = <LogicalComponent 'Whomping Willow' (3bdd4fa2-5646-44a1-9fa6-80c68433ddb7)>\n",
       ".progress_status = 'NOT_SET'\n",
       ".property_value_groups = []\n",
       ".property_values = []\n",
       ".pvmt = <capellambse.extensions.pvmt.PropertyValueProxy object at 0x7f7a6e9d0590>\n",
       ".requirements = []\n",
       ".summary = None\n",
       ".traces = []\n",
       ".uuid = 'a928fa22-cef7-4357-9b87-675a432f6591'\n",
       ".value = 1\n",
       ".xtype = 'org.polarsys.capella.core.data.capellacore:IntegerPropertyValue'"
      ]
     },
     "execution_count": 4,
     "metadata": {},
     "output_type": "execute_result"
    }
   ],
   "source": [
    "obj.property_values[0]"
   ]
  },
  {
   "cell_type": "code",
   "execution_count": 5,
   "id": "3c105268",
   "metadata": {},
   "outputs": [
    {
     "data": {
      "text/html": [
       "<ol start=\"0\" style=\"text-align: left;\"><li><strong>PropertyValueGroup</strong> &quot;Stats&quot; (81bcc3d3-24d2-411e-a296-9943029acfd9)</li></ol>"
      ],
      "text/plain": [
       "[0] <PropertyValueGroup 'Stats' (81bcc3d3-24d2-411e-a296-9943029acfd9)>"
      ]
     },
     "execution_count": 5,
     "metadata": {},
     "output_type": "execute_result"
    }
   ],
   "source": [
    "obj.property_value_groups"
   ]
  },
  {
   "cell_type": "markdown",
   "id": "06426fae",
   "metadata": {},
   "source": [
    "## dict-like access to property values\n",
    "\n",
    "In addition to standard attribute-based access, these property value-related attributes can also behave like dicts in some cases. Here the dict key equates to the `name` of a property value or group, and the dict value equates to either the `value` of a property value object, or a list of PV objects in the group (which again can behave dict-like)."
   ]
  },
  {
   "cell_type": "markdown",
   "id": "574022f7",
   "metadata": {},
   "source": [
    "This significantly shortens the way to a specific value. For comparison, this would be the \"usual\" attribute-based way of accessing it:"
   ]
  },
  {
   "cell_type": "code",
   "execution_count": 6,
   "id": "a10cf035",
   "metadata": {},
   "outputs": [
    {
     "data": {
      "text/plain": [
       "150"
      ]
     },
     "execution_count": 6,
     "metadata": {},
     "output_type": "execute_result"
    }
   ],
   "source": [
    "obj.property_value_groups.by_name(\"Stats\").property_values.by_name(\"WIS\").value"
   ]
  },
  {
   "cell_type": "markdown",
   "id": "12800ba6",
   "metadata": {},
   "source": [
    "And here is the same again, leveraging the dict-like behavior:"
   ]
  },
  {
   "cell_type": "code",
   "execution_count": 7,
   "id": "0e03011b",
   "metadata": {},
   "outputs": [
    {
     "data": {
      "text/plain": [
       "150"
      ]
     },
     "execution_count": 7,
     "metadata": {},
     "output_type": "execute_result"
    }
   ],
   "source": [
    "obj.property_value_groups[\"Stats\"][\"WIS\"]"
   ]
  },
  {
   "cell_type": "markdown",
   "id": "3e8f3666",
   "metadata": {},
   "source": [
    "This of course works for all property value related attributes."
   ]
  },
  {
   "cell_type": "code",
   "execution_count": 8,
   "id": "c56a533f",
   "metadata": {},
   "outputs": [
    {
     "data": {
      "text/plain": [
       "1"
      ]
     },
     "execution_count": 8,
     "metadata": {},
     "output_type": "execute_result"
    }
   ],
   "source": [
    "obj.property_values[\"cars_defeated\"]"
   ]
  },
  {
   "cell_type": "code",
   "execution_count": 9,
   "id": "2cc26810",
   "metadata": {},
   "outputs": [
    {
     "data": {
      "text/html": [
       "<ol start=\"0\" style=\"text-align: left;\"><li><strong>IntegerPropertyValue</strong> &quot;HP&quot;: 8000 (0e95950d-272f-4b50-b68d-ee8fed002c94)</li><li><strong>IntegerPropertyValue</strong> &quot;STR&quot;: 42 (32be6f26-4b33-4861-b501-3bfce3df94cb)</li><li><strong>IntegerPropertyValue</strong> &quot;AGI&quot;: 0 (addb1e4a-9ecc-411c-b7ef-b76388e5840d)</li><li><strong>IntegerPropertyValue</strong> &quot;WIS&quot;: 150 (7c8c9c21-86b9-4dba-9c7c-cd9db2f09c11)</li><li><strong>IntegerPropertyValue</strong> &quot;INT&quot;: 12 (647a5565-a1de-4e15-ab21-eb628eea413c)</li></ol>"
      ],
      "text/plain": [
       "[0] <IntegerPropertyValue 'HP' (0e95950d-272f-4b50-b68d-ee8fed002c94)>\n",
       "[1] <IntegerPropertyValue 'STR' (32be6f26-4b33-4861-b501-3bfce3df94cb)>\n",
       "[2] <IntegerPropertyValue 'AGI' (addb1e4a-9ecc-411c-b7ef-b76388e5840d)>\n",
       "[3] <IntegerPropertyValue 'WIS' (7c8c9c21-86b9-4dba-9c7c-cd9db2f09c11)>\n",
       "[4] <IntegerPropertyValue 'INT' (647a5565-a1de-4e15-ab21-eb628eea413c)>"
      ]
     },
     "execution_count": 9,
     "metadata": {},
     "output_type": "execute_result"
    }
   ],
   "source": [
    "obj.property_value_groups[\"Stats\"]"
   ]
  },
  {
   "cell_type": "code",
   "execution_count": 10,
   "id": "b7943324",
   "metadata": {},
   "outputs": [
    {
     "data": {
      "text/plain": [
       "150"
      ]
     },
     "execution_count": 10,
     "metadata": {},
     "output_type": "execute_result"
    }
   ],
   "source": [
    "obj.property_value_groups[\"Stats\"][\"WIS\"]"
   ]
  },
  {
   "cell_type": "markdown",
   "id": "65b98527",
   "metadata": {},
   "source": [
    "These property values can also be written to:"
   ]
  },
  {
   "cell_type": "code",
   "execution_count": 11,
   "id": "b34fdf10",
   "metadata": {},
   "outputs": [
    {
     "data": {
      "text/html": [
       "<ol start=\"0\" style=\"text-align: left;\"><li><strong>IntegerPropertyValue</strong> &quot;HP&quot;: 8000 (0e95950d-272f-4b50-b68d-ee8fed002c94)</li><li><strong>IntegerPropertyValue</strong> &quot;STR&quot;: 42 (32be6f26-4b33-4861-b501-3bfce3df94cb)</li><li><strong>IntegerPropertyValue</strong> &quot;AGI&quot;: 0 (addb1e4a-9ecc-411c-b7ef-b76388e5840d)</li><li><strong>IntegerPropertyValue</strong> &quot;WIS&quot;: 150 (7c8c9c21-86b9-4dba-9c7c-cd9db2f09c11)</li><li><strong>IntegerPropertyValue</strong> &quot;INT&quot;: 18 (647a5565-a1de-4e15-ab21-eb628eea413c)</li></ol>"
      ],
      "text/plain": [
       "[0] <IntegerPropertyValue 'HP' (0e95950d-272f-4b50-b68d-ee8fed002c94)>\n",
       "[1] <IntegerPropertyValue 'STR' (32be6f26-4b33-4861-b501-3bfce3df94cb)>\n",
       "[2] <IntegerPropertyValue 'AGI' (addb1e4a-9ecc-411c-b7ef-b76388e5840d)>\n",
       "[3] <IntegerPropertyValue 'WIS' (7c8c9c21-86b9-4dba-9c7c-cd9db2f09c11)>\n",
       "[4] <IntegerPropertyValue 'INT' (647a5565-a1de-4e15-ab21-eb628eea413c)>"
      ]
     },
     "execution_count": 11,
     "metadata": {},
     "output_type": "execute_result"
    }
   ],
   "source": [
    "obj.property_value_groups[\"Stats\"][\"INT\"] = 18\n",
    "obj.property_value_groups[\"Stats\"]"
   ]
  }
 ],
 "metadata": {
  "kernelspec": {
   "display_name": "Python 3 (ipykernel)",
   "language": "python",
   "name": "python3"
  },
  "language_info": {
   "codemirror_mode": {
    "name": "ipython",
    "version": 3
   },
   "file_extension": ".py",
   "mimetype": "text/x-python",
   "name": "python",
   "nbconvert_exporter": "python",
   "pygments_lexer": "ipython3",
   "version": "3.11.5"
  }
 },
 "nbformat": 4,
 "nbformat_minor": 5
}
