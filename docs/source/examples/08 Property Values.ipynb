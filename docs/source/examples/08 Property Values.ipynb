{
 "cells": [
  {
   "cell_type": "markdown",
   "id": "f4599550",
   "metadata": {},
   "source": [
    "# Property Values and Property Value Management Tool (PVMT) support\n",
    "\n",
    "capellambse provides access to property values and property value groups, as well as the additional information maintained by the Property Value Management Tool (PVMT) extension.\n",
    "\n",
    "Let's first take a look at how to work with basic property values."
   ]
  },
  {
   "cell_type": "code",
   "execution_count": 1,
   "id": "fb62b658",
   "metadata": {},
   "outputs": [],
   "source": [
    "import capellambse\n",
    "\n",
    "model = capellambse.MelodyModel(\n",
    "    \"../../../tests/data/melodymodel/5_0/Melody Model Test.aird\"\n",
    ")"
   ]
  },
  {
   "cell_type": "markdown",
   "id": "f4effeec",
   "metadata": {},
   "source": [
    "Model objects can own property values and PV groups. To access those, use the `property_values` and `property_value_groups` attributes respectively:"
   ]
  },
  {
   "cell_type": "code",
   "execution_count": 2,
   "id": "3491dc40",
   "metadata": {},
   "outputs": [],
   "source": [
    "obj = model.search(\"LogicalComponent\").by_name(\"Whomping Willow\")"
   ]
  },
  {
   "cell_type": "code",
   "execution_count": 3,
   "id": "6f1304b7",
   "metadata": {},
   "outputs": [
    {
     "data": {
      "text/html": [
       "<ol start=\"0\" style=\"text-align: left;\"><li><strong>IntegerPropertyValue</strong> <a href=\"hlink://a928fa22-cef7-4357-9b87-675a432f6591\">&quot;cars_defeated&quot;</a>: 1 (a928fa22-cef7-4357-9b87-675a432f6591)</li></ol>"
      ],
      "text/plain": [
       "[0] <IntegerPropertyValue 'cars_defeated' (a928fa22-cef7-4357-9b87-675a432f6591)>"
      ]
     },
     "execution_count": 3,
     "metadata": {},
     "output_type": "execute_result"
    }
   ],
   "source": [
    "obj.property_values"
   ]
  },
  {
   "cell_type": "code",
   "execution_count": 4,
   "id": "573ce32d",
   "metadata": {},
   "outputs": [
    {
     "data": {
      "text/html": [
       "<h1>cars_defeated <span style=\"font-size: 70%;\">(org.polarsys.capella.core.data.capellacore:IntegerPropertyValue)</span></h1><table><tr><th style=\"text-align: right;\">applied_property_value_groups</th><td style=\"text-align: left;\"><p><em>(Empty list)</em></p></td></tr><tr><th style=\"text-align: right;\">applied_property_values</th><td style=\"text-align: left;\"><p><em>(Empty list)</em></p></td></tr><tr><th style=\"text-align: right;\">constraints</th><td style=\"text-align: left;\"><p><em>(Empty list)</em></p></td></tr><tr><th style=\"text-align: right;\">description</th><td style=\"text-align: left;\"></td></tr><tr><th style=\"text-align: right;\">diagrams</th><td style=\"text-align: left;\"><p><em>(Empty list)</em></p></td></tr><tr><th style=\"text-align: right;\">enumerations</th><td style=\"text-align: left;\"><p><em>(Empty list)</em></p></td></tr><tr><th style=\"text-align: right;\">filtering_criteria</th><td style=\"text-align: left;\"><p><em>(Empty list)</em></p></td></tr><tr><th style=\"text-align: right;\">layer</th><td style=\"text-align: left;\"><strong>LogicalArchitecture</strong> <a href=\"hlink://853cb005-cba0-489b-8fe3-bb694ad4543b\">&quot;Logical Architecture&quot;</a> (853cb005-cba0-489b-8fe3-bb694ad4543b)</td></tr><tr><th style=\"text-align: right;\">name</th><td style=\"text-align: left;\">cars_defeated</td></tr><tr><th style=\"text-align: right;\">parent</th><td style=\"text-align: left;\"><img src=\"data:image/svg+xml;base64,PHN2ZyBiYXNlUHJvZmlsZT0iZnVsbCIgaGVpZ2h0PSIxMDAlIiB2ZXJzaW9uPSIxLjEiIHZpZXdCb3g9IjAgMCAxNSAxNSIgd2lkdGg9IjEwMCUiIHhtbG5zPSJodHRwOi8vd3d3LnczLm9yZy8yMDAwL3N2ZyIgeG1sbnM6ZXY9Imh0dHA6Ly93d3cudzMub3JnLzIwMDEveG1sLWV2ZW50cyIgeG1sbnM6eGxpbms9Imh0dHA6Ly93d3cudzMub3JnLzE5OTkveGxpbmsiPjxkZWZzPjxzeW1ib2wgaWQ9IkxvZ2ljYWxIdW1hbkNvbXBvbmVudFN5bWJvbCIgc3Ryb2tlPSIjMDAwIiBzdHJva2Utd2lkdGg9IjIiIHZpZXdCb3g9IjAgMCA3OSA3OSI+PHBhdGggZD0iTTE4IDIzN2g0NnY0M0gxOHoiIGZpbGw9IiNkYmU2ZjQiIHRyYW5zZm9ybT0idHJhbnNsYXRlKDAgLTIxOCkiIC8+PHBhdGggZD0iTTEyIDI0N2gxMXY4SDEyeiIgZmlsbD0iI2RiZTZmNCIgdHJhbnNmb3JtPSJ0cmFuc2xhdGUoMCAtMjE4KSIgLz48cGF0aCBkPSJNMTIgMjYxaDExdjhIMTJ6IiBmaWxsPSIjZGJlNmY0IiB0cmFuc2Zvcm09InRyYW5zbGF0ZSgwIC0yMTgpIiAvPjx1c2UgdHJhbnNmb3JtPSJtYXRyaXgoMC42MiwwLDAsMC42MiwyMy44MiwxNi41MSkiIHhsaW5rOmhyZWY9IiNTdGlja0ZpZ3VyZVN5bWJvbCIgLz48L3N5bWJvbD48c3ltYm9sIGlkPSJTdGlja0ZpZ3VyZVN5bWJvbCIgc3Ryb2tlPSIjMDAwIiBzdHJva2Utd2lkdGg9IjIiIHZpZXdCb3g9IjM2Mi44NjEgMjEwLjg5MiA3NSA3NSI+PGcgc3Ryb2tlPSIjMDAwIiBzdHJva2Utd2lkdGg9IjIuNDk0NCIgdHJhbnNmb3JtPSJtYXRyaXgoMS4wNjExMzM4LDAsMCwxLjA2MTEzMzgsLTI0LjQ3NjY1LC0xMi4yNDE2NzMpIj48bGluZSBmaWxsPSJub25lIiB4MT0iNDAwLjM2MiIgeDI9IjQwMC4zNjIiIHkxPSIyMzIuNTg2IiB5Mj0iMjU3LjUzNCIgLz48bGluZSBmaWxsPSJub25lIiB4MT0iNDAwLjgzNDAxIiB4Mj0iMzg4LjQyMyIgeTE9IjI1NC4yOTkiIHkyPSIyNzUuMDA5IiAvPjxsaW5lIGZpbGw9Im5vbmUiIHgxPSI0MDAuMjUyMDEiIHgyPSI0MTMuOTciIHkxPSIyNTQuNDYwMDEiIHkyPSIyNzQuOTg3IiAvPjxsaW5lIGZpbGw9Im5vbmUiIHgxPSIzODUuNjM0IiB4Mj0iNDE1LjcwMyIgeTE9IjI0NC41NjkiIHkyPSIyNDQuNDk2OTkiIC8+PGVsbGlwc2UgY3g9IjQwMC41MzIwMSIgY3k9IjIyMy4zNTg5OSIgZmlsbD0ibm9uZSIgcng9IjkuMjE4MDAwNCIgcnk9IjguNTA4MDAwNCIgLz48L2c+PC9zeW1ib2w+PC9kZWZzPjx1c2UgaGVpZ2h0PSIxNSIgd2lkdGg9IjE1IiB4PSIwIiB4bGluazpocmVmPSIjU3RpY2tGaWd1cmVTeW1ib2wiIHk9IjAiIC8+PC9zdmc+\" alt=\"LogicalComponent\" title=\"LogicalComponent\" width=\"15\" height=\"15\" style=\"display: inline-block\"> <a href=\"hlink://3bdd4fa2-5646-44a1-9fa6-80c68433ddb7\">&quot;Whomping Willow&quot;</a> (3bdd4fa2-5646-44a1-9fa6-80c68433ddb7)</td></tr><tr><th style=\"text-align: right;\">progress_status</th><td style=\"text-align: left;\">NOT_SET</td></tr><tr><th style=\"text-align: right;\">property_value_groups</th><td style=\"text-align: left;\"><p><em>(Empty list)</em></p></td></tr><tr><th style=\"text-align: right;\">property_values</th><td style=\"text-align: left;\"><p><em>(Empty list)</em></p></td></tr><tr><th style=\"text-align: right;\">pvmt</th><td style=\"text-align: left;\">Property Value Management for <strong>IntegerPropertyValue</strong> <a href=\"hlink://a928fa22-cef7-4357-9b87-675a432f6591\">&quot;cars_defeated&quot;</a>: 1 (a928fa22-cef7-4357-9b87-675a432f6591)</td></tr><tr><th style=\"text-align: right;\">requirements</th><td style=\"text-align: left;\"><p><em>(Empty list)</em></p></td></tr><tr><th style=\"text-align: right;\">summary</th><td style=\"text-align: left;\"><em>None</em></td></tr><tr><th style=\"text-align: right;\">traces</th><td style=\"text-align: left;\"><p><em>(Empty list)</em></p></td></tr><tr><th style=\"text-align: right;\">uuid</th><td style=\"text-align: left;\">a928fa22-cef7-4357-9b87-675a432f6591</td></tr><tr><th style=\"text-align: right;\">validation</th><td style=\"text-align: left;\"><em>&lt;capellambse.extensions.validation._validate.ElementValidation object at 0x720dec0f03b0&gt;</em></td></tr><tr><th style=\"text-align: right;\">value</th><td style=\"text-align: left;\"><em>1</em></td></tr><tr><th style=\"text-align: right;\">xtype</th><td style=\"text-align: left;\">org.polarsys.capella.core.data.capellacore:IntegerPropertyValue</td></tr></table>"
      ],
      "text/plain": [
       "<IntegerPropertyValue 'cars_defeated' (a928fa22-cef7-4357-9b87-675a432f6591)>\n",
       ".applied_property_value_groups = []\n",
       ".applied_property_values = []\n",
       ".constraints = []\n",
       ".description = ''\n",
       ".diagrams = []\n",
       ".enumerations = []\n",
       ".filtering_criteria = []\n",
       ".layer = <LogicalArchitecture 'Logical Architecture' (853cb005-cba0-489b-8fe3-bb694ad4543b)>\n",
       ".name = 'cars_defeated'\n",
       ".parent = <LogicalComponent 'Whomping Willow' (3bdd4fa2-5646-44a1-9fa6-80c68433ddb7)>\n",
       ".progress_status = 'NOT_SET'\n",
       ".property_value_groups = []\n",
       ".property_values = []\n",
       ".pvmt = <Property Value Management for <IntegerPropertyValue 'cars_defeated' (a928fa22-cef7-4357-9b87-675a432f6591)>>\n",
       ".requirements = []\n",
       ".summary = None\n",
       ".traces = []\n",
       ".uuid = 'a928fa22-cef7-4357-9b87-675a432f6591'\n",
       ".validation = <capellambse.extensions.validation._validate.ElementValidation object at 0x720dec286360>\n",
       ".value = 1\n",
       ".xtype = 'org.polarsys.capella.core.data.capellacore:IntegerPropertyValue'"
      ]
     },
     "execution_count": 4,
     "metadata": {},
     "output_type": "execute_result"
    }
   ],
   "source": [
    "obj.property_values[0]"
   ]
  },
  {
   "cell_type": "code",
   "execution_count": 5,
   "id": "3c105268",
   "metadata": {},
   "outputs": [
    {
     "data": {
      "text/html": [
       "<ol start=\"0\" style=\"text-align: left;\"><li><strong>PropertyValueGroup</strong> <a href=\"hlink://81bcc3d3-24d2-411e-a296-9943029acfd9\">&quot;Stats&quot;</a> (81bcc3d3-24d2-411e-a296-9943029acfd9)</li></ol>"
      ],
      "text/plain": [
       "[0] <PropertyValueGroup 'Stats' (81bcc3d3-24d2-411e-a296-9943029acfd9)>"
      ]
     },
     "execution_count": 5,
     "metadata": {},
     "output_type": "execute_result"
    }
   ],
   "source": [
    "obj.property_value_groups"
   ]
  },
  {
   "cell_type": "markdown",
   "id": "06426fae",
   "metadata": {},
   "source": [
    "## dict-like access to property values\n",
    "\n",
    "In addition to standard attribute-based access, these property value-related attributes can also behave like dicts in some cases. Here the dict key equates to the `name` of a property value or group, and the dict value equates to either the `value` of a property value object, or a list of PV objects in the group (which again can behave dict-like)."
   ]
  },
  {
   "cell_type": "markdown",
   "id": "574022f7",
   "metadata": {},
   "source": [
    "This significantly shortens the way to a specific value. For comparison, this would be the \"usual\" attribute-based way of accessing it:"
   ]
  },
  {
   "cell_type": "code",
   "execution_count": 6,
   "id": "a10cf035",
   "metadata": {},
   "outputs": [
    {
     "data": {
      "text/plain": [
       "150"
      ]
     },
     "execution_count": 6,
     "metadata": {},
     "output_type": "execute_result"
    }
   ],
   "source": [
    "obj.property_value_groups.by_name(\"Stats\").property_values.by_name(\"WIS\").value"
   ]
  },
  {
   "cell_type": "markdown",
   "id": "12800ba6",
   "metadata": {},
   "source": [
    "And here is the same again, leveraging the dict-like behavior:"
   ]
  },
  {
   "cell_type": "code",
   "execution_count": 7,
   "id": "0e03011b",
   "metadata": {},
   "outputs": [
    {
     "data": {
      "text/plain": [
       "150"
      ]
     },
     "execution_count": 7,
     "metadata": {},
     "output_type": "execute_result"
    }
   ],
   "source": [
    "obj.property_value_groups[\"Stats\"][\"WIS\"]"
   ]
  },
  {
   "cell_type": "markdown",
   "id": "3e8f3666",
   "metadata": {},
   "source": [
    "This of course also works for ungrouped property values:"
   ]
  },
  {
   "cell_type": "code",
   "execution_count": 8,
   "id": "c56a533f",
   "metadata": {},
   "outputs": [
    {
     "data": {
      "text/plain": [
       "1"
      ]
     },
     "execution_count": 8,
     "metadata": {},
     "output_type": "execute_result"
    }
   ],
   "source": [
    "obj.property_values[\"cars_defeated\"]"
   ]
  },
  {
   "cell_type": "code",
   "execution_count": 9,
   "id": "2cc26810",
   "metadata": {},
   "outputs": [
    {
     "data": {
      "text/html": [
       "<ol start=\"0\" style=\"text-align: left;\"><li><strong>IntegerPropertyValue</strong> <a href=\"hlink://0e95950d-272f-4b50-b68d-ee8fed002c94\">&quot;HP&quot;</a>: 8000 (0e95950d-272f-4b50-b68d-ee8fed002c94)</li><li><strong>IntegerPropertyValue</strong> <a href=\"hlink://32be6f26-4b33-4861-b501-3bfce3df94cb\">&quot;STR&quot;</a>: 42 (32be6f26-4b33-4861-b501-3bfce3df94cb)</li><li><strong>IntegerPropertyValue</strong> <a href=\"hlink://addb1e4a-9ecc-411c-b7ef-b76388e5840d\">&quot;AGI&quot;</a>: 0 (addb1e4a-9ecc-411c-b7ef-b76388e5840d)</li><li><strong>IntegerPropertyValue</strong> <a href=\"hlink://7c8c9c21-86b9-4dba-9c7c-cd9db2f09c11\">&quot;WIS&quot;</a>: 150 (7c8c9c21-86b9-4dba-9c7c-cd9db2f09c11)</li><li><strong>IntegerPropertyValue</strong> <a href=\"hlink://647a5565-a1de-4e15-ab21-eb628eea413c\">&quot;INT&quot;</a>: 12 (647a5565-a1de-4e15-ab21-eb628eea413c)</li></ol>"
      ],
      "text/plain": [
       "[0] <IntegerPropertyValue 'HP' (0e95950d-272f-4b50-b68d-ee8fed002c94)>\n",
       "[1] <IntegerPropertyValue 'STR' (32be6f26-4b33-4861-b501-3bfce3df94cb)>\n",
       "[2] <IntegerPropertyValue 'AGI' (addb1e4a-9ecc-411c-b7ef-b76388e5840d)>\n",
       "[3] <IntegerPropertyValue 'WIS' (7c8c9c21-86b9-4dba-9c7c-cd9db2f09c11)>\n",
       "[4] <IntegerPropertyValue 'INT' (647a5565-a1de-4e15-ab21-eb628eea413c)>"
      ]
     },
     "execution_count": 9,
     "metadata": {},
     "output_type": "execute_result"
    }
   ],
   "source": [
    "obj.property_value_groups[\"Stats\"]"
   ]
  },
  {
   "cell_type": "code",
   "execution_count": 10,
   "id": "b7943324",
   "metadata": {},
   "outputs": [
    {
     "data": {
      "text/plain": [
       "150"
      ]
     },
     "execution_count": 10,
     "metadata": {},
     "output_type": "execute_result"
    }
   ],
   "source": [
    "obj.property_value_groups[\"Stats\"][\"WIS\"]"
   ]
  },
  {
   "cell_type": "markdown",
   "id": "65b98527",
   "metadata": {},
   "source": [
    "These property values can also be written to:"
   ]
  },
  {
   "cell_type": "code",
   "execution_count": 11,
   "id": "b34fdf10",
   "metadata": {},
   "outputs": [
    {
     "data": {
      "text/html": [
       "<ol start=\"0\" style=\"text-align: left;\"><li><strong>IntegerPropertyValue</strong> <a href=\"hlink://0e95950d-272f-4b50-b68d-ee8fed002c94\">&quot;HP&quot;</a>: 8000 (0e95950d-272f-4b50-b68d-ee8fed002c94)</li><li><strong>IntegerPropertyValue</strong> <a href=\"hlink://32be6f26-4b33-4861-b501-3bfce3df94cb\">&quot;STR&quot;</a>: 42 (32be6f26-4b33-4861-b501-3bfce3df94cb)</li><li><strong>IntegerPropertyValue</strong> <a href=\"hlink://addb1e4a-9ecc-411c-b7ef-b76388e5840d\">&quot;AGI&quot;</a>: 0 (addb1e4a-9ecc-411c-b7ef-b76388e5840d)</li><li><strong>IntegerPropertyValue</strong> <a href=\"hlink://7c8c9c21-86b9-4dba-9c7c-cd9db2f09c11\">&quot;WIS&quot;</a>: 150 (7c8c9c21-86b9-4dba-9c7c-cd9db2f09c11)</li><li><strong>IntegerPropertyValue</strong> <a href=\"hlink://647a5565-a1de-4e15-ab21-eb628eea413c\">&quot;INT&quot;</a>: 18 (647a5565-a1de-4e15-ab21-eb628eea413c)</li></ol>"
      ],
      "text/plain": [
       "[0] <IntegerPropertyValue 'HP' (0e95950d-272f-4b50-b68d-ee8fed002c94)>\n",
       "[1] <IntegerPropertyValue 'STR' (32be6f26-4b33-4861-b501-3bfce3df94cb)>\n",
       "[2] <IntegerPropertyValue 'AGI' (addb1e4a-9ecc-411c-b7ef-b76388e5840d)>\n",
       "[3] <IntegerPropertyValue 'WIS' (7c8c9c21-86b9-4dba-9c7c-cd9db2f09c11)>\n",
       "[4] <IntegerPropertyValue 'INT' (647a5565-a1de-4e15-ab21-eb628eea413c)>"
      ]
     },
     "execution_count": 11,
     "metadata": {},
     "output_type": "execute_result"
    }
   ],
   "source": [
    "obj.property_value_groups[\"Stats\"][\"INT\"] = 18\n",
    "obj.property_value_groups[\"Stats\"]"
   ]
  },
  {
   "cell_type": "markdown",
   "id": "75aa67fd-ab50-4796-8290-1c8c675a599f",
   "metadata": {},
   "source": [
    "# Property Value Management (PVMT)\n",
    "\n",
    "Property values become much more powerful when using the [Property Value Management Tool extension](https://github.com/eclipse-capella/capella/wiki/PVMT). This extension groups property values into domains and groups, and allows to automatically apply certain groups based on specific conditions. These conditions may include the object class, the architectural layer, and other already applied property values.\n",
    "\n",
    "Metadata about the defined domains and groups is stored in a package named \"EXTENSIONS\" at the root level of the model, which is conveniently accessible as `model.pvmt`. The package will automatically be created if it does not exist yet."
   ]
  },
  {
   "cell_type": "code",
   "execution_count": 12,
   "id": "eda8206e-0272-4629-b467-b0cd1d959113",
   "metadata": {
    "scrolled": true
   },
   "outputs": [
    {
     "data": {
      "text/html": [
       "<h1>EXTENSIONS <span style=\"font-size: 70%;\">(org.polarsys.capella.core.data.capellacore:PropertyValuePkg)</span></h1><table><tr><th style=\"text-align: right;\">applied_property_value_groups</th><td style=\"text-align: left;\"><p><em>(Empty list)</em></p></td></tr><tr><th style=\"text-align: right;\">applied_property_values</th><td style=\"text-align: left;\"><p><em>(Empty list)</em></p></td></tr><tr><th style=\"text-align: right;\">constraints</th><td style=\"text-align: left;\"><p><em>(Empty list)</em></p></td></tr><tr><th style=\"text-align: right;\">description</th><td style=\"text-align: left;\"></td></tr><tr><th style=\"text-align: right;\">diagrams</th><td style=\"text-align: left;\"><p><em>(Empty list)</em></p></td></tr><tr><th style=\"text-align: right;\">domains</th><td style=\"text-align: left;\"><ol start=\"0\" style=\"text-align: left;\"><li><strong>ManagedDomain</strong> <a href=\"hlink://3763dd54-a878-446a-9330-b5d9c7121865\">&quot;DarkMagic&quot;</a> (3763dd54-a878-446a-9330-b5d9c7121865)</li></ol></td></tr><tr><th style=\"text-align: right;\">filtering_criteria</th><td style=\"text-align: left;\"><p><em>(Empty list)</em></p></td></tr><tr><th style=\"text-align: right;\">name</th><td style=\"text-align: left;\">EXTENSIONS</td></tr><tr><th style=\"text-align: right;\">parent</th><td style=\"text-align: left;\"><em>&lt;capellambse.model.MelodyModel object at 0x720df69da180&gt;</em></td></tr><tr><th style=\"text-align: right;\">progress_status</th><td style=\"text-align: left;\">NOT_SET</td></tr><tr><th style=\"text-align: right;\">property_value_groups</th><td style=\"text-align: left;\"><p><em>(Empty list)</em></p></td></tr><tr><th style=\"text-align: right;\">property_values</th><td style=\"text-align: left;\"><p><em>(Empty list)</em></p></td></tr><tr><th style=\"text-align: right;\">pvmt</th><td style=\"text-align: left;\">Property Value Management for <strong>PropertyValuePkg</strong> <a href=\"hlink://fdbeb3b8-e1e2-4c6d-aff4-bccb1b9f437f\">&quot;EXTENSIONS&quot;</a> (fdbeb3b8-e1e2-4c6d-aff4-bccb1b9f437f)</td></tr><tr><th style=\"text-align: right;\">requirements</th><td style=\"text-align: left;\"><p><em>(Empty list)</em></p></td></tr><tr><th style=\"text-align: right;\">summary</th><td style=\"text-align: left;\"><em>None</em></td></tr><tr><th style=\"text-align: right;\">traces</th><td style=\"text-align: left;\"><p><em>(Empty list)</em></p></td></tr><tr><th style=\"text-align: right;\">uuid</th><td style=\"text-align: left;\">fdbeb3b8-e1e2-4c6d-aff4-bccb1b9f437f</td></tr><tr><th style=\"text-align: right;\">validation</th><td style=\"text-align: left;\"><em>&lt;capellambse.extensions.validation._validate.ElementValidation object at 0x720dec2e55b0&gt;</em></td></tr><tr><th style=\"text-align: right;\">xtype</th><td style=\"text-align: left;\">org.polarsys.capella.core.data.capellacore:PropertyValuePkg</td></tr></table>"
      ],
      "text/plain": [
       "<PVMTConfiguration 'EXTENSIONS' (fdbeb3b8-e1e2-4c6d-aff4-bccb1b9f437f)>\n",
       ".applied_property_value_groups = []\n",
       ".applied_property_values = []\n",
       ".constraints = []\n",
       ".description = ''\n",
       ".diagrams = []\n",
       ".domains = [0] <ManagedDomain 'DarkMagic' (3763dd54-a878-446a-9330-b5d9c7121865)>\n",
       ".filtering_criteria = []\n",
       ".name = 'EXTENSIONS'\n",
       ".parent = <capellambse.model.MelodyModel object at 0x720df69da180>\n",
       ".progress_status = 'NOT_SET'\n",
       ".property_value_groups = []\n",
       ".property_values = []\n",
       ".pvmt = <Property Value Management for <PropertyValuePkg 'EXTENSIONS' (fdbeb3b8-e1e2-4c6d-aff4-bccb1b9f437f)>>\n",
       ".requirements = []\n",
       ".summary = None\n",
       ".traces = []\n",
       ".uuid = 'fdbeb3b8-e1e2-4c6d-aff4-bccb1b9f437f'\n",
       ".validation = <capellambse.extensions.validation._validate.ElementValidation object at 0x720dee1403b0>\n",
       ".xtype = 'org.polarsys.capella.core.data.capellacore:PropertyValuePkg'"
      ]
     },
     "execution_count": 12,
     "metadata": {},
     "output_type": "execute_result"
    }
   ],
   "source": [
    "model.pvmt"
   ]
  },
  {
   "cell_type": "markdown",
   "id": "d87329f6-506f-4c92-8724-36ac6eed8ef6",
   "metadata": {},
   "source": [
    "From there, we can easily enumerate the defined domains:"
   ]
  },
  {
   "cell_type": "code",
   "execution_count": 13,
   "id": "2752918c-940a-46c5-916d-5a5bf0adac43",
   "metadata": {},
   "outputs": [
    {
     "data": {
      "text/html": [
       "<ol start=\"0\" style=\"text-align: left;\"><li><strong>ManagedDomain</strong> <a href=\"hlink://3763dd54-a878-446a-9330-b5d9c7121865\">&quot;DarkMagic&quot;</a> (3763dd54-a878-446a-9330-b5d9c7121865)</li></ol>"
      ],
      "text/plain": [
       "[0] <ManagedDomain 'DarkMagic' (3763dd54-a878-446a-9330-b5d9c7121865)>"
      ]
     },
     "execution_count": 13,
     "metadata": {},
     "output_type": "execute_result"
    }
   ],
   "source": [
    "model.pvmt.domains"
   ]
  },
  {
   "cell_type": "markdown",
   "id": "812d4830-212b-46f1-aead-984d5041152e",
   "metadata": {},
   "source": [
    "And see which groups are defined in that domain:"
   ]
  },
  {
   "cell_type": "code",
   "execution_count": 14,
   "id": "542d35f7-826c-4275-b166-d7ecbcbe9a8c",
   "metadata": {},
   "outputs": [
    {
     "data": {
      "text/html": [
       "<ol start=\"0\" style=\"text-align: left;\"><li><strong>ManagedGroup</strong> <a href=\"hlink://1e241678-282c-46f3-abbd-e0cf34e743ee\">&quot;DarkMagic.Power&quot;</a> (1e241678-282c-46f3-abbd-e0cf34e743ee)</li><li><strong>ManagedGroup</strong> <a href=\"hlink://a0cb5a23-955e-43d6-a633-2c4e66991364\">&quot;DarkMagic.Power Level&quot;</a> (a0cb5a23-955e-43d6-a633-2c4e66991364)</li></ol>"
      ],
      "text/plain": [
       "[0] <ManagedGroup 'Power' (1e241678-282c-46f3-abbd-e0cf34e743ee)>\n",
       "[1] <ManagedGroup 'Power Level' (a0cb5a23-955e-43d6-a633-2c4e66991364)>"
      ]
     },
     "execution_count": 14,
     "metadata": {},
     "output_type": "execute_result"
    }
   ],
   "source": [
    "domain = model.pvmt.domains[\"DarkMagic\"]\n",
    "domain.groups"
   ]
  },
  {
   "cell_type": "code",
   "execution_count": 15,
   "id": "255adbdc-119d-4b1d-9085-31f5b8c42c55",
   "metadata": {
    "scrolled": true
   },
   "outputs": [
    {
     "data": {
      "text/html": [
       "<h1>Power Level <span style=\"font-size: 70%;\">(org.polarsys.capella.core.data.capellacore:PropertyValueGroup)</span></h1><table><tr><th style=\"text-align: right;\">applied_property_value_groups</th><td style=\"text-align: left;\"><p><em>(Empty list)</em></p></td></tr><tr><th style=\"text-align: right;\">applied_property_values</th><td style=\"text-align: left;\"><p><em>(Empty list)</em></p></td></tr><tr><th style=\"text-align: right;\">constraints</th><td style=\"text-align: left;\"><p><em>(Empty list)</em></p></td></tr><tr><th style=\"text-align: right;\">diagrams</th><td style=\"text-align: left;\"><p><em>(Empty list)</em></p></td></tr><tr><th style=\"text-align: right;\">filtering_criteria</th><td style=\"text-align: left;\"><p><em>(Empty list)</em></p></td></tr><tr><th style=\"text-align: right;\">fullname</th><td style=\"text-align: left;\">DarkMagic.Power Level</td></tr><tr><th style=\"text-align: right;\">name</th><td style=\"text-align: left;\">Power Level</td></tr><tr><th style=\"text-align: right;\">parent</th><td style=\"text-align: left;\"><strong>PropertyValuePkg</strong> <a href=\"hlink://3763dd54-a878-446a-9330-b5d9c7121865\">&quot;DarkMagic&quot;</a> (3763dd54-a878-446a-9330-b5d9c7121865)</td></tr><tr><th style=\"text-align: right;\">progress_status</th><td style=\"text-align: left;\">NOT_SET</td></tr><tr><th style=\"text-align: right;\">property_value_groups</th><td style=\"text-align: left;\"><p><em>(Empty list)</em></p></td></tr><tr><th style=\"text-align: right;\">property_values</th><td style=\"text-align: left;\"><ol start=\"0\" style=\"text-align: left;\"><li><strong>EnumerationPropertyValue</strong> <a href=\"hlink://7367c731-aabb-4807-9d74-7ef2c6482ec9\">&quot;Skill&quot;</a>: <strong>EnumerationPropertyLiteral</strong> <a href=\"hlink://4da42696-28e2-4f90-bfb6-90ba1fc52d01\">&quot;TheOneWhoShallNotBeNamed&quot;</a> (4da42696-28e2-4f90-bfb6-90ba1fc52d01) (7367c731-aabb-4807-9d74-7ef2c6482ec9)</li></ol></td></tr><tr><th style=\"text-align: right;\">pvmt</th><td style=\"text-align: left;\">Property Value Management for <strong>PropertyValueGroup</strong> <a href=\"hlink://a0cb5a23-955e-43d6-a633-2c4e66991364\">&quot;Power Level&quot;</a> (a0cb5a23-955e-43d6-a633-2c4e66991364)</td></tr><tr><th style=\"text-align: right;\">requirements</th><td style=\"text-align: left;\"><p><em>(Empty list)</em></p></td></tr><tr><th style=\"text-align: right;\">selector</th><td style=\"text-align: left;\"><em>SelectorRules(raw=&#39;[PROPERTY]DarkMagic.Power.Max&lt;10000.0[/PROPERTY]\\n[ARCHITECTURE]LOGICAL[/ARCHITECTURE]&#39;)</em></td></tr><tr><th style=\"text-align: right;\">summary</th><td style=\"text-align: left;\"><em>None</em></td></tr><tr><th style=\"text-align: right;\">traces</th><td style=\"text-align: left;\"><p><em>(Empty list)</em></p></td></tr><tr><th style=\"text-align: right;\">uuid</th><td style=\"text-align: left;\">a0cb5a23-955e-43d6-a633-2c4e66991364</td></tr><tr><th style=\"text-align: right;\">validation</th><td style=\"text-align: left;\"><em>&lt;capellambse.extensions.validation._validate.ElementValidation object at 0x720dec0f1850&gt;</em></td></tr><tr><th style=\"text-align: right;\">xtype</th><td style=\"text-align: left;\">org.polarsys.capella.core.data.capellacore:PropertyValueGroup</td></tr></table>"
      ],
      "text/plain": [
       "<ManagedGroup 'Power Level' (a0cb5a23-955e-43d6-a633-2c4e66991364)>\n",
       ".applied_property_value_groups = []\n",
       ".applied_property_values = []\n",
       ".constraints = []\n",
       ".diagrams = []\n",
       ".filtering_criteria = []\n",
       ".fullname = 'DarkMagic.Power Level'\n",
       ".name = 'Power Level'\n",
       ".parent = <PropertyValuePkg 'DarkMagic' (3763dd54-a878-446a-9330-b5d9c7121865)>\n",
       ".progress_status = 'NOT_SET'\n",
       ".property_value_groups = []\n",
       ".property_values = [0] <EnumerationPropertyValue 'Skill' (7367c731-aabb-4807-9d74-7ef2c6482ec9)>\n",
       ".pvmt = <Property Value Management for <PropertyValueGroup 'Power Level' (a0cb5a23-955e-43d6-a633-2c4e66991364)>>\n",
       ".requirements = []\n",
       ".selector = SelectorRules(raw='[PROPERTY]DarkMagic.Power.Max<10000.0[/PROPERTY]\\n[ARCHITECTURE]LOGICAL[/ARCHITECTURE]')\n",
       ".summary = None\n",
       ".traces = []\n",
       ".uuid = 'a0cb5a23-955e-43d6-a633-2c4e66991364'\n",
       ".validation = <capellambse.extensions.validation._validate.ElementValidation object at 0x720df5d45fa0>\n",
       ".xtype = 'org.polarsys.capella.core.data.capellacore:PropertyValueGroup'"
      ]
     },
     "execution_count": 15,
     "metadata": {},
     "output_type": "execute_result"
    }
   ],
   "source": [
    "group = domain.groups[\"Power Level\"]\n",
    "group"
   ]
  },
  {
   "cell_type": "markdown",
   "id": "f6ac05bf-5146-432a-b0c9-70adfee5cc78",
   "metadata": {},
   "source": [
    "Group definitions also have a `selector`, which contains rules that determine the applicable model elements.\n",
    "\n",
    "The current ruleset can be introspected by reading the attributes of the `selector`:"
   ]
  },
  {
   "cell_type": "code",
   "execution_count": 16,
   "id": "4d5fb68e-117c-43fb-9ab0-abcfa83df53b",
   "metadata": {},
   "outputs": [
    {
     "name": "stdout",
     "output_type": "stream",
     "text": [
      "()\n",
      "(<class 'capellambse.model.layers.la.LogicalArchitecture'>,)\n",
      "(('DarkMagic.Power.Max', '<', '10000.0'),)\n"
     ]
    }
   ],
   "source": [
    "print(group.selector.classes)\n",
    "print(group.selector.layers)\n",
    "print(group.selector.properties)"
   ]
  },
  {
   "cell_type": "markdown",
   "id": "c94d0ad0-827e-4597-8ffc-9bb9b35f18f0",
   "metadata": {},
   "source": [
    "The ManagedGroup object provides some helper methods that interpret this selector:"
   ]
  },
  {
   "cell_type": "code",
   "execution_count": 17,
   "id": "c7e0e417-6356-4839-ac70-f6c03439045a",
   "metadata": {},
   "outputs": [
    {
     "data": {
      "text/plain": [
       "\u001b[0;31mSignature:\u001b[0m \u001b[0mgroup\u001b[0m\u001b[0;34m.\u001b[0m\u001b[0mfind_applicable\u001b[0m\u001b[0;34m(\u001b[0m\u001b[0;34m)\u001b[0m \u001b[0;34m->\u001b[0m \u001b[0;34m'c.ElementList'\u001b[0m\u001b[0;34m\u001b[0m\u001b[0;34m\u001b[0m\u001b[0m\n",
       "\u001b[0;31mDocstring:\u001b[0m Find all elements in the model that this group applies to.\n",
       "\u001b[0;31mFile:\u001b[0m      ~/devspace/capellambse/capellambse/extensions/pvmt/_config.py\n",
       "\u001b[0;31mType:\u001b[0m      method"
      ]
     },
     "metadata": {},
     "output_type": "display_data"
    }
   ],
   "source": [
    "?group.find_applicable"
   ]
  },
  {
   "cell_type": "code",
   "execution_count": 18,
   "id": "59f8b642-1da4-4637-81bb-a29b8ab56347",
   "metadata": {},
   "outputs": [
    {
     "data": {
      "text/html": [
       "<ol start=\"0\" style=\"text-align: left;\"><li><img src=\"data:image/svg+xml;base64,PHN2ZyBiYXNlUHJvZmlsZT0iZnVsbCIgaGVpZ2h0PSIxMDAlIiB2ZXJzaW9uPSIxLjEiIHZpZXdCb3g9IjAgMCAxNSAxNSIgd2lkdGg9IjEwMCUiIHhtbG5zPSJodHRwOi8vd3d3LnczLm9yZy8yMDAwL3N2ZyIgeG1sbnM6ZXY9Imh0dHA6Ly93d3cudzMub3JnLzIwMDEveG1sLWV2ZW50cyIgeG1sbnM6eGxpbms9Imh0dHA6Ly93d3cudzMub3JnLzE5OTkveGxpbmsiPjxkZWZzPjxzeW1ib2wgaWQ9IkxvZ2ljYWxBY3RvclN5bWJvbCIgc3Ryb2tlPSIjMDAwIiBzdHJva2Utd2lkdGg9IjIiIHZpZXdCb3g9IjAgMCA3OSA3OSI+PHBhdGggZD0iTTE4IDIzN2g0NnY0M0gxOHoiIGZpbGw9IiNkYmU2ZjQiIHRyYW5zZm9ybT0idHJhbnNsYXRlKDAgLTIxOCkiIC8+PHBhdGggZD0iTTEyIDI0N2gxMXY4SDEyeiIgZmlsbD0iI2RiZTZmNCIgdHJhbnNmb3JtPSJ0cmFuc2xhdGUoMCAtMjE4KSIgLz48cGF0aCBkPSJNMTIgMjYxaDExdjhIMTJ6IiBmaWxsPSIjZGJlNmY0IiB0cmFuc2Zvcm09InRyYW5zbGF0ZSgwIC0yMTgpIiAvPjxnIGZpbGw9IiMwMDAiIHN0cm9rZS13aWR0aD0iMC4xIiB0cmFuc2Zvcm09InNjYWxlKDAuODMwMTA4OTYsMS4yMDQ2NjExKSI+PHBhdGggZD0ibSAzMS4wNjM2NzYsMTkuOTQyNjI4IGggMy43NTQ0MjcgdiAyNi43NTk0OTQgaCAtMy43NTQ0MjcgeiBtIDEuODc3MjEzLDIzLjE4OTEwNyBoIDE1LjMxMjE3MyB2IDMuNTcwMzg3IEggMzIuOTQwODg5IFoiIC8+PHBhdGggZD0ibSA2MC4zMjYxMiwxOS45NDI2MjggaCAzLjIwMjMwNiBsIDkuODY0NTcyLDI2Ljc1OTQ5NCBIIDY5LjM0NDEwNyBMIDYxLjkyNzI3MywyNS4xMTQxNjcgNTQuNTEwNDQsNDYuNzAyMTIyIEggNTAuNDYxNTQ4IFogTSA1NS4wMDczNDksMzcuMjYwODQyIEggNjkuMDg2NDUgdiAzLjU3MDM4NyBIIDU1LjAwNzM0OSBaIiAvPjwvZz48L3N5bWJvbD48L2RlZnM+PHVzZSBoZWlnaHQ9IjE1IiB3aWR0aD0iMTUiIHg9IjAiIHhsaW5rOmhyZWY9IiNMb2dpY2FsQWN0b3JTeW1ib2wiIHk9IjAiIC8+PC9zdmc+\" alt=\"LogicalComponent\" title=\"LogicalComponent\" width=\"15\" height=\"15\" style=\"display: inline-block\"> <a href=\"hlink://a8c46457-a702-41c4-a971-c815c4c5a674\">&quot;Harry J. Potter&quot;</a> (a8c46457-a702-41c4-a971-c815c4c5a674)</li><li><img src=\"data:image/svg+xml;base64,PHN2ZyBiYXNlUHJvZmlsZT0iZnVsbCIgaGVpZ2h0PSIxMDAlIiB2ZXJzaW9uPSIxLjEiIHZpZXdCb3g9IjAgMCAxNSAxNSIgd2lkdGg9IjEwMCUiIHhtbG5zPSJodHRwOi8vd3d3LnczLm9yZy8yMDAwL3N2ZyIgeG1sbnM6ZXY9Imh0dHA6Ly93d3cudzMub3JnLzIwMDEveG1sLWV2ZW50cyIgeG1sbnM6eGxpbms9Imh0dHA6Ly93d3cudzMub3JnLzE5OTkveGxpbmsiPjxkZWZzPjxzeW1ib2wgaWQ9IkxvZ2ljYWxIdW1hbkFjdG9yU3ltYm9sIiBzdHJva2U9IiMwMDAiIHN0cm9rZS13aWR0aD0iMiIgdmlld0JveD0iMCAwIDc5IDc5Ij48dXNlIHRyYW5zZm9ybT0ibWF0cml4KDAuODE3NjI0NTYsMCwwLDAuODE3NjI0NTYsLTIuNTIwNzU4NCwwLjQ3MDkxNjk2KSIgeGxpbms6aHJlZj0iI1N0aWNrRmlndXJlU3ltYm9sIiAvPjwvc3ltYm9sPjxzeW1ib2wgaWQ9IlN0aWNrRmlndXJlU3ltYm9sIiBzdHJva2U9IiMwMDAiIHN0cm9rZS13aWR0aD0iMiIgdmlld0JveD0iMzYyLjg2MSAyMTAuODkyIDc1IDc1Ij48ZyBzdHJva2U9IiMwMDAiIHN0cm9rZS13aWR0aD0iMi40OTQ0IiB0cmFuc2Zvcm09Im1hdHJpeCgxLjA2MTEzMzgsMCwwLDEuMDYxMTMzOCwtMjQuNDc2NjUsLTEyLjI0MTY3MykiPjxsaW5lIGZpbGw9Im5vbmUiIHgxPSI0MDAuMzYyIiB4Mj0iNDAwLjM2MiIgeTE9IjIzMi41ODYiIHkyPSIyNTcuNTM0IiAvPjxsaW5lIGZpbGw9Im5vbmUiIHgxPSI0MDAuODM0MDEiIHgyPSIzODguNDIzIiB5MT0iMjU0LjI5OSIgeTI9IjI3NS4wMDkiIC8+PGxpbmUgZmlsbD0ibm9uZSIgeDE9IjQwMC4yNTIwMSIgeDI9IjQxMy45NyIgeTE9IjI1NC40NjAwMSIgeTI9IjI3NC45ODciIC8+PGxpbmUgZmlsbD0ibm9uZSIgeDE9IjM4NS42MzQiIHgyPSI0MTUuNzAzIiB5MT0iMjQ0LjU2OSIgeTI9IjI0NC40OTY5OSIgLz48ZWxsaXBzZSBjeD0iNDAwLjUzMjAxIiBjeT0iMjIzLjM1ODk5IiBmaWxsPSJub25lIiByeD0iOS4yMTgwMDA0IiByeT0iOC41MDgwMDA0IiAvPjwvZz48L3N5bWJvbD48L2RlZnM+PHVzZSBoZWlnaHQ9IjE1IiB3aWR0aD0iMTUiIHg9IjAiIHhsaW5rOmhyZWY9IiNTdGlja0ZpZ3VyZVN5bWJvbCIgeT0iMCIgLz48L3N2Zz4=\" alt=\"LogicalComponent\" title=\"LogicalComponent\" width=\"15\" height=\"15\" style=\"display: inline-block\"> <a href=\"hlink://08e02248-504d-4ed8-a295-c7682a614f66\">&quot;Prof. A. P. W. B. Dumbledore&quot;</a> (08e02248-504d-4ed8-a295-c7682a614f66)</li><li><img src=\"data:image/svg+xml;base64,PHN2ZyBiYXNlUHJvZmlsZT0iZnVsbCIgaGVpZ2h0PSIxMDAlIiB2ZXJzaW9uPSIxLjEiIHZpZXdCb3g9IjAgMCAxNSAxNSIgd2lkdGg9IjEwMCUiIHhtbG5zPSJodHRwOi8vd3d3LnczLm9yZy8yMDAwL3N2ZyIgeG1sbnM6ZXY9Imh0dHA6Ly93d3cudzMub3JnLzIwMDEveG1sLWV2ZW50cyIgeG1sbnM6eGxpbms9Imh0dHA6Ly93d3cudzMub3JnLzE5OTkveGxpbmsiPjxkZWZzPjxzeW1ib2wgaWQ9IkxvZ2ljYWxIdW1hbkFjdG9yU3ltYm9sIiBzdHJva2U9IiMwMDAiIHN0cm9rZS13aWR0aD0iMiIgdmlld0JveD0iMCAwIDc5IDc5Ij48dXNlIHRyYW5zZm9ybT0ibWF0cml4KDAuODE3NjI0NTYsMCwwLDAuODE3NjI0NTYsLTIuNTIwNzU4NCwwLjQ3MDkxNjk2KSIgeGxpbms6aHJlZj0iI1N0aWNrRmlndXJlU3ltYm9sIiAvPjwvc3ltYm9sPjxzeW1ib2wgaWQ9IlN0aWNrRmlndXJlU3ltYm9sIiBzdHJva2U9IiMwMDAiIHN0cm9rZS13aWR0aD0iMiIgdmlld0JveD0iMzYyLjg2MSAyMTAuODkyIDc1IDc1Ij48ZyBzdHJva2U9IiMwMDAiIHN0cm9rZS13aWR0aD0iMi40OTQ0IiB0cmFuc2Zvcm09Im1hdHJpeCgxLjA2MTEzMzgsMCwwLDEuMDYxMTMzOCwtMjQuNDc2NjUsLTEyLjI0MTY3MykiPjxsaW5lIGZpbGw9Im5vbmUiIHgxPSI0MDAuMzYyIiB4Mj0iNDAwLjM2MiIgeTE9IjIzMi41ODYiIHkyPSIyNTcuNTM0IiAvPjxsaW5lIGZpbGw9Im5vbmUiIHgxPSI0MDAuODM0MDEiIHgyPSIzODguNDIzIiB5MT0iMjU0LjI5OSIgeTI9IjI3NS4wMDkiIC8+PGxpbmUgZmlsbD0ibm9uZSIgeDE9IjQwMC4yNTIwMSIgeDI9IjQxMy45NyIgeTE9IjI1NC40NjAwMSIgeTI9IjI3NC45ODciIC8+PGxpbmUgZmlsbD0ibm9uZSIgeDE9IjM4NS42MzQiIHgyPSI0MTUuNzAzIiB5MT0iMjQ0LjU2OSIgeTI9IjI0NC40OTY5OSIgLz48ZWxsaXBzZSBjeD0iNDAwLjUzMjAxIiBjeT0iMjIzLjM1ODk5IiBmaWxsPSJub25lIiByeD0iOS4yMTgwMDA0IiByeT0iOC41MDgwMDA0IiAvPjwvZz48L3N5bWJvbD48L2RlZnM+PHVzZSBoZWlnaHQ9IjE1IiB3aWR0aD0iMTUiIHg9IjAiIHhsaW5rOmhyZWY9IiNTdGlja0ZpZ3VyZVN5bWJvbCIgeT0iMCIgLz48L3N2Zz4=\" alt=\"LogicalComponent\" title=\"LogicalComponent\" width=\"15\" height=\"15\" style=\"display: inline-block\"> <a href=\"hlink://ff7b8672-84db-4b93-9fea-22a410907fb1\">&quot;R. Weasley&quot;</a> (ff7b8672-84db-4b93-9fea-22a410907fb1)</li><li><img src=\"data:image/svg+xml;base64,PHN2ZyBiYXNlUHJvZmlsZT0iZnVsbCIgaGVpZ2h0PSIxMDAlIiB2ZXJzaW9uPSIxLjEiIHZpZXdCb3g9IjAgMCAxNSAxNSIgd2lkdGg9IjEwMCUiIHhtbG5zPSJodHRwOi8vd3d3LnczLm9yZy8yMDAwL3N2ZyIgeG1sbnM6ZXY9Imh0dHA6Ly93d3cudzMub3JnLzIwMDEveG1sLWV2ZW50cyIgeG1sbnM6eGxpbms9Imh0dHA6Ly93d3cudzMub3JnLzE5OTkveGxpbmsiPjxkZWZzPjxzeW1ib2wgaWQ9IkxvZ2ljYWxIdW1hbkFjdG9yU3ltYm9sIiBzdHJva2U9IiMwMDAiIHN0cm9rZS13aWR0aD0iMiIgdmlld0JveD0iMCAwIDc5IDc5Ij48dXNlIHRyYW5zZm9ybT0ibWF0cml4KDAuODE3NjI0NTYsMCwwLDAuODE3NjI0NTYsLTIuNTIwNzU4NCwwLjQ3MDkxNjk2KSIgeGxpbms6aHJlZj0iI1N0aWNrRmlndXJlU3ltYm9sIiAvPjwvc3ltYm9sPjxzeW1ib2wgaWQ9IlN0aWNrRmlndXJlU3ltYm9sIiBzdHJva2U9IiMwMDAiIHN0cm9rZS13aWR0aD0iMiIgdmlld0JveD0iMzYyLjg2MSAyMTAuODkyIDc1IDc1Ij48ZyBzdHJva2U9IiMwMDAiIHN0cm9rZS13aWR0aD0iMi40OTQ0IiB0cmFuc2Zvcm09Im1hdHJpeCgxLjA2MTEzMzgsMCwwLDEuMDYxMTMzOCwtMjQuNDc2NjUsLTEyLjI0MTY3MykiPjxsaW5lIGZpbGw9Im5vbmUiIHgxPSI0MDAuMzYyIiB4Mj0iNDAwLjM2MiIgeTE9IjIzMi41ODYiIHkyPSIyNTcuNTM0IiAvPjxsaW5lIGZpbGw9Im5vbmUiIHgxPSI0MDAuODM0MDEiIHgyPSIzODguNDIzIiB5MT0iMjU0LjI5OSIgeTI9IjI3NS4wMDkiIC8+PGxpbmUgZmlsbD0ibm9uZSIgeDE9IjQwMC4yNTIwMSIgeDI9IjQxMy45NyIgeTE9IjI1NC40NjAwMSIgeTI9IjI3NC45ODciIC8+PGxpbmUgZmlsbD0ibm9uZSIgeDE9IjM4NS42MzQiIHgyPSI0MTUuNzAzIiB5MT0iMjQ0LjU2OSIgeTI9IjI0NC40OTY5OSIgLz48ZWxsaXBzZSBjeD0iNDAwLjUzMjAxIiBjeT0iMjIzLjM1ODk5IiBmaWxsPSJub25lIiByeD0iOS4yMTgwMDA0IiByeT0iOC41MDgwMDA0IiAvPjwvZz48L3N5bWJvbD48L2RlZnM+PHVzZSBoZWlnaHQ9IjE1IiB3aWR0aD0iMTUiIHg9IjAiIHhsaW5rOmhyZWY9IiNTdGlja0ZpZ3VyZVN5bWJvbCIgeT0iMCIgLz48L3N2Zz4=\" alt=\"LogicalComponent\" title=\"LogicalComponent\" width=\"15\" height=\"15\" style=\"display: inline-block\"> <a href=\"hlink://6f463eed-c77b-4568-8078-beec0536f243\">&quot;Prof. S. Snape&quot;</a> (6f463eed-c77b-4568-8078-beec0536f243)</li></ol>"
      ],
      "text/plain": [
       "[0] <LogicalComponent 'Harry J. Potter' (a8c46457-a702-41c4-a971-c815c4c5a674)>\n",
       "[1] <LogicalComponent 'Prof. A. P. W. B. Dumbledore' (08e02248-504d-4ed8-a295-c7682a614f66)>\n",
       "[2] <LogicalComponent 'R. Weasley' (ff7b8672-84db-4b93-9fea-22a410907fb1)>\n",
       "[3] <LogicalComponent 'Prof. S. Snape' (6f463eed-c77b-4568-8078-beec0536f243)>"
      ]
     },
     "execution_count": 18,
     "metadata": {},
     "output_type": "execute_result"
    }
   ],
   "source": [
    "group.find_applicable()"
   ]
  },
  {
   "cell_type": "code",
   "execution_count": 19,
   "id": "a040ff51-8804-47e2-983b-28963aaff0eb",
   "metadata": {},
   "outputs": [
    {
     "data": {
      "text/plain": [
       "\u001b[0;31mSignature:\u001b[0m \u001b[0mgroup\u001b[0m\u001b[0;34m.\u001b[0m\u001b[0mapplies_to\u001b[0m\u001b[0;34m(\u001b[0m\u001b[0mobj\u001b[0m\u001b[0;34m:\u001b[0m \u001b[0;34m'c.ModelObject'\u001b[0m\u001b[0;34m)\u001b[0m \u001b[0;34m->\u001b[0m \u001b[0;34m'bool'\u001b[0m\u001b[0;34m\u001b[0m\u001b[0;34m\u001b[0m\u001b[0m\n",
       "\u001b[0;31mDocstring:\u001b[0m Determine whether this group applies to a model element.\n",
       "\u001b[0;31mFile:\u001b[0m      ~/devspace/capellambse/capellambse/extensions/pvmt/_config.py\n",
       "\u001b[0;31mType:\u001b[0m      method"
      ]
     },
     "metadata": {},
     "output_type": "display_data"
    }
   ],
   "source": [
    "?group.applies_to"
   ]
  },
  {
   "cell_type": "code",
   "execution_count": 20,
   "id": "ca3e54f1-89be-4f94-b945-ec243fe45bd2",
   "metadata": {},
   "outputs": [
    {
     "data": {
      "text/plain": [
       "True"
      ]
     },
     "execution_count": 20,
     "metadata": {},
     "output_type": "execute_result"
    }
   ],
   "source": [
    "dumbledore = model.search(\"LogicalComponent\").by_name(\n",
    "    \"Prof. A. P. W. B. Dumbledore\"\n",
    ")\n",
    "group.applies_to(dumbledore)"
   ]
  },
  {
   "cell_type": "markdown",
   "id": "27d394e5-f288-4d10-bae6-b1e954b0c6e4",
   "metadata": {},
   "source": [
    "And finally, a group can be applied to an element with the `apply` method. If the group was already applied earlier, the existing group instance will be returned:"
   ]
  },
  {
   "cell_type": "code",
   "execution_count": 21,
   "id": "f009f925-4257-400d-813b-e9f1a905fd8e",
   "metadata": {
    "scrolled": true
   },
   "outputs": [
    {
     "data": {
      "text/html": [
       "<h1>DarkMagic.Power Level <span style=\"font-size: 70%;\">(org.polarsys.capella.core.data.capellacore:PropertyValueGroup)</span></h1><table><tr><th style=\"text-align: right;\">applied_property_value_groups</th><td style=\"text-align: left;\"><ol start=\"0\" style=\"text-align: left;\"><li><strong>PropertyValueGroup</strong> <a href=\"hlink://a0cb5a23-955e-43d6-a633-2c4e66991364\">&quot;Power Level&quot;</a> (a0cb5a23-955e-43d6-a633-2c4e66991364)</li></ol></td></tr><tr><th style=\"text-align: right;\">applied_property_values</th><td style=\"text-align: left;\"><p><em>(Empty list)</em></p></td></tr><tr><th style=\"text-align: right;\">constraints</th><td style=\"text-align: left;\"><p><em>(Empty list)</em></p></td></tr><tr><th style=\"text-align: right;\">description</th><td style=\"text-align: left;\"></td></tr><tr><th style=\"text-align: right;\">diagrams</th><td style=\"text-align: left;\"><p><em>(Empty list)</em></p></td></tr><tr><th style=\"text-align: right;\">filtering_criteria</th><td style=\"text-align: left;\"><p><em>(Empty list)</em></p></td></tr><tr><th style=\"text-align: right;\">layer</th><td style=\"text-align: left;\"><strong>LogicalArchitecture</strong> <a href=\"hlink://853cb005-cba0-489b-8fe3-bb694ad4543b\">&quot;Logical Architecture&quot;</a> (853cb005-cba0-489b-8fe3-bb694ad4543b)</td></tr><tr><th style=\"text-align: right;\">name</th><td style=\"text-align: left;\">DarkMagic.Power Level</td></tr><tr><th style=\"text-align: right;\">parent</th><td style=\"text-align: left;\"><img src=\"data:image/svg+xml;base64,PHN2ZyBiYXNlUHJvZmlsZT0iZnVsbCIgaGVpZ2h0PSIxMDAlIiB2ZXJzaW9uPSIxLjEiIHZpZXdCb3g9IjAgMCAxNSAxNSIgd2lkdGg9IjEwMCUiIHhtbG5zPSJodHRwOi8vd3d3LnczLm9yZy8yMDAwL3N2ZyIgeG1sbnM6ZXY9Imh0dHA6Ly93d3cudzMub3JnLzIwMDEveG1sLWV2ZW50cyIgeG1sbnM6eGxpbms9Imh0dHA6Ly93d3cudzMub3JnLzE5OTkveGxpbmsiPjxkZWZzPjxzeW1ib2wgaWQ9IkxvZ2ljYWxIdW1hbkFjdG9yU3ltYm9sIiBzdHJva2U9IiMwMDAiIHN0cm9rZS13aWR0aD0iMiIgdmlld0JveD0iMCAwIDc5IDc5Ij48dXNlIHRyYW5zZm9ybT0ibWF0cml4KDAuODE3NjI0NTYsMCwwLDAuODE3NjI0NTYsLTIuNTIwNzU4NCwwLjQ3MDkxNjk2KSIgeGxpbms6aHJlZj0iI1N0aWNrRmlndXJlU3ltYm9sIiAvPjwvc3ltYm9sPjxzeW1ib2wgaWQ9IlN0aWNrRmlndXJlU3ltYm9sIiBzdHJva2U9IiMwMDAiIHN0cm9rZS13aWR0aD0iMiIgdmlld0JveD0iMzYyLjg2MSAyMTAuODkyIDc1IDc1Ij48ZyBzdHJva2U9IiMwMDAiIHN0cm9rZS13aWR0aD0iMi40OTQ0IiB0cmFuc2Zvcm09Im1hdHJpeCgxLjA2MTEzMzgsMCwwLDEuMDYxMTMzOCwtMjQuNDc2NjUsLTEyLjI0MTY3MykiPjxsaW5lIGZpbGw9Im5vbmUiIHgxPSI0MDAuMzYyIiB4Mj0iNDAwLjM2MiIgeTE9IjIzMi41ODYiIHkyPSIyNTcuNTM0IiAvPjxsaW5lIGZpbGw9Im5vbmUiIHgxPSI0MDAuODM0MDEiIHgyPSIzODguNDIzIiB5MT0iMjU0LjI5OSIgeTI9IjI3NS4wMDkiIC8+PGxpbmUgZmlsbD0ibm9uZSIgeDE9IjQwMC4yNTIwMSIgeDI9IjQxMy45NyIgeTE9IjI1NC40NjAwMSIgeTI9IjI3NC45ODciIC8+PGxpbmUgZmlsbD0ibm9uZSIgeDE9IjM4NS42MzQiIHgyPSI0MTUuNzAzIiB5MT0iMjQ0LjU2OSIgeTI9IjI0NC40OTY5OSIgLz48ZWxsaXBzZSBjeD0iNDAwLjUzMjAxIiBjeT0iMjIzLjM1ODk5IiBmaWxsPSJub25lIiByeD0iOS4yMTgwMDA0IiByeT0iOC41MDgwMDA0IiAvPjwvZz48L3N5bWJvbD48L2RlZnM+PHVzZSBoZWlnaHQ9IjE1IiB3aWR0aD0iMTUiIHg9IjAiIHhsaW5rOmhyZWY9IiNTdGlja0ZpZ3VyZVN5bWJvbCIgeT0iMCIgLz48L3N2Zz4=\" alt=\"LogicalComponent\" title=\"LogicalComponent\" width=\"15\" height=\"15\" style=\"display: inline-block\"> <a href=\"hlink://08e02248-504d-4ed8-a295-c7682a614f66\">&quot;Prof. A. P. W. B. Dumbledore&quot;</a> (08e02248-504d-4ed8-a295-c7682a614f66)</td></tr><tr><th style=\"text-align: right;\">progress_status</th><td style=\"text-align: left;\">NOT_SET</td></tr><tr><th style=\"text-align: right;\">property_value_groups</th><td style=\"text-align: left;\"><p><em>(Empty list)</em></p></td></tr><tr><th style=\"text-align: right;\">property_values</th><td style=\"text-align: left;\"><ol start=\"0\" style=\"text-align: left;\"><li><strong>EnumerationPropertyValue</strong> <a href=\"hlink://ba86dc67-296c-472e-8057-b660d5491532\">&quot;Skill&quot;</a>: <strong>EnumerationPropertyLiteral</strong> <a href=\"hlink://1e5efe87-d919-4bd0-af2b-7c976ef9da96\">&quot;Mighty&quot;</a> (1e5efe87-d919-4bd0-af2b-7c976ef9da96) (ba86dc67-296c-472e-8057-b660d5491532)</li></ol></td></tr><tr><th style=\"text-align: right;\">pvmt</th><td style=\"text-align: left;\">Property Value Management for <strong>PropertyValueGroup</strong> <a href=\"hlink://6cf12387-7187-4b91-9efe-8fedb8a148cb\">&quot;DarkMagic.Power Level&quot;</a> (6cf12387-7187-4b91-9efe-8fedb8a148cb)</td></tr><tr><th style=\"text-align: right;\">requirements</th><td style=\"text-align: left;\"><p><em>(Empty list)</em></p></td></tr><tr><th style=\"text-align: right;\">summary</th><td style=\"text-align: left;\"><em>None</em></td></tr><tr><th style=\"text-align: right;\">traces</th><td style=\"text-align: left;\"><p><em>(Empty list)</em></p></td></tr><tr><th style=\"text-align: right;\">uuid</th><td style=\"text-align: left;\">6cf12387-7187-4b91-9efe-8fedb8a148cb</td></tr><tr><th style=\"text-align: right;\">validation</th><td style=\"text-align: left;\"><em>&lt;capellambse.extensions.validation._validate.ElementValidation object at 0x720dec24dcd0&gt;</em></td></tr><tr><th style=\"text-align: right;\">values</th><td style=\"text-align: left;\"><ol start=\"0\" style=\"text-align: left;\"><li><strong>EnumerationPropertyValue</strong> <a href=\"hlink://ba86dc67-296c-472e-8057-b660d5491532\">&quot;Skill&quot;</a>: <strong>EnumerationPropertyLiteral</strong> <a href=\"hlink://1e5efe87-d919-4bd0-af2b-7c976ef9da96\">&quot;Mighty&quot;</a> (1e5efe87-d919-4bd0-af2b-7c976ef9da96) (ba86dc67-296c-472e-8057-b660d5491532)</li></ol></td></tr><tr><th style=\"text-align: right;\">xtype</th><td style=\"text-align: left;\">org.polarsys.capella.core.data.capellacore:PropertyValueGroup</td></tr></table>"
      ],
      "text/plain": [
       "<PropertyValueGroup 'DarkMagic.Power Level' (6cf12387-7187-4b91-9efe-8fedb8a148cb)>\n",
       ".applied_property_value_groups = [0] <PropertyValueGroup 'Power Level' (a0cb5a23-955e-43d6-a633-2c4e66991364)>\n",
       ".applied_property_values = []\n",
       ".constraints = []\n",
       ".description = ''\n",
       ".diagrams = []\n",
       ".filtering_criteria = []\n",
       ".layer = <LogicalArchitecture 'Logical Architecture' (853cb005-cba0-489b-8fe3-bb694ad4543b)>\n",
       ".name = 'DarkMagic.Power Level'\n",
       ".parent = <LogicalComponent 'Prof. A. P. W. B. Dumbledore' (08e02248-504d-4ed8-a295-c7682a614f66)>\n",
       ".progress_status = 'NOT_SET'\n",
       ".property_value_groups = []\n",
       ".property_values = [0] <EnumerationPropertyValue 'Skill' (ba86dc67-296c-472e-8057-b660d5491532)>\n",
       ".pvmt = <Property Value Management for <PropertyValueGroup 'DarkMagic.Power Level' (6cf12387-7187-4b91-9efe-8fedb8a148cb)>>\n",
       ".requirements = []\n",
       ".summary = None\n",
       ".traces = []\n",
       ".uuid = '6cf12387-7187-4b91-9efe-8fedb8a148cb'\n",
       ".validation = <capellambse.extensions.validation._validate.ElementValidation object at 0x720df5d45fa0>\n",
       ".values = [0] <EnumerationPropertyValue 'Skill' (ba86dc67-296c-472e-8057-b660d5491532)>\n",
       ".xtype = 'org.polarsys.capella.core.data.capellacore:PropertyValueGroup'"
      ]
     },
     "execution_count": 21,
     "metadata": {},
     "output_type": "execute_result"
    }
   ],
   "source": [
    "group.apply(dumbledore)"
   ]
  },
  {
   "cell_type": "markdown",
   "id": "49268151-0e87-4219-99e6-6f441f1275d1",
   "metadata": {},
   "source": [
    "Each model element can have several property value groups applied to it. PVMT-managed groups can be easily inspected by using the element's `pvmt` attribute:"
   ]
  },
  {
   "cell_type": "code",
   "execution_count": 22,
   "id": "6eff1218-4902-4eb2-b7de-5592e71610e8",
   "metadata": {},
   "outputs": [
    {
     "data": {
      "text/html": [
       "<h1>Property Value Management</h1><p>Owner: <img src=\"data:image/svg+xml;base64,PHN2ZyBiYXNlUHJvZmlsZT0iZnVsbCIgaGVpZ2h0PSIxMDAlIiB2ZXJzaW9uPSIxLjEiIHZpZXdCb3g9IjAgMCAxNSAxNSIgd2lkdGg9IjEwMCUiIHhtbG5zPSJodHRwOi8vd3d3LnczLm9yZy8yMDAwL3N2ZyIgeG1sbnM6ZXY9Imh0dHA6Ly93d3cudzMub3JnLzIwMDEveG1sLWV2ZW50cyIgeG1sbnM6eGxpbms9Imh0dHA6Ly93d3cudzMub3JnLzE5OTkveGxpbmsiPjxkZWZzPjxzeW1ib2wgaWQ9IkxvZ2ljYWxIdW1hbkFjdG9yU3ltYm9sIiBzdHJva2U9IiMwMDAiIHN0cm9rZS13aWR0aD0iMiIgdmlld0JveD0iMCAwIDc5IDc5Ij48dXNlIHRyYW5zZm9ybT0ibWF0cml4KDAuODE3NjI0NTYsMCwwLDAuODE3NjI0NTYsLTIuNTIwNzU4NCwwLjQ3MDkxNjk2KSIgeGxpbms6aHJlZj0iI1N0aWNrRmlndXJlU3ltYm9sIiAvPjwvc3ltYm9sPjxzeW1ib2wgaWQ9IlN0aWNrRmlndXJlU3ltYm9sIiBzdHJva2U9IiMwMDAiIHN0cm9rZS13aWR0aD0iMiIgdmlld0JveD0iMzYyLjg2MSAyMTAuODkyIDc1IDc1Ij48ZyBzdHJva2U9IiMwMDAiIHN0cm9rZS13aWR0aD0iMi40OTQ0IiB0cmFuc2Zvcm09Im1hdHJpeCgxLjA2MTEzMzgsMCwwLDEuMDYxMTMzOCwtMjQuNDc2NjUsLTEyLjI0MTY3MykiPjxsaW5lIGZpbGw9Im5vbmUiIHgxPSI0MDAuMzYyIiB4Mj0iNDAwLjM2MiIgeTE9IjIzMi41ODYiIHkyPSIyNTcuNTM0IiAvPjxsaW5lIGZpbGw9Im5vbmUiIHgxPSI0MDAuODM0MDEiIHgyPSIzODguNDIzIiB5MT0iMjU0LjI5OSIgeTI9IjI3NS4wMDkiIC8+PGxpbmUgZmlsbD0ibm9uZSIgeDE9IjQwMC4yNTIwMSIgeDI9IjQxMy45NyIgeTE9IjI1NC40NjAwMSIgeTI9IjI3NC45ODciIC8+PGxpbmUgZmlsbD0ibm9uZSIgeDE9IjM4NS42MzQiIHgyPSI0MTUuNzAzIiB5MT0iMjQ0LjU2OSIgeTI9IjI0NC40OTY5OSIgLz48ZWxsaXBzZSBjeD0iNDAwLjUzMjAxIiBjeT0iMjIzLjM1ODk5IiBmaWxsPSJub25lIiByeD0iOS4yMTgwMDA0IiByeT0iOC41MDgwMDA0IiAvPjwvZz48L3N5bWJvbD48L2RlZnM+PHVzZSBoZWlnaHQ9IjE1IiB3aWR0aD0iMTUiIHg9IjAiIHhsaW5rOmhyZWY9IiNTdGlja0ZpZ3VyZVN5bWJvbCIgeT0iMCIgLz48L3N2Zz4=\" alt=\"LogicalComponent\" title=\"LogicalComponent\" width=\"15\" height=\"15\" style=\"display: inline-block\"> <a href=\"hlink://08e02248-504d-4ed8-a295-c7682a614f66\">&quot;Prof. A. P. W. B. Dumbledore&quot;</a> (08e02248-504d-4ed8-a295-c7682a614f66)</p><table><tbody><tr><th colspan=\"3\" style=\"text-align:left;\"><strong>ManagedGroup</strong> <a href=\"hlink://1e241678-282c-46f3-abbd-e0cf34e743ee\">&quot;DarkMagic.Power&quot;</a> (1e241678-282c-46f3-abbd-e0cf34e743ee)</th></tr><tr><td>Min</td><td>800.0</td><td>0.0</td></tr><tr><td>Max</td><td>1600.0</td><td>10000.0</td></tr><tr><th colspan=\"3\" style=\"text-align:left;\"><strong>ManagedGroup</strong> <a href=\"hlink://a0cb5a23-955e-43d6-a633-2c4e66991364\">&quot;DarkMagic.Power Level&quot;</a> (a0cb5a23-955e-43d6-a633-2c4e66991364)</th></tr><tr><td>Skill</td><td><strong>EnumerationPropertyLiteral</strong> <a href=\"hlink://1e5efe87-d919-4bd0-af2b-7c976ef9da96\">&quot;Mighty&quot;</a> (1e5efe87-d919-4bd0-af2b-7c976ef9da96)</td><td><strong>EnumerationPropertyLiteral</strong> <a href=\"hlink://4da42696-28e2-4f90-bfb6-90ba1fc52d01\">&quot;TheOneWhoShallNotBeNamed&quot;</a> (4da42696-28e2-4f90-bfb6-90ba1fc52d01)</td></tr></tbody><thead><tr><th>Property</th><th>Value</th><th>Default</th></tr></thead></table>"
      ],
      "text/plain": [
       "<Property Value Management for <LogicalComponent 'Prof. A. P. W. B. Dumbledore' (08e02248-504d-4ed8-a295-c7682a614f66)>>\n",
       "Group \"DarkMagic.Power\"\n",
       "  - Min: 0.0\n",
       "  - Max: 10000.0\n",
       "Group \"DarkMagic.Power Level\"\n",
       "  - Skill: <EnumerationPropertyLiteral 'TheOneWhoShallNotBeNamed' (4da42696-28e2-4f90-bfb6-90ba1fc52d01)>"
      ]
     },
     "execution_count": 22,
     "metadata": {},
     "output_type": "execute_result"
    }
   ],
   "source": [
    "dumbledore.pvmt"
   ]
  },
  {
   "cell_type": "markdown",
   "id": "e14a5463-5305-404a-823d-fd9c13d3c679",
   "metadata": {},
   "source": [
    "The `groupdefs` attribute will give access to the definitions of all groups that apply to this element:"
   ]
  },
  {
   "cell_type": "code",
   "execution_count": 23,
   "id": "6ba61f22-2794-4690-b364-35279ceea31e",
   "metadata": {},
   "outputs": [
    {
     "data": {
      "text/html": [
       "<ol start=\"0\" style=\"text-align: left;\"><li><strong>ManagedGroup</strong> <a href=\"hlink://1e241678-282c-46f3-abbd-e0cf34e743ee\">&quot;DarkMagic.Power&quot;</a> (1e241678-282c-46f3-abbd-e0cf34e743ee)</li><li><strong>ManagedGroup</strong> <a href=\"hlink://a0cb5a23-955e-43d6-a633-2c4e66991364\">&quot;DarkMagic.Power Level&quot;</a> (a0cb5a23-955e-43d6-a633-2c4e66991364)</li></ol>"
      ],
      "text/plain": [
       "[0] <ManagedGroup 'Power' (1e241678-282c-46f3-abbd-e0cf34e743ee)>\n",
       "[1] <ManagedGroup 'Power Level' (a0cb5a23-955e-43d6-a633-2c4e66991364)>"
      ]
     },
     "execution_count": 23,
     "metadata": {},
     "output_type": "execute_result"
    }
   ],
   "source": [
    "dumbledore.pvmt.groupdefs"
   ]
  },
  {
   "cell_type": "markdown",
   "id": "f43313d5-7447-49eb-a610-28e166d35876",
   "metadata": {},
   "source": [
    "On the other hand, the `applied_groups` attribute will yield the group instances that are currently applied to the object.\n",
    "\n",
    "**Note:** This list may be missing some groups from `groupdefs`. These can be applied using the group definition's `apply` method (see above)."
   ]
  },
  {
   "cell_type": "code",
   "execution_count": 24,
   "id": "254db373-7b62-4985-9a3f-b02f589eb0ff",
   "metadata": {},
   "outputs": [
    {
     "data": {
      "text/html": [
       "<ol start=\"0\" style=\"text-align: left;\"><li><strong>PropertyValueGroup</strong> <a href=\"hlink://42dc9aeb-a06d-4012-8bc6-02fb06f94cdc\">&quot;DarkMagic.Power&quot;</a> (42dc9aeb-a06d-4012-8bc6-02fb06f94cdc)</li><li><strong>PropertyValueGroup</strong> <a href=\"hlink://6cf12387-7187-4b91-9efe-8fedb8a148cb\">&quot;DarkMagic.Power Level&quot;</a> (6cf12387-7187-4b91-9efe-8fedb8a148cb)</li></ol>"
      ],
      "text/plain": [
       "[0] <PropertyValueGroup 'DarkMagic.Power' (42dc9aeb-a06d-4012-8bc6-02fb06f94cdc)>\n",
       "[1] <PropertyValueGroup 'DarkMagic.Power Level' (6cf12387-7187-4b91-9efe-8fedb8a148cb)>"
      ]
     },
     "execution_count": 24,
     "metadata": {},
     "output_type": "execute_result"
    }
   ],
   "source": [
    "dumbledore.pvmt.applied_groups"
   ]
  },
  {
   "cell_type": "markdown",
   "id": "f16e13e2-919b-464c-92f2-8f5350f232b9",
   "metadata": {},
   "source": [
    "Property values can also be accessed using convenient dict-like semantics.\n",
    "\n",
    "With keys like \"Domain.Group\", an applied group instance will be returned, where the group is applied first if needed:"
   ]
  },
  {
   "cell_type": "code",
   "execution_count": 25,
   "id": "c31b91a4-00d6-4086-a0f7-0d74360cd8b3",
   "metadata": {
    "scrolled": true
   },
   "outputs": [
    {
     "data": {
      "text/html": [
       "<h1>DarkMagic.Power <span style=\"font-size: 70%;\">(org.polarsys.capella.core.data.capellacore:PropertyValueGroup)</span></h1><table><tr><th style=\"text-align: right;\">applied_property_value_groups</th><td style=\"text-align: left;\"><ol start=\"0\" style=\"text-align: left;\"><li><strong>PropertyValueGroup</strong> <a href=\"hlink://1e241678-282c-46f3-abbd-e0cf34e743ee\">&quot;Power&quot;</a> (1e241678-282c-46f3-abbd-e0cf34e743ee)</li></ol></td></tr><tr><th style=\"text-align: right;\">applied_property_values</th><td style=\"text-align: left;\"><p><em>(Empty list)</em></p></td></tr><tr><th style=\"text-align: right;\">constraints</th><td style=\"text-align: left;\"><p><em>(Empty list)</em></p></td></tr><tr><th style=\"text-align: right;\">description</th><td style=\"text-align: left;\"></td></tr><tr><th style=\"text-align: right;\">diagrams</th><td style=\"text-align: left;\"><p><em>(Empty list)</em></p></td></tr><tr><th style=\"text-align: right;\">filtering_criteria</th><td style=\"text-align: left;\"><p><em>(Empty list)</em></p></td></tr><tr><th style=\"text-align: right;\">layer</th><td style=\"text-align: left;\"><strong>LogicalArchitecture</strong> <a href=\"hlink://853cb005-cba0-489b-8fe3-bb694ad4543b\">&quot;Logical Architecture&quot;</a> (853cb005-cba0-489b-8fe3-bb694ad4543b)</td></tr><tr><th style=\"text-align: right;\">name</th><td style=\"text-align: left;\">DarkMagic.Power</td></tr><tr><th style=\"text-align: right;\">parent</th><td style=\"text-align: left;\"><img src=\"data:image/svg+xml;base64,PHN2ZyBiYXNlUHJvZmlsZT0iZnVsbCIgaGVpZ2h0PSIxMDAlIiB2ZXJzaW9uPSIxLjEiIHZpZXdCb3g9IjAgMCAxNSAxNSIgd2lkdGg9IjEwMCUiIHhtbG5zPSJodHRwOi8vd3d3LnczLm9yZy8yMDAwL3N2ZyIgeG1sbnM6ZXY9Imh0dHA6Ly93d3cudzMub3JnLzIwMDEveG1sLWV2ZW50cyIgeG1sbnM6eGxpbms9Imh0dHA6Ly93d3cudzMub3JnLzE5OTkveGxpbmsiPjxkZWZzPjxzeW1ib2wgaWQ9IkxvZ2ljYWxIdW1hbkFjdG9yU3ltYm9sIiBzdHJva2U9IiMwMDAiIHN0cm9rZS13aWR0aD0iMiIgdmlld0JveD0iMCAwIDc5IDc5Ij48dXNlIHRyYW5zZm9ybT0ibWF0cml4KDAuODE3NjI0NTYsMCwwLDAuODE3NjI0NTYsLTIuNTIwNzU4NCwwLjQ3MDkxNjk2KSIgeGxpbms6aHJlZj0iI1N0aWNrRmlndXJlU3ltYm9sIiAvPjwvc3ltYm9sPjxzeW1ib2wgaWQ9IlN0aWNrRmlndXJlU3ltYm9sIiBzdHJva2U9IiMwMDAiIHN0cm9rZS13aWR0aD0iMiIgdmlld0JveD0iMzYyLjg2MSAyMTAuODkyIDc1IDc1Ij48ZyBzdHJva2U9IiMwMDAiIHN0cm9rZS13aWR0aD0iMi40OTQ0IiB0cmFuc2Zvcm09Im1hdHJpeCgxLjA2MTEzMzgsMCwwLDEuMDYxMTMzOCwtMjQuNDc2NjUsLTEyLjI0MTY3MykiPjxsaW5lIGZpbGw9Im5vbmUiIHgxPSI0MDAuMzYyIiB4Mj0iNDAwLjM2MiIgeTE9IjIzMi41ODYiIHkyPSIyNTcuNTM0IiAvPjxsaW5lIGZpbGw9Im5vbmUiIHgxPSI0MDAuODM0MDEiIHgyPSIzODguNDIzIiB5MT0iMjU0LjI5OSIgeTI9IjI3NS4wMDkiIC8+PGxpbmUgZmlsbD0ibm9uZSIgeDE9IjQwMC4yNTIwMSIgeDI9IjQxMy45NyIgeTE9IjI1NC40NjAwMSIgeTI9IjI3NC45ODciIC8+PGxpbmUgZmlsbD0ibm9uZSIgeDE9IjM4NS42MzQiIHgyPSI0MTUuNzAzIiB5MT0iMjQ0LjU2OSIgeTI9IjI0NC40OTY5OSIgLz48ZWxsaXBzZSBjeD0iNDAwLjUzMjAxIiBjeT0iMjIzLjM1ODk5IiBmaWxsPSJub25lIiByeD0iOS4yMTgwMDA0IiByeT0iOC41MDgwMDA0IiAvPjwvZz48L3N5bWJvbD48L2RlZnM+PHVzZSBoZWlnaHQ9IjE1IiB3aWR0aD0iMTUiIHg9IjAiIHhsaW5rOmhyZWY9IiNTdGlja0ZpZ3VyZVN5bWJvbCIgeT0iMCIgLz48L3N2Zz4=\" alt=\"LogicalComponent\" title=\"LogicalComponent\" width=\"15\" height=\"15\" style=\"display: inline-block\"> <a href=\"hlink://08e02248-504d-4ed8-a295-c7682a614f66\">&quot;Prof. A. P. W. B. Dumbledore&quot;</a> (08e02248-504d-4ed8-a295-c7682a614f66)</td></tr><tr><th style=\"text-align: right;\">progress_status</th><td style=\"text-align: left;\">NOT_SET</td></tr><tr><th style=\"text-align: right;\">property_value_groups</th><td style=\"text-align: left;\"><p><em>(Empty list)</em></p></td></tr><tr><th style=\"text-align: right;\">property_values</th><td style=\"text-align: left;\"><ol start=\"0\" style=\"text-align: left;\"><li><strong>FloatPropertyValue</strong> <a href=\"hlink://68b3e1b8-2d5a-432a-bf56-a8d3ad6b1742\">&quot;Min&quot;</a>: 800.0 (68b3e1b8-2d5a-432a-bf56-a8d3ad6b1742)</li><li><strong>FloatPropertyValue</strong> <a href=\"hlink://defd6bbb-0209-47a6-b195-0e86f6210417\">&quot;Max&quot;</a>: 1600.0 (defd6bbb-0209-47a6-b195-0e86f6210417)</li></ol></td></tr><tr><th style=\"text-align: right;\">pvmt</th><td style=\"text-align: left;\">Property Value Management for <strong>PropertyValueGroup</strong> <a href=\"hlink://42dc9aeb-a06d-4012-8bc6-02fb06f94cdc\">&quot;DarkMagic.Power&quot;</a> (42dc9aeb-a06d-4012-8bc6-02fb06f94cdc)</td></tr><tr><th style=\"text-align: right;\">requirements</th><td style=\"text-align: left;\"><p><em>(Empty list)</em></p></td></tr><tr><th style=\"text-align: right;\">summary</th><td style=\"text-align: left;\"><em>None</em></td></tr><tr><th style=\"text-align: right;\">traces</th><td style=\"text-align: left;\"><p><em>(Empty list)</em></p></td></tr><tr><th style=\"text-align: right;\">uuid</th><td style=\"text-align: left;\">42dc9aeb-a06d-4012-8bc6-02fb06f94cdc</td></tr><tr><th style=\"text-align: right;\">validation</th><td style=\"text-align: left;\"><em>&lt;capellambse.extensions.validation._validate.ElementValidation object at 0x720df5da19d0&gt;</em></td></tr><tr><th style=\"text-align: right;\">values</th><td style=\"text-align: left;\"><ol start=\"0\" style=\"text-align: left;\"><li><strong>FloatPropertyValue</strong> <a href=\"hlink://68b3e1b8-2d5a-432a-bf56-a8d3ad6b1742\">&quot;Min&quot;</a>: 800.0 (68b3e1b8-2d5a-432a-bf56-a8d3ad6b1742)</li><li><strong>FloatPropertyValue</strong> <a href=\"hlink://defd6bbb-0209-47a6-b195-0e86f6210417\">&quot;Max&quot;</a>: 1600.0 (defd6bbb-0209-47a6-b195-0e86f6210417)</li></ol></td></tr><tr><th style=\"text-align: right;\">xtype</th><td style=\"text-align: left;\">org.polarsys.capella.core.data.capellacore:PropertyValueGroup</td></tr></table>"
      ],
      "text/plain": [
       "<PropertyValueGroup 'DarkMagic.Power' (42dc9aeb-a06d-4012-8bc6-02fb06f94cdc)>\n",
       ".applied_property_value_groups = [0] <PropertyValueGroup 'Power' (1e241678-282c-46f3-abbd-e0cf34e743ee)>\n",
       ".applied_property_values = []\n",
       ".constraints = []\n",
       ".description = ''\n",
       ".diagrams = []\n",
       ".filtering_criteria = []\n",
       ".layer = <LogicalArchitecture 'Logical Architecture' (853cb005-cba0-489b-8fe3-bb694ad4543b)>\n",
       ".name = 'DarkMagic.Power'\n",
       ".parent = <LogicalComponent 'Prof. A. P. W. B. Dumbledore' (08e02248-504d-4ed8-a295-c7682a614f66)>\n",
       ".progress_status = 'NOT_SET'\n",
       ".property_value_groups = []\n",
       ".property_values = [0] <FloatPropertyValue 'Min' (68b3e1b8-2d5a-432a-bf56-a8d3ad6b1742)>\n",
       "                   [1] <FloatPropertyValue 'Max' (defd6bbb-0209-47a6-b195-0e86f6210417)>\n",
       ".pvmt = <Property Value Management for <PropertyValueGroup 'DarkMagic.Power' (42dc9aeb-a06d-4012-8bc6-02fb06f94cdc)>>\n",
       ".requirements = []\n",
       ".summary = None\n",
       ".traces = []\n",
       ".uuid = '42dc9aeb-a06d-4012-8bc6-02fb06f94cdc'\n",
       ".validation = <capellambse.extensions.validation._validate.ElementValidation object at 0x720dec24e6c0>\n",
       ".values = [0] <FloatPropertyValue 'Min' (68b3e1b8-2d5a-432a-bf56-a8d3ad6b1742)>\n",
       "          [1] <FloatPropertyValue 'Max' (defd6bbb-0209-47a6-b195-0e86f6210417)>\n",
       ".xtype = 'org.polarsys.capella.core.data.capellacore:PropertyValueGroup'"
      ]
     },
     "execution_count": 25,
     "metadata": {},
     "output_type": "execute_result"
    }
   ],
   "source": [
    "dumbledore.pvmt[\"DarkMagic.Power\"]"
   ]
  },
  {
   "cell_type": "markdown",
   "id": "c81d6198-1515-4b99-82ea-fce3460e257d",
   "metadata": {},
   "source": [
    "Keys may also contain a Property, in which case the value of that property is returned directly.\n",
    "This is similar to the basic property values shown in the first part of this notebook.\n",
    "However, like in the case without a Property, the group will first be applied if needed.\n",
    "Newly applied groups have all their properties set to the default values from the group definition."
   ]
  },
  {
   "cell_type": "code",
   "execution_count": 26,
   "id": "86c135a0-b032-4512-af77-d03fbc3492d0",
   "metadata": {},
   "outputs": [
    {
     "data": {
      "text/plain": [
       "1600.0"
      ]
     },
     "execution_count": 26,
     "metadata": {},
     "output_type": "execute_result"
    }
   ],
   "source": [
    "dumbledore.pvmt[\"DarkMagic.Power.Max\"]"
   ]
  },
  {
   "cell_type": "markdown",
   "id": "0c19e78c-0fc6-420d-9aae-61e54fe80977",
   "metadata": {},
   "source": [
    "This latter style also supports directly setting individual properties."
   ]
  },
  {
   "cell_type": "code",
   "execution_count": 27,
   "id": "582b7c4c-29b7-4d6d-a5e7-c86a7afa171c",
   "metadata": {},
   "outputs": [
    {
     "data": {
      "text/plain": [
       "9000.0"
      ]
     },
     "execution_count": 27,
     "metadata": {},
     "output_type": "execute_result"
    }
   ],
   "source": [
    "dumbledore.pvmt[\"DarkMagic.Power.Max\"] = 9000\n",
    "dumbledore.pvmt[\"DarkMagic.Power.Max\"]"
   ]
  }
 ],
 "metadata": {
  "kernelspec": {
   "display_name": "Python 3 (ipykernel)",
   "language": "python",
   "name": "python3"
  },
  "language_info": {
   "codemirror_mode": {
    "name": "ipython",
    "version": 3
   },
   "file_extension": ".py",
   "mimetype": "text/x-python",
   "name": "python",
   "nbconvert_exporter": "python",
   "pygments_lexer": "ipython3",
   "version": "3.12.4"
  }
 },
 "nbformat": 4,
 "nbformat_minor": 5
}
