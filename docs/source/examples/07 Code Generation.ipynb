{
 "cells": [
  {
   "cell_type": "markdown",
   "metadata": {},
   "source": [
    "# Introduction to Code Generation\n",
    "\n",
    "This notebook exemplifies how to generate automatically code in terms of interfaces. For this three examples are provided. The first one creates a ROS message, the second a standard python class and the last a protobuf interface."
   ]
  },
  {
   "cell_type": "code",
   "execution_count": 1,
   "metadata": {},
   "outputs": [],
   "source": [
    "import capellambse\n",
    "import capellambse.metamodel as mm"
   ]
  },
  {
   "cell_type": "code",
   "execution_count": 2,
   "metadata": {},
   "outputs": [],
   "source": [
    "path_to_model = \"../../../tests/data/melodymodel/5_0/Melody Model Test.aird\"\n",
    "model = capellambse.MelodyModel(path_to_model)"
   ]
  },
  {
   "cell_type": "markdown",
   "metadata": {},
   "source": [
    "In particular, we want to create code from our class:"
   ]
  },
  {
   "cell_type": "code",
   "execution_count": 3,
   "metadata": {},
   "outputs": [
    {
     "data": {
      "image/png": "[encoded data removed]",
      "image/svg+xml": [
       "<svg baseProfile=\"full\" class=\"ClassDiagramBlank\" font-family=\"'Open Sans','Segoe UI',Arial,sans-serif\" font-size=\"10px\" height=\"421\" shape-rendering=\"geometricPrecision\" version=\"1.1\" viewBox=\"325 75 491 421\" width=\"491\" xmlns=\"http://www.w3.org/2000/svg\" xmlns:ev=\"http://www.w3.org/2001/xml-events\" xmlns:xlink=\"http://www.w3.org/1999/xlink\"><defs><symbol id=\"ClassSymbol\" viewBox=\"0 0 25 25\"><linearGradient id=\"ClassSymbol-gradient\" x1=\"0\" x2=\"0\" y1=\"0\" y2=\"1\"><stop offset=\"0.0\" stop-color=\"#cfa6a5\" stop-opacity=\"1\" /><stop offset=\"1.0\" stop-color=\"#f1e2e3\" stop-opacity=\"1\" /></linearGradient><g stroke=\"#913734\"><rect fill=\"#eedcdd\" height=\"3\" width=\"15\" x=\"5\" y=\"17\" /><rect fill=\"#eedcdd\" height=\"3\" width=\"15\" x=\"5\" y=\"14\" /><rect fill=\"url(#ClassSymbol-gradient)\" height=\"10\" width=\"15\" x=\"5\" y=\"4\" /></g></symbol><linearGradient id=\"CustomGradient_FFFFFF_E8E0D2\" x1=\"0\" x2=\"0\" y1=\"0\" y2=\"1\"><stop offset=\"0.0\" stop-color=\"#FFFFFF\" stop-opacity=\"1\" /><stop offset=\"1.0\" stop-color=\"#E8E0D2\" stop-opacity=\"1\" /></linearGradient><symbol id=\"ClassFeatureSymbol\" viewBox=\"0 0 27 21\"><linearGradient id=\"ClassFeatureSymbol-gradient\" x1=\"0\" x2=\"0\" y1=\"0\" y2=\"1\"><stop offset=\"0.0\" stop-color=\"#cfa6a5\" stop-opacity=\"1\" /><stop offset=\"1.0\" stop-color=\"#f1e2e3\" stop-opacity=\"1\" /></linearGradient><g><rect fill=\"#913734\" height=\"11.5\" width=\"17\" x=\"7\" y=\"4\" /><rect fill=\"url(#ClassFeatureSymbol-gradient)\" height=\"9.5\" width=\"17\" x=\"7\" y=\"5\" /><circle cx=\"20.7\" cy=\"12.1\" fill=\"#f1e2e3\" r=\"4.1\" stroke=\"#913734\" stroke-width=\"1\" /></g></symbol><marker id=\"FineArrowMark_000000\" markerHeight=\"7.5\" markerUnits=\"userSpaceOnUse\" markerWidth=\"7.5\" orient=\"auto\" refX=\"7\" refY=\"3.75\"><path d=\"M 0.4535,0.107 7.309,3.621 0.492,7.407 0.144,7.407 6.414,3.63 0.136,0.479 Z\" stroke=\"#000000\" stroke-width=\"1\" /></marker></defs><rect fill=\"#fff\" height=\"421\" stroke=\"none\" width=\"491\" x=\"325\" y=\"75\" /><g class=\"Box Class context-_57ZBAMn-EeyS2Zr7ZWFrXA\" id=\"_tZoJkMn-EeyS2Zr7ZWFrXA\"><rect class=\"Class\" fill=\"url(&quot;#CustomGradient_FFFFFF_E8E0D2&quot;)\" height=\"51\" rx=\"10px\" ry=\"10px\" stroke=\"#7B694F\" stroke-width=\"1\" width=\"111\" x=\"335.5\" y=\"85.5\" /><text class=\"Class\" dominant-baseline=\"middle\" fill=\"#000000\" text-anchor=\"middle\" x=\"335\" y=\"85\"><tspan x=\"401.0\" xml:space=\"preserve\" y=\"93.85714285714286\">Trajectory</tspan></text><use height=\"20\" width=\"20\" x=\"358.0\" xlink:href=\"#ClassSymbol\" y=\"83.85714285714286\" /><line stroke=\"#7B694F\" x1=\"335.5\" x2=\"446.5\" y1=\"111.21428571428572\" y2=\"111.21428571428572\" /></g><g class=\"Box Class context-_57ZBAMn-EeyS2Zr7ZWFrXA context-_hNOBoMn_EeyS2Zr7ZWFrXA\" id=\"_tyt_AMn-EeyS2Zr7ZWFrXA\"><rect class=\"Class\" fill=\"url(&quot;#CustomGradient_FFFFFF_E8E0D2&quot;)\" height=\"101\" rx=\"10px\" ry=\"10px\" stroke=\"#7B694F\" stroke-width=\"1\" width=\"111\" x=\"335.5\" y=\"205.5\" /><text class=\"Class\" dominant-baseline=\"middle\" fill=\"#000000\" text-anchor=\"middle\" x=\"335\" y=\"205\"><tspan x=\"401.0\" xml:space=\"preserve\" y=\"213.85714285714286\">Waypoint</tspan></text><use height=\"20\" width=\"20\" x=\"359.5\" xlink:href=\"#ClassSymbol\" y=\"203.85714285714286\" /><line stroke=\"#7B694F\" x1=\"335.5\" x2=\"446.5\" y1=\"231.21428571428572\" y2=\"231.21428571428572\" /><text class=\"Features\" dominant-baseline=\"middle\" fill=\"#000000\" text-anchor=\"start\" x=\"347.5\" y=\"231.21428571428572\"><tspan x=\"358.0\" xml:space=\"preserve\" y=\"241.92857142857144\">lat : float</tspan></text><use height=\"20\" width=\"20\" x=\"337.0\" xlink:href=\"#ClassFeatureSymbol\" y=\"231.92857142857144\" /><text class=\"Features\" dominant-baseline=\"middle\" fill=\"#000000\" text-anchor=\"start\" x=\"347.5\" y=\"242.64285714285714\"><tspan x=\"358.0\" xml:space=\"preserve\" y=\"253.35714285714286\">lon : float</tspan></text><use height=\"20\" width=\"20\" x=\"337.0\" xlink:href=\"#ClassFeatureSymbol\" y=\"243.35714285714286\" /><text class=\"Features\" dominant-baseline=\"middle\" fill=\"#000000\" text-anchor=\"start\" x=\"347.5\" y=\"254.07142857142856\"><tspan x=\"358.0\" xml:space=\"preserve\" y=\"264.7857142857143\">alt : float</tspan></text><use height=\"20\" width=\"20\" x=\"337.0\" xlink:href=\"#ClassFeatureSymbol\" y=\"254.78571428571428\" /></g><g class=\"Box Class context-_hNOBoMn_EeyS2Zr7ZWFrXA\" id=\"_uE4tEMn-EeyS2Zr7ZWFrXA\"><rect class=\"Class\" fill=\"url(&quot;#CustomGradient_FFFFFF_E8E0D2&quot;)\" height=\"81\" rx=\"10px\" ry=\"10px\" stroke=\"#7B694F\" stroke-width=\"1\" width=\"111\" x=\"335.5\" y=\"405.5\" /><text class=\"Class\" dominant-baseline=\"middle\" fill=\"#000000\" text-anchor=\"middle\" x=\"335\" y=\"405\"><tspan x=\"401.0\" xml:space=\"preserve\" y=\"413.85714285714283\">Example</tspan></text><use height=\"20\" width=\"20\" x=\"362.0\" xlink:href=\"#ClassSymbol\" y=\"403.85714285714283\" /><line stroke=\"#7B694F\" x1=\"335.5\" x2=\"446.5\" y1=\"431.2142857142857\" y2=\"431.2142857142857\" /><text class=\"Features\" dominant-baseline=\"middle\" fill=\"#000000\" text-anchor=\"start\" x=\"347.5\" y=\"431.2142857142857\"><tspan x=\"358.0\" xml:space=\"preserve\" y=\"441.92857142857144\">test : str</tspan></text><use height=\"20\" width=\"20\" x=\"337.0\" xlink:href=\"#ClassFeatureSymbol\" y=\"431.92857142857144\" /></g><g class=\"Box NumericType\" id=\"_AoUMAMn_EeyS2Zr7ZWFrXA\"><rect class=\"NumericType\" fill=\"#E8E0D2\" height=\"31\" stroke=\"#676767\" stroke-width=\"1\" width=\"61\" x=\"745.5\" y=\"145.5\" /><text class=\"NumericType\" dominant-baseline=\"middle\" fill=\"#000000\" text-anchor=\"middle\" x=\"745\" y=\"145\"><tspan x=\"775.5\" xml:space=\"preserve\" y=\"151.71428571428572\">float</tspan></text><line stroke=\"#676767\" x1=\"745.5\" x2=\"806.5\" y1=\"166.92857142857144\" y2=\"166.92857142857144\" /></g><g class=\"Box StringType\" id=\"_DQUJAMn_EeyS2Zr7ZWFrXA\"><rect class=\"StringType\" fill=\"#E8E0D2\" height=\"31\" stroke=\"#676767\" stroke-width=\"1\" width=\"61\" x=\"745.5\" y=\"245.5\" /><text class=\"StringType\" dominant-baseline=\"middle\" fill=\"#000000\" text-anchor=\"middle\" x=\"745\" y=\"245\"><tspan x=\"775.5\" xml:space=\"preserve\" y=\"251.71428571428572\">str</tspan></text><line stroke=\"#676767\" x1=\"745.5\" x2=\"806.5\" y1=\"266.92857142857144\" y2=\"266.92857142857144\" /></g><g class=\"Edge Association\" id=\"_57ZBAMn-EeyS2Zr7ZWFrXA\"><path class=\"Edge\" d=\"M 390.5 136.5 390.5 205.5\" fill=\"none\" marker-end=\"url(&quot;#FineArrowMark_000000&quot;)\" stroke=\"#000000\" stroke-width=\"1\" /></g><g class=\"Edge Association\" id=\"_hNOBoMn_EeyS2Zr7ZWFrXA\"><path class=\"Edge\" d=\"M 391.5 306.5 391.5 345.5 391.5 405.5\" fill=\"none\" marker-end=\"url(&quot;#FineArrowMark_000000&quot;)\" stroke=\"#000000\" stroke-width=\"1\" /></g></svg>"
      ],
      "text/plain": [
       "<Diagram '[CDB] CodeGeneration'>"
      ]
     },
     "execution_count": 3,
     "metadata": {},
     "output_type": "execute_result"
    }
   ],
   "source": [
    "model.diagrams.by_name(\"[CDB] CodeGeneration\")"
   ]
  },
  {
   "cell_type": "markdown",
   "metadata": {},
   "source": [
    "In order to access the classes, we can simply access the `data_package` of the operational layer, and from there access the attribute `classes`."
   ]
  },
  {
   "cell_type": "code",
   "execution_count": 4,
   "metadata": {},
   "outputs": [
    {
     "data": {
      "text/html": [
       "<ol start=\"0\" style=\"text-align: left;\">\n",
       "<li><img src=\"data:image/svg+xml;base64,PHN2ZyBiYXNlUHJvZmlsZT0iZnVsbCIgaGVpZ2h0PSIxMDAlIiB2ZXJzaW9uPSIxLjEiIHZpZXdCb3g9IjAgMCAxNSAxNSIgd2lkdGg9IjEwMCUiIHhtbG5zPSJodHRwOi8vd3d3LnczLm9yZy8yMDAwL3N2ZyIgeG1sbnM6ZXY9Imh0dHA6Ly93d3cudzMub3JnLzIwMDEveG1sLWV2ZW50cyIgeG1sbnM6eGxpbms9Imh0dHA6Ly93d3cudzMub3JnLzE5OTkveGxpbmsiPjxkZWZzPjxzeW1ib2wgaWQ9IkNsYXNzU3ltYm9sIiB2aWV3Qm94PSIwIDAgMjUgMjUiPjxsaW5lYXJHcmFkaWVudCBpZD0iQ2xhc3NTeW1ib2wtZ3JhZGllbnQiIHgxPSIwIiB4Mj0iMCIgeTE9IjAiIHkyPSIxIj48c3RvcCBvZmZzZXQ9IjAuMCIgc3RvcC1jb2xvcj0iI2NmYTZhNSIgc3RvcC1vcGFjaXR5PSIxIiAvPjxzdG9wIG9mZnNldD0iMS4wIiBzdG9wLWNvbG9yPSIjZjFlMmUzIiBzdG9wLW9wYWNpdHk9IjEiIC8+PC9saW5lYXJHcmFkaWVudD48ZyBzdHJva2U9IiM5MTM3MzQiPjxyZWN0IGZpbGw9IiNlZWRjZGQiIGhlaWdodD0iMyIgd2lkdGg9IjE1IiB4PSI1IiB5PSIxNyIgLz48cmVjdCBmaWxsPSIjZWVkY2RkIiBoZWlnaHQ9IjMiIHdpZHRoPSIxNSIgeD0iNSIgeT0iMTQiIC8+PHJlY3QgZmlsbD0idXJsKCNDbGFzc1N5bWJvbC1ncmFkaWVudCkiIGhlaWdodD0iMTAiIHdpZHRoPSIxNSIgeD0iNSIgeT0iNCIgLz48L2c+PC9zeW1ib2w+PC9kZWZzPjx1c2UgaGVpZ2h0PSIxNSIgd2lkdGg9IjE1IiB4PSIwIiB4bGluazpocmVmPSIjQ2xhc3NTeW1ib2wiIHk9IjAiIC8+PC9zdmc+\" alt=\"Class\" title=\"Class\" width=\"15\" height=\"15\" style=\"display: inline-block\"> <a href=\"hlink://8164ae8b-36d5-4502-a184-5ec064db4ec3\">&quot;Twist&quot;</a> (8164ae8b-36d5-4502-a184-5ec064db4ec3)</li>\n",
       "<li><img src=\"data:image/svg+xml;base64,PHN2ZyBiYXNlUHJvZmlsZT0iZnVsbCIgaGVpZ2h0PSIxMDAlIiB2ZXJzaW9uPSIxLjEiIHZpZXdCb3g9IjAgMCAxNSAxNSIgd2lkdGg9IjEwMCUiIHhtbG5zPSJodHRwOi8vd3d3LnczLm9yZy8yMDAwL3N2ZyIgeG1sbnM6ZXY9Imh0dHA6Ly93d3cudzMub3JnLzIwMDEveG1sLWV2ZW50cyIgeG1sbnM6eGxpbms9Imh0dHA6Ly93d3cudzMub3JnLzE5OTkveGxpbmsiPjxkZWZzPjxzeW1ib2wgaWQ9IkNsYXNzU3ltYm9sIiB2aWV3Qm94PSIwIDAgMjUgMjUiPjxsaW5lYXJHcmFkaWVudCBpZD0iQ2xhc3NTeW1ib2wtZ3JhZGllbnQiIHgxPSIwIiB4Mj0iMCIgeTE9IjAiIHkyPSIxIj48c3RvcCBvZmZzZXQ9IjAuMCIgc3RvcC1jb2xvcj0iI2NmYTZhNSIgc3RvcC1vcGFjaXR5PSIxIiAvPjxzdG9wIG9mZnNldD0iMS4wIiBzdG9wLWNvbG9yPSIjZjFlMmUzIiBzdG9wLW9wYWNpdHk9IjEiIC8+PC9saW5lYXJHcmFkaWVudD48ZyBzdHJva2U9IiM5MTM3MzQiPjxyZWN0IGZpbGw9IiNlZWRjZGQiIGhlaWdodD0iMyIgd2lkdGg9IjE1IiB4PSI1IiB5PSIxNyIgLz48cmVjdCBmaWxsPSIjZWVkY2RkIiBoZWlnaHQ9IjMiIHdpZHRoPSIxNSIgeD0iNSIgeT0iMTQiIC8+PHJlY3QgZmlsbD0idXJsKCNDbGFzc1N5bWJvbC1ncmFkaWVudCkiIGhlaWdodD0iMTAiIHdpZHRoPSIxNSIgeD0iNSIgeT0iNCIgLz48L2c+PC9zeW1ib2w+PC9kZWZzPjx1c2UgaGVpZ2h0PSIxNSIgd2lkdGg9IjE1IiB4PSIwIiB4bGluazpocmVmPSIjQ2xhc3NTeW1ib2wiIHk9IjAiIC8+PC9zdmc+\" alt=\"Class\" title=\"Class\" width=\"15\" height=\"15\" style=\"display: inline-block\"> <a href=\"hlink://c5ea0585-7657-4764-9eb2-3a6584980ce6\">&quot;Trajectory&quot;</a> (c5ea0585-7657-4764-9eb2-3a6584980ce6)</li>\n",
       "<li><img src=\"data:image/svg+xml;base64,PHN2ZyBiYXNlUHJvZmlsZT0iZnVsbCIgaGVpZ2h0PSIxMDAlIiB2ZXJzaW9uPSIxLjEiIHZpZXdCb3g9IjAgMCAxNSAxNSIgd2lkdGg9IjEwMCUiIHhtbG5zPSJodHRwOi8vd3d3LnczLm9yZy8yMDAwL3N2ZyIgeG1sbnM6ZXY9Imh0dHA6Ly93d3cudzMub3JnLzIwMDEveG1sLWV2ZW50cyIgeG1sbnM6eGxpbms9Imh0dHA6Ly93d3cudzMub3JnLzE5OTkveGxpbmsiPjxkZWZzPjxzeW1ib2wgaWQ9IkNsYXNzU3ltYm9sIiB2aWV3Qm94PSIwIDAgMjUgMjUiPjxsaW5lYXJHcmFkaWVudCBpZD0iQ2xhc3NTeW1ib2wtZ3JhZGllbnQiIHgxPSIwIiB4Mj0iMCIgeTE9IjAiIHkyPSIxIj48c3RvcCBvZmZzZXQ9IjAuMCIgc3RvcC1jb2xvcj0iI2NmYTZhNSIgc3RvcC1vcGFjaXR5PSIxIiAvPjxzdG9wIG9mZnNldD0iMS4wIiBzdG9wLWNvbG9yPSIjZjFlMmUzIiBzdG9wLW9wYWNpdHk9IjEiIC8+PC9saW5lYXJHcmFkaWVudD48ZyBzdHJva2U9IiM5MTM3MzQiPjxyZWN0IGZpbGw9IiNlZWRjZGQiIGhlaWdodD0iMyIgd2lkdGg9IjE1IiB4PSI1IiB5PSIxNyIgLz48cmVjdCBmaWxsPSIjZWVkY2RkIiBoZWlnaHQ9IjMiIHdpZHRoPSIxNSIgeD0iNSIgeT0iMTQiIC8+PHJlY3QgZmlsbD0idXJsKCNDbGFzc1N5bWJvbC1ncmFkaWVudCkiIGhlaWdodD0iMTAiIHdpZHRoPSIxNSIgeD0iNSIgeT0iNCIgLz48L2c+PC9zeW1ib2w+PC9kZWZzPjx1c2UgaGVpZ2h0PSIxNSIgd2lkdGg9IjE1IiB4PSIwIiB4bGluazpocmVmPSIjQ2xhc3NTeW1ib2wiIHk9IjAiIC8+PC9zdmc+\" alt=\"Class\" title=\"Class\" width=\"15\" height=\"15\" style=\"display: inline-block\"> <a href=\"hlink://2a923851-a4ca-4fd2-a4b3-302edb8ac178\">&quot;Waypoint&quot;</a> (2a923851-a4ca-4fd2-a4b3-302edb8ac178)</li>\n",
       "<li><img src=\"data:image/svg+xml;base64,PHN2ZyBiYXNlUHJvZmlsZT0iZnVsbCIgaGVpZ2h0PSIxMDAlIiB2ZXJzaW9uPSIxLjEiIHZpZXdCb3g9IjAgMCAxNSAxNSIgd2lkdGg9IjEwMCUiIHhtbG5zPSJodHRwOi8vd3d3LnczLm9yZy8yMDAwL3N2ZyIgeG1sbnM6ZXY9Imh0dHA6Ly93d3cudzMub3JnLzIwMDEveG1sLWV2ZW50cyIgeG1sbnM6eGxpbms9Imh0dHA6Ly93d3cudzMub3JnLzE5OTkveGxpbmsiPjxkZWZzPjxzeW1ib2wgaWQ9IkNsYXNzU3ltYm9sIiB2aWV3Qm94PSIwIDAgMjUgMjUiPjxsaW5lYXJHcmFkaWVudCBpZD0iQ2xhc3NTeW1ib2wtZ3JhZGllbnQiIHgxPSIwIiB4Mj0iMCIgeTE9IjAiIHkyPSIxIj48c3RvcCBvZmZzZXQ9IjAuMCIgc3RvcC1jb2xvcj0iI2NmYTZhNSIgc3RvcC1vcGFjaXR5PSIxIiAvPjxzdG9wIG9mZnNldD0iMS4wIiBzdG9wLWNvbG9yPSIjZjFlMmUzIiBzdG9wLW9wYWNpdHk9IjEiIC8+PC9saW5lYXJHcmFkaWVudD48ZyBzdHJva2U9IiM5MTM3MzQiPjxyZWN0IGZpbGw9IiNlZWRjZGQiIGhlaWdodD0iMyIgd2lkdGg9IjE1IiB4PSI1IiB5PSIxNyIgLz48cmVjdCBmaWxsPSIjZWVkY2RkIiBoZWlnaHQ9IjMiIHdpZHRoPSIxNSIgeD0iNSIgeT0iMTQiIC8+PHJlY3QgZmlsbD0idXJsKCNDbGFzc1N5bWJvbC1ncmFkaWVudCkiIGhlaWdodD0iMTAiIHdpZHRoPSIxNSIgeD0iNSIgeT0iNCIgLz48L2c+PC9zeW1ib2w+PC9kZWZzPjx1c2UgaGVpZ2h0PSIxNSIgd2lkdGg9IjE1IiB4PSIwIiB4bGluazpocmVmPSIjQ2xhc3NTeW1ib2wiIHk9IjAiIC8+PC9zdmc+\" alt=\"Class\" title=\"Class\" width=\"15\" height=\"15\" style=\"display: inline-block\"> <a href=\"hlink://a7ecc231-c55e-4ab9-ae14-9558e3ec2a34\">&quot;Example&quot;</a> (a7ecc231-c55e-4ab9-ae14-9558e3ec2a34)</li>\n",
       "</ol>"
      ],
      "text/plain": [
       "[0] <Class 'Twist' (8164ae8b-36d5-4502-a184-5ec064db4ec3)>\n",
       "[1] <Class 'Trajectory' (c5ea0585-7657-4764-9eb2-3a6584980ce6)>\n",
       "[2] <Class 'Waypoint' (2a923851-a4ca-4fd2-a4b3-302edb8ac178)>\n",
       "[3] <Class 'Example' (a7ecc231-c55e-4ab9-ae14-9558e3ec2a34)>"
      ]
     },
     "execution_count": 4,
     "metadata": {},
     "output_type": "execute_result"
    }
   ],
   "source": [
    "data_pkg = model.oa.data_package\n",
    "data_pkg.classes"
   ]
  },
  {
   "cell_type": "markdown",
   "metadata": {},
   "source": [
    "## ROS2 IDL Message\n",
    "\n",
    "Let's have a brief look into the structure of ROS2 Message descriptions. They are stored in `.msg` files and comprised of a type and name, separated by whitespace, i.e.:\n",
    "\n",
    "```\n",
    "fieldtype1 fieldname1\n",
    "fieldtype2[] fieldname2\n",
    "```"
   ]
  },
  {
   "cell_type": "code",
   "execution_count": 5,
   "metadata": {},
   "outputs": [],
   "source": [
    "def class_to_ros2_idl(cls):\n",
    "    filename = f\"{cls.name}.msg\"\n",
    "    lines = []\n",
    "    for prop in cls.properties:\n",
    "        multiplicity = \"[]\" * (prop.max_card.value not in (\"0\", \"1\"))\n",
    "        lines.append(f\"{prop.type.name}{multiplicity} {prop.name}\")\n",
    "    text = \"\\n\".join(lines)\n",
    "    with open(filename, \"w\") as file:\n",
    "        file.write(text)\n",
    "    print(f\"# file: {filename} \\n{text}\\n\")"
   ]
  },
  {
   "cell_type": "markdown",
   "metadata": {},
   "source": [
    "In our example, files would be generated with the following content:"
   ]
  },
  {
   "cell_type": "code",
   "execution_count": 6,
   "metadata": {},
   "outputs": [
    {
     "name": "stdout",
     "output_type": "stream",
     "text": [
      "# file: Twist.msg \n",
      "\n",
      "\n",
      "# file: Trajectory.msg \n",
      "Waypoint[] waypoints\n",
      "\n",
      "# file: Waypoint.msg \n",
      "float lat\n",
      "float lon\n",
      "float alt\n",
      "Example[] examples\n",
      "\n",
      "# file: Example.msg \n",
      "str test\n",
      "\n"
     ]
    }
   ],
   "source": [
    "data_pkg = model.oa.data_package\n",
    "for cls in data_pkg.classes:\n",
    "    class_to_ros2_idl(cls)"
   ]
  },
  {
   "cell_type": "markdown",
   "metadata": {},
   "source": [
    "## Interface for python classes\n",
    "\n",
    "A python class has the following structure:\n",
    "\n",
    "\n",
    "```\n",
    "class class_name:\n",
    "    name1: type  \n",
    "    name2: [type]\n",
    "```"
   ]
  },
  {
   "cell_type": "markdown",
   "metadata": {},
   "source": [
    "A python interface can be generated as follows:"
   ]
  },
  {
   "cell_type": "code",
   "execution_count": 7,
   "metadata": {},
   "outputs": [],
   "source": [
    "def class_to_python(cls, current_classes=None):\n",
    "    lines = [f\"class {cls.name}:\"]\n",
    "    current_classes = [cls]\n",
    "    if not cls.properties:\n",
    "        lines.append(4 * \" \" + \"pass\")\n",
    "    for prop in cls.properties:\n",
    "        if (\n",
    "            isinstance(prop.type, mm.information.Class)\n",
    "            and prop.type not in current_classes\n",
    "        ):\n",
    "            nested_text = class_to_python(prop.type, current_classes)\n",
    "            lines = [nested_text] + [\"\\n\"] + lines\n",
    "        if prop.max_card.value in (\"0\", \"1\"):\n",
    "            multiplicity = prop.type.name\n",
    "        else:\n",
    "            multiplicity = f\"list[{prop.type.name}]\"\n",
    "        lines.append(4 * \" \" + f\"{prop.name}: {multiplicity}\")\n",
    "    return \"\\n\".join(lines)"
   ]
  },
  {
   "cell_type": "code",
   "execution_count": 8,
   "metadata": {},
   "outputs": [
    {
     "name": "stdout",
     "output_type": "stream",
     "text": [
      "# file: trajectory.py \n",
      "class Example:\n",
      "    test: str\n",
      "\n",
      "\n",
      "class Waypoint:\n",
      "    lat: float\n",
      "    lon: float\n",
      "    alt: float\n",
      "    examples: list[Example]\n",
      "\n",
      "\n",
      "class Trajectory:\n",
      "    waypoints: list[Waypoint]\n",
      "\n"
     ]
    }
   ],
   "source": [
    "trajectory = data_pkg.classes.by_name(\"Trajectory\")\n",
    "text = class_to_python(trajectory)\n",
    "filename = f\"{trajectory.name.lower()}.py\"\n",
    "with open(filename, \"w\") as file:\n",
    "    file.write(text)\n",
    "print(f\"# file: {filename} \\n{text}\\n\")"
   ]
  },
  {
   "cell_type": "markdown",
   "metadata": {},
   "source": [
    "## Interface for Protocol Buffers (Protobuf) \n",
    "\n",
    "Protobuf Message descriptions are stored in `.proto` files where a class definition starts with `message` and each property of the class is defined by at least three parts: the data type, name and its order number. Classes can also be nested in other classes. An example is shown in the following:\n",
    "\n",
    "\n",
    "```\n",
    "syntax = \"proto3\";\n",
    "\n",
    "message class1 {\n",
    "    datatype class1_name1 = 1;\n",
    "    datatype class1_name2 = 2;\n",
    "    message class2 {\n",
    "        datatype class2_name1 = 1;\n",
    "   }\n",
    "   repeated class2 class_name = 3;\n",
    "}\n",
    "\n",
    "```\n"
   ]
  },
  {
   "cell_type": "code",
   "execution_count": 9,
   "metadata": {},
   "outputs": [],
   "source": [
    "def class_to_proto(cls, current_classes=None, indent=\"\"):\n",
    "    if current_classes is None:\n",
    "        current_classes = [cls]\n",
    "        lines = ['syntax = \"proto3\";\\n']\n",
    "        indent += \" \" * 4\n",
    "        lines.append(f\"{indent[:-4]}message  {cls.name} {{\")\n",
    "    else:\n",
    "        lines = [f\"{indent[:-4]}message  {cls.name} {{\"]\n",
    "\n",
    "    for counter, prop in enumerate(cls.properties, start=1):\n",
    "        multiplicity = \"[]\" * (prop.max_card.value not in (\"0\", \"1\"))\n",
    "        if (\n",
    "            isinstance(prop.type, mm.information.Class)\n",
    "            and prop.type not in current_classes\n",
    "        ):\n",
    "            current_classes.append(prop.type)\n",
    "            nested_text = class_to_proto(\n",
    "                prop.type, current_classes, indent + \" \" * 4\n",
    "            )\n",
    "            lines.append(nested_text)\n",
    "            lines.append(\n",
    "                f\"{indent}repeated {prop.type.name}{multiplicity} {prop.name} = {counter};\"\n",
    "            )\n",
    "        else:\n",
    "            lines.append(\n",
    "                f\"{indent}{prop.type.name}{multiplicity} {prop.name} = {counter};\"\n",
    "            )\n",
    "    lines.append(f\"{indent[:-4]}}}\")\n",
    "    return \"\\n\".join(lines)"
   ]
  },
  {
   "cell_type": "markdown",
   "metadata": {},
   "source": [
    "The protobuf interface of class `Trajectory` would look as follows:\n"
   ]
  },
  {
   "cell_type": "code",
   "execution_count": 10,
   "metadata": {},
   "outputs": [
    {
     "name": "stdout",
     "output_type": "stream",
     "text": [
      "# file: Trajectory.proto \n",
      "syntax = \"proto3\";\n",
      "\n",
      "message  Trajectory {\n",
      "    message  Waypoint {\n",
      "        float lat = 1;\n",
      "        float lon = 2;\n",
      "        float alt = 3;\n",
      "        message  Example {\n",
      "            str test = 1;\n",
      "        }\n",
      "        repeated Example[] examples = 4;\n",
      "    }\n",
      "    repeated Waypoint[] waypoints = 1;\n",
      "}\n",
      "\n"
     ]
    }
   ],
   "source": [
    "trajectory = data_pkg.classes.by_name(\"Trajectory\")\n",
    "text = class_to_proto(trajectory)\n",
    "filename = f\"{trajectory.name}.proto\"\n",
    "with open(filename, \"w\") as file:\n",
    "    file.write(text)\n",
    "print(f\"# file: {filename} \\n{text}\\n\")"
   ]
  }
 ],
 "metadata": {
  "kernelspec": {
   "display_name": "Python 3 (ipykernel)",
   "language": "python",
   "name": "python3"
  },
  "language_info": {
   "codemirror_mode": {
    "name": "ipython",
    "version": 3
   },
   "file_extension": ".py",
   "mimetype": "text/x-python",
   "name": "python",
   "nbconvert_exporter": "python",
   "pygments_lexer": "ipython3",
   "version": "3.11.5"
  },
  "vscode": {
   "interpreter": {
    "hash": "c5ea7dc634d8047a259e5b898f154d237fbe6934b444b1a949475949608d751e"
   }
  }
 },
 "nbformat": 4,
 "nbformat_minor": 4
}
