{
 "cells": [
  {
   "cell_type": "markdown",
   "metadata": {},
   "source": [
    "# Introduction to Code Generation\n",
    "\n",
    "This notebook exemplifies how to generate automatically code in terms of interfaces. For this three examples are provided. The first one creates a ROS message, the second a standard python class and the last a protobuf interface."
   ]
  },
  {
   "cell_type": "code",
   "execution_count": 1,
   "metadata": {},
   "outputs": [],
   "source": [
    "import capellambse"
   ]
  },
  {
   "cell_type": "code",
   "execution_count": 2,
   "metadata": {},
   "outputs": [],
   "source": [
    "path_to_model = \"../../../tests/data/melodymodel/5_0/Melody Model Test.aird\"\n",
    "model = capellambse.MelodyModel(path_to_model)"
   ]
  },
  {
   "cell_type": "markdown",
   "metadata": {},
   "source": [
    "In particular, we want to create code from our class:"
   ]
  },
  {
   "cell_type": "code",
   "execution_count": 3,
   "metadata": {},
   "outputs": [
    {
     "name": "stderr",
     "output_type": "stream",
     "text": [
      "Unknown global filter 'hide.technical.interfaces.filter'\n",
      "Unknown global filter 'ModelExtensionFilter'\n"
     ]
    },
    {
     "data": {
      "image/png": "[encoded data removed]",
      "image/svg+xml": [
       "<svg baseProfile=\"full\" class=\"ClassDiagramBlank\" height=\"421\" style=\"shape-rendering: geometricPrecision; font-family: 'Segoe UI'; font-size: 8pt; cursor: pointer;\" version=\"1.1\" viewBox=\"325 75 491 421\" width=\"491\" xmlns=\"http://www.w3.org/2000/svg\" xmlns:ev=\"http://www.w3.org/2001/xml-events\" xmlns:xlink=\"http://www.w3.org/1999/xlink\"><defs><symbol id=\"ErrorSymbol\" viewBox=\"0 0 2.6458 2.6458\"><path d=\"M 0,0 2.6458333,2.6458333 M 0,2.6458333 2.6458333,0\" style=\"fill: none; stroke: red; stroke-width: 0.5;\" /></symbol><symbol id=\"RequirementSymbol\" style=\"stroke: none;\" viewBox=\"0 0 50 50\"><path d=\"M 12.806813,6.5702324 A 6.244379,5.8113241 0 0 1 6.5624342,12.381557 6.244379,5.8113241 0 0 1 0.31805515,6.5702324 6.244379,5.8113241 0 0 1 6.5624342,0.75890827 6.244379,5.8113241 0 0 1 12.806813,6.5702324 Z\" style=\"fill: #431964\" /><path d=\"m 4.3228658,5.8752475 h 2.9514721 q 0.2945581,0 0.5184223,-0.1413879 Q 8.0225155,5.5865806 8.1462299,5.3214783 8.2699443,5.056376 8.2758355,4.7029063 v 0 q 0,-0.3475786 -0.1237144,-0.6126808 Q 8.0284067,3.8251232 7.7986513,3.6837353 7.5747872,3.5364562 7.2743379,3.5364562 H 4.3228658 V 2.1873801 h 2.9927103 q 0.7246129,0 1.2724909,0.3122316 0.5478781,0.3122316 0.8483274,0.8836743 0.3063404,0.5714427 0.3063404,1.3196203 v 0 q 0,0.7540687 -0.3063404,1.3255114 Q 9.1359451,6.5998605 8.5821759,6.912092 8.0342978,7.2243236 7.3155761,7.2243236 H 4.3228658 Z M 3.7396407,2.1873801 H 5.1476285 V 10.759021 H 3.7396407 Z M 6.3906636,6.9592213 7.8516718,6.6882279 10.102096,10.759021 H 8.4113322 Z\" style=\"fill:#ffffff;\" /></symbol><symbol id=\"ClassSymbol\" viewBox=\"0 0 25 25\"><linearGradient id=\"ClassSymbol-gradient\" x1=\"0\" x2=\"0\" y1=\"0\" y2=\"1\"><stop offset=\"0.0\" stop-color=\"#cfa6a5\" stop-opacity=\"1\" /><stop offset=\"1.0\" stop-color=\"#f1e2e3\" stop-opacity=\"1\" /></linearGradient><g style=\"stroke:#913734;\"><rect height=\"3\" style=\"fill:#eedcdd;\" width=\"15\" x=\"5\" y=\"17\" /><rect height=\"3\" style=\"fill:#eedcdd;\" width=\"15\" x=\"5\" y=\"14\" /><rect height=\"10\" style=\"fill:url(#ClassSymbol-gradient);\" width=\"15\" x=\"5\" y=\"4\" /></g></symbol><linearGradient id=\"CustomGradient_FFFFFF_E8E0D2\" x1=\"0\" x2=\"0\" y1=\"0\" y2=\"1\"><stop offset=\"0.0\" stop-color=\"#FFFFFF\" stop-opacity=\"1\" /><stop offset=\"1.0\" stop-color=\"#E8E0D2\" stop-opacity=\"1\" /></linearGradient><marker id=\"FineArrowMark_000000\" markerHeight=\"7.5\" markerUnits=\"userSpaceOnUse\" markerWidth=\"7.5\" orient=\"auto\" refX=\"7\" refY=\"3.5\"><path d=\"M 0.4535,0.107 7.309,3.621 0.492,7.407 0.144,7.407 6.414,3.63 0.136,0.479 Z\" style=\"stroke: #000000; stroke-width: 1\" /></marker></defs><rect fill=\"white\" height=\"421\" stroke=\"none\" width=\"491\" x=\"325\" y=\"75\" /><g class=\"Box Class\" id=\"_tZoJkMn-EeyS2Zr7ZWFrXA\"><rect class=\"Class\" height=\"51\" style=\"fill: url(&quot;#CustomGradient_FFFFFF_E8E0D2&quot;); rx: 10px; ry: 10px; stroke: #7B694F; stroke-width: 1\" width=\"111\" x=\"335.5\" y=\"85.5\" /><line style=\"stroke: #7B694F\" x1=\"335.5\" x2=\"446.5\" y1=\"109.5\" y2=\"109.5\" /><text class=\"Class\" dominant-baseline=\"middle\" style=\"fill: #000000\" text-anchor=\"middle\" x=\"335\" y=\"85\"><tspan x=\"401.5\" xml:space=\"preserve\" y=\"96.42857142857143\">Trajectory</tspan></text><use height=\"20\" width=\"20\" x=\"353.3571428571429\" xlink:href=\"#ClassSymbol\" y=\"86.42857142857143\" /></g><g class=\"Box Class\" id=\"_tyt_AMn-EeyS2Zr7ZWFrXA\"><rect class=\"Class\" height=\"101\" style=\"fill: url(&quot;#CustomGradient_FFFFFF_E8E0D2&quot;); rx: 10px; ry: 10px; stroke: #7B694F; stroke-width: 1\" width=\"111\" x=\"335.5\" y=\"205.5\" /><line style=\"stroke: #7B694F\" x1=\"335.5\" x2=\"446.5\" y1=\"229.5\" y2=\"229.5\" /><text class=\"Features\" dominant-baseline=\"middle\" style=\"fill: #000000\" text-anchor=\"start\" x=\"335.5\" y=\"229.5\"><tspan x=\"366.0\" xml:space=\"preserve\" y=\"241.5\">lat : float</tspan><tspan x=\"366.0\" xml:space=\"preserve\" y=\"251.5\">lon : float</tspan><tspan x=\"366.0\" xml:space=\"preserve\" y=\"261.5\">alt : float</tspan></text><text class=\"Class\" dominant-baseline=\"middle\" style=\"fill: #000000\" text-anchor=\"middle\" x=\"335\" y=\"205\"><tspan x=\"401.5\" xml:space=\"preserve\" y=\"216.42857142857142\">Waypoint</tspan></text><use height=\"20\" width=\"20\" x=\"355.5\" xlink:href=\"#ClassSymbol\" y=\"206.42857142857142\" /></g><g class=\"Box Class\" id=\"_uE4tEMn-EeyS2Zr7ZWFrXA\"><rect class=\"Class\" height=\"81\" style=\"fill: url(&quot;#CustomGradient_FFFFFF_E8E0D2&quot;); rx: 10px; ry: 10px; stroke: #7B694F; stroke-width: 1\" width=\"111\" x=\"335.5\" y=\"405.5\" /><line style=\"stroke: #7B694F\" x1=\"335.5\" x2=\"446.5\" y1=\"429.5\" y2=\"429.5\" /><text class=\"Features\" dominant-baseline=\"middle\" style=\"fill: #000000\" text-anchor=\"start\" x=\"335.5\" y=\"429.5\"><tspan x=\"368.8571428571429\" xml:space=\"preserve\" y=\"440.7857142857143\">test : str</tspan></text><text class=\"Class\" dominant-baseline=\"middle\" style=\"fill: #000000\" text-anchor=\"middle\" x=\"335\" y=\"405\"><tspan x=\"401.5\" xml:space=\"preserve\" y=\"416.42857142857144\">Example</tspan></text><use height=\"20\" width=\"20\" x=\"357.6428571428571\" xlink:href=\"#ClassSymbol\" y=\"406.42857142857144\" /></g><g class=\"Box NumericType\" id=\"_AoUMAMn_EeyS2Zr7ZWFrXA\"><rect class=\"NumericType\" height=\"31\" style=\"fill: #E8E0D2; stroke: #676767; stroke-width: 1\" width=\"61\" x=\"745.5\" y=\"145.5\" /><text class=\"NumericType\" dominant-baseline=\"middle\" text-anchor=\"middle\" x=\"745\" y=\"145\"><tspan x=\"775.5\" xml:space=\"preserve\" y=\"160.5\">float</tspan></text></g><g class=\"Box StringType\" id=\"_DQUJAMn_EeyS2Zr7ZWFrXA\"><rect class=\"StringType\" height=\"31\" style=\"fill: #E8E0D2; stroke: #676767; stroke-width: 1\" width=\"61\" x=\"745.5\" y=\"245.5\" /><text class=\"StringType\" dominant-baseline=\"middle\" text-anchor=\"middle\" x=\"745\" y=\"245\"><tspan x=\"775.5\" xml:space=\"preserve\" y=\"260.5\">str</tspan></text></g><g class=\"Edge Association\" id=\"_57ZBAMn-EeyS2Zr7ZWFrXA\"><path class=\"Edge\" d=\"M 390.5 136.5 390.5 205.5\" style=\"marker-end: url(&quot;#FineArrowMark_000000&quot;); fill: none; marker-end: url(&quot;#FineArrowMark_000000&quot;); stroke: #000000; stroke-width: 1\" /></g><g class=\"Edge Association\" id=\"_hNOBoMn_EeyS2Zr7ZWFrXA\"><path class=\"Edge\" d=\"M 391.5 306.5 391.5 345.5 391.5 405.5\" style=\"marker-end: url(&quot;#FineArrowMark_000000&quot;); fill: none; marker-end: url(&quot;#FineArrowMark_000000&quot;); stroke: #000000; stroke-width: 1\" /></g></svg>"
      ],
      "text/html": [
       "<img src=\"data:image/svg+xml;base64,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\"/>"
      ],
      "text/plain": [
       "<Diagram '[CDB] CodeGeneration'>"
      ]
     },
     "execution_count": 3,
     "metadata": {},
     "output_type": "execute_result"
    }
   ],
   "source": [
    "model.diagrams.by_name(\"[CDB] CodeGeneration\")"
   ]
  },
  {
   "cell_type": "markdown",
   "metadata": {},
   "source": [
    "In order to access the classes, we can simply access the `data_package` of the operational layer, and from there access the attribute `classes`."
   ]
  },
  {
   "cell_type": "code",
   "execution_count": 4,
   "metadata": {},
   "outputs": [
    {
     "data": {
      "text/html": [
       "<ol start=\"0\" style=\"text-align: left;\"><li><strong>Class</strong> &quot;Twist&quot; (8164ae8b-36d5-4502-a184-5ec064db4ec3)</li><li><strong>Class</strong> &quot;Trajectory&quot; (c5ea0585-7657-4764-9eb2-3a6584980ce6)</li><li><strong>Class</strong> &quot;Waypoint&quot; (2a923851-a4ca-4fd2-a4b3-302edb8ac178)</li><li><strong>Class</strong> &quot;Example&quot; (a7ecc231-c55e-4ab9-ae14-9558e3ec2a34)</li></ol>"
      ],
      "text/plain": [
       "[0] <Class 'Twist' (8164ae8b-36d5-4502-a184-5ec064db4ec3)>\n",
       "[1] <Class 'Trajectory' (c5ea0585-7657-4764-9eb2-3a6584980ce6)>\n",
       "[2] <Class 'Waypoint' (2a923851-a4ca-4fd2-a4b3-302edb8ac178)>\n",
       "[3] <Class 'Example' (a7ecc231-c55e-4ab9-ae14-9558e3ec2a34)>"
      ]
     },
     "execution_count": 4,
     "metadata": {},
     "output_type": "execute_result"
    }
   ],
   "source": [
    "data_pkg = model.oa.data_package\n",
    "data_pkg.classes"
   ]
  },
  {
   "cell_type": "markdown",
   "metadata": {},
   "source": [
    "## ROS2 IDL Message\n",
    "\n",
    "Let's have a brief look into the structure of ROS2 Message descriptions. They are stored in `.msg` files and comprised of a type and name, separated by whitespace, i.e.:\n",
    "\n",
    "```\n",
    "fieldtype1 fieldname1\n",
    "fieldtype2[] fieldname2\n",
    "```"
   ]
  },
  {
   "cell_type": "code",
   "execution_count": 5,
   "metadata": {},
   "outputs": [],
   "source": [
    "def class_to_ros2_idl(cls):\n",
    "    filename = f\"{cls.name}.msg\"\n",
    "    lines = []\n",
    "    for prop in cls.properties:\n",
    "        multiplicity = (\"\", \"[]\")[prop.max_card.value > 1]\n",
    "        lines.append(f\"{prop.type.name}{multiplicity} {prop.name}\")\n",
    "    text = \"\\n\".join(lines)\n",
    "    with open(filename, \"w\") as file:\n",
    "        file.write(text)\n",
    "    print(f\"# file: {filename} \\n{text}\\n\")"
   ]
  },
  {
   "cell_type": "markdown",
   "metadata": {},
   "source": [
    "In our example, files would be generated with the following content:"
   ]
  },
  {
   "cell_type": "code",
   "execution_count": 6,
   "metadata": {},
   "outputs": [
    {
     "name": "stdout",
     "output_type": "stream",
     "text": [
      "# file: Twist.msg \n",
      "\n",
      "\n",
      "# file: Trajectory.msg \n",
      "Waypoint[] waypoints\n",
      "\n",
      "# file: Waypoint.msg \n",
      "float lat\n",
      "float lon\n",
      "float alt\n",
      "Example[] examples\n",
      "\n",
      "# file: Example.msg \n",
      "str test\n",
      "\n"
     ]
    }
   ],
   "source": [
    "data_pkg = model.oa.data_package\n",
    "for cls in data_pkg.classes:\n",
    "    class_to_ros2_idl(cls)"
   ]
  },
  {
   "cell_type": "markdown",
   "metadata": {},
   "source": [
    "## Interface for python classes\n",
    "\n",
    "A python class has the following structure:\n",
    "\n",
    "\n",
    "```\n",
    "class class_name:\n",
    "    name1: type  \n",
    "    name2: [type]\n",
    "```"
   ]
  },
  {
   "cell_type": "markdown",
   "metadata": {},
   "source": [
    "A python interface can be generated as follows:"
   ]
  },
  {
   "cell_type": "code",
   "execution_count": 7,
   "metadata": {},
   "outputs": [],
   "source": [
    "def class_to_python(cls, current_classes=None):\n",
    "    lines = [f\"class {cls.name}:\"]\n",
    "    current_classes = [cls]\n",
    "    if not cls.properties:\n",
    "        lines.append(4*\" \" + \"pass\")\n",
    "    for prop in cls.properties:\n",
    "        if (\n",
    "            isinstance(\n",
    "                prop.type, capellambse.model.crosslayer.information.Class\n",
    "            )\n",
    "            and prop.type not in current_classes\n",
    "        ):\n",
    "            nested_text = class_to_python(prop.type, current_classes)\n",
    "            lines = [nested_text] + [\"\\n\"] + lines\n",
    "        multiplicity = (f\"{prop.type.name}\", f\"list[{prop.type.name}]\")[\n",
    "            prop.max_card.value > 1\n",
    "        ]\n",
    "        lines.append(4*\" \" + f\"{prop.name}: {multiplicity}\")\n",
    "    text = \"\\n\".join(lines)\n",
    "\n",
    "    return text"
   ]
  },
  {
   "cell_type": "code",
   "execution_count": 8,
   "metadata": {},
   "outputs": [
    {
     "name": "stdout",
     "output_type": "stream",
     "text": [
      "# file: trajectory.py \n",
      "class Example:\n",
      "    test: str\n",
      "\n",
      "\n",
      "class Waypoint:\n",
      "    lat: float\n",
      "    lon: float\n",
      "    alt: float\n",
      "    examples: list[Example]\n",
      "\n",
      "\n",
      "class Trajectory:\n",
      "    waypoints: list[Waypoint]\n",
      "\n"
     ]
    }
   ],
   "source": [
    "trajectory = data_pkg.classes.by_name(\"Trajectory\")\n",
    "text = class_to_python(trajectory)\n",
    "filename = f\"{trajectory.name.lower()}.py\"\n",
    "with open(filename, \"w\") as file:\n",
    "    file.write(text)\n",
    "print(f\"# file: {filename} \\n{text}\\n\")"
   ]
  },
  {
   "cell_type": "markdown",
   "metadata": {},
   "source": [
    "## Interface for Protocol Buffers (Protobuf) \n",
    "\n",
    "Protobuf Message descriptions are stored in `.proto` files where a class definition starts with `message` and each property of the class is defined by at least three parts: the data type, name and its order number. Classes can also be nested in other classes. An example is shown in the following:\n",
    "\n",
    "\n",
    "```\n",
    "syntax = \"proto3\";\n",
    "\n",
    "message class1 {\n",
    "    datatype class1_name1 = 1;\n",
    "    datatype class1_name2 = 2;\n",
    "    message class2 {\n",
    "        datatype class2_name1 = 1;\n",
    "   }\n",
    "   repeated class2 class_name = 3;\n",
    "}\n",
    "\n",
    "```\n"
   ]
  },
  {
   "cell_type": "code",
   "execution_count": 9,
   "metadata": {},
   "outputs": [],
   "source": [
    "def class_to_proto(cls, current_classes=None, indent=\"\"):\n",
    "    if current_classes is None:\n",
    "        current_classes = [cls]\n",
    "        lines = ['syntax = \"proto3\";\\n']\n",
    "        indent += \" \"*4\n",
    "        lines.append(f\"{indent[:-4]}message  {cls.name} {{\")\n",
    "    else:\n",
    "        lines = [f\"{indent[:-4]}message  {cls.name} {{\"]\n",
    "\n",
    "    for counter, prop in enumerate(cls.properties, start=1):\n",
    "        multiplicity = (\"\", \"[]\")[prop.max_card.value > 1]\n",
    "        if (\n",
    "            isinstance(\n",
    "                prop.type, capellambse.model.crosslayer.information.Class\n",
    "            )\n",
    "            and prop.type not in current_classes\n",
    "        ):\n",
    "            current_classes.append(prop.type)\n",
    "            nested_text = class_to_proto(\n",
    "                prop.type, current_classes, indent + \" \"*4\n",
    "            )\n",
    "            lines.append(nested_text)\n",
    "            lines.append(\n",
    "                f\"{indent}repeated {prop.type.name}{multiplicity} {prop.name} = {counter};\"\n",
    "            )\n",
    "        else:\n",
    "            lines.append(\n",
    "                f\"{indent}{prop.type.name}{multiplicity} {prop.name} = {counter};\"\n",
    "            )\n",
    "    lines.append(f\"{indent[:-4]}}}\")\n",
    "    text = \"\\n\".join(lines)\n",
    "    return text"
   ]
  },
  {
   "cell_type": "markdown",
   "metadata": {},
   "source": [
    "The protobuf interface of class `Trajectory` would look as follows:\n"
   ]
  },
  {
   "cell_type": "code",
   "execution_count": 10,
   "metadata": {},
   "outputs": [
    {
     "name": "stdout",
     "output_type": "stream",
     "text": [
      "# file: Trajectory.proto \n",
      "syntax = \"proto3\";\n",
      "\n",
      "message  Trajectory {\n",
      "    message  Waypoint {\n",
      "        float lat = 1;\n",
      "        float lon = 2;\n",
      "        float alt = 3;\n",
      "        message  Example {\n",
      "            str test = 1;\n",
      "        }\n",
      "        repeated Example[] examples = 4;\n",
      "    }\n",
      "    repeated Waypoint[] waypoints = 1;\n",
      "}\n",
      "\n"
     ]
    }
   ],
   "source": [
    "trajectory = data_pkg.classes.by_name(\"Trajectory\")\n",
    "text = class_to_proto(trajectory)\n",
    "filename = f\"{trajectory.name}.proto\"\n",
    "with open(filename, \"w\") as file:\n",
    "    file.write(text)\n",
    "print(f\"# file: {filename} \\n{text}\\n\")"
   ]
  }
 ],
 "metadata": {
  "kernelspec": {
   "display_name": "Python 3 (ipykernel)",
   "language": "python",
   "name": "python3"
  },
  "language_info": {
   "codemirror_mode": {
    "name": "ipython",
    "version": 3
   },
   "file_extension": ".py",
   "mimetype": "text/x-python",
   "name": "python",
   "nbconvert_exporter": "python",
   "pygments_lexer": "ipython3",
   "version": "3.11.5"
  },
  "vscode": {
   "interpreter": {
    "hash": "c5ea7dc634d8047a259e5b898f154d237fbe6934b444b1a949475949608d751e"
   }
  }
 },
 "nbformat": 4,
 "nbformat_minor": 4
}
