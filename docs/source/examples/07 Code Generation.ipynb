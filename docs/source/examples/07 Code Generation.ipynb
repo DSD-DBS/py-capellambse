{
 "cells": [
  {
   "cell_type": "markdown",
   "metadata": {},
   "source": [
    "# Introduction to Code Generation\n",
    "\n",
    "This notebook exemplifies how to generate automatically code in terms of interfaces. For this three examples are provided. The first one creates a ROS message, the second a standard python class and the last a protobuf interface."
   ]
  },
  {
   "cell_type": "code",
   "execution_count": 6,
   "metadata": {},
   "outputs": [],
   "source": [
    "import capellambse"
   ]
  },
  {
   "cell_type": "code",
   "execution_count": 7,
   "metadata": {},
   "outputs": [
    {
     "name": "stderr",
     "output_type": "stream",
     "text": [
      "Cannot load PVMT extension: ValueError: Provided model does not have a PropertyValuePkg\n",
      "Property values are not available in this model\n"
     ]
    }
   ],
   "source": [
    "path_to_model = \"../../../tests/data/melodymodel/5_0/Melody Model Test.aird\"\n",
    "model = capellambse.MelodyModel(path_to_model, jupyter_untrusted=True)"
   ]
  },
  {
   "cell_type": "markdown",
   "metadata": {},
   "source": [
    "In particular, we want to create code from our class:"
   ]
  },
  {
   "cell_type": "code",
   "execution_count": 8,
   "metadata": {},
   "outputs": [
    {
     "name": "stderr",
     "output_type": "stream",
     "text": [
      "Unknown global filter 'hide.technical.interfaces.filter'\n",
      "Unknown global filter 'ModelExtensionFilter'\n",
      "Unknown global filter 'hide.association.labels.filter'\n",
      "No default style for 'Box.NumericType' in 'Class Diagram Blank'\n",
      "No default style for 'Box.NumericType' in 'Class Diagram Blank'\n",
      "No default style for 'Box.NumericType' in 'Class Diagram Blank'\n",
      "No default style for 'Box.NumericType' in 'Class Diagram Blank'\n",
      "No default style for 'Box.NumericType' in 'Class Diagram Blank'\n",
      "No default style for 'Box.NumericType' in 'Class Diagram Blank'\n",
      "No default style for 'Box.NumericType' in 'Class Diagram Blank'\n",
      "No default style for 'Box.StringType' in 'Class Diagram Blank'\n",
      "No default style for 'Box.StringType' in 'Class Diagram Blank'\n",
      "No default style for 'Box.StringType' in 'Class Diagram Blank'\n",
      "No default style for 'Box.StringType' in 'Class Diagram Blank'\n",
      "No default style for 'Box.StringType' in 'Class Diagram Blank'\n",
      "No default style for 'Box.StringType' in 'Class Diagram Blank'\n",
      "No default style for 'Box.StringType' in 'Class Diagram Blank'\n"
     ]
    },
    {
     "data": {
      "image/png": "[encoded data removed]",
      "text/plain": [
       "<Diagram '[CDB] CodeGeneration'>"
      ]
     },
     "execution_count": 8,
     "metadata": {},
     "output_type": "execute_result"
    }
   ],
   "source": [
    "model.diagrams.by_name(\"[CDB] CodeGeneration\")"
   ]
  },
  {
   "cell_type": "markdown",
   "metadata": {},
   "source": [
    "In order to access the classes, we can simply access the `data_package` of the operational layer, and from there access the attribute `classes`."
   ]
  },
  {
   "cell_type": "code",
   "execution_count": 9,
   "metadata": {},
   "outputs": [
    {
     "data": {
      "text/html": [
       "<ol start=\"0\" style=\"text-align: left;\"><li><strong>Class</strong> &quot;Twist&quot; (8164ae8b-36d5-4502-a184-5ec064db4ec3)</li><li><strong>Class</strong> &quot;Trajectory&quot; (c5ea0585-7657-4764-9eb2-3a6584980ce6)</li><li><strong>Class</strong> &quot;Waypoint&quot; (2a923851-a4ca-4fd2-a4b3-302edb8ac178)</li><li><strong>Class</strong> &quot;Example&quot; (a7ecc231-c55e-4ab9-ae14-9558e3ec2a34)</li></ol>"
      ],
      "text/plain": [
       "[0] <Class 'Twist' (8164ae8b-36d5-4502-a184-5ec064db4ec3)>\n",
       "[1] <Class 'Trajectory' (c5ea0585-7657-4764-9eb2-3a6584980ce6)>\n",
       "[2] <Class 'Waypoint' (2a923851-a4ca-4fd2-a4b3-302edb8ac178)>\n",
       "[3] <Class 'Example' (a7ecc231-c55e-4ab9-ae14-9558e3ec2a34)>"
      ]
     },
     "execution_count": 9,
     "metadata": {},
     "output_type": "execute_result"
    }
   ],
   "source": [
    "data_pkg = model.oa.data_package\n",
    "data_pkg.classes"
   ]
  },
  {
   "cell_type": "markdown",
   "metadata": {},
   "source": [
    "## ROS2 IDL Message\n",
    "\n",
    "Let's have a brief look into the structure of ROS2 Message descriptions. They are stored in `.msg` files and comprised of a type and name, separated by whitespace, i.e.:\n",
    "\n",
    "```\n",
    "fieldtype1 fieldname1\n",
    "fieldtype2[] fieldname2\n",
    "```"
   ]
  },
  {
   "cell_type": "code",
   "execution_count": 10,
   "metadata": {},
   "outputs": [],
   "source": [
    "def class_to_ros2_idl(cls):\n",
    "    filename = f\"{cls.name}.msg\"\n",
    "    lines = []\n",
    "    for prop in cls.properties:\n",
    "        multiplicity = (\"\", \"[]\")[prop.max_card.value > 1]\n",
    "        lines.append(f\"{prop.type.name}{multiplicity} {prop.name}\")\n",
    "    text = \"\\n\".join(lines)\n",
    "    with open(filename, \"w\") as file:\n",
    "        file.write(text)\n",
    "    print(f\"# file: {filename} \\n{text}\\n\")"
   ]
  },
  {
   "cell_type": "markdown",
   "metadata": {},
   "source": [
    "In our example, files would be generated with the following content:"
   ]
  },
  {
   "cell_type": "code",
   "execution_count": 11,
   "metadata": {},
   "outputs": [
    {
     "name": "stdout",
     "output_type": "stream",
     "text": [
      "# file: Twist.msg \n",
      "\n",
      "\n",
      "# file: Trajectory.msg \n",
      "Waypoint[] waypoints\n",
      "\n",
      "# file: Waypoint.msg \n",
      "float lat\n",
      "float lon\n",
      "float alt\n",
      "Example[] examples\n",
      "\n",
      "# file: Example.msg \n",
      "str test\n",
      "\n"
     ]
    }
   ],
   "source": [
    "data_pkg = model.oa.data_package\n",
    "for cls in data_pkg.classes:\n",
    "    class_to_ros2_idl(cls)"
   ]
  },
  {
   "cell_type": "markdown",
   "metadata": {},
   "source": [
    "## Interface for python classes\n",
    "\n",
    "A python class has the following structure:\n",
    "\n",
    "\n",
    "```\n",
    "class class_name:\n",
    "    name1: type  \n",
    "    name2: [type]\n",
    "```"
   ]
  },
  {
   "cell_type": "markdown",
   "metadata": {},
   "source": [
    "A python interface can be generated as follows:"
   ]
  },
  {
   "cell_type": "code",
   "execution_count": 12,
   "metadata": {},
   "outputs": [],
   "source": [
    "def class_to_python(cls, current_classes=None):\n",
    "    lines = [f\"class {cls.name}:\"]\n",
    "    current_classes = [cls]\n",
    "    if not cls.properties:\n",
    "        lines.append(4*\" \" + \"pass\")\n",
    "    for prop in cls.properties:\n",
    "        if (\n",
    "            isinstance(\n",
    "                prop.type, capellambse.model.crosslayer.information.Class\n",
    "            )\n",
    "            and prop.type not in current_classes\n",
    "        ):\n",
    "            nested_text = class_to_python(prop.type, current_classes)\n",
    "            lines = [nested_text] + [\"\\n\"] + lines\n",
    "        multiplicity = (f\"{prop.type.name}\", f\"list[{prop.type.name}]\")[\n",
    "            prop.max_card.value > 1\n",
    "        ]\n",
    "        lines.append(4*\" \" + f\"{prop.name}: {multiplicity}\")\n",
    "    text = \"\\n\".join(lines)\n",
    "\n",
    "    return text"
   ]
  },
  {
   "cell_type": "code",
   "execution_count": 13,
   "metadata": {},
   "outputs": [
    {
     "name": "stdout",
     "output_type": "stream",
     "text": [
      "# file: trajectory.py \n",
      "class Example:\n",
      "    test: str\n",
      "\n",
      "\n",
      "class Waypoint:\n",
      "    lat: float\n",
      "    lon: float\n",
      "    alt: float\n",
      "    examples: list[Example]\n",
      "\n",
      "\n",
      "class Trajectory:\n",
      "    waypoints: list[Waypoint]\n",
      "\n"
     ]
    }
   ],
   "source": [
    "trajectory = data_pkg.classes.by_name(\"Trajectory\")\n",
    "text = class_to_python(trajectory)\n",
    "filename = f\"{trajectory.name.lower()}.py\"\n",
    "with open(filename, \"w\") as file:\n",
    "    file.write(text)\n",
    "print(f\"# file: {filename} \\n{text}\\n\")"
   ]
  },
  {
   "cell_type": "markdown",
   "metadata": {},
   "source": [
    "## Interface for Protocol Buffers (Protobuf) \n",
    "\n",
    "Protobuf Message descriptions are stored in `.proto` files where a class definition starts with `message` and each property of the class is defined by at least three parts: the data type, name and its order number. Classes can also be nested in other classes. An example is shown in the following:\n",
    "\n",
    "\n",
    "```\n",
    "syntax = \"proto3\";\n",
    "\n",
    "message class1 {\n",
    "    datatype class1_name1 = 1;\n",
    "    datatype class1_name2 = 2;\n",
    "    message class2 {\n",
    "        datatype class2_name1 = 1;\n",
    "   }\n",
    "   repeated class2 class_name = 3;\n",
    "}\n",
    "\n",
    "```\n"
   ]
  },
  {
   "cell_type": "code",
   "execution_count": 14,
   "metadata": {},
   "outputs": [],
   "source": [
    "def class_to_proto(cls, current_classes=None, indent=\"\"):\n",
    "    if current_classes is None:\n",
    "        current_classes = [cls]\n",
    "        lines = ['syntax = \"proto3\";\\n']\n",
    "        indent += \" \"*4\n",
    "        lines.append(f\"{indent[:-4]}message  {cls.name} {{\")\n",
    "    else:\n",
    "        lines = [f\"{indent[:-4]}message  {cls.name} {{\"]\n",
    "\n",
    "    for counter, prop in enumerate(cls.properties, start=1):\n",
    "        multiplicity = (\"\", \"[]\")[prop.max_card.value > 1]\n",
    "        if (\n",
    "            isinstance(\n",
    "                prop.type, capellambse.model.crosslayer.information.Class\n",
    "            )\n",
    "            and prop.type not in current_classes\n",
    "        ):\n",
    "            current_classes.append(prop.type)\n",
    "            nested_text = class_to_proto(\n",
    "                prop.type, current_classes, indent + \" \"*4\n",
    "            )\n",
    "            lines.append(nested_text)\n",
    "            lines.append(\n",
    "                f\"{indent}repeated {prop.type.name}{multiplicity} {prop.name} = {counter};\"\n",
    "            )\n",
    "        else:\n",
    "            lines.append(\n",
    "                f\"{indent}{prop.type.name}{multiplicity} {prop.name} = {counter};\"\n",
    "            )\n",
    "    lines.append(f\"{indent[:-4]}}}\")\n",
    "    text = \"\\n\".join(lines)\n",
    "    return text"
   ]
  },
  {
   "cell_type": "markdown",
   "metadata": {},
   "source": [
    "The protobuf interface of class `Trajectory` would look as follows:\n"
   ]
  },
  {
   "cell_type": "code",
   "execution_count": 15,
   "metadata": {},
   "outputs": [
    {
     "name": "stdout",
     "output_type": "stream",
     "text": [
      "# file: Trajectory.proto \n",
      "syntax = \"proto3\";\n",
      "\n",
      "message  Trajectory {\n",
      "    message  Waypoint {\n",
      "        float lat = 1;\n",
      "        float lon = 2;\n",
      "        float alt = 3;\n",
      "        message  Example {\n",
      "            str test = 1;\n",
      "        }\n",
      "        repeated Example[] examples = 4;\n",
      "    }\n",
      "    repeated Waypoint[] waypoints = 1;\n",
      "}\n",
      "\n"
     ]
    }
   ],
   "source": [
    "trajectory = data_pkg.classes.by_name(\"Trajectory\")\n",
    "text = class_to_proto(trajectory)\n",
    "filename = f\"{trajectory.name}.proto\"\n",
    "with open(filename, \"w\") as file:\n",
    "    file.write(text)\n",
    "print(f\"# file: {filename} \\n{text}\\n\")"
   ]
  }
 ],
 "metadata": {
  "kernelspec": {
   "display_name": "venv",
   "language": "python",
   "name": "venv"
  },
  "language_info": {
   "codemirror_mode": {
    "name": "ipython",
    "version": 3
   },
   "file_extension": ".py",
   "mimetype": "text/x-python",
   "name": "python",
   "nbconvert_exporter": "python",
   "pygments_lexer": "ipython3",
   "version": "3.10.6"
  },
  "orig_nbformat": 4,
  "vscode": {
   "interpreter": {
    "hash": "c5ea7dc634d8047a259e5b898f154d237fbe6934b444b1a949475949608d751e"
   }
  }
 },
 "nbformat": 4,
 "nbformat_minor": 2
}
