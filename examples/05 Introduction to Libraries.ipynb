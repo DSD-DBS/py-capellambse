{
 "cells": [
  {
   "cell_type": "markdown",
   "metadata": {},
   "source": [
    "# Introduction to Libraries\n",
    "\n",
    "This notebook illustrates the use of Capella Libraries."
   ]
  },
  {
   "cell_type": "markdown",
   "metadata": {},
   "source": [
    "When trying to load a model that uses a library, you may encounter an error similar to this:"
   ]
  },
  {
   "cell_type": "code",
   "execution_count": 1,
   "metadata": {
    "scrolled": false
   },
   "outputs": [
    {
     "name": "stdout",
     "output_type": "stream",
     "text": [
      "MissingResourceLocationError: 'Library Test'\n"
     ]
    }
   ],
   "source": [
    "import capellambse\n",
    "path_to_model = \"../tests/data/Library Project/Library Project.aird\"\n",
    "\n",
    "try:\n",
    "    capellambse.MelodyModel(path_to_model)\n",
    "except Exception as err:\n",
    "    print(f\"{type(err).__name__}: {err}\")\n",
    "else:\n",
    "    print(\"There should have been an error here ...\")"
   ]
  },
  {
   "cell_type": "markdown",
   "metadata": {},
   "source": [
    "This tells us the name that was given to the library: `Library Test`. So, we need to define a resource location with that name. As there can be arbitrarily many resource locations (i.e. linked libraries) with arbitrary names given to them, these locations are handed over in a Python `dict`.\n",
    "\n",
    "There are three ways of defining a resource location:\n",
    "\n",
    "1. A simple `str` containing only a path or URL, similar to the first positional argument of `MelodyModel`.\n",
    "2. A nested dictionary with a `path` key, as well as other keys needed to find and access that resource. These may include `subdir` or `username` and `password`.\n",
    "3. A constructed `FileHandler` object.\n",
    "\n",
    "The following cell shows a concrete example of each of them."
   ]
  },
  {
   "cell_type": "code",
   "execution_count": 2,
   "metadata": {},
   "outputs": [],
   "source": [
    "# Simple `str`\n",
    "resources = {\n",
    "    \"Library Test\": \"/data/models/Library Test\",\n",
    "}\n",
    "\n",
    "# Nested `dict`\n",
    "resources = {\n",
    "    \"Library Test\": {\n",
    "        \"path\": \"https://raw.githubusercontent.com/DSD-DBS/py-capellambse/master/tests/data/Library%20Test\",\n",
    "        # More options can be added here if necessary, e.g.:\n",
    "        # \"username\": \"demouser\",\n",
    "        # \"password\": \"super secret passphrase\",\n",
    "    }\n",
    "}\n",
    "\n",
    "# `FileHandler` object\n",
    "# (Be aware that constructing a ´FileHandler` may already involve network access,\n",
    "# for example cloning a remote git repository into a local cache.)\n",
    "lib_handler = capellambse.get_filehandler(\n",
    "    \"git+https://github.com/DSD-DBS/py-capellambse.git\",\n",
    "    subdir=\"tests/data/Library Test\",\n",
    "    revis\n",
    "    # More options can be added here as well, e.g.:\n",
    "    # username=\"demouser\",\n",
    "    # password=\"super secret passphrase\",\n",
    ")\n",
    "resources = {\"Library Test\": lib_handler}"
   ]
  },
  {
   "cell_type": "markdown",
   "metadata": {},
   "source": [
    "Equipped with this `resources` dictionary, we can now try to load the model again:"
   ]
  },
  {
   "cell_type": "code",
   "execution_count": 3,
   "metadata": {},
   "outputs": [
    {
     "name": "stderr",
     "output_type": "stream",
     "text": [
      "Cannot load PVMT extension: ValueError: Provided model does not have a PropertyValuePkg\n",
      "Property values are not available in this model\n"
     ]
    }
   ],
   "source": [
    "model = capellambse.MelodyModel(path_to_model, resources=resources)"
   ]
  },
  {
   "cell_type": "markdown",
   "metadata": {},
   "source": [
    "If you receive more `MissingResourceLocationError`s, add them to the same `resources` dictionary and pass them to the `MelodyModel` as well."
   ]
  },
  {
   "cell_type": "markdown",
   "metadata": {},
   "source": [
    "Once you no longer receive errors during loading, you can use the model as normal."
   ]
  },
  {
   "cell_type": "code",
   "execution_count": 4,
   "metadata": {},
   "outputs": [
    {
     "data": {
      "text/html": [
       "<ol start=\"0\" style=\"text-align: left;\"><li><b>[CDB] Library Product</b> (uuid: _q-c-0KN2EeyJNLcTD9ngpQ)</li><li><b>[LAB] E-Commerce</b> (uuid: _SMS4sKFFEeyn0YWM8vjd5w)</li></ol>"
      ],
      "text/plain": [
       "<CachedElementList at 0x00007FF5067660E0 [<Diagram '[CDB] Library Product'>, <Diagram '[LAB] E-Commerce'>]>"
      ]
     },
     "execution_count": 4,
     "metadata": {},
     "output_type": "execute_result"
    }
   ],
   "source": [
    "model.diagrams"
   ]
  },
  {
   "cell_type": "code",
   "execution_count": 5,
   "metadata": {},
   "outputs": [
    {
     "name": "stderr",
     "output_type": "stream",
     "text": [
      "Unknown global filter 'hide.sequencing.information.filter'\n",
      "Unknown global filter 'hide.simplified.diagram.based.component.exchanges.filter'\n",
      "Unknown global filter 'hide.simplified.oriented.grouped.component.exchanges.filter'\n",
      "Unknown global filter 'ModelExtensionFilter'\n",
      "Unknown global filter 'hide.simplified.group.of.component.exchanges.filter'\n"
     ]
    },
    {
     "data": {
      "image/svg+xml": [
       "<svg baseProfile=\"full\" class=\"LogicalArchitectureBlank\" height=\"361\" version=\"1.1\" viewBox=\"60 50 875 361\" width=\"875\" xmlns=\"http://www.w3.org/2000/svg\" xmlns:ev=\"http://www.w3.org/2001/xml-events\" xmlns:xlink=\"http://www.w3.org/1999/xlink\"><defs><style>.LogicalArchitectureBlank * { shape-rendering: geometricPrecision; }\n",
       ".LogicalArchitectureBlank text { font-family: \"Segoe UI\"; font-size: 8pt; }\n",
       ".LogicalArchitectureBlank g { cursor: pointer; }\n",
       ".LogicalArchitectureBlank g.Edge &gt; path { fill: none; stroke: rgb(0, 0, 0); }\n",
       ".LogicalArchitectureBlank g.Box &gt; line { stroke: #000000; }\n",
       ".LogicalArchitectureBlank g.Box &gt; rect, .LogicalArchitectureBlank g.Box &gt; use { fill: transparent; stroke: #000000; stroke-width: 1; }\n",
       ".LogicalArchitectureBlank g.Box.Annotation &gt; line { stroke: none; }\n",
       ".LogicalArchitectureBlank g.Box.Annotation &gt; rect, .LogicalArchitectureBlank g.Box.Annotation &gt; use { fill: none; stroke: none; }\n",
       ".LogicalArchitectureBlank g.Box.Constraint &gt; line { stroke: #888888; }\n",
       ".LogicalArchitectureBlank g.Box.Constraint &gt; rect, .LogicalArchitectureBlank g.Box.Constraint &gt; use { fill: #FFF5B5; stroke: #888888; }\n",
       ".LogicalArchitectureBlank g.Box.Constraint &gt; text { fill: #000000; }\n",
       ".LogicalArchitectureBlank g.Box.Note &gt; line { stroke: #FFCC66; }\n",
       ".LogicalArchitectureBlank g.Box.Note &gt; rect, .LogicalArchitectureBlank g.Box.Note &gt; use { fill: #FFFFCB; stroke: #FFCC66; }\n",
       ".LogicalArchitectureBlank g.Box.Note &gt; text { fill: #000000; }\n",
       ".LogicalArchitectureBlank g.Box.Requirement &gt; line { stroke: #72496E; }\n",
       ".LogicalArchitectureBlank g.Box.Requirement &gt; rect, .LogicalArchitectureBlank g.Box.Requirement &gt; use { fill: #D9C4D7; stroke: #72496E; }\n",
       ".LogicalArchitectureBlank g.Box.Requirement &gt; text { fill: #000000; }\n",
       ".LogicalArchitectureBlank g.Box.Text &gt; line { stroke: transparent; }\n",
       ".LogicalArchitectureBlank g.Box.Text &gt; rect, .LogicalArchitectureBlank g.Box.Text &gt; use { stroke: transparent; }\n",
       ".LogicalArchitectureBlank g.Edge &gt; rect { fill: none; stroke: none; }\n",
       ".LogicalArchitectureBlank g.Circle &gt; circle { fill: #000000; stroke: none; }\n",
       ".LogicalArchitectureBlank g.Edge &gt; path { stroke-width: 1; }\n",
       ".LogicalArchitectureBlank g.Edge.Connector &gt; rect { fill: none; stroke: none; }\n",
       ".LogicalArchitectureBlank g.Circle.Connector &gt; circle { fill: #B0B0B0; stroke: none; }\n",
       ".LogicalArchitectureBlank g.Edge.Connector &gt; path { stroke: #B0B0B0; stroke-dasharray: 1; }\n",
       ".LogicalArchitectureBlank g.Edge.Constraint &gt; rect { fill: none; stroke: none; }\n",
       ".LogicalArchitectureBlank g.Circle.Constraint &gt; circle { fill: #000000; stroke: none; }\n",
       ".LogicalArchitectureBlank g.Edge.Constraint &gt; path { stroke: #000000; stroke-dasharray: 1, 3; marker-end: url(#FineArrowMark_000000); stroke-linecap: round; }\n",
       ".LogicalArchitectureBlank g.Edge.Note &gt; rect { fill: none; stroke: none; }\n",
       ".LogicalArchitectureBlank g.Circle.Note &gt; circle { fill: #000000; stroke: none; }\n",
       ".LogicalArchitectureBlank g.Edge.Note &gt; path { stroke: #000000; stroke-dasharray: 1, 3; }\n",
       ".LogicalArchitectureBlank g.Edge.RequirementRelation &gt; rect { fill: none; stroke: none; }\n",
       ".LogicalArchitectureBlank g.Circle.RequirementRelation &gt; circle { fill: #72496E; stroke: none; }\n",
       ".LogicalArchitectureBlank g.Edge.RequirementRelation &gt; path { stroke: #72496E; stroke-width: 2; marker-end: url(#FineArrowMark_72496E); stroke-dasharray: 5; }\n",
       ".LogicalArchitectureBlank g.Edge.RequirementRelation &gt; text { fill: #72496E; }\n",
       ".LogicalArchitectureBlank g.Box.CP_IN &gt; line { stroke: #000000; }\n",
       ".LogicalArchitectureBlank g.Box.CP_IN &gt; rect, .LogicalArchitectureBlank g.Box.CP_IN &gt; use { fill: #FFFFFF; stroke: #000000; }\n",
       ".LogicalArchitectureBlank g.Box.CP_OUT &gt; line { stroke: #000000; }\n",
       ".LogicalArchitectureBlank g.Box.CP_OUT &gt; rect, .LogicalArchitectureBlank g.Box.CP_OUT &gt; use { fill: #FFFFFF; stroke: #000000; }\n",
       ".LogicalArchitectureBlank g.Box.CP_INOUT &gt; line { stroke: #000000; }\n",
       ".LogicalArchitectureBlank g.Box.CP_INOUT &gt; rect, .LogicalArchitectureBlank g.Box.CP_INOUT &gt; use { fill: #FFFFFF; stroke: #000000; }\n",
       ".LogicalArchitectureBlank g.Box.CP_UNSET &gt; rect, .LogicalArchitectureBlank g.Box.CP_UNSET &gt; use { fill: url(\"#.CP_UNSETFillGradient\"); }\n",
       ".LogicalArchitectureBlank g.Box.FIP &gt; rect, .LogicalArchitectureBlank g.Box.FIP &gt; use { fill: #E08503; stroke-width: 0; }\n",
       ".LogicalArchitectureBlank g.Box.FOP &gt; rect, .LogicalArchitectureBlank g.Box.FOP &gt; use { fill: #095C2E; stroke-width: 0; }\n",
       ".LogicalArchitectureBlank g.Box.LogicalActor &gt; line { stroke: #4A4A97; }\n",
       ".LogicalArchitectureBlank g.Box.LogicalActor &gt; rect, .LogicalArchitectureBlank g.Box.LogicalActor &gt; use { fill: url(\"#.LogicalActorFillGradient\"); stroke: #4A4A97; }\n",
       ".LogicalArchitectureBlank g.Box.LogicalActor &gt; text { fill: #000000; }\n",
       ".LogicalArchitectureBlank g.Box.LogicalComponent &gt; line { stroke: #4A4A97; }\n",
       ".LogicalArchitectureBlank g.Box.LogicalComponent &gt; rect, .LogicalArchitectureBlank g.Box.LogicalComponent &gt; use { fill: url(\"#.LogicalComponentFillGradient\"); stroke: #4A4A97; }\n",
       ".LogicalArchitectureBlank g.Box.LogicalComponent &gt; text { fill: #4A4A97; }\n",
       ".LogicalArchitectureBlank g.Box.LogicalHumanActor &gt; line { stroke: #4A4A97; }\n",
       ".LogicalArchitectureBlank g.Box.LogicalHumanActor &gt; rect, .LogicalArchitectureBlank g.Box.LogicalHumanActor &gt; use { fill: url(\"#.LogicalHumanActorFillGradient\"); stroke: #4A4A97; }\n",
       ".LogicalArchitectureBlank g.Box.LogicalHumanActor &gt; text { fill: #4A4A97; }\n",
       ".LogicalArchitectureBlank g.Box.LogicalHumanComponent &gt; line { stroke: #4A4A97; }\n",
       ".LogicalArchitectureBlank g.Box.LogicalHumanComponent &gt; rect, .LogicalArchitectureBlank g.Box.LogicalHumanComponent &gt; use { fill: url(\"#.LogicalHumanComponentFillGradient\"); stroke: #4A4A97; }\n",
       ".LogicalArchitectureBlank g.Box.LogicalHumanComponent &gt; text { fill: #4A4A97; }\n",
       ".LogicalArchitectureBlank g.Box.LogicalFunction &gt; line { stroke: #095C2E; }\n",
       ".LogicalArchitectureBlank g.Box.LogicalFunction &gt; rect, .LogicalArchitectureBlank g.Box.LogicalFunction &gt; use { fill: #C5FFA6; stroke: #095C2E; }\n",
       ".LogicalArchitectureBlank g.Box.LogicalFunction &gt; text { fill: #095C2E; }\n",
       ".LogicalArchitectureBlank g.Edge.FunctionalExchange &gt; rect { fill: none; stroke: none; }\n",
       ".LogicalArchitectureBlank g.Circle.FunctionalExchange &gt; circle { fill: #095C2E; stroke: none; }\n",
       ".LogicalArchitectureBlank g.Edge.FunctionalExchange &gt; path { stroke: #095C2E; stroke-width: 2; }\n",
       ".LogicalArchitectureBlank g.Edge.FunctionalExchange &gt; text { fill: #095C2E; }\n",
       ".LogicalArchitectureBlank g.Edge.ComponentExchange &gt; rect { fill: none; stroke: none; }\n",
       ".LogicalArchitectureBlank g.Circle.ComponentExchange &gt; circle { fill: #4A4A97; stroke: none; }\n",
       ".LogicalArchitectureBlank g.Edge.ComponentExchange &gt; path { stroke: #4A4A97; stroke-width: 2; }\n",
       ".LogicalArchitectureBlank g.Edge.ComponentExchange &gt; text { fill: #4A4A97; }\n",
       ".LogicalArchitectureBlank g.Edge.FIPAllocation &gt; rect { fill: none; stroke: none; }\n",
       ".LogicalArchitectureBlank g.Circle.FIPAllocation &gt; circle { fill: #E08503; stroke: none; }\n",
       ".LogicalArchitectureBlank g.Edge.FIPAllocation &gt; path { stroke: #E08503; stroke-width: 2; stroke-dasharray: 5; }\n",
       ".LogicalArchitectureBlank g.Edge.FOPAllocation &gt; rect { fill: none; stroke: none; }\n",
       ".LogicalArchitectureBlank g.Circle.FOPAllocation &gt; circle { fill: #095C2E; stroke: none; }\n",
       ".LogicalArchitectureBlank g.Edge.FOPAllocation &gt; path { stroke: #095C2E; stroke-width: 2; stroke-dasharray: 5; }\n",
       "</style><symbol id=\"ErrorSymbol\" viewBox=\"0 0 2.6458 2.6458\"><path d=\"M 0,0 2.6458333,2.6458333 M 0,2.6458333 2.6458333,0\" style=\"fill: none; stroke: red; stroke-width: 0.5;\" /></symbol><symbol id=\"RequirementSymbol\" style=\"stroke: none;\" viewBox=\"0 0 50 50\"><path d=\"M 12.806813,6.5702324 A 6.244379,5.8113241 0 0 1 6.5624342,12.381557 6.244379,5.8113241 0 0 1 0.31805515,6.5702324 6.244379,5.8113241 0 0 1 6.5624342,0.75890827 6.244379,5.8113241 0 0 1 12.806813,6.5702324 Z\" style=\"fill: #431964\" /><path d=\"m 4.3228658,5.8752475 h 2.9514721 q 0.2945581,0 0.5184223,-0.1413879 Q 8.0225155,5.5865806 8.1462299,5.3214783 8.2699443,5.056376 8.2758355,4.7029063 v 0 q 0,-0.3475786 -0.1237144,-0.6126808 Q 8.0284067,3.8251232 7.7986513,3.6837353 7.5747872,3.5364562 7.2743379,3.5364562 H 4.3228658 V 2.1873801 h 2.9927103 q 0.7246129,0 1.2724909,0.3122316 0.5478781,0.3122316 0.8483274,0.8836743 0.3063404,0.5714427 0.3063404,1.3196203 v 0 q 0,0.7540687 -0.3063404,1.3255114 Q 9.1359451,6.5998605 8.5821759,6.912092 8.0342978,7.2243236 7.3155761,7.2243236 H 4.3228658 Z M 3.7396407,2.1873801 H 5.1476285 V 10.759021 H 3.7396407 Z M 6.3906636,6.9592213 7.8516718,6.6882279 10.102096,10.759021 H 8.4113322 Z\" style=\"fill:#ffffff;\" /></symbol><symbol id=\"ComponentPortSymbol\" viewBox=\"0 0 10 10\"><path d=\"M0 0h10v10H0z\" /><path d=\"M 2,2 5,7 8,2\" /></symbol><symbol id=\"LogicalActorSymbol\" style=\"stroke: #000; stroke-width: 2;\" viewBox=\"0 0 79 79\"><linearGradient id=\"ls-blue\" x1=\"0\" x2=\"0\" y1=\"0\" y2=\"1\"><stop offset=\"0.0\" stop-color=\"#c3e4ff\" stop-opacity=\"1\" /><stop offset=\"1.0\" stop-color=\"#98b0dd\" stop-opacity=\"1\" /></linearGradient><path d=\"M18 237h46v43H18z\" style=\"fill: url(#ls-blue)\" transform=\"translate(0 -218)\" /><path d=\"M12 247h11v8H12z\" style=\"fill: url(#ls-blue)\" transform=\"translate(0 -218)\" /><path d=\"M12 261h11v8H12z\" style=\"fill: url(#ls-blue)\" transform=\"translate(0 -218)\" /><g style=\"fill: #000;\" transform=\"scale(0.83010896,1.2046611)\"><path d=\"m 31.063676,19.942628 h 3.754427 v 26.759494 h -3.754427 z m 1.877213,23.189107 h 15.312173 v 3.570387 H 32.940889 Z\" /><path d=\"m 60.32612,19.942628 h 3.202306 l 9.864572,26.759494 H 69.344107 L 61.927273,25.114167 54.51044,46.702122 H 50.461548 Z M 55.007349,37.260842 H 69.08645 v 3.570387 H 55.007349 Z\" /></g></symbol><symbol id=\"LogicalComponentSymbol\" style=\"stroke: #000; stroke-width: 2;\" viewBox=\"0 0 79 79\"><linearGradient id=\"ls-blue\" x1=\"0\" x2=\"0\" y1=\"0\" y2=\"1\"><stop offset=\"0.0\" stop-color=\"#c3e4ff\" stop-opacity=\"1\" /><stop offset=\"1.0\" stop-color=\"#98b0dd\" stop-opacity=\"1\" /></linearGradient><path d=\"M18 237h46v43H18z\" style=\"fill: url(#ls-blue)\" transform=\"translate(0 -218)\" /><path d=\"M12 247h11v8H12z\" style=\"fill: url(#ls-blue)\" transform=\"translate(0 -218)\" /><path d=\"M12 261h11v8H12z\" style=\"fill: url(#ls-blue)\" transform=\"translate(0 -218)\" /><g transform=\"scale(0.90705135,1.1024734)\"><path d=\"m 37.427456,20.821353 h 4.221475 V 50.90971 H 37.427456 Z M 39.538194,46.89517 H 56.75519 v 4.01454 H 39.538194 Z\" style=\"fill: #000;\" /></g></symbol><symbol id=\"LogicalFunctionSymbol\" viewBox=\"0 0 79 79\"><linearGradient id=\"green\" x1=\"0\" x2=\"1\" y1=\"0\" y2=\"0\"><stop offset=\"0.0\" stop-color=\"#6CB35B\" stop-opacity=\"1\" /><stop offset=\"1.0\" stop-color=\"#ffffff\" stop-opacity=\"1\" /></linearGradient><ellipse cx=\"42.2\" cy=\"32\" rx=\"22.5\" ry=\"15.5\" style=\"fill: url(#green); stroke: #000; stroke-width: 2;\" /><text style=\"font-family: &quot;Segoe UI&quot;; font-size: 12pt; font-weight: bold; fill: black; stroke: none;\" text-anchor=\"middle\" x=\"42.2\" y=\"38\">LF</text></symbol><symbol id=\"LogicalHumanActorSymbol\" style=\"stroke: #000; stroke-width: 2;\" viewBox=\"0 0 79 79\"><use transform=\"matrix(0.81762456,0,0,0.81762456,-2.5207584,0.47091696)\" xlink:href=\"#StickFigureSymbol\" /></symbol><symbol id=\"LogicalHumanComponentSymbol\" style=\"stroke: #000; stroke-width: 2;\" viewBox=\"0 0 79 79\"><linearGradient id=\"ls-blue\" x1=\"0\" x2=\"0\" y1=\"0\" y2=\"1\"><stop offset=\"0.0\" stop-color=\"#c3e4ff\" stop-opacity=\"1\" /><stop offset=\"1.0\" stop-color=\"#98b0dd\" stop-opacity=\"1\" /></linearGradient><path d=\"M18 237h46v43H18z\" style=\"fill: url(#ls-blue)\" transform=\"translate(0 -218)\" /><path d=\"M12 247h11v8H12z\" style=\"fill: url(#ls-blue)\" transform=\"translate(0 -218)\" /><path d=\"M12 261h11v8H12z\" style=\"fill: url(#ls-blue)\" transform=\"translate(0 -218)\" /><use transform=\"matrix(0.62,0,0,0.62,23.82,16.51)\" xlink:href=\"#StickFigureSymbol\" /></symbol><symbol id=\"PortSymbol\" viewBox=\"0 0 10 10\"><path d=\"M0 0h10v10H0z\" /><path d=\"M5 1L1 9h8z\" fill=\"#fff\" /></symbol><symbol id=\"StickFigureSymbol\" style=\"stroke: #000; stroke-width: 2;\" viewBox=\"362.861 210.892 75 75\"><g style=\"stroke-width: 2.4944; stroke: #000;\" transform=\"matrix(1.0611338,0,0,1.0611338,-24.47665,-12.241673)\"><line style=\"fill: none;\" x1=\"400.362\" x2=\"400.362\" y1=\"232.586\" y2=\"257.534\" /><line style=\"fill: none;\" x1=\"400.83401\" x2=\"388.423\" y1=\"254.299\" y2=\"275.009\" /><line style=\"fill: none;\" x1=\"400.25201\" x2=\"413.97\" y1=\"254.46001\" y2=\"274.987\" /><line style=\"fill: none;\" x1=\"385.634\" x2=\"415.703\" y1=\"244.569\" y2=\"244.49699\" /><radialGradient cx=\"43.766102\" cy=\"87.902298\" fx=\"0\" fy=\"0\" gradientTransform=\"matrix(1.9728 0 0 -2.039 314.1896 402.5936)\" gradientUnits=\"userSpaceOnUse\" id=\"head\" r=\"4.4296999\"><stop offset=\"0\" stop-color=\"#FDFCFA\" /><stop offset=\"1\" stop-color=\"#8B9BA7\" /></radialGradient><ellipse cx=\"400.53201\" cy=\"223.35899\" rx=\"9.2180004\" ry=\"8.5080004\" style=\"fill:url(#head)\" /></g></symbol><symbol id=\"FunctionalExchangeSymbol\" viewBox=\"0 0 40 30\"><linearGradient id=\"FunctionalExchangeSymbol-gradient\" x1=\"0\" x2=\"1\" y1=\"0\" y2=\"1\"><stop offset=\"0.0\" stop-color=\"#4F7C45\" stop-opacity=\"1\" /><stop offset=\"1.0\" stop-color=\"#BCDDB4\" stop-opacity=\"1\" /></linearGradient><linearGradient id=\"FunctionalExchangeSymbol-gradientreverse\" x1=\"0\" x2=\"1\" y1=\"0\" y2=\"1\"><stop offset=\"0.0\" stop-color=\"#BCDDB4\" stop-opacity=\"1\" /><stop offset=\"1.0\" stop-color=\"#4F7C45\" stop-opacity=\"1\" /></linearGradient><g style=\"stroke:#000;stroke-width:2;\"><path d=\"M 36.190065,5.0377724 V 24.962228 H 26.17482 V 5.0377724 Z\" style=\"fill: url(#FunctionalExchangeSymbol-gradientreverse)\" /><path d=\"m 14.372107,10 h 12.622435 c 0.926189,0.585267 1.836022,1.274509 2.268178,5 -0.208657,2.812473 -0.954601,4.503809 -2.273297,5 H 14.296948\" style=\"fill: #61c34c\" /><path d=\"M 3.9464908,5.0048246 V 24.995175 H 10.87518 C 12.433713,24.159139 15.158267,20.291241 15.313795,15 15.498614,11.583142 14.059659,6.6240913 10.87518,5.0048246 c -2.2179509,0 -4.5908341,0 -6.9286892,0 z\" style=\"fill: url(#FunctionalExchangeSymbol-gradient)\" /></g></symbol><symbol id=\"ComponentExchangeSymbol\" viewBox=\"0 0 40 30\"><linearGradient id=\"ComponentExchangeSymbol-gradient\" x1=\"0\" x2=\"1\" y1=\"0\" y2=\"1\"><stop offset=\"0.0\" stop-color=\"#8FA5B6\" stop-opacity=\"1\" /><stop offset=\"1.0\" stop-color=\"#E0E9F3\" stop-opacity=\"1\" /></linearGradient><linearGradient id=\"ComponentExchangeSymbol-gradientreverse\" x1=\"0\" x2=\"1\" y1=\"0\" y2=\"1\"><stop offset=\"0.0\" stop-color=\"#E0E9F3\" stop-opacity=\"1\" /><stop offset=\"1.0\" stop-color=\"#8FA5B6\" stop-opacity=\"1\" /></linearGradient><g style=\"stroke:#000;stroke-width:2;\"><path d=\"M 36.190065,5.0377724 V 24.962228 H 26.17482 V 5.0377724 Z\" style=\"fill: url(#ComponentExchangeSymbol-gradientreverse)\" /><path d=\"m 14.372107,10 h 12.622435 c 0.926189,0.585267 1.836022,1.274509 2.268178,5 -0.208657,2.812473 -0.954601,4.503809 -2.273297,5 H 14.296948\" style=\"fill: #A3BCD0\" /><path d=\"M 3.9464908,5.0048246 V 24.995175 H 10.87518 C 12.433713,24.159139 15.158267,20.291241 15.313795,15 15.498614,11.583142 14.059659,6.6240913 10.87518,5.0048246 c -2.2179509,0 -4.5908341,0 -6.9286892,0 z\" style=\"fill: url(#ComponentExchangeSymbol-gradient)\" /></g></symbol><linearGradient id=\".CP_UNSETFillGradient\" x1=\"0%\" x2=\"0%\" y1=\"0%\" y2=\"100%\"><stop offset=\"0\" stop-color=\"#EF2929\" /><stop offset=\"1\" stop-color=\"#FFFFFF\" /></linearGradient><linearGradient id=\".LogicalActorFillGradient\" x1=\"0%\" x2=\"0%\" y1=\"0%\" y2=\"100%\"><stop offset=\"0\" stop-color=\"#DAFDFF\" /><stop offset=\"1\" stop-color=\"#C6E6FF\" /></linearGradient><linearGradient id=\".LogicalComponentFillGradient\" x1=\"0%\" x2=\"0%\" y1=\"0%\" y2=\"100%\"><stop offset=\"0\" stop-color=\"#C3E6FF\" /><stop offset=\"1\" stop-color=\"#96B1DA\" /></linearGradient><linearGradient id=\".LogicalHumanActorFillGradient\" x1=\"0%\" x2=\"0%\" y1=\"0%\" y2=\"100%\"><stop offset=\"0\" stop-color=\"#C3E6FF\" /><stop offset=\"1\" stop-color=\"#96B1DA\" /></linearGradient><linearGradient id=\".LogicalHumanComponentFillGradient\" x1=\"0%\" x2=\"0%\" y1=\"0%\" y2=\"100%\"><stop offset=\"0\" stop-color=\"#C3E6FF\" /><stop offset=\"1\" stop-color=\"#96B1DA\" /></linearGradient></defs><rect fill=\"white\" height=\"361\" stroke=\"none\" width=\"875\" x=\"60\" y=\"50\" /><g class=\"Box LogicalComponent\" id=\"_zxacsKOLEeyoZKqFFuuS6g\"><rect class=\"LogicalComponent\" height=\"131\" style=\"stroke-width: 1\" width=\"361\" x=\"410.5\" y=\"60.5\" /><text class=\"LogicalComponent\" dominant-baseline=\"middle\" text-anchor=\"start\" x=\"410\" y=\"60\"><tspan x=\"566.2142857142858\" xml:space=\"preserve\" y=\"70.0\">E-Commerce</tspan></text><use height=\"20\" width=\"20\" x=\"544.2142857142858\" xlink:href=\"#LogicalComponentSymbol\" y=\"60.0\" /></g><g class=\"Box LogicalFunction\" id=\"_3cmVAKOLEeyoZKqFFuuS6g\"><rect class=\"LogicalFunction\" height=\"50\" style=\"stroke-width: 1\" width=\"141\" x=\"430.5\" y=\"109.5\" /><text class=\"LogicalFunction\" dominant-baseline=\"middle\" text-anchor=\"middle\" x=\"430\" y=\"109\"><tspan x=\"500.5\" xml:space=\"preserve\" y=\"134.0\">offer products</tspan></text><use height=\"20\" width=\"20\" x=\"441.92857142857144\" xlink:href=\"#LogicalFunctionSymbol\" y=\"124.0\" /></g><g class=\"Box FIP\" id=\"_3cnjIKOLEeyoZKqFFuuS6g\"><use class=\"FIP\" height=\"10\" transform=\"rotate(90 433.5 135.5)\" width=\"10\" x=\"428.5\" xlink:href=\"#PortSymbol\" y=\"130.5\" /></g><g class=\"Box LogicalFunction\" id=\"_9Ac_IKOLEeyoZKqFFuuS6g\"><rect class=\"LogicalFunction\" height=\"50\" style=\"stroke-width: 1\" width=\"141\" x=\"610.5\" y=\"109.5\" /><text class=\"LogicalFunction\" dominant-baseline=\"middle\" text-anchor=\"middle\" x=\"610\" y=\"109\"><tspan x=\"680.5\" xml:space=\"preserve\" y=\"134.0\">assign order</tspan></text><use height=\"20\" width=\"20\" x=\"626.9285714285714\" xlink:href=\"#LogicalFunctionSymbol\" y=\"124.0\" /></g><g class=\"Box FOP\" id=\"_9Ac_IqOLEeyoZKqFFuuS6g\"><use class=\"FOP\" height=\"10\" transform=\"rotate(90 748.5 135.5)\" width=\"10\" x=\"743.5\" xlink:href=\"#PortSymbol\" y=\"130.5\" /></g><g class=\"Box LogicalActor\" id=\"_4sBVgKOLEeyoZKqFFuuS6g\"><rect class=\"LogicalActor\" height=\"171\" style=\"stroke-width: 1\" width=\"201\" x=\"70.5\" y=\"80.5\" /><text class=\"LogicalActor\" dominant-baseline=\"middle\" text-anchor=\"start\" x=\"70\" y=\"80\"><tspan x=\"165.5\" xml:space=\"preserve\" y=\"90.0\">Client</tspan></text><use height=\"20\" width=\"20\" x=\"143.5\" xlink:href=\"#LogicalActorSymbol\" y=\"80.0\" /></g><g class=\"Box LogicalFunction\" id=\"__NJgMKOLEeyoZKqFFuuS6g\"><rect class=\"LogicalFunction\" height=\"50\" style=\"stroke-width: 1\" width=\"141\" x=\"100.5\" y=\"109.5\" /><text class=\"LogicalFunction\" dominant-baseline=\"middle\" text-anchor=\"middle\" x=\"100\" y=\"109\"><tspan x=\"170.5\" xml:space=\"preserve\" y=\"134.0\">select product</tspan></text><use height=\"20\" width=\"20\" x=\"112.64285714285714\" xlink:href=\"#LogicalFunctionSymbol\" y=\"124.0\" /></g><g class=\"Box FOP\" id=\"__NKHQaOLEeyoZKqFFuuS6g\"><use class=\"FOP\" height=\"10\" transform=\"rotate(90 238.5 135.5)\" width=\"10\" x=\"233.5\" xlink:href=\"#PortSymbol\" y=\"130.5\" /></g><g class=\"Box LogicalFunction\" id=\"_Cnx0AKOMEeyoZKqFFuuS6g\"><rect class=\"LogicalFunction\" height=\"50\" style=\"stroke-width: 1\" width=\"141\" x=\"100.5\" y=\"179.5\" /><text class=\"LogicalFunction\" dominant-baseline=\"middle\" text-anchor=\"middle\" x=\"100\" y=\"179\"><tspan x=\"170.5\" xml:space=\"preserve\" y=\"203.99999999999997\">get product</tspan></text><use height=\"20\" width=\"20\" x=\"119.78571428571428\" xlink:href=\"#LogicalFunctionSymbol\" y=\"193.99999999999997\" /></g><g class=\"Box FIP\" id=\"_CnybEKOMEeyoZKqFFuuS6g\"><use class=\"FIP\" height=\"10\" transform=\"rotate(0 176.5 226.5)\" width=\"10\" x=\"171.5\" xlink:href=\"#PortSymbol\" y=\"221.5\" /></g><g class=\"Box LogicalComponent\" id=\"_pogGMKQ_EeyXbcaQWLSeUQ\"><rect class=\"LogicalComponent\" height=\"121\" style=\"stroke-width: 1\" width=\"361\" x=\"410.5\" y=\"280.5\" /><text class=\"LogicalComponent\" dominant-baseline=\"middle\" text-anchor=\"start\" x=\"410\" y=\"280\"><tspan x=\"558.3571428571429\" xml:space=\"preserve\" y=\"291.42857142857144\">Truck Company</tspan></text><use height=\"20\" width=\"20\" x=\"536.3571428571429\" xlink:href=\"#LogicalComponentSymbol\" y=\"281.42857142857144\" /></g><g class=\"Box LogicalFunction\" id=\"_t8IekKQ_EeyXbcaQWLSeUQ\"><rect class=\"LogicalFunction\" height=\"50\" style=\"stroke-width: 1\" width=\"141\" x=\"610.5\" y=\"329.5\" /><text class=\"LogicalFunction\" dominant-baseline=\"middle\" text-anchor=\"middle\" x=\"610\" y=\"329\"><tspan x=\"680.5\" xml:space=\"preserve\" y=\"354.0\">receive order</tspan></text><use height=\"20\" width=\"20\" x=\"624.7857142857143\" xlink:href=\"#LogicalFunctionSymbol\" y=\"344.0\" /></g><g class=\"Box FIP\" id=\"_t8XIEqQ_EeyXbcaQWLSeUQ\"><use class=\"FIP\" height=\"10\" transform=\"rotate(-90 748.5 355.5)\" width=\"10\" x=\"743.5\" xlink:href=\"#PortSymbol\" y=\"350.5\" /></g><g class=\"Box LogicalFunction\" id=\"_t8JssaQ_EeyXbcaQWLSeUQ\"><rect class=\"LogicalFunction\" height=\"50\" style=\"stroke-width: 1\" width=\"151\" x=\"430.5\" y=\"329.5\" /><text class=\"LogicalFunction\" dominant-baseline=\"middle\" text-anchor=\"middle\" x=\"430\" y=\"329\"><tspan x=\"505.5\" xml:space=\"preserve\" y=\"354.0\">deliver product</tspan></text><use height=\"20\" width=\"20\" x=\"444.7857142857143\" xlink:href=\"#LogicalFunctionSymbol\" y=\"344.0\" /></g><g class=\"Box FOP\" id=\"_t8YWMaQ_EeyXbcaQWLSeUQ\"><use class=\"FOP\" height=\"10\" transform=\"rotate(270 433.5 355.5)\" width=\"10\" x=\"428.5\" xlink:href=\"#PortSymbol\" y=\"350.5\" /></g><g class=\"Edge FunctionalExchange\" id=\"_J8KVsKOOEey_Du5FCdH-qQ\"><path class=\"Edge\" d=\"M 233.5 135.5 428.5 135.5\" /><rect class=\"AnnotationBB\" height=\"13\" width=\"60\" x=\"306\" y=\"119\" /><text class=\"Annotation\" dominant-baseline=\"middle\" text-anchor=\"middle\" x=\"294.0\" y=\"119\"><tspan x=\"337.0\" xml:space=\"preserve\" y=\"125.42857142857143\">product list</tspan></text><use height=\"20\" width=\"20\" x=\"287.0\" xlink:href=\"#FunctionalExchangeSymbol\" y=\"115.42857142857143\" /></g><g class=\"Edge FunctionalExchange\" id=\"_HWy18KOOEey_Du5FCdH-qQ\"><path class=\"Edge\" d=\"M 428.5 355.5 176.5 355.5 171.5 226.5\" /><rect class=\"AnnotationBB\" height=\"13\" width=\"73\" x=\"202\" y=\"358\" /><text class=\"Annotation\" dominant-baseline=\"middle\" text-anchor=\"middle\" x=\"190.0\" y=\"358\"><tspan x=\"239.5\" xml:space=\"preserve\" y=\"364.42857142857144\">supply details</tspan></text><use height=\"20\" width=\"20\" x=\"183.07142857142856\" xlink:href=\"#FunctionalExchangeSymbol\" y=\"354.42857142857144\" /></g><g class=\"Edge FunctionalExchange\" id=\"_DkY7UKOOEey_Du5FCdH-qQ\"><path class=\"Edge\" d=\"M 743.5 135.5 880.5 135.5 880.5 355.5 743.5 355.5\" /><rect class=\"AnnotationBB\" height=\"10\" width=\"69\" x=\"856\" y=\"274\" /><text class=\"Annotation\" dominant-baseline=\"middle\" text-anchor=\"middle\" x=\"844.0\" y=\"274\"><tspan x=\"891.5\" xml:space=\"preserve\" y=\"279.0\">order details</tspan></text><use height=\"20\" width=\"20\" x=\"837.2142857142857\" xlink:href=\"#FunctionalExchangeSymbol\" y=\"269.0\" /></g></svg>"
      ],
      "text/plain": [
       "<Diagram '[LAB] E-Commerce'>"
      ]
     },
     "execution_count": 5,
     "metadata": {},
     "output_type": "execute_result"
    }
   ],
   "source": [
    "model.diagrams.by_name(\"[LAB] E-Commerce\")"
   ]
  },
  {
   "cell_type": "markdown",
   "metadata": {},
   "source": [
    "# Common pitfalls\n",
    "\n",
    "In order for `capellambse` to be able to find your elements, ensure that you:\n",
    "\n",
    "1. Created a replicable element collection (REC) in the Capella Library. To do that, right-click the element in the library, and choose \"REC / RPL\" > \"Create REC\".\n",
    "2. Have instantiated the REC as a so-called Replica (RPL) in your primary project. For this, right-click any element in your project and choose \"REC / RPL\" > \"Instantiate RPL from REC\".\n",
    "\n",
    "For more information, watch this [short video about REC / RPL](https://youtu.be/h-ax61eVlxM)."
   ]
  },
  {
   "cell_type": "code",
   "execution_count": 6,
   "metadata": {
    "scrolled": true
   },
   "outputs": [
    {
     "name": "stdout",
     "output_type": "stream",
     "text": [
      "Logical System\n",
      "E-Commerce\n",
      "Truck Company\n",
      "Client\n"
     ]
    }
   ],
   "source": [
    "for component in model.la.all_components:\n",
    "    print(component.name)"
   ]
  },
  {
   "cell_type": "markdown",
   "metadata": {},
   "source": [
    "# Saving a model\n",
    "\n",
    "You can save the model as usual by calling `model.save()`. However, **this will only save the primary model**. Modifications to elements that are defined only in a library will be lost.\n",
    "\n",
    "This is normally not a problem when following the standard REC / RPL based workflow, as the definitions of those elements will be copied to and modified in the primary model.\n",
    "\n",
    "In order to modify elements in one of the used libraries, you can load the library itself as a model. This allows you to apply any needed modifications and then save the library. Afterwards, the updated library can be used in the `resources` of other models."
   ]
  }
 ],
 "metadata": {
  "interpreter": {
   "hash": "e5607734f15d1b90b8506e690cd35fc527f703262c75faee6ce3cf6c6d2ff5b2"
  },
  "kernelspec": {
   "display_name": "Python 3 (ipykernel)",
   "language": "python",
   "name": "python3"
  },
  "language_info": {
   "codemirror_mode": {
    "name": "ipython",
    "version": 3
   },
   "file_extension": ".py",
   "mimetype": "text/x-python",
   "name": "python",
   "nbconvert_exporter": "python",
   "pygments_lexer": "ipython3",
   "version": "3.10.2"
  }
 },
 "nbformat": 4,
 "nbformat_minor": 2
}
