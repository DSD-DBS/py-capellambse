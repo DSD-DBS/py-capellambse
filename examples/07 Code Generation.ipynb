{
 "cells": [
  {
   "cell_type": "markdown",
   "metadata": {},
   "source": [
    "# Introduction to Code Generation\n",
    "\n",
    "This notebook exemplifies how to generate automatically code in terms of interfaces. For this three examples are provided. The first one creates a ROS message, the second a standard python class and the last a protobuf interface."
   ]
  },
  {
   "cell_type": "code",
   "execution_count": 41,
   "metadata": {},
   "outputs": [],
   "source": [
    "import capellambse"
   ]
  },
  {
   "cell_type": "code",
   "execution_count": 42,
   "metadata": {},
   "outputs": [
    {
     "name": "stderr",
     "output_type": "stream",
     "text": [
      "Cannot load PVMT extension: ValueError: Provided model does not have a PropertyValuePkg\n",
      "Property values are not available in this model\n"
     ]
    }
   ],
   "source": [
    "path_to_model = \"../tests/data/melodymodel/5_0/Melody Model Test.aird\"\n",
    "model = capellambse.MelodyModel(path_to_model)"
   ]
  },
  {
   "cell_type": "markdown",
   "metadata": {},
   "source": [
    "In particular, we want to create code from our class:"
   ]
  },
  {
   "cell_type": "code",
   "execution_count": 43,
   "metadata": {},
   "outputs": [
    {
     "name": "stderr",
     "output_type": "stream",
     "text": [
      "Unknown global filter 'hide.technical.interfaces.filter'\n",
      "Unknown global filter 'ModelExtensionFilter'\n",
      "Unknown global filter 'hide.association.labels.filter'\n",
      "No default style for 'Box.NumericType' in 'Class Diagram Blank'\n",
      "No default style for 'Box.NumericType' in 'Class Diagram Blank'\n",
      "No default style for 'Box.NumericType' in 'Class Diagram Blank'\n",
      "No default style for 'Box.NumericType' in 'Class Diagram Blank'\n",
      "No default style for 'Box.NumericType' in 'Class Diagram Blank'\n",
      "No default style for 'Box.NumericType' in 'Class Diagram Blank'\n",
      "No default style for 'Box.NumericType' in 'Class Diagram Blank'\n",
      "No default style for 'Box.StringType' in 'Class Diagram Blank'\n",
      "No default style for 'Box.StringType' in 'Class Diagram Blank'\n",
      "No default style for 'Box.StringType' in 'Class Diagram Blank'\n",
      "No default style for 'Box.StringType' in 'Class Diagram Blank'\n",
      "No default style for 'Box.StringType' in 'Class Diagram Blank'\n",
      "No default style for 'Box.StringType' in 'Class Diagram Blank'\n",
      "No default style for 'Box.StringType' in 'Class Diagram Blank'\n"
     ]
    },
    {
     "data": {
      "image/svg+xml": "<svg baseProfile=\"full\" class=\"ClassDiagramBlank\" height=\"421\" version=\"1.1\" viewBox=\"325 75 491 421\" width=\"491\" xmlns=\"http://www.w3.org/2000/svg\" xmlns:ev=\"http://www.w3.org/2001/xml-events\" xmlns:xlink=\"http://www.w3.org/1999/xlink\"><defs><style>.ClassDiagramBlank * { shape-rendering: geometricPrecision; }\n.ClassDiagramBlank text { font-family: \"Segoe UI\"; font-size: 8pt; }\n.ClassDiagramBlank g { cursor: pointer; }\n.ClassDiagramBlank g.Edge &gt; path { fill: none; stroke: rgb(0, 0, 0); }\n.ClassDiagramBlank g.Box &gt; line { stroke: #000000; }\n.ClassDiagramBlank g.Box &gt; rect, .ClassDiagramBlank g.Box &gt; use { fill: transparent; stroke: #000000; stroke-width: 1; }\n.ClassDiagramBlank g.Box.Annotation &gt; line { stroke: none; }\n.ClassDiagramBlank g.Box.Annotation &gt; rect, .ClassDiagramBlank g.Box.Annotation &gt; use { fill: none; stroke: none; }\n.ClassDiagramBlank g.Box.Constraint &gt; line { stroke: #888888; }\n.ClassDiagramBlank g.Box.Constraint &gt; rect, .ClassDiagramBlank g.Box.Constraint &gt; use { fill: #FFF5B5; stroke: #888888; }\n.ClassDiagramBlank g.Box.Constraint &gt; text { fill: #000000; }\n.ClassDiagramBlank g.Box.Note &gt; line { stroke: #FFCC66; }\n.ClassDiagramBlank g.Box.Note &gt; rect, .ClassDiagramBlank g.Box.Note &gt; use { fill: #FFFFCB; stroke: #FFCC66; }\n.ClassDiagramBlank g.Box.Note &gt; text { fill: #000000; }\n.ClassDiagramBlank g.Box.Requirement &gt; line { stroke: #72496E; }\n.ClassDiagramBlank g.Box.Requirement &gt; rect, .ClassDiagramBlank g.Box.Requirement &gt; use { fill: #D9C4D7; stroke: #72496E; }\n.ClassDiagramBlank g.Box.Requirement &gt; text { fill: #000000; }\n.ClassDiagramBlank g.Box.Text &gt; line { stroke: transparent; }\n.ClassDiagramBlank g.Box.Text &gt; rect, .ClassDiagramBlank g.Box.Text &gt; use { stroke: transparent; }\n.ClassDiagramBlank g.Edge &gt; rect { fill: none; stroke: none; }\n.ClassDiagramBlank g.Circle &gt; circle { fill: #000000; stroke: none; }\n.ClassDiagramBlank g.Edge &gt; path { stroke-width: 1; }\n.ClassDiagramBlank g.Edge.Connector &gt; rect { fill: none; stroke: none; }\n.ClassDiagramBlank g.Circle.Connector &gt; circle { fill: #B0B0B0; stroke: none; }\n.ClassDiagramBlank g.Edge.Connector &gt; path { stroke: #B0B0B0; stroke-dasharray: 1; }\n.ClassDiagramBlank g.Edge.Constraint &gt; rect { fill: none; stroke: none; }\n.ClassDiagramBlank g.Circle.Constraint &gt; circle { fill: #000000; stroke: none; }\n.ClassDiagramBlank g.Edge.Constraint &gt; path { stroke: #000000; stroke-dasharray: 1, 3; marker-end: url(#FineArrowMark_000000); stroke-linecap: round; }\n.ClassDiagramBlank g.Edge.Note &gt; rect { fill: none; stroke: none; }\n.ClassDiagramBlank g.Circle.Note &gt; circle { fill: #000000; stroke: none; }\n.ClassDiagramBlank g.Edge.Note &gt; path { stroke: #000000; stroke-dasharray: 1, 3; }\n.ClassDiagramBlank g.Edge.RequirementRelation &gt; rect { fill: none; stroke: none; }\n.ClassDiagramBlank g.Circle.RequirementRelation &gt; circle { fill: #72496E; stroke: none; }\n.ClassDiagramBlank g.Edge.RequirementRelation &gt; path { stroke: #72496E; stroke-width: 2; marker-end: url(#FineArrowMark_72496E); stroke-dasharray: 5; }\n.ClassDiagramBlank g.Edge.RequirementRelation &gt; text { fill: #72496E; }\n.ClassDiagramBlank g.Box.Class &gt; line { stroke: #7B694F; }\n.ClassDiagramBlank g.Box.Class &gt; rect, .ClassDiagramBlank g.Box.Class &gt; use { fill: url(\"#.ClassFillGradient\"); rx: 10px; ry: 10px; stroke: #7B694F; }\n.ClassDiagramBlank g.Box.Class &gt; text { fill: #000000; }\n.ClassDiagramBlank g.Box.DataPkg &gt; line { stroke: #454545; }\n.ClassDiagramBlank g.Box.DataPkg &gt; rect, .ClassDiagramBlank g.Box.DataPkg &gt; use { fill: url(\"#.DataPkgFillGradient\"); stroke: #454545; }\n.ClassDiagramBlank g.Box.DataPkg &gt; text { fill: #000000; }\n.ClassDiagramBlank g.Box.Enumeration &gt; line { stroke: #676767; }\n.ClassDiagramBlank g.Box.Enumeration &gt; rect, .ClassDiagramBlank g.Box.Enumeration &gt; use { fill: #E8E0D2; stroke: #676767; }\n.ClassDiagramBlank g.Box.Enumeration &gt; text { fill: #000000; }\n.ClassDiagramBlank g.Box.ExchangeItem &gt; line { stroke: #7C3D3D; }\n.ClassDiagramBlank g.Box.ExchangeItem &gt; rect, .ClassDiagramBlank g.Box.ExchangeItem &gt; use { fill: #F6EBEB; stroke: #7C3D3D; }\n.ClassDiagramBlank g.Box.ExchangeItem &gt; text { fill: #000000; }\n.ClassDiagramBlank g.Edge.Association &gt; rect { fill: none; stroke: none; }\n.ClassDiagramBlank g.Circle.Association &gt; circle { fill: #000000; stroke: none; }\n.ClassDiagramBlank g.Edge.Association &gt; path { stroke: #000000; marker-end: url(#FineArrowMark_000000); }\n.ClassDiagramBlank g.Edge.ExchangeItemElement &gt; rect { fill: none; stroke: none; }\n.ClassDiagramBlank g.Circle.ExchangeItemElement &gt; circle { fill: #000000; stroke: none; }\n.ClassDiagramBlank g.Edge.ExchangeItemElement &gt; path { stroke: #000000; stroke-dasharray: 5; marker-start: url(#DiamondMark_000000); marker-end: url(#ArrowMark_000000); }\n.ClassDiagramBlank g.Edge.ExchangeItemElement &gt; text { fill: #000000; }\n.ClassDiagramBlank g.Edge.Generalization &gt; rect { fill: none; stroke: none; }\n.ClassDiagramBlank g.Circle.Generalization &gt; circle { fill: #000000; stroke: none; }\n.ClassDiagramBlank g.Edge.Generalization &gt; path { stroke: #000000; marker-end: url(#GeneralizationMark_000000); }\n</style><symbol id=\"ErrorSymbol\" viewBox=\"0 0 2.6458 2.6458\"><path d=\"M 0,0 2.6458333,2.6458333 M 0,2.6458333 2.6458333,0\" style=\"fill: none; stroke: red; stroke-width: 0.5;\" /></symbol><symbol id=\"RequirementSymbol\" style=\"stroke: none;\" viewBox=\"0 0 50 50\"><path d=\"M 12.806813,6.5702324 A 6.244379,5.8113241 0 0 1 6.5624342,12.381557 6.244379,5.8113241 0 0 1 0.31805515,6.5702324 6.244379,5.8113241 0 0 1 6.5624342,0.75890827 6.244379,5.8113241 0 0 1 12.806813,6.5702324 Z\" style=\"fill: #431964\" /><path d=\"m 4.3228658,5.8752475 h 2.9514721 q 0.2945581,0 0.5184223,-0.1413879 Q 8.0225155,5.5865806 8.1462299,5.3214783 8.2699443,5.056376 8.2758355,4.7029063 v 0 q 0,-0.3475786 -0.1237144,-0.6126808 Q 8.0284067,3.8251232 7.7986513,3.6837353 7.5747872,3.5364562 7.2743379,3.5364562 H 4.3228658 V 2.1873801 h 2.9927103 q 0.7246129,0 1.2724909,0.3122316 0.5478781,0.3122316 0.8483274,0.8836743 0.3063404,0.5714427 0.3063404,1.3196203 v 0 q 0,0.7540687 -0.3063404,1.3255114 Q 9.1359451,6.5998605 8.5821759,6.912092 8.0342978,7.2243236 7.3155761,7.2243236 H 4.3228658 Z M 3.7396407,2.1873801 H 5.1476285 V 10.759021 H 3.7396407 Z M 6.3906636,6.9592213 7.8516718,6.6882279 10.102096,10.759021 H 8.4113322 Z\" style=\"fill:#ffffff;\" /></symbol><symbol id=\"ClassSymbol\" viewBox=\"0 0 25 25\"><linearGradient id=\"ClassSymbol-gradient\" x1=\"0\" x2=\"0\" y1=\"0\" y2=\"1\"><stop offset=\"0.0\" stop-color=\"#cfa6a5\" stop-opacity=\"1\" /><stop offset=\"1.0\" stop-color=\"#f1e2e3\" stop-opacity=\"1\" /></linearGradient><g style=\"stroke:#913734;\"><rect height=\"3\" style=\"fill:#eedcdd;\" width=\"15\" x=\"5\" y=\"17\" /><rect height=\"3\" style=\"fill:#eedcdd;\" width=\"15\" x=\"5\" y=\"14\" /><rect height=\"10\" style=\"fill:url(#ClassSymbol-gradient);\" width=\"15\" x=\"5\" y=\"4\" /></g></symbol><linearGradient id=\".ClassFillGradient\" x1=\"0%\" x2=\"0%\" y1=\"0%\" y2=\"100%\"><stop offset=\"0\" stop-color=\"#FFFFFF\" /><stop offset=\"1\" stop-color=\"#E8E0D2\" /></linearGradient><linearGradient id=\".DataPkgFillGradient\" x1=\"0%\" x2=\"0%\" y1=\"0%\" y2=\"100%\"><stop offset=\"0\" stop-color=\"#FFFFFF\" /><stop offset=\"1\" stop-color=\"#FAFAFA\" /></linearGradient><marker id=\"FineArrowMark_000000\" markerHeight=\"7.5\" markerUnits=\"userSpaceOnUse\" markerWidth=\"7.5\" orient=\"auto\" refX=\"7\" refY=\"3.5\"><path d=\"M 0.4535,0.107 7.309,3.621 0.492,7.407 0.144,7.407 6.414,3.63 0.136,0.479 Z\" style=\"marker-end: url(&quot;#FineArrowMark_000000&quot;); fill: #000000; stroke: #000000; stroke-width: None\" /></marker></defs><rect fill=\"white\" height=\"421\" stroke=\"none\" width=\"491\" x=\"325\" y=\"75\" /><g class=\"Box Class\" id=\"_tZoJkMn-EeyS2Zr7ZWFrXA\"><rect class=\"Class\" height=\"51\" style=\"stroke-width: 1\" width=\"111\" x=\"335.5\" y=\"85.5\" /><line x1=\"335.5\" x2=\"446.5\" y1=\"109.5\" y2=\"109.5\" /><text class=\"Class\" dominant-baseline=\"middle\" text-anchor=\"middle\" x=\"335\" y=\"85\"><tspan x=\"390.5\" xml:space=\"preserve\" y=\"95.71428571428571\">Trajectory</tspan></text><use height=\"20\" width=\"20\" x=\"344.7857142857143\" xlink:href=\"#ClassSymbol\" y=\"85.71428571428571\" /></g><g class=\"Box Class\" id=\"_tyt_AMn-EeyS2Zr7ZWFrXA\"><rect class=\"Class\" height=\"101\" style=\"stroke-width: 1\" width=\"111\" x=\"335.5\" y=\"205.5\" /><line x1=\"335.5\" x2=\"446.5\" y1=\"229.5\" y2=\"229.5\" /><text class=\"Features\" dominant-baseline=\"middle\" text-anchor=\"start\" x=\"335.5\" y=\"229.5\"><tspan x=\"366.0\" xml:space=\"preserve\" y=\"242.21428571428572\">lat : float</tspan><tspan x=\"366.0\" xml:space=\"preserve\" y=\"253.64285714285714\">lon : float</tspan><tspan x=\"366.0\" xml:space=\"preserve\" y=\"265.07142857142856\">alt : float</tspan></text><text class=\"Class\" dominant-baseline=\"middle\" text-anchor=\"middle\" x=\"335\" y=\"205\"><tspan x=\"390.5\" xml:space=\"preserve\" y=\"215.71428571428572\">Waypoint</tspan></text><use height=\"20\" width=\"20\" x=\"345.5\" xlink:href=\"#ClassSymbol\" y=\"205.71428571428572\" /></g><g class=\"Box Class\" id=\"_uE4tEMn-EeyS2Zr7ZWFrXA\"><rect class=\"Class\" height=\"81\" style=\"stroke-width: 1\" width=\"111\" x=\"335.5\" y=\"405.5\" /><line x1=\"335.5\" x2=\"446.5\" y1=\"429.5\" y2=\"429.5\" /><text class=\"Features\" dominant-baseline=\"middle\" text-anchor=\"start\" x=\"335.5\" y=\"429.5\"><tspan x=\"371.0\" xml:space=\"preserve\" y=\"441.5\">test : str</tspan></text><text class=\"Class\" dominant-baseline=\"middle\" text-anchor=\"middle\" x=\"335\" y=\"405\"><tspan x=\"390.5\" xml:space=\"preserve\" y=\"415.7142857142857\">Example</tspan></text><use height=\"20\" width=\"20\" x=\"349.07142857142856\" xlink:href=\"#ClassSymbol\" y=\"405.7142857142857\" /></g><g class=\"Box NumericType\" id=\"_AoUMAMn_EeyS2Zr7ZWFrXA\"><rect class=\"NumericType\" height=\"31\" style=\"fill: #E8E0D2; stroke: #676767; stroke-width: 1\" width=\"61\" x=\"745.5\" y=\"145.5\" /><text class=\"NumericType\" dominant-baseline=\"middle\" text-anchor=\"middle\" x=\"745\" y=\"145\"><tspan x=\"775.5\" xml:space=\"preserve\" y=\"160.5\">float</tspan></text></g><g class=\"Box StringType\" id=\"_DQUJAMn_EeyS2Zr7ZWFrXA\"><rect class=\"StringType\" height=\"31\" style=\"fill: #E8E0D2; stroke: #676767; stroke-width: 1\" width=\"61\" x=\"745.5\" y=\"245.5\" /><text class=\"StringType\" dominant-baseline=\"middle\" text-anchor=\"middle\" x=\"745\" y=\"245\"><tspan x=\"775.5\" xml:space=\"preserve\" y=\"260.5\">str</tspan></text></g><g class=\"Edge Association\" id=\"_57ZBAMn-EeyS2Zr7ZWFrXA\"><path class=\"Edge\" d=\"M 390.5 136.5 390.5 205.5\" style=\"marker-end: url(&quot;#FineArrowMark_000000&quot;)\" /><rect class=\"AnnotationBB\" height=\"12\" width=\"55\" x=\"353\" y=\"188\" /><text class=\"Annotation\" dominant-baseline=\"middle\" text-anchor=\"middle\" x=\"353\" y=\"188\"><tspan x=\"380.5\" xml:space=\"preserve\" y=\"193.71428571428572\">waypoints</tspan></text></g><g class=\"Edge Association\" id=\"_hNOBoMn_EeyS2Zr7ZWFrXA\"><path class=\"Edge\" d=\"M 391.5 306.5 391.5 345.5 391.5 405.5\" style=\"marker-end: url(&quot;#FineArrowMark_000000&quot;)\" /><rect class=\"AnnotationBB\" height=\"12\" width=\"49\" x=\"367\" y=\"379\" /><text class=\"Annotation\" dominant-baseline=\"middle\" text-anchor=\"middle\" x=\"367\" y=\"379\"><tspan x=\"391.5\" xml:space=\"preserve\" y=\"384.7142857142857\">examples</tspan></text></g></svg>",
      "text/plain": [
       "<Diagram '[CDB] CodeGeneration'>"
      ]
     },
     "execution_count": 43,
     "metadata": {},
     "output_type": "execute_result"
    }
   ],
   "source": [
    "model.diagrams.by_name(\"[CDB] CodeGeneration\")"
   ]
  },
  {
   "cell_type": "markdown",
   "metadata": {},
   "source": [
    "In order to access the classes, we can simply access the `data_package` of the operational layer, and from there access the attribute `classes`."
   ]
  },
  {
   "cell_type": "code",
   "execution_count": 44,
   "metadata": {},
   "outputs": [
    {
     "data": {
      "text/html": [
       "<ol start=\"0\" style=\"text-align: left;\"><li><strong>Class</strong> &quot;Twist&quot; (8164ae8b-36d5-4502-a184-5ec064db4ec3)</li><li><strong>Class</strong> &quot;Trajectory&quot; (c5ea0585-7657-4764-9eb2-3a6584980ce6)</li><li><strong>Class</strong> &quot;Waypoint&quot; (2a923851-a4ca-4fd2-a4b3-302edb8ac178)</li><li><strong>Class</strong> &quot;Example&quot; (a7ecc231-c55e-4ab9-ae14-9558e3ec2a34)</li></ol>"
      ],
      "text/plain": [
       "<CoupledElementList at 0x0000027E19D07880 [<Class 'Twist' (8164ae8b-36d5-4502-a184-5ec064db4ec3)>, <Class 'Trajectory' (c5ea0585-7657-4764-9eb2-3a6584980ce6)>, <Class 'Waypoint' (2a923851-a4ca-4fd2-a4b3-302edb8ac178)>, <Class 'Example' (a7ecc231-c55e-4ab9-ae14-9558e3ec2a34)>]>"
      ]
     },
     "execution_count": 44,
     "metadata": {},
     "output_type": "execute_result"
    }
   ],
   "source": [
    "data_pkg = model.oa.data_package\n",
    "data_pkg.classes"
   ]
  },
  {
   "cell_type": "markdown",
   "metadata": {},
   "source": [
    "# ROS2 IDL Message\n",
    "\n",
    "Let's have a brief look into the structure of ROS2 Message descriptions. They are stored in `.msg` files and comprised of a type and name, separated by whitespace, i.e.:\n",
    "\n",
    "```\n",
    "fieldtype1 fieldname1\n",
    "fieldtype2[] fieldname2\n",
    "```"
   ]
  },
  {
   "cell_type": "code",
   "execution_count": 45,
   "metadata": {},
   "outputs": [],
   "source": [
    "def class_to_ros2_idl(cls):\n",
    "    filename = f\"{cls.name}.msg\"\n",
    "    lines = []\n",
    "    for prop in cls.properties:\n",
    "        multiplicity = (\"\", \"[]\")[prop.max_card.value > 1]\n",
    "        lines.append(f\"{prop.type.name}{multiplicity} {prop.name}\")\n",
    "    text = \"\\n\".join(lines)\n",
    "    with open(filename, \"w\") as file:\n",
    "        file.write(text)\n",
    "    print(f\"# file: {filename} \\n{text}\\n\")"
   ]
  },
  {
   "cell_type": "markdown",
   "metadata": {},
   "source": [
    "In our example, files would be generated with the following content:"
   ]
  },
  {
   "cell_type": "code",
   "execution_count": 46,
   "metadata": {},
   "outputs": [
    {
     "name": "stdout",
     "output_type": "stream",
     "text": [
      "# file: Twist.msg \n",
      "\n",
      "\n",
      "# file: Trajectory.msg \n",
      "Waypoint[] waypoints\n",
      "\n",
      "# file: Waypoint.msg \n",
      "float lat\n",
      "float lon\n",
      "float alt\n",
      "Example[] examples\n",
      "\n",
      "# file: Example.msg \n",
      "str test\n",
      "\n"
     ]
    }
   ],
   "source": [
    "data_pkg = model.oa.data_package\n",
    "for cls in data_pkg.classes:\n",
    "    class_to_ros2_idl(cls)"
   ]
  },
  {
   "cell_type": "markdown",
   "metadata": {},
   "source": [
    "# Interface for python class\n",
    "\n",
    "A python class has the following structure:\n",
    "\n",
    "\n",
    "```\n",
    "class class_name:\n",
    "    name1: type  \n",
    "    name2: [type]\n",
    "```"
   ]
  },
  {
   "cell_type": "markdown",
   "metadata": {},
   "source": [
    "A python interface can be generated as follows:"
   ]
  },
  {
   "cell_type": "code",
   "execution_count": 47,
   "metadata": {},
   "outputs": [],
   "source": [
    "def class_to_python(cls, current_classes=None):\n",
    "    lines = [f\"class {cls.name}:\"]\n",
    "    current_classes = [cls]\n",
    "    if not cls.properties:\n",
    "        lines.append(4*\" \" + \"pass\")\n",
    "    for prop in cls.properties:\n",
    "        if (\n",
    "            isinstance(\n",
    "                prop.type, capellambse.model.crosslayer.information.Class\n",
    "            )\n",
    "            and prop.type not in current_classes\n",
    "        ):\n",
    "            nested_text = class_to_python(prop.type, current_classes)\n",
    "            lines = [nested_text] + [\"\\n\"] + lines\n",
    "        multiplicity = (f\"{prop.type.name}\", f\"list[{prop.type.name}]\")[\n",
    "            prop.max_card.value > 1\n",
    "        ]\n",
    "        lines.append(4*\" \" + f\"{prop.name}: {multiplicity}\")\n",
    "    text = \"\\n\".join(lines)\n",
    "\n",
    "    return text"
   ]
  },
  {
   "cell_type": "code",
   "execution_count": 48,
   "metadata": {},
   "outputs": [
    {
     "name": "stdout",
     "output_type": "stream",
     "text": [
      "# file: trajectory.py \n",
      "class Example:\n",
      "    test: str\n",
      "\n",
      "\n",
      "class Waypoint:\n",
      "    lat: float\n",
      "    lon: float\n",
      "    alt: float\n",
      "    examples: list[Example]\n",
      "\n",
      "\n",
      "class Trajectory:\n",
      "    waypoints: list[Waypoint]\n",
      "\n"
     ]
    }
   ],
   "source": [
    "trajectory = data_pkg.classes.by_name(\"Trajectory\")\n",
    "text = class_to_python(trajectory)\n",
    "filename = f\"{trajectory.name.lower()}.py\"\n",
    "with open(filename, \"w\") as file:\n",
    "    file.write(text)\n",
    "print(f\"# file: {filename} \\n{text}\\n\")"
   ]
  },
  {
   "cell_type": "markdown",
   "metadata": {},
   "source": [
    "# Interface for Protocol Buffers (Protobuf) \n",
    "\n",
    "Protobuf Message descriptions are stored in `.proto` files where a class definition starts with `message` and each property of the class is defined by at least three parts: the data type, name and its order number. Classes can also be nested in other classes. An example is shown in the following:\n",
    "\n",
    "\n",
    "```\n",
    "syntax = \"proto3\";\n",
    "\n",
    "message class1 {\n",
    "    datatype class1_name1 = 1;\n",
    "    datatype class1_name2 = 2;\n",
    "    message class2 {\n",
    "        datatype class2_name1 = 1;\n",
    "   }\n",
    "   repeated class2 class_name = 3;\n",
    "}\n",
    "\n",
    "```\n"
   ]
  },
  {
   "cell_type": "code",
   "execution_count": 49,
   "metadata": {},
   "outputs": [],
   "source": [
    "def class_to_proto(cls, current_classes=None, indent=\"\"):\n",
    "    if current_classes is None:\n",
    "        current_classes = [cls]\n",
    "        lines = ['syntax = \"proto3\";\\n']\n",
    "        indent += \" \"*4\n",
    "        lines.append(f\"{indent[:-4]}message  {cls.name} {{\")\n",
    "    else:\n",
    "        lines = [f\"{indent[:-4]}message  {cls.name} {{\"]\n",
    "\n",
    "    for counter, prop in enumerate(cls.properties, start=1):\n",
    "        multiplicity = (\"\", \"[]\")[prop.max_card.value > 1]\n",
    "        if (\n",
    "            isinstance(\n",
    "                prop.type, capellambse.model.crosslayer.information.Class\n",
    "            )\n",
    "            and prop.type not in current_classes\n",
    "        ):\n",
    "            current_classes.append(prop.type)\n",
    "            nested_text = class_to_proto(\n",
    "                prop.type, current_classes, indent + \" \"*4\n",
    "            )\n",
    "            lines.append(nested_text)\n",
    "            lines.append(\n",
    "                f\"{indent}repeated {prop.type.name}{multiplicity} {prop.name} = {counter};\"\n",
    "            )\n",
    "        else:\n",
    "            lines.append(\n",
    "                f\"{indent}{prop.type.name}{multiplicity} {prop.name} = {counter};\"\n",
    "            )\n",
    "    lines[-1] = lines[-1] + f\"\\n{indent[:-4]}}}\"\n",
    "    text = \"\\n\".join(lines)\n",
    "    return text"
   ]
  },
  {
   "cell_type": "markdown",
   "metadata": {},
   "source": [
    "The protobuf interface of class `Trajectory` would look as follows:\n"
   ]
  },
  {
   "cell_type": "code",
   "execution_count": 50,
   "metadata": {},
   "outputs": [
    {
     "name": "stdout",
     "output_type": "stream",
     "text": [
      "# file: Trajectory.proto \n",
      "syntax = \"proto3\";\n",
      "\n",
      "\n",
      "message  Trajectory {\n",
      "    message  Waypoint {\n",
      "        float lat = 1;\n",
      "        float lon = 2;\n",
      "        float alt = 3;\n",
      "        message  Example {\n",
      "            str test = 1;\n",
      "        }\n",
      "        repeated Example[] examples = 4;\n",
      "    }\n",
      "    repeated Waypoint[] waypoints = 1;\n",
      "}\n",
      "\n"
     ]
    }
   ],
   "source": [
    "trajectory = data_pkg.classes.by_name(\"Trajectory\")\n",
    "text = class_to_proto(trajectory)\n",
    "filename = f\"{trajectory.name}.proto\"\n",
    "with open(filename, \"w\") as file:\n",
    "    file.write(text)\n",
    "print(f\"# file: {filename} \\n{text}\\n\")"
   ]
  }
 ],
 "metadata": {
  "interpreter": {
   "hash": "f5aaca42f2275c341e41f35623e489872f07cc04ff4dbb15f99b30c8deecb431"
  },
  "kernelspec": {
   "display_name": "Python 3.10.2 ('venv': venv)",
   "language": "python",
   "name": "python3"
  },
  "language_info": {
   "codemirror_mode": {
    "name": "ipython",
    "version": 3
   },
   "file_extension": ".py",
   "mimetype": "text/x-python",
   "name": "python",
   "nbconvert_exporter": "python",
   "pygments_lexer": "ipython3",
   "version": "3.10.2"
  },
  "orig_nbformat": 4
 },
 "nbformat": 4,
 "nbformat_minor": 2
}
