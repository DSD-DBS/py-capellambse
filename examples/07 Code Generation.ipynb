{
 "cells": [
  {
   "cell_type": "markdown",
   "metadata": {},
   "source": [
    "# Introduction to Code Generation\n",
    "\n",
    "This notebook exemplifies how to generate automatically code in terms of interfaces. For this three examples are provided. The first one creates a ROS message, the second a standard python class and the last a protobuf interface."
   ]
  },
  {
   "cell_type": "code",
   "execution_count": 41,
   "metadata": {},
   "outputs": [],
   "source": [
    "import capellambse"
   ]
  },
  {
   "cell_type": "code",
   "execution_count": 42,
   "metadata": {},
   "outputs": [
    {
     "name": "stderr",
     "output_type": "stream",
     "text": [
      "Cannot load PVMT extension: ValueError: Provided model does not have a PropertyValuePkg\n",
      "Property values are not available in this model\n"
     ]
    }
   ],
   "source": [
    "path_to_model = \"../tests/data/melodymodel/5_0/Melody Model Test.aird\"\n",
    "model = capellambse.MelodyModel(path_to_model, jupyter_untrusted=True)"
   ]
  },
  {
   "cell_type": "markdown",
   "metadata": {},
   "source": [
    "In particular, we want to create code from our class:"
   ]
  },
  {
   "cell_type": "code",
   "execution_count": 43,
   "metadata": {},
   "outputs": [
    {
     "name": "stderr",
     "output_type": "stream",
     "text": [
      "Unknown global filter 'hide.technical.interfaces.filter'\n",
      "Unknown global filter 'ModelExtensionFilter'\n",
      "Unknown global filter 'hide.association.labels.filter'\n",
      "No default style for 'Box.NumericType' in 'Class Diagram Blank'\n",
      "No default style for 'Box.NumericType' in 'Class Diagram Blank'\n",
      "No default style for 'Box.NumericType' in 'Class Diagram Blank'\n",
      "No default style for 'Box.NumericType' in 'Class Diagram Blank'\n",
      "No default style for 'Box.NumericType' in 'Class Diagram Blank'\n",
      "No default style for 'Box.NumericType' in 'Class Diagram Blank'\n",
      "No default style for 'Box.NumericType' in 'Class Diagram Blank'\n",
      "No default style for 'Box.StringType' in 'Class Diagram Blank'\n",
      "No default style for 'Box.StringType' in 'Class Diagram Blank'\n",
      "No default style for 'Box.StringType' in 'Class Diagram Blank'\n",
      "No default style for 'Box.StringType' in 'Class Diagram Blank'\n",
      "No default style for 'Box.StringType' in 'Class Diagram Blank'\n",
      "No default style for 'Box.StringType' in 'Class Diagram Blank'\n",
      "No default style for 'Box.StringType' in 'Class Diagram Blank'\n"
     ]
    },
    {
     "data": {
      "image/png": "[encoded data removed]",
      "text/plain": [
       "<Diagram '[CDB] CodeGeneration'>"
      ]
     },
     "execution_count": 43,
     "metadata": {},
     "output_type": "execute_result"
    }
   ],
   "source": [
    "model.diagrams.by_name(\"[CDB] CodeGeneration\")"
   ]
  },
  {
   "cell_type": "markdown",
   "metadata": {},
   "source": [
    "In order to access the classes, we can simply access the `data_package` of the operational layer, and from there access the attribute `classes`."
   ]
  },
  {
   "cell_type": "code",
   "execution_count": 44,
   "metadata": {},
   "outputs": [
    {
     "data": {
      "text/html": [
       "<ol start=\"0\" style=\"text-align: left;\"><li><strong>Class</strong> &quot;Twist&quot; (8164ae8b-36d5-4502-a184-5ec064db4ec3)</li><li><strong>Class</strong> &quot;Trajectory&quot; (c5ea0585-7657-4764-9eb2-3a6584980ce6)</li><li><strong>Class</strong> &quot;Waypoint&quot; (2a923851-a4ca-4fd2-a4b3-302edb8ac178)</li><li><strong>Class</strong> &quot;Example&quot; (a7ecc231-c55e-4ab9-ae14-9558e3ec2a34)</li></ol>"
      ],
      "text/plain": [
       "<CoupledElementList at 0x0000027E19D07880 [<Class 'Twist' (8164ae8b-36d5-4502-a184-5ec064db4ec3)>, <Class 'Trajectory' (c5ea0585-7657-4764-9eb2-3a6584980ce6)>, <Class 'Waypoint' (2a923851-a4ca-4fd2-a4b3-302edb8ac178)>, <Class 'Example' (a7ecc231-c55e-4ab9-ae14-9558e3ec2a34)>]>"
      ]
     },
     "execution_count": 44,
     "metadata": {},
     "output_type": "execute_result"
    }
   ],
   "source": [
    "data_pkg = model.oa.data_package\n",
    "data_pkg.classes"
   ]
  },
  {
   "cell_type": "markdown",
   "metadata": {},
   "source": [
    "# ROS2 IDL Message\n",
    "\n",
    "Let's have a brief look into the structure of ROS2 Message descriptions. They are stored in `.msg` files and comprised of a type and name, separated by whitespace, i.e.:\n",
    "\n",
    "```\n",
    "fieldtype1 fieldname1\n",
    "fieldtype2[] fieldname2\n",
    "```"
   ]
  },
  {
   "cell_type": "code",
   "execution_count": 45,
   "metadata": {},
   "outputs": [],
   "source": [
    "def class_to_ros2_idl(cls):\n",
    "    filename = f\"{cls.name}.msg\"\n",
    "    lines = []\n",
    "    for prop in cls.properties:\n",
    "        multiplicity = (\"\", \"[]\")[prop.max_card.value > 1]\n",
    "        lines.append(f\"{prop.type.name}{multiplicity} {prop.name}\")\n",
    "    text = \"\\n\".join(lines)\n",
    "    with open(filename, \"w\") as file:\n",
    "        file.write(text)\n",
    "    print(f\"# file: {filename} \\n{text}\\n\")"
   ]
  },
  {
   "cell_type": "markdown",
   "metadata": {},
   "source": [
    "In our example, files would be generated with the following content:"
   ]
  },
  {
   "cell_type": "code",
   "execution_count": 46,
   "metadata": {},
   "outputs": [
    {
     "name": "stdout",
     "output_type": "stream",
     "text": [
      "# file: Twist.msg \n",
      "\n",
      "\n",
      "# file: Trajectory.msg \n",
      "Waypoint[] waypoints\n",
      "\n",
      "# file: Waypoint.msg \n",
      "float lat\n",
      "float lon\n",
      "float alt\n",
      "Example[] examples\n",
      "\n",
      "# file: Example.msg \n",
      "str test\n",
      "\n"
     ]
    }
   ],
   "source": [
    "data_pkg = model.oa.data_package\n",
    "for cls in data_pkg.classes:\n",
    "    class_to_ros2_idl(cls)"
   ]
  },
  {
   "cell_type": "markdown",
   "metadata": {},
   "source": [
    "# Interface for python class\n",
    "\n",
    "A python class has the following structure:\n",
    "\n",
    "\n",
    "```\n",
    "class class_name:\n",
    "    name1: type  \n",
    "    name2: [type]\n",
    "```"
   ]
  },
  {
   "cell_type": "markdown",
   "metadata": {},
   "source": [
    "A python interface can be generated as follows:"
   ]
  },
  {
   "cell_type": "code",
   "execution_count": 47,
   "metadata": {},
   "outputs": [],
   "source": [
    "def class_to_python(cls, current_classes=None):\n",
    "    lines = [f\"class {cls.name}:\"]\n",
    "    current_classes = [cls]\n",
    "    if not cls.properties:\n",
    "        lines.append(4*\" \" + \"pass\")\n",
    "    for prop in cls.properties:\n",
    "        if (\n",
    "            isinstance(\n",
    "                prop.type, capellambse.model.crosslayer.information.Class\n",
    "            )\n",
    "            and prop.type not in current_classes\n",
    "        ):\n",
    "            nested_text = class_to_python(prop.type, current_classes)\n",
    "            lines = [nested_text] + [\"\\n\"] + lines\n",
    "        multiplicity = (f\"{prop.type.name}\", f\"list[{prop.type.name}]\")[\n",
    "            prop.max_card.value > 1\n",
    "        ]\n",
    "        lines.append(4*\" \" + f\"{prop.name}: {multiplicity}\")\n",
    "    text = \"\\n\".join(lines)\n",
    "\n",
    "    return text"
   ]
  },
  {
   "cell_type": "code",
   "execution_count": 48,
   "metadata": {},
   "outputs": [
    {
     "name": "stdout",
     "output_type": "stream",
     "text": [
      "# file: trajectory.py \n",
      "class Example:\n",
      "    test: str\n",
      "\n",
      "\n",
      "class Waypoint:\n",
      "    lat: float\n",
      "    lon: float\n",
      "    alt: float\n",
      "    examples: list[Example]\n",
      "\n",
      "\n",
      "class Trajectory:\n",
      "    waypoints: list[Waypoint]\n",
      "\n"
     ]
    }
   ],
   "source": [
    "trajectory = data_pkg.classes.by_name(\"Trajectory\")\n",
    "text = class_to_python(trajectory)\n",
    "filename = f\"{trajectory.name.lower()}.py\"\n",
    "with open(filename, \"w\") as file:\n",
    "    file.write(text)\n",
    "print(f\"# file: {filename} \\n{text}\\n\")"
   ]
  },
  {
   "cell_type": "markdown",
   "metadata": {},
   "source": [
    "# Interface for Protocol Buffers (Protobuf) \n",
    "\n",
    "Protobuf Message descriptions are stored in `.proto` files where a class definition starts with `message` and each property of the class is defined by at least three parts: the data type, name and its order number. Classes can also be nested in other classes. An example is shown in the following:\n",
    "\n",
    "\n",
    "```\n",
    "syntax = \"proto3\";\n",
    "\n",
    "message class1 {\n",
    "    datatype class1_name1 = 1;\n",
    "    datatype class1_name2 = 2;\n",
    "    message class2 {\n",
    "        datatype class2_name1 = 1;\n",
    "   }\n",
    "   repeated class2 class_name = 3;\n",
    "}\n",
    "\n",
    "```\n"
   ]
  },
  {
   "cell_type": "code",
   "execution_count": 49,
   "metadata": {},
   "outputs": [],
   "source": [
    "def class_to_proto(cls, current_classes=None, indent=\"\"):\n",
    "    if current_classes is None:\n",
    "        current_classes = [cls]\n",
    "        lines = ['syntax = \"proto3\";\\n']\n",
    "        indent += \" \"*4\n",
    "        lines.append(f\"{indent[:-4]}message  {cls.name} {{\")\n",
    "    else:\n",
    "        lines = [f\"{indent[:-4]}message  {cls.name} {{\"]\n",
    "\n",
    "    for counter, prop in enumerate(cls.properties, start=1):\n",
    "        multiplicity = (\"\", \"[]\")[prop.max_card.value > 1]\n",
    "        if (\n",
    "            isinstance(\n",
    "                prop.type, capellambse.model.crosslayer.information.Class\n",
    "            )\n",
    "            and prop.type not in current_classes\n",
    "        ):\n",
    "            current_classes.append(prop.type)\n",
    "            nested_text = class_to_proto(\n",
    "                prop.type, current_classes, indent + \" \"*4\n",
    "            )\n",
    "            lines.append(nested_text)\n",
    "            lines.append(\n",
    "                f\"{indent}repeated {prop.type.name}{multiplicity} {prop.name} = {counter};\"\n",
    "            )\n",
    "        else:\n",
    "            lines.append(\n",
    "                f\"{indent}{prop.type.name}{multiplicity} {prop.name} = {counter};\"\n",
    "            )\n",
    "    lines.append(f\"{indent[:-4]}}}\")\n",
    "    text = \"\\n\".join(lines)\n",
    "    return text"
   ]
  },
  {
   "cell_type": "markdown",
   "metadata": {},
   "source": [
    "The protobuf interface of class `Trajectory` would look as follows:\n"
   ]
  },
  {
   "cell_type": "code",
   "execution_count": 66,
   "metadata": {},
   "outputs": [
    {
     "ename": "AttributeError",
     "evalue": "'str' object has no attribute 'append'",
     "output_type": "error",
     "traceback": [
      "\u001b[1;31m---------------------------------------------------------------------------\u001b[0m",
      "\u001b[1;31mAttributeError\u001b[0m                            Traceback (most recent call last)",
      "\u001b[1;32mc:\\Users\\HenrikStrangalies\\Desktop\\Projects\\py-capellambse\\examples\\07 Code Generation.ipynb Cell 19'\u001b[0m in \u001b[0;36m<cell line: 2>\u001b[1;34m()\u001b[0m\n\u001b[0;32m      <a href='vscode-notebook-cell:/c%3A/Users/HenrikStrangalies/Desktop/Projects/py-capellambse/examples/07%20Code%20Generation.ipynb#ch0000018?line=0'>1</a>\u001b[0m trajectory \u001b[39m=\u001b[39m data_pkg\u001b[39m.\u001b[39mclasses\u001b[39m.\u001b[39mby_name(\u001b[39m\"\u001b[39m\u001b[39mTrajectory\u001b[39m\u001b[39m\"\u001b[39m)\n\u001b[1;32m----> <a href='vscode-notebook-cell:/c%3A/Users/HenrikStrangalies/Desktop/Projects/py-capellambse/examples/07%20Code%20Generation.ipynb#ch0000018?line=1'>2</a>\u001b[0m text \u001b[39m=\u001b[39m class_to_proto(trajectory)\n\u001b[0;32m      <a href='vscode-notebook-cell:/c%3A/Users/HenrikStrangalies/Desktop/Projects/py-capellambse/examples/07%20Code%20Generation.ipynb#ch0000018?line=2'>3</a>\u001b[0m filename \u001b[39m=\u001b[39m \u001b[39mf\u001b[39m\u001b[39m\"\u001b[39m\u001b[39m{\u001b[39;00mtrajectory\u001b[39m.\u001b[39mname\u001b[39m}\u001b[39;00m\u001b[39m.proto\u001b[39m\u001b[39m\"\u001b[39m\n\u001b[0;32m      <a href='vscode-notebook-cell:/c%3A/Users/HenrikStrangalies/Desktop/Projects/py-capellambse/examples/07%20Code%20Generation.ipynb#ch0000018?line=3'>4</a>\u001b[0m \u001b[39mwith\u001b[39;00m \u001b[39mopen\u001b[39m(filename, \u001b[39m\"\u001b[39m\u001b[39mw\u001b[39m\u001b[39m\"\u001b[39m) \u001b[39mas\u001b[39;00m file:\n",
      "\u001b[1;32mc:\\Users\\HenrikStrangalies\\Desktop\\Projects\\py-capellambse\\examples\\07 Code Generation.ipynb Cell 17'\u001b[0m in \u001b[0;36mclass_to_proto\u001b[1;34m(cls, current_classes, indent)\u001b[0m\n\u001b[0;32m     <a href='vscode-notebook-cell:/c%3A/Users/HenrikStrangalies/Desktop/Projects/py-capellambse/examples/07%20Code%20Generation.ipynb#ch0000016?line=11'>12</a>\u001b[0m \u001b[39mif\u001b[39;00m (\n\u001b[0;32m     <a href='vscode-notebook-cell:/c%3A/Users/HenrikStrangalies/Desktop/Projects/py-capellambse/examples/07%20Code%20Generation.ipynb#ch0000016?line=12'>13</a>\u001b[0m     \u001b[39misinstance\u001b[39m(\n\u001b[0;32m     <a href='vscode-notebook-cell:/c%3A/Users/HenrikStrangalies/Desktop/Projects/py-capellambse/examples/07%20Code%20Generation.ipynb#ch0000016?line=13'>14</a>\u001b[0m         prop\u001b[39m.\u001b[39mtype, capellambse\u001b[39m.\u001b[39mmodel\u001b[39m.\u001b[39mcrosslayer\u001b[39m.\u001b[39minformation\u001b[39m.\u001b[39mClass\n\u001b[0;32m     <a href='vscode-notebook-cell:/c%3A/Users/HenrikStrangalies/Desktop/Projects/py-capellambse/examples/07%20Code%20Generation.ipynb#ch0000016?line=14'>15</a>\u001b[0m     )\n\u001b[0;32m     <a href='vscode-notebook-cell:/c%3A/Users/HenrikStrangalies/Desktop/Projects/py-capellambse/examples/07%20Code%20Generation.ipynb#ch0000016?line=15'>16</a>\u001b[0m     \u001b[39mand\u001b[39;00m prop\u001b[39m.\u001b[39mtype \u001b[39mnot\u001b[39;00m \u001b[39min\u001b[39;00m current_classes\n\u001b[0;32m     <a href='vscode-notebook-cell:/c%3A/Users/HenrikStrangalies/Desktop/Projects/py-capellambse/examples/07%20Code%20Generation.ipynb#ch0000016?line=16'>17</a>\u001b[0m ):\n\u001b[0;32m     <a href='vscode-notebook-cell:/c%3A/Users/HenrikStrangalies/Desktop/Projects/py-capellambse/examples/07%20Code%20Generation.ipynb#ch0000016?line=17'>18</a>\u001b[0m     current_classes\u001b[39m.\u001b[39mappend(prop\u001b[39m.\u001b[39mtype)\n\u001b[1;32m---> <a href='vscode-notebook-cell:/c%3A/Users/HenrikStrangalies/Desktop/Projects/py-capellambse/examples/07%20Code%20Generation.ipynb#ch0000016?line=18'>19</a>\u001b[0m     nested_text \u001b[39m=\u001b[39m class_to_proto(\n\u001b[0;32m     <a href='vscode-notebook-cell:/c%3A/Users/HenrikStrangalies/Desktop/Projects/py-capellambse/examples/07%20Code%20Generation.ipynb#ch0000016?line=19'>20</a>\u001b[0m         prop\u001b[39m.\u001b[39;49mtype, current_classes, indent \u001b[39m+\u001b[39;49m \u001b[39m\"\u001b[39;49m\u001b[39m \u001b[39;49m\u001b[39m\"\u001b[39;49m\u001b[39m*\u001b[39;49m\u001b[39m4\u001b[39;49m\n\u001b[0;32m     <a href='vscode-notebook-cell:/c%3A/Users/HenrikStrangalies/Desktop/Projects/py-capellambse/examples/07%20Code%20Generation.ipynb#ch0000016?line=20'>21</a>\u001b[0m     )\n\u001b[0;32m     <a href='vscode-notebook-cell:/c%3A/Users/HenrikStrangalies/Desktop/Projects/py-capellambse/examples/07%20Code%20Generation.ipynb#ch0000016?line=21'>22</a>\u001b[0m     lines\u001b[39m.\u001b[39mappend(nested_text)\n\u001b[0;32m     <a href='vscode-notebook-cell:/c%3A/Users/HenrikStrangalies/Desktop/Projects/py-capellambse/examples/07%20Code%20Generation.ipynb#ch0000016?line=22'>23</a>\u001b[0m     lines\u001b[39m.\u001b[39mappend(\n\u001b[0;32m     <a href='vscode-notebook-cell:/c%3A/Users/HenrikStrangalies/Desktop/Projects/py-capellambse/examples/07%20Code%20Generation.ipynb#ch0000016?line=23'>24</a>\u001b[0m         \u001b[39mf\u001b[39m\u001b[39m\"\u001b[39m\u001b[39m{\u001b[39;00mindent\u001b[39m}\u001b[39;00m\u001b[39mrepeated \u001b[39m\u001b[39m{\u001b[39;00mprop\u001b[39m.\u001b[39mtype\u001b[39m.\u001b[39mname\u001b[39m}\u001b[39;00m\u001b[39m{\u001b[39;00mmultiplicity\u001b[39m}\u001b[39;00m\u001b[39m \u001b[39m\u001b[39m{\u001b[39;00mprop\u001b[39m.\u001b[39mname\u001b[39m}\u001b[39;00m\u001b[39m = \u001b[39m\u001b[39m{\u001b[39;00mcounter\u001b[39m}\u001b[39;00m\u001b[39m;\u001b[39m\u001b[39m\"\u001b[39m\n\u001b[0;32m     <a href='vscode-notebook-cell:/c%3A/Users/HenrikStrangalies/Desktop/Projects/py-capellambse/examples/07%20Code%20Generation.ipynb#ch0000016?line=24'>25</a>\u001b[0m     )\n",
      "\u001b[1;32mc:\\Users\\HenrikStrangalies\\Desktop\\Projects\\py-capellambse\\examples\\07 Code Generation.ipynb Cell 17'\u001b[0m in \u001b[0;36mclass_to_proto\u001b[1;34m(cls, current_classes, indent)\u001b[0m\n\u001b[0;32m     <a href='vscode-notebook-cell:/c%3A/Users/HenrikStrangalies/Desktop/Projects/py-capellambse/examples/07%20Code%20Generation.ipynb#ch0000016?line=11'>12</a>\u001b[0m \u001b[39mif\u001b[39;00m (\n\u001b[0;32m     <a href='vscode-notebook-cell:/c%3A/Users/HenrikStrangalies/Desktop/Projects/py-capellambse/examples/07%20Code%20Generation.ipynb#ch0000016?line=12'>13</a>\u001b[0m     \u001b[39misinstance\u001b[39m(\n\u001b[0;32m     <a href='vscode-notebook-cell:/c%3A/Users/HenrikStrangalies/Desktop/Projects/py-capellambse/examples/07%20Code%20Generation.ipynb#ch0000016?line=13'>14</a>\u001b[0m         prop\u001b[39m.\u001b[39mtype, capellambse\u001b[39m.\u001b[39mmodel\u001b[39m.\u001b[39mcrosslayer\u001b[39m.\u001b[39minformation\u001b[39m.\u001b[39mClass\n\u001b[0;32m     <a href='vscode-notebook-cell:/c%3A/Users/HenrikStrangalies/Desktop/Projects/py-capellambse/examples/07%20Code%20Generation.ipynb#ch0000016?line=14'>15</a>\u001b[0m     )\n\u001b[0;32m     <a href='vscode-notebook-cell:/c%3A/Users/HenrikStrangalies/Desktop/Projects/py-capellambse/examples/07%20Code%20Generation.ipynb#ch0000016?line=15'>16</a>\u001b[0m     \u001b[39mand\u001b[39;00m prop\u001b[39m.\u001b[39mtype \u001b[39mnot\u001b[39;00m \u001b[39min\u001b[39;00m current_classes\n\u001b[0;32m     <a href='vscode-notebook-cell:/c%3A/Users/HenrikStrangalies/Desktop/Projects/py-capellambse/examples/07%20Code%20Generation.ipynb#ch0000016?line=16'>17</a>\u001b[0m ):\n\u001b[0;32m     <a href='vscode-notebook-cell:/c%3A/Users/HenrikStrangalies/Desktop/Projects/py-capellambse/examples/07%20Code%20Generation.ipynb#ch0000016?line=17'>18</a>\u001b[0m     current_classes\u001b[39m.\u001b[39mappend(prop\u001b[39m.\u001b[39mtype)\n\u001b[1;32m---> <a href='vscode-notebook-cell:/c%3A/Users/HenrikStrangalies/Desktop/Projects/py-capellambse/examples/07%20Code%20Generation.ipynb#ch0000016?line=18'>19</a>\u001b[0m     nested_text \u001b[39m=\u001b[39m class_to_proto(\n\u001b[0;32m     <a href='vscode-notebook-cell:/c%3A/Users/HenrikStrangalies/Desktop/Projects/py-capellambse/examples/07%20Code%20Generation.ipynb#ch0000016?line=19'>20</a>\u001b[0m         prop\u001b[39m.\u001b[39;49mtype, current_classes, indent \u001b[39m+\u001b[39;49m \u001b[39m\"\u001b[39;49m\u001b[39m \u001b[39;49m\u001b[39m\"\u001b[39;49m\u001b[39m*\u001b[39;49m\u001b[39m4\u001b[39;49m\n\u001b[0;32m     <a href='vscode-notebook-cell:/c%3A/Users/HenrikStrangalies/Desktop/Projects/py-capellambse/examples/07%20Code%20Generation.ipynb#ch0000016?line=20'>21</a>\u001b[0m     )\n\u001b[0;32m     <a href='vscode-notebook-cell:/c%3A/Users/HenrikStrangalies/Desktop/Projects/py-capellambse/examples/07%20Code%20Generation.ipynb#ch0000016?line=21'>22</a>\u001b[0m     lines\u001b[39m.\u001b[39mappend(nested_text)\n\u001b[0;32m     <a href='vscode-notebook-cell:/c%3A/Users/HenrikStrangalies/Desktop/Projects/py-capellambse/examples/07%20Code%20Generation.ipynb#ch0000016?line=22'>23</a>\u001b[0m     lines\u001b[39m.\u001b[39mappend(\n\u001b[0;32m     <a href='vscode-notebook-cell:/c%3A/Users/HenrikStrangalies/Desktop/Projects/py-capellambse/examples/07%20Code%20Generation.ipynb#ch0000016?line=23'>24</a>\u001b[0m         \u001b[39mf\u001b[39m\u001b[39m\"\u001b[39m\u001b[39m{\u001b[39;00mindent\u001b[39m}\u001b[39;00m\u001b[39mrepeated \u001b[39m\u001b[39m{\u001b[39;00mprop\u001b[39m.\u001b[39mtype\u001b[39m.\u001b[39mname\u001b[39m}\u001b[39;00m\u001b[39m{\u001b[39;00mmultiplicity\u001b[39m}\u001b[39;00m\u001b[39m \u001b[39m\u001b[39m{\u001b[39;00mprop\u001b[39m.\u001b[39mname\u001b[39m}\u001b[39;00m\u001b[39m = \u001b[39m\u001b[39m{\u001b[39;00mcounter\u001b[39m}\u001b[39;00m\u001b[39m;\u001b[39m\u001b[39m\"\u001b[39m\n\u001b[0;32m     <a href='vscode-notebook-cell:/c%3A/Users/HenrikStrangalies/Desktop/Projects/py-capellambse/examples/07%20Code%20Generation.ipynb#ch0000016?line=24'>25</a>\u001b[0m     )\n",
      "\u001b[1;32mc:\\Users\\HenrikStrangalies\\Desktop\\Projects\\py-capellambse\\examples\\07 Code Generation.ipynb Cell 17'\u001b[0m in \u001b[0;36mclass_to_proto\u001b[1;34m(cls, current_classes, indent)\u001b[0m\n\u001b[0;32m     <a href='vscode-notebook-cell:/c%3A/Users/HenrikStrangalies/Desktop/Projects/py-capellambse/examples/07%20Code%20Generation.ipynb#ch0000016?line=25'>26</a>\u001b[0m     \u001b[39melse\u001b[39;00m:\n\u001b[0;32m     <a href='vscode-notebook-cell:/c%3A/Users/HenrikStrangalies/Desktop/Projects/py-capellambse/examples/07%20Code%20Generation.ipynb#ch0000016?line=26'>27</a>\u001b[0m         lines\u001b[39m.\u001b[39mappend(\n\u001b[0;32m     <a href='vscode-notebook-cell:/c%3A/Users/HenrikStrangalies/Desktop/Projects/py-capellambse/examples/07%20Code%20Generation.ipynb#ch0000016?line=27'>28</a>\u001b[0m             \u001b[39mf\u001b[39m\u001b[39m\"\u001b[39m\u001b[39m{\u001b[39;00mindent\u001b[39m}\u001b[39;00m\u001b[39m{\u001b[39;00mprop\u001b[39m.\u001b[39mtype\u001b[39m.\u001b[39mname\u001b[39m}\u001b[39;00m\u001b[39m{\u001b[39;00mmultiplicity\u001b[39m}\u001b[39;00m\u001b[39m \u001b[39m\u001b[39m{\u001b[39;00mprop\u001b[39m.\u001b[39mname\u001b[39m}\u001b[39;00m\u001b[39m = \u001b[39m\u001b[39m{\u001b[39;00mcounter\u001b[39m}\u001b[39;00m\u001b[39m;\u001b[39m\u001b[39m\"\u001b[39m\n\u001b[0;32m     <a href='vscode-notebook-cell:/c%3A/Users/HenrikStrangalies/Desktop/Projects/py-capellambse/examples/07%20Code%20Generation.ipynb#ch0000016?line=28'>29</a>\u001b[0m         )\n\u001b[1;32m---> <a href='vscode-notebook-cell:/c%3A/Users/HenrikStrangalies/Desktop/Projects/py-capellambse/examples/07%20Code%20Generation.ipynb#ch0000016?line=29'>30</a>\u001b[0m lines[\u001b[39m-\u001b[39;49m\u001b[39m1\u001b[39;49m]\u001b[39m.\u001b[39;49mappend( \u001b[39mf\u001b[39m\u001b[39m\"\u001b[39m\u001b[39m\\n\u001b[39;00m\u001b[39m{\u001b[39;00mindent[:\u001b[39m-\u001b[39m\u001b[39m4\u001b[39m]\u001b[39m}\u001b[39;00m\u001b[39m}}\u001b[39;00m\u001b[39m\"\u001b[39m)\n\u001b[0;32m     <a href='vscode-notebook-cell:/c%3A/Users/HenrikStrangalies/Desktop/Projects/py-capellambse/examples/07%20Code%20Generation.ipynb#ch0000016?line=30'>31</a>\u001b[0m text \u001b[39m=\u001b[39m \u001b[39m\"\u001b[39m\u001b[39m\\n\u001b[39;00m\u001b[39m\"\u001b[39m\u001b[39m.\u001b[39mjoin(lines)\n\u001b[0;32m     <a href='vscode-notebook-cell:/c%3A/Users/HenrikStrangalies/Desktop/Projects/py-capellambse/examples/07%20Code%20Generation.ipynb#ch0000016?line=31'>32</a>\u001b[0m \u001b[39mreturn\u001b[39;00m text\n",
      "\u001b[1;31mAttributeError\u001b[0m: 'str' object has no attribute 'append'"
     ]
    }
   ],
   "source": [
    "trajectory = data_pkg.classes.by_name(\"Trajectory\")\n",
    "text = class_to_proto(trajectory)\n",
    "filename = f\"{trajectory.name}.proto\"\n",
    "with open(filename, \"w\") as file:\n",
    "    file.write(text)\n",
    "print(f\"# file: {filename} \\n{text}\\n\")"
   ]
  }
 ],
 "metadata": {
  "interpreter": {
   "hash": "f5aaca42f2275c341e41f35623e489872f07cc04ff4dbb15f99b30c8deecb431"
  },
  "kernelspec": {
   "display_name": "Python 3.10.2 ('venv': venv)",
   "language": "python",
   "name": "python3"
  },
  "language_info": {
   "codemirror_mode": {
    "name": "ipython",
    "version": 3
   },
   "file_extension": ".py",
   "mimetype": "text/x-python",
   "name": "python",
   "nbconvert_exporter": "python",
   "pygments_lexer": "ipython3",
   "version": "3.10.2"
  },
  "orig_nbformat": 4
 },
 "nbformat": 4,
 "nbformat_minor": 2
}
