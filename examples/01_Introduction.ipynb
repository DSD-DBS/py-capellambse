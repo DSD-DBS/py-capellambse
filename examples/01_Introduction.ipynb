{
 "cells": [
  {
   "cell_type": "markdown",
   "id": "1a1fe414",
   "metadata": {},
   "source": [
    "# Introduction\n",
    "\n",
    "Welcome to the py-capella-mbse Showcase notebook. This notebook will show you some basic (and not so basic) things that you can get done using this library. For more advanced features have a look around the nearby notebooks.\n",
    "\n",
    "The below code loads the library and one of the test models:"
   ]
  },
  {
   "cell_type": "code",
   "execution_count": 1,
   "id": "3e28d1c9",
   "metadata": {},
   "outputs": [
    {
     "name": "stderr",
     "output_type": "stream",
     "text": [
      "Cannot load PVMT extension: ValueError: Provided model does not have a PropertyValuePkg\n",
      "Property values are not available in this model\n"
     ]
    },
    {
     "data": {
      "text/plain": [
       "<capellambse.model.MelodyModel at 0x7ffa4873e3a0>"
      ]
     },
     "execution_count": 1,
     "metadata": {},
     "output_type": "execute_result"
    }
   ],
   "source": [
    "import capellambse\n",
    "path_to_model = \"../tests/data/melodymodel/5_0/MelodyModelTest.aird\"\n",
    "model = capellambse.MelodyModel(path_to_model)\n",
    "model"
   ]
  },
  {
   "cell_type": "markdown",
   "id": "48ce0c1e",
   "metadata": {},
   "source": [
    "Please ignore the warning above - it indicates that we probed the model for the PVMT extension and it wasn't there, so PVMT-related features will not be available. In some not so distant future this may disapear as we'll be able to inject PVMT into models, but for now, if you want to use PVMT-related features you need to enable PVMT for that model in Capella.\n",
    "\n",
    "Having said that, lets go to the first practical example of working with the library!"
   ]
  },
  {
   "cell_type": "markdown",
   "id": "7e68b88c-b4bc-4c20-a39f-48094c0eabdd",
   "metadata": {
    "tags": []
   },
   "source": [
    "## Example 1: Actor functions\n",
    "\n",
    "The below code will print every Actor available in the Logical Architecture layer"
   ]
  },
  {
   "cell_type": "code",
   "execution_count": 2,
   "id": "abcd8693",
   "metadata": {},
   "outputs": [
    {
     "name": "stdout",
     "output_type": "stream",
     "text": [
      "Prof. A. P. W. B. Dumbledore\n",
      "Prof. S. Snape\n",
      "Harry J. Potter\n",
      "R. Weasley\n",
      "LogicalActor 5\n"
     ]
    }
   ],
   "source": [
    "for actor in model.la.all_actors:\n",
    "    print(actor.name)"
   ]
  },
  {
   "cell_type": "markdown",
   "id": "4ddbf9be",
   "metadata": {},
   "source": [
    "but we could also \"zoom-in\" to an actor of interest:"
   ]
  },
  {
   "cell_type": "code",
   "execution_count": 3,
   "id": "56bb4b44",
   "metadata": {
    "scrolled": true
   },
   "outputs": [
    {
     "data": {
      "text/html": [
       "<h1>LogicalComponent <span style=\"font-size: 70%;\">(org.polarsys.capella.core.data.la:LogicalComponent)</span></h1><table><tr><th style=\"text-align: right;\">components</th><td style=\"text-align: left;\"><p><em>(Empty list)</em></p></td></tr><tr><th style=\"text-align: right;\">constraints</th><td style=\"text-align: left;\"><p><em>(Empty list)</em></p></td></tr><tr><th style=\"text-align: right;\">description</th><td style=\"text-align: left;\"><p>Good guy and teacher of brewing arts.</p>\n",
       "</td></tr><tr><th style=\"text-align: right;\">diagrams</th><td style=\"text-align: left;\"><p><em>(Empty list)</em></p></td></tr><tr><th style=\"text-align: right;\">functions</th><td style=\"text-align: left;\"><ol start=\"0\" style=\"text-align: left;\"><li><strong>LogicalFunction</strong> &quot;Teaching&quot; (a7acb298-d14b-4707-a419-fea272434541)</li><li><strong>LogicalFunction</strong> &quot;Bully Harry&quot; (4a2a7f3c-d223-4d44-94a7-50dd2906a70c)</li></ol></td></tr><tr><th style=\"text-align: right;\">is_abstract</th><td style=\"text-align: left;\"><em>False</em></td></tr><tr><th style=\"text-align: right;\">is_actor</th><td style=\"text-align: left;\"><em>True</em></td></tr><tr><th style=\"text-align: right;\">is_human</th><td style=\"text-align: left;\"><em>True</em></td></tr><tr><th style=\"text-align: right;\">name</th><td style=\"text-align: left;\">Prof. S. Snape</td></tr><tr><th style=\"text-align: right;\">owner</th><td style=\"text-align: left;\"><strong>LogicalComponentPkg</strong> &quot;Structure&quot; (84c0978d-9a32-4f5b-8013-5b0b6adbfd73)</td></tr><tr><th style=\"text-align: right;\">parts</th><td style=\"text-align: left;\"><ol start=\"0\" style=\"text-align: left;\"><li><strong>Part</strong> &quot;Prof. S. Snape&quot; (ccbad61a-39dc-4af8-8199-3fee30de2f1d)</li></ol></td></tr><tr><th style=\"text-align: right;\">ports</th><td style=\"text-align: left;\"><ol start=\"0\" style=\"text-align: left;\"><li><strong>ComponentPort</strong> &quot;CP 1&quot; (b4e39757-b0fd-41ff-a7b8-c9fc36de2ca9)</li></ol></td></tr><tr><th style=\"text-align: right;\">progress_status</th><td style=\"text-align: left;\">NOT_SET</td></tr><tr><th style=\"text-align: right;\">realized_components</th><td style=\"text-align: left;\"><p><em>(Empty list)</em></p></td></tr><tr><th style=\"text-align: right;\">realizing_physical_components</th><td style=\"text-align: left;\"><p><em>(Empty list)</em></p></td></tr><tr><th style=\"text-align: right;\">requirements</th><td style=\"text-align: left;\"><p><em>(Empty list)</em></p></td></tr><tr><th style=\"text-align: right;\">state_machines</th><td style=\"text-align: left;\"><p><em>(Empty list)</em></p></td></tr><tr><th style=\"text-align: right;\">summary</th><td style=\"text-align: left;\"><em>None</em></td></tr><tr><th style=\"text-align: right;\">uuid</th><td style=\"text-align: left;\">6f463eed-c77b-4568-8078-beec0536f243</td></tr><tr><th style=\"text-align: right;\">xtype</th><td style=\"text-align: left;\">org.polarsys.capella.core.data.la:LogicalComponent</td></tr></table>"
      ],
      "text/plain": [
       "<LogicalComponent 'Prof. S. Snape' (6f463eed-c77b-4568-8078-beec0536f243)>"
      ]
     },
     "execution_count": 3,
     "metadata": {},
     "output_type": "execute_result"
    }
   ],
   "source": [
    "model.la.all_actors.by_name(\"Prof. S. Snape\")"
   ]
  },
  {
   "cell_type": "markdown",
   "id": "30e17ac3",
   "metadata": {},
   "source": [
    "We can also turn the above data into a table, for example \"actor function allocation\", using `pandas`.\n",
    "\n",
    "For this, we first make sure pandas itself is installed, as well as an extension we'll use later."
   ]
  },
  {
   "cell_type": "code",
   "execution_count": 4,
   "id": "400e483d-eca7-4fdd-a9e0-71467e1af8d8",
   "metadata": {},
   "outputs": [],
   "source": [
    "!pip install -q pandas openpyxl"
   ]
  },
  {
   "cell_type": "markdown",
   "id": "acbe1247-e1a1-4da8-a95a-7b41f4836937",
   "metadata": {},
   "source": [
    "Now we can use it together with `capellambse`:"
   ]
  },
  {
   "cell_type": "code",
   "execution_count": 5,
   "id": "833220d0",
   "metadata": {},
   "outputs": [
    {
     "data": {
      "text/html": [
       "<div>\n",
       "<style scoped>\n",
       "    .dataframe tbody tr th:only-of-type {\n",
       "        vertical-align: middle;\n",
       "    }\n",
       "\n",
       "    .dataframe tbody tr th {\n",
       "        vertical-align: top;\n",
       "    }\n",
       "\n",
       "    .dataframe thead th {\n",
       "        text-align: right;\n",
       "    }\n",
       "</style>\n",
       "<table border=\"1\" class=\"dataframe\">\n",
       "  <thead>\n",
       "    <tr style=\"text-align: right;\">\n",
       "      <th></th>\n",
       "      <th>actor</th>\n",
       "      <th>functions</th>\n",
       "    </tr>\n",
       "  </thead>\n",
       "  <tbody>\n",
       "    <tr>\n",
       "      <th>0</th>\n",
       "      <td>Prof. A. P. W. B. Dumbledore</td>\n",
       "      <td>Teaching; Advising Harry</td>\n",
       "    </tr>\n",
       "    <tr>\n",
       "      <th>1</th>\n",
       "      <td>Prof. S. Snape</td>\n",
       "      <td>Teaching; Bully Harry</td>\n",
       "    </tr>\n",
       "    <tr>\n",
       "      <th>2</th>\n",
       "      <td>Harry J. Potter</td>\n",
       "      <td>Being the chosen one</td>\n",
       "    </tr>\n",
       "    <tr>\n",
       "      <th>3</th>\n",
       "      <td>R. Weasley</td>\n",
       "      <td>Assist Harry; Befriend Harry</td>\n",
       "    </tr>\n",
       "    <tr>\n",
       "      <th>4</th>\n",
       "      <td>LogicalActor 5</td>\n",
       "      <td>no functions assigned</td>\n",
       "    </tr>\n",
       "  </tbody>\n",
       "</table>\n",
       "</div>"
      ],
      "text/plain": [
       "                          actor                     functions\n",
       "0  Prof. A. P. W. B. Dumbledore      Teaching; Advising Harry\n",
       "1                Prof. S. Snape         Teaching; Bully Harry\n",
       "2               Harry J. Potter          Being the chosen one\n",
       "3                    R. Weasley  Assist Harry; Befriend Harry\n",
       "4                LogicalActor 5         no functions assigned"
      ]
     },
     "execution_count": 5,
     "metadata": {},
     "output_type": "execute_result"
    }
   ],
   "source": [
    "import pandas as pd\n",
    "\n",
    "data = []\n",
    "for actor in model.la.all_actors:\n",
    "    actor_functions = \"; \".join([function.name for function in actor.functions] or [\"no functions assigned\"])\n",
    "    data.append(dict(actor=actor.name, functions=actor_functions))\n",
    "df = pd.DataFrame(data)\n",
    "df"
   ]
  },
  {
   "cell_type": "markdown",
   "id": "6e04c482",
   "metadata": {},
   "source": [
    "and any `pandas.DataFrame` can always be turned into an Excel Spreadsheet, just like that:"
   ]
  },
  {
   "cell_type": "code",
   "execution_count": 6,
   "id": "10af24a2",
   "metadata": {},
   "outputs": [],
   "source": [
    "df.to_excel(\"01_intro_actor_functions.xlsx\")"
   ]
  },
  {
   "cell_type": "markdown",
   "id": "5370bc56",
   "metadata": {
    "tags": []
   },
   "source": [
    "you can check the resulting file in the folder next to this notebook (right after you run the above cell)\n",
    "\n",
    "Now that we've seen the basics, lets do something visually cool."
   ]
  },
  {
   "cell_type": "markdown",
   "id": "5afcdfdd-79e0-4e07-b321-d92a11f1d082",
   "metadata": {
    "tags": []
   },
   "source": [
    "## Example 2: working with diagrams\n",
    "\n",
    "The below code will find some diagrams for us."
   ]
  },
  {
   "cell_type": "code",
   "execution_count": 7,
   "id": "eb5f8747",
   "metadata": {},
   "outputs": [
    {
     "name": "stdout",
     "output_type": "stream",
     "text": [
      "[LAB] Wizzard Education\n",
      "[LAB] School\n",
      "[LAB] Parts\n",
      "[LAB] Deco-Test\n",
      "[LAB] Test Component Port Filter\n"
     ]
    }
   ],
   "source": [
    "for diagram in model.la.diagrams.by_type('LAB'):\n",
    "    print(diagram.name)"
   ]
  },
  {
   "cell_type": "markdown",
   "id": "66609218",
   "metadata": {},
   "source": [
    "We can analyze which model objects are shown in a particular diagram."
   ]
  },
  {
   "cell_type": "code",
   "execution_count": 8,
   "id": "71bf090e",
   "metadata": {
    "scrolled": true
   },
   "outputs": [
    {
     "name": "stderr",
     "output_type": "stream",
     "text": [
      "Unknown global filter 'hide.sequencing.information.filter'\n",
      "Unknown global filter 'ModelExtensionFilter'\n",
      "Unknown global filter 'hide.simplified.diagram.based.component.exchanges.filter'\n",
      "Unknown global filter 'hide.simplified.oriented.grouped.component.exchanges.filter'\n",
      "Unknown global filter 'hide.simplified.group.of.component.exchanges.filter'\n",
      "Unknown global filter 'VisibleDiagramFilteringCriteria'\n"
     ]
    },
    {
     "data": {
      "text/html": [
       "<ol start=\"0\" style=\"text-align: left;\"><li><strong>FunctionOutputPort</strong> &quot;FOP 2&quot; (226878bc-3e4b-4236-ba72-996fc1d988c0)</li><li><strong>FunctionInputPort</strong> &quot;FIP 1&quot; (e00e8a06-6d21-4c03-ba10-b8c17d082ad8)</li><li><strong>GenericElement</strong> &quot;(Unnamed org.polarsys.capella.core.data.information:PortAllocation)&quot; (fee1fff5-d751-401b-bb3c-2114a74f0c8a)</li><li><strong>ComponentPort</strong> &quot;CP 1&quot; (42c60b17-b503-46d6-8b0c-f1ff0fd4b8ac)</li><li><strong>LogicalFunction</strong> &quot;Teaching&quot; (f708bc29-d69f-42a0-90cc-11fc01054cd0)</li><li><strong>GenericElement</strong> &quot;(Unnamed org.polarsys.capella.core.data.information:PortAllocation)&quot; (5d4c33e6-2938-45b8-a637-ab62f38dd0cc)</li><li><strong>ComponentPort</strong> &quot;CP 2&quot; (51f9e974-75f8-4f01-89a5-2503a7d49beb)</li><li><strong>LogicalFunction</strong> &quot;Punish Intruders&quot; (7f2936ab-0b54-4e92-9f0c-85a9f0981959)</li><li><strong>ComponentExchange</strong> &quot;Teacher Responsibilities&quot; (9cbdd233-aff5-47dd-9bef-9be1277c77c3)</li><li><strong>LogicalFunction</strong> &quot;Bully Harry&quot; (4a2a7f3c-d223-4d44-94a7-50dd2906a70c)</li><li><strong>Part</strong> &quot;Prof. S. Snape&quot; (ccbad61a-39dc-4af8-8199-3fee30de2f1d)</li><li><strong>FunctionalExchange</strong> &quot;punish&quot; (002fa997-6262-40e6-af6f-f8953903bc4b)</li><li><strong>GenericElement</strong> &quot;(Unnamed org.polarsys.capella.core.data.information:PortAllocation)&quot; (317715cb-376c-4df6-a32c-433e3c081f8d)</li><li><strong>LogicalFunction</strong> &quot;Assist Harry&quot; (c1a42acc-1f53-42bb-8404-77a5c08c414b)</li><li><strong>FunctionalExchange</strong> &quot;educate &amp; mature&quot; (09efaeb7-2d50-40ed-a4da-46afcb9ca7a1)</li><li><strong>FunctionOutputPort</strong> &quot;FOP 1&quot; (68c5f3da-1ccc-417d-8a17-3a3764167d77)</li><li><strong>GenericElement</strong> &quot;(Unnamed org.polarsys.capella.core.data.information:PortAllocation)&quot; (18fa81ee-8b16-4815-86ea-0c287ace43d8)</li><li><strong>ComponentPort</strong> &quot;CP 5&quot; (d1687d0d-31ab-43a4-822c-a99c922471ce)</li><li><strong>Part</strong> &quot;Prof. A. P. W. B. Dumbledore&quot; (4c1f2b5d-0641-42c7-911f-7a42928580b8)</li><li><strong>ComponentExchange</strong> &quot;Help for Harry&quot; (d8655737-39ab-4482-a934-ee847c7ff6bd)</li><li><strong>ComponentExchange</strong> &quot;Headmaster Responsibilities&quot; (c0bc49e1-8043-4418-8c0a-de6c6b749eab)</li><li><strong>FunctionOutputPort</strong> &quot;FOP 1&quot; (cd696c20-84c9-47ec-aa63-6c46bfa506a9)</li><li><strong>LogicalFunction</strong> &quot;Teaching&quot; (a7acb298-d14b-4707-a419-fea272434541)</li><li><strong>GenericElement</strong> &quot;(Unnamed org.polarsys.capella.core.data.information:PortAllocation)&quot; (0f75227d-bad0-4fd6-8f3b-3c796ae4e5c3)</li><li><strong>ComponentExchange</strong> &quot;Care&quot; (c31491db-817d-44b3-a27c-67e9cc1e06a2)</li><li><strong>ComponentPort</strong> &quot;CP 1&quot; (fd38ff24-6a77-446b-aab5-6e307295b825)</li><li><strong>FunctionInputPort</strong> &quot;FIP 2&quot; (6584a94b-80fb-4ec4-8644-4781bb9509af)</li><li><strong>Part</strong> &quot;Whomping Willow&quot; (1188fc31-789b-424f-a2d4-06791873a351)</li><li><strong>FunctionInputPort</strong> &quot;FIP 2&quot; (570662e8-9f8b-4c96-b695-103a549b250a)</li><li><strong>ComponentPort</strong> &quot;CP 1&quot; (db5681e4-4245-4207-a429-e89979f6ac71)</li><li><strong>ComponentPort</strong> &quot;CP 3&quot; (44e0f08d-2d38-46bb-b681-c11d2a3c4fe2)</li><li><strong>FunctionOutputPort</strong> &quot;FOP 1&quot; (46093fb9-ae5e-4cc9-aad4-70c33e82e2bc)</li><li><strong>GenericElement</strong> &quot;(Unnamed org.polarsys.capella.core.data.information:PortAllocation)&quot; (4cbdf5fd-7268-470b-9811-b62ad67fded1)</li><li><strong>GenericElement</strong> &quot;(Unnamed org.polarsys.capella.core.data.information:PortAllocation)&quot; (d0485068-386e-41e9-8d92-ec3b14ab8a3b)</li><li><strong>Constraint</strong> &quot;Test constraint where the text is way too long to display this shit&quot; (644f1799-c4b5-4ad5-b4c5-b4b360562059)</li><li><strong>GenericElement</strong> &quot;(Unnamed org.polarsys.capella.core.data.information:PortAllocation)&quot; (7d31ab50-63d6-46bb-bf53-1716175beae3)</li><li><strong>FunctionalExchange</strong> &quot;wizardry&quot; (6545a77d-d224-4662-a5b2-3c016b78e33d)</li><li><strong>Part</strong> &quot;Campus&quot; (a3194240-cd17-4998-8f8b-785233487ec3)</li><li><strong>Part</strong> &quot;School&quot; (018a8ae9-8e8e-4aea-8191-4abf844a79e3)</li><li><strong>FunctionalExchange</strong> &quot;educate&quot; (b1a817bc-40a9-4fc4-b62c-8dea4aa28915)</li><li><strong>Part</strong> &quot;R. Weasley&quot; (4d31caaf-210e-4bdf-982e-cdecbc80c947)</li><li><strong>ComponentExchange</strong> &quot;Learning&quot; (3b3fc202-be5c-49ae-bf2f-1d61daf3bb50)</li><li><strong>ComponentPort</strong> &quot;CP 2&quot; (639341a3-1b08-44d9-bac2-cd847ccb45a4)</li><li><strong>FunctionOutputPort</strong> &quot;FOP 1&quot; (0eae1038-95fe-48b7-af6f-ad6890f2c207)</li><li><strong>FunctionInputPort</strong> &quot;FIP 1&quot; (ef435fb5-de1e-48ca-be00-40c79cc6a659)</li><li><strong>LogicalFunction</strong> &quot;Befriend Harry&quot; (edbd1ad4-31c0-4d53-b856-3ffa60e0e99b)</li><li><strong>LogicalFunction</strong> &quot;Advising Harry&quot; (beaf5ba4-8fa9-4342-911f-0266bb29be45)</li><li><strong>FunctionOutputPort</strong> &quot;FOP 1&quot; (08fa1029-81c9-4402-ab57-e1a11e4d2ff2)</li><li><strong>GenericElement</strong> &quot;(Unnamed org.polarsys.capella.core.data.information:PortAllocation)&quot; (a4e2bf11-0705-4f20-bf73-5fa5519954f7)</li><li><strong>FunctionOutputPort</strong> &quot;FOP 1&quot; (3612f112-f0c7-42ec-b0e9-f53afc1ef486)</li><li><strong>ComponentPort</strong> &quot;CP 2&quot; (fcbf6881-720c-421f-9fe9-12fc3dfefe9c)</li><li><strong>ComponentExchange</strong> &quot;Miss Abrasion&quot; (5ed7e168-2dcf-4962-bedd-4b9c0688e514)</li><li><strong>GenericElement</strong> &quot;(Unnamed org.polarsys.capella.core.data.information:PortAllocation)&quot; (dda7a62a-f25f-46d8-8f05-867c616914c1)</li><li><strong>ComponentPort</strong> &quot;CP 3&quot; (d7e0cc4d-eef6-4173-9a21-1bd933a5d9f0)</li><li><strong>ComponentPort</strong> &quot;CP 2&quot; (7c61d723-3658-47ff-9b0c-7b016ac4cb76)</li><li><strong>ComponentExchange</strong> &quot;Punishment&quot; (85a1fb20-38ea-4d77-acd7-90a8c44dc695)</li><li><strong>FunctionOutputPort</strong> &quot;FOP 1&quot; (65be1aca-b5da-480c-b16b-3d127ab29346)</li><li><strong>GenericElement</strong> &quot;(Unnamed org.polarsys.capella.core.data.information:PortAllocation)&quot; (14cabdd9-c36f-4e01-ad09-110f906ad725)</li><li><strong>GenericElement</strong> &quot;(Unnamed org.polarsys.capella.core.data.information:PortAllocation)&quot; (c90bb30d-e36b-46a3-a3a1-e39fdcb519be)</li><li><strong>FunctionalExchange</strong> &quot;educate&quot; (cdc69c5e-ddd8-4e59-8b99-f510400650aa)</li><li><strong>LogicalFunction</strong> &quot;Educate Wizzards&quot; (957c5799-1d4a-4ac0-b5de-33a65bf1519c)</li><li><strong>ComponentPort</strong> &quot;CP 2&quot; (438d9f44-8c6a-4151-98cc-360d8aa4f69f)</li><li><strong>LogicalFunction</strong> &quot;Being the chosen one&quot; (aa9931e3-116c-461e-8215-6b9fdbdd4a1b)</li><li><strong>FunctionalExchange</strong> &quot;assistance&quot; (241f3901-11f0-4b00-a903-ed158cce73de)</li><li><strong>FunctionalExchange</strong> &quot;friendship&quot; (1bbb9b2d-517c-4f77-a35c-b3aa3f9422b8)</li><li><strong>LogicalFunction</strong> &quot;Produce Great Wizzards&quot; (0e71a0d3-0a18-4671-bba0-71b5f88f95dd)</li><li><strong>ComponentPort</strong> &quot;CP 3&quot; (e0dcf8c2-2283-4456-98a2-146e78ba5f26)</li><li><strong>FunctionInputPort</strong> &quot;FIP 1&quot; (68399bb1-5f8c-4137-89f4-73f25d3bdbe6)</li><li><strong>FunctionalExchange</strong> &quot;punish&quot; (96a0cf4c-adfe-4490-92d1-bcf75ee77004)</li><li><strong>GenericElement</strong> &quot;(Unnamed org.polarsys.capella.core.data.information:PortAllocation)&quot; (33ffb891-74b7-4b6b-8bbc-818929a8aa70)</li><li><strong>Part</strong> &quot;Hogwarts&quot; (101ffa60-f8a2-4ea2-a0d8-d10910ceac06)</li><li><strong>ComponentPort</strong> &quot;CP 1&quot; (9dcf355a-84a7-44df-a480-8911a85fd0cd)</li><li><strong>FunctionInputPort</strong> &quot;FIP 1&quot; (2178d219-e817-4a50-b451-74b19874a6bf)</li><li><strong>GenericElement</strong> &quot;(Unnamed org.polarsys.capella.core.data.information:PortAllocation)&quot; (c1019d06-f376-48e3-832e-634a8ec59463)</li><li><strong>FunctionOutputPort</strong> &quot;FOP 1&quot; (db64f0c9-ea1c-4962-b043-1774547c36f7)</li><li><strong>LogicalFunction</strong> &quot;Protect Knowledge&quot; (264fb47d-67b7-4bdc-8d06-8a0e5139edbf)</li><li><strong>Part</strong> &quot;Harry J. Potter&quot; (26543596-7646-4d81-8f15-c4e01ec930a7)</li><li><strong>ComponentPort</strong> &quot;CP 1&quot; (b4e39757-b0fd-41ff-a7b8-c9fc36de2ca9)</li><li><strong>GenericElement</strong> &quot;(Unnamed org.polarsys.capella.core.data.information:PortAllocation)&quot; (6d882e28-4208-41d0-b8a5-3a19e1805a34)</li><li><strong>GenericElement</strong> &quot;(Unnamed org.polarsys.capella.core.data.information:PortAllocation)&quot; (89935fab-61f4-4a48-9e17-2539be922941)</li><li><strong>Constraint</strong> &quot;Test constraint where the text is way too long to display this shit&quot; (644f1799-c4b5-4ad5-b4c5-b4b360562059)</li><li><strong>GenericElement</strong> &quot;(Unnamed org.polarsys.capella.core.data.information:PortAllocation)&quot; (0f6e1aa0-942a-40a9-930f-c7df34b9d8eb)</li></ol>"
      ],
      "text/plain": [
       "<MixedElementList at 0x00007FFA29ED2760 [<FunctionOutputPort 'FOP 2' (226878bc-3e4b-4236-ba72-996fc1d988c0)>, <FunctionInputPort 'FIP 1' (e00e8a06-6d21-4c03-ba10-b8c17d082ad8)>, <Model element (org.polarsys.capella.core.data.information:PortAllocation) '(Unnamed org.polarsys.capella.core.data.information:PortAllocation)' (fee1fff5-d751-401b-bb3c-2114a74f0c8a)>, <ComponentPort 'CP 1' (42c60b17-b503-46d6-8b0c-f1ff0fd4b8ac)>, <LogicalFunction 'Teaching' (f708bc29-d69f-42a0-90cc-11fc01054cd0)>, <Model element (org.polarsys.capella.core.data.information:PortAllocation) '(Unnamed org.polarsys.capella.core.data.information:PortAllocation)' (5d4c33e6-2938-45b8-a637-ab62f38dd0cc)>, <ComponentPort 'CP 2' (51f9e974-75f8-4f01-89a5-2503a7d49beb)>, <LogicalFunction 'Punish Intruders' (7f2936ab-0b54-4e92-9f0c-85a9f0981959)>, <ComponentExchange 'Teacher Responsibilities' (9cbdd233-aff5-47dd-9bef-9be1277c77c3)>, <LogicalFunction 'Bully Harry' (4a2a7f3c-d223-4d44-94a7-50dd2906a70c)>, <Part 'Prof. S. Snape' (ccbad61a-39dc-4af8-8199-3fee30de2f1d)>, <FunctionalExchange 'punish' (002fa997-6262-40e6-af6f-f8953903bc4b)>, <Model element (org.polarsys.capella.core.data.information:PortAllocation) '(Unnamed org.polarsys.capella.core.data.information:PortAllocation)' (317715cb-376c-4df6-a32c-433e3c081f8d)>, <LogicalFunction 'Assist Harry' (c1a42acc-1f53-42bb-8404-77a5c08c414b)>, <FunctionalExchange 'educate & mature' (09efaeb7-2d50-40ed-a4da-46afcb9ca7a1)>, <FunctionOutputPort 'FOP 1' (68c5f3da-1ccc-417d-8a17-3a3764167d77)>, <Model element (org.polarsys.capella.core.data.information:PortAllocation) '(Unnamed org.polarsys.capella.core.data.information:PortAllocation)' (18fa81ee-8b16-4815-86ea-0c287ace43d8)>, <ComponentPort 'CP 5' (d1687d0d-31ab-43a4-822c-a99c922471ce)>, <Part 'Prof. A. P. W. B. Dumbledore' (4c1f2b5d-0641-42c7-911f-7a42928580b8)>, <ComponentExchange 'Help for Harry' (d8655737-39ab-4482-a934-ee847c7ff6bd)>, <ComponentExchange 'Headmaster Responsibilities' (c0bc49e1-8043-4418-8c0a-de6c6b749eab)>, <FunctionOutputPort 'FOP 1' (cd696c20-84c9-47ec-aa63-6c46bfa506a9)>, <LogicalFunction 'Teaching' (a7acb298-d14b-4707-a419-fea272434541)>, <Model element (org.polarsys.capella.core.data.information:PortAllocation) '(Unnamed org.polarsys.capella.core.data.information:PortAllocation)' (0f75227d-bad0-4fd6-8f3b-3c796ae4e5c3)>, <ComponentExchange 'Care' (c31491db-817d-44b3-a27c-67e9cc1e06a2)>, <ComponentPort 'CP 1' (fd38ff24-6a77-446b-aab5-6e307295b825)>, <FunctionInputPort 'FIP 2' (6584a94b-80fb-4ec4-8644-4781bb9509af)>, <Part 'Whomping Willow' (1188fc31-789b-424f-a2d4-06791873a351)>, <FunctionInputPort 'FIP 2' (570662e8-9f8b-4c96-b695-103a549b250a)>, <ComponentPort 'CP 1' (db5681e4-4245-4207-a429-e89979f6ac71)>, <ComponentPort 'CP 3' (44e0f08d-2d38-46bb-b681-c11d2a3c4fe2)>, <FunctionOutputPort 'FOP 1' (46093fb9-ae5e-4cc9-aad4-70c33e82e2bc)>, <Model element (org.polarsys.capella.core.data.information:PortAllocation) '(Unnamed org.polarsys.capella.core.data.information:PortAllocation)' (4cbdf5fd-7268-470b-9811-b62ad67fded1)>, <Model element (org.polarsys.capella.core.data.information:PortAllocation) '(Unnamed org.polarsys.capella.core.data.information:PortAllocation)' (d0485068-386e-41e9-8d92-ec3b14ab8a3b)>, <Constraint 'Test constraint where the text is way too long to display this shit' (644f1799-c4b5-4ad5-b4c5-b4b360562059)>, <Model element (org.polarsys.capella.core.data.information:PortAllocation) '(Unnamed org.polarsys.capella.core.data.information:PortAllocation)' (7d31ab50-63d6-46bb-bf53-1716175beae3)>, <FunctionalExchange 'wizardry' (6545a77d-d224-4662-a5b2-3c016b78e33d)>, <Part 'Campus' (a3194240-cd17-4998-8f8b-785233487ec3)>, <Part 'School' (018a8ae9-8e8e-4aea-8191-4abf844a79e3)>, <FunctionalExchange 'educate' (b1a817bc-40a9-4fc4-b62c-8dea4aa28915)>, <Part 'R. Weasley' (4d31caaf-210e-4bdf-982e-cdecbc80c947)>, <ComponentExchange 'Learning' (3b3fc202-be5c-49ae-bf2f-1d61daf3bb50)>, <ComponentPort 'CP 2' (639341a3-1b08-44d9-bac2-cd847ccb45a4)>, <FunctionOutputPort 'FOP 1' (0eae1038-95fe-48b7-af6f-ad6890f2c207)>, <FunctionInputPort 'FIP 1' (ef435fb5-de1e-48ca-be00-40c79cc6a659)>, <LogicalFunction 'Befriend Harry' (edbd1ad4-31c0-4d53-b856-3ffa60e0e99b)>, <LogicalFunction 'Advising Harry' (beaf5ba4-8fa9-4342-911f-0266bb29be45)>, <FunctionOutputPort 'FOP 1' (08fa1029-81c9-4402-ab57-e1a11e4d2ff2)>, <Model element (org.polarsys.capella.core.data.information:PortAllocation) '(Unnamed org.polarsys.capella.core.data.information:PortAllocation)' (a4e2bf11-0705-4f20-bf73-5fa5519954f7)>, <FunctionOutputPort 'FOP 1' (3612f112-f0c7-42ec-b0e9-f53afc1ef486)>, <ComponentPort 'CP 2' (fcbf6881-720c-421f-9fe9-12fc3dfefe9c)>, <ComponentExchange 'Miss Abrasion' (5ed7e168-2dcf-4962-bedd-4b9c0688e514)>, <Model element (org.polarsys.capella.core.data.information:PortAllocation) '(Unnamed org.polarsys.capella.core.data.information:PortAllocation)' (dda7a62a-f25f-46d8-8f05-867c616914c1)>, <ComponentPort 'CP 3' (d7e0cc4d-eef6-4173-9a21-1bd933a5d9f0)>, <ComponentPort 'CP 2' (7c61d723-3658-47ff-9b0c-7b016ac4cb76)>, <ComponentExchange 'Punishment' (85a1fb20-38ea-4d77-acd7-90a8c44dc695)>, <FunctionOutputPort 'FOP 1' (65be1aca-b5da-480c-b16b-3d127ab29346)>, <Model element (org.polarsys.capella.core.data.information:PortAllocation) '(Unnamed org.polarsys.capella.core.data.information:PortAllocation)' (14cabdd9-c36f-4e01-ad09-110f906ad725)>, <Model element (org.polarsys.capella.core.data.information:PortAllocation) '(Unnamed org.polarsys.capella.core.data.information:PortAllocation)' (c90bb30d-e36b-46a3-a3a1-e39fdcb519be)>, <FunctionalExchange 'educate' (cdc69c5e-ddd8-4e59-8b99-f510400650aa)>, <LogicalFunction 'Educate Wizzards' (957c5799-1d4a-4ac0-b5de-33a65bf1519c)>, <ComponentPort 'CP 2' (438d9f44-8c6a-4151-98cc-360d8aa4f69f)>, <LogicalFunction 'Being the chosen one' (aa9931e3-116c-461e-8215-6b9fdbdd4a1b)>, <FunctionalExchange 'assistance' (241f3901-11f0-4b00-a903-ed158cce73de)>, <FunctionalExchange 'friendship' (1bbb9b2d-517c-4f77-a35c-b3aa3f9422b8)>, <LogicalFunction 'Produce Great Wizzards' (0e71a0d3-0a18-4671-bba0-71b5f88f95dd)>, <ComponentPort 'CP 3' (e0dcf8c2-2283-4456-98a2-146e78ba5f26)>, <FunctionInputPort 'FIP 1' (68399bb1-5f8c-4137-89f4-73f25d3bdbe6)>, <FunctionalExchange 'punish' (96a0cf4c-adfe-4490-92d1-bcf75ee77004)>, <Model element (org.polarsys.capella.core.data.information:PortAllocation) '(Unnamed org.polarsys.capella.core.data.information:PortAllocation)' (33ffb891-74b7-4b6b-8bbc-818929a8aa70)>, <Part 'Hogwarts' (101ffa60-f8a2-4ea2-a0d8-d10910ceac06)>, <ComponentPort 'CP 1' (9dcf355a-84a7-44df-a480-8911a85fd0cd)>, <FunctionInputPort 'FIP 1' (2178d219-e817-4a50-b451-74b19874a6bf)>, <Model element (org.polarsys.capella.core.data.information:PortAllocation) '(Unnamed org.polarsys.capella.core.data.information:PortAllocation)' (c1019d06-f376-48e3-832e-634a8ec59463)>, <FunctionOutputPort 'FOP 1' (db64f0c9-ea1c-4962-b043-1774547c36f7)>, <LogicalFunction 'Protect Knowledge' (264fb47d-67b7-4bdc-8d06-8a0e5139edbf)>, <Part 'Harry J. Potter' (26543596-7646-4d81-8f15-c4e01ec930a7)>, <ComponentPort 'CP 1' (b4e39757-b0fd-41ff-a7b8-c9fc36de2ca9)>, <Model element (org.polarsys.capella.core.data.information:PortAllocation) '(Unnamed org.polarsys.capella.core.data.information:PortAllocation)' (6d882e28-4208-41d0-b8a5-3a19e1805a34)>, <Model element (org.polarsys.capella.core.data.information:PortAllocation) '(Unnamed org.polarsys.capella.core.data.information:PortAllocation)' (89935fab-61f4-4a48-9e17-2539be922941)>, <Constraint 'Test constraint where the text is way too long to display this shit' (644f1799-c4b5-4ad5-b4c5-b4b360562059)>, <Model element (org.polarsys.capella.core.data.information:PortAllocation) '(Unnamed org.polarsys.capella.core.data.information:PortAllocation)' (0f6e1aa0-942a-40a9-930f-c7df34b9d8eb)>]>"
      ]
     },
     "execution_count": 8,
     "metadata": {},
     "output_type": "execute_result"
    }
   ],
   "source": [
    "diagram = model.diagrams.by_name('[LAB] Wizzard Education')\n",
    "diagram.nodes"
   ]
  },
  {
   "cell_type": "markdown",
   "id": "eaaffccd",
   "metadata": {},
   "source": [
    "And again there are warnings - there are quite a few visual filters in Capella and we are not handling all of those yet but mostly those that are used in our projects. The filter coverage will eventally improve, stay tuned."
   ]
  },
  {
   "cell_type": "markdown",
   "id": "9ec8f512-6e78-46fe-9dce-ed6fbfc8ad7a",
   "metadata": {},
   "source": [
    "And finally, you can display the diagram right in the notebook."
   ]
  },
  {
   "cell_type": "code",
   "execution_count": 9,
   "id": "cc09fd22",
   "metadata": {},
   "outputs": [
    {
     "data": {
      "image/svg+xml": [
       "<svg baseProfile=\"full\" class=\"LogicalArchitectureBlank\" height=\"645\" version=\"1.1\" viewBox=\"250 60 1162 645\" width=\"1162\" xmlns=\"http://www.w3.org/2000/svg\" xmlns:ev=\"http://www.w3.org/2001/xml-events\" xmlns:xlink=\"http://www.w3.org/1999/xlink\"><defs><style>.LogicalArchitectureBlank * { shape-rendering: geometricPrecision; }\n",
       ".LogicalArchitectureBlank text { font-family: \"Segoe UI\"; font-size: 8pt; }\n",
       ".LogicalArchitectureBlank g { cursor: pointer; }\n",
       ".LogicalArchitectureBlank g.Edge &gt; path { fill: none; stroke: rgb(0, 0, 0); }\n",
       ".LogicalArchitectureBlank g.Box &gt; line { stroke: #000000; }\n",
       ".LogicalArchitectureBlank g.Box &gt; rect, .LogicalArchitectureBlank g.Box &gt; use { fill: transparent; stroke: #000000; stroke-width: 1; }\n",
       ".LogicalArchitectureBlank g.Box.Annotation &gt; line { stroke: none; }\n",
       ".LogicalArchitectureBlank g.Box.Annotation &gt; rect, .LogicalArchitectureBlank g.Box.Annotation &gt; use { fill: none; stroke: none; }\n",
       ".LogicalArchitectureBlank g.Box.Constraint &gt; line { stroke: #888888; }\n",
       ".LogicalArchitectureBlank g.Box.Constraint &gt; rect, .LogicalArchitectureBlank g.Box.Constraint &gt; use { fill: #FFF5B5; stroke: #888888; }\n",
       ".LogicalArchitectureBlank g.Box.Constraint &gt; text { fill: #000000; }\n",
       ".LogicalArchitectureBlank g.Box.Note &gt; line { stroke: #FFCC66; }\n",
       ".LogicalArchitectureBlank g.Box.Note &gt; rect, .LogicalArchitectureBlank g.Box.Note &gt; use { fill: #FFFFCB; stroke: #FFCC66; }\n",
       ".LogicalArchitectureBlank g.Box.Note &gt; text { fill: #000000; }\n",
       ".LogicalArchitectureBlank g.Box.Requirement &gt; line { stroke: #72496E; }\n",
       ".LogicalArchitectureBlank g.Box.Requirement &gt; rect, .LogicalArchitectureBlank g.Box.Requirement &gt; use { fill: #D9C4D7; stroke: #72496E; }\n",
       ".LogicalArchitectureBlank g.Box.Requirement &gt; text { fill: #000000; }\n",
       ".LogicalArchitectureBlank g.Box.Text &gt; line { stroke: transparent; }\n",
       ".LogicalArchitectureBlank g.Box.Text &gt; rect, .LogicalArchitectureBlank g.Box.Text &gt; use { stroke: transparent; }\n",
       ".LogicalArchitectureBlank g.Edge &gt; rect { fill: none; stroke: none; }\n",
       ".LogicalArchitectureBlank g.Circle &gt; circle { fill: #000000; stroke: none; }\n",
       ".LogicalArchitectureBlank g.Edge &gt; path { stroke-width: 2; }\n",
       ".LogicalArchitectureBlank g.Edge.Connector &gt; rect { fill: none; stroke: none; }\n",
       ".LogicalArchitectureBlank g.Circle.Connector &gt; circle { fill: #B0B0B0; stroke: none; }\n",
       ".LogicalArchitectureBlank g.Edge.Connector &gt; path { stroke: #B0B0B0; stroke-dasharray: 1; stroke-width: 1; }\n",
       ".LogicalArchitectureBlank g.Edge.Constraint &gt; rect { fill: none; stroke: none; }\n",
       ".LogicalArchitectureBlank g.Circle.Constraint &gt; circle { fill: #000000; stroke: none; }\n",
       ".LogicalArchitectureBlank g.Edge.Constraint &gt; path { stroke: #000000; stroke-dasharray: 1, 3; stroke-width: 1; marker-end: url(#FineArrowMark_000000); stroke-linecap: round; }\n",
       ".LogicalArchitectureBlank g.Edge.Note &gt; rect { fill: none; stroke: none; }\n",
       ".LogicalArchitectureBlank g.Circle.Note &gt; circle { fill: #000000; stroke: none; }\n",
       ".LogicalArchitectureBlank g.Edge.Note &gt; path { stroke: #000000; stroke-dasharray: 1, 3; stroke-width: 1; }\n",
       ".LogicalArchitectureBlank g.Edge.RequirementRelation &gt; rect { fill: none; stroke: none; }\n",
       ".LogicalArchitectureBlank g.Circle.RequirementRelation &gt; circle { fill: #72496E; stroke: none; }\n",
       ".LogicalArchitectureBlank g.Edge.RequirementRelation &gt; path { stroke: #72496E; marker-end: url(#FineArrowMark_72496E); stroke-dasharray: 5; }\n",
       ".LogicalArchitectureBlank g.Edge.RequirementRelation &gt; text { fill: #72496E; }\n",
       ".LogicalArchitectureBlank g.Box.CP_IN &gt; line { stroke: #000000; }\n",
       ".LogicalArchitectureBlank g.Box.CP_IN &gt; rect, .LogicalArchitectureBlank g.Box.CP_IN &gt; use { fill: #FFFFFF; stroke: #000000; }\n",
       ".LogicalArchitectureBlank g.Box.CP_OUT &gt; line { stroke: #000000; }\n",
       ".LogicalArchitectureBlank g.Box.CP_OUT &gt; rect, .LogicalArchitectureBlank g.Box.CP_OUT &gt; use { fill: #FFFFFF; stroke: #000000; }\n",
       ".LogicalArchitectureBlank g.Box.CP_INOUT &gt; line { stroke: #000000; }\n",
       ".LogicalArchitectureBlank g.Box.CP_INOUT &gt; rect, .LogicalArchitectureBlank g.Box.CP_INOUT &gt; use { fill: #FFFFFF; stroke: #000000; }\n",
       ".LogicalArchitectureBlank g.Box.CP_UNSET &gt; rect, .LogicalArchitectureBlank g.Box.CP_UNSET &gt; use { fill: url(\"#.CP_UNSETFillGradient\"); }\n",
       ".LogicalArchitectureBlank g.Box.FIP &gt; rect, .LogicalArchitectureBlank g.Box.FIP &gt; use { fill: #E08503; stroke-width: 0; }\n",
       ".LogicalArchitectureBlank g.Box.FOP &gt; rect, .LogicalArchitectureBlank g.Box.FOP &gt; use { fill: #095C2E; stroke-width: 0; }\n",
       ".LogicalArchitectureBlank g.Box.LogicalActor &gt; line { stroke: #4A4A97; }\n",
       ".LogicalArchitectureBlank g.Box.LogicalActor &gt; rect, .LogicalArchitectureBlank g.Box.LogicalActor &gt; use { fill: url(\"#.LogicalActorFillGradient\"); stroke: #4A4A97; }\n",
       ".LogicalArchitectureBlank g.Box.LogicalActor &gt; text { fill: #000000; }\n",
       ".LogicalArchitectureBlank g.Box.LogicalComponent &gt; line { stroke: #4A4A97; }\n",
       ".LogicalArchitectureBlank g.Box.LogicalComponent &gt; rect, .LogicalArchitectureBlank g.Box.LogicalComponent &gt; use { fill: url(\"#.LogicalComponentFillGradient\"); stroke: #4A4A97; }\n",
       ".LogicalArchitectureBlank g.Box.LogicalComponent &gt; text { fill: #4A4A97; }\n",
       ".LogicalArchitectureBlank g.Box.LogicalHumanActor &gt; line { stroke: #4A4A97; }\n",
       ".LogicalArchitectureBlank g.Box.LogicalHumanActor &gt; rect, .LogicalArchitectureBlank g.Box.LogicalHumanActor &gt; use { fill: url(\"#.LogicalHumanActorFillGradient\"); stroke: #4A4A97; }\n",
       ".LogicalArchitectureBlank g.Box.LogicalHumanActor &gt; text { fill: #4A4A97; }\n",
       ".LogicalArchitectureBlank g.Box.LogicalHumanComponent &gt; line { stroke: #4A4A97; }\n",
       ".LogicalArchitectureBlank g.Box.LogicalHumanComponent &gt; rect, .LogicalArchitectureBlank g.Box.LogicalHumanComponent &gt; use { fill: url(\"#.LogicalHumanComponentFillGradient\"); stroke: #4A4A97; }\n",
       ".LogicalArchitectureBlank g.Box.LogicalHumanComponent &gt; text { fill: #4A4A97; }\n",
       ".LogicalArchitectureBlank g.Box.LogicalFunction &gt; line { stroke: #095C2E; }\n",
       ".LogicalArchitectureBlank g.Box.LogicalFunction &gt; rect, .LogicalArchitectureBlank g.Box.LogicalFunction &gt; use { fill: #C5FFA6; stroke: #095C2E; }\n",
       ".LogicalArchitectureBlank g.Box.LogicalFunction &gt; text { fill: #095C2E; }\n",
       ".LogicalArchitectureBlank g.Edge.FunctionalExchange &gt; rect { fill: none; stroke: none; }\n",
       ".LogicalArchitectureBlank g.Circle.FunctionalExchange &gt; circle { fill: #095C2E; stroke: none; }\n",
       ".LogicalArchitectureBlank g.Edge.FunctionalExchange &gt; path { stroke: #095C2E; }\n",
       ".LogicalArchitectureBlank g.Edge.FunctionalExchange &gt; text { fill: #095C2E; }\n",
       ".LogicalArchitectureBlank g.Edge.ComponentExchange &gt; rect { fill: none; stroke: none; }\n",
       ".LogicalArchitectureBlank g.Circle.ComponentExchange &gt; circle { fill: #4A4A97; stroke: none; }\n",
       ".LogicalArchitectureBlank g.Edge.ComponentExchange &gt; path { stroke: #4A4A97; }\n",
       ".LogicalArchitectureBlank g.Edge.ComponentExchange &gt; text { fill: #4A4A97; }\n",
       ".LogicalArchitectureBlank g.Edge.FIPAllocation &gt; rect { fill: none; stroke: none; }\n",
       ".LogicalArchitectureBlank g.Circle.FIPAllocation &gt; circle { fill: #E08503; stroke: none; }\n",
       ".LogicalArchitectureBlank g.Edge.FIPAllocation &gt; path { stroke: #E08503; stroke-dasharray: 5; }\n",
       ".LogicalArchitectureBlank g.Edge.FOPAllocation &gt; rect { fill: none; stroke: none; }\n",
       ".LogicalArchitectureBlank g.Circle.FOPAllocation &gt; circle { fill: #095C2E; stroke: none; }\n",
       ".LogicalArchitectureBlank g.Edge.FOPAllocation &gt; path { stroke: #095C2E; stroke-dasharray: 5; }\n",
       "</style><symbol id=\"ErrorSymbol\" viewBox=\"0 0 2.6458 2.6458\"><path d=\"M 0,0 2.6458333,2.6458333 M 0,2.6458333 2.6458333,0\" style=\"fill: none; stroke: red; stroke-width: 0.5;\" /></symbol><symbol id=\"RequirementSymbol\" style=\"stroke: none;\" viewBox=\"0 0 50 50\"><path d=\"M 12.806813,6.5702324 A 6.244379,5.8113241 0 0 1 6.5624342,12.381557 6.244379,5.8113241 0 0 1 0.31805515,6.5702324 6.244379,5.8113241 0 0 1 6.5624342,0.75890827 6.244379,5.8113241 0 0 1 12.806813,6.5702324 Z\" style=\"fill: #431964\" /><path d=\"m 4.3228658,5.8752475 h 2.9514721 q 0.2945581,0 0.5184223,-0.1413879 Q 8.0225155,5.5865806 8.1462299,5.3214783 8.2699443,5.056376 8.2758355,4.7029063 v 0 q 0,-0.3475786 -0.1237144,-0.6126808 Q 8.0284067,3.8251232 7.7986513,3.6837353 7.5747872,3.5364562 7.2743379,3.5364562 H 4.3228658 V 2.1873801 h 2.9927103 q 0.7246129,0 1.2724909,0.3122316 0.5478781,0.3122316 0.8483274,0.8836743 0.3063404,0.5714427 0.3063404,1.3196203 v 0 q 0,0.7540687 -0.3063404,1.3255114 Q 9.1359451,6.5998605 8.5821759,6.912092 8.0342978,7.2243236 7.3155761,7.2243236 H 4.3228658 Z M 3.7396407,2.1873801 H 5.1476285 V 10.759021 H 3.7396407 Z M 6.3906636,6.9592213 7.8516718,6.6882279 10.102096,10.759021 H 8.4113322 Z\" style=\"fill:#ffffff;\" /></symbol><symbol id=\"ComponentPortSymbol\" viewBox=\"0 0 10 10\"><path d=\"M0 0h10v10H0z\" /><path d=\"M 2,2 5,7 8,2\" /></symbol><symbol id=\"LogicalActorSymbol\" style=\"stroke: #000; stroke-width: 2;\" viewBox=\"0 0 79 79\"><linearGradient id=\"ls-blue\" x1=\"0\" x2=\"0\" y1=\"0\" y2=\"1\"><stop offset=\"0.0\" stop-color=\"#c3e4ff\" stop-opacity=\"1\" /><stop offset=\"1.0\" stop-color=\"#98b0dd\" stop-opacity=\"1\" /></linearGradient><path d=\"M18 237h46v43H18z\" style=\"fill: url(#ls-blue)\" transform=\"translate(0 -218)\" /><path d=\"M12 247h11v8H12z\" style=\"fill: url(#ls-blue)\" transform=\"translate(0 -218)\" /><path d=\"M12 261h11v8H12z\" style=\"fill: url(#ls-blue)\" transform=\"translate(0 -218)\" /><g style=\"fill: #000;\" transform=\"scale(0.83010896,1.2046611)\"><path d=\"m 31.063676,19.942628 h 3.754427 v 26.759494 h -3.754427 z m 1.877213,23.189107 h 15.312173 v 3.570387 H 32.940889 Z\" /><path d=\"m 60.32612,19.942628 h 3.202306 l 9.864572,26.759494 H 69.344107 L 61.927273,25.114167 54.51044,46.702122 H 50.461548 Z M 55.007349,37.260842 H 69.08645 v 3.570387 H 55.007349 Z\" /></g></symbol><symbol id=\"LogicalComponentSymbol\" style=\"stroke: #000; stroke-width: 2;\" viewBox=\"0 0 79 79\"><linearGradient id=\"ls-blue\" x1=\"0\" x2=\"0\" y1=\"0\" y2=\"1\"><stop offset=\"0.0\" stop-color=\"#c3e4ff\" stop-opacity=\"1\" /><stop offset=\"1.0\" stop-color=\"#98b0dd\" stop-opacity=\"1\" /></linearGradient><path d=\"M18 237h46v43H18z\" style=\"fill: url(#ls-blue)\" transform=\"translate(0 -218)\" /><path d=\"M12 247h11v8H12z\" style=\"fill: url(#ls-blue)\" transform=\"translate(0 -218)\" /><path d=\"M12 261h11v8H12z\" style=\"fill: url(#ls-blue)\" transform=\"translate(0 -218)\" /><g transform=\"scale(0.90705135,1.1024734)\"><path d=\"m 37.427456,20.821353 h 4.221475 V 50.90971 H 37.427456 Z M 39.538194,46.89517 H 56.75519 v 4.01454 H 39.538194 Z\" style=\"fill: #000;\" /></g></symbol><symbol id=\"LogicalFunctionSymbol\" viewBox=\"0 0 79 79\"><radialGradient cx=\"42.2\" cy=\"32\" fx=\"42.2\" fy=\"32\" gradientTransform=\"matrix(1 0 0 0.7 0 11.3)\" gradientUnits=\"userSpaceOnUse\" id=\"b\" r=\"22.6\" xlink:href=\"#a\"><stop offset=\"0\" stop-color=\"#f0f8ee\" /><stop offset=\"1\" stop-color=\"#7dc56c\" /></radialGradient><ellipse cx=\"42.2\" cy=\"32\" rx=\"22.5\" ry=\"15.5\" style=\"fill: url(#b); stroke: #000; stroke-width: 2;\" /><text style=\"font-family: &quot;Segoe UI&quot;; font-size: 12pt; font-weight: bold; fill: black; stroke: none;\" text-anchor=\"middle\" x=\"42.2\" y=\"38\">LF</text></symbol><symbol id=\"LogicalHumanActorSymbol\" style=\"stroke: #000; stroke-width: 2;\" viewBox=\"0 0 79 79\"><use transform=\"matrix(0.81762456,0,0,0.81762456,-2.5207584,0.47091696)\" xlink:href=\"#StickFigureSymbol\" /></symbol><symbol id=\"LogicalHumanComponentSymbol\" style=\"stroke: #000; stroke-width: 2;\" viewBox=\"0 0 79 79\"><linearGradient id=\"ls-blue\" x1=\"0\" x2=\"0\" y1=\"0\" y2=\"1\"><stop offset=\"0.0\" stop-color=\"#c3e4ff\" stop-opacity=\"1\" /><stop offset=\"1.0\" stop-color=\"#98b0dd\" stop-opacity=\"1\" /></linearGradient><path d=\"M18 237h46v43H18z\" style=\"fill: url(#ls-blue)\" transform=\"translate(0 -218)\" /><path d=\"M12 247h11v8H12z\" style=\"fill: url(#ls-blue)\" transform=\"translate(0 -218)\" /><path d=\"M12 261h11v8H12z\" style=\"fill: url(#ls-blue)\" transform=\"translate(0 -218)\" /><use transform=\"matrix(0.62,0,0,0.62,23.82,16.51)\" xlink:href=\"#StickFigureSymbol\" /></symbol><symbol id=\"PortSymbol\" viewBox=\"0 0 10 10\"><path d=\"M0 0h10v10H0z\" /><path d=\"M5 1L1 9h8z\" fill=\"#fff\" /></symbol><symbol id=\"StickFigureSymbol\" style=\"stroke: #000; stroke-width: 2;\" viewBox=\"362.861 210.892 75 75\"><g style=\"stroke-width: 2.4944; stroke: #000;\" transform=\"matrix(1.0611338,0,0,1.0611338,-24.47665,-12.241673)\"><line style=\"fill: none;\" x1=\"400.362\" x2=\"400.362\" y1=\"232.586\" y2=\"257.534\" /><line style=\"fill: none;\" x1=\"400.83401\" x2=\"388.423\" y1=\"254.299\" y2=\"275.009\" /><line style=\"fill: none;\" x1=\"400.25201\" x2=\"413.97\" y1=\"254.46001\" y2=\"274.987\" /><line style=\"fill: none;\" x1=\"385.634\" x2=\"415.703\" y1=\"244.569\" y2=\"244.49699\" /><radialGradient cx=\"43.766102\" cy=\"87.902298\" fx=\"0\" fy=\"0\" gradientTransform=\"matrix(1.9728 0 0 -2.039 314.1896 402.5936)\" gradientUnits=\"userSpaceOnUse\" id=\"head\" r=\"4.4296999\"><stop offset=\"0\" stop-color=\"#FDFCFA\" /><stop offset=\"1\" stop-color=\"#8B9BA7\" /></radialGradient><ellipse cx=\"400.53201\" cy=\"223.35899\" rx=\"9.2180004\" ry=\"8.5080004\" style=\"fill:url(#head)\" /></g></symbol><symbol id=\"FunctionalExchangeSymbol\" viewBox=\"0 0 40 30\"><linearGradient id=\"FunctionalExchangeSymbol-gradient\" x1=\"0\" x2=\"1\" y1=\"0\" y2=\"1\"><stop offset=\"0.0\" stop-color=\"#4F7C45\" stop-opacity=\"1\" /><stop offset=\"1.0\" stop-color=\"#BCDDB4\" stop-opacity=\"1\" /></linearGradient><linearGradient id=\"FunctionalExchangeSymbol-gradientreverse\" x1=\"0\" x2=\"1\" y1=\"0\" y2=\"1\"><stop offset=\"0.0\" stop-color=\"#BCDDB4\" stop-opacity=\"1\" /><stop offset=\"1.0\" stop-color=\"#4F7C45\" stop-opacity=\"1\" /></linearGradient><g style=\"stroke:#000;stroke-width:2;\"><path d=\"M 36.190065,5.0377724 V 24.962228 H 26.17482 V 5.0377724 Z\" style=\"fill: url(#FunctionalExchangeSymbol-gradientreverse)\" /><path d=\"m 14.372107,10 h 12.622435 c 0.926189,0.585267 1.836022,1.274509 2.268178,5 -0.208657,2.812473 -0.954601,4.503809 -2.273297,5 H 14.296948\" style=\"fill: #61c34c\" /><path d=\"M 3.9464908,5.0048246 V 24.995175 H 10.87518 C 12.433713,24.159139 15.158267,20.291241 15.313795,15 15.498614,11.583142 14.059659,6.6240913 10.87518,5.0048246 c -2.2179509,0 -4.5908341,0 -6.9286892,0 z\" style=\"fill: url(#FunctionalExchangeSymbol-gradient)\" /></g></symbol><symbol id=\"ComponentExchangeSymbol\" viewBox=\"0 0 40 30\"><linearGradient id=\"ComponentExchangeSymbol-gradient\" x1=\"0\" x2=\"1\" y1=\"0\" y2=\"1\"><stop offset=\"0.0\" stop-color=\"#8FA5B6\" stop-opacity=\"1\" /><stop offset=\"1.0\" stop-color=\"#E0E9F3\" stop-opacity=\"1\" /></linearGradient><linearGradient id=\"ComponentExchangeSymbol-gradientreverse\" x1=\"0\" x2=\"1\" y1=\"0\" y2=\"1\"><stop offset=\"0.0\" stop-color=\"#E0E9F3\" stop-opacity=\"1\" /><stop offset=\"1.0\" stop-color=\"#8FA5B6\" stop-opacity=\"1\" /></linearGradient><g style=\"stroke:#000;stroke-width:2;\"><path d=\"M 36.190065,5.0377724 V 24.962228 H 26.17482 V 5.0377724 Z\" style=\"fill: url(#ComponentExchangeSymbol-gradientreverse)\" /><path d=\"m 14.372107,10 h 12.622435 c 0.926189,0.585267 1.836022,1.274509 2.268178,5 -0.208657,2.812473 -0.954601,4.503809 -2.273297,5 H 14.296948\" style=\"fill: #A3BCD0\" /><path d=\"M 3.9464908,5.0048246 V 24.995175 H 10.87518 C 12.433713,24.159139 15.158267,20.291241 15.313795,15 15.498614,11.583142 14.059659,6.6240913 10.87518,5.0048246 c -2.2179509,0 -4.5908341,0 -6.9286892,0 z\" style=\"fill: url(#ComponentExchangeSymbol-gradient)\" /></g></symbol><linearGradient id=\".CP_UNSETFillGradient\" x1=\"0%\" x2=\"0%\" y1=\"0%\" y2=\"100%\"><stop offset=\"0\" stop-color=\"#EF2929\" /><stop offset=\"1\" stop-color=\"#FFFFFF\" /></linearGradient><linearGradient id=\".LogicalActorFillGradient\" x1=\"0%\" x2=\"0%\" y1=\"0%\" y2=\"100%\"><stop offset=\"0\" stop-color=\"#DAFDFF\" /><stop offset=\"1\" stop-color=\"#C6E6FF\" /></linearGradient><linearGradient id=\".LogicalComponentFillGradient\" x1=\"0%\" x2=\"0%\" y1=\"0%\" y2=\"100%\"><stop offset=\"0\" stop-color=\"#C3E6FF\" /><stop offset=\"1\" stop-color=\"#96B1DA\" /></linearGradient><linearGradient id=\".LogicalHumanActorFillGradient\" x1=\"0%\" x2=\"0%\" y1=\"0%\" y2=\"100%\"><stop offset=\"0\" stop-color=\"#C3E6FF\" /><stop offset=\"1\" stop-color=\"#96B1DA\" /></linearGradient><linearGradient id=\".LogicalHumanComponentFillGradient\" x1=\"0%\" x2=\"0%\" y1=\"0%\" y2=\"100%\"><stop offset=\"0\" stop-color=\"#C3E6FF\" /><stop offset=\"1\" stop-color=\"#96B1DA\" /></linearGradient><linearGradient id=\"CustomGradient_DAFDFF_C6E6FF\" x1=\"0\" x2=\"0\" y1=\"0\" y2=\"1\"><stop offset=\"0.0\" stop-color=\"#DAFDFF\" stop-opacity=\"1\" /><stop offset=\"1.0\" stop-color=\"#C6E6FF\" stop-opacity=\"1\" /></linearGradient><marker id=\"FineArrowMark_000000\" markerHeight=\"15\" markerUnits=\"userSpaceOnUse\" markerWidth=\"15\" orient=\"auto\" refX=\"14\" refY=\"7\"><path d=\"M 0.90706313,0.21449614 14.619528,7.2414781 0.98360138,14.814827 0.2888162,14.139896 12.829523,7.2633468 0.27291254,0.95838308 Z\" style=\"marker-end: url(&quot;#FineArrowMark_000000&quot;); fill: #000000; stroke: #000000; stroke-width: 1\" /></marker></defs><rect fill=\"white\" height=\"645\" stroke=\"none\" width=\"1162\" x=\"250\" y=\"60\" /><g class=\"Box LogicalComponent\" id=\"_dqPI4LB8EeqLtsTDMgEHBw\"><rect class=\"LogicalComponent\" height=\"591\" width=\"411\" x=\"590.5\" y=\"70.5\" /><text class=\"LogicalComponent\" dominant-baseline=\"middle\" text-anchor=\"start\" x=\"590\" y=\"70\"><tspan x=\"779.7857142857142\" xml:space=\"preserve\" y=\"81.42857142857143\">Hogwarts</tspan></text><use height=\"20\" width=\"20\" x=\"757.7857142857142\" xlink:href=\"#LogicalComponentSymbol\" y=\"71.42857142857143\" /></g><g class=\"Box LogicalFunction\" id=\"_GHiygMECEeqW8_YksX3uDg\"><rect class=\"LogicalFunction\" height=\"50\" width=\"131\" x=\"620.5\" y=\"559.5\" /><text class=\"LogicalFunction\" dominant-baseline=\"middle\" text-anchor=\"middle\" x=\"620\" y=\"559\"><tspan x=\"685.5\" xml:space=\"preserve\" y=\"579.0\">Produce Great</tspan><tspan x=\"685.5\" xml:space=\"preserve\" y=\"589.0\">Wizzards</tspan></text><use height=\"20\" width=\"20\" x=\"626.9285714285714\" xlink:href=\"#LogicalFunctionSymbol\" y=\"574.0\" /></g><g class=\"Box FOP\"><use class=\"FOP\" height=\"10\" transform=\"rotate(90 748.5 585.5)\" width=\"10\" x=\"743.5\" xlink:href=\"#PortSymbol\" y=\"580.5\" /></g><g class=\"Box FIP\"><use class=\"FIP\" height=\"10\" transform=\"rotate(90 623.5 585.5)\" width=\"10\" x=\"618.5\" xlink:href=\"#PortSymbol\" y=\"580.5\" /></g><g class=\"Box LogicalFunction\" id=\"_IrIUIMEDEeqW8_YksX3uDg\"><rect class=\"LogicalFunction\" height=\"50\" width=\"100\" x=\"850.5\" y=\"559.5\" /><text class=\"LogicalFunction\" dominant-baseline=\"middle\" text-anchor=\"middle\" x=\"850\" y=\"559\"><tspan x=\"900.0\" xml:space=\"preserve\" y=\"576.1428571428571\">Protect</tspan><tspan x=\"900.0\" xml:space=\"preserve\" y=\"589.0\">Knowledge</tspan></text><use height=\"20\" width=\"20\" x=\"850.0\" xlink:href=\"#LogicalFunctionSymbol\" y=\"574.0\" /></g><g class=\"Box FIP\"><use class=\"FIP\" height=\"10\" transform=\"rotate(90 853.5 585.5)\" width=\"10\" x=\"848.5\" xlink:href=\"#PortSymbol\" y=\"580.5\" /></g><g class=\"Box LogicalComponent\" id=\"_8EyHIMZyEeqlbN5fRfdrWQ\"><rect class=\"LogicalComponent\" height=\"421\" width=\"231\" x=\"675.5\" y=\"104.5\" /><text class=\"LogicalComponent\" dominant-baseline=\"middle\" text-anchor=\"start\" x=\"675\" y=\"104\"><tspan x=\"778.3571428571429\" xml:space=\"preserve\" y=\"115.42857142857143\">Campus</tspan></text><use height=\"20\" width=\"20\" x=\"756.3571428571429\" xlink:href=\"#LogicalComponentSymbol\" y=\"105.42857142857143\" /></g><g class=\"Box LogicalComponent\" id=\"_parwwLB_EeqLtsTDMgEHBw\"><rect class=\"LogicalComponent\" height=\"94\" width=\"191\" x=\"690.5\" y=\"125.5\" /><text class=\"LogicalComponent\" dominant-baseline=\"middle\" text-anchor=\"start\" x=\"690\" y=\"125\"><tspan x=\"777.6428571428571\" xml:space=\"preserve\" y=\"135.0\">School</tspan></text><use height=\"20\" width=\"20\" x=\"755.6428571428571\" xlink:href=\"#LogicalComponentSymbol\" y=\"125.0\" /></g><g class=\"Box LogicalFunction\" id=\"_ilRGMLCBEeqLtsTDMgEHBw\"><rect class=\"LogicalFunction\" height=\"41\" width=\"141\" x=\"720.5\" y=\"157.5\" /><text class=\"LogicalFunction\" dominant-baseline=\"middle\" text-anchor=\"middle\" x=\"720\" y=\"157\"><tspan x=\"790.5\" xml:space=\"preserve\" y=\"177.5\">Educate Wizzards</tspan></text><use height=\"20\" width=\"20\" x=\"724.0714285714286\" xlink:href=\"#LogicalFunctionSymbol\" y=\"167.5\" /></g><g class=\"Box FIP\"><use class=\"FIP\" height=\"10\" transform=\"rotate(90 723.5 183.5)\" width=\"10\" x=\"718.5\" xlink:href=\"#PortSymbol\" y=\"178.5\" /></g><g class=\"Box FOP\"><use class=\"FOP\" height=\"10\" transform=\"rotate(90 858.5 186.5)\" width=\"10\" x=\"853.5\" xlink:href=\"#PortSymbol\" y=\"181.5\" /></g><g class=\"Box CP_UNSET\"><rect class=\"CP_UNSET\" height=\"10\" transform=\"rotate(-90 878.5 154.5)\" width=\"10\" x=\"873.5\" y=\"149.5\" /></g><g class=\"Box CP_OUT\"><use class=\"CP_OUT\" height=\"10\" transform=\"rotate(0 796.5 216.5)\" width=\"10\" x=\"791.5\" xlink:href=\"#ComponentPortSymbol\" y=\"211.5\" /></g><g class=\"Box LogicalHumanComponent\" id=\"_BkQ1ULB_EeqLtsTDMgEHBw\"><rect class=\"LogicalHumanComponent\" height=\"104\" width=\"191\" x=\"690.5\" y=\"395.5\" /><text class=\"LogicalHumanComponent\" dominant-baseline=\"middle\" text-anchor=\"start\" x=\"690\" y=\"395\"><tspan x=\"746.9285714285714\" xml:space=\"preserve\" y=\"406.42857142857144\">Whomping Willow</tspan></text><use height=\"20\" width=\"20\" x=\"724.9285714285714\" xlink:href=\"#LogicalHumanComponentSymbol\" y=\"396.42857142857144\" /></g><g class=\"Box LogicalFunction\" id=\"_otKRgLCBEeqLtsTDMgEHBw\"><rect class=\"LogicalFunction\" height=\"51\" width=\"141\" x=\"710.5\" y=\"427.5\" /><text class=\"LogicalFunction\" dominant-baseline=\"middle\" text-anchor=\"middle\" x=\"710\" y=\"427\"><tspan x=\"780.5\" xml:space=\"preserve\" y=\"452.5\">Punish Intruders</tspan></text><use height=\"20\" width=\"20\" x=\"716.2142857142857\" xlink:href=\"#LogicalFunctionSymbol\" y=\"442.5\" /></g><g class=\"Box FOP\"><use class=\"FOP\" height=\"10\" transform=\"rotate(90 848.5 453.5)\" width=\"10\" x=\"843.5\" xlink:href=\"#PortSymbol\" y=\"448.5\" /></g><g class=\"Box CP_OUT\"><use class=\"CP_OUT\" height=\"10\" transform=\"rotate(-90 878.5 434.5)\" width=\"10\" x=\"873.5\" xlink:href=\"#ComponentPortSymbol\" y=\"429.5\" /></g><g class=\"Box CP_OUT\"><use class=\"CP_OUT\" height=\"10\" transform=\"rotate(-90 878.5 475.5)\" width=\"10\" x=\"873.5\" xlink:href=\"#ComponentPortSymbol\" y=\"470.5\" /></g><g class=\"Box CP_IN\"><use class=\"CP_IN\" height=\"10\" transform=\"rotate(0 796.5 398.5)\" width=\"10\" x=\"791.5\" xlink:href=\"#ComponentPortSymbol\" y=\"393.5\" /></g><g class=\"Box CP_IN\"><use class=\"CP_IN\" height=\"10\" transform=\"rotate(270 593.5 186.5)\" width=\"10\" x=\"588.5\" xlink:href=\"#ComponentPortSymbol\" y=\"181.5\" /></g><g class=\"Box CP_IN\"><use class=\"CP_IN\" height=\"10\" transform=\"rotate(270 593.5 476.5)\" width=\"10\" x=\"588.5\" xlink:href=\"#ComponentPortSymbol\" y=\"471.5\" /></g><g class=\"Box LogicalHumanActor\" id=\"_WUfYcLB-EeqLtsTDMgEHBw\"><rect class=\"LogicalHumanActor\" height=\"171\" style=\"fill: url(&quot;#CustomGradient_DAFDFF_C6E6FF&quot;)\" width=\"158\" x=\"260.5\" y=\"80.5\" /><text class=\"LogicalHumanActor\" dominant-baseline=\"middle\" text-anchor=\"start\" x=\"260\" y=\"80\"><tspan x=\"308.2857142857143\" xml:space=\"preserve\" y=\"90.0\">Prof. A. P. W. B.</tspan><tspan x=\"308.2857142857143\" xml:space=\"preserve\" y=\"100.0\">Dumbledore</tspan></text><use height=\"20\" width=\"20\" x=\"286.2857142857143\" xlink:href=\"#LogicalHumanActorSymbol\" y=\"85.0\" /></g><g class=\"Box LogicalFunction\" id=\"_HyCUQLCBEeqLtsTDMgEHBw\"><rect class=\"LogicalFunction\" height=\"50\" width=\"91\" x=\"280.5\" y=\"129.5\" /><text class=\"LogicalFunction\" dominant-baseline=\"middle\" text-anchor=\"middle\" x=\"280\" y=\"129\"><tspan x=\"325.5\" xml:space=\"preserve\" y=\"153.99999999999997\">Teaching</tspan></text><use height=\"20\" width=\"20\" x=\"281.2142857142857\" xlink:href=\"#LogicalFunctionSymbol\" y=\"143.99999999999997\" /></g><g class=\"Box FOP\"><use class=\"FOP\" height=\"10\" transform=\"rotate(90 368.5 155.5)\" width=\"10\" x=\"363.5\" xlink:href=\"#PortSymbol\" y=\"150.5\" /></g><g class=\"Box LogicalFunction\" id=\"_RCi2ULCBEeqLtsTDMgEHBw\"><rect class=\"LogicalFunction\" height=\"50\" width=\"91\" x=\"280.5\" y=\"189.5\" /><text class=\"LogicalFunction\" dominant-baseline=\"middle\" text-anchor=\"middle\" x=\"280\" y=\"189\"><tspan x=\"325.5\" xml:space=\"preserve\" y=\"207.57142857142856\">Advising</tspan><tspan x=\"325.5\" xml:space=\"preserve\" y=\"220.42857142857142\">Harry</tspan></text><use height=\"20\" width=\"20\" x=\"282.64285714285717\" xlink:href=\"#LogicalFunctionSymbol\" y=\"204.0\" /></g><g class=\"Box FOP\"><use class=\"FOP\" height=\"10\" transform=\"rotate(90 368.5 215.5)\" width=\"10\" x=\"363.5\" xlink:href=\"#PortSymbol\" y=\"210.5\" /></g><g class=\"Box CP_OUT\"><use class=\"CP_OUT\" height=\"10\" transform=\"rotate(-90 415.5 186.5)\" width=\"10\" x=\"410.5\" xlink:href=\"#ComponentPortSymbol\" y=\"181.5\" /></g><g class=\"Box LogicalHumanActor\" id=\"_4CrKULB-EeqLtsTDMgEHBw\"><rect class=\"LogicalHumanActor\" height=\"221\" style=\"fill: url(&quot;#CustomGradient_DAFDFF_C6E6FF&quot;)\" width=\"158\" x=\"260.5\" y=\"360.5\" /><text class=\"LogicalHumanActor\" dominant-baseline=\"middle\" text-anchor=\"start\" x=\"260\" y=\"360\"><tspan x=\"311.85714285714283\" xml:space=\"preserve\" y=\"371.42857142857144\">Prof. S. Snape</tspan></text><use height=\"20\" width=\"20\" x=\"289.85714285714283\" xlink:href=\"#LogicalHumanActorSymbol\" y=\"361.42857142857144\" /></g><g class=\"Box LogicalFunction\" id=\"_aDTsMrCBEeqLtsTDMgEHBw\"><rect class=\"LogicalFunction\" height=\"54\" width=\"91\" x=\"280.5\" y=\"399.5\" /><text class=\"LogicalFunction\" dominant-baseline=\"middle\" text-anchor=\"middle\" x=\"280\" y=\"399\"><tspan x=\"325.5\" xml:space=\"preserve\" y=\"426.0\">Teaching</tspan></text><use height=\"20\" width=\"20\" x=\"281.2142857142857\" xlink:href=\"#LogicalFunctionSymbol\" y=\"416.0\" /></g><g class=\"Box FOP\"><use class=\"FOP\" height=\"10\" transform=\"rotate(90 368.5 415.5)\" width=\"10\" x=\"363.5\" xlink:href=\"#PortSymbol\" y=\"410.5\" /></g><g class=\"Box LogicalFunction\" id=\"_fUFCQLCBEeqLtsTDMgEHBw\"><rect class=\"LogicalFunction\" height=\"81\" width=\"91\" x=\"280.5\" y=\"469.5\" /><text class=\"LogicalFunction\" dominant-baseline=\"middle\" text-anchor=\"middle\" x=\"280\" y=\"469\"><tspan x=\"325.5\" xml:space=\"preserve\" y=\"509.5\">Bully Harry</tspan></text><use height=\"20\" width=\"20\" x=\"278\" xlink:href=\"#LogicalFunctionSymbol\" y=\"499.5\" /></g><g class=\"Box FOP\"><use class=\"FOP\" height=\"10\" transform=\"rotate(90 368.5 485.5)\" width=\"10\" x=\"363.5\" xlink:href=\"#PortSymbol\" y=\"480.5\" /></g><g class=\"Box CP_OUT\"><use class=\"CP_OUT\" height=\"10\" transform=\"rotate(-90 415.5 476.5)\" width=\"10\" x=\"410.5\" xlink:href=\"#ComponentPortSymbol\" y=\"471.5\" /></g><g class=\"Box LogicalActor\" id=\"_yCkzoLB_EeqLtsTDMgEHBw\"><rect class=\"LogicalActor\" height=\"131\" width=\"200\" x=\"1202.5\" y=\"70.5\" /><text class=\"LogicalActor\" dominant-baseline=\"middle\" text-anchor=\"start\" x=\"1202\" y=\"70\"><tspan x=\"1274.142857142857\" xml:space=\"preserve\" y=\"81.42857142857143\">Harry J. Potter</tspan></text><use height=\"20\" width=\"20\" x=\"1252.142857142857\" xlink:href=\"#LogicalActorSymbol\" y=\"71.42857142857143\" /></g><g class=\"Box LogicalFunction\" id=\"_nccmwMTpEeqlbN5fRfdrWQ\"><rect class=\"LogicalFunction\" height=\"61\" width=\"110\" x=\"1242.5\" y=\"99.5\" /><text class=\"LogicalFunction\" dominant-baseline=\"middle\" text-anchor=\"middle\" x=\"1242\" y=\"99\"><tspan x=\"1297.0\" xml:space=\"preserve\" y=\"123.07142857142857\">Being the</tspan><tspan x=\"1297.0\" xml:space=\"preserve\" y=\"135.92857142857142\">chosen one</tspan></text><use height=\"20\" width=\"20\" x=\"1245.5714285714287\" xlink:href=\"#LogicalFunctionSymbol\" y=\"119.5\" /></g><g class=\"Box FIP\"><use class=\"FIP\" height=\"10\" transform=\"rotate(90 1245.5 125.5)\" width=\"10\" x=\"1240.5\" xlink:href=\"#PortSymbol\" y=\"120.5\" /></g><g class=\"Box FIP\"><use class=\"FIP\" height=\"10\" transform=\"rotate(0 1258.5 157.5)\" width=\"10\" x=\"1253.5\" xlink:href=\"#PortSymbol\" y=\"152.5\" /></g><g class=\"Box CP_IN\"><use class=\"CP_IN\" height=\"10\" transform=\"rotate(270 1205.5 157.5)\" width=\"10\" x=\"1200.5\" xlink:href=\"#ComponentPortSymbol\" y=\"152.5\" /></g><g class=\"Box CP_INOUT\"><rect class=\"CP_INOUT\" height=\"10\" transform=\"rotate(90 1205.5 86.5)\" width=\"10\" x=\"1200.5\" y=\"81.5\" /></g><g class=\"Box CP_IN\"><use class=\"CP_IN\" height=\"10\" transform=\"rotate(180 1388.5 198.5)\" width=\"10\" x=\"1383.5\" xlink:href=\"#ComponentPortSymbol\" y=\"193.5\" /></g><g class=\"Box LogicalHumanActor\" id=\"_zuBo0LB_EeqLtsTDMgEHBw\"><rect class=\"LogicalHumanActor\" height=\"171\" style=\"fill: url(&quot;#CustomGradient_DAFDFF_C6E6FF&quot;)\" width=\"200\" x=\"1202.5\" y=\"457.5\" /><text class=\"LogicalHumanActor\" dominant-baseline=\"middle\" text-anchor=\"start\" x=\"1202\" y=\"457\"><tspan x=\"1282.7142857142858\" xml:space=\"preserve\" y=\"468.42857142857144\">R. Weasley</tspan></text><use height=\"20\" width=\"20\" x=\"1260.7142857142858\" xlink:href=\"#LogicalHumanActorSymbol\" y=\"458.42857142857144\" /></g><g class=\"Box LogicalFunction\" id=\"_toddEMTpEeqlbN5fRfdrWQ\"><rect class=\"LogicalFunction\" height=\"50\" width=\"101\" x=\"1252.5\" y=\"496.5\" /><text class=\"LogicalFunction\" dominant-baseline=\"middle\" text-anchor=\"middle\" x=\"1252\" y=\"496\"><tspan x=\"1302.5\" xml:space=\"preserve\" y=\"521.0\">Assist Harry</tspan></text><use height=\"20\" width=\"20\" x=\"1250.357142857143\" xlink:href=\"#LogicalFunctionSymbol\" y=\"511.0\" /></g><g class=\"Box FOP\"><use class=\"FOP\" height=\"10\" transform=\"rotate(90 1350.5 516.5)\" width=\"10\" x=\"1345.5\" xlink:href=\"#PortSymbol\" y=\"511.5\" /></g><g class=\"Box FIP\"><use class=\"FIP\" height=\"10\" transform=\"rotate(90 1255.5 516.5)\" width=\"10\" x=\"1250.5\" xlink:href=\"#PortSymbol\" y=\"511.5\" /></g><g class=\"Box LogicalFunction\" id=\"_0dxIAMTpEeqlbN5fRfdrWQ\"><rect class=\"LogicalFunction\" height=\"50\" width=\"101\" x=\"1252.5\" y=\"556.5\" /><text class=\"LogicalFunction\" dominant-baseline=\"middle\" text-anchor=\"middle\" x=\"1252\" y=\"556\"><tspan x=\"1302.5\" xml:space=\"preserve\" y=\"573.1428571428571\">Befriend</tspan><tspan x=\"1302.5\" xml:space=\"preserve\" y=\"586.0\">Harry</tspan></text><use height=\"20\" width=\"20\" x=\"1259.642857142857\" xlink:href=\"#LogicalFunctionSymbol\" y=\"571.0\" /></g><g class=\"Box FOP\"><use class=\"FOP\" height=\"10\" transform=\"rotate(90 1349.5 559.5)\" width=\"10\" x=\"1344.5\" xlink:href=\"#PortSymbol\" y=\"554.5\" /></g><g class=\"Box CP_IN\"><use class=\"CP_IN\" height=\"10\" transform=\"rotate(270 1205.5 554.5)\" width=\"10\" x=\"1200.5\" xlink:href=\"#ComponentPortSymbol\" y=\"549.5\" /></g><g class=\"Box CP_OUT\"><use class=\"CP_OUT\" height=\"10\" transform=\"rotate(-180 1388.5 460.5)\" width=\"10\" x=\"1383.5\" xlink:href=\"#ComponentPortSymbol\" y=\"455.5\" /></g><g class=\"Box Constraint\" id=\"_IrpoABRGEeuzZKwspz8ZDA\"><rect class=\"Constraint\" height=\"50\" width=\"100\" x=\"1150.5\" y=\"645.5\" /><text class=\"Constraint\" dominant-baseline=\"middle\" text-anchor=\"middle\" x=\"1150\" y=\"645\"><tspan x=\"1200.0\" xml:space=\"preserve\" y=\"649.2857142857143\">Test constraint</tspan><tspan x=\"1200.0\" xml:space=\"preserve\" y=\"662.1428571428572\">where the text is</tspan><tspan x=\"1200.0\" xml:space=\"preserve\" y=\"675.0000000000001\">way too long to</tspan><tspan x=\"1200.0\" xml:space=\"preserve\" y=\"687.857142857143\">display this shit</tspan></text></g><g class=\"Edge FunctionalExchange\" id=\"_PEmXoMEDEeqW8_YksX3uDg\"><path class=\"Edge\" d=\"M 753.5 585.5 848.5 585.5\" /><rect class=\"AnnotationBB\" height=\"13\" width=\"48\" x=\"776\" y=\"569\" /><text class=\"Annotation\" dominant-baseline=\"middle\" text-anchor=\"middle\" x=\"764.0\" y=\"569\"><tspan x=\"801.0\" xml:space=\"preserve\" y=\"575.4285714285714\">wizardry</tspan></text><use height=\"20\" width=\"20\" x=\"757.4285714285714\" xlink:href=\"#FunctionalExchangeSymbol\" y=\"565.4285714285714\" /></g><g class=\"Edge FOPAllocation\" id=\"_iMzXkMEDEeqW8_YksX3uDg\"><path class=\"Edge\" d=\"M 410.5 476.5 390.5 476.5 390.5 415.5 373.5 415.5\" /></g><g class=\"Edge FOPAllocation\" id=\"_o4KcUMEDEeqW8_YksX3uDg\"><path class=\"Edge\" d=\"M 410.5 476.5 390.5 476.5 390.5 485.5 373.5 485.5\" /></g><g class=\"Edge FOPAllocation\" id=\"_syJloMEDEeqW8_YksX3uDg\"><path class=\"Edge\" d=\"M 410.5 186.5 390.5 186.5 390.5 155.5 373.5 155.5\" /></g><g class=\"Edge FOPAllocation\" id=\"_u8br4MEDEeqW8_YksX3uDg\"><path class=\"Edge\" d=\"M 410.5 186.5 390.5 186.5 390.5 215.5 373.5 215.5\" /></g><g class=\"Edge ComponentExchange\" id=\"_WbdGoLB_EeqLtsTDMgEHBw\"><path class=\"Edge\" d=\"M 588.5 186.5 420.5 186.5\" /><rect class=\"AnnotationBB\" height=\"27\" width=\"111\" x=\"450\" y=\"153\" /><text class=\"Annotation\" dominant-baseline=\"middle\" text-anchor=\"middle\" x=\"438.0\" y=\"153\"><tspan x=\"506.5\" xml:space=\"preserve\" y=\"158.0\">Headmaster</tspan><tspan x=\"506.5\" xml:space=\"preserve\" y=\"170.85714285714286\">Responsibilities</tspan></text><use height=\"20\" width=\"20\" x=\"445.07142857142856\" xlink:href=\"#ComponentExchangeSymbol\" y=\"155.85714285714286\" /></g><g class=\"Edge ComponentExchange\" id=\"_XNOh0LB_EeqLtsTDMgEHBw\"><path class=\"Edge\" d=\"M 420.5 476.5 588.5 476.5\" /><rect class=\"AnnotationBB\" height=\"27\" width=\"111\" x=\"440\" y=\"441\" /><text class=\"Annotation\" dominant-baseline=\"middle\" text-anchor=\"middle\" x=\"428.0\" y=\"441\"><tspan x=\"496.5\" xml:space=\"preserve\" y=\"446.0\">Teacher</tspan><tspan x=\"496.5\" xml:space=\"preserve\" y=\"458.85714285714283\">Responsibilities</tspan></text><use height=\"20\" width=\"20\" x=\"435.07142857142856\" xlink:href=\"#ComponentExchangeSymbol\" y=\"443.85714285714283\" /></g><g class=\"Edge FIPAllocation\" id=\"_rdyAIMTnEeqlbN5fRfdrWQ\"><path class=\"Edge\" d=\"M 598.5 476.5 610.5 476.5 610.5 585.5 618.5 585.5\" /></g><g class=\"Edge FIPAllocation\" id=\"_twPK8MTnEeqlbN5fRfdrWQ\"><path class=\"Edge\" d=\"M 598.5 186.5 610.5 186.5 610.5 585.5 618.5 585.5\" /></g><g class=\"Edge FIPAllocation\" id=\"_NVFm4MTqEeqlbN5fRfdrWQ\"><path class=\"Edge\" d=\"M 1210.5 157.5 1222.5 157.5 1222.5 125.5 1240.5 125.5\" /></g><g class=\"Edge FIPAllocation\" id=\"_VBCl8MTqEeqlbN5fRfdrWQ\"><path class=\"Edge\" d=\"M 1210.5 86.5 1222.5 86.5 1222.5 125.5 1240.5 125.5\" /></g><g class=\"Edge ComponentExchange\" id=\"_YwLxMMTqEeqlbN5fRfdrWQ\"><path class=\"Edge\" d=\"M 1388.5 455.5 1388.5 203.5\" /><rect class=\"AnnotationBB\" height=\"21\" width=\"102\" x=\"1283\" y=\"216\" /><text class=\"Annotation\" dominant-baseline=\"middle\" text-anchor=\"middle\" x=\"1271.0\" y=\"216\"><tspan x=\"1335.0\" xml:space=\"preserve\" y=\"222.42857142857142\">Help for Harry</tspan></text><use height=\"20\" width=\"20\" x=\"1276.4285714285713\" xlink:href=\"#ComponentExchangeSymbol\" y=\"212.42857142857142\" /></g><g class=\"Edge FunctionalExchange\" id=\"_RmRSwMTrEeqlbN5fRfdrWQ\"><path class=\"Edge\" d=\"M 373.5 415.5 609.5 415.5 609.5 585.5 618.5 585.5\" /><rect class=\"AnnotationBB\" height=\"10\" width=\"43\" x=\"629\" y=\"423\" /><text class=\"Annotation\" dominant-baseline=\"middle\" text-anchor=\"middle\" x=\"617.0\" y=\"423\"><tspan x=\"651.5\" xml:space=\"preserve\" y=\"428.0\">educate</tspan></text><use height=\"20\" width=\"20\" x=\"610.0714285714286\" xlink:href=\"#FunctionalExchangeSymbol\" y=\"418.0\" /></g><g class=\"Edge ComponentExchange\" id=\"_2ZGvALB_EeqLtsTDMgEHBw\"><path class=\"Edge\" d=\"M 883.5 434.5 1140.5 434.5 1140.5 157.5 1200.5 157.5\" /><rect class=\"AnnotationBB\" height=\"10\" width=\"75\" x=\"1018\" y=\"410\" /><text class=\"Annotation\" dominant-baseline=\"middle\" text-anchor=\"middle\" x=\"1006.0\" y=\"410\"><tspan x=\"1056.5\" xml:space=\"preserve\" y=\"415.0\">Miss Abrasion</tspan></text><use height=\"20\" width=\"20\" x=\"999.3571428571429\" xlink:href=\"#ComponentExchangeSymbol\" y=\"405.0\" /></g><g class=\"Edge ComponentExchange\" id=\"_3Ko5oLB_EeqLtsTDMgEHBw\"><path class=\"Edge\" d=\"M 883.5 475.5 1022.5 475.5 1022.5 535.5 1071.5 535.5 1071.5 505.5 1142.5 505.5 1142.5 585.5 1162.5 585.5 1162.5 554.5 1200.5 554.5\" /><rect class=\"AnnotationBB\" height=\"16\" width=\"80\" x=\"1032\" y=\"554\" /><text class=\"Annotation\" dominant-baseline=\"middle\" text-anchor=\"middle\" x=\"1020.0\" y=\"554\"><tspan x=\"1073.0\" xml:space=\"preserve\" y=\"559.0\">Punishment</tspan></text><use height=\"20\" width=\"20\" x=\"1020.8571428571429\" xlink:href=\"#ComponentExchangeSymbol\" y=\"549.0\" /></g><g class=\"Edge ComponentExchange\" id=\"_z-LwYMTmEeqlbN5fRfdrWQ\"><path class=\"Edge\" d=\"M 1200.5 86.5 1090.5 86.5 1090.5 154.5 883.5 154.5\" /><rect class=\"AnnotationBB\" height=\"13\" width=\"48\" x=\"1021\" y=\"143\" /><text class=\"Annotation\" dominant-baseline=\"middle\" text-anchor=\"middle\" x=\"1009.0\" y=\"143\"><tspan x=\"1046.0\" xml:space=\"preserve\" y=\"149.42857142857142\">Learning</tspan></text><use height=\"20\" width=\"20\" x=\"1002.4285714285714\" xlink:href=\"#ComponentExchangeSymbol\" y=\"139.42857142857142\" /></g><g class=\"Edge FOPAllocation\" id=\"_HDIA8MTnEeqlbN5fRfdrWQ\"><path class=\"Edge\" d=\"M 878.5 159.5 858.5 181.5\" /></g><g class=\"Edge FOPAllocation\" id=\"_U7PAQMTnEeqlbN5fRfdrWQ\"><path class=\"Edge\" d=\"M 873.5 434.5 853.5 453.5\" /></g><g class=\"Edge FunctionalExchange\" id=\"_gkZJ0cTpEeqlbN5fRfdrWQ\"><path class=\"Edge\" d=\"M 373.5 415.5 610.5 415.5 610.5 183.5 718.5 183.5\" /><rect class=\"AnnotationBB\" height=\"16\" width=\"66\" x=\"617\" y=\"241\" /><text class=\"Annotation\" dominant-baseline=\"middle\" text-anchor=\"middle\" x=\"605.0\" y=\"241\"><tspan x=\"651.0\" xml:space=\"preserve\" y=\"246.0\">educate</tspan></text><use height=\"20\" width=\"20\" x=\"609.5714285714286\" xlink:href=\"#FunctionalExchangeSymbol\" y=\"236.0\" /></g><g class=\"Edge FunctionalExchange\" id=\"_JW0agMTqEeqlbN5fRfdrWQ\"><path class=\"Edge\" d=\"M 853.5 453.5 1170.5 453.5 1170.5 125.5 1240.5 125.5\" /><rect class=\"AnnotationBB\" height=\"13\" width=\"38\" x=\"1188\" y=\"230\" /><text class=\"Annotation\" dominant-baseline=\"middle\" text-anchor=\"middle\" x=\"1176.0\" y=\"230\"><tspan x=\"1208.0\" xml:space=\"preserve\" y=\"236.42857142857142\">punish</tspan></text><use height=\"20\" width=\"20\" x=\"1169.4285714285713\" xlink:href=\"#FunctionalExchangeSymbol\" y=\"226.42857142857142\" /></g><g class=\"Edge FunctionalExchange\" id=\"_phyGIMTqEeqlbN5fRfdrWQ\"><path class=\"Edge\" d=\"M 853.5 453.5 1170.5 453.5 1170.5 516.5 1250.5 516.5\" /><rect class=\"AnnotationBB\" height=\"13\" width=\"38\" x=\"1188\" y=\"484\" /><text class=\"Annotation\" dominant-baseline=\"middle\" text-anchor=\"middle\" x=\"1176.0\" y=\"484\"><tspan x=\"1208.0\" xml:space=\"preserve\" y=\"490.42857142857144\">punish</tspan></text><use height=\"20\" width=\"20\" x=\"1169.4285714285713\" xlink:href=\"#FunctionalExchangeSymbol\" y=\"480.42857142857144\" /></g><g class=\"Edge FunctionalExchange\" id=\"_0nQlwMTqEeqlbN5fRfdrWQ\"><path class=\"Edge\" d=\"M 863.5 186.5 1110.5 186.5 1110.5 125.5 1240.5 125.5\" /><rect class=\"AnnotationBB\" height=\"10\" width=\"98\" x=\"1002\" y=\"171\" /><text class=\"Annotation\" dominant-baseline=\"middle\" text-anchor=\"middle\" x=\"990.0\" y=\"171\"><tspan x=\"1052.0\" xml:space=\"preserve\" y=\"176.0\">educate &amp; mature</tspan></text><use height=\"20\" width=\"20\" x=\"983.4285714285714\" xlink:href=\"#FunctionalExchangeSymbol\" y=\"166.0\" /></g><g class=\"Edge FIPAllocation\" id=\"_9_Nz5MTqEeqlbN5fRfdrWQ\"><path class=\"Edge\" d=\"M 598.5 186.5 610.5 186.5 610.5 183.5 718.5 183.5\" /></g><g class=\"Edge FIPAllocation\" id=\"_Z-HHfMTrEeqlbN5fRfdrWQ\"><path class=\"Edge\" d=\"M 598.5 476.5 610.5 476.5 610.5 183.5 718.5 183.5\" /></g><g class=\"Edge FIPAllocation\" id=\"_osc7wtY4EeqiU8uzTY0Puw\"><path class=\"Edge\" d=\"M 1210.5 554.5 1250.5 516.5\" /></g><g class=\"Edge FOPAllocation\" id=\"_osditNY4EeqiU8uzTY0Puw\"><path class=\"Edge\" d=\"M 878.5 470.5 853.5 453.5\" /></g><g class=\"Edge FunctionalExchange\" id=\"_B7YjssTqEeqlbN5fRfdrWQ\"><path class=\"Edge\" d=\"M 1354.5 559.5 1379.5 559.5 1379.5 262.5 1258.5 262.5 1258.5 162.5\" /><rect class=\"AnnotationBB\" height=\"13\" width=\"55\" x=\"1282\" y=\"243\" /><text class=\"Annotation\" dominant-baseline=\"middle\" text-anchor=\"middle\" x=\"1270.0\" y=\"243\"><tspan x=\"1310.5\" xml:space=\"preserve\" y=\"249.42857142857142\">friendship</tspan></text><use height=\"20\" width=\"20\" x=\"1263.357142857143\" xlink:href=\"#FunctionalExchangeSymbol\" y=\"239.42857142857142\" /></g><g class=\"Edge FunctionalExchange\" id=\"_8FlN8cTpEeqlbN5fRfdrWQ\"><path class=\"Edge\" d=\"M 1355.5 516.5 1370.5 516.5 1370.5 320.5 1258.5 320.5 1258.5 162.5\" /><rect class=\"AnnotationBB\" height=\"10\" width=\"56\" x=\"1281\" y=\"303\" /><text class=\"Annotation\" dominant-baseline=\"middle\" text-anchor=\"middle\" x=\"1269.0\" y=\"303\"><tspan x=\"1310.0\" xml:space=\"preserve\" y=\"308.0\">assistance</tspan></text><use height=\"20\" width=\"20\" x=\"1262.142857142857\" xlink:href=\"#FunctionalExchangeSymbol\" y=\"298.0\" /></g><g class=\"Edge FIPAllocation\" id=\"_RP7wgtZEEeqiU8uzTY0Puw\"><path class=\"Edge\" d=\"M 1388.5 193.5 1388.5 180.5 1258.5 180.5 1258.5 162.5\" /></g><g class=\"Edge FOPAllocation\" id=\"_RP8XdNZEEeqiU8uzTY0Puw\"><path class=\"Edge\" d=\"M 1388.5 465.5 1388.5 516.5 1355.5 516.5\" /></g><g class=\"Edge FOPAllocation\" id=\"_RP8-gtZEEeqiU8uzTY0Puw\"><path class=\"Edge\" d=\"M 1388.5 465.5 1388.5 559.5 1354.5 559.5\" /></g><g class=\"Edge Constraint\" id=\"_VUcUgBRGEeuzZKwspz8ZDA\"><path class=\"Edge\" d=\"M 1150.5 665.5 1001.5 561.5\" style=\"marker-end: url(&quot;#FineArrowMark_000000&quot;)\" /></g><g class=\"Edge ComponentExchange\" id=\"_e8OmYKjsEeu7PunlgwoBGA\"><path class=\"Edge\" d=\"M 796.5 221.5 796.5 393.5\" /><rect class=\"AnnotationBB\" height=\"10\" width=\"26\" x=\"820\" y=\"303\" /><text class=\"Annotation\" dominant-baseline=\"middle\" text-anchor=\"middle\" x=\"808.0\" y=\"303\"><tspan x=\"834.0\" xml:space=\"preserve\" y=\"308.0\">Care</tspan></text><use height=\"20\" width=\"20\" x=\"801.1428571428571\" xlink:href=\"#ComponentExchangeSymbol\" y=\"298.0\" /></g></svg>"
      ],
      "text/plain": [
       "<Diagram '[LAB] Wizzard Education'>"
      ]
     },
     "execution_count": 9,
     "metadata": {},
     "output_type": "execute_result"
    }
   ],
   "source": [
    "diagram"
   ]
  },
  {
   "cell_type": "markdown",
   "id": "f678a3ee-ac7e-4ce4-a8e2-0d41c612800e",
   "metadata": {},
   "source": [
    "We use SVG diagrams a lot since they look great in documentation, are zoomable, even interactive sometimes and really light-weight. To make integrating them into a pipeline easier, we also support some derived formats, which you can access using `.as_<format>` style attributes, see below for a handful of useful examples.\n",
    "\n",
    "If you need an entirely different format from SVG, such as PNG or JPEG, there are quite a few examples of how to get there on stackoverflow (like [Convert SVG to PNG in Python](https://stackoverflow.com/questions/6589358/convert-svg-to-png-in-python))."
   ]
  },
  {
   "cell_type": "code",
   "execution_count": 10,
   "id": "b5699e75-2e4c-4b8e-81af-51be00ff6dc3",
   "metadata": {},
   "outputs": [
    {
     "name": "stdout",
     "output_type": "stream",
     "text": [
      "<svg baseProfile=\"full\" class=\"LogicalArchitectureBlank\" height=\"645\" version=\"1.1\" viewBox=\"250 60 1162 645\" ...\n",
      "data:image/svg+xml;base64,PHN2ZyBiYXNlUHJvZmlsZT0iZnVsbCIgY2xhc3M9IkxvZ2ljYWxBcmNoaXRlY3R1cmVCbGFuayIgaGVpZ2h0...\n",
      "<img src=\"data:image/svg+xml;base64,PHN2ZyBiYXNlUHJvZmlsZT0iZnVsbCIgY2xhc3M9IkxvZ2ljYWxBcmNoaXRlY3R1cmVCbGFuay...\n"
     ]
    }
   ],
   "source": [
    "print(diagram.as_svg[:110] + \"...\")  # The raw SVG format as simple python `str`\n",
    "print(diagram.as_datauri_svg[:110] + \"...\")  # An SVG, base64-encoded as `data:` URI\n",
    "print(diagram.as_html_img[:110] + \"...\")  # An HTML `<img>` tag, using the above `data:` URI as `src`"
   ]
  },
  {
   "cell_type": "markdown",
   "id": "86e23011",
   "metadata": {},
   "source": [
    "This concludes our introduction. There is a lot more you can do with the library - feel free to explore the examples collection or create an issue to ask for a specific use-case example and you may see it around pretty soon."
   ]
  }
 ],
 "metadata": {
  "kernelspec": {
   "display_name": "Python 3 (ipykernel)",
   "language": "python",
   "name": "python3"
  },
  "language_info": {
   "codemirror_mode": {
    "name": "ipython",
    "version": 3
   },
   "file_extension": ".py",
   "mimetype": "text/x-python",
   "name": "python",
   "nbconvert_exporter": "python",
   "pygments_lexer": "ipython3",
   "version": "3.9.7"
  }
 },
 "nbformat": 4,
 "nbformat_minor": 5
}
