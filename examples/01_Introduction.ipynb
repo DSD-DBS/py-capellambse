{
 "cells": [
  {
   "cell_type": "markdown",
   "id": "1a1fe414",
   "metadata": {},
   "source": [
    "# Introduction\n",
    "\n",
    "Welcome to the py-capella-mbse Showcase notebook. This notebook will show you some basic (and not so basic) things that you can get done using this library. For more advanced features have a look around the nearby notebooks.\n",
    "\n",
    "The below code loads the library and one of the test models:"
   ]
  },
  {
   "cell_type": "code",
   "execution_count": 2,
   "id": "3e28d1c9",
   "metadata": {},
   "outputs": [
    {
     "name": "stderr",
     "output_type": "stream",
     "text": [
      "Cannot load PVMT extension: ValueError: Provided model does not have a PropertyValuePkg\n",
      "Property values are not available in this model\n"
     ]
    },
    {
     "data": {
      "text/plain": [
       "<capellambse.model.MelodyModel at 0x7ffa606800a0>"
      ]
     },
     "execution_count": 2,
     "metadata": {},
     "output_type": "execute_result"
    }
   ],
   "source": [
    "import capellambse\n",
    "path_to_model = \"../tests/data/melodymodel/5_0/Melody Model Test.aird\"\n",
    "model = capellambse.MelodyModel(path_to_model)\n",
    "model"
   ]
  },
  {
   "cell_type": "markdown",
   "id": "48ce0c1e",
   "metadata": {},
   "source": [
    "Please ignore the warning above - it indicates that we probed the model for the PVMT extension and it wasn't there, so PVMT-related features will not be available. In some not so distant future this may disapear as we'll be able to inject PVMT into models, but for now, if you want to use PVMT-related features you need to enable PVMT for that model in Capella.\n",
    "\n",
    "Having said that, lets go to the first practical example of working with the library!"
   ]
  },
  {
   "cell_type": "markdown",
   "id": "7e68b88c-b4bc-4c20-a39f-48094c0eabdd",
   "metadata": {
    "tags": []
   },
   "source": [
    "## Example 1: Actor functions\n",
    "\n",
    "The below code will print every Actor available in the Logical Architecture layer"
   ]
  },
  {
   "cell_type": "code",
   "execution_count": 3,
   "id": "abcd8693",
   "metadata": {},
   "outputs": [
    {
     "name": "stdout",
     "output_type": "stream",
     "text": [
      "Prof. A. P. W. B. Dumbledore\n",
      "Prof. S. Snape\n",
      "Harry J. Potter\n",
      "R. Weasley\n",
      "LogicalActor 5\n"
     ]
    }
   ],
   "source": [
    "for actor in model.la.all_actors:\n",
    "    print(actor.name)"
   ]
  },
  {
   "cell_type": "markdown",
   "id": "4ddbf9be",
   "metadata": {},
   "source": [
    "but we could also \"zoom-in\" to an actor of interest:"
   ]
  },
  {
   "cell_type": "code",
   "execution_count": 4,
   "id": "56bb4b44",
   "metadata": {
    "scrolled": true
   },
   "outputs": [
    {
     "data": {
      "text/html": [
       "<h1>LogicalComponent <span style=\"font-size: 70%;\">(org.polarsys.capella.core.data.la:LogicalComponent)</span></h1><table><tr><th style=\"text-align: right;\">components</th><td style=\"text-align: left;\"><p><em>(Empty list)</em></p></td></tr><tr><th style=\"text-align: right;\">constraints</th><td style=\"text-align: left;\"><p><em>(Empty list)</em></p></td></tr><tr><th style=\"text-align: right;\">description</th><td style=\"text-align: left;\"><p>Good guy and teacher of brewing arts.</p>\n",
       "</td></tr><tr><th style=\"text-align: right;\">diagrams</th><td style=\"text-align: left;\"><p><em>(Empty list)</em></p></td></tr><tr><th style=\"text-align: right;\">functions</th><td style=\"text-align: left;\"><ol start=\"0\" style=\"text-align: left;\"><li><strong>LogicalFunction</strong> &quot;teach  Potions&quot; (a7acb298-d14b-4707-a419-fea272434541)</li><li><strong>LogicalFunction</strong> &quot;maintain a layer of defense for the Sorcerer&#39;s Stone&quot; (4a2a7f3c-d223-4d44-94a7-50dd2906a70c)</li></ol></td></tr><tr><th style=\"text-align: right;\">is_abstract</th><td style=\"text-align: left;\"><em>False</em></td></tr><tr><th style=\"text-align: right;\">is_actor</th><td style=\"text-align: left;\"><em>True</em></td></tr><tr><th style=\"text-align: right;\">is_human</th><td style=\"text-align: left;\"><em>True</em></td></tr><tr><th style=\"text-align: right;\">name</th><td style=\"text-align: left;\">Prof. S. Snape</td></tr><tr><th style=\"text-align: right;\">owner</th><td style=\"text-align: left;\"><strong>LogicalComponentPkg</strong> &quot;Structure&quot; (84c0978d-9a32-4f5b-8013-5b0b6adbfd73)</td></tr><tr><th style=\"text-align: right;\">parts</th><td style=\"text-align: left;\"><ol start=\"0\" style=\"text-align: left;\"><li><strong>Part</strong> &quot;Prof. S. Snape&quot; (ccbad61a-39dc-4af8-8199-3fee30de2f1d)</li></ol></td></tr><tr><th style=\"text-align: right;\">ports</th><td style=\"text-align: left;\"><ol start=\"0\" style=\"text-align: left;\"><li><strong>ComponentPort</strong> &quot;CP 1&quot; (b4e39757-b0fd-41ff-a7b8-c9fc36de2ca9)</li></ol></td></tr><tr><th style=\"text-align: right;\">progress_status</th><td style=\"text-align: left;\">NOT_SET</td></tr><tr><th style=\"text-align: right;\">realized_components</th><td style=\"text-align: left;\"><p><em>(Empty list)</em></p></td></tr><tr><th style=\"text-align: right;\">realizing_physical_components</th><td style=\"text-align: left;\"><p><em>(Empty list)</em></p></td></tr><tr><th style=\"text-align: right;\">requirements</th><td style=\"text-align: left;\"><p><em>(Empty list)</em></p></td></tr><tr><th style=\"text-align: right;\">state_machines</th><td style=\"text-align: left;\"><p><em>(Empty list)</em></p></td></tr><tr><th style=\"text-align: right;\">summary</th><td style=\"text-align: left;\"><em>None</em></td></tr><tr><th style=\"text-align: right;\">uuid</th><td style=\"text-align: left;\">6f463eed-c77b-4568-8078-beec0536f243</td></tr><tr><th style=\"text-align: right;\">xtype</th><td style=\"text-align: left;\">org.polarsys.capella.core.data.la:LogicalComponent</td></tr></table>"
      ],
      "text/plain": [
       "<LogicalComponent 'Prof. S. Snape' (6f463eed-c77b-4568-8078-beec0536f243)>"
      ]
     },
     "execution_count": 4,
     "metadata": {},
     "output_type": "execute_result"
    }
   ],
   "source": [
    "model.la.all_actors.by_name(\"Prof. S. Snape\")"
   ]
  },
  {
   "cell_type": "markdown",
   "id": "30e17ac3",
   "metadata": {},
   "source": [
    "We can also turn the above data into a table, for example \"actor function allocation\", using `pandas`.\n",
    "\n",
    "For this, we first make sure pandas itself is installed, as well as an extension we'll use later."
   ]
  },
  {
   "cell_type": "code",
   "execution_count": 5,
   "id": "400e483d-eca7-4fdd-a9e0-71467e1af8d8",
   "metadata": {},
   "outputs": [],
   "source": [
    "!pip install -q pandas openpyxl"
   ]
  },
  {
   "cell_type": "markdown",
   "id": "acbe1247-e1a1-4da8-a95a-7b41f4836937",
   "metadata": {},
   "source": [
    "Now we can use it together with `capellambse`:"
   ]
  },
  {
   "cell_type": "code",
   "execution_count": 6,
   "id": "833220d0",
   "metadata": {},
   "outputs": [
    {
     "data": {
      "text/html": [
       "<div>\n",
       "<style scoped>\n",
       "    .dataframe tbody tr th:only-of-type {\n",
       "        vertical-align: middle;\n",
       "    }\n",
       "\n",
       "    .dataframe tbody tr th {\n",
       "        vertical-align: top;\n",
       "    }\n",
       "\n",
       "    .dataframe thead th {\n",
       "        text-align: right;\n",
       "    }\n",
       "</style>\n",
       "<table border=\"1\" class=\"dataframe\">\n",
       "  <thead>\n",
       "    <tr style=\"text-align: right;\">\n",
       "      <th></th>\n",
       "      <th>actor</th>\n",
       "      <th>functions</th>\n",
       "    </tr>\n",
       "  </thead>\n",
       "  <tbody>\n",
       "    <tr>\n",
       "      <th>0</th>\n",
       "      <td>Prof. A. P. W. B. Dumbledore</td>\n",
       "      <td>manage the school; advise Harry</td>\n",
       "    </tr>\n",
       "    <tr>\n",
       "      <th>1</th>\n",
       "      <td>Prof. S. Snape</td>\n",
       "      <td>teach  Potions; maintain a layer of defense fo...</td>\n",
       "    </tr>\n",
       "    <tr>\n",
       "      <th>2</th>\n",
       "      <td>Harry J. Potter</td>\n",
       "      <td>kill He Who Must Not Be Named</td>\n",
       "    </tr>\n",
       "    <tr>\n",
       "      <th>3</th>\n",
       "      <td>R. Weasley</td>\n",
       "      <td>assist Harry; break school rules</td>\n",
       "    </tr>\n",
       "    <tr>\n",
       "      <th>4</th>\n",
       "      <td>LogicalActor 5</td>\n",
       "      <td>no functions assigned</td>\n",
       "    </tr>\n",
       "  </tbody>\n",
       "</table>\n",
       "</div>"
      ],
      "text/plain": [
       "                          actor  \\\n",
       "0  Prof. A. P. W. B. Dumbledore   \n",
       "1                Prof. S. Snape   \n",
       "2               Harry J. Potter   \n",
       "3                    R. Weasley   \n",
       "4                LogicalActor 5   \n",
       "\n",
       "                                           functions  \n",
       "0                    manage the school; advise Harry  \n",
       "1  teach  Potions; maintain a layer of defense fo...  \n",
       "2                      kill He Who Must Not Be Named  \n",
       "3                   assist Harry; break school rules  \n",
       "4                              no functions assigned  "
      ]
     },
     "execution_count": 6,
     "metadata": {},
     "output_type": "execute_result"
    }
   ],
   "source": [
    "import pandas as pd\n",
    "\n",
    "data = []\n",
    "for actor in model.la.all_actors:\n",
    "    actor_functions = \"; \".join([function.name for function in actor.functions] or [\"no functions assigned\"])\n",
    "    data.append(dict(actor=actor.name, functions=actor_functions))\n",
    "df = pd.DataFrame(data)\n",
    "df"
   ]
  },
  {
   "cell_type": "markdown",
   "id": "6e04c482",
   "metadata": {},
   "source": [
    "and any `pandas.DataFrame` can always be turned into an Excel Spreadsheet, just like that:"
   ]
  },
  {
   "cell_type": "code",
   "execution_count": 7,
   "id": "10af24a2",
   "metadata": {},
   "outputs": [],
   "source": [
    "df.to_excel(\"01_intro_actor_functions.xlsx\")"
   ]
  },
  {
   "cell_type": "markdown",
   "id": "5370bc56",
   "metadata": {
    "tags": []
   },
   "source": [
    "you can check the resulting file in the folder next to this notebook (right after you run the above cell)\n",
    "\n",
    "Now that we've seen the basics, lets do something visually cool."
   ]
  },
  {
   "cell_type": "markdown",
   "id": "5afcdfdd-79e0-4e07-b321-d92a11f1d082",
   "metadata": {
    "tags": []
   },
   "source": [
    "## Example 2: working with diagrams\n",
    "\n",
    "The below code will find some diagrams for us."
   ]
  },
  {
   "cell_type": "code",
   "execution_count": 8,
   "id": "eb5f8747",
   "metadata": {},
   "outputs": [
    {
     "name": "stdout",
     "output_type": "stream",
     "text": [
      "[LAB] Wizzard Education\n",
      "[LAB] Test Component Port Filter\n"
     ]
    }
   ],
   "source": [
    "for diagram in model.la.diagrams.by_type('LAB'):\n",
    "    print(diagram.name)"
   ]
  },
  {
   "cell_type": "markdown",
   "id": "66609218",
   "metadata": {},
   "source": [
    "We can analyze which model objects are shown in a particular diagram."
   ]
  },
  {
   "cell_type": "code",
   "execution_count": 9,
   "id": "71bf090e",
   "metadata": {
    "scrolled": true
   },
   "outputs": [
    {
     "name": "stderr",
     "output_type": "stream",
     "text": [
      "Unknown global filter 'hide.sequencing.information.filter'\n",
      "Unknown global filter 'ModelExtensionFilter'\n",
      "Unknown global filter 'hide.simplified.diagram.based.component.exchanges.filter'\n",
      "Unknown global filter 'hide.simplified.oriented.grouped.component.exchanges.filter'\n",
      "Unknown global filter 'hide.simplified.group.of.component.exchanges.filter'\n"
     ]
    },
    {
     "data": {
      "text/html": [
       "<ol start=\"0\" style=\"text-align: left;\"><li><strong>LogicalFunction</strong> &quot;maintain a layer of defense for the Sorcerer&#39;s Stone&quot; (4a2a7f3c-d223-4d44-94a7-50dd2906a70c)</li><li><strong>GenericElement</strong> &quot;(Unnamed org.polarsys.capella.core.data.information:PortAllocation)&quot; (3ed5ae4f-8a4e-4690-9088-655990a1b77b)</li><li><strong>FunctionInputPort</strong> &quot;FIP 2&quot; (570662e8-9f8b-4c96-b695-103a549b250a)</li><li><strong>LogicalFunction</strong> &quot;defend the surrounding area against Intruders&quot; (7f2936ab-0b54-4e92-9f0c-85a9f0981959)</li><li><strong>FunctionalExchange</strong> &quot;educate &amp; mature&quot; (09efaeb7-2d50-40ed-a4da-46afcb9ca7a1)</li><li><strong>LogicalFunction</strong> &quot;protect Students against the Death Eaters&quot; (264fb47d-67b7-4bdc-8d06-8a0e5139edbf)</li><li><strong>GenericElement</strong> &quot;(Unnamed org.polarsys.capella.core.data.information:PortAllocation)&quot; (299b98b8-8716-4dbc-bc7e-4b9349778c26)</li><li><strong>ComponentPort</strong> &quot;CP 1&quot; (b4e39757-b0fd-41ff-a7b8-c9fc36de2ca9)</li><li><strong>GenericElement</strong> &quot;(Unnamed org.polarsys.capella.core.data.information:PortAllocation)&quot; (fee1fff5-d751-401b-bb3c-2114a74f0c8a)</li><li><strong>ComponentExchange</strong> &quot;Headmaster Responsibilities&quot; (c0bc49e1-8043-4418-8c0a-de6c6b749eab)</li><li><strong>ComponentPort</strong> &quot;CP 2&quot; (fcbf6881-720c-421f-9fe9-12fc3dfefe9c)</li><li><strong>FunctionOutputPort</strong> &quot;FOP 1&quot; (0eae1038-95fe-48b7-af6f-ad6890f2c207)</li><li><strong>Part</strong> &quot;Whomping Willow&quot; (1188fc31-789b-424f-a2d4-06791873a351)</li><li><strong>FunctionOutputPort</strong> &quot;FOP 1&quot; (cd696c20-84c9-47ec-aa63-6c46bfa506a9)</li><li><strong>FunctionalExchange</strong> &quot;assistance&quot; (241f3901-11f0-4b00-a903-ed158cce73de)</li><li><strong>FunctionInputPort</strong> &quot;FIP 1&quot; (e00e8a06-6d21-4c03-ba10-b8c17d082ad8)</li><li><strong>ComponentPort</strong> &quot;CP 1&quot; (9dcf355a-84a7-44df-a480-8911a85fd0cd)</li><li><strong>ComponentPort</strong> &quot;CP 2&quot; (7c61d723-3658-47ff-9b0c-7b016ac4cb76)</li><li><strong>Part</strong> &quot;Campus&quot; (a3194240-cd17-4998-8f8b-785233487ec3)</li><li><strong>GenericElement</strong> &quot;(Unnamed org.polarsys.capella.core.data.information:PortAllocation)&quot; (14cabdd9-c36f-4e01-ad09-110f906ad725)</li><li><strong>FunctionOutputPort</strong> &quot;FOP 1&quot; (65be1aca-b5da-480c-b16b-3d127ab29346)</li><li><strong>FunctionInputPort</strong> &quot;FIP 1&quot; (2178d219-e817-4a50-b451-74b19874a6bf)</li><li><strong>ComponentExchange</strong> &quot;Punishment&quot; (85a1fb20-38ea-4d77-acd7-90a8c44dc695)</li><li><strong>FunctionOutputPort</strong> &quot;FOP 1&quot; (db64f0c9-ea1c-4962-b043-1774547c36f7)</li><li><strong>FunctionalExchange</strong> &quot;Knowledge&quot; (b1a817bc-40a9-4fc4-b62c-8dea4aa28915)</li><li><strong>FunctionalExchange</strong> &quot;friendship&quot; (1bbb9b2d-517c-4f77-a35c-b3aa3f9422b8)</li><li><strong>ComponentExchange</strong> &quot;Learning&quot; (3b3fc202-be5c-49ae-bf2f-1d61daf3bb50)</li><li><strong>Part</strong> &quot;Harry J. Potter&quot; (26543596-7646-4d81-8f15-c4e01ec930a7)</li><li><strong>FunctionOutputPort</strong> &quot;FOP 1&quot; (08fa1029-81c9-4402-ab57-e1a11e4d2ff2)</li><li><strong>FunctionalExchange</strong> &quot;punish&quot; (96a0cf4c-adfe-4490-92d1-bcf75ee77004)</li><li><strong>GenericElement</strong> &quot;(Unnamed org.polarsys.capella.core.data.information:PortAllocation)&quot; (6d882e28-4208-41d0-b8a5-3a19e1805a34)</li><li><strong>GenericElement</strong> &quot;(Unnamed org.polarsys.capella.core.data.information:PortAllocation)&quot; (74bd0ab3-6a28-4025-822e-90201445a56e)</li><li><strong>ComponentPort</strong> &quot;CP 2&quot; (639341a3-1b08-44d9-bac2-cd847ccb45a4)</li><li><strong>ComponentExchange</strong> &quot;Care&quot; (c31491db-817d-44b3-a27c-67e9cc1e06a2)</li><li><strong>LogicalFunction</strong> &quot;kill He Who Must Not Be Named&quot; (aa9931e3-116c-461e-8215-6b9fdbdd4a1b)</li><li><strong>FunctionOutputPort</strong> &quot;FOP 1&quot; (3612f112-f0c7-42ec-b0e9-f53afc1ef486)</li><li><strong>LogicalFunction</strong> &quot;break school rules&quot; (edbd1ad4-31c0-4d53-b856-3ffa60e0e99b)</li><li><strong>LogicalFunction</strong> &quot;teach  Potions&quot; (a7acb298-d14b-4707-a419-fea272434541)</li><li><strong>ComponentPort</strong> &quot;CP 3&quot; (44e0f08d-2d38-46bb-b681-c11d2a3c4fe2)</li><li><strong>GenericElement</strong> &quot;(Unnamed org.polarsys.capella.core.data.information:PortAllocation)&quot; (74bd0ab3-6a28-4025-822e-90201445a56e)</li><li><strong>FunctionalExchange</strong> &quot;wizardry&quot; (6545a77d-d224-4662-a5b2-3c016b78e33d)</li><li><strong>Part</strong> &quot;Hogwarts&quot; (101ffa60-f8a2-4ea2-a0d8-d10910ceac06)</li><li><strong>ComponentExchange</strong> &quot;Help for Harry&quot; (d8655737-39ab-4482-a934-ee847c7ff6bd)</li><li><strong>LogicalFunction</strong> &quot;educate Wizards&quot; (957c5799-1d4a-4ac0-b5de-33a65bf1519c)</li><li><strong>GenericElement</strong> &quot;(Unnamed org.polarsys.capella.core.data.information:PortAllocation)&quot; (7d31ab50-63d6-46bb-bf53-1716175beae3)</li><li><strong>Part</strong> &quot;School&quot; (018a8ae9-8e8e-4aea-8191-4abf844a79e3)</li><li><strong>Part</strong> &quot;Prof. A. P. W. B. Dumbledore&quot; (4c1f2b5d-0641-42c7-911f-7a42928580b8)</li><li><strong>ComponentPort</strong> &quot;CP 3&quot; (d7e0cc4d-eef6-4173-9a21-1bd933a5d9f0)</li><li><strong>GenericElement</strong> &quot;(Unnamed org.polarsys.capella.core.data.information:PortAllocation)&quot; (317715cb-376c-4df6-a32c-433e3c081f8d)</li><li><strong>ComponentPort</strong> &quot;CP 3&quot; (e0dcf8c2-2283-4456-98a2-146e78ba5f26)</li><li><strong>GenericElement</strong> &quot;(Unnamed org.polarsys.capella.core.data.information:PortAllocation)&quot; (a4e2bf11-0705-4f20-bf73-5fa5519954f7)</li><li><strong>FunctionOutputPort</strong> &quot;FOP 1&quot; (68c5f3da-1ccc-417d-8a17-3a3764167d77)</li><li><strong>GenericElement</strong> &quot;(Unnamed org.polarsys.capella.core.data.information:PortAllocation)&quot; (c1019d06-f376-48e3-832e-634a8ec59463)</li><li><strong>ComponentPort</strong> &quot;CP 5&quot; (d1687d0d-31ab-43a4-822c-a99c922471ce)</li><li><strong>GenericElement</strong> &quot;(Unnamed org.polarsys.capella.core.data.information:PortAllocation)&quot; (18fa81ee-8b16-4815-86ea-0c287ace43d8)</li><li><strong>GenericElement</strong> &quot;(Unnamed org.polarsys.capella.core.data.information:PortAllocation)&quot; (dda7a62a-f25f-46d8-8f05-867c616914c1)</li><li><strong>GenericElement</strong> &quot;(Unnamed org.polarsys.capella.core.data.information:PortAllocation)&quot; (0f6e1aa0-942a-40a9-930f-c7df34b9d8eb)</li><li><strong>ComponentPort</strong> &quot;CP 1&quot; (fd38ff24-6a77-446b-aab5-6e307295b825)</li><li><strong>ComponentExchange</strong> &quot;Teacher Responsibilities&quot; (9cbdd233-aff5-47dd-9bef-9be1277c77c3)</li><li><strong>LogicalFunction</strong> &quot;produce Great Wizards&quot; (0e71a0d3-0a18-4671-bba0-71b5f88f95dd)</li><li><strong>LogicalFunction</strong> &quot;advise Harry&quot; (beaf5ba4-8fa9-4342-911f-0266bb29be45)</li><li><strong>ComponentPort</strong> &quot;CP 1&quot; (db5681e4-4245-4207-a429-e89979f6ac71)</li><li><strong>GenericElement</strong> &quot;(Unnamed org.polarsys.capella.core.data.information:PortAllocation)&quot; (4cbdf5fd-7268-470b-9811-b62ad67fded1)</li><li><strong>FunctionalExchange</strong> &quot;Knowledge&quot; (b1a817bc-40a9-4fc4-b62c-8dea4aa28915)</li><li><strong>FunctionInputPort</strong> &quot;FIP 1&quot; (ef435fb5-de1e-48ca-be00-40c79cc6a659)</li><li><strong>LogicalFunction</strong> &quot;manage the school&quot; (f708bc29-d69f-42a0-90cc-11fc01054cd0)</li><li><strong>ComponentPort</strong> &quot;CP 2&quot; (51f9e974-75f8-4f01-89a5-2503a7d49beb)</li><li><strong>GenericElement</strong> &quot;(Unnamed org.polarsys.capella.core.data.information:PortAllocation)&quot; (98760017-b3a3-46ca-b1ef-87eee9ea1600)</li><li><strong>FunctionOutputPort</strong> &quot;FOP 1&quot; (46093fb9-ae5e-4cc9-aad4-70c33e82e2bc)</li><li><strong>FunctionOutputPort</strong> &quot;FOP 1&quot; (3612f112-f0c7-42ec-b0e9-f53afc1ef486)</li><li><strong>Part</strong> &quot;R. Weasley&quot; (4d31caaf-210e-4bdf-982e-cdecbc80c947)</li><li><strong>FunctionOutputPort</strong> &quot;FOP 2&quot; (226878bc-3e4b-4236-ba72-996fc1d988c0)</li><li><strong>ComponentPort</strong> &quot;CP 2&quot; (438d9f44-8c6a-4151-98cc-360d8aa4f69f)</li><li><strong>LogicalFunction</strong> &quot;assist Harry&quot; (c1a42acc-1f53-42bb-8404-77a5c08c414b)</li><li><strong>Part</strong> &quot;Prof. S. Snape&quot; (ccbad61a-39dc-4af8-8199-3fee30de2f1d)</li><li><strong>ComponentPort</strong> &quot;CP 1&quot; (42c60b17-b503-46d6-8b0c-f1ff0fd4b8ac)</li><li><strong>FunctionInputPort</strong> &quot;FIP 1&quot; (68399bb1-5f8c-4137-89f4-73f25d3bdbe6)</li></ol>"
      ],
      "text/plain": [
       "<MixedElementList at 0x00007FFA5060F880 [<LogicalFunction \"maintain a layer of defense for the Sorcerer's Stone\" (4a2a7f3c-d223-4d44-94a7-50dd2906a70c)>, <Model element (org.polarsys.capella.core.data.information:PortAllocation) '(Unnamed org.polarsys.capella.core.data.information:PortAllocation)' (3ed5ae4f-8a4e-4690-9088-655990a1b77b)>, <FunctionInputPort 'FIP 2' (570662e8-9f8b-4c96-b695-103a549b250a)>, <LogicalFunction 'defend the surrounding area against Intruders' (7f2936ab-0b54-4e92-9f0c-85a9f0981959)>, <FunctionalExchange 'educate & mature' (09efaeb7-2d50-40ed-a4da-46afcb9ca7a1)>, <LogicalFunction 'protect Students against the Death Eaters' (264fb47d-67b7-4bdc-8d06-8a0e5139edbf)>, <Model element (org.polarsys.capella.core.data.information:PortAllocation) '(Unnamed org.polarsys.capella.core.data.information:PortAllocation)' (299b98b8-8716-4dbc-bc7e-4b9349778c26)>, <ComponentPort 'CP 1' (b4e39757-b0fd-41ff-a7b8-c9fc36de2ca9)>, <Model element (org.polarsys.capella.core.data.information:PortAllocation) '(Unnamed org.polarsys.capella.core.data.information:PortAllocation)' (fee1fff5-d751-401b-bb3c-2114a74f0c8a)>, <ComponentExchange 'Headmaster Responsibilities' (c0bc49e1-8043-4418-8c0a-de6c6b749eab)>, <ComponentPort 'CP 2' (fcbf6881-720c-421f-9fe9-12fc3dfefe9c)>, <FunctionOutputPort 'FOP 1' (0eae1038-95fe-48b7-af6f-ad6890f2c207)>, <Part 'Whomping Willow' (1188fc31-789b-424f-a2d4-06791873a351)>, <FunctionOutputPort 'FOP 1' (cd696c20-84c9-47ec-aa63-6c46bfa506a9)>, <FunctionalExchange 'assistance' (241f3901-11f0-4b00-a903-ed158cce73de)>, <FunctionInputPort 'FIP 1' (e00e8a06-6d21-4c03-ba10-b8c17d082ad8)>, <ComponentPort 'CP 1' (9dcf355a-84a7-44df-a480-8911a85fd0cd)>, <ComponentPort 'CP 2' (7c61d723-3658-47ff-9b0c-7b016ac4cb76)>, <Part 'Campus' (a3194240-cd17-4998-8f8b-785233487ec3)>, <Model element (org.polarsys.capella.core.data.information:PortAllocation) '(Unnamed org.polarsys.capella.core.data.information:PortAllocation)' (14cabdd9-c36f-4e01-ad09-110f906ad725)>, <FunctionOutputPort 'FOP 1' (65be1aca-b5da-480c-b16b-3d127ab29346)>, <FunctionInputPort 'FIP 1' (2178d219-e817-4a50-b451-74b19874a6bf)>, <ComponentExchange 'Punishment' (85a1fb20-38ea-4d77-acd7-90a8c44dc695)>, <FunctionOutputPort 'FOP 1' (db64f0c9-ea1c-4962-b043-1774547c36f7)>, <FunctionalExchange 'Knowledge' (b1a817bc-40a9-4fc4-b62c-8dea4aa28915)>, <FunctionalExchange 'friendship' (1bbb9b2d-517c-4f77-a35c-b3aa3f9422b8)>, <ComponentExchange 'Learning' (3b3fc202-be5c-49ae-bf2f-1d61daf3bb50)>, <Part 'Harry J. Potter' (26543596-7646-4d81-8f15-c4e01ec930a7)>, <FunctionOutputPort 'FOP 1' (08fa1029-81c9-4402-ab57-e1a11e4d2ff2)>, <FunctionalExchange 'punish' (96a0cf4c-adfe-4490-92d1-bcf75ee77004)>, <Model element (org.polarsys.capella.core.data.information:PortAllocation) '(Unnamed org.polarsys.capella.core.data.information:PortAllocation)' (6d882e28-4208-41d0-b8a5-3a19e1805a34)>, <Model element (org.polarsys.capella.core.data.information:PortAllocation) '(Unnamed org.polarsys.capella.core.data.information:PortAllocation)' (74bd0ab3-6a28-4025-822e-90201445a56e)>, <ComponentPort 'CP 2' (639341a3-1b08-44d9-bac2-cd847ccb45a4)>, <ComponentExchange 'Care' (c31491db-817d-44b3-a27c-67e9cc1e06a2)>, <LogicalFunction 'kill He Who Must Not Be Named' (aa9931e3-116c-461e-8215-6b9fdbdd4a1b)>, <FunctionOutputPort 'FOP 1' (3612f112-f0c7-42ec-b0e9-f53afc1ef486)>, <LogicalFunction 'break school rules' (edbd1ad4-31c0-4d53-b856-3ffa60e0e99b)>, <LogicalFunction 'teach  Potions' (a7acb298-d14b-4707-a419-fea272434541)>, <ComponentPort 'CP 3' (44e0f08d-2d38-46bb-b681-c11d2a3c4fe2)>, <Model element (org.polarsys.capella.core.data.information:PortAllocation) '(Unnamed org.polarsys.capella.core.data.information:PortAllocation)' (74bd0ab3-6a28-4025-822e-90201445a56e)>, <FunctionalExchange 'wizardry' (6545a77d-d224-4662-a5b2-3c016b78e33d)>, <Part 'Hogwarts' (101ffa60-f8a2-4ea2-a0d8-d10910ceac06)>, <ComponentExchange 'Help for Harry' (d8655737-39ab-4482-a934-ee847c7ff6bd)>, <LogicalFunction 'educate Wizards' (957c5799-1d4a-4ac0-b5de-33a65bf1519c)>, <Model element (org.polarsys.capella.core.data.information:PortAllocation) '(Unnamed org.polarsys.capella.core.data.information:PortAllocation)' (7d31ab50-63d6-46bb-bf53-1716175beae3)>, <Part 'School' (018a8ae9-8e8e-4aea-8191-4abf844a79e3)>, <Part 'Prof. A. P. W. B. Dumbledore' (4c1f2b5d-0641-42c7-911f-7a42928580b8)>, <ComponentPort 'CP 3' (d7e0cc4d-eef6-4173-9a21-1bd933a5d9f0)>, <Model element (org.polarsys.capella.core.data.information:PortAllocation) '(Unnamed org.polarsys.capella.core.data.information:PortAllocation)' (317715cb-376c-4df6-a32c-433e3c081f8d)>, <ComponentPort 'CP 3' (e0dcf8c2-2283-4456-98a2-146e78ba5f26)>, <Model element (org.polarsys.capella.core.data.information:PortAllocation) '(Unnamed org.polarsys.capella.core.data.information:PortAllocation)' (a4e2bf11-0705-4f20-bf73-5fa5519954f7)>, <FunctionOutputPort 'FOP 1' (68c5f3da-1ccc-417d-8a17-3a3764167d77)>, <Model element (org.polarsys.capella.core.data.information:PortAllocation) '(Unnamed org.polarsys.capella.core.data.information:PortAllocation)' (c1019d06-f376-48e3-832e-634a8ec59463)>, <ComponentPort 'CP 5' (d1687d0d-31ab-43a4-822c-a99c922471ce)>, <Model element (org.polarsys.capella.core.data.information:PortAllocation) '(Unnamed org.polarsys.capella.core.data.information:PortAllocation)' (18fa81ee-8b16-4815-86ea-0c287ace43d8)>, <Model element (org.polarsys.capella.core.data.information:PortAllocation) '(Unnamed org.polarsys.capella.core.data.information:PortAllocation)' (dda7a62a-f25f-46d8-8f05-867c616914c1)>, <Model element (org.polarsys.capella.core.data.information:PortAllocation) '(Unnamed org.polarsys.capella.core.data.information:PortAllocation)' (0f6e1aa0-942a-40a9-930f-c7df34b9d8eb)>, <ComponentPort 'CP 1' (fd38ff24-6a77-446b-aab5-6e307295b825)>, <ComponentExchange 'Teacher Responsibilities' (9cbdd233-aff5-47dd-9bef-9be1277c77c3)>, <LogicalFunction 'produce Great Wizards' (0e71a0d3-0a18-4671-bba0-71b5f88f95dd)>, <LogicalFunction 'advise Harry' (beaf5ba4-8fa9-4342-911f-0266bb29be45)>, <ComponentPort 'CP 1' (db5681e4-4245-4207-a429-e89979f6ac71)>, <Model element (org.polarsys.capella.core.data.information:PortAllocation) '(Unnamed org.polarsys.capella.core.data.information:PortAllocation)' (4cbdf5fd-7268-470b-9811-b62ad67fded1)>, <FunctionalExchange 'Knowledge' (b1a817bc-40a9-4fc4-b62c-8dea4aa28915)>, <FunctionInputPort 'FIP 1' (ef435fb5-de1e-48ca-be00-40c79cc6a659)>, <LogicalFunction 'manage the school' (f708bc29-d69f-42a0-90cc-11fc01054cd0)>, <ComponentPort 'CP 2' (51f9e974-75f8-4f01-89a5-2503a7d49beb)>, <Model element (org.polarsys.capella.core.data.information:PortAllocation) '(Unnamed org.polarsys.capella.core.data.information:PortAllocation)' (98760017-b3a3-46ca-b1ef-87eee9ea1600)>, <FunctionOutputPort 'FOP 1' (46093fb9-ae5e-4cc9-aad4-70c33e82e2bc)>, <FunctionOutputPort 'FOP 1' (3612f112-f0c7-42ec-b0e9-f53afc1ef486)>, <Part 'R. Weasley' (4d31caaf-210e-4bdf-982e-cdecbc80c947)>, <FunctionOutputPort 'FOP 2' (226878bc-3e4b-4236-ba72-996fc1d988c0)>, <ComponentPort 'CP 2' (438d9f44-8c6a-4151-98cc-360d8aa4f69f)>, <LogicalFunction 'assist Harry' (c1a42acc-1f53-42bb-8404-77a5c08c414b)>, <Part 'Prof. S. Snape' (ccbad61a-39dc-4af8-8199-3fee30de2f1d)>, <ComponentPort 'CP 1' (42c60b17-b503-46d6-8b0c-f1ff0fd4b8ac)>, <FunctionInputPort 'FIP 1' (68399bb1-5f8c-4137-89f4-73f25d3bdbe6)>]>"
      ]
     },
     "execution_count": 9,
     "metadata": {},
     "output_type": "execute_result"
    }
   ],
   "source": [
    "diagram = model.diagrams.by_name('[LAB] Wizzard Education')\n",
    "diagram.nodes"
   ]
  },
  {
   "cell_type": "markdown",
   "id": "eaaffccd",
   "metadata": {},
   "source": [
    "And again there are warnings - there are quite a few visual filters in Capella and we are not handling all of those yet but mostly those that are used in our projects. The filter coverage will eventally improve, stay tuned."
   ]
  },
  {
   "cell_type": "markdown",
   "id": "9ec8f512-6e78-46fe-9dce-ed6fbfc8ad7a",
   "metadata": {},
   "source": [
    "And finally, you can display the diagram right in the notebook."
   ]
  },
  {
   "cell_type": "code",
   "execution_count": 10,
   "id": "cc09fd22",
   "metadata": {},
   "outputs": [
    {
     "data": {
      "image/svg+xml": "<svg baseProfile=\"full\" class=\"LogicalArchitectureBlank\" height=\"611\" version=\"1.1\" viewBox=\"10 10 1162 611\" width=\"1162\" xmlns=\"http://www.w3.org/2000/svg\" xmlns:ev=\"http://www.w3.org/2001/xml-events\" xmlns:xlink=\"http://www.w3.org/1999/xlink\"><defs><style>.LogicalArchitectureBlank * { shape-rendering: geometricPrecision; }\n.LogicalArchitectureBlank text { font-family: \"Segoe UI\"; font-size: 8pt; }\n.LogicalArchitectureBlank g { cursor: pointer; }\n.LogicalArchitectureBlank g.Edge &gt; path { fill: none; stroke: rgb(0, 0, 0); }\n.LogicalArchitectureBlank g.Box &gt; line { stroke: #000000; }\n.LogicalArchitectureBlank g.Box &gt; rect, .LogicalArchitectureBlank g.Box &gt; use { fill: transparent; stroke: #000000; stroke-width: 1; }\n.LogicalArchitectureBlank g.Box.Annotation &gt; line { stroke: none; }\n.LogicalArchitectureBlank g.Box.Annotation &gt; rect, .LogicalArchitectureBlank g.Box.Annotation &gt; use { fill: none; stroke: none; }\n.LogicalArchitectureBlank g.Box.Constraint &gt; line { stroke: #888888; }\n.LogicalArchitectureBlank g.Box.Constraint &gt; rect, .LogicalArchitectureBlank g.Box.Constraint &gt; use { fill: #FFF5B5; stroke: #888888; }\n.LogicalArchitectureBlank g.Box.Constraint &gt; text { fill: #000000; }\n.LogicalArchitectureBlank g.Box.Note &gt; line { stroke: #FFCC66; }\n.LogicalArchitectureBlank g.Box.Note &gt; rect, .LogicalArchitectureBlank g.Box.Note &gt; use { fill: #FFFFCB; stroke: #FFCC66; }\n.LogicalArchitectureBlank g.Box.Note &gt; text { fill: #000000; }\n.LogicalArchitectureBlank g.Box.Requirement &gt; line { stroke: #72496E; }\n.LogicalArchitectureBlank g.Box.Requirement &gt; rect, .LogicalArchitectureBlank g.Box.Requirement &gt; use { fill: #D9C4D7; stroke: #72496E; }\n.LogicalArchitectureBlank g.Box.Requirement &gt; text { fill: #000000; }\n.LogicalArchitectureBlank g.Box.Text &gt; line { stroke: transparent; }\n.LogicalArchitectureBlank g.Box.Text &gt; rect, .LogicalArchitectureBlank g.Box.Text &gt; use { stroke: transparent; }\n.LogicalArchitectureBlank g.Edge &gt; rect { fill: none; stroke: none; }\n.LogicalArchitectureBlank g.Circle &gt; circle { fill: #000000; stroke: none; }\n.LogicalArchitectureBlank g.Edge &gt; path { stroke-width: 1; }\n.LogicalArchitectureBlank g.Edge.Connector &gt; rect { fill: none; stroke: none; }\n.LogicalArchitectureBlank g.Circle.Connector &gt; circle { fill: #B0B0B0; stroke: none; }\n.LogicalArchitectureBlank g.Edge.Connector &gt; path { stroke: #B0B0B0; stroke-dasharray: 1; }\n.LogicalArchitectureBlank g.Edge.Constraint &gt; rect { fill: none; stroke: none; }\n.LogicalArchitectureBlank g.Circle.Constraint &gt; circle { fill: #000000; stroke: none; }\n.LogicalArchitectureBlank g.Edge.Constraint &gt; path { stroke: #000000; stroke-dasharray: 1, 3; marker-end: url(#FineArrowMark_000000); stroke-linecap: round; }\n.LogicalArchitectureBlank g.Edge.Note &gt; rect { fill: none; stroke: none; }\n.LogicalArchitectureBlank g.Circle.Note &gt; circle { fill: #000000; stroke: none; }\n.LogicalArchitectureBlank g.Edge.Note &gt; path { stroke: #000000; stroke-dasharray: 1, 3; }\n.LogicalArchitectureBlank g.Edge.RequirementRelation &gt; rect { fill: none; stroke: none; }\n.LogicalArchitectureBlank g.Circle.RequirementRelation &gt; circle { fill: #72496E; stroke: none; }\n.LogicalArchitectureBlank g.Edge.RequirementRelation &gt; path { stroke: #72496E; stroke-width: 2; marker-end: url(#FineArrowMark_72496E); stroke-dasharray: 5; }\n.LogicalArchitectureBlank g.Edge.RequirementRelation &gt; text { fill: #72496E; }\n.LogicalArchitectureBlank g.Box.CP_IN &gt; line { stroke: #000000; }\n.LogicalArchitectureBlank g.Box.CP_IN &gt; rect, .LogicalArchitectureBlank g.Box.CP_IN &gt; use { fill: #FFFFFF; stroke: #000000; }\n.LogicalArchitectureBlank g.Box.CP_OUT &gt; line { stroke: #000000; }\n.LogicalArchitectureBlank g.Box.CP_OUT &gt; rect, .LogicalArchitectureBlank g.Box.CP_OUT &gt; use { fill: #FFFFFF; stroke: #000000; }\n.LogicalArchitectureBlank g.Box.CP_INOUT &gt; line { stroke: #000000; }\n.LogicalArchitectureBlank g.Box.CP_INOUT &gt; rect, .LogicalArchitectureBlank g.Box.CP_INOUT &gt; use { fill: #FFFFFF; stroke: #000000; }\n.LogicalArchitectureBlank g.Box.CP_UNSET &gt; rect, .LogicalArchitectureBlank g.Box.CP_UNSET &gt; use { fill: url(\"#.CP_UNSETFillGradient\"); }\n.LogicalArchitectureBlank g.Box.FIP &gt; rect, .LogicalArchitectureBlank g.Box.FIP &gt; use { fill: #E08503; stroke-width: 0; }\n.LogicalArchitectureBlank g.Box.FOP &gt; rect, .LogicalArchitectureBlank g.Box.FOP &gt; use { fill: #095C2E; stroke-width: 0; }\n.LogicalArchitectureBlank g.Box.LogicalActor &gt; line { stroke: #4A4A97; }\n.LogicalArchitectureBlank g.Box.LogicalActor &gt; rect, .LogicalArchitectureBlank g.Box.LogicalActor &gt; use { fill: url(\"#.LogicalActorFillGradient\"); stroke: #4A4A97; }\n.LogicalArchitectureBlank g.Box.LogicalActor &gt; text { fill: #000000; }\n.LogicalArchitectureBlank g.Box.LogicalComponent &gt; line { stroke: #4A4A97; }\n.LogicalArchitectureBlank g.Box.LogicalComponent &gt; rect, .LogicalArchitectureBlank g.Box.LogicalComponent &gt; use { fill: url(\"#.LogicalComponentFillGradient\"); stroke: #4A4A97; }\n.LogicalArchitectureBlank g.Box.LogicalComponent &gt; text { fill: #4A4A97; }\n.LogicalArchitectureBlank g.Box.LogicalHumanActor &gt; line { stroke: #4A4A97; }\n.LogicalArchitectureBlank g.Box.LogicalHumanActor &gt; rect, .LogicalArchitectureBlank g.Box.LogicalHumanActor &gt; use { fill: url(\"#.LogicalHumanActorFillGradient\"); stroke: #4A4A97; }\n.LogicalArchitectureBlank g.Box.LogicalHumanActor &gt; text { fill: #4A4A97; }\n.LogicalArchitectureBlank g.Box.LogicalHumanComponent &gt; line { stroke: #4A4A97; }\n.LogicalArchitectureBlank g.Box.LogicalHumanComponent &gt; rect, .LogicalArchitectureBlank g.Box.LogicalHumanComponent &gt; use { fill: url(\"#.LogicalHumanComponentFillGradient\"); stroke: #4A4A97; }\n.LogicalArchitectureBlank g.Box.LogicalHumanComponent &gt; text { fill: #4A4A97; }\n.LogicalArchitectureBlank g.Box.LogicalFunction &gt; line { stroke: #095C2E; }\n.LogicalArchitectureBlank g.Box.LogicalFunction &gt; rect, .LogicalArchitectureBlank g.Box.LogicalFunction &gt; use { fill: #C5FFA6; stroke: #095C2E; }\n.LogicalArchitectureBlank g.Box.LogicalFunction &gt; text { fill: #095C2E; }\n.LogicalArchitectureBlank g.Edge.FunctionalExchange &gt; rect { fill: none; stroke: none; }\n.LogicalArchitectureBlank g.Circle.FunctionalExchange &gt; circle { fill: #095C2E; stroke: none; }\n.LogicalArchitectureBlank g.Edge.FunctionalExchange &gt; path { stroke: #095C2E; stroke-width: 2; }\n.LogicalArchitectureBlank g.Edge.FunctionalExchange &gt; text { fill: #095C2E; }\n.LogicalArchitectureBlank g.Edge.ComponentExchange &gt; rect { fill: none; stroke: none; }\n.LogicalArchitectureBlank g.Circle.ComponentExchange &gt; circle { fill: #4A4A97; stroke: none; }\n.LogicalArchitectureBlank g.Edge.ComponentExchange &gt; path { stroke: #4A4A97; stroke-width: 2; }\n.LogicalArchitectureBlank g.Edge.ComponentExchange &gt; text { fill: #4A4A97; }\n.LogicalArchitectureBlank g.Edge.FIPAllocation &gt; rect { fill: none; stroke: none; }\n.LogicalArchitectureBlank g.Circle.FIPAllocation &gt; circle { fill: #E08503; stroke: none; }\n.LogicalArchitectureBlank g.Edge.FIPAllocation &gt; path { stroke: #E08503; stroke-width: 2; stroke-dasharray: 5; }\n.LogicalArchitectureBlank g.Edge.FOPAllocation &gt; rect { fill: none; stroke: none; }\n.LogicalArchitectureBlank g.Circle.FOPAllocation &gt; circle { fill: #095C2E; stroke: none; }\n.LogicalArchitectureBlank g.Edge.FOPAllocation &gt; path { stroke: #095C2E; stroke-width: 2; stroke-dasharray: 5; }\n</style><symbol id=\"ErrorSymbol\" viewBox=\"0 0 2.6458 2.6458\"><path d=\"M 0,0 2.6458333,2.6458333 M 0,2.6458333 2.6458333,0\" style=\"fill: none; stroke: red; stroke-width: 0.5;\" /></symbol><symbol id=\"RequirementSymbol\" style=\"stroke: none;\" viewBox=\"0 0 50 50\"><path d=\"M 12.806813,6.5702324 A 6.244379,5.8113241 0 0 1 6.5624342,12.381557 6.244379,5.8113241 0 0 1 0.31805515,6.5702324 6.244379,5.8113241 0 0 1 6.5624342,0.75890827 6.244379,5.8113241 0 0 1 12.806813,6.5702324 Z\" style=\"fill: #431964\" /><path d=\"m 4.3228658,5.8752475 h 2.9514721 q 0.2945581,0 0.5184223,-0.1413879 Q 8.0225155,5.5865806 8.1462299,5.3214783 8.2699443,5.056376 8.2758355,4.7029063 v 0 q 0,-0.3475786 -0.1237144,-0.6126808 Q 8.0284067,3.8251232 7.7986513,3.6837353 7.5747872,3.5364562 7.2743379,3.5364562 H 4.3228658 V 2.1873801 h 2.9927103 q 0.7246129,0 1.2724909,0.3122316 0.5478781,0.3122316 0.8483274,0.8836743 0.3063404,0.5714427 0.3063404,1.3196203 v 0 q 0,0.7540687 -0.3063404,1.3255114 Q 9.1359451,6.5998605 8.5821759,6.912092 8.0342978,7.2243236 7.3155761,7.2243236 H 4.3228658 Z M 3.7396407,2.1873801 H 5.1476285 V 10.759021 H 3.7396407 Z M 6.3906636,6.9592213 7.8516718,6.6882279 10.102096,10.759021 H 8.4113322 Z\" style=\"fill:#ffffff;\" /></symbol><symbol id=\"ComponentPortSymbol\" viewBox=\"0 0 10 10\"><path d=\"M0 0h10v10H0z\" /><path d=\"M 2,2 5,7 8,2\" /></symbol><symbol id=\"LogicalActorSymbol\" style=\"stroke: #000; stroke-width: 2;\" viewBox=\"0 0 79 79\"><linearGradient id=\"ls-blue\" x1=\"0\" x2=\"0\" y1=\"0\" y2=\"1\"><stop offset=\"0.0\" stop-color=\"#c3e4ff\" stop-opacity=\"1\" /><stop offset=\"1.0\" stop-color=\"#98b0dd\" stop-opacity=\"1\" /></linearGradient><path d=\"M18 237h46v43H18z\" style=\"fill: url(#ls-blue)\" transform=\"translate(0 -218)\" /><path d=\"M12 247h11v8H12z\" style=\"fill: url(#ls-blue)\" transform=\"translate(0 -218)\" /><path d=\"M12 261h11v8H12z\" style=\"fill: url(#ls-blue)\" transform=\"translate(0 -218)\" /><g style=\"fill: #000;\" transform=\"scale(0.83010896,1.2046611)\"><path d=\"m 31.063676,19.942628 h 3.754427 v 26.759494 h -3.754427 z m 1.877213,23.189107 h 15.312173 v 3.570387 H 32.940889 Z\" /><path d=\"m 60.32612,19.942628 h 3.202306 l 9.864572,26.759494 H 69.344107 L 61.927273,25.114167 54.51044,46.702122 H 50.461548 Z M 55.007349,37.260842 H 69.08645 v 3.570387 H 55.007349 Z\" /></g></symbol><symbol id=\"LogicalComponentSymbol\" style=\"stroke: #000; stroke-width: 2;\" viewBox=\"0 0 79 79\"><linearGradient id=\"ls-blue\" x1=\"0\" x2=\"0\" y1=\"0\" y2=\"1\"><stop offset=\"0.0\" stop-color=\"#c3e4ff\" stop-opacity=\"1\" /><stop offset=\"1.0\" stop-color=\"#98b0dd\" stop-opacity=\"1\" /></linearGradient><path d=\"M18 237h46v43H18z\" style=\"fill: url(#ls-blue)\" transform=\"translate(0 -218)\" /><path d=\"M12 247h11v8H12z\" style=\"fill: url(#ls-blue)\" transform=\"translate(0 -218)\" /><path d=\"M12 261h11v8H12z\" style=\"fill: url(#ls-blue)\" transform=\"translate(0 -218)\" /><g transform=\"scale(0.90705135,1.1024734)\"><path d=\"m 37.427456,20.821353 h 4.221475 V 50.90971 H 37.427456 Z M 39.538194,46.89517 H 56.75519 v 4.01454 H 39.538194 Z\" style=\"fill: #000;\" /></g></symbol><symbol id=\"LogicalFunctionSymbol\" viewBox=\"0 0 79 79\"><radialGradient cx=\"42.2\" cy=\"32\" fx=\"42.2\" fy=\"32\" gradientTransform=\"matrix(1 0 0 0.7 0 11.3)\" gradientUnits=\"userSpaceOnUse\" id=\"b\" r=\"22.6\" xlink:href=\"#a\"><stop offset=\"0\" stop-color=\"#f0f8ee\" /><stop offset=\"1\" stop-color=\"#7dc56c\" /></radialGradient><ellipse cx=\"42.2\" cy=\"32\" rx=\"22.5\" ry=\"15.5\" style=\"fill: url(#b); stroke: #000; stroke-width: 2;\" /><text style=\"font-family: &quot;Segoe UI&quot;; font-size: 12pt; font-weight: bold; fill: black; stroke: none;\" text-anchor=\"middle\" x=\"42.2\" y=\"38\">LF</text></symbol><symbol id=\"LogicalHumanActorSymbol\" style=\"stroke: #000; stroke-width: 2;\" viewBox=\"0 0 79 79\"><use transform=\"matrix(0.81762456,0,0,0.81762456,-2.5207584,0.47091696)\" xlink:href=\"#StickFigureSymbol\" /></symbol><symbol id=\"LogicalHumanComponentSymbol\" style=\"stroke: #000; stroke-width: 2;\" viewBox=\"0 0 79 79\"><linearGradient id=\"ls-blue\" x1=\"0\" x2=\"0\" y1=\"0\" y2=\"1\"><stop offset=\"0.0\" stop-color=\"#c3e4ff\" stop-opacity=\"1\" /><stop offset=\"1.0\" stop-color=\"#98b0dd\" stop-opacity=\"1\" /></linearGradient><path d=\"M18 237h46v43H18z\" style=\"fill: url(#ls-blue)\" transform=\"translate(0 -218)\" /><path d=\"M12 247h11v8H12z\" style=\"fill: url(#ls-blue)\" transform=\"translate(0 -218)\" /><path d=\"M12 261h11v8H12z\" style=\"fill: url(#ls-blue)\" transform=\"translate(0 -218)\" /><use transform=\"matrix(0.62,0,0,0.62,23.82,16.51)\" xlink:href=\"#StickFigureSymbol\" /></symbol><symbol id=\"PortSymbol\" viewBox=\"0 0 10 10\"><path d=\"M0 0h10v10H0z\" /><path d=\"M5 1L1 9h8z\" fill=\"#fff\" /></symbol><symbol id=\"StickFigureSymbol\" style=\"stroke: #000; stroke-width: 2;\" viewBox=\"362.861 210.892 75 75\"><g style=\"stroke-width: 2.4944; stroke: #000;\" transform=\"matrix(1.0611338,0,0,1.0611338,-24.47665,-12.241673)\"><line style=\"fill: none;\" x1=\"400.362\" x2=\"400.362\" y1=\"232.586\" y2=\"257.534\" /><line style=\"fill: none;\" x1=\"400.83401\" x2=\"388.423\" y1=\"254.299\" y2=\"275.009\" /><line style=\"fill: none;\" x1=\"400.25201\" x2=\"413.97\" y1=\"254.46001\" y2=\"274.987\" /><line style=\"fill: none;\" x1=\"385.634\" x2=\"415.703\" y1=\"244.569\" y2=\"244.49699\" /><radialGradient cx=\"43.766102\" cy=\"87.902298\" fx=\"0\" fy=\"0\" gradientTransform=\"matrix(1.9728 0 0 -2.039 314.1896 402.5936)\" gradientUnits=\"userSpaceOnUse\" id=\"head\" r=\"4.4296999\"><stop offset=\"0\" stop-color=\"#FDFCFA\" /><stop offset=\"1\" stop-color=\"#8B9BA7\" /></radialGradient><ellipse cx=\"400.53201\" cy=\"223.35899\" rx=\"9.2180004\" ry=\"8.5080004\" style=\"fill:url(#head)\" /></g></symbol><symbol id=\"FunctionalExchangeSymbol\" viewBox=\"0 0 40 30\"><linearGradient id=\"FunctionalExchangeSymbol-gradient\" x1=\"0\" x2=\"1\" y1=\"0\" y2=\"1\"><stop offset=\"0.0\" stop-color=\"#4F7C45\" stop-opacity=\"1\" /><stop offset=\"1.0\" stop-color=\"#BCDDB4\" stop-opacity=\"1\" /></linearGradient><linearGradient id=\"FunctionalExchangeSymbol-gradientreverse\" x1=\"0\" x2=\"1\" y1=\"0\" y2=\"1\"><stop offset=\"0.0\" stop-color=\"#BCDDB4\" stop-opacity=\"1\" /><stop offset=\"1.0\" stop-color=\"#4F7C45\" stop-opacity=\"1\" /></linearGradient><g style=\"stroke:#000;stroke-width:2;\"><path d=\"M 36.190065,5.0377724 V 24.962228 H 26.17482 V 5.0377724 Z\" style=\"fill: url(#FunctionalExchangeSymbol-gradientreverse)\" /><path d=\"m 14.372107,10 h 12.622435 c 0.926189,0.585267 1.836022,1.274509 2.268178,5 -0.208657,2.812473 -0.954601,4.503809 -2.273297,5 H 14.296948\" style=\"fill: #61c34c\" /><path d=\"M 3.9464908,5.0048246 V 24.995175 H 10.87518 C 12.433713,24.159139 15.158267,20.291241 15.313795,15 15.498614,11.583142 14.059659,6.6240913 10.87518,5.0048246 c -2.2179509,0 -4.5908341,0 -6.9286892,0 z\" style=\"fill: url(#FunctionalExchangeSymbol-gradient)\" /></g></symbol><symbol id=\"ComponentExchangeSymbol\" viewBox=\"0 0 40 30\"><linearGradient id=\"ComponentExchangeSymbol-gradient\" x1=\"0\" x2=\"1\" y1=\"0\" y2=\"1\"><stop offset=\"0.0\" stop-color=\"#8FA5B6\" stop-opacity=\"1\" /><stop offset=\"1.0\" stop-color=\"#E0E9F3\" stop-opacity=\"1\" /></linearGradient><linearGradient id=\"ComponentExchangeSymbol-gradientreverse\" x1=\"0\" x2=\"1\" y1=\"0\" y2=\"1\"><stop offset=\"0.0\" stop-color=\"#E0E9F3\" stop-opacity=\"1\" /><stop offset=\"1.0\" stop-color=\"#8FA5B6\" stop-opacity=\"1\" /></linearGradient><g style=\"stroke:#000;stroke-width:2;\"><path d=\"M 36.190065,5.0377724 V 24.962228 H 26.17482 V 5.0377724 Z\" style=\"fill: url(#ComponentExchangeSymbol-gradientreverse)\" /><path d=\"m 14.372107,10 h 12.622435 c 0.926189,0.585267 1.836022,1.274509 2.268178,5 -0.208657,2.812473 -0.954601,4.503809 -2.273297,5 H 14.296948\" style=\"fill: #A3BCD0\" /><path d=\"M 3.9464908,5.0048246 V 24.995175 H 10.87518 C 12.433713,24.159139 15.158267,20.291241 15.313795,15 15.498614,11.583142 14.059659,6.6240913 10.87518,5.0048246 c -2.2179509,0 -4.5908341,0 -6.9286892,0 z\" style=\"fill: url(#ComponentExchangeSymbol-gradient)\" /></g></symbol><linearGradient id=\".CP_UNSETFillGradient\" x1=\"0%\" x2=\"0%\" y1=\"0%\" y2=\"100%\"><stop offset=\"0\" stop-color=\"#EF2929\" /><stop offset=\"1\" stop-color=\"#FFFFFF\" /></linearGradient><linearGradient id=\".LogicalActorFillGradient\" x1=\"0%\" x2=\"0%\" y1=\"0%\" y2=\"100%\"><stop offset=\"0\" stop-color=\"#DAFDFF\" /><stop offset=\"1\" stop-color=\"#C6E6FF\" /></linearGradient><linearGradient id=\".LogicalComponentFillGradient\" x1=\"0%\" x2=\"0%\" y1=\"0%\" y2=\"100%\"><stop offset=\"0\" stop-color=\"#C3E6FF\" /><stop offset=\"1\" stop-color=\"#96B1DA\" /></linearGradient><linearGradient id=\".LogicalHumanActorFillGradient\" x1=\"0%\" x2=\"0%\" y1=\"0%\" y2=\"100%\"><stop offset=\"0\" stop-color=\"#C3E6FF\" /><stop offset=\"1\" stop-color=\"#96B1DA\" /></linearGradient><linearGradient id=\".LogicalHumanComponentFillGradient\" x1=\"0%\" x2=\"0%\" y1=\"0%\" y2=\"100%\"><stop offset=\"0\" stop-color=\"#C3E6FF\" /><stop offset=\"1\" stop-color=\"#96B1DA\" /></linearGradient><linearGradient id=\"CustomGradient_DAFDFF_C6E6FF\" x1=\"0\" x2=\"0\" y1=\"0\" y2=\"1\"><stop offset=\"0.0\" stop-color=\"#DAFDFF\" stop-opacity=\"1\" /><stop offset=\"1.0\" stop-color=\"#C6E6FF\" stop-opacity=\"1\" /></linearGradient></defs><rect fill=\"white\" height=\"611\" stroke=\"none\" width=\"1162\" x=\"10\" y=\"10\" /><g class=\"Box LogicalComponent\" id=\"_dqPI4LB8EeqLtsTDMgEHBw\"><rect class=\"LogicalComponent\" height=\"591\" style=\"stroke-width: 1\" width=\"411\" x=\"350.5\" y=\"20.5\" /><text class=\"LogicalComponent\" dominant-baseline=\"middle\" text-anchor=\"start\" x=\"350\" y=\"20\"><tspan x=\"539.7857142857142\" xml:space=\"preserve\" y=\"31.42857142857143\">Hogwarts</tspan></text><use height=\"20\" width=\"20\" x=\"517.7857142857142\" xlink:href=\"#LogicalComponentSymbol\" y=\"21.42857142857143\" /></g><g class=\"Box LogicalFunction\" id=\"_GHiygMECEeqW8_YksX3uDg\"><rect class=\"LogicalFunction\" height=\"50\" style=\"stroke-width: 1\" width=\"131\" x=\"380.5\" y=\"509.5\" /><text class=\"LogicalFunction\" dominant-baseline=\"middle\" text-anchor=\"middle\" x=\"380\" y=\"509\"><tspan x=\"445.5\" xml:space=\"preserve\" y=\"527.5714285714286\">produce Great</tspan><tspan x=\"445.5\" xml:space=\"preserve\" y=\"540.4285714285714\">Wizards</tspan></text><use height=\"20\" width=\"20\" x=\"386.92857142857144\" xlink:href=\"#LogicalFunctionSymbol\" y=\"524.0\" /></g><g class=\"Box FOP\"><use class=\"FOP\" height=\"10\" transform=\"rotate(90 508.5 535.5)\" width=\"10\" x=\"503.5\" xlink:href=\"#PortSymbol\" y=\"530.5\" /></g><g class=\"Box FIP\"><use class=\"FIP\" height=\"10\" transform=\"rotate(90 383.5 535.5)\" width=\"10\" x=\"378.5\" xlink:href=\"#PortSymbol\" y=\"530.5\" /></g><g class=\"Box LogicalFunction\" id=\"_IrIUIMEDEeqW8_YksX3uDg\"><rect class=\"LogicalFunction\" height=\"50\" style=\"stroke-width: 1\" width=\"110\" x=\"610.5\" y=\"509.5\" /><text class=\"LogicalFunction\" dominant-baseline=\"middle\" text-anchor=\"middle\" x=\"610\" y=\"509\"><tspan x=\"665.0\" xml:space=\"preserve\" y=\"514.0\">protect</tspan><tspan x=\"665.0\" xml:space=\"preserve\" y=\"526.8571428571429\">Students</tspan><tspan x=\"665.0\" xml:space=\"preserve\" y=\"539.7142857142858\">against the</tspan><tspan x=\"665.0\" xml:space=\"preserve\" y=\"552.5714285714287\">Death Eaters</tspan></text><use height=\"20\" width=\"20\" x=\"610.7142857142857\" xlink:href=\"#LogicalFunctionSymbol\" y=\"524.0\" /></g><g class=\"Box FIP\"><use class=\"FIP\" height=\"10\" transform=\"rotate(90 613.5 535.5)\" width=\"10\" x=\"608.5\" xlink:href=\"#PortSymbol\" y=\"530.5\" /></g><g class=\"Box LogicalComponent\" id=\"_8EyHIMZyEeqlbN5fRfdrWQ\"><rect class=\"LogicalComponent\" height=\"421\" style=\"stroke-width: 1\" width=\"231\" x=\"435.5\" y=\"54.5\" /><text class=\"LogicalComponent\" dominant-baseline=\"middle\" text-anchor=\"start\" x=\"435\" y=\"54\"><tspan x=\"538.3571428571429\" xml:space=\"preserve\" y=\"65.42857142857143\">Campus</tspan></text><use height=\"20\" width=\"20\" x=\"516.3571428571429\" xlink:href=\"#LogicalComponentSymbol\" y=\"55.42857142857143\" /></g><g class=\"Box LogicalComponent\" id=\"_parwwLB_EeqLtsTDMgEHBw\"><rect class=\"LogicalComponent\" height=\"94\" style=\"stroke-width: 1\" width=\"191\" x=\"450.5\" y=\"75.5\" /><text class=\"LogicalComponent\" dominant-baseline=\"middle\" text-anchor=\"start\" x=\"450\" y=\"75\"><tspan x=\"537.6428571428571\" xml:space=\"preserve\" y=\"85.0\">School</tspan></text><use height=\"20\" width=\"20\" x=\"515.6428571428571\" xlink:href=\"#LogicalComponentSymbol\" y=\"75.0\" /></g><g class=\"Box LogicalFunction\" id=\"_ilRGMLCBEeqLtsTDMgEHBw\"><rect class=\"LogicalFunction\" height=\"31\" style=\"stroke-width: 1\" width=\"141\" x=\"474.5\" y=\"117.5\" /><text class=\"LogicalFunction\" dominant-baseline=\"middle\" text-anchor=\"middle\" x=\"474\" y=\"117\"><tspan x=\"544.5\" xml:space=\"preserve\" y=\"132.5\">educate Wizards</tspan></text><use height=\"20\" width=\"20\" x=\"480.2142857142857\" xlink:href=\"#LogicalFunctionSymbol\" y=\"122.5\" /></g><g class=\"Box FOP\"><use class=\"FOP\" height=\"10\" transform=\"rotate(90 612.5 133.5)\" width=\"10\" x=\"607.5\" xlink:href=\"#PortSymbol\" y=\"128.5\" /></g><g class=\"Box FOP\"><use class=\"FOP\" height=\"10\" transform=\"rotate(270 477.5 133.5)\" width=\"10\" x=\"472.5\" xlink:href=\"#PortSymbol\" y=\"128.5\" /></g><g class=\"Box CP_UNSET\"><rect class=\"CP_UNSET\" height=\"10\" transform=\"rotate(-90 638.5 104.5)\" width=\"10\" x=\"633.5\" y=\"99.5\" /></g><g class=\"Box CP_OUT\"><use class=\"CP_OUT\" height=\"10\" transform=\"rotate(0 546.5 166.5)\" width=\"10\" x=\"541.5\" xlink:href=\"#ComponentPortSymbol\" y=\"161.5\" /></g><g class=\"Box LogicalHumanComponent\" id=\"_BkQ1ULB_EeqLtsTDMgEHBw\"><rect class=\"LogicalHumanComponent\" height=\"104\" style=\"stroke-width: 1\" width=\"191\" x=\"450.5\" y=\"345.5\" /><text class=\"LogicalHumanComponent\" dominant-baseline=\"middle\" text-anchor=\"start\" x=\"450\" y=\"345\"><tspan x=\"506.92857142857144\" xml:space=\"preserve\" y=\"356.42857142857144\">Whomping Willow</tspan></text><use height=\"20\" width=\"20\" x=\"484.92857142857144\" xlink:href=\"#LogicalHumanComponentSymbol\" y=\"346.42857142857144\" /></g><g class=\"Box LogicalFunction\" id=\"_otKRgLCBEeqLtsTDMgEHBw\"><rect class=\"LogicalFunction\" height=\"51\" style=\"stroke-width: 1\" width=\"141\" x=\"470.5\" y=\"377.5\" /><text class=\"LogicalFunction\" dominant-baseline=\"middle\" text-anchor=\"middle\" x=\"470\" y=\"377\"><tspan x=\"540.5\" xml:space=\"preserve\" y=\"388.2142857142857\">defend the</tspan><tspan x=\"540.5\" xml:space=\"preserve\" y=\"401.07142857142856\">surrounding area</tspan><tspan x=\"540.5\" xml:space=\"preserve\" y=\"413.9285714285714\">against Intruders</tspan></text><use height=\"20\" width=\"20\" x=\"474.07142857142856\" xlink:href=\"#LogicalFunctionSymbol\" y=\"392.5\" /></g><g class=\"Box FOP\"><use class=\"FOP\" height=\"10\" transform=\"rotate(90 608.5 403.5)\" width=\"10\" x=\"603.5\" xlink:href=\"#PortSymbol\" y=\"398.5\" /></g><g class=\"Box CP_OUT\"><use class=\"CP_OUT\" height=\"10\" transform=\"rotate(-90 638.5 425.5)\" width=\"10\" x=\"633.5\" xlink:href=\"#ComponentPortSymbol\" y=\"420.5\" /></g><g class=\"Box CP_IN\"><use class=\"CP_IN\" height=\"10\" transform=\"rotate(0 546.5 348.5)\" width=\"10\" x=\"541.5\" xlink:href=\"#ComponentPortSymbol\" y=\"343.5\" /></g><g class=\"Box CP_OUT\"><use class=\"CP_OUT\" height=\"10\" transform=\"rotate(90 453.5 351.5)\" width=\"10\" x=\"448.5\" xlink:href=\"#ComponentPortSymbol\" y=\"346.5\" /></g><g class=\"Box CP_IN\"><use class=\"CP_IN\" height=\"10\" transform=\"rotate(270 353.5 125.5)\" width=\"10\" x=\"348.5\" xlink:href=\"#ComponentPortSymbol\" y=\"120.5\" /></g><g class=\"Box CP_IN\"><use class=\"CP_IN\" height=\"10\" transform=\"rotate(270 353.5 399.5)\" width=\"10\" x=\"348.5\" xlink:href=\"#ComponentPortSymbol\" y=\"394.5\" /></g><g class=\"Box LogicalHumanActor\" id=\"_WUfYcLB-EeqLtsTDMgEHBw\"><rect class=\"LogicalHumanActor\" height=\"171\" style=\"fill: url(&quot;#CustomGradient_DAFDFF_C6E6FF&quot;); stroke-width: 1\" width=\"158\" x=\"20.5\" y=\"20.5\" /><text class=\"LogicalHumanActor\" dominant-baseline=\"middle\" text-anchor=\"start\" x=\"20\" y=\"20\"><tspan x=\"68.28571428571428\" xml:space=\"preserve\" y=\"30.0\">Prof. A. P. W. B.</tspan><tspan x=\"68.28571428571428\" xml:space=\"preserve\" y=\"40.0\">Dumbledore</tspan></text><use height=\"20\" width=\"20\" x=\"46.285714285714285\" xlink:href=\"#LogicalHumanActorSymbol\" y=\"25.0\" /></g><g class=\"Box LogicalFunction\" id=\"_HyCUQLCBEeqLtsTDMgEHBw\"><rect class=\"LogicalFunction\" height=\"50\" style=\"stroke-width: 1\" width=\"91\" x=\"40.5\" y=\"69.5\" /><text class=\"LogicalFunction\" dominant-baseline=\"middle\" text-anchor=\"middle\" x=\"40\" y=\"69\"><tspan x=\"85.5\" xml:space=\"preserve\" y=\"87.57142857142857\">manage the</tspan><tspan x=\"85.5\" xml:space=\"preserve\" y=\"100.42857142857143\">school</tspan></text><use height=\"20\" width=\"20\" x=\"38\" xlink:href=\"#LogicalFunctionSymbol\" y=\"84.0\" /></g><g class=\"Box FOP\"><use class=\"FOP\" height=\"10\" transform=\"rotate(90 128.5 95.5)\" width=\"10\" x=\"123.5\" xlink:href=\"#PortSymbol\" y=\"90.5\" /></g><g class=\"Box LogicalFunction\" id=\"_RCi2ULCBEeqLtsTDMgEHBw\"><rect class=\"LogicalFunction\" height=\"50\" style=\"stroke-width: 1\" width=\"91\" x=\"40.5\" y=\"129.5\" /><text class=\"LogicalFunction\" dominant-baseline=\"middle\" text-anchor=\"middle\" x=\"40\" y=\"129\"><tspan x=\"85.5\" xml:space=\"preserve\" y=\"146.14285714285714\">advise</tspan><tspan x=\"85.5\" xml:space=\"preserve\" y=\"159.0\">Harry</tspan></text><use height=\"20\" width=\"20\" x=\"48.35714285714286\" xlink:href=\"#LogicalFunctionSymbol\" y=\"144.0\" /></g><g class=\"Box FOP\"><use class=\"FOP\" height=\"10\" transform=\"rotate(90 128.5 155.5)\" width=\"10\" x=\"123.5\" xlink:href=\"#PortSymbol\" y=\"150.5\" /></g><g class=\"Box CP_OUT\"><use class=\"CP_OUT\" height=\"10\" transform=\"rotate(-90 175.5 125.5)\" width=\"10\" x=\"170.5\" xlink:href=\"#ComponentPortSymbol\" y=\"120.5\" /></g><g class=\"Box LogicalHumanActor\" id=\"_4CrKULB-EeqLtsTDMgEHBw\"><rect class=\"LogicalHumanActor\" height=\"211\" style=\"fill: url(&quot;#CustomGradient_DAFDFF_C6E6FF&quot;); stroke-width: 1\" width=\"158\" x=\"20.5\" y=\"300.5\" /><text class=\"LogicalHumanActor\" dominant-baseline=\"middle\" text-anchor=\"start\" x=\"20\" y=\"300\"><tspan x=\"71.85714285714286\" xml:space=\"preserve\" y=\"311.42857142857144\">Prof. S. Snape</tspan></text><use height=\"20\" width=\"20\" x=\"49.857142857142854\" xlink:href=\"#LogicalHumanActorSymbol\" y=\"301.42857142857144\" /></g><g class=\"Box LogicalFunction\" id=\"_aDTsMrCBEeqLtsTDMgEHBw\"><rect class=\"LogicalFunction\" height=\"54\" style=\"stroke-width: 1\" width=\"91\" x=\"40.5\" y=\"339.5\" /><text class=\"LogicalFunction\" dominant-baseline=\"middle\" text-anchor=\"middle\" x=\"40\" y=\"339\"><tspan x=\"85.5\" xml:space=\"preserve\" y=\"361.0\">teach</tspan><tspan x=\"85.5\" xml:space=\"preserve\" y=\"371.0\">Potions</tspan></text><use height=\"20\" width=\"20\" x=\"45.5\" xlink:href=\"#LogicalFunctionSymbol\" y=\"356.0\" /></g><g class=\"Box FOP\"><use class=\"FOP\" height=\"10\" transform=\"rotate(90 128.5 355.5)\" width=\"10\" x=\"123.5\" xlink:href=\"#PortSymbol\" y=\"350.5\" /></g><g class=\"Box LogicalFunction\" id=\"_fUFCQLCBEeqLtsTDMgEHBw\"><rect class=\"LogicalFunction\" height=\"81\" style=\"stroke-width: 1\" width=\"91\" x=\"40.5\" y=\"409.5\" /><text class=\"LogicalFunction\" dominant-baseline=\"middle\" text-anchor=\"middle\" x=\"40\" y=\"409\"><tspan x=\"85.5\" xml:space=\"preserve\" y=\"415.92857142857144\">maintain a</tspan><tspan x=\"85.5\" xml:space=\"preserve\" y=\"428.7857142857143\">layer of</tspan><tspan x=\"85.5\" xml:space=\"preserve\" y=\"441.6428571428571\">defense for</tspan><tspan x=\"85.5\" xml:space=\"preserve\" y=\"454.49999999999994\">the</tspan><tspan x=\"85.5\" xml:space=\"preserve\" y=\"467.3571428571428\">Sorcerer's</tspan><tspan x=\"85.5\" xml:space=\"preserve\" y=\"480.2142857142856\">Stone</tspan></text><use height=\"20\" width=\"20\" x=\"38\" xlink:href=\"#LogicalFunctionSymbol\" y=\"439.5\" /></g><g class=\"Box FOP\"><use class=\"FOP\" height=\"10\" transform=\"rotate(90 128.5 425.5)\" width=\"10\" x=\"123.5\" xlink:href=\"#PortSymbol\" y=\"420.5\" /></g><g class=\"Box CP_OUT\"><use class=\"CP_OUT\" height=\"10\" transform=\"rotate(-90 175.5 399.5)\" width=\"10\" x=\"170.5\" xlink:href=\"#ComponentPortSymbol\" y=\"394.5\" /></g><g class=\"Box LogicalActor\" id=\"_yCkzoLB_EeqLtsTDMgEHBw\"><rect class=\"LogicalActor\" height=\"131\" style=\"stroke-width: 1\" width=\"200\" x=\"962.5\" y=\"20.5\" /><text class=\"LogicalActor\" dominant-baseline=\"middle\" text-anchor=\"start\" x=\"962\" y=\"20\"><tspan x=\"1034.142857142857\" xml:space=\"preserve\" y=\"31.42857142857143\">Harry J. Potter</tspan></text><use height=\"20\" width=\"20\" x=\"1012.1428571428571\" xlink:href=\"#LogicalActorSymbol\" y=\"21.42857142857143\" /></g><g class=\"Box LogicalFunction\" id=\"_nccmwMTpEeqlbN5fRfdrWQ\"><rect class=\"LogicalFunction\" height=\"61\" style=\"stroke-width: 1\" width=\"110\" x=\"1002.5\" y=\"49.5\" /><text class=\"LogicalFunction\" dominant-baseline=\"middle\" text-anchor=\"middle\" x=\"1002\" y=\"49\"><tspan x=\"1057.0\" xml:space=\"preserve\" y=\"69.5\">kill He Who</tspan><tspan x=\"1057.0\" xml:space=\"preserve\" y=\"79.5\">Must Not Be</tspan><tspan x=\"1057.0\" xml:space=\"preserve\" y=\"89.5\">Named</tspan></text><use height=\"20\" width=\"20\" x=\"1003.4285714285714\" xlink:href=\"#LogicalFunctionSymbol\" y=\"69.5\" /></g><g class=\"Box FIP\"><use class=\"FIP\" height=\"10\" transform=\"rotate(90 1005.5 75.5)\" width=\"10\" x=\"1000.5\" xlink:href=\"#PortSymbol\" y=\"70.5\" /></g><g class=\"Box FIP\"><use class=\"FIP\" height=\"10\" transform=\"rotate(0 1018.5 107.5)\" width=\"10\" x=\"1013.5\" xlink:href=\"#PortSymbol\" y=\"102.5\" /></g><g class=\"Box CP_INOUT\"><rect class=\"CP_INOUT\" height=\"10\" transform=\"rotate(90 965.5 36.5)\" width=\"10\" x=\"960.5\" y=\"31.5\" /></g><g class=\"Box CP_IN\"><use class=\"CP_IN\" height=\"10\" transform=\"rotate(180 1148.5 148.5)\" width=\"10\" x=\"1143.5\" xlink:href=\"#ComponentPortSymbol\" y=\"143.5\" /></g><g class=\"Box CP_IN\"><use class=\"CP_IN\" height=\"10\" transform=\"rotate(270 965.5 26.5)\" width=\"10\" x=\"960.5\" xlink:href=\"#ComponentPortSymbol\" y=\"21.5\" /></g><g class=\"Box LogicalHumanActor\" id=\"_zuBo0LB_EeqLtsTDMgEHBw\"><rect class=\"LogicalHumanActor\" height=\"171\" style=\"fill: url(&quot;#CustomGradient_DAFDFF_C6E6FF&quot;); stroke-width: 1\" width=\"200\" x=\"962.5\" y=\"397.5\" /><text class=\"LogicalHumanActor\" dominant-baseline=\"middle\" text-anchor=\"start\" x=\"962\" y=\"397\"><tspan x=\"1042.7142857142858\" xml:space=\"preserve\" y=\"408.42857142857144\">R. Weasley</tspan></text><use height=\"20\" width=\"20\" x=\"1020.7142857142857\" xlink:href=\"#LogicalHumanActorSymbol\" y=\"398.42857142857144\" /></g><g class=\"Box LogicalFunction\" id=\"_toddEMTpEeqlbN5fRfdrWQ\"><rect class=\"LogicalFunction\" height=\"50\" style=\"stroke-width: 1\" width=\"101\" x=\"1012.5\" y=\"436.5\" /><text class=\"LogicalFunction\" dominant-baseline=\"middle\" text-anchor=\"middle\" x=\"1012\" y=\"436\"><tspan x=\"1062.5\" xml:space=\"preserve\" y=\"461.0\">assist Harry</tspan></text><use height=\"20\" width=\"20\" x=\"1010.3571428571429\" xlink:href=\"#LogicalFunctionSymbol\" y=\"451.0\" /></g><g class=\"Box FOP\"><use class=\"FOP\" height=\"10\" transform=\"rotate(90 1110.5 456.5)\" width=\"10\" x=\"1105.5\" xlink:href=\"#PortSymbol\" y=\"451.5\" /></g><g class=\"Box LogicalFunction\" id=\"_0dxIAMTpEeqlbN5fRfdrWQ\"><rect class=\"LogicalFunction\" height=\"50\" style=\"stroke-width: 1\" width=\"101\" x=\"1012.5\" y=\"496.5\" /><text class=\"LogicalFunction\" dominant-baseline=\"middle\" text-anchor=\"middle\" x=\"1012\" y=\"496\"><tspan x=\"1062.5\" xml:space=\"preserve\" y=\"516.0\">break school</tspan><tspan x=\"1062.5\" xml:space=\"preserve\" y=\"526.0\">rules</tspan></text><use height=\"20\" width=\"20\" x=\"1010\" xlink:href=\"#LogicalFunctionSymbol\" y=\"511.0\" /></g><g class=\"Box FOP\"><use class=\"FOP\" height=\"10\" transform=\"rotate(90 1109.5 499.5)\" width=\"10\" x=\"1104.5\" xlink:href=\"#PortSymbol\" y=\"494.5\" /></g><g class=\"Box FIP\"><use class=\"FIP\" height=\"10\" transform=\"rotate(90 1015.5 516.5)\" width=\"10\" x=\"1010.5\" xlink:href=\"#PortSymbol\" y=\"511.5\" /></g><g class=\"Box CP_IN\"><use class=\"CP_IN\" height=\"10\" transform=\"rotate(270 965.5 536.5)\" width=\"10\" x=\"960.5\" xlink:href=\"#ComponentPortSymbol\" y=\"531.5\" /></g><g class=\"Box CP_OUT\"><use class=\"CP_OUT\" height=\"10\" transform=\"rotate(-180 1148.5 400.5)\" width=\"10\" x=\"1143.5\" xlink:href=\"#ComponentPortSymbol\" y=\"395.5\" /></g><g class=\"Edge FunctionalExchange\" id=\"_PEmXoMEDEeqW8_YksX3uDg\"><path class=\"Edge\" d=\"M 513.5 535.5 608.5 535.5\" /><rect class=\"AnnotationBB\" height=\"13\" width=\"48\" x=\"536\" y=\"519\" /><text class=\"Annotation\" dominant-baseline=\"middle\" text-anchor=\"middle\" x=\"524.0\" y=\"519\"><tspan x=\"561.0\" xml:space=\"preserve\" y=\"525.4285714285714\">wizardry</tspan></text><use height=\"20\" width=\"20\" x=\"517.4285714285714\" xlink:href=\"#FunctionalExchangeSymbol\" y=\"515.4285714285714\" /></g><g class=\"Edge FOPAllocation\" id=\"_o4KcUMEDEeqW8_YksX3uDg\"><path class=\"Edge\" d=\"M 170.5 399.5 150.5 399.5 150.5 425.5 133.5 425.5\" style=\"stroke-width: 2\" /><rect class=\"AnnotationBB\" height=\"0\" width=\"0\" x=\"155\" y=\"398\" /><text class=\"Annotation\" dominant-baseline=\"middle\" text-anchor=\"middle\" x=\"155\" y=\"398\"><tspan x=\"155.0\" xml:space=\"preserve\" y=\"398.0\" /></text></g><g class=\"Edge FOPAllocation\" id=\"_syJloMEDEeqW8_YksX3uDg\"><path class=\"Edge\" d=\"M 170.5 125.5 150.5 125.5 150.5 95.5 133.5 95.5\" style=\"stroke-width: 2\" /><rect class=\"AnnotationBB\" height=\"0\" width=\"0\" x=\"161\" y=\"137\" /><text class=\"Annotation\" dominant-baseline=\"middle\" text-anchor=\"middle\" x=\"161\" y=\"137\"><tspan x=\"161.0\" xml:space=\"preserve\" y=\"137.0\" /></text></g><g class=\"Edge FOPAllocation\" id=\"_u8br4MEDEeqW8_YksX3uDg\"><path class=\"Edge\" d=\"M 170.5 125.5 150.5 125.5 150.5 155.5 133.5 155.5\" style=\"stroke-width: 2\" /><rect class=\"AnnotationBB\" height=\"0\" width=\"0\" x=\"152\" y=\"125\" /><text class=\"Annotation\" dominant-baseline=\"middle\" text-anchor=\"middle\" x=\"152\" y=\"125\"><tspan x=\"152.0\" xml:space=\"preserve\" y=\"125.0\" /></text></g><g class=\"Edge ComponentExchange\" id=\"_WbdGoLB_EeqLtsTDMgEHBw\"><path class=\"Edge\" d=\"M 348.5 125.5 180.5 125.5\" /><rect class=\"AnnotationBB\" height=\"31\" width=\"111\" x=\"222\" y=\"106\" /><text class=\"Annotation\" dominant-baseline=\"middle\" text-anchor=\"middle\" x=\"210.0\" y=\"106\"><tspan x=\"278.5\" xml:space=\"preserve\" y=\"111.0\">Headmaster</tspan><tspan x=\"278.5\" xml:space=\"preserve\" y=\"123.85714285714286\">Responsibilities</tspan></text><use height=\"20\" width=\"20\" x=\"217.07142857142856\" xlink:href=\"#ComponentExchangeSymbol\" y=\"108.85714285714286\" /></g><g class=\"Edge ComponentExchange\" id=\"_XNOh0LB_EeqLtsTDMgEHBw\"><path class=\"Edge\" d=\"M 180.5 399.5 348.5 399.5\" /><rect class=\"AnnotationBB\" height=\"27\" width=\"111\" x=\"191\" y=\"388\" /><text class=\"Annotation\" dominant-baseline=\"middle\" text-anchor=\"middle\" x=\"179.0\" y=\"388\"><tspan x=\"247.5\" xml:space=\"preserve\" y=\"393.0\">Teacher</tspan><tspan x=\"247.5\" xml:space=\"preserve\" y=\"405.85714285714283\">Responsibilities</tspan></text><use height=\"20\" width=\"20\" x=\"186.07142857142856\" xlink:href=\"#ComponentExchangeSymbol\" y=\"390.85714285714283\" /></g><g class=\"Edge FIPAllocation\" id=\"_twPK8MTnEeqlbN5fRfdrWQ\"><path class=\"Edge\" d=\"M 358.5 125.5 370.5 125.5 370.5 535.5 378.5 535.5\" style=\"stroke-width: 2\" /><rect class=\"AnnotationBB\" height=\"0\" width=\"0\" x=\"370\" y=\"188\" /><text class=\"Annotation\" dominant-baseline=\"middle\" text-anchor=\"middle\" x=\"370\" y=\"188\"><tspan x=\"370.0\" xml:space=\"preserve\" y=\"188.0\" /></text></g><g class=\"Edge FIPAllocation\" id=\"_VBCl8MTqEeqlbN5fRfdrWQ\"><path class=\"Edge\" d=\"M 970.5 36.5 982.5 36.5 982.5 75.5 1000.5 75.5\" style=\"stroke-width: 2\" /><rect class=\"AnnotationBB\" height=\"0\" width=\"0\" x=\"990\" y=\"53\" /><text class=\"Annotation\" dominant-baseline=\"middle\" text-anchor=\"middle\" x=\"990\" y=\"53\"><tspan x=\"990.0\" xml:space=\"preserve\" y=\"53.0\" /></text></g><g class=\"Edge ComponentExchange\" id=\"_YwLxMMTqEeqlbN5fRfdrWQ\"><path class=\"Edge\" d=\"M 1148.5 395.5 1148.5 153.5\" /><rect class=\"AnnotationBB\" height=\"21\" width=\"102\" x=\"1043\" y=\"156\" /><text class=\"Annotation\" dominant-baseline=\"middle\" text-anchor=\"middle\" x=\"1031.0\" y=\"156\"><tspan x=\"1095.0\" xml:space=\"preserve\" y=\"162.42857142857142\">Help for Harry</tspan></text><use height=\"20\" width=\"20\" x=\"1036.4285714285713\" xlink:href=\"#ComponentExchangeSymbol\" y=\"152.42857142857142\" /></g><g class=\"Edge FunctionalExchange\" id=\"_RmRSwMTrEeqlbN5fRfdrWQ\"><path class=\"Edge\" d=\"M 133.5 355.5 370.5 355.5 370.5 535.5 378.5 535.5\" /><rect class=\"AnnotationBB\" height=\"13\" width=\"60\" x=\"258\" y=\"332\" /><text class=\"Annotation\" dominant-baseline=\"middle\" text-anchor=\"middle\" x=\"246.0\" y=\"332\"><tspan x=\"289.0\" xml:space=\"preserve\" y=\"338.42857142857144\">Knowledge</tspan></text><use height=\"20\" width=\"20\" x=\"239.0\" xlink:href=\"#FunctionalExchangeSymbol\" y=\"328.42857142857144\" /></g><g class=\"Edge ComponentExchange\" id=\"_3Ko5oLB_EeqLtsTDMgEHBw\"><path class=\"Edge\" d=\"M 643.5 425.5 760.5 425.5 760.5 499.5 790.5 499.5 790.5 479.5 810.5 479.5 810.5 459.5 860.5 459.5 860.5 479.5 890.5 479.5 890.5 499.5 920.5 499.5 920.5 449.5 900.5 449.5 900.5 409.5 950.5 409.5 950.5 449.5 930.5 449.5 930.5 536.5 960.5 536.5\" /><rect class=\"AnnotationBB\" height=\"26\" width=\"91\" x=\"740\" y=\"499\" /><text class=\"Annotation\" dominant-baseline=\"middle\" text-anchor=\"middle\" x=\"728.0\" y=\"499\"><tspan x=\"786.5\" xml:space=\"preserve\" y=\"504.0\">Punishment</tspan></text><use height=\"20\" width=\"20\" x=\"734.3571428571429\" xlink:href=\"#ComponentExchangeSymbol\" y=\"494.0\" /></g><g class=\"Edge ComponentExchange\" id=\"_z-LwYMTmEeqlbN5fRfdrWQ\"><path class=\"Edge\" d=\"M 960.5 36.5 850.5 36.5 850.5 104.5 643.5 104.5\" /><rect class=\"AnnotationBB\" height=\"13\" width=\"48\" x=\"781\" y=\"93\" /><text class=\"Annotation\" dominant-baseline=\"middle\" text-anchor=\"middle\" x=\"769.0\" y=\"93\"><tspan x=\"806.0\" xml:space=\"preserve\" y=\"99.42857142857143\">Learning</tspan></text><use height=\"20\" width=\"20\" x=\"762.4285714285714\" xlink:href=\"#ComponentExchangeSymbol\" y=\"89.42857142857143\" /></g><g class=\"Edge FOPAllocation\" id=\"_HDIA8MTnEeqlbN5fRfdrWQ\"><path class=\"Edge\" d=\"M 638.5 109.5 617.5 133.5\" style=\"stroke-width: 2\" /><rect class=\"AnnotationBB\" height=\"0\" width=\"0\" x=\"625\" y=\"113\" /><text class=\"Annotation\" dominant-baseline=\"middle\" text-anchor=\"middle\" x=\"625\" y=\"113\"><tspan x=\"625.0\" xml:space=\"preserve\" y=\"113.0\" /></text></g><g class=\"Edge FunctionalExchange\" id=\"_0nQlwMTqEeqlbN5fRfdrWQ\"><path class=\"Edge\" d=\"M 617.5 133.5 870.5 133.5 870.5 75.5 1000.5 75.5\" /><rect class=\"AnnotationBB\" height=\"10\" width=\"98\" x=\"756\" y=\"118\" /><text class=\"Annotation\" dominant-baseline=\"middle\" text-anchor=\"middle\" x=\"744.0\" y=\"118\"><tspan x=\"806.0\" xml:space=\"preserve\" y=\"123.0\">educate &amp; mature</tspan></text><use height=\"20\" width=\"20\" x=\"737.4285714285714\" xlink:href=\"#FunctionalExchangeSymbol\" y=\"113.0\" /></g><g class=\"Edge FunctionalExchange\" id=\"_B7YjssTqEeqlbN5fRfdrWQ\"><path class=\"Edge\" d=\"M 1114.5 499.5 1139.5 499.5 1139.5 202.5 1018.5 202.5 1018.5 112.5\" /><rect class=\"AnnotationBB\" height=\"13\" width=\"55\" x=\"1042\" y=\"183\" /><text class=\"Annotation\" dominant-baseline=\"middle\" text-anchor=\"middle\" x=\"1030.0\" y=\"183\"><tspan x=\"1070.5\" xml:space=\"preserve\" y=\"189.42857142857142\">friendship</tspan></text><use height=\"20\" width=\"20\" x=\"1023.3571428571429\" xlink:href=\"#FunctionalExchangeSymbol\" y=\"179.42857142857142\" /></g><g class=\"Edge FunctionalExchange\" id=\"_8FlN8cTpEeqlbN5fRfdrWQ\"><path class=\"Edge\" d=\"M 1115.5 456.5 1130.5 456.5 1130.5 260.5 1018.5 260.5 1018.5 112.5\" /><rect class=\"AnnotationBB\" height=\"10\" width=\"56\" x=\"1041\" y=\"243\" /><text class=\"Annotation\" dominant-baseline=\"middle\" text-anchor=\"middle\" x=\"1029.0\" y=\"243\"><tspan x=\"1070.0\" xml:space=\"preserve\" y=\"248.0\">assistance</tspan></text><use height=\"20\" width=\"20\" x=\"1022.1428571428571\" xlink:href=\"#FunctionalExchangeSymbol\" y=\"238.0\" /></g><g class=\"Edge FIPAllocation\" id=\"_RP7wgtZEEeqiU8uzTY0Puw\"><path class=\"Edge\" d=\"M 1148.5 143.5 1148.5 130.5 1018.5 130.5 1018.5 112.5\" style=\"stroke-width: 2\" /><rect class=\"AnnotationBB\" height=\"0\" width=\"0\" x=\"1146\" y=\"132\" /><text class=\"Annotation\" dominant-baseline=\"middle\" text-anchor=\"middle\" x=\"1146\" y=\"132\"><tspan x=\"1146.0\" xml:space=\"preserve\" y=\"132.0\" /></text></g><g class=\"Edge FOPAllocation\" id=\"_RP8XdNZEEeqiU8uzTY0Puw\"><path class=\"Edge\" d=\"M 1148.5 405.5 1148.5 456.5 1115.5 456.5\" style=\"stroke-width: 2\" /><rect class=\"AnnotationBB\" height=\"0\" width=\"0\" x=\"1153\" y=\"437\" /><text class=\"Annotation\" dominant-baseline=\"middle\" text-anchor=\"middle\" x=\"1153\" y=\"437\"><tspan x=\"1153.0\" xml:space=\"preserve\" y=\"437.0\" /></text></g><g class=\"Edge FOPAllocation\" id=\"_RP8-gtZEEeqiU8uzTY0Puw\"><path class=\"Edge\" d=\"M 1148.5 405.5 1148.5 499.5 1114.5 499.5\" style=\"stroke-width: 2\" /><rect class=\"AnnotationBB\" height=\"0\" width=\"0\" x=\"1150\" y=\"462\" /><text class=\"Annotation\" dominant-baseline=\"middle\" text-anchor=\"middle\" x=\"1150\" y=\"462\"><tspan x=\"1150.0\" xml:space=\"preserve\" y=\"462.0\" /></text></g><g class=\"Edge ComponentExchange\" id=\"_e8OmYKjsEeu7PunlgwoBGA\"><path class=\"Edge\" d=\"M 546.5 171.5 546.5 343.5\" /><rect class=\"AnnotationBB\" height=\"10\" width=\"26\" x=\"558\" y=\"252\" /><text class=\"Annotation\" dominant-baseline=\"middle\" text-anchor=\"middle\" x=\"546.0\" y=\"252\"><tspan x=\"572.0\" xml:space=\"preserve\" y=\"257.0\">Care</tspan></text><use height=\"20\" width=\"20\" x=\"539.1428571428571\" xlink:href=\"#ComponentExchangeSymbol\" y=\"247.0\" /></g><g class=\"Edge FunctionalExchange\" id=\"_QXuDzEhQEeyVkeSUJyVgbw\"><path class=\"Edge\" d=\"M 472.5 133.5 360.5 133.5 360.5 535.5 378.5 535.5\" /><rect class=\"AnnotationBB\" height=\"13\" width=\"60\" x=\"376\" y=\"250\" /><text class=\"Annotation\" dominant-baseline=\"middle\" text-anchor=\"middle\" x=\"364.0\" y=\"250\"><tspan x=\"407.0\" xml:space=\"preserve\" y=\"256.42857142857144\">Knowledge</tspan></text><use height=\"20\" width=\"20\" x=\"357.0\" xlink:href=\"#FunctionalExchangeSymbol\" y=\"246.42857142857142\" /></g><g class=\"Edge FIPAllocation\" id=\"_E2dKmkhREeyVkeSUJyVgbw\"><path class=\"Edge\" d=\"M 353.5 404.5 383.5 530.5\" style=\"stroke-width: 2\" /><rect class=\"AnnotationBB\" height=\"0\" width=\"0\" x=\"377\" y=\"466\" /><text class=\"Annotation\" dominant-baseline=\"middle\" text-anchor=\"middle\" x=\"377\" y=\"466\"><tspan x=\"377.0\" xml:space=\"preserve\" y=\"466.0\" /></text></g><g class=\"Edge FOPAllocation\" id=\"_E2dxoEhREeyVkeSUJyVgbw\"><path class=\"Edge\" d=\"M 180.5 399.5 370.5 399.5 370.5 133.5 472.5 133.5\" style=\"stroke-width: 2\" /><rect class=\"AnnotationBB\" height=\"0\" width=\"0\" x=\"210\" y=\"391\" /><text class=\"Annotation\" dominant-baseline=\"middle\" text-anchor=\"middle\" x=\"210\" y=\"391\"><tspan x=\"210.0\" xml:space=\"preserve\" y=\"391.0\" /></text></g><g class=\"Edge FOPAllocation\" id=\"_E2dxpUhREeyVkeSUJyVgbw\"><path class=\"Edge\" d=\"M 170.5 399.5 150.5 399.5 150.5 355.5 133.5 355.5\" style=\"stroke-width: 2\" /><rect class=\"AnnotationBB\" height=\"0\" width=\"0\" x=\"150\" y=\"369\" /><text class=\"Annotation\" dominant-baseline=\"middle\" text-anchor=\"middle\" x=\"150\" y=\"369\"><tspan x=\"150.0\" xml:space=\"preserve\" y=\"369.0\" /></text></g><g class=\"Edge FunctionalExchange\" id=\"_phyGIMTqEeqlbN5fRfdrWQ\"><path class=\"Edge\" d=\"M 613.5 403.5 980.5 403.5 980.5 516.5 1010.5 516.5\" /><rect class=\"AnnotationBB\" height=\"21\" width=\"62\" x=\"841\" y=\"408\" /><text class=\"Annotation\" dominant-baseline=\"middle\" text-anchor=\"middle\" x=\"829.0\" y=\"408\"><tspan x=\"873.0\" xml:space=\"preserve\" y=\"414.42857142857144\">punish</tspan></text><use height=\"20\" width=\"20\" x=\"834.4285714285714\" xlink:href=\"#FunctionalExchangeSymbol\" y=\"404.42857142857144\" /></g><g class=\"Edge FIPAllocation\" id=\"_b-Xr7EhSEeyVkeSUJyVgbw\"><path class=\"Edge\" d=\"M 970.5 536.5 1010.5 516.5\" style=\"stroke-width: 2\" /><rect class=\"AnnotationBB\" height=\"0\" width=\"0\" x=\"994\" y=\"517\" /><text class=\"Annotation\" dominant-baseline=\"middle\" text-anchor=\"middle\" x=\"994\" y=\"517\"><tspan x=\"994.0\" xml:space=\"preserve\" y=\"517.0\" /></text></g><g class=\"Edge FOPAllocation\" id=\"_b-Xr8UhSEeyVkeSUJyVgbw\"><path class=\"Edge\" d=\"M 638.5 420.5 613.5 403.5\" style=\"stroke-width: 2\" /><rect class=\"AnnotationBB\" height=\"0\" width=\"0\" x=\"617\" y=\"422\" /><text class=\"Annotation\" dominant-baseline=\"middle\" text-anchor=\"middle\" x=\"617\" y=\"422\"><tspan x=\"617.0\" xml:space=\"preserve\" y=\"422.0\" /></text></g><g class=\"Edge FIPAllocation\" id=\"_faMEFEybEeyns9TdzUL1Ow\"><path class=\"Edge\" d=\"M 970.5 26.5 1005.5 70.5\" style=\"stroke-width: 2\" /><rect class=\"AnnotationBB\" height=\"0\" width=\"0\" x=\"990\" y=\"42\" /><text class=\"Annotation\" dominant-baseline=\"middle\" text-anchor=\"middle\" x=\"990\" y=\"42\"><tspan x=\"990.0\" xml:space=\"preserve\" y=\"42.0\" /></text></g><g class=\"Edge FOPAllocation\" id=\"_faMrEkybEeyns9TdzUL1Ow\"><path class=\"Edge\" d=\"M 458.5 351.5 603.5 403.5\" style=\"stroke-width: 2\" /><rect class=\"AnnotationBB\" height=\"0\" width=\"0\" x=\"531\" y=\"364\" /><text class=\"Annotation\" dominant-baseline=\"middle\" text-anchor=\"middle\" x=\"531\" y=\"364\"><tspan x=\"531.0\" xml:space=\"preserve\" y=\"364.0\" /></text></g></svg>",
      "text/plain": [
       "<Diagram '[LAB] Wizzard Education'>"
      ]
     },
     "execution_count": 10,
     "metadata": {},
     "output_type": "execute_result"
    }
   ],
   "source": [
    "diagram"
   ]
  },
  {
   "cell_type": "markdown",
   "id": "f678a3ee-ac7e-4ce4-a8e2-0d41c612800e",
   "metadata": {},
   "source": [
    "We use SVG diagrams a lot since they look great in documentation, are zoomable, even interactive sometimes and really light-weight. To make integrating them into a pipeline easier, we also support some derived formats, which you can access using `.as_<format>` style attributes, see below for a handful of useful examples.\n",
    "\n",
    "If you need an entirely different format from SVG, such as PNG or JPEG, there are quite a few examples of how to get there on stackoverflow (like [Convert SVG to PNG in Python](https://stackoverflow.com/questions/6589358/convert-svg-to-png-in-python))."
   ]
  },
  {
   "cell_type": "code",
   "execution_count": 11,
   "id": "b5699e75-2e4c-4b8e-81af-51be00ff6dc3",
   "metadata": {},
   "outputs": [
    {
     "name": "stdout",
     "output_type": "stream",
     "text": [
      "<svg baseProfile=\"full\" class=\"LogicalArchitectureBlank\" height=\"611\" version=\"1.1\" viewBox=\"10 10 1162 611\" w...\n",
      "data:image/svg+xml;base64,PHN2ZyBiYXNlUHJvZmlsZT0iZnVsbCIgY2xhc3M9IkxvZ2ljYWxBcmNoaXRlY3R1cmVCbGFuayIgaGVpZ2h0...\n",
      "<img src=\"data:image/svg+xml;base64,PHN2ZyBiYXNlUHJvZmlsZT0iZnVsbCIgY2xhc3M9IkxvZ2ljYWxBcmNoaXRlY3R1cmVCbGFuay...\n"
     ]
    }
   ],
   "source": [
    "print(diagram.as_svg[:110] + \"...\")  # The raw SVG format as simple python `str`\n",
    "print(diagram.as_datauri_svg[:110] + \"...\")  # An SVG, base64-encoded as `data:` URI\n",
    "print(diagram.as_html_img[:110] + \"...\")  # An HTML `<img>` tag, using the above `data:` URI as `src`"
   ]
  },
  {
   "cell_type": "markdown",
   "id": "21e0b9c2",
   "metadata": {},
   "source": [
    "Lets now try something else - we check if function port has any protocols (state machines) underneath:"
   ]
  },
  {
   "cell_type": "code",
   "execution_count": 12,
   "id": "cf91c71a",
   "metadata": {},
   "outputs": [
    {
     "data": {
      "text/html": [
       "<ol start=\"0\" style=\"text-align: left;\"><li><strong>StateMachine</strong> &quot;FaultStates&quot; (06cefb2b-534e-4453-9aba-fe53329197ad)</li></ol>"
      ],
      "text/plain": [
       "<CoupledElementList at 0x00007FFA1FA9F820 [<StateMachine 'FaultStates' (06cefb2b-534e-4453-9aba-fe53329197ad)>]>"
      ]
     },
     "execution_count": 12,
     "metadata": {},
     "output_type": "execute_result"
    }
   ],
   "source": [
    "fnc = model.la.all_functions.by_name(\"defend the surrounding area against Intruders\")\n",
    "stms = fnc.outputs[0].state_machines\n",
    "stms"
   ]
  },
  {
   "cell_type": "markdown",
   "id": "dc8069df",
   "metadata": {},
   "source": [
    "and we can also check what states it could have:"
   ]
  },
  {
   "cell_type": "code",
   "execution_count": 13,
   "id": "b5751a0d",
   "metadata": {},
   "outputs": [
    {
     "data": {
      "text/html": [
       "<ol start=\"0\" style=\"text-align: left;\"><li><strong>State</strong> &quot;normal defence&quot; (e494e247-efce-4258-9cc6-fd799dbb0adf)</li><li><strong>State</strong> &quot;erroneous defence&quot; (81f3de46-4596-41b0-8569-c3c21161a2f6)</li><li><strong>State</strong> &quot;no defence&quot; (5b6a03d8-0ef9-4b2b-9a50-a745f490d663)</li></ol>"
      ],
      "text/plain": [
       "<CoupledElementList at 0x00007FFA1FAF5160 [<State 'normal defence' (e494e247-efce-4258-9cc6-fd799dbb0adf)>, <State 'erroneous defence' (81f3de46-4596-41b0-8569-c3c21161a2f6)>, <State 'no defence' (5b6a03d8-0ef9-4b2b-9a50-a745f490d663)>]>"
      ]
     },
     "execution_count": 13,
     "metadata": {},
     "output_type": "execute_result"
    }
   ],
   "source": [
    "stms[0].regions[0].states"
   ]
  },
  {
   "cell_type": "markdown",
   "id": "86e23011",
   "metadata": {},
   "source": [
    "This concludes our introduction. There is a lot more you can do with the library - feel free to explore the examples collection or create an issue to ask for a specific use-case example and you may see it around pretty soon."
   ]
  }
 ],
 "metadata": {
  "kernelspec": {
   "display_name": "Python 3 (ipykernel)",
   "language": "python",
   "name": "python3"
  },
  "language_info": {
   "codemirror_mode": {
    "name": "ipython",
    "version": 3
   },
   "file_extension": ".py",
   "mimetype": "text/x-python",
   "name": "python",
   "nbconvert_exporter": "python",
   "pygments_lexer": "ipython3",
   "version": "3.8.10"
  }
 },
 "nbformat": 4,
 "nbformat_minor": 5
}
