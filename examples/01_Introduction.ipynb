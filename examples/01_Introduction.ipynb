{
 "cells": [
  {
   "cell_type": "markdown",
   "id": "1a1fe414",
   "metadata": {},
   "source": [
    "# Introduction\n",
    "\n",
    "Welcome to the py-capella-mbse Showcase notebook. This notebook will show you some basic (and not so basic) things that you can get done using this library. For more advanced features have a look around the nearby notebooks.\n",
    "\n",
    "The below code loads the library and one of the test models:"
   ]
  },
  {
   "cell_type": "code",
   "execution_count": 1,
   "id": "3e28d1c9",
   "metadata": {},
   "outputs": [
    {
     "name": "stderr",
     "output_type": "stream",
     "text": [
      "Cannot load PVMT extension: ValueError: Provided model does not have a PropertyValuePkg\n",
      "Property values are not available in this model\n"
     ]
    },
    {
     "data": {
      "text/plain": [
       "<capellambse.model.MelodyModel at 0x7fa8e6ca9160>"
      ]
     },
     "execution_count": 1,
     "metadata": {},
     "output_type": "execute_result"
    }
   ],
   "source": [
    "import capellambse\n",
    "path_to_model = \"../tests/data/melodymodel/5_0/MelodyModelTest.aird\"\n",
    "model = capellambse.MelodyModel(path_to_model)\n",
    "model"
   ]
  },
  {
   "cell_type": "markdown",
   "id": "48ce0c1e",
   "metadata": {},
   "source": [
    "please igonre the warning above - it indicates that we probed the model for PVMT extension and it wasnt there so PVMT-related features will not be available. In some not so distant future this may disapear as we'll be able to inject PVMT into models but for now if you want to use PVMT-related features you need to enable PVMT for that model in Capella.\n",
    "\n",
    "Having said that, lets go to the first practical example of working with the library\n",
    "\n",
    "## Example 1: Actor functions\n",
    "\n",
    "The below code will print every Actor available in the Logical Architecture layer"
   ]
  },
  {
   "cell_type": "code",
   "execution_count": 2,
   "id": "abcd8693",
   "metadata": {
    "scrolled": false
   },
   "outputs": [
    {
     "name": "stdout",
     "output_type": "stream",
     "text": [
      "Prof. A. P. W. B. Dumbledore\n",
      "Prof. S. Snape\n",
      "Harry J. Potter\n",
      "R. Weasley\n",
      "LogicalActor 5\n"
     ]
    }
   ],
   "source": [
    "for actor in model.la.all_actors:\n",
    "    print(actor.name)"
   ]
  },
  {
   "cell_type": "markdown",
   "id": "4ddbf9be",
   "metadata": {},
   "source": [
    "but we could also \"zoom-in\" to an actor of interest:"
   ]
  },
  {
   "cell_type": "code",
   "execution_count": 3,
   "id": "56bb4b44",
   "metadata": {
    "scrolled": true
   },
   "outputs": [
    {
     "data": {
      "text/html": [
       "<h1>LogicalComponent <span style=\"font-size: 70%;\">(org.polarsys.capella.core.data.la:LogicalComponent)</span></h1><table><tr><th style=\"text-align: right;\">components</th><td style=\"text-align: left;\"><p><em>(Empty list)</em></p></td></tr><tr><th style=\"text-align: right;\">constraints</th><td style=\"text-align: left;\"><p><em>(Empty list)</em></p></td></tr><tr><th style=\"text-align: right;\">description</th><td style=\"text-align: left;\"><p>Good guy and teacher of brewing arts.</p>\n",
       "</td></tr><tr><th style=\"text-align: right;\">diagrams</th><td style=\"text-align: left;\"><p><em>(Empty list)</em></p></td></tr><tr><th style=\"text-align: right;\">functions</th><td style=\"text-align: left;\"><ol start=\"0\" style=\"text-align: left;\"><li><strong>LogicalFunction</strong> &quot;Teaching&quot; (a7acb298-d14b-4707-a419-fea272434541)</li><li><strong>LogicalFunction</strong> &quot;Bully Harry&quot; (4a2a7f3c-d223-4d44-94a7-50dd2906a70c)</li></ol></td></tr><tr><th style=\"text-align: right;\">is_abstract</th><td style=\"text-align: left;\"><em>False</em></td></tr><tr><th style=\"text-align: right;\">is_actor</th><td style=\"text-align: left;\"><em>True</em></td></tr><tr><th style=\"text-align: right;\">is_human</th><td style=\"text-align: left;\"><em>True</em></td></tr><tr><th style=\"text-align: right;\">name</th><td style=\"text-align: left;\">Prof. S. Snape</td></tr><tr><th style=\"text-align: right;\">owner</th><td style=\"text-align: left;\"><strong>LogicalComponentPkg</strong> &quot;Structure&quot; (84c0978d-9a32-4f5b-8013-5b0b6adbfd73)</td></tr><tr><th style=\"text-align: right;\">parts</th><td style=\"text-align: left;\"><ol start=\"0\" style=\"text-align: left;\"><li><strong>Part</strong> &quot;Prof. S. Snape&quot; (ccbad61a-39dc-4af8-8199-3fee30de2f1d)</li></ol></td></tr><tr><th style=\"text-align: right;\">ports</th><td style=\"text-align: left;\"><ol start=\"0\" style=\"text-align: left;\"><li><strong>ComponentPort</strong> &quot;CP 1&quot; (b4e39757-b0fd-41ff-a7b8-c9fc36de2ca9)</li></ol></td></tr><tr><th style=\"text-align: right;\">progress_status</th><td style=\"text-align: left;\">NOT_SET</td></tr><tr><th style=\"text-align: right;\">realized_components</th><td style=\"text-align: left;\"><p><em>(Empty list)</em></p></td></tr><tr><th style=\"text-align: right;\">realizing_physical_components</th><td style=\"text-align: left;\"><p><em>(Empty list)</em></p></td></tr><tr><th style=\"text-align: right;\">requirements</th><td style=\"text-align: left;\"><p><em>(Empty list)</em></p></td></tr><tr><th style=\"text-align: right;\">state_machines</th><td style=\"text-align: left;\"><p><em>(Empty list)</em></p></td></tr><tr><th style=\"text-align: right;\">summary</th><td style=\"text-align: left;\"><em>None</em></td></tr><tr><th style=\"text-align: right;\">uuid</th><td style=\"text-align: left;\">6f463eed-c77b-4568-8078-beec0536f243</td></tr><tr><th style=\"text-align: right;\">xtype</th><td style=\"text-align: left;\">org.polarsys.capella.core.data.la:LogicalComponent</td></tr></table>"
      ],
      "text/plain": [
       "<LogicalComponent 'Prof. S. Snape' (6f463eed-c77b-4568-8078-beec0536f243)>"
      ]
     },
     "execution_count": 3,
     "metadata": {},
     "output_type": "execute_result"
    }
   ],
   "source": [
    "model.la.all_actors.by_name(\"Prof. S. Snape\")"
   ]
  },
  {
   "cell_type": "markdown",
   "id": "30e17ac3",
   "metadata": {},
   "source": [
    "we can also turn the above data into a table, for example \"actor function allocation\", using `pandas`"
   ]
  },
  {
   "cell_type": "code",
   "execution_count": 4,
   "id": "833220d0",
   "metadata": {},
   "outputs": [
    {
     "data": {
      "text/html": [
       "<div>\n",
       "<style scoped>\n",
       "    .dataframe tbody tr th:only-of-type {\n",
       "        vertical-align: middle;\n",
       "    }\n",
       "\n",
       "    .dataframe tbody tr th {\n",
       "        vertical-align: top;\n",
       "    }\n",
       "\n",
       "    .dataframe thead th {\n",
       "        text-align: right;\n",
       "    }\n",
       "</style>\n",
       "<table border=\"1\" class=\"dataframe\">\n",
       "  <thead>\n",
       "    <tr style=\"text-align: right;\">\n",
       "      <th></th>\n",
       "      <th>actor</th>\n",
       "      <th>functions</th>\n",
       "    </tr>\n",
       "  </thead>\n",
       "  <tbody>\n",
       "    <tr>\n",
       "      <th>0</th>\n",
       "      <td>Prof. A. P. W. B. Dumbledore</td>\n",
       "      <td>Teaching; Advising Harry</td>\n",
       "    </tr>\n",
       "    <tr>\n",
       "      <th>1</th>\n",
       "      <td>Prof. S. Snape</td>\n",
       "      <td>Teaching; Bully Harry</td>\n",
       "    </tr>\n",
       "    <tr>\n",
       "      <th>2</th>\n",
       "      <td>Harry J. Potter</td>\n",
       "      <td>Being the chosen one</td>\n",
       "    </tr>\n",
       "    <tr>\n",
       "      <th>3</th>\n",
       "      <td>R. Weasley</td>\n",
       "      <td>Assist Harry; Befriend Harry</td>\n",
       "    </tr>\n",
       "    <tr>\n",
       "      <th>4</th>\n",
       "      <td>LogicalActor 5</td>\n",
       "      <td>no functions assigned</td>\n",
       "    </tr>\n",
       "  </tbody>\n",
       "</table>\n",
       "</div>"
      ],
      "text/plain": [
       "                          actor                     functions\n",
       "0  Prof. A. P. W. B. Dumbledore      Teaching; Advising Harry\n",
       "1                Prof. S. Snape         Teaching; Bully Harry\n",
       "2               Harry J. Potter          Being the chosen one\n",
       "3                    R. Weasley  Assist Harry; Befriend Harry\n",
       "4                LogicalActor 5         no functions assigned"
      ]
     },
     "execution_count": 4,
     "metadata": {},
     "output_type": "execute_result"
    }
   ],
   "source": [
    "import pandas as pd\n",
    "\n",
    "data = []\n",
    "for actor in model.la.all_actors:\n",
    "    actor_functions = \"; \".join([function.name for function in actor.functions] or [\"no functions assigned\"])\n",
    "    data.append(dict(actor=actor.name, functions=actor_functions))\n",
    "df = pd.DataFrame(data)\n",
    "df"
   ]
  },
  {
   "cell_type": "markdown",
   "id": "6e04c482",
   "metadata": {},
   "source": [
    "and any `pandas.DataFrame` can always be turned into an Excel Spreadsheet, just like that:"
   ]
  },
  {
   "cell_type": "code",
   "execution_count": 5,
   "id": "10af24a2",
   "metadata": {},
   "outputs": [],
   "source": [
    "df.to_excel(\"01_intro_actor_functions.xlsx\")"
   ]
  },
  {
   "cell_type": "markdown",
   "id": "5370bc56",
   "metadata": {},
   "source": [
    "you can check the resulting file in the folder next to this notebook (right after you run the above cell)\n",
    "\n",
    "Now that we've seen the basics, lets do something visually cool\n",
    "\n",
    "## Example 2: working with diagrams\n",
    "\n",
    "The below code will find some diagrams for us"
   ]
  },
  {
   "cell_type": "code",
   "execution_count": 6,
   "id": "eb5f8747",
   "metadata": {},
   "outputs": [
    {
     "name": "stdout",
     "output_type": "stream",
     "text": [
      "[LAB] Wizzard Education\n",
      "[LAB] School\n",
      "[LAB] Parts\n",
      "[LAB] Deco-Test\n",
      "[LAB] Test Component Port Filter\n"
     ]
    }
   ],
   "source": [
    "for diagram in model.la.diagrams.by_type('LAB'):\n",
    "    print(diagram.name)"
   ]
  },
  {
   "cell_type": "markdown",
   "id": "66609218",
   "metadata": {},
   "source": [
    "we could also check what is visible on a diagram"
   ]
  },
  {
   "cell_type": "code",
   "execution_count": 7,
   "id": "71bf090e",
   "metadata": {},
   "outputs": [
    {
     "name": "stderr",
     "output_type": "stream",
     "text": [
      "Unknown global filter 'hide.sequencing.information.filter'\n",
      "Unknown global filter 'ModelExtensionFilter'\n",
      "Unknown global filter 'hide.simplified.diagram.based.component.exchanges.filter'\n",
      "Unknown global filter 'hide.simplified.oriented.grouped.component.exchanges.filter'\n",
      "Unknown global filter 'hide.simplified.group.of.component.exchanges.filter'\n",
      "Unknown global filter 'VisibleDiagramFilteringCriteria'\n"
     ]
    },
    {
     "data": {
      "text/html": [
       "<div>\n",
       "<style scoped>\n",
       "    .dataframe tbody tr th:only-of-type {\n",
       "        vertical-align: middle;\n",
       "    }\n",
       "\n",
       "    .dataframe tbody tr th {\n",
       "        vertical-align: top;\n",
       "    }\n",
       "\n",
       "    .dataframe thead th {\n",
       "        text-align: right;\n",
       "    }\n",
       "</style>\n",
       "<table border=\"1\" class=\"dataframe\">\n",
       "  <thead>\n",
       "    <tr style=\"text-align: right;\">\n",
       "      <th></th>\n",
       "      <th>Element type</th>\n",
       "      <th>Element names</th>\n",
       "    </tr>\n",
       "  </thead>\n",
       "  <tbody>\n",
       "    <tr>\n",
       "      <th>0</th>\n",
       "      <td>ComponentExchange</td>\n",
       "      <td>Care; Punishment; Miss Abrasion; Teacher Responsibilities; Help for Harry; Learning; Headmaster Responsibilities</td>\n",
       "    </tr>\n",
       "    <tr>\n",
       "      <th>1</th>\n",
       "      <td>ComponentPort</td>\n",
       "      <td>CP 1; CP 3; CP 1; CP 2; CP 5; CP 3; CP 2; CP 1; CP 3; CP 1; CP 2; CP 2; CP 2; CP 1</td>\n",
       "    </tr>\n",
       "    <tr>\n",
       "      <th>2</th>\n",
       "      <td>Constraint</td>\n",
       "      <td>Test constraint where the text is way too long to display this shit; Test constraint where the text is way too long to display this shit</td>\n",
       "    </tr>\n",
       "    <tr>\n",
       "      <th>3</th>\n",
       "      <td>FunctionInputPort</td>\n",
       "      <td>FIP 1; FIP 1; FIP 1; FIP 2; FIP 1; FIP 2</td>\n",
       "    </tr>\n",
       "    <tr>\n",
       "      <th>4</th>\n",
       "      <td>FunctionOutputPort</td>\n",
       "      <td>FOP 2; FOP 1; FOP 1; FOP 1; FOP 1; FOP 1; FOP 1; FOP 1; FOP 1</td>\n",
       "    </tr>\n",
       "    <tr>\n",
       "      <th>5</th>\n",
       "      <td>FunctionalExchange</td>\n",
       "      <td>punish; educate; friendship; assistance; punish; educate; wizardry; educate &amp; mature</td>\n",
       "    </tr>\n",
       "    <tr>\n",
       "      <th>6</th>\n",
       "      <td>LogicalFunction</td>\n",
       "      <td>Being the chosen one; Protect Knowledge; Produce Great Wizzards; Assist Harry; Befriend Harry; Bully Harry; Educate Wizzards; Punish Int...</td>\n",
       "    </tr>\n",
       "    <tr>\n",
       "      <th>7</th>\n",
       "      <td>Part</td>\n",
       "      <td>R. Weasley; Prof. A. P. W. B. Dumbledore; School; Hogwarts; Whomping Willow; Campus; Prof. S. Snape; Harry J. Potter</td>\n",
       "    </tr>\n",
       "    <tr>\n",
       "      <th>8</th>\n",
       "      <td>PortAllocation</td>\n",
       "      <td>(Unnamed org.polarsys.capella.core.data.information:PortAllocation); (Unnamed org.polarsys.capella.core.data.information:PortAllocation)...</td>\n",
       "    </tr>\n",
       "  </tbody>\n",
       "</table>\n",
       "</div>"
      ],
      "text/plain": [
       "         Element type  \\\n",
       "0   ComponentExchange   \n",
       "1       ComponentPort   \n",
       "2          Constraint   \n",
       "3   FunctionInputPort   \n",
       "4  FunctionOutputPort   \n",
       "5  FunctionalExchange   \n",
       "6     LogicalFunction   \n",
       "7                Part   \n",
       "8      PortAllocation   \n",
       "\n",
       "                                                                                                                                 Element names  \n",
       "0                             Care; Punishment; Miss Abrasion; Teacher Responsibilities; Help for Harry; Learning; Headmaster Responsibilities  \n",
       "1                                                           CP 1; CP 3; CP 1; CP 2; CP 5; CP 3; CP 2; CP 1; CP 3; CP 1; CP 2; CP 2; CP 2; CP 1  \n",
       "2     Test constraint where the text is way too long to display this shit; Test constraint where the text is way too long to display this shit  \n",
       "3                                                                                                     FIP 1; FIP 1; FIP 1; FIP 2; FIP 1; FIP 2  \n",
       "4                                                                                FOP 2; FOP 1; FOP 1; FOP 1; FOP 1; FOP 1; FOP 1; FOP 1; FOP 1  \n",
       "5                                                         punish; educate; friendship; assistance; punish; educate; wizardry; educate & mature  \n",
       "6  Being the chosen one; Protect Knowledge; Produce Great Wizzards; Assist Harry; Befriend Harry; Bully Harry; Educate Wizzards; Punish Int...  \n",
       "7                         R. Weasley; Prof. A. P. W. B. Dumbledore; School; Hogwarts; Whomping Willow; Campus; Prof. S. Snape; Harry J. Potter  \n",
       "8  (Unnamed org.polarsys.capella.core.data.information:PortAllocation); (Unnamed org.polarsys.capella.core.data.information:PortAllocation)...  "
      ]
     },
     "execution_count": 7,
     "metadata": {},
     "output_type": "execute_result"
    }
   ],
   "source": [
    "pd.set_option('display.max_colwidth', 140) # so that we could see more text in the table preview\n",
    "\n",
    "diagram = model.diagrams.by_name('[LAB] Wizzard Education')\n",
    "data = []\n",
    "for node in diagram.nodes:  # this also includes edges though :-)\n",
    "    data.append({\n",
    "        \"Element type\": node.xtype.split(':')[-1],\n",
    "        \"Element names\": node.name\n",
    "    })\n",
    "df = pd.DataFrame(data)\n",
    "df.groupby(\"Element type\").agg(lambda x: \"; \".join(x)).reset_index()"
   ]
  },
  {
   "cell_type": "markdown",
   "id": "eaaffccd",
   "metadata": {},
   "source": [
    "And again there are warnings - there are quite a few visual filters in Capella and we are not handling all of those yet but mostly those that are used in our projects. The filter coverage will eventally improve, stay tuned.\n",
    "\n",
    "Oh and by the way, we could also visualize the above diagram as an SVG. We use SVGs a lot since those look great in documentation, are zoomable, even interacive sometimes and really light-weight. But if for whatever reason you need a png or jpeg there are quite a few examples of how to get there on stackoverflow (like [Convert SVG to PNG in Python](https://stackoverflow.com/questions/6589358/convert-svg-to-png-in-python))."
   ]
  },
  {
   "cell_type": "code",
   "execution_count": 8,
   "id": "cc09fd22",
   "metadata": {},
   "outputs": [
    {
     "data": {
      "image/svg+xml": [
       "<svg baseProfile=\"full\" class=\"LogicalArchitectureBlank\" height=\"645\" version=\"1.1\" viewBox=\"250 60 1162 645\" width=\"1162\" xmlns=\"http://www.w3.org/2000/svg\" xmlns:ev=\"http://www.w3.org/2001/xml-events\" xmlns:xlink=\"http://www.w3.org/1999/xlink\"><defs><style>.LogicalArchitectureBlank * { shape-rendering: geometricPrecision; }\n",
       ".LogicalArchitectureBlank text { font-family: \"Segoe UI\"; font-size: 8pt; }\n",
       ".LogicalArchitectureBlank g { cursor: pointer; }\n",
       ".LogicalArchitectureBlank g.Edge &gt; path { fill: none; stroke: rgb(0, 0, 0); }\n",
       ".LogicalArchitectureBlank g.Box &gt; line { stroke: #000000; }\n",
       ".LogicalArchitectureBlank g.Box &gt; rect, .LogicalArchitectureBlank g.Box &gt; use { fill: transparent; stroke: #000000; stroke-width: 1; }\n",
       ".LogicalArchitectureBlank g.Box.Annotation &gt; line { stroke: none; }\n",
       ".LogicalArchitectureBlank g.Box.Annotation &gt; rect, .LogicalArchitectureBlank g.Box.Annotation &gt; use { fill: none; stroke: none; }\n",
       ".LogicalArchitectureBlank g.Box.Constraint &gt; line { stroke: #888888; }\n",
       ".LogicalArchitectureBlank g.Box.Constraint &gt; rect, .LogicalArchitectureBlank g.Box.Constraint &gt; use { fill: #FFF5B5; stroke: #888888; }\n",
       ".LogicalArchitectureBlank g.Box.Constraint &gt; text { fill: #000000; }\n",
       ".LogicalArchitectureBlank g.Box.Note &gt; line { stroke: #FFCC66; }\n",
       ".LogicalArchitectureBlank g.Box.Note &gt; rect, .LogicalArchitectureBlank g.Box.Note &gt; use { fill: #FFFFCB; stroke: #FFCC66; }\n",
       ".LogicalArchitectureBlank g.Box.Note &gt; text { fill: #000000; }\n",
       ".LogicalArchitectureBlank g.Box.Requirement &gt; line { stroke: #72496E; }\n",
       ".LogicalArchitectureBlank g.Box.Requirement &gt; rect, .LogicalArchitectureBlank g.Box.Requirement &gt; use { fill: #D9C4D7; stroke: #72496E; }\n",
       ".LogicalArchitectureBlank g.Box.Requirement &gt; text { fill: #000000; }\n",
       ".LogicalArchitectureBlank g.Box.Text &gt; line { stroke: transparent; }\n",
       ".LogicalArchitectureBlank g.Box.Text &gt; rect, .LogicalArchitectureBlank g.Box.Text &gt; use { stroke: transparent; }\n",
       ".LogicalArchitectureBlank g.Edge &gt; rect { fill: none; stroke: none; }\n",
       ".LogicalArchitectureBlank g.Circle &gt; circle { fill: #000000; stroke: none; }\n",
       ".LogicalArchitectureBlank g.Edge &gt; path { stroke-width: 2; }\n",
       ".LogicalArchitectureBlank g.Edge.Connector &gt; rect { fill: none; stroke: none; }\n",
       ".LogicalArchitectureBlank g.Circle.Connector &gt; circle { fill: #B0B0B0; stroke: none; }\n",
       ".LogicalArchitectureBlank g.Edge.Connector &gt; path { stroke: #B0B0B0; stroke-dasharray: 1; stroke-width: 1; }\n",
       ".LogicalArchitectureBlank g.Edge.Constraint &gt; rect { fill: none; stroke: none; }\n",
       ".LogicalArchitectureBlank g.Circle.Constraint &gt; circle { fill: #000000; stroke: none; }\n",
       ".LogicalArchitectureBlank g.Edge.Constraint &gt; path { stroke: #000000; stroke-dasharray: 1, 3; stroke-width: 1; marker-end: url(#FineArrowMark_000000); stroke-linecap: round; }\n",
       ".LogicalArchitectureBlank g.Edge.Note &gt; rect { fill: none; stroke: none; }\n",
       ".LogicalArchitectureBlank g.Circle.Note &gt; circle { fill: #000000; stroke: none; }\n",
       ".LogicalArchitectureBlank g.Edge.Note &gt; path { stroke: #000000; stroke-dasharray: 1, 3; stroke-width: 1; }\n",
       ".LogicalArchitectureBlank g.Edge.RequirementRelation &gt; rect { fill: none; stroke: none; }\n",
       ".LogicalArchitectureBlank g.Circle.RequirementRelation &gt; circle { fill: #72496E; stroke: none; }\n",
       ".LogicalArchitectureBlank g.Edge.RequirementRelation &gt; path { stroke: #72496E; marker-end: url(#FineArrowMark_72496E); stroke-dasharray: 5; }\n",
       ".LogicalArchitectureBlank g.Edge.RequirementRelation &gt; text { fill: #72496E; }\n",
       ".LogicalArchitectureBlank g.Box.CP_IN &gt; line { stroke: #000000; }\n",
       ".LogicalArchitectureBlank g.Box.CP_IN &gt; rect, .LogicalArchitectureBlank g.Box.CP_IN &gt; use { fill: #FFFFFF; stroke: #000000; }\n",
       ".LogicalArchitectureBlank g.Box.CP_OUT &gt; line { stroke: #000000; }\n",
       ".LogicalArchitectureBlank g.Box.CP_OUT &gt; rect, .LogicalArchitectureBlank g.Box.CP_OUT &gt; use { fill: #FFFFFF; stroke: #000000; }\n",
       ".LogicalArchitectureBlank g.Box.CP_INOUT &gt; line { stroke: #000000; }\n",
       ".LogicalArchitectureBlank g.Box.CP_INOUT &gt; rect, .LogicalArchitectureBlank g.Box.CP_INOUT &gt; use { fill: #FFFFFF; stroke: #000000; }\n",
       ".LogicalArchitectureBlank g.Box.CP_UNSET &gt; rect, .LogicalArchitectureBlank g.Box.CP_UNSET &gt; use { fill: url(\"#.CP_UNSETFillGradient\"); }\n",
       ".LogicalArchitectureBlank g.Box.FIP &gt; rect, .LogicalArchitectureBlank g.Box.FIP &gt; use { fill: #E08503; stroke-width: 0; }\n",
       ".LogicalArchitectureBlank g.Box.FOP &gt; rect, .LogicalArchitectureBlank g.Box.FOP &gt; use { fill: #095C2E; stroke-width: 0; }\n",
       ".LogicalArchitectureBlank g.Box.LogicalActor &gt; line { stroke: #4A4A97; }\n",
       ".LogicalArchitectureBlank g.Box.LogicalActor &gt; rect, .LogicalArchitectureBlank g.Box.LogicalActor &gt; use { fill: url(\"#.LogicalActorFillGradient\"); stroke: #4A4A97; }\n",
       ".LogicalArchitectureBlank g.Box.LogicalActor &gt; text { fill: #000000; }\n",
       ".LogicalArchitectureBlank g.Box.LogicalComponent &gt; line { stroke: #4A4A97; }\n",
       ".LogicalArchitectureBlank g.Box.LogicalComponent &gt; rect, .LogicalArchitectureBlank g.Box.LogicalComponent &gt; use { fill: url(\"#.LogicalComponentFillGradient\"); stroke: #4A4A97; }\n",
       ".LogicalArchitectureBlank g.Box.LogicalComponent &gt; text { fill: #4A4A97; }\n",
       ".LogicalArchitectureBlank g.Box.LogicalHumanActor &gt; line { stroke: #4A4A97; }\n",
       ".LogicalArchitectureBlank g.Box.LogicalHumanActor &gt; rect, .LogicalArchitectureBlank g.Box.LogicalHumanActor &gt; use { fill: url(\"#.LogicalHumanActorFillGradient\"); stroke: #4A4A97; }\n",
       ".LogicalArchitectureBlank g.Box.LogicalHumanActor &gt; text { fill: #4A4A97; }\n",
       ".LogicalArchitectureBlank g.Box.LogicalHumanComponent &gt; line { stroke: #4A4A97; }\n",
       ".LogicalArchitectureBlank g.Box.LogicalHumanComponent &gt; rect, .LogicalArchitectureBlank g.Box.LogicalHumanComponent &gt; use { fill: url(\"#.LogicalHumanComponentFillGradient\"); stroke: #4A4A97; }\n",
       ".LogicalArchitectureBlank g.Box.LogicalHumanComponent &gt; text { fill: #4A4A97; }\n",
       ".LogicalArchitectureBlank g.Box.LogicalFunction &gt; line { stroke: #095C2E; }\n",
       ".LogicalArchitectureBlank g.Box.LogicalFunction &gt; rect, .LogicalArchitectureBlank g.Box.LogicalFunction &gt; use { fill: #C5FFA6; stroke: #095C2E; }\n",
       ".LogicalArchitectureBlank g.Box.LogicalFunction &gt; text { fill: #095C2E; }\n",
       ".LogicalArchitectureBlank g.Edge.FunctionalExchange &gt; rect { fill: none; stroke: none; }\n",
       ".LogicalArchitectureBlank g.Circle.FunctionalExchange &gt; circle { fill: #095C2E; stroke: none; }\n",
       ".LogicalArchitectureBlank g.Edge.FunctionalExchange &gt; path { stroke: #095C2E; }\n",
       ".LogicalArchitectureBlank g.Edge.FunctionalExchange &gt; text { fill: #095C2E; }\n",
       ".LogicalArchitectureBlank g.Edge.ComponentExchange &gt; rect { fill: none; stroke: none; }\n",
       ".LogicalArchitectureBlank g.Circle.ComponentExchange &gt; circle { fill: #4A4A97; stroke: none; }\n",
       ".LogicalArchitectureBlank g.Edge.ComponentExchange &gt; path { stroke: #4A4A97; }\n",
       ".LogicalArchitectureBlank g.Edge.ComponentExchange &gt; text { fill: #4A4A97; }\n",
       ".LogicalArchitectureBlank g.Edge.FIPAllocation &gt; rect { fill: none; stroke: none; }\n",
       ".LogicalArchitectureBlank g.Circle.FIPAllocation &gt; circle { fill: #E08503; stroke: none; }\n",
       ".LogicalArchitectureBlank g.Edge.FIPAllocation &gt; path { stroke: #E08503; stroke-dasharray: 5; }\n",
       ".LogicalArchitectureBlank g.Edge.FOPAllocation &gt; rect { fill: none; stroke: none; }\n",
       ".LogicalArchitectureBlank g.Circle.FOPAllocation &gt; circle { fill: #095C2E; stroke: none; }\n",
       ".LogicalArchitectureBlank g.Edge.FOPAllocation &gt; path { stroke: #095C2E; stroke-dasharray: 5; }\n",
       "</style><symbol id=\"ErrorSymbol\" viewBox=\"0 0 2.6458 2.6458\"><path d=\"M 0,0 2.6458333,2.6458333 M 0,2.6458333 2.6458333,0\" style=\"fill: none; stroke: red; stroke-width: 0.5;\" /></symbol><symbol id=\"RequirementSymbol\" style=\"stroke: none;\" viewBox=\"0 0 50 50\"><path d=\"M 12.806813,6.5702324 A 6.244379,5.8113241 0 0 1 6.5624342,12.381557 6.244379,5.8113241 0 0 1 0.31805515,6.5702324 6.244379,5.8113241 0 0 1 6.5624342,0.75890827 6.244379,5.8113241 0 0 1 12.806813,6.5702324 Z\" style=\"fill: #431964\" /><path d=\"m 4.3228658,5.8752475 h 2.9514721 q 0.2945581,0 0.5184223,-0.1413879 Q 8.0225155,5.5865806 8.1462299,5.3214783 8.2699443,5.056376 8.2758355,4.7029063 v 0 q 0,-0.3475786 -0.1237144,-0.6126808 Q 8.0284067,3.8251232 7.7986513,3.6837353 7.5747872,3.5364562 7.2743379,3.5364562 H 4.3228658 V 2.1873801 h 2.9927103 q 0.7246129,0 1.2724909,0.3122316 0.5478781,0.3122316 0.8483274,0.8836743 0.3063404,0.5714427 0.3063404,1.3196203 v 0 q 0,0.7540687 -0.3063404,1.3255114 Q 9.1359451,6.5998605 8.5821759,6.912092 8.0342978,7.2243236 7.3155761,7.2243236 H 4.3228658 Z M 3.7396407,2.1873801 H 5.1476285 V 10.759021 H 3.7396407 Z M 6.3906636,6.9592213 7.8516718,6.6882279 10.102096,10.759021 H 8.4113322 Z\" style=\"fill:#ffffff;\" /></symbol><symbol id=\"ComponentPortSymbol\" viewBox=\"0 0 10 10\"><path d=\"M0 0h10v10H0z\" /><path d=\"M 2,2 5,7 8,2\" /></symbol><symbol id=\"LogicalActorSymbol\" style=\"stroke: #000; stroke-width: 2;\" viewBox=\"0 0 79 79\"><linearGradient id=\"ls-blue\" x1=\"0\" x2=\"0\" y1=\"0\" y2=\"1\"><stop offset=\"0.0\" stop-color=\"#c3e4ff\" stop-opacity=\"1\" /><stop offset=\"1.0\" stop-color=\"#98b0dd\" stop-opacity=\"1\" /></linearGradient><path d=\"M18 237h46v43H18z\" style=\"fill: url(#ls-blue)\" transform=\"translate(0 -218)\" /><path d=\"M12 247h11v8H12z\" style=\"fill: url(#ls-blue)\" transform=\"translate(0 -218)\" /><path d=\"M12 261h11v8H12z\" style=\"fill: url(#ls-blue)\" transform=\"translate(0 -218)\" /><g style=\"fill: #000;\" transform=\"scale(0.83010896,1.2046611)\"><path d=\"m 31.063676,19.942628 h 3.754427 v 26.759494 h -3.754427 z m 1.877213,23.189107 h 15.312173 v 3.570387 H 32.940889 Z\" /><path d=\"m 60.32612,19.942628 h 3.202306 l 9.864572,26.759494 H 69.344107 L 61.927273,25.114167 54.51044,46.702122 H 50.461548 Z M 55.007349,37.260842 H 69.08645 v 3.570387 H 55.007349 Z\" /></g></symbol><symbol id=\"LogicalComponentSymbol\" style=\"stroke: #000; stroke-width: 2;\" viewBox=\"0 0 79 79\"><linearGradient id=\"ls-blue\" x1=\"0\" x2=\"0\" y1=\"0\" y2=\"1\"><stop offset=\"0.0\" stop-color=\"#c3e4ff\" stop-opacity=\"1\" /><stop offset=\"1.0\" stop-color=\"#98b0dd\" stop-opacity=\"1\" /></linearGradient><path d=\"M18 237h46v43H18z\" style=\"fill: url(#ls-blue)\" transform=\"translate(0 -218)\" /><path d=\"M12 247h11v8H12z\" style=\"fill: url(#ls-blue)\" transform=\"translate(0 -218)\" /><path d=\"M12 261h11v8H12z\" style=\"fill: url(#ls-blue)\" transform=\"translate(0 -218)\" /><g transform=\"scale(0.90705135,1.1024734)\"><path d=\"m 37.427456,20.821353 h 4.221475 V 50.90971 H 37.427456 Z M 39.538194,46.89517 H 56.75519 v 4.01454 H 39.538194 Z\" style=\"fill: #000;\" /></g></symbol><symbol id=\"LogicalFunctionSymbol\" viewBox=\"0 0 79 79\"><radialGradient cx=\"42.2\" cy=\"32\" fx=\"42.2\" fy=\"32\" gradientTransform=\"matrix(1 0 0 0.7 0 11.3)\" gradientUnits=\"userSpaceOnUse\" id=\"b\" r=\"22.6\" xlink:href=\"#a\"><stop offset=\"0\" stop-color=\"#f0f8ee\" /><stop offset=\"1\" stop-color=\"#7dc56c\" /></radialGradient><ellipse cx=\"42.2\" cy=\"32\" rx=\"22.5\" ry=\"15.5\" style=\"fill: url(#b); stroke: #000; stroke-width: 2;\" /><text style=\"font-family: &quot;Segoe UI&quot;; font-size: 12pt; font-weight: bold; fill: black; stroke: none;\" text-anchor=\"middle\" x=\"42.2\" y=\"38\">LF</text></symbol><symbol id=\"LogicalHumanActorSymbol\" style=\"stroke: #000; stroke-width: 2;\" viewBox=\"0 0 79 79\"><use transform=\"matrix(0.81762456,0,0,0.81762456,-2.5207584,0.47091696)\" xlink:href=\"#StickFigureSymbol\" /></symbol><symbol id=\"LogicalHumanComponentSymbol\" style=\"stroke: #000; stroke-width: 2;\" viewBox=\"0 0 79 79\"><linearGradient id=\"ls-blue\" x1=\"0\" x2=\"0\" y1=\"0\" y2=\"1\"><stop offset=\"0.0\" stop-color=\"#c3e4ff\" stop-opacity=\"1\" /><stop offset=\"1.0\" stop-color=\"#98b0dd\" stop-opacity=\"1\" /></linearGradient><path d=\"M18 237h46v43H18z\" style=\"fill: url(#ls-blue)\" transform=\"translate(0 -218)\" /><path d=\"M12 247h11v8H12z\" style=\"fill: url(#ls-blue)\" transform=\"translate(0 -218)\" /><path d=\"M12 261h11v8H12z\" style=\"fill: url(#ls-blue)\" transform=\"translate(0 -218)\" /><use transform=\"matrix(0.62,0,0,0.62,23.82,16.51)\" xlink:href=\"#StickFigureSymbol\" /></symbol><symbol id=\"PortSymbol\" viewBox=\"0 0 10 10\"><path d=\"M0 0h10v10H0z\" /><path d=\"M5 1L1 9h8z\" fill=\"#fff\" /></symbol><symbol id=\"StickFigureSymbol\" style=\"stroke: #000; stroke-width: 2;\" viewBox=\"362.861 210.892 75 75\"><g style=\"stroke-width: 2.4944; stroke: #000;\" transform=\"matrix(1.0611338,0,0,1.0611338,-24.47665,-12.241673)\"><line style=\"fill: none;\" x1=\"400.362\" x2=\"400.362\" y1=\"232.586\" y2=\"257.534\" /><line style=\"fill: none;\" x1=\"400.83401\" x2=\"388.423\" y1=\"254.299\" y2=\"275.009\" /><line style=\"fill: none;\" x1=\"400.25201\" x2=\"413.97\" y1=\"254.46001\" y2=\"274.987\" /><line style=\"fill: none;\" x1=\"385.634\" x2=\"415.703\" y1=\"244.569\" y2=\"244.49699\" /><radialGradient cx=\"43.766102\" cy=\"87.902298\" fx=\"0\" fy=\"0\" gradientTransform=\"matrix(1.9728 0 0 -2.039 314.1896 402.5936)\" gradientUnits=\"userSpaceOnUse\" id=\"head\" r=\"4.4296999\"><stop offset=\"0\" stop-color=\"#FDFCFA\" /><stop offset=\"1\" stop-color=\"#8B9BA7\" /></radialGradient><ellipse cx=\"400.53201\" cy=\"223.35899\" rx=\"9.2180004\" ry=\"8.5080004\" style=\"fill:url(#head)\" /></g></symbol><symbol id=\"FunctionalExchangeSymbol\" viewBox=\"0 0 40 30\"><linearGradient id=\"FunctionalExchangeSymbol-gradient\" x1=\"0\" x2=\"1\" y1=\"0\" y2=\"1\"><stop offset=\"0.0\" stop-color=\"#4F7C45\" stop-opacity=\"1\" /><stop offset=\"1.0\" stop-color=\"#BCDDB4\" stop-opacity=\"1\" /></linearGradient><linearGradient id=\"FunctionalExchangeSymbol-gradientreverse\" x1=\"0\" x2=\"1\" y1=\"0\" y2=\"1\"><stop offset=\"0.0\" stop-color=\"#BCDDB4\" stop-opacity=\"1\" /><stop offset=\"1.0\" stop-color=\"#4F7C45\" stop-opacity=\"1\" /></linearGradient><g style=\"stroke:#000;stroke-width:2;\"><path d=\"M 36.190065,5.0377724 V 24.962228 H 26.17482 V 5.0377724 Z\" style=\"fill: url(#FunctionalExchangeSymbol-gradientreverse)\" /><path d=\"m 14.372107,10 h 12.622435 c 0.926189,0.585267 1.836022,1.274509 2.268178,5 -0.208657,2.812473 -0.954601,4.503809 -2.273297,5 H 14.296948\" style=\"fill: #61c34c\" /><path d=\"M 3.9464908,5.0048246 V 24.995175 H 10.87518 C 12.433713,24.159139 15.158267,20.291241 15.313795,15 15.498614,11.583142 14.059659,6.6240913 10.87518,5.0048246 c -2.2179509,0 -4.5908341,0 -6.9286892,0 z\" style=\"fill: url(#FunctionalExchangeSymbol-gradient)\" /></g></symbol><symbol id=\"ComponentExchangeSymbol\" viewBox=\"0 0 40 30\"><linearGradient id=\"ComponentExchangeSymbol-gradient\" x1=\"0\" x2=\"1\" y1=\"0\" y2=\"1\"><stop offset=\"0.0\" stop-color=\"#8FA5B6\" stop-opacity=\"1\" /><stop offset=\"1.0\" stop-color=\"#E0E9F3\" stop-opacity=\"1\" /></linearGradient><linearGradient id=\"ComponentExchangeSymbol-gradientreverse\" x1=\"0\" x2=\"1\" y1=\"0\" y2=\"1\"><stop offset=\"0.0\" stop-color=\"#E0E9F3\" stop-opacity=\"1\" /><stop offset=\"1.0\" stop-color=\"#8FA5B6\" stop-opacity=\"1\" /></linearGradient><g style=\"stroke:#000;stroke-width:2;\"><path d=\"M 36.190065,5.0377724 V 24.962228 H 26.17482 V 5.0377724 Z\" style=\"fill: url(#ComponentExchangeSymbol-gradientreverse)\" /><path d=\"m 14.372107,10 h 12.622435 c 0.926189,0.585267 1.836022,1.274509 2.268178,5 -0.208657,2.812473 -0.954601,4.503809 -2.273297,5 H 14.296948\" style=\"fill: #A3BCD0\" /><path d=\"M 3.9464908,5.0048246 V 24.995175 H 10.87518 C 12.433713,24.159139 15.158267,20.291241 15.313795,15 15.498614,11.583142 14.059659,6.6240913 10.87518,5.0048246 c -2.2179509,0 -4.5908341,0 -6.9286892,0 z\" style=\"fill: url(#ComponentExchangeSymbol-gradient)\" /></g></symbol><linearGradient id=\".CP_UNSETFillGradient\" x1=\"0%\" x2=\"0%\" y1=\"0%\" y2=\"100%\"><stop offset=\"0\" stop-color=\"#EF2929\" /><stop offset=\"1\" stop-color=\"#FFFFFF\" /></linearGradient><linearGradient id=\".LogicalActorFillGradient\" x1=\"0%\" x2=\"0%\" y1=\"0%\" y2=\"100%\"><stop offset=\"0\" stop-color=\"#DAFDFF\" /><stop offset=\"1\" stop-color=\"#C6E6FF\" /></linearGradient><linearGradient id=\".LogicalComponentFillGradient\" x1=\"0%\" x2=\"0%\" y1=\"0%\" y2=\"100%\"><stop offset=\"0\" stop-color=\"#C3E6FF\" /><stop offset=\"1\" stop-color=\"#96B1DA\" /></linearGradient><linearGradient id=\".LogicalHumanActorFillGradient\" x1=\"0%\" x2=\"0%\" y1=\"0%\" y2=\"100%\"><stop offset=\"0\" stop-color=\"#C3E6FF\" /><stop offset=\"1\" stop-color=\"#96B1DA\" /></linearGradient><linearGradient id=\".LogicalHumanComponentFillGradient\" x1=\"0%\" x2=\"0%\" y1=\"0%\" y2=\"100%\"><stop offset=\"0\" stop-color=\"#C3E6FF\" /><stop offset=\"1\" stop-color=\"#96B1DA\" /></linearGradient><linearGradient id=\"CustomGradient_DAFDFF_C6E6FF\" x1=\"0\" x2=\"0\" y1=\"0\" y2=\"1\"><stop offset=\"0.0\" stop-color=\"#DAFDFF\" stop-opacity=\"1\" /><stop offset=\"1.0\" stop-color=\"#C6E6FF\" stop-opacity=\"1\" /></linearGradient><marker id=\"FineArrowMark_000000\" markerHeight=\"15\" markerUnits=\"userSpaceOnUse\" markerWidth=\"15\" orient=\"auto\" refX=\"14\" refY=\"7\"><path d=\"M 0.90706313,0.21449614 14.619528,7.2414781 0.98360138,14.814827 0.2888162,14.139896 12.829523,7.2633468 0.27291254,0.95838308 Z\" style=\"marker-end: url(&quot;#FineArrowMark_000000&quot;); fill: #000000; stroke: #000000; stroke-width: 1\" /></marker></defs><rect fill=\"white\" height=\"645\" stroke=\"none\" width=\"1162\" x=\"250\" y=\"60\" /><g class=\"Box LogicalComponent\" id=\"_dqPI4LB8EeqLtsTDMgEHBw\"><rect class=\"LogicalComponent\" height=\"591\" width=\"411\" x=\"590.5\" y=\"70.5\" /><text class=\"LogicalComponent\" dominant-baseline=\"middle\" text-anchor=\"start\" x=\"590\" y=\"70\"><tspan x=\"779.7857142857142\" xml:space=\"preserve\" y=\"80.71428571428571\">Hogwarts</tspan></text><use height=\"20\" width=\"20\" x=\"757.7857142857142\" xlink:href=\"#LogicalComponentSymbol\" y=\"70.71428571428571\" /></g><g class=\"Box LogicalFunction\" id=\"_GHiygMECEeqW8_YksX3uDg\"><rect class=\"LogicalFunction\" height=\"50\" width=\"131\" x=\"620.5\" y=\"559.5\" /><text class=\"LogicalFunction\" dominant-baseline=\"middle\" text-anchor=\"middle\" x=\"620\" y=\"559\"><tspan x=\"685.5\" xml:space=\"preserve\" y=\"579.0\">Produce Great</tspan><tspan x=\"685.5\" xml:space=\"preserve\" y=\"589.0\">Wizzards</tspan></text><use height=\"20\" width=\"20\" x=\"629.0714285714286\" xlink:href=\"#LogicalFunctionSymbol\" y=\"574.0\" /></g><g class=\"Box FOP\"><use class=\"FOP\" height=\"10\" transform=\"rotate(90 748.5 585.5)\" width=\"10\" x=\"743.5\" xlink:href=\"#PortSymbol\" y=\"580.5\" /></g><g class=\"Box FIP\"><use class=\"FIP\" height=\"10\" transform=\"rotate(90 623.5 585.5)\" width=\"10\" x=\"618.5\" xlink:href=\"#PortSymbol\" y=\"580.5\" /></g><g class=\"Box LogicalFunction\" id=\"_IrIUIMEDEeqW8_YksX3uDg\"><rect class=\"LogicalFunction\" height=\"50\" width=\"100\" x=\"850.5\" y=\"559.5\" /><text class=\"LogicalFunction\" dominant-baseline=\"middle\" text-anchor=\"middle\" x=\"850\" y=\"559\"><tspan x=\"900.0\" xml:space=\"preserve\" y=\"577.5714285714286\">Protect</tspan><tspan x=\"900.0\" xml:space=\"preserve\" y=\"589.0\">Knowledge</tspan></text><use height=\"20\" width=\"20\" x=\"850.7142857142857\" xlink:href=\"#LogicalFunctionSymbol\" y=\"574.0\" /></g><g class=\"Box FIP\"><use class=\"FIP\" height=\"10\" transform=\"rotate(90 853.5 585.5)\" width=\"10\" x=\"848.5\" xlink:href=\"#PortSymbol\" y=\"580.5\" /></g><g class=\"Box LogicalComponent\" id=\"_8EyHIMZyEeqlbN5fRfdrWQ\"><rect class=\"LogicalComponent\" height=\"421\" width=\"231\" x=\"675.5\" y=\"104.5\" /><text class=\"LogicalComponent\" dominant-baseline=\"middle\" text-anchor=\"start\" x=\"675\" y=\"104\"><tspan x=\"779.0714285714286\" xml:space=\"preserve\" y=\"114.71428571428571\">Campus</tspan></text><use height=\"20\" width=\"20\" x=\"757.0714285714286\" xlink:href=\"#LogicalComponentSymbol\" y=\"104.71428571428571\" /></g><g class=\"Box LogicalComponent\" id=\"_parwwLB_EeqLtsTDMgEHBw\"><rect class=\"LogicalComponent\" height=\"94\" width=\"191\" x=\"690.5\" y=\"125.5\" /><text class=\"LogicalComponent\" dominant-baseline=\"middle\" text-anchor=\"start\" x=\"690\" y=\"125\"><tspan x=\"777.6428571428571\" xml:space=\"preserve\" y=\"135.0\">School</tspan></text><use height=\"20\" width=\"20\" x=\"755.6428571428571\" xlink:href=\"#LogicalComponentSymbol\" y=\"125.0\" /></g><g class=\"Box LogicalFunction\" id=\"_ilRGMLCBEeqLtsTDMgEHBw\"><rect class=\"LogicalFunction\" height=\"41\" width=\"141\" x=\"720.5\" y=\"157.5\" /><text class=\"LogicalFunction\" dominant-baseline=\"middle\" text-anchor=\"middle\" x=\"720\" y=\"157\"><tspan x=\"790.5\" xml:space=\"preserve\" y=\"177.5\">Educate Wizzards</tspan></text><use height=\"20\" width=\"20\" x=\"724.7857142857143\" xlink:href=\"#LogicalFunctionSymbol\" y=\"167.5\" /></g><g class=\"Box FIP\"><use class=\"FIP\" height=\"10\" transform=\"rotate(90 723.5 183.5)\" width=\"10\" x=\"718.5\" xlink:href=\"#PortSymbol\" y=\"178.5\" /></g><g class=\"Box FOP\"><use class=\"FOP\" height=\"10\" transform=\"rotate(90 858.5 186.5)\" width=\"10\" x=\"853.5\" xlink:href=\"#PortSymbol\" y=\"181.5\" /></g><g class=\"Box CP_UNSET\"><rect class=\"CP_UNSET\" height=\"10\" transform=\"rotate(-90 878.5 154.5)\" width=\"10\" x=\"873.5\" y=\"149.5\" /></g><g class=\"Box CP_OUT\"><use class=\"CP_OUT\" height=\"10\" transform=\"rotate(0 796.5 216.5)\" width=\"10\" x=\"791.5\" xlink:href=\"#ComponentPortSymbol\" y=\"211.5\" /></g><g class=\"Box LogicalHumanComponent\" id=\"_BkQ1ULB_EeqLtsTDMgEHBw\"><rect class=\"LogicalHumanComponent\" height=\"104\" width=\"191\" x=\"690.5\" y=\"395.5\" /><text class=\"LogicalHumanComponent\" dominant-baseline=\"middle\" text-anchor=\"start\" x=\"690\" y=\"395\"><tspan x=\"747.6428571428571\" xml:space=\"preserve\" y=\"405.7142857142857\">Whomping Willow</tspan></text><use height=\"20\" width=\"20\" x=\"725.6428571428571\" xlink:href=\"#LogicalHumanComponentSymbol\" y=\"395.7142857142857\" /></g><g class=\"Box LogicalFunction\" id=\"_otKRgLCBEeqLtsTDMgEHBw\"><rect class=\"LogicalFunction\" height=\"51\" width=\"141\" x=\"710.5\" y=\"427.5\" /><text class=\"LogicalFunction\" dominant-baseline=\"middle\" text-anchor=\"middle\" x=\"710\" y=\"427\"><tspan x=\"780.5\" xml:space=\"preserve\" y=\"452.5\">Punish Intruders</tspan></text><use height=\"20\" width=\"20\" x=\"717.6428571428571\" xlink:href=\"#LogicalFunctionSymbol\" y=\"442.5\" /></g><g class=\"Box FOP\"><use class=\"FOP\" height=\"10\" transform=\"rotate(90 848.5 453.5)\" width=\"10\" x=\"843.5\" xlink:href=\"#PortSymbol\" y=\"448.5\" /></g><g class=\"Box CP_OUT\"><use class=\"CP_OUT\" height=\"10\" transform=\"rotate(-90 878.5 434.5)\" width=\"10\" x=\"873.5\" xlink:href=\"#ComponentPortSymbol\" y=\"429.5\" /></g><g class=\"Box CP_OUT\"><use class=\"CP_OUT\" height=\"10\" transform=\"rotate(-90 878.5 475.5)\" width=\"10\" x=\"873.5\" xlink:href=\"#ComponentPortSymbol\" y=\"470.5\" /></g><g class=\"Box CP_IN\"><use class=\"CP_IN\" height=\"10\" transform=\"rotate(0 796.5 398.5)\" width=\"10\" x=\"791.5\" xlink:href=\"#ComponentPortSymbol\" y=\"393.5\" /></g><g class=\"Box CP_IN\"><use class=\"CP_IN\" height=\"10\" transform=\"rotate(270 593.5 186.5)\" width=\"10\" x=\"588.5\" xlink:href=\"#ComponentPortSymbol\" y=\"181.5\" /></g><g class=\"Box CP_IN\"><use class=\"CP_IN\" height=\"10\" transform=\"rotate(270 593.5 476.5)\" width=\"10\" x=\"588.5\" xlink:href=\"#ComponentPortSymbol\" y=\"471.5\" /></g><g class=\"Box LogicalHumanActor\" id=\"_WUfYcLB-EeqLtsTDMgEHBw\"><rect class=\"LogicalHumanActor\" height=\"171\" style=\"fill: url(&quot;#CustomGradient_DAFDFF_C6E6FF&quot;)\" width=\"158\" x=\"260.5\" y=\"80.5\" /><text class=\"LogicalHumanActor\" dominant-baseline=\"middle\" text-anchor=\"start\" x=\"260\" y=\"80\"><tspan x=\"310.42857142857144\" xml:space=\"preserve\" y=\"90.71428571428571\">Prof. A. P. W. B.</tspan><tspan x=\"310.42857142857144\" xml:space=\"preserve\" y=\"102.14285714285714\">Dumbledore</tspan></text><use height=\"20\" width=\"20\" x=\"288.42857142857144\" xlink:href=\"#LogicalHumanActorSymbol\" y=\"86.42857142857143\" /></g><g class=\"Box LogicalFunction\" id=\"_HyCUQLCBEeqLtsTDMgEHBw\"><rect class=\"LogicalFunction\" height=\"50\" width=\"91\" x=\"280.5\" y=\"129.5\" /><text class=\"LogicalFunction\" dominant-baseline=\"middle\" text-anchor=\"middle\" x=\"280\" y=\"129\"><tspan x=\"325.5\" xml:space=\"preserve\" y=\"154.0\">Teaching</tspan></text><use height=\"20\" width=\"20\" x=\"281.92857142857144\" xlink:href=\"#LogicalFunctionSymbol\" y=\"144.0\" /></g><g class=\"Box FOP\"><use class=\"FOP\" height=\"10\" transform=\"rotate(90 368.5 155.5)\" width=\"10\" x=\"363.5\" xlink:href=\"#PortSymbol\" y=\"150.5\" /></g><g class=\"Box LogicalFunction\" id=\"_RCi2ULCBEeqLtsTDMgEHBw\"><rect class=\"LogicalFunction\" height=\"50\" width=\"91\" x=\"280.5\" y=\"189.5\" /><text class=\"LogicalFunction\" dominant-baseline=\"middle\" text-anchor=\"middle\" x=\"280\" y=\"189\"><tspan x=\"325.5\" xml:space=\"preserve\" y=\"208.2857142857143\">Advising</tspan><tspan x=\"325.5\" xml:space=\"preserve\" y=\"219.71428571428572\">Harry</tspan></text><use height=\"20\" width=\"20\" x=\"283.35714285714283\" xlink:href=\"#LogicalFunctionSymbol\" y=\"204.0\" /></g><g class=\"Box FOP\"><use class=\"FOP\" height=\"10\" transform=\"rotate(90 368.5 215.5)\" width=\"10\" x=\"363.5\" xlink:href=\"#PortSymbol\" y=\"210.5\" /></g><g class=\"Box CP_OUT\"><use class=\"CP_OUT\" height=\"10\" transform=\"rotate(-90 415.5 186.5)\" width=\"10\" x=\"410.5\" xlink:href=\"#ComponentPortSymbol\" y=\"181.5\" /></g><g class=\"Box LogicalHumanActor\" id=\"_4CrKULB-EeqLtsTDMgEHBw\"><rect class=\"LogicalHumanActor\" height=\"221\" style=\"fill: url(&quot;#CustomGradient_DAFDFF_C6E6FF&quot;)\" width=\"158\" x=\"260.5\" y=\"360.5\" /><text class=\"LogicalHumanActor\" dominant-baseline=\"middle\" text-anchor=\"start\" x=\"260\" y=\"360\"><tspan x=\"314.0\" xml:space=\"preserve\" y=\"371.42857142857144\">Prof. S. Snape</tspan></text><use height=\"20\" width=\"20\" x=\"292.0\" xlink:href=\"#LogicalHumanActorSymbol\" y=\"361.42857142857144\" /></g><g class=\"Box LogicalFunction\" id=\"_aDTsMrCBEeqLtsTDMgEHBw\"><rect class=\"LogicalFunction\" height=\"54\" width=\"91\" x=\"280.5\" y=\"399.5\" /><text class=\"LogicalFunction\" dominant-baseline=\"middle\" text-anchor=\"middle\" x=\"280\" y=\"399\"><tspan x=\"325.5\" xml:space=\"preserve\" y=\"426.0\">Teaching</tspan></text><use height=\"20\" width=\"20\" x=\"281.92857142857144\" xlink:href=\"#LogicalFunctionSymbol\" y=\"416.0\" /></g><g class=\"Box FOP\"><use class=\"FOP\" height=\"10\" transform=\"rotate(90 368.5 415.5)\" width=\"10\" x=\"363.5\" xlink:href=\"#PortSymbol\" y=\"410.5\" /></g><g class=\"Box LogicalFunction\" id=\"_fUFCQLCBEeqLtsTDMgEHBw\"><rect class=\"LogicalFunction\" height=\"81\" width=\"91\" x=\"280.5\" y=\"469.5\" /><text class=\"LogicalFunction\" dominant-baseline=\"middle\" text-anchor=\"middle\" x=\"280\" y=\"469\"><tspan x=\"325.5\" xml:space=\"preserve\" y=\"509.5\">Bully Harry</tspan></text><use height=\"20\" width=\"20\" x=\"278\" xlink:href=\"#LogicalFunctionSymbol\" y=\"499.5\" /></g><g class=\"Box FOP\"><use class=\"FOP\" height=\"10\" transform=\"rotate(90 368.5 485.5)\" width=\"10\" x=\"363.5\" xlink:href=\"#PortSymbol\" y=\"480.5\" /></g><g class=\"Box CP_OUT\"><use class=\"CP_OUT\" height=\"10\" transform=\"rotate(-90 415.5 476.5)\" width=\"10\" x=\"410.5\" xlink:href=\"#ComponentPortSymbol\" y=\"471.5\" /></g><g class=\"Box LogicalActor\" id=\"_yCkzoLB_EeqLtsTDMgEHBw\"><rect class=\"LogicalActor\" height=\"131\" width=\"200\" x=\"1202.5\" y=\"70.5\" /><text class=\"LogicalActor\" dominant-baseline=\"middle\" text-anchor=\"start\" x=\"1202\" y=\"70\"><tspan x=\"1275.5714285714287\" xml:space=\"preserve\" y=\"80.71428571428571\">Harry J. Potter</tspan></text><use height=\"20\" width=\"20\" x=\"1253.5714285714287\" xlink:href=\"#LogicalActorSymbol\" y=\"70.71428571428571\" /></g><g class=\"Box LogicalFunction\" id=\"_nccmwMTpEeqlbN5fRfdrWQ\"><rect class=\"LogicalFunction\" height=\"61\" width=\"110\" x=\"1242.5\" y=\"99.5\" /><text class=\"LogicalFunction\" dominant-baseline=\"middle\" text-anchor=\"middle\" x=\"1242\" y=\"99\"><tspan x=\"1297.0\" xml:space=\"preserve\" y=\"123.78571428571428\">Being the</tspan><tspan x=\"1297.0\" xml:space=\"preserve\" y=\"135.2142857142857\">chosen one</tspan></text><use height=\"20\" width=\"20\" x=\"1247.0\" xlink:href=\"#LogicalFunctionSymbol\" y=\"119.5\" /></g><g class=\"Box FIP\"><use class=\"FIP\" height=\"10\" transform=\"rotate(90 1245.5 125.5)\" width=\"10\" x=\"1240.5\" xlink:href=\"#PortSymbol\" y=\"120.5\" /></g><g class=\"Box FIP\"><use class=\"FIP\" height=\"10\" transform=\"rotate(0 1258.5 157.5)\" width=\"10\" x=\"1253.5\" xlink:href=\"#PortSymbol\" y=\"152.5\" /></g><g class=\"Box CP_IN\"><use class=\"CP_IN\" height=\"10\" transform=\"rotate(270 1205.5 157.5)\" width=\"10\" x=\"1200.5\" xlink:href=\"#ComponentPortSymbol\" y=\"152.5\" /></g><g class=\"Box CP_INOUT\"><rect class=\"CP_INOUT\" height=\"10\" transform=\"rotate(90 1205.5 86.5)\" width=\"10\" x=\"1200.5\" y=\"81.5\" /></g><g class=\"Box CP_IN\"><use class=\"CP_IN\" height=\"10\" transform=\"rotate(180 1388.5 198.5)\" width=\"10\" x=\"1383.5\" xlink:href=\"#ComponentPortSymbol\" y=\"193.5\" /></g><g class=\"Box LogicalHumanActor\" id=\"_zuBo0LB_EeqLtsTDMgEHBw\"><rect class=\"LogicalHumanActor\" height=\"171\" style=\"fill: url(&quot;#CustomGradient_DAFDFF_C6E6FF&quot;)\" width=\"200\" x=\"1202.5\" y=\"457.5\" /><text class=\"LogicalHumanActor\" dominant-baseline=\"middle\" text-anchor=\"start\" x=\"1202\" y=\"457\"><tspan x=\"1285.5714285714287\" xml:space=\"preserve\" y=\"467.7142857142857\">R. Weasley</tspan></text><use height=\"20\" width=\"20\" x=\"1263.5714285714287\" xlink:href=\"#LogicalHumanActorSymbol\" y=\"457.7142857142857\" /></g><g class=\"Box LogicalFunction\" id=\"_toddEMTpEeqlbN5fRfdrWQ\"><rect class=\"LogicalFunction\" height=\"50\" width=\"101\" x=\"1252.5\" y=\"496.5\" /><text class=\"LogicalFunction\" dominant-baseline=\"middle\" text-anchor=\"middle\" x=\"1252\" y=\"496\"><tspan x=\"1302.5\" xml:space=\"preserve\" y=\"521.0\">Assist Harry</tspan></text><use height=\"20\" width=\"20\" x=\"1253.2142857142858\" xlink:href=\"#LogicalFunctionSymbol\" y=\"511.00000000000006\" /></g><g class=\"Box FOP\"><use class=\"FOP\" height=\"10\" transform=\"rotate(90 1350.5 516.5)\" width=\"10\" x=\"1345.5\" xlink:href=\"#PortSymbol\" y=\"511.5\" /></g><g class=\"Box FIP\"><use class=\"FIP\" height=\"10\" transform=\"rotate(90 1255.5 516.5)\" width=\"10\" x=\"1250.5\" xlink:href=\"#PortSymbol\" y=\"511.5\" /></g><g class=\"Box LogicalFunction\" id=\"_0dxIAMTpEeqlbN5fRfdrWQ\"><rect class=\"LogicalFunction\" height=\"50\" width=\"101\" x=\"1252.5\" y=\"556.5\" /><text class=\"LogicalFunction\" dominant-baseline=\"middle\" text-anchor=\"middle\" x=\"1252\" y=\"556\"><tspan x=\"1302.5\" xml:space=\"preserve\" y=\"581.0\">Befriend Harry</tspan></text><use height=\"20\" width=\"20\" x=\"1250\" xlink:href=\"#LogicalFunctionSymbol\" y=\"571.0\" /></g><g class=\"Box FOP\"><use class=\"FOP\" height=\"10\" transform=\"rotate(90 1349.5 559.5)\" width=\"10\" x=\"1344.5\" xlink:href=\"#PortSymbol\" y=\"554.5\" /></g><g class=\"Box CP_IN\"><use class=\"CP_IN\" height=\"10\" transform=\"rotate(270 1205.5 554.5)\" width=\"10\" x=\"1200.5\" xlink:href=\"#ComponentPortSymbol\" y=\"549.5\" /></g><g class=\"Box CP_OUT\"><use class=\"CP_OUT\" height=\"10\" transform=\"rotate(-180 1388.5 460.5)\" width=\"10\" x=\"1383.5\" xlink:href=\"#ComponentPortSymbol\" y=\"455.5\" /></g><g class=\"Box Constraint\" id=\"_IrpoABRGEeuzZKwspz8ZDA\"><rect class=\"Constraint\" height=\"50\" width=\"100\" x=\"1150.5\" y=\"645.5\" /><text class=\"Constraint\" dominant-baseline=\"middle\" text-anchor=\"middle\" x=\"1150\" y=\"645\"><tspan x=\"1200.0\" xml:space=\"preserve\" y=\"652.1428571428571\">Test constraint</tspan><tspan x=\"1200.0\" xml:space=\"preserve\" y=\"663.5714285714286\">where the text is</tspan><tspan x=\"1200.0\" xml:space=\"preserve\" y=\"675.0\">way too long to</tspan><tspan x=\"1200.0\" xml:space=\"preserve\" y=\"686.4285714285714\">display this shit</tspan></text></g><g class=\"Edge FunctionalExchange\" id=\"_PEmXoMEDEeqW8_YksX3uDg\"><path class=\"Edge\" d=\"M 753.5 585.5 848.5 585.5\" /><rect class=\"AnnotationBB\" height=\"12\" width=\"45\" x=\"778\" y=\"569\" /><text class=\"Annotation\" dominant-baseline=\"middle\" text-anchor=\"middle\" x=\"766.0\" y=\"569\"><tspan x=\"801.5\" xml:space=\"preserve\" y=\"574.7142857142857\">wizardry</tspan></text><use height=\"20\" width=\"20\" x=\"759.3571428571429\" xlink:href=\"#FunctionalExchangeSymbol\" y=\"564.7142857142857\" /></g><g class=\"Edge FOPAllocation\" id=\"_iMzXkMEDEeqW8_YksX3uDg\"><path class=\"Edge\" d=\"M 410.5 476.5 390.5 476.5 390.5 415.5 373.5 415.5\" /></g><g class=\"Edge FOPAllocation\" id=\"_o4KcUMEDEeqW8_YksX3uDg\"><path class=\"Edge\" d=\"M 410.5 476.5 390.5 476.5 390.5 485.5 373.5 485.5\" /></g><g class=\"Edge FOPAllocation\" id=\"_syJloMEDEeqW8_YksX3uDg\"><path class=\"Edge\" d=\"M 410.5 186.5 390.5 186.5 390.5 155.5 373.5 155.5\" /></g><g class=\"Edge FOPAllocation\" id=\"_u8br4MEDEeqW8_YksX3uDg\"><path class=\"Edge\" d=\"M 410.5 186.5 390.5 186.5 390.5 215.5 373.5 215.5\" /></g><g class=\"Edge ComponentExchange\" id=\"_WbdGoLB_EeqLtsTDMgEHBw\"><path class=\"Edge\" d=\"M 588.5 186.5 420.5 186.5\" /><rect class=\"AnnotationBB\" height=\"27\" width=\"111\" x=\"450\" y=\"153\" /><text class=\"Annotation\" dominant-baseline=\"middle\" text-anchor=\"middle\" x=\"438.0\" y=\"153\"><tspan x=\"506.5\" xml:space=\"preserve\" y=\"158.0\">Headmaster</tspan><tspan x=\"506.5\" xml:space=\"preserve\" y=\"169.42857142857142\">Responsibilities</tspan></text><use height=\"20\" width=\"20\" x=\"446.5\" xlink:href=\"#ComponentExchangeSymbol\" y=\"154.42857142857142\" /></g><g class=\"Edge ComponentExchange\" id=\"_XNOh0LB_EeqLtsTDMgEHBw\"><path class=\"Edge\" d=\"M 420.5 476.5 588.5 476.5\" /><rect class=\"AnnotationBB\" height=\"27\" width=\"111\" x=\"440\" y=\"441\" /><text class=\"Annotation\" dominant-baseline=\"middle\" text-anchor=\"middle\" x=\"428.0\" y=\"441\"><tspan x=\"496.5\" xml:space=\"preserve\" y=\"446.0\">Teacher</tspan><tspan x=\"496.5\" xml:space=\"preserve\" y=\"457.42857142857144\">Responsibilities</tspan></text><use height=\"20\" width=\"20\" x=\"436.5\" xlink:href=\"#ComponentExchangeSymbol\" y=\"442.42857142857144\" /></g><g class=\"Edge FIPAllocation\" id=\"_rdyAIMTnEeqlbN5fRfdrWQ\"><path class=\"Edge\" d=\"M 598.5 476.5 610.5 476.5 610.5 585.5 618.5 585.5\" /></g><g class=\"Edge FIPAllocation\" id=\"_twPK8MTnEeqlbN5fRfdrWQ\"><path class=\"Edge\" d=\"M 598.5 186.5 610.5 186.5 610.5 585.5 618.5 585.5\" /></g><g class=\"Edge FIPAllocation\" id=\"_NVFm4MTqEeqlbN5fRfdrWQ\"><path class=\"Edge\" d=\"M 1210.5 157.5 1222.5 157.5 1222.5 125.5 1240.5 125.5\" /></g><g class=\"Edge FIPAllocation\" id=\"_VBCl8MTqEeqlbN5fRfdrWQ\"><path class=\"Edge\" d=\"M 1210.5 86.5 1222.5 86.5 1222.5 125.5 1240.5 125.5\" /></g><g class=\"Edge ComponentExchange\" id=\"_YwLxMMTqEeqlbN5fRfdrWQ\"><path class=\"Edge\" d=\"M 1388.5 455.5 1388.5 203.5\" /><rect class=\"AnnotationBB\" height=\"21\" width=\"102\" x=\"1283\" y=\"216\" /><text class=\"Annotation\" dominant-baseline=\"middle\" text-anchor=\"middle\" x=\"1271.0\" y=\"216\"><tspan x=\"1335.0\" xml:space=\"preserve\" y=\"222.42857142857142\">Help for Harry</tspan></text><use height=\"20\" width=\"20\" x=\"1277.857142857143\" xlink:href=\"#ComponentExchangeSymbol\" y=\"212.42857142857142\" /></g><g class=\"Edge FunctionalExchange\" id=\"_RmRSwMTrEeqlbN5fRfdrWQ\"><path class=\"Edge\" d=\"M 373.5 415.5 609.5 415.5 609.5 585.5 618.5 585.5\" /><rect class=\"AnnotationBB\" height=\"10\" width=\"42\" x=\"629\" y=\"423\" /><text class=\"Annotation\" dominant-baseline=\"middle\" text-anchor=\"middle\" x=\"617.0\" y=\"423\"><tspan x=\"651.0\" xml:space=\"preserve\" y=\"428.0\">educate</tspan></text><use height=\"20\" width=\"20\" x=\"610.2857142857143\" xlink:href=\"#FunctionalExchangeSymbol\" y=\"418.0\" /></g><g class=\"Edge ComponentExchange\" id=\"_2ZGvALB_EeqLtsTDMgEHBw\"><path class=\"Edge\" d=\"M 883.5 434.5 1140.5 434.5 1140.5 157.5 1200.5 157.5\" /><rect class=\"AnnotationBB\" height=\"10\" width=\"70\" x=\"1020\" y=\"410\" /><text class=\"Annotation\" dominant-baseline=\"middle\" text-anchor=\"middle\" x=\"1008.0\" y=\"410\"><tspan x=\"1056.0\" xml:space=\"preserve\" y=\"415.0\">Miss Abrasion</tspan></text><use height=\"20\" width=\"20\" x=\"1001.0\" xlink:href=\"#ComponentExchangeSymbol\" y=\"405.0\" /></g><g class=\"Edge ComponentExchange\" id=\"_3Ko5oLB_EeqLtsTDMgEHBw\"><path class=\"Edge\" d=\"M 883.5 475.5 1022.5 475.5 1022.5 535.5 1071.5 535.5 1071.5 505.5 1142.5 505.5 1142.5 585.5 1162.5 585.5 1162.5 554.5 1200.5 554.5\" /><rect class=\"AnnotationBB\" height=\"16\" width=\"80\" x=\"1032\" y=\"554\" /><text class=\"Annotation\" dominant-baseline=\"middle\" text-anchor=\"middle\" x=\"1020.0\" y=\"554\"><tspan x=\"1073.0\" xml:space=\"preserve\" y=\"559.0\">Punishment</tspan></text><use height=\"20\" width=\"20\" x=\"1022.2857142857142\" xlink:href=\"#ComponentExchangeSymbol\" y=\"549.0\" /></g><g class=\"Edge ComponentExchange\" id=\"_z-LwYMTmEeqlbN5fRfdrWQ\"><path class=\"Edge\" d=\"M 1200.5 86.5 1090.5 86.5 1090.5 154.5 883.5 154.5\" /><rect class=\"AnnotationBB\" height=\"12\" width=\"46\" x=\"1022\" y=\"143\" /><text class=\"Annotation\" dominant-baseline=\"middle\" text-anchor=\"middle\" x=\"1010.0\" y=\"143\"><tspan x=\"1046.0\" xml:space=\"preserve\" y=\"148.71428571428572\">Learning</tspan></text><use height=\"20\" width=\"20\" x=\"1003.1428571428571\" xlink:href=\"#ComponentExchangeSymbol\" y=\"138.71428571428572\" /></g><g class=\"Edge FOPAllocation\" id=\"_HDIA8MTnEeqlbN5fRfdrWQ\"><path class=\"Edge\" d=\"M 878.5 159.5 858.5 181.5\" /></g><g class=\"Edge FOPAllocation\" id=\"_U7PAQMTnEeqlbN5fRfdrWQ\"><path class=\"Edge\" d=\"M 873.5 434.5 853.5 453.5\" /></g><g class=\"Edge FunctionalExchange\" id=\"_gkZJ0cTpEeqlbN5fRfdrWQ\"><path class=\"Edge\" d=\"M 373.5 415.5 610.5 415.5 610.5 183.5 718.5 183.5\" /><rect class=\"AnnotationBB\" height=\"16\" width=\"66\" x=\"617\" y=\"241\" /><text class=\"Annotation\" dominant-baseline=\"middle\" text-anchor=\"middle\" x=\"605.0\" y=\"241\"><tspan x=\"651.0\" xml:space=\"preserve\" y=\"246.0\">educate</tspan></text><use height=\"20\" width=\"20\" x=\"610.2857142857143\" xlink:href=\"#FunctionalExchangeSymbol\" y=\"236.0\" /></g><g class=\"Edge FunctionalExchange\" id=\"_JW0agMTqEeqlbN5fRfdrWQ\"><path class=\"Edge\" d=\"M 853.5 453.5 1170.5 453.5 1170.5 125.5 1240.5 125.5\" /><rect class=\"AnnotationBB\" height=\"12\" width=\"36\" x=\"1189\" y=\"230\" /><text class=\"Annotation\" dominant-baseline=\"middle\" text-anchor=\"middle\" x=\"1177.0\" y=\"230\"><tspan x=\"1208.0\" xml:space=\"preserve\" y=\"235.71428571428572\">punish</tspan></text><use height=\"20\" width=\"20\" x=\"1170.142857142857\" xlink:href=\"#FunctionalExchangeSymbol\" y=\"225.71428571428572\" /></g><g class=\"Edge FunctionalExchange\" id=\"_phyGIMTqEeqlbN5fRfdrWQ\"><path class=\"Edge\" d=\"M 853.5 453.5 1170.5 453.5 1170.5 516.5 1250.5 516.5\" /><rect class=\"AnnotationBB\" height=\"12\" width=\"36\" x=\"1189\" y=\"484\" /><text class=\"Annotation\" dominant-baseline=\"middle\" text-anchor=\"middle\" x=\"1177.0\" y=\"484\"><tspan x=\"1208.0\" xml:space=\"preserve\" y=\"489.7142857142857\">punish</tspan></text><use height=\"20\" width=\"20\" x=\"1170.142857142857\" xlink:href=\"#FunctionalExchangeSymbol\" y=\"479.7142857142857\" /></g><g class=\"Edge FunctionalExchange\" id=\"_0nQlwMTqEeqlbN5fRfdrWQ\"><path class=\"Edge\" d=\"M 863.5 186.5 1110.5 186.5 1110.5 125.5 1240.5 125.5\" /><rect class=\"AnnotationBB\" height=\"10\" width=\"93\" x=\"1004\" y=\"171\" /><text class=\"Annotation\" dominant-baseline=\"middle\" text-anchor=\"middle\" x=\"992.0\" y=\"171\"><tspan x=\"1051.5\" xml:space=\"preserve\" y=\"176.0\">educate &amp; mature</tspan></text><use height=\"20\" width=\"20\" x=\"985.0714285714286\" xlink:href=\"#FunctionalExchangeSymbol\" y=\"166.0\" /></g><g class=\"Edge FIPAllocation\" id=\"_9_Nz5MTqEeqlbN5fRfdrWQ\"><path class=\"Edge\" d=\"M 598.5 186.5 610.5 186.5 610.5 183.5 718.5 183.5\" /></g><g class=\"Edge FIPAllocation\" id=\"_Z-HHfMTrEeqlbN5fRfdrWQ\"><path class=\"Edge\" d=\"M 598.5 476.5 610.5 476.5 610.5 183.5 718.5 183.5\" /></g><g class=\"Edge FIPAllocation\" id=\"_osc7wtY4EeqiU8uzTY0Puw\"><path class=\"Edge\" d=\"M 1210.5 554.5 1250.5 516.5\" /></g><g class=\"Edge FOPAllocation\" id=\"_osditNY4EeqiU8uzTY0Puw\"><path class=\"Edge\" d=\"M 878.5 470.5 853.5 453.5\" /></g><g class=\"Edge FunctionalExchange\" id=\"_B7YjssTqEeqlbN5fRfdrWQ\"><path class=\"Edge\" d=\"M 1354.5 559.5 1379.5 559.5 1379.5 262.5 1258.5 262.5 1258.5 162.5\" /><rect class=\"AnnotationBB\" height=\"13\" width=\"53\" x=\"1283\" y=\"243\" /><text class=\"Annotation\" dominant-baseline=\"middle\" text-anchor=\"middle\" x=\"1271.0\" y=\"243\"><tspan x=\"1310.5\" xml:space=\"preserve\" y=\"249.42857142857142\">friendship</tspan></text><use height=\"20\" width=\"20\" x=\"1264.0714285714287\" xlink:href=\"#FunctionalExchangeSymbol\" y=\"239.42857142857142\" /></g><g class=\"Edge FunctionalExchange\" id=\"_8FlN8cTpEeqlbN5fRfdrWQ\"><path class=\"Edge\" d=\"M 1355.5 516.5 1370.5 516.5 1370.5 320.5 1258.5 320.5 1258.5 162.5\" /><rect class=\"AnnotationBB\" height=\"10\" width=\"50\" x=\"1284\" y=\"303\" /><text class=\"Annotation\" dominant-baseline=\"middle\" text-anchor=\"middle\" x=\"1272.0\" y=\"303\"><tspan x=\"1310.0\" xml:space=\"preserve\" y=\"308.0\">assistance</tspan></text><use height=\"20\" width=\"20\" x=\"1265.0\" xlink:href=\"#FunctionalExchangeSymbol\" y=\"298.0\" /></g><g class=\"Edge FIPAllocation\" id=\"_RP7wgtZEEeqiU8uzTY0Puw\"><path class=\"Edge\" d=\"M 1388.5 193.5 1388.5 180.5 1258.5 180.5 1258.5 162.5\" /></g><g class=\"Edge FOPAllocation\" id=\"_RP8XdNZEEeqiU8uzTY0Puw\"><path class=\"Edge\" d=\"M 1388.5 465.5 1388.5 516.5 1355.5 516.5\" /></g><g class=\"Edge FOPAllocation\" id=\"_RP8-gtZEEeqiU8uzTY0Puw\"><path class=\"Edge\" d=\"M 1388.5 465.5 1388.5 559.5 1354.5 559.5\" /></g><g class=\"Edge Constraint\" id=\"_VUcUgBRGEeuzZKwspz8ZDA\"><path class=\"Edge\" d=\"M 1150.5 665.5 1001.5 561.5\" style=\"marker-end: url(&quot;#FineArrowMark_000000&quot;)\" /></g><g class=\"Edge ComponentExchange\" id=\"_e8OmYKjsEeu7PunlgwoBGA\"><path class=\"Edge\" d=\"M 796.5 221.5 796.5 393.5\" /><rect class=\"AnnotationBB\" height=\"10\" width=\"23\" x=\"822\" y=\"303\" /><text class=\"Annotation\" dominant-baseline=\"middle\" text-anchor=\"middle\" x=\"810.0\" y=\"303\"><tspan x=\"834.5\" xml:space=\"preserve\" y=\"308.0\">Care</tspan></text><use height=\"20\" width=\"20\" x=\"803.0714285714286\" xlink:href=\"#ComponentExchangeSymbol\" y=\"298.0\" /></g></svg>"
      ],
      "text/plain": [
       "<Diagram '[LAB] Wizzard Education'>"
      ]
     },
     "execution_count": 8,
     "metadata": {},
     "output_type": "execute_result"
    }
   ],
   "source": [
    "diagram"
   ]
  },
  {
   "cell_type": "markdown",
   "id": "86e23011",
   "metadata": {},
   "source": [
    "This concludes our introduction. There is a lot more you can do with the library - feel free to explore the examples collection or create an issue to ask for a specific use-case example and you may see it around pretty soon."
   ]
  }
 ],
 "metadata": {
  "kernelspec": {
   "display_name": "Python 3 (ipykernel)",
   "language": "python",
   "name": "python3"
  },
  "language_info": {
   "codemirror_mode": {
    "name": "ipython",
    "version": 3
   },
   "file_extension": ".py",
   "mimetype": "text/x-python",
   "name": "python",
   "nbconvert_exporter": "python",
   "pygments_lexer": "ipython3",
   "version": "3.9.7"
  }
 },
 "nbformat": 4,
 "nbformat_minor": 5
}
