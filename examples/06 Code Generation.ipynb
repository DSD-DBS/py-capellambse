{
 "cells": [
  {
   "cell_type": "markdown",
   "metadata": {},
   "source": [
    "# Introduction to Code Generation\n",
    "\n",
    "This notebook exemplifies how to generate automatically code in terms of class interfaces from class diagrams. For this three examples are provided. The first one creates a ROS message, the second a standard python class and the last a protobuf interface."
   ]
  },
  {
   "cell_type": "code",
   "execution_count": 1,
   "metadata": {},
   "outputs": [],
   "source": [
    "import capellambse"
   ]
  },
  {
   "cell_type": "code",
   "execution_count": 2,
   "metadata": {},
   "outputs": [
    {
     "name": "stderr",
     "output_type": "stream",
     "text": [
      "Cannot load PVMT extension: ValueError: Provided model does not have a PropertyValuePkg\n",
      "Property values are not available in this model\n"
     ]
    },
    {
     "data": {
      "text/plain": [
       "<capellambse.model.MelodyModel at 0x184f60e7c10>"
      ]
     },
     "execution_count": 2,
     "metadata": {},
     "output_type": "execute_result"
    }
   ],
   "source": [
    "path_to_model = \"../tests/data/melodymodel/5_0/Melody Model Test.aird\"\n",
    "model = capellambse.MelodyModel(path_to_model)\n",
    "model"
   ]
  },
  {
   "cell_type": "code",
   "execution_count": 3,
   "metadata": {},
   "outputs": [
    {
     "data": {
      "text/html": [
       "<h1>DataPkg <span style=\"font-size: 70%;\">(org.polarsys.capella.core.data.information:DataPkg)</span></h1><table><tr><th style=\"text-align: right;\">classes</th><td style=\"text-align: left;\"><ol start=\"0\" style=\"text-align: left;\"><li><strong>Class</strong> &quot;Twist&quot; (8164ae8b-36d5-4502-a184-5ec064db4ec3)</li><li><strong>Class</strong> &quot;Trajectory&quot; (16fc56f3-d86e-4c13-b2fe-10a498c0b6d5)</li><li><strong>Class</strong> &quot;Waypoint&quot; (1b84a3be-197c-41cd-aa95-d27b0bf2ce58)</li><li><strong>Class</strong> &quot;Example&quot; (f0dc5e0c-caa6-42de-979c-acf9436183bf)</li></ol></td></tr><tr><th style=\"text-align: right;\">collections</th><td style=\"text-align: left;\"><p><em>(Empty list)</em></p></td></tr><tr><th style=\"text-align: right;\">complex_values</th><td style=\"text-align: left;\"><p><em>(Empty list)</em></p></td></tr><tr><th style=\"text-align: right;\">constraints</th><td style=\"text-align: left;\"><p><em>(Empty list)</em></p></td></tr><tr><th style=\"text-align: right;\">description</th><td style=\"text-align: left;\"><em>None</em></td></tr><tr><th style=\"text-align: right;\">diagrams</th><td style=\"text-align: left;\"><ol start=\"0\" style=\"text-align: left;\"><li><b>[CDB] Data</b> (uuid: _beibwNYrEeqiU8uzTY0Puw)</li><li><b>[CDB] CodeGeneration</b> (uuid: _PBVPQLQiEeysLP7qUEj5NQ)</li></ol></td></tr><tr><th style=\"text-align: right;\">enumerations</th><td style=\"text-align: left;\"><p><em>(Empty list)</em></p></td></tr><tr><th style=\"text-align: right;\">name</th><td style=\"text-align: left;\">Data</td></tr><tr><th style=\"text-align: right;\">packages</th><td style=\"text-align: left;\"><p><em>(Empty list)</em></p></td></tr><tr><th style=\"text-align: right;\">parent</th><td style=\"text-align: left;\"><strong>OperationalAnalysis</strong> &quot;Operational Analysis&quot; (ddbef16d-ddb9-4162-934c-f1e40e6f8bed)</td></tr><tr><th style=\"text-align: right;\">progress_status</th><td style=\"text-align: left;\">NOT_SET</td></tr><tr><th style=\"text-align: right;\">requirements</th><td style=\"text-align: left;\"><p><em>(Empty list)</em></p></td></tr><tr><th style=\"text-align: right;\">summary</th><td style=\"text-align: left;\"><em>None</em></td></tr><tr><th style=\"text-align: right;\">unions</th><td style=\"text-align: left;\"><p><em>(Empty list)</em></p></td></tr><tr><th style=\"text-align: right;\">uuid</th><td style=\"text-align: left;\">d12c04b6-392f-4761-be5a-e44c688823f6</td></tr><tr><th style=\"text-align: right;\">xtype</th><td style=\"text-align: left;\">org.polarsys.capella.core.data.information:DataPkg</td></tr></table>"
      ],
      "text/plain": [
       "<DataPkg 'Data' (d12c04b6-392f-4761-be5a-e44c688823f6)>"
      ]
     },
     "execution_count": 3,
     "metadata": {},
     "output_type": "execute_result"
    }
   ],
   "source": [
    "data_pkg = model.oa.data_package\n",
    "data_pkg"
   ]
  },
  {
   "cell_type": "markdown",
   "metadata": {},
   "source": [
    "# ROS2 IDL Message\n",
    "\n",
    "ROS2 Message descriptions are stored in .msg files and comprises two parts: type and name, separated by a space, i.e.:\n",
    "\n",
    "### _class.msg_\n",
    "\n",
    "fieldtype1 fieldname1\n",
    "\n",
    "fieldtype2[] fieldname2"
   ]
  },
  {
   "cell_type": "code",
   "execution_count": 4,
   "metadata": {},
   "outputs": [],
   "source": [
    "def class_to_ros2_idl(cls):\n",
    "    filename = f\"{cls.name}.msg\"\n",
    "    text = []\n",
    "    for prop in cls.properties:\n",
    "        multiplicity = (\"\", \"[]\")[prop.max_card.value > 1.0]\n",
    "        text.append(f\"{prop.type.name}{multiplicity} {prop.name}\")\n",
    "    text = \"\\n\".join(text)\n",
    "    with open(filename, \"w\") as file:\n",
    "        file.write(text)\n",
    "    print(f\"# file: {filename} \\n{text}\\n\")"
   ]
  },
  {
   "cell_type": "markdown",
   "metadata": {},
   "source": [
    "In our example, files would be generated with the following content:"
   ]
  },
  {
   "cell_type": "code",
   "execution_count": 5,
   "metadata": {},
   "outputs": [
    {
     "name": "stdout",
     "output_type": "stream",
     "text": [
      "# file: Twist.msg \n",
      "\n",
      "\n",
      "# file: Trajectory.msg \n",
      "Waypoint[] waypoints\n",
      "\n",
      "# file: Waypoint.msg \n",
      "float lat\n",
      "float lon\n",
      "float alt\n",
      "Example[] examples\n",
      "\n",
      "# file: Example.msg \n",
      "str test\n",
      "\n"
     ]
    }
   ],
   "source": [
    "data_pkg = model.oa.data_package\n",
    "for cls in data_pkg.classes:\n",
    "    class_to_ros2_idl(cls)"
   ]
  },
  {
   "cell_type": "markdown",
   "metadata": {},
   "source": [
    "# Interface for python class\n",
    "\n",
    "A python class has the following structure:\n",
    "### _class.py_\n",
    "\n",
    "class class_name:\n",
    "> name1: type  \n",
    "> name2: [type]"
   ]
  },
  {
   "cell_type": "code",
   "execution_count": 6,
   "metadata": {},
   "outputs": [],
   "source": [
    "def nested_python_class(cls, current_classes):\n",
    "    text = [f\"class {cls.name}:\"]\n",
    "    current_classes.append([cls])\n",
    "    if not cls.properties:\n",
    "        text.append(\"\\tpass\")\n",
    "    for prop in cls.properties:\n",
    "        multiplicity = (f\"{prop.type.name}\", f\"list[{prop.type.name}]\")[\n",
    "            prop.max_card.value > 1.0\n",
    "        ]\n",
    "        if (\n",
    "            isinstance(\n",
    "                prop.type, capellambse.model.crosslayer.information.Class\n",
    "            )\n",
    "            and prop.type not in current_classes\n",
    "        ):\n",
    "            nested_text = nested_python_class(prop.type, current_classes)\n",
    "            text = [nested_text] + text\n",
    "        text.append(f\"\\t{prop.name}: {multiplicity}\")\n",
    "    text = \"\\n\".join(text) + \"\\n\\n\"\n",
    "    return text\n",
    "\n",
    "\n",
    "def class_to_python(cls):\n",
    "    filename = f\"{cls.name}.py\"\n",
    "    text = [f\"class {cls.name}:\"]\n",
    "    current_classes = [cls]\n",
    "    if not cls.properties:\n",
    "        text.append(\"\\tpass\")\n",
    "    for prop in cls.properties:\n",
    "        if (\n",
    "            isinstance(\n",
    "                prop.type, capellambse.model.crosslayer.information.Class\n",
    "            )\n",
    "            and prop.type not in current_classes\n",
    "        ):\n",
    "            nested_text = nested_python_class(prop.type, current_classes)\n",
    "            text = [nested_text] + text\n",
    "        multiplicity = (f\"{prop.type.name}\", f\"list[{prop.type.name}]\")[\n",
    "            prop.max_card.value > 1.0\n",
    "        ]\n",
    "        text.append(f\"\\t{prop.name}: {multiplicity}\")\n",
    "    text = \"\\n\".join(text)\n",
    "\n",
    "    with open(filename, \"w\") as file:\n",
    "        file.write(text)\n",
    "\n",
    "    print(f\"# file: {filename} \\n{text}\\n\")"
   ]
  },
  {
   "cell_type": "markdown",
   "metadata": {},
   "source": [
    "Therefore, the python interface of class _Trajectory_ would look as follows:"
   ]
  },
  {
   "cell_type": "code",
   "execution_count": 7,
   "metadata": {},
   "outputs": [
    {
     "name": "stdout",
     "output_type": "stream",
     "text": [
      "# file: Trajectory.py \n",
      "class Example:\n",
      "\ttest: str\n",
      "\n",
      "\n",
      "class Waypoint:\n",
      "\tlat: float\n",
      "\tlon: float\n",
      "\talt: float\n",
      "\texamples: list[Example]\n",
      "\n",
      "\n",
      "class Trajectory:\n",
      "\twaypoints: list[Waypoint]\n",
      "\n"
     ]
    }
   ],
   "source": [
    "class_to_python(data_pkg.classes.by_name('Trajectory')) "
   ]
  },
  {
   "cell_type": "markdown",
   "metadata": {},
   "source": [
    "# Interface for Protocol Buffers (Protobuf) \n",
    "\n",
    "Protobuf Message descriptions are stored in .proto files where class defintion starts with _message_ and each property of the class is definded by at least three parts: the data type, name and their order number. Classes can be also nested in classes. An example is shown In the following:\n",
    "\n",
    "### _class.proto_\n",
    "\n",
    "syntax = \"proto2\";\n",
    "\n",
    "message class1 {\n",
    "\n",
    ">    datatype class1_name1 = 1;\n",
    "\n",
    ">    dataype class1_name2 = 2;\n",
    "\n",
    ">    message class2 {\n",
    "\n",
    "> >  datatype class2_name1 = 1;\n",
    "\n",
    "> >  datatype class2_name2 = 2;\n",
    "\n",
    "> >  datatype class2_name3 = 3;\n",
    "\n",
    " >   }\n",
    "\n",
    ">    repeated class2 class_name = 3;\n",
    "    \n",
    "}\n"
   ]
  },
  {
   "cell_type": "code",
   "execution_count": 8,
   "metadata": {},
   "outputs": [],
   "source": [
    "def nested_proto_class(cls, current_classes, indent=\"\\t\\t\"):\n",
    "    text = [f\"{indent[:-1]}message  {cls.name} {{\"]\n",
    "    current_classes.append([cls])\n",
    "\n",
    "    for counter, prop in enumerate(cls.properties):\n",
    "        multiplicity = (\"\", \"[]\")[prop.max_card.value > 1.0]\n",
    "        if (\n",
    "            isinstance(\n",
    "                prop.type, capellambse.model.crosslayer.information.Class\n",
    "            )\n",
    "            and prop.type not in current_classes\n",
    "        ):\n",
    "            current_classes.append([prop.type])\n",
    "            nested_text = nested_proto_class(\n",
    "                prop.type, current_classes, indent + \"\\t\"\n",
    "            )\n",
    "            text.append(nested_text)\n",
    "            text.append(\n",
    "                f\"{indent}repeated {prop.type.name}{multiplicity} {prop.name} = {counter+1};\"\n",
    "            )\n",
    "        else:\n",
    "            text.append(\n",
    "                f\"{indent}{prop.type.name}{multiplicity} {prop.name} = {counter+1};\"\n",
    "            )\n",
    "    text[-1] = text[-1] + f\"\\n{indent[:-1]}}}\"\n",
    "    text = \"\\n\".join(text)\n",
    "    return text\n",
    "\n",
    "\n",
    "def class_to_proto(cls):\n",
    "    filename = f\"{cls.name}.proto\"\n",
    "    text = ['syntax = \"proto3\";\\n']\n",
    "    text.append(f\"message {cls.name} {{\")\n",
    "    current_classes = [cls]\n",
    "\n",
    "    for counter, prop in enumerate(cls.properties):\n",
    "        multiplicity = (\"\", \"[]\")[prop.max_card.value > 1.0]\n",
    "        if (\n",
    "            isinstance(\n",
    "                prop.type, capellambse.model.crosslayer.information.Class\n",
    "            )\n",
    "            and prop.type not in current_classes\n",
    "        ):\n",
    "            nested_text = nested_proto_class(prop.type, current_classes)\n",
    "            text.append(nested_text)\n",
    "            text.append(\n",
    "                f\"\\trepeated {prop.type.name}{multiplicity} {prop.name} = {counter+1};\"\n",
    "            )\n",
    "        else:\n",
    "            text.append(\n",
    "                f\"\\t{prop.type.name}{multiplicity} {prop.name} = {counter+1};\"\n",
    "            )\n",
    "    text[-1] = text[-1] + f\"\\n}}\"\n",
    "    text = \"\\n\".join(text)\n",
    "\n",
    "    with open(filename, \"w\") as file:\n",
    "        file.write(text)\n",
    "\n",
    "    print(f\"# file: {filename} \\n{text}\\n\")"
   ]
  },
  {
   "cell_type": "markdown",
   "metadata": {},
   "source": [
    "The protobuf interface of class _Trajectory_ would look as follows:\n"
   ]
  },
  {
   "cell_type": "code",
   "execution_count": 9,
   "metadata": {},
   "outputs": [
    {
     "name": "stdout",
     "output_type": "stream",
     "text": [
      "# file: Trajectory.proto \n",
      "syntax = \"proto3\";\n",
      "\n",
      "message Trajectory {\n",
      "\tmessage  Waypoint {\n",
      "\t\tfloat lat = 1;\n",
      "\t\tfloat lon = 2;\n",
      "\t\tfloat alt = 3;\n",
      "\t\tmessage  Example {\n",
      "\t\t\tstr test = 1;\n",
      "\t\t}\n",
      "\t\trepeated Example[] examples = 4;\n",
      "\t}\n",
      "\trepeated Waypoint[] waypoints = 1;\n",
      "}\n",
      "\n"
     ]
    }
   ],
   "source": [
    "class_to_proto(data_pkg.classes.by_name('Trajectory')) "
   ]
  }
 ],
 "metadata": {
  "interpreter": {
   "hash": "e5607734f15d1b90b8506e690cd35fc527f703262c75faee6ce3cf6c6d2ff5b2"
  },
  "kernelspec": {
   "display_name": "Python 3.10.2 64-bit",
   "language": "python",
   "name": "python3"
  },
  "language_info": {
   "codemirror_mode": {
    "name": "ipython",
    "version": 3
   },
   "file_extension": ".py",
   "mimetype": "text/x-python",
   "name": "python",
   "nbconvert_exporter": "python",
   "pygments_lexer": "ipython3",
   "version": "3.10.2"
  },
  "orig_nbformat": 4
 },
 "nbformat": 4,
 "nbformat_minor": 2
}
