{
 "cells": [
  {
   "cell_type": "markdown",
   "metadata": {},
   "source": [
    "# Introduction to Code Generation\n",
    "\n",
    "This notebook exemplifies how to generate automatically code in terms of interfaces. For this three examples are provided. The first one creates a ROS message, the second a standard python class and the last a protobuf interface."
   ]
  },
  {
   "cell_type": "code",
   "execution_count": 1,
   "metadata": {},
   "outputs": [],
   "source": [
    "import capellambse"
   ]
  },
  {
   "cell_type": "code",
   "execution_count": 2,
   "metadata": {},
   "outputs": [
    {
     "name": "stderr",
     "output_type": "stream",
     "text": [
      "Cannot load PVMT extension: ValueError: Provided model does not have a PropertyValuePkg\n",
      "Property values are not available in this model\n"
     ]
    },
    {
     "data": {
      "text/plain": [
       "<capellambse.model.MelodyModel at 0x1aab3f2f760>"
      ]
     },
     "execution_count": 2,
     "metadata": {},
     "output_type": "execute_result"
    }
   ],
   "source": [
    "path_to_model = \"../tests/data/melodymodel/5_0/Melody Model Test.aird\"\n",
    "model = capellambse.MelodyModel(path_to_model)\n",
    "model"
   ]
  },
  {
   "cell_type": "markdown",
   "metadata": {},
   "source": [
    "In particular, we want to create code from our class:"
   ]
  },
  {
   "cell_type": "code",
   "execution_count": 3,
   "metadata": {},
   "outputs": [
    {
     "name": "stderr",
     "output_type": "stream",
     "text": [
      "Unknown global filter 'hide.association.labels.filter'\n",
      "Unknown global filter 'hide.technical.interfaces.filter'\n",
      "Unknown global filter 'ModelExtensionFilter'\n",
      "No default style for 'Box.NumericType' in 'Class Diagram Blank'\n",
      "No default style for 'Box.NumericType' in 'Class Diagram Blank'\n",
      "No default style for 'Box.NumericType' in 'Class Diagram Blank'\n",
      "No default style for 'Box.NumericType' in 'Class Diagram Blank'\n",
      "No default style for 'Box.NumericType' in 'Class Diagram Blank'\n",
      "No default style for 'Box.NumericType' in 'Class Diagram Blank'\n",
      "No default style for 'Box.NumericType' in 'Class Diagram Blank'\n",
      "No default style for 'Box.StringType' in 'Class Diagram Blank'\n",
      "No default style for 'Box.StringType' in 'Class Diagram Blank'\n",
      "No default style for 'Box.StringType' in 'Class Diagram Blank'\n",
      "No default style for 'Box.StringType' in 'Class Diagram Blank'\n",
      "No default style for 'Box.StringType' in 'Class Diagram Blank'\n",
      "No default style for 'Box.StringType' in 'Class Diagram Blank'\n",
      "No default style for 'Box.StringType' in 'Class Diagram Blank'\n"
     ]
    },
    {
     "data": {
      "image/svg+xml": "<svg baseProfile=\"full\" class=\"ClassDiagramBlank\" height=\"474\" version=\"1.1\" viewBox=\"375 85 631 474\" width=\"631\" xmlns=\"http://www.w3.org/2000/svg\" xmlns:ev=\"http://www.w3.org/2001/xml-events\" xmlns:xlink=\"http://www.w3.org/1999/xlink\"><defs><style>.ClassDiagramBlank * { shape-rendering: geometricPrecision; }\n.ClassDiagramBlank text { font-family: \"Segoe UI\"; font-size: 8pt; }\n.ClassDiagramBlank g { cursor: pointer; }\n.ClassDiagramBlank g.Edge &gt; path { fill: none; stroke: rgb(0, 0, 0); }\n.ClassDiagramBlank g.Box &gt; line { stroke: #000000; }\n.ClassDiagramBlank g.Box &gt; rect, .ClassDiagramBlank g.Box &gt; use { fill: transparent; stroke: #000000; stroke-width: 1; }\n.ClassDiagramBlank g.Box.Annotation &gt; line { stroke: none; }\n.ClassDiagramBlank g.Box.Annotation &gt; rect, .ClassDiagramBlank g.Box.Annotation &gt; use { fill: none; stroke: none; }\n.ClassDiagramBlank g.Box.Constraint &gt; line { stroke: #888888; }\n.ClassDiagramBlank g.Box.Constraint &gt; rect, .ClassDiagramBlank g.Box.Constraint &gt; use { fill: #FFF5B5; stroke: #888888; }\n.ClassDiagramBlank g.Box.Constraint &gt; text { fill: #000000; }\n.ClassDiagramBlank g.Box.Note &gt; line { stroke: #FFCC66; }\n.ClassDiagramBlank g.Box.Note &gt; rect, .ClassDiagramBlank g.Box.Note &gt; use { fill: #FFFFCB; stroke: #FFCC66; }\n.ClassDiagramBlank g.Box.Note &gt; text { fill: #000000; }\n.ClassDiagramBlank g.Box.Requirement &gt; line { stroke: #72496E; }\n.ClassDiagramBlank g.Box.Requirement &gt; rect, .ClassDiagramBlank g.Box.Requirement &gt; use { fill: #D9C4D7; stroke: #72496E; }\n.ClassDiagramBlank g.Box.Requirement &gt; text { fill: #000000; }\n.ClassDiagramBlank g.Box.Text &gt; line { stroke: transparent; }\n.ClassDiagramBlank g.Box.Text &gt; rect, .ClassDiagramBlank g.Box.Text &gt; use { stroke: transparent; }\n.ClassDiagramBlank g.Edge &gt; rect { fill: none; stroke: none; }\n.ClassDiagramBlank g.Circle &gt; circle { fill: #000000; stroke: none; }\n.ClassDiagramBlank g.Edge &gt; path { stroke-width: 1; }\n.ClassDiagramBlank g.Edge.Connector &gt; rect { fill: none; stroke: none; }\n.ClassDiagramBlank g.Circle.Connector &gt; circle { fill: #B0B0B0; stroke: none; }\n.ClassDiagramBlank g.Edge.Connector &gt; path { stroke: #B0B0B0; stroke-dasharray: 1; }\n.ClassDiagramBlank g.Edge.Constraint &gt; rect { fill: none; stroke: none; }\n.ClassDiagramBlank g.Circle.Constraint &gt; circle { fill: #000000; stroke: none; }\n.ClassDiagramBlank g.Edge.Constraint &gt; path { stroke: #000000; stroke-dasharray: 1, 3; marker-end: url(#FineArrowMark_000000); stroke-linecap: round; }\n.ClassDiagramBlank g.Edge.Note &gt; rect { fill: none; stroke: none; }\n.ClassDiagramBlank g.Circle.Note &gt; circle { fill: #000000; stroke: none; }\n.ClassDiagramBlank g.Edge.Note &gt; path { stroke: #000000; stroke-dasharray: 1, 3; }\n.ClassDiagramBlank g.Edge.RequirementRelation &gt; rect { fill: none; stroke: none; }\n.ClassDiagramBlank g.Circle.RequirementRelation &gt; circle { fill: #72496E; stroke: none; }\n.ClassDiagramBlank g.Edge.RequirementRelation &gt; path { stroke: #72496E; stroke-width: 2; marker-end: url(#FineArrowMark_72496E); stroke-dasharray: 5; }\n.ClassDiagramBlank g.Edge.RequirementRelation &gt; text { fill: #72496E; }\n.ClassDiagramBlank g.Box.Class &gt; line { stroke: #7B694F; }\n.ClassDiagramBlank g.Box.Class &gt; rect, .ClassDiagramBlank g.Box.Class &gt; use { fill: url(\"#.ClassFillGradient\"); rx: 10px; ry: 10px; stroke: #7B694F; }\n.ClassDiagramBlank g.Box.Class &gt; text { fill: #000000; }\n.ClassDiagramBlank g.Box.DataPkg &gt; line { stroke: #454545; }\n.ClassDiagramBlank g.Box.DataPkg &gt; rect, .ClassDiagramBlank g.Box.DataPkg &gt; use { fill: url(\"#.DataPkgFillGradient\"); stroke: #454545; }\n.ClassDiagramBlank g.Box.DataPkg &gt; text { fill: #000000; }\n.ClassDiagramBlank g.Box.Enumeration &gt; line { stroke: #676767; }\n.ClassDiagramBlank g.Box.Enumeration &gt; rect, .ClassDiagramBlank g.Box.Enumeration &gt; use { fill: #E8E0D2; stroke: #676767; }\n.ClassDiagramBlank g.Box.Enumeration &gt; text { fill: #000000; }\n.ClassDiagramBlank g.Box.ExchangeItem &gt; line { stroke: #7C3D3D; }\n.ClassDiagramBlank g.Box.ExchangeItem &gt; rect, .ClassDiagramBlank g.Box.ExchangeItem &gt; use { fill: #F6EBEB; stroke: #7C3D3D; }\n.ClassDiagramBlank g.Box.ExchangeItem &gt; text { fill: #000000; }\n.ClassDiagramBlank g.Edge.Association &gt; rect { fill: none; stroke: none; }\n.ClassDiagramBlank g.Circle.Association &gt; circle { fill: #000000; stroke: none; }\n.ClassDiagramBlank g.Edge.Association &gt; path { stroke: #000000; marker-end: url(#FineArrowMark_000000); }\n.ClassDiagramBlank g.Edge.ExchangeItemElement &gt; rect { fill: none; stroke: none; }\n.ClassDiagramBlank g.Circle.ExchangeItemElement &gt; circle { fill: #000000; stroke: none; }\n.ClassDiagramBlank g.Edge.ExchangeItemElement &gt; path { stroke: #000000; stroke-dasharray: 5; marker-start: url(#DiamondMark_000000); marker-end: url(#ArrowMark_000000); }\n.ClassDiagramBlank g.Edge.ExchangeItemElement &gt; text { fill: #000000; }\n.ClassDiagramBlank g.Edge.Generalization &gt; rect { fill: none; stroke: none; }\n.ClassDiagramBlank g.Circle.Generalization &gt; circle { fill: #000000; stroke: none; }\n.ClassDiagramBlank g.Edge.Generalization &gt; path { stroke: #000000; marker-end: url(#GeneralizationMark_000000); }\n</style><symbol id=\"ErrorSymbol\" viewBox=\"0 0 2.6458 2.6458\"><path d=\"M 0,0 2.6458333,2.6458333 M 0,2.6458333 2.6458333,0\" style=\"fill: none; stroke: red; stroke-width: 0.5;\" /></symbol><symbol id=\"RequirementSymbol\" style=\"stroke: none;\" viewBox=\"0 0 50 50\"><path d=\"M 12.806813,6.5702324 A 6.244379,5.8113241 0 0 1 6.5624342,12.381557 6.244379,5.8113241 0 0 1 0.31805515,6.5702324 6.244379,5.8113241 0 0 1 6.5624342,0.75890827 6.244379,5.8113241 0 0 1 12.806813,6.5702324 Z\" style=\"fill: #431964\" /><path d=\"m 4.3228658,5.8752475 h 2.9514721 q 0.2945581,0 0.5184223,-0.1413879 Q 8.0225155,5.5865806 8.1462299,5.3214783 8.2699443,5.056376 8.2758355,4.7029063 v 0 q 0,-0.3475786 -0.1237144,-0.6126808 Q 8.0284067,3.8251232 7.7986513,3.6837353 7.5747872,3.5364562 7.2743379,3.5364562 H 4.3228658 V 2.1873801 h 2.9927103 q 0.7246129,0 1.2724909,0.3122316 0.5478781,0.3122316 0.8483274,0.8836743 0.3063404,0.5714427 0.3063404,1.3196203 v 0 q 0,0.7540687 -0.3063404,1.3255114 Q 9.1359451,6.5998605 8.5821759,6.912092 8.0342978,7.2243236 7.3155761,7.2243236 H 4.3228658 Z M 3.7396407,2.1873801 H 5.1476285 V 10.759021 H 3.7396407 Z M 6.3906636,6.9592213 7.8516718,6.6882279 10.102096,10.759021 H 8.4113322 Z\" style=\"fill:#ffffff;\" /></symbol><symbol id=\"ClassSymbol\" viewBox=\"0 0 25 25\"><linearGradient id=\"ClassSymbol-gradient\" x1=\"0\" x2=\"0\" y1=\"0\" y2=\"1\"><stop offset=\"0.0\" stop-color=\"#cfa6a5\" stop-opacity=\"1\" /><stop offset=\"1.0\" stop-color=\"#f1e2e3\" stop-opacity=\"1\" /></linearGradient><g style=\"stroke:#913734;\"><rect height=\"3\" style=\"fill:#eedcdd;\" width=\"15\" x=\"5\" y=\"17\" /><rect height=\"3\" style=\"fill:#eedcdd;\" width=\"15\" x=\"5\" y=\"14\" /><rect height=\"10\" style=\"fill:url(#ClassSymbol-gradient);\" width=\"15\" x=\"5\" y=\"4\" /></g></symbol><linearGradient id=\".ClassFillGradient\" x1=\"0%\" x2=\"0%\" y1=\"0%\" y2=\"100%\"><stop offset=\"0\" stop-color=\"#FFFFFF\" /><stop offset=\"1\" stop-color=\"#E8E0D2\" /></linearGradient><linearGradient id=\".DataPkgFillGradient\" x1=\"0%\" x2=\"0%\" y1=\"0%\" y2=\"100%\"><stop offset=\"0\" stop-color=\"#FFFFFF\" /><stop offset=\"1\" stop-color=\"#FAFAFA\" /></linearGradient><marker id=\"FineArrowMark_000000\" markerHeight=\"15\" markerUnits=\"userSpaceOnUse\" markerWidth=\"15\" orient=\"auto\" refX=\"14\" refY=\"7\"><path d=\"M 0.90706313,0.21449614 14.619528,7.2414781 0.98360138,14.814827 0.2888162,14.139896 12.829523,7.2633468 0.27291254,0.95838308 Z\" style=\"marker-end: url(&quot;#FineArrowMark_000000&quot;); fill: #000000; stroke: #000000; stroke-width: None\" /></marker></defs><rect fill=\"white\" height=\"474\" stroke=\"none\" width=\"631\" x=\"375\" y=\"85\" /><g class=\"Box NumericType\" id=\"_7Bx7ILQiEeysLP7qUEj5NQ\"><rect class=\"NumericType\" height=\"51\" style=\"fill: #E8E0D2; stroke: #676767; stroke-width: 1\" width=\"141\" x=\"655.5\" y=\"175.5\" /><text class=\"NumericType\" dominant-baseline=\"middle\" text-anchor=\"middle\" x=\"655\" y=\"175\"><tspan x=\"725.5\" xml:space=\"preserve\" y=\"200.5\">float</tspan></text></g><g class=\"Box Class\" id=\"_3HTNILQjEeysLP7qUEj5NQ\"><rect class=\"Class\" height=\"71\" style=\"stroke-width: 1\" width=\"111\" x=\"385.5\" y=\"95.5\" /><line x1=\"385.5\" x2=\"496.5\" y1=\"119.5\" y2=\"119.5\" /><text class=\"Class\" dominant-baseline=\"middle\" text-anchor=\"middle\" x=\"385\" y=\"95\"><tspan x=\"440.5\" xml:space=\"preserve\" y=\"105.71428571428571\">Trajectory</tspan></text><use height=\"20\" width=\"20\" x=\"394.7857142857143\" xlink:href=\"#ClassSymbol\" y=\"95.71428571428571\" /></g><g class=\"Box Class\" id=\"_47jZALQjEeysLP7qUEj5NQ\"><rect class=\"Class\" height=\"101\" style=\"stroke-width: 1\" width=\"121\" x=\"385.5\" y=\"275.5\" /><line x1=\"385.5\" x2=\"506.5\" y1=\"299.5\" y2=\"299.5\" /><text class=\"Features\" dominant-baseline=\"middle\" text-anchor=\"start\" x=\"385.5\" y=\"299.5\"><tspan x=\"421.0\" xml:space=\"preserve\" y=\"312.2142857142857\">lat : float</tspan><tspan x=\"421.0\" xml:space=\"preserve\" y=\"323.64285714285717\">lon : float</tspan><tspan x=\"421.0\" xml:space=\"preserve\" y=\"335.0714285714286\">alt : float</tspan></text><text class=\"Class\" dominant-baseline=\"middle\" text-anchor=\"middle\" x=\"385\" y=\"275\"><tspan x=\"445.5\" xml:space=\"preserve\" y=\"285.7142857142857\">Waypoint</tspan></text><use height=\"20\" width=\"20\" x=\"400.5\" xlink:href=\"#ClassSymbol\" y=\"275.7142857142857\" /></g><g class=\"Box Class\" id=\"_Hn1nQLQkEeysLP7qUEj5NQ\"><rect class=\"Class\" height=\"74\" style=\"stroke-width: 1\" width=\"101\" x=\"395.5\" y=\"475.5\" /><line x1=\"395.5\" x2=\"496.5\" y1=\"499.5\" y2=\"499.5\" /><text class=\"Features\" dominant-baseline=\"middle\" text-anchor=\"start\" x=\"395.5\" y=\"499.5\"><tspan x=\"426.0\" xml:space=\"preserve\" y=\"511.5\">test : str</tspan></text><text class=\"Class\" dominant-baseline=\"middle\" text-anchor=\"middle\" x=\"395\" y=\"475\"><tspan x=\"445.5\" xml:space=\"preserve\" y=\"485.7142857142857\">Example</tspan></text><use height=\"20\" width=\"20\" x=\"404.07142857142856\" xlink:href=\"#ClassSymbol\" y=\"475.7142857142857\" /></g><g class=\"Box StringType\" id=\"_WTrwoLQkEeysLP7qUEj5NQ\"><rect class=\"StringType\" height=\"47\" style=\"fill: #E8E0D2; stroke: #676767; stroke-width: 1\" width=\"101\" x=\"895.5\" y=\"179.5\" /><text class=\"StringType\" dominant-baseline=\"middle\" text-anchor=\"middle\" x=\"895\" y=\"179\"><tspan x=\"945.5\" xml:space=\"preserve\" y=\"202.5\">str</tspan></text></g><g class=\"Edge Association\" id=\"_8RidYLQjEeysLP7qUEj5NQ\"><path class=\"Edge\" d=\"M 441.5 166.5 444.5 275.5\" style=\"marker-end: url(&quot;#FineArrowMark_000000&quot;)\" /><rect class=\"AnnotationBB\" height=\"12\" width=\"55\" x=\"403\" y=\"253\" /><text class=\"Annotation\" dominant-baseline=\"middle\" text-anchor=\"middle\" x=\"403\" y=\"253\"><tspan x=\"430.5\" xml:space=\"preserve\" y=\"258.7142857142857\">waypoints</tspan></text></g><g class=\"Edge Association\" id=\"_KBtouLQkEeysLP7qUEj5NQ\"><path class=\"Edge\" d=\"M 445.5 376.5 444.5 475.5\" style=\"marker-end: url(&quot;#FineArrowMark_000000&quot;)\" /><rect class=\"AnnotationBB\" height=\"12\" width=\"49\" x=\"413\" y=\"457\" /><text class=\"Annotation\" dominant-baseline=\"middle\" text-anchor=\"middle\" x=\"413\" y=\"457\"><tspan x=\"437.5\" xml:space=\"preserve\" y=\"462.7142857142857\">examples</tspan></text></g></svg>",
      "text/plain": [
       "<Diagram '[CDB] CodeGeneration'>"
      ]
     },
     "execution_count": 3,
     "metadata": {},
     "output_type": "execute_result"
    }
   ],
   "source": [
    "model.diagrams.by_name(\"[CDB] CodeGeneration\")"
   ]
  },
  {
   "cell_type": "markdown",
   "metadata": {},
   "source": [
    "In order to access to the classes, we simply can access to _data_package_ of the operational layer and from there to the attribute _classes_."
   ]
  },
  {
   "cell_type": "code",
   "execution_count": 4,
   "metadata": {},
   "outputs": [
    {
     "data": {
      "text/html": [
       "<h1>DataPkg <span style=\"font-size: 70%;\">(org.polarsys.capella.core.data.information:DataPkg)</span></h1><table><tr><th style=\"text-align: right;\">classes</th><td style=\"text-align: left;\"><ol start=\"0\" style=\"text-align: left;\"><li><strong>Class</strong> &quot;Twist&quot; (8164ae8b-36d5-4502-a184-5ec064db4ec3)</li><li><strong>Class</strong> &quot;Trajectory&quot; (16fc56f3-d86e-4c13-b2fe-10a498c0b6d5)</li><li><strong>Class</strong> &quot;Waypoint&quot; (1b84a3be-197c-41cd-aa95-d27b0bf2ce58)</li><li><strong>Class</strong> &quot;Example&quot; (f0dc5e0c-caa6-42de-979c-acf9436183bf)</li></ol></td></tr><tr><th style=\"text-align: right;\">collections</th><td style=\"text-align: left;\"><p><em>(Empty list)</em></p></td></tr><tr><th style=\"text-align: right;\">complex_values</th><td style=\"text-align: left;\"><p><em>(Empty list)</em></p></td></tr><tr><th style=\"text-align: right;\">constraints</th><td style=\"text-align: left;\"><p><em>(Empty list)</em></p></td></tr><tr><th style=\"text-align: right;\">description</th><td style=\"text-align: left;\"><em>None</em></td></tr><tr><th style=\"text-align: right;\">diagrams</th><td style=\"text-align: left;\"><ol start=\"0\" style=\"text-align: left;\"><li><b>[CDB] Data</b> (uuid: _beibwNYrEeqiU8uzTY0Puw)</li><li><b>[CDB] CodeGeneration</b> (uuid: _PBVPQLQiEeysLP7qUEj5NQ)</li></ol></td></tr><tr><th style=\"text-align: right;\">enumerations</th><td style=\"text-align: left;\"><p><em>(Empty list)</em></p></td></tr><tr><th style=\"text-align: right;\">name</th><td style=\"text-align: left;\">Data</td></tr><tr><th style=\"text-align: right;\">packages</th><td style=\"text-align: left;\"><p><em>(Empty list)</em></p></td></tr><tr><th style=\"text-align: right;\">parent</th><td style=\"text-align: left;\"><strong>OperationalAnalysis</strong> &quot;Operational Analysis&quot; (ddbef16d-ddb9-4162-934c-f1e40e6f8bed)</td></tr><tr><th style=\"text-align: right;\">progress_status</th><td style=\"text-align: left;\">NOT_SET</td></tr><tr><th style=\"text-align: right;\">requirements</th><td style=\"text-align: left;\"><p><em>(Empty list)</em></p></td></tr><tr><th style=\"text-align: right;\">summary</th><td style=\"text-align: left;\"><em>None</em></td></tr><tr><th style=\"text-align: right;\">unions</th><td style=\"text-align: left;\"><p><em>(Empty list)</em></p></td></tr><tr><th style=\"text-align: right;\">uuid</th><td style=\"text-align: left;\">d12c04b6-392f-4761-be5a-e44c688823f6</td></tr><tr><th style=\"text-align: right;\">xtype</th><td style=\"text-align: left;\">org.polarsys.capella.core.data.information:DataPkg</td></tr></table>"
      ],
      "text/plain": [
       "<DataPkg 'Data' (d12c04b6-392f-4761-be5a-e44c688823f6)>"
      ]
     },
     "execution_count": 4,
     "metadata": {},
     "output_type": "execute_result"
    }
   ],
   "source": [
    "data_pkg = model.oa.data_package\n",
    "data_pkg"
   ]
  },
  {
   "cell_type": "markdown",
   "metadata": {},
   "source": [
    "# ROS2 IDL Message\n",
    "\n",
    "Let's have a brief looj into the structure of ROS2 Message descriptions. They are stored in .msg files and comprises two parts: type and name, separated by a space, i.e.:\n",
    "\n",
    "### _class.msg_\n",
    "\n",
    "fieldtype1 fieldname1\n",
    "\n",
    "fieldtype2[] fieldname2"
   ]
  },
  {
   "cell_type": "code",
   "execution_count": 5,
   "metadata": {},
   "outputs": [],
   "source": [
    "def class_to_ros2_idl(cls):\n",
    "    filename = f\"{cls.name}.msg\"\n",
    "    text = []\n",
    "    for prop in cls.properties:\n",
    "        multiplicity = (\"\", \"[]\")[prop.max_card.value > 1.0]\n",
    "        text.append(f\"{prop.type.name}{multiplicity} {prop.name}\")\n",
    "    text = \"\\n\".join(text)\n",
    "    with open(filename, \"w\") as file:\n",
    "        file.write(text)\n",
    "    print(f\"# file: {filename} \\n{text}\\n\")"
   ]
  },
  {
   "cell_type": "markdown",
   "metadata": {},
   "source": [
    "In our example, files would be generated with the following content:"
   ]
  },
  {
   "cell_type": "code",
   "execution_count": 6,
   "metadata": {},
   "outputs": [
    {
     "name": "stdout",
     "output_type": "stream",
     "text": [
      "# file: Twist.msg \n",
      "\n",
      "\n",
      "# file: Trajectory.msg \n",
      "Waypoint[] waypoints\n",
      "\n",
      "# file: Waypoint.msg \n",
      "float lat\n",
      "float lon\n",
      "float alt\n",
      "Example[] examples\n",
      "\n",
      "# file: Example.msg \n",
      "str test\n",
      "\n"
     ]
    }
   ],
   "source": [
    "data_pkg = model.oa.data_package\n",
    "for cls in data_pkg.classes:\n",
    "    class_to_ros2_idl(cls)"
   ]
  },
  {
   "cell_type": "markdown",
   "metadata": {},
   "source": [
    "# Interface for python class\n",
    "\n",
    "A python class has the following structure:\n",
    "### _class.py_\n",
    "\n",
    "class class_name:\n",
    "> name1: type  \n",
    "> name2: [type]"
   ]
  },
  {
   "cell_type": "markdown",
   "metadata": {},
   "source": [
    "A python interface can be generated as follows:"
   ]
  },
  {
   "cell_type": "code",
   "execution_count": 7,
   "metadata": {},
   "outputs": [],
   "source": [
    "def class_to_python(cls, current_classes=None):\n",
    "    text = [f\"class {cls.name}:\"]\n",
    "    current_classes = [cls]\n",
    "    if not cls.properties:\n",
    "        text.append(\"\\tpass\")\n",
    "    for prop in cls.properties:\n",
    "        if (\n",
    "            isinstance(\n",
    "                prop.type, capellambse.model.crosslayer.information.Class\n",
    "            )\n",
    "            and prop.type not in current_classes\n",
    "        ):\n",
    "            nested_text = class_to_python(prop.type, current_classes)\n",
    "            text = [nested_text] + [\"\\n\"] + text\n",
    "        multiplicity = (f\"{prop.type.name}\", f\"list[{prop.type.name}]\")[\n",
    "            prop.max_card.value > 1.0\n",
    "        ]\n",
    "        text.append(f\"\\t{prop.name}: {multiplicity}\")\n",
    "    text = \"\\n\".join(text)\n",
    "\n",
    "    return text"
   ]
  },
  {
   "cell_type": "code",
   "execution_count": 8,
   "metadata": {},
   "outputs": [
    {
     "name": "stdout",
     "output_type": "stream",
     "text": [
      "# file: Trajectory.py \n",
      "class Example:\n",
      "\ttest: str\n",
      "\n",
      "\n",
      "class Waypoint:\n",
      "\tlat: float\n",
      "\tlon: float\n",
      "\talt: float\n",
      "\texamples: list[Example]\n",
      "\n",
      "\n",
      "class Trajectory:\n",
      "\twaypoints: list[Waypoint]\n",
      "\n"
     ]
    }
   ],
   "source": [
    "trajectory = data_pkg.classes.by_name(\"Trajectory\")\n",
    "text = class_to_python(trajectory)\n",
    "filename = f\"{trajectory.name}.py\"\n",
    "with open(filename, \"w\") as file:\n",
    "    file.write(text)\n",
    "print(f\"# file: {filename} \\n{text}\\n\")"
   ]
  },
  {
   "cell_type": "markdown",
   "metadata": {},
   "source": [
    "# Interface for Protocol Buffers (Protobuf) \n",
    "\n",
    "Protobuf Message descriptions are stored in .proto files where class defintion starts with _message_ and each property of the class is definded by at least three parts: the data type, name and their order number. Classes can be also nested in classes. An example is shown In the following:\n",
    "\n",
    "### _class.proto_\n",
    "\n",
    "syntax = \"proto2\";\n",
    "\n",
    "message class1 {\n",
    "\n",
    ">    datatype class1_name1 = 1;\n",
    "\n",
    ">    dataype class1_name2 = 2;\n",
    "\n",
    ">    message class2 {\n",
    "\n",
    "> >  datatype class2_name1 = 1;\n",
    "\n",
    "> >  datatype class2_name2 = 2;\n",
    "\n",
    "> >  datatype class2_name3 = 3;\n",
    "\n",
    " >   }\n",
    "\n",
    ">    repeated class2 class_name = 3;\n",
    "    \n",
    "}\n"
   ]
  },
  {
   "cell_type": "code",
   "execution_count": 9,
   "metadata": {},
   "outputs": [],
   "source": [
    "def class_to_proto(cls, current_classes=[], indent=\"\\t\"):\n",
    "    if not current_classes:\n",
    "        text = ['syntax = \"proto3\";\\n']\n",
    "    text = [f\"{indent[:-1]}message  {cls.name} {{\"]\n",
    "    current_classes.append([cls])\n",
    "\n",
    "    for counter, prop in enumerate(cls.properties):\n",
    "        multiplicity = (\"\", \"[]\")[prop.max_card.value > 1.0]\n",
    "        if (\n",
    "            isinstance(\n",
    "                prop.type, capellambse.model.crosslayer.information.Class\n",
    "            )\n",
    "            and prop.type not in current_classes\n",
    "        ):\n",
    "            current_classes.append([prop.type])\n",
    "            nested_text = class_to_proto(\n",
    "                prop.type, current_classes, indent + \"\\t\"\n",
    "            )\n",
    "            text.append(nested_text)\n",
    "            text.append(\n",
    "                f\"{indent}repeated {prop.type.name}{multiplicity} {prop.name} = {counter+1};\"\n",
    "            )\n",
    "        else:\n",
    "            text.append(\n",
    "                f\"{indent}{prop.type.name}{multiplicity} {prop.name} = {counter+1};\"\n",
    "            )\n",
    "    text[-1] = text[-1] + f\"\\n{indent[:-1]}}}\"\n",
    "    text = \"\\n\".join(text)\n",
    "    return text"
   ]
  },
  {
   "cell_type": "markdown",
   "metadata": {},
   "source": [
    "The protobuf interface of class _Trajectory_ would look as follows:\n"
   ]
  },
  {
   "cell_type": "code",
   "execution_count": 10,
   "metadata": {},
   "outputs": [
    {
     "name": "stdout",
     "output_type": "stream",
     "text": [
      "# file: Trajectory.proto \n",
      "message  Trajectory {\n",
      "\tmessage  Waypoint {\n",
      "\t\tfloat lat = 1;\n",
      "\t\tfloat lon = 2;\n",
      "\t\tfloat alt = 3;\n",
      "\t\tmessage  Example {\n",
      "\t\t\tstr test = 1;\n",
      "\t\t}\n",
      "\t\trepeated Example[] examples = 4;\n",
      "\t}\n",
      "\trepeated Waypoint[] waypoints = 1;\n",
      "}\n",
      "\n"
     ]
    }
   ],
   "source": [
    "trajectory = data_pkg.classes.by_name(\"Trajectory\")\n",
    "text = class_to_proto(trajectory)\n",
    "filename = f\"{trajectory.name}.proto\"\n",
    "with open(filename, \"w\") as file:\n",
    "    file.write(text)\n",
    "print(f\"# file: {filename} \\n{text}\\n\")"
   ]
  }
 ],
 "metadata": {
  "interpreter": {
   "hash": "e5607734f15d1b90b8506e690cd35fc527f703262c75faee6ce3cf6c6d2ff5b2"
  },
  "kernelspec": {
   "display_name": "Python 3.10.2 64-bit",
   "language": "python",
   "name": "python3"
  },
  "language_info": {
   "codemirror_mode": {
    "name": "ipython",
    "version": 3
   },
   "file_extension": ".py",
   "mimetype": "text/x-python",
   "name": "python",
   "nbconvert_exporter": "python",
   "pygments_lexer": "ipython3",
   "version": "3.10.2"
  },
  "orig_nbformat": 4
 },
 "nbformat": 4,
 "nbformat_minor": 2
}
