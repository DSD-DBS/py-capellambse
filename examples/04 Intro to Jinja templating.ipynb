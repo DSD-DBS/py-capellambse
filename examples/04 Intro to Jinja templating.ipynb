{
 "cells": [
  {
   "cell_type": "markdown",
   "metadata": {},
   "source": [
    "# Using capellambse with Jinja2\n",
    "\n",
    "Welcome to the py-capellambse jinja2 templating showcase. This notebook will\n",
    "introduce you into writing jinja2 templates where you'll plant model\n",
    "information and diagrams using jinja2's amazing templating language. With Jinja2\n",
    "you are able to generate any text-based format(HTML, XML, CSV, LaTex,...) but\n",
    "during this tutorial we will only generate .html files. The jinja2 syntax is\n",
    "inspired by python. Check out their [docs]! \n",
    "\n",
    "[docs]: https://jinja2docs.readthedocs.io/en/stable/\n",
    "\n",
    "Below code loads the needed libraries and instantiates a test model:"
   ]
  },
  {
   "cell_type": "code",
   "execution_count": 4,
   "metadata": {},
   "outputs": [
    {
     "name": "stderr",
     "output_type": "stream",
     "text": [
      "Cannot load PVMT extension: ValueError: Provided model does not have a PropertyValuePkg\n",
      "Property values are not available in this model\n"
     ]
    }
   ],
   "source": [
    "import jinja2\n",
    "import capellambse\n",
    "\n",
    "from IPython.core.display import HTML\n",
    "\n",
    "path_to_model = \"../tests/data/melodymodel/5_0/Melody Model Test.aird\"\n",
    "model = capellambse.MelodyModel(path_to_model)"
   ]
  },
  {
   "cell_type": "markdown",
   "metadata": {},
   "source": [
    "In the following we want to make a template to document all modelled actors from\n",
    "the logical layer. Therefore we define a template string where we iterate over\n",
    "all actors and plant the name, uuid and description into it.\n",
    "\n",
    "*Hint: Make sure that you know of capella's [metamodel] as we are implementing the\n",
    "capellambse.layers as close as possible to it while being as efficiently and pythonic\n",
    "we can be currently. This knowledge can shorten used statements immensely!*\n",
    "\n",
    "[metamodel]: https://dsd-dbs.github.io/py-capellambse/start/intro-to-api.html"
   ]
  },
  {
   "cell_type": "code",
   "execution_count": 5,
   "metadata": {},
   "outputs": [
    {
     "data": {
      "text/html": [
       "\n",
       "<h1>Actor definitions</h1>\n",
       "\n",
       "    <h2>Prof. A. P. W. B. Dumbledore</h2>\n",
       "    <h3>Actor definition</h3>\n",
       "    <p>UUID: 08e02248-504d-4ed8-a295-c7682a614f66</p>\n",
       "    <p><p>Principal of Hogwarts, wearer of the elder wand and greatest mage of all time.</p>\n",
       "</p>\n",
       "\n",
       "    <h2>Prof. S. Snape</h2>\n",
       "    <h3>Actor definition</h3>\n",
       "    <p>UUID: 6f463eed-c77b-4568-8078-beec0536f243</p>\n",
       "    <p><p>Good guy and teacher of brewing arts.</p>\n",
       "</p>\n",
       "\n",
       "    <h2>Harry J. Potter</h2>\n",
       "    <h3>Actor definition</h3>\n",
       "    <p>UUID: a8c46457-a702-41c4-a971-c815c4c5a674</p>\n",
       "    <p>None</p>\n",
       "\n",
       "    <h2>R. Weasley</h2>\n",
       "    <h3>Actor definition</h3>\n",
       "    <p>UUID: ff7b8672-84db-4b93-9fea-22a410907fb1</p>\n",
       "    <p>None</p>\n",
       "\n",
       "    <h2>LogicalActor 5</h2>\n",
       "    <h3>Actor definition</h3>\n",
       "    <p>UUID: 3e0ee19f-0e3f-49d4-ae99-29bd4a3260c5</p>\n",
       "    <p>None</p>\n"
      ],
      "text/plain": [
       "<IPython.core.display.HTML object>"
      ]
     },
     "execution_count": 5,
     "metadata": {},
     "output_type": "execute_result"
    }
   ],
   "source": [
    "env = jinja2.Environment()\n",
    "templ = \"\"\"\n",
    "<h1>Actor definitions</h1>\n",
    "{% for actor in model.la.all_components.by_is_actor(True) %}\n",
    "    <h2>{{ actor.name }}</h2>\n",
    "    <h3>Actor definition</h3>\n",
    "    <p>UUID: {{ actor.uuid }}</p>\n",
    "    <p>{{ actor.description }}</p>\n",
    "{% endfor %}\n",
    "\"\"\"\n",
    "\n",
    "HTML(env.from_string(templ).render(model=model))"
   ]
  },
  {
   "cell_type": "markdown",
   "metadata": {},
   "source": [
    "As an extra: We don't use the UUID from capella in our documents. If you still\n",
    "need an identifier, in the following it's explained how we are doing it:\n",
    "\n",
    "With the capella PVMT, one of the various capella [addons], you can make property\n",
    "value groups and then set arbitrary values with these. capellambse is able to recognize\n",
    "the pvmt extension and gives read and write access. In our workflows we are maintaining\n",
    "an ID database for all model elements. If that is done you can access pvmt attributes\n",
    "like:\n",
    "\n",
    "´´´html\n",
    "{{ ... }}\n",
    "<p>ID: {{ actor.pvmt[\"Group.Identification.MY MODEL ID\"] }}</p>\n",
    "{{ ... }}\n",
    "´´´\n",
    "\n",
    "For a PVMT showcase look into [TODO: pvmt-showcase notebook].\n",
    "\n",
    "[addons]: https://www.eclipse.org/capella/addons.html"
   ]
  },
  {
   "cell_type": "markdown",
   "metadata": {},
   "source": [
    "## Filters and object manipulation\n",
    "\n",
    "Now to step up our templating-game, we'll bring in more complexity.\n",
    "We want a template that documents functional context of all actors. For that\n",
    "iff the actor has a non-empty functions attribute we make a table with columns\n",
    "for function's uid, name, description and `FunctionalExchange`s.\n",
    "\n",
    "We can define variables in the template via the set statement. Furthermore\n",
    "the builtin jinja [filters] already give much power for object manipulation during\n",
    "rendering. Here we use map(.) to create `FunctionalExchange` iterators and sum these\n",
    "up into one large list that stores all `FunctionalExchange`s that have an an actor\n",
    "as either source or target. In the table for-loop we then filter on this lookup\n",
    "container and set outgoing and incoming `FunctionalExchange`s that we need for\n",
    "the last column.\n",
    "\n",
    "The jupyter environment is great for writing templates b/c you can investigate\n",
    "possible attributes of objects right away in another cell.\n",
    "\n",
    "*Hint: You can define custom filter-functions and add them to the Environment.filters.*\n",
    "\n",
    "[filters]: https://jinja.palletsprojects.com/en/3.0.x/templates/#builtin-filters"
   ]
  },
  {
   "cell_type": "code",
   "execution_count": null,
   "metadata": {},
   "outputs": [],
   "source": [
    "templ1 = \"\"\"\n",
    "<h1>Actor definitions</h1>\n",
    "{% set fexs = model.la.actor_exchanges | map(attribute=\"func_exchanges\") | map('list')\n",
    "    | sum(start=[]) | list %}\n",
    "{% for actor in model.la.all_actors %}\n",
    "    <h2>{{ actor.name }}</h2>\n",
    "    <h3>Actor definition</h3>\n",
    "    <p>{{ actor.description }}</p>\n",
    "    <h3>Actor functions</h3>\n",
    "    {% if actor.functions %}\n",
    "        <p>The table below identifies functions of {{ actor.name }}.</p>\n",
    "        <table>\n",
    "            <thead>\n",
    "                <tr>\n",
    "                    <th>ID, Function</th>\n",
    "                    <th>Description</th>\n",
    "                    <th>Involved Subsystems</th>\n",
    "                </tr>\n",
    "            </thead>\n",
    "            <tbody>\n",
    "            {% for fnc in actor.functions %}\n",
    "                {% set ports = fnc.inputs + fnc.outputs %}\n",
    "                {% set outs = (fexs | selectattr(\"source_port\", \"in\", ports) | list) \n",
    "                    | map(attribute=\"target_port.owner.owner.name\") | list %}\n",
    "                {% set ins = (fexs | selectattr(\"target_port\", \"in\", ports) | list)\n",
    "                    | map(attribute=\"source_port.owner.owner.name\") | list %}\n",
    "                {% set subs = (ins + outs) | unique | list %}\n",
    "                <tr>\n",
    "                    <td colspan=\"1\">\n",
    "                        <p>{{ fnc.uuid }}</p>\n",
    "                        <p>{{ fnc.name }}</p>\n",
    "                    </td>\n",
    "                    <td colspan=\"1\">{{ fnc.description }}</td>\n",
    "                    <td colspan=\"1\">{{ subs | join(', ') }}</td>\n",
    "                </tr>\n",
    "            {% endfor %}\n",
    "            </tbody>\n",
    "        </table>\n",
    "        <p style=\"text-align: center;\"><strong>Functions of {{ actor.name }}</strong></p>\n",
    "    {% else %}\n",
    "        <p style=\"text-align: left;\">No actor functions were identified.</p>\n",
    "    {% endif %}\n",
    "{% endfor %}\n",
    "\"\"\""
   ]
  },
  {
   "cell_type": "markdown",
   "metadata": {},
   "source": []
  }
 ],
 "metadata": {
  "interpreter": {
   "hash": "c5ea7dc634d8047a259e5b898f154d237fbe6934b444b1a949475949608d751e"
  },
  "kernelspec": {
   "display_name": "Python 3.9.5 64-bit ('venv': venv)",
   "language": "python",
   "name": "python3"
  },
  "language_info": {
   "codemirror_mode": {
    "name": "ipython",
    "version": 3
   },
   "file_extension": ".py",
   "mimetype": "text/x-python",
   "name": "python",
   "nbconvert_exporter": "python",
   "pygments_lexer": "ipython3",
   "version": "3.9.7"
  },
  "orig_nbformat": 4
 },
 "nbformat": 4,
 "nbformat_minor": 2
}
