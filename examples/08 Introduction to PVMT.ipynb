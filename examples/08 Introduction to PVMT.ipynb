{
 "cells": [
  {
   "cell_type": "markdown",
   "metadata": {},
   "source": [
    "# Introduction to Property Value Management (PVMT)\n",
    "\n",
    "This notebook present the current capabilities of the PVMT extension for py-capellambse.\n",
    "We will see how to display all defined property value domains, their groups and the\n",
    "available properties.\n",
    "Further we'll see how to access applied property values from ModelObjects. This is demonstrated on the list of LogicalActors."
   ]
  },
  {
   "cell_type": "code",
   "execution_count": 4,
   "metadata": {},
   "outputs": [],
   "source": [
    "import capellambse\n",
    "\n",
    "\n",
    "path_to_model = \"../tests/data/melodymodel/5_2/Melody Model Test.aird\"\n",
    "model = capellambse.MelodyModel(path_to_model, jupyter_untrusted=True)"
   ]
  },
  {
   "cell_type": "markdown",
   "metadata": {},
   "source": [
    "You can investigate all defined PVMT domains, their groups and properties:"
   ]
  },
  {
   "cell_type": "code",
   "execution_count": 5,
   "metadata": {},
   "outputs": [
    {
     "data": {
      "text/plain": [
       "<pvmt.Domain \"DarkMagic\"(3763dd54-a878-446a-9330-b5d9c7121865)>"
      ]
     },
     "metadata": {},
     "output_type": "display_data"
    },
    {
     "data": {
      "text/plain": [
       "[<pvmt.Group \"Power\"(1e241678-282c-46f3-abbd-e0cf34e743ee)>,\n",
       " <pvmt.Group \"Power Level\"(a0cb5a23-955e-43d6-a633-2c4e66991364)>]"
      ]
     },
     "metadata": {},
     "output_type": "display_data"
    },
    {
     "data": {
      "text/plain": [
       "[<pvmt.FloatPropertyValue \"Min\"(4c5eba40-fcc3-480f-b88f-e375dadc00e5)>,\n",
       " <pvmt.FloatPropertyValue \"Max\"(196467a2-ecee-4f35-8987-6a898cd34616)>]"
      ]
     },
     "metadata": {},
     "output_type": "display_data"
    },
    {
     "data": {
      "text/plain": [
       "[<pvmt.EnumerationPropertyValue \"Skill\"(7367c731-aabb-4807-9d74-7ef2c6482ec9)>]"
      ]
     },
     "metadata": {},
     "output_type": "display_data"
    }
   ],
   "source": [
    "darkmagic_domain = model.pvext.domains[0]\n",
    "display(darkmagic_domain)\n",
    "display(darkmagic_domain.groups)\n",
    "for grp in darkmagic_domain.groups:\n",
    "    display(grp.properties)"
   ]
  },
  {
   "cell_type": "markdown",
   "metadata": {},
   "source": [
    "The domain scope (i.e. what ArchitectureLayer) this extension can be apploed to is not yet processed further. Scopes have rules underneath to control on which ModelObject's this can be applied to.\n",
    "This is not yet supported."
   ]
  },
  {
   "cell_type": "code",
   "execution_count": 6,
   "metadata": {},
   "outputs": [
    {
     "data": {
      "text/plain": [
       "'[PROPERTY]DarkMagic.Power.Max<10000.0[/PROPERTY]\\n[ARCHITECTURE]LOGICAL[/ARCHITECTURE]'"
      ]
     },
     "execution_count": 6,
     "metadata": {},
     "output_type": "execute_result"
    }
   ],
   "source": [
    "level = darkmagic_domain.groups[-1]\n",
    "level.scope"
   ]
  },
  {
   "cell_type": "markdown",
   "metadata": {},
   "source": [
    "## Access PVMT property values\n",
    "\n",
    "The ground rule is that you can access PVMT via the `.pvmt` attribute on literally everything you can find in a model. Then the pattern is `domain.group.subgroup.[moresubgroups...].property` from which the pvmt can be indexed with:"
   ]
  },
  {
   "cell_type": "markdown",
   "metadata": {},
   "source": [
    "Let's check Dumbledore's dark magic power level:"
   ]
  },
  {
   "cell_type": "code",
   "execution_count": 8,
   "metadata": {},
   "outputs": [
    {
     "data": {
      "text/plain": [
       "'Mighty'"
      ]
     },
     "execution_count": 8,
     "metadata": {},
     "output_type": "execute_result"
    }
   ],
   "source": [
    "dumbledore = model.la.all_components.by_name(\"Prof. A. P. W. B. Dumbledore\")\n",
    "dumbledore.pvmt[\"DarkMagic.Power Level.Skill\"]"
   ]
  },
  {
   "cell_type": "markdown",
   "metadata": {},
   "source": [
    "In our test model we have more famous wizzards. Let us define a function to collect all property values and load them into a pandas.DataFrame:"
   ]
  },
  {
   "cell_type": "code",
   "execution_count": null,
   "metadata": {},
   "outputs": [
    {
     "data": {
      "text/html": [
       "<div>\n",
       "<style scoped>\n",
       "    .dataframe tbody tr th:only-of-type {\n",
       "        vertical-align: middle;\n",
       "    }\n",
       "\n",
       "    .dataframe tbody tr th {\n",
       "        vertical-align: top;\n",
       "    }\n",
       "\n",
       "    .dataframe thead th {\n",
       "        text-align: right;\n",
       "    }\n",
       "</style>\n",
       "<table border=\"1\" class=\"dataframe\">\n",
       "  <thead>\n",
       "    <tr style=\"text-align: right;\">\n",
       "      <th></th>\n",
       "      <th>Minimum Power</th>\n",
       "      <th>Maximum Power</th>\n",
       "      <th>Skill level</th>\n",
       "    </tr>\n",
       "  </thead>\n",
       "  <tbody>\n",
       "    <tr>\n",
       "      <th>Prof. A. P. W. B. Dumbledore</th>\n",
       "      <td>800.0</td>\n",
       "      <td>1600.0</td>\n",
       "      <td>Mighty</td>\n",
       "    </tr>\n",
       "    <tr>\n",
       "      <th>Prof. S. Snape</th>\n",
       "      <td>200.0</td>\n",
       "      <td>450.0</td>\n",
       "      <td>Mighty</td>\n",
       "    </tr>\n",
       "    <tr>\n",
       "      <th>Harry J. Potter</th>\n",
       "      <td>300.0</td>\n",
       "      <td>500.0</td>\n",
       "      <td>Apprentice</td>\n",
       "    </tr>\n",
       "    <tr>\n",
       "      <th>R. Weasley</th>\n",
       "      <td>50.0</td>\n",
       "      <td>150.0</td>\n",
       "      <td>Apprentice</td>\n",
       "    </tr>\n",
       "    <tr>\n",
       "      <th>Voldemeort</th>\n",
       "      <td>NaN</td>\n",
       "      <td>10000.0</td>\n",
       "      <td>TheOneWhoShallNotBeNamed</td>\n",
       "    </tr>\n",
       "  </tbody>\n",
       "</table>\n",
       "</div>"
      ],
      "text/plain": [
       "                              Minimum Power  Maximum Power  \\\n",
       "Prof. A. P. W. B. Dumbledore          800.0         1600.0   \n",
       "Prof. S. Snape                        200.0          450.0   \n",
       "Harry J. Potter                       300.0          500.0   \n",
       "R. Weasley                             50.0          150.0   \n",
       "Voldemeort                              NaN        10000.0   \n",
       "\n",
       "                                           Skill level  \n",
       "Prof. A. P. W. B. Dumbledore                    Mighty  \n",
       "Prof. S. Snape                                  Mighty  \n",
       "Harry J. Potter                             Apprentice  \n",
       "R. Weasley                                  Apprentice  \n",
       "Voldemeort                    TheOneWhoShallNotBeNamed  "
      ]
     },
     "execution_count": 61,
     "metadata": {},
     "output_type": "execute_result"
    }
   ],
   "source": [
    "import pandas as pd\n",
    "\n",
    "\n",
    "def get_darkmagic_dataframe(model: capellambse.MelodyModel) -> pd.DataFrame:\n",
    "    \"\"\"Return a DataFrame with the darkmagic power for all LogicalActors.\"\"\"\n",
    "    return pd.DataFrame(\n",
    "        [\n",
    "            {\n",
    "                \"Minimum Power\": actor.pvmt[\"DarkMagic.Power.Min\"],\n",
    "                \"Maximum Power\": actor.pvmt[\"DarkMagic.Power.Max\"],\n",
    "                \"Skill level\": actor.pvmt[\"DarkMagic.Power Level.Skill\"],\n",
    "            } for actor in model.la.all_actors\n",
    "        ], index=(actor.name for actor in model.la.all_actors)\n",
    "    )\n",
    "\n",
    "\n",
    "get_darkmagic_dataframe(model)"
   ]
  },
  {
   "cell_type": "markdown",
   "metadata": {},
   "source": [
    "## Writing Property values is not yet supported"
   ]
  },
  {
   "cell_type": "code",
   "execution_count": null,
   "metadata": {},
   "outputs": [
    {
     "ename": "TypeError",
     "evalue": "'PropertyValueProxy' object does not support item assignment",
     "output_type": "error",
     "traceback": [
      "\u001b[0;31m---------------------------------------------------------------------------\u001b[0m",
      "\u001b[0;31mTypeError\u001b[0m                                 Traceback (most recent call last)",
      "\u001b[1;32m/home/liyuanxin/wörk/python-capella-mbse/examples/08 Introduction to PVMT.ipynb Cell 14'\u001b[0m in \u001b[0;36m<cell line: 1>\u001b[0;34m()\u001b[0m\n\u001b[0;32m----> <a href='vscode-notebook-cell:/home/liyuanxin/w%C3%B6rk/python-capella-mbse/examples/08%20Introduction%20to%20PVMT.ipynb#ch0000005?line=0'>1</a>\u001b[0m dumbledore\u001b[39m.\u001b[39mpvmt[\u001b[39m\"\u001b[39m\u001b[39mDarkMagic.Power.Min\u001b[39m\u001b[39m\"\u001b[39m] \u001b[39m=\u001b[39m \u001b[39m1000.0\u001b[39m\n",
      "\u001b[0;31mTypeError\u001b[0m: 'PropertyValueProxy' object does not support item assignment"
     ]
    }
   ],
   "source": [
    "dumbledore.pvmt[\"DarkMagic.Power.Min\"] = 1000.0"
   ]
  },
  {
   "cell_type": "code",
   "execution_count": null,
   "metadata": {},
   "outputs": [],
   "source": []
  }
 ],
 "metadata": {
  "kernelspec": {
   "display_name": "Python 3.10.4 ('venv': venv)",
   "language": "python",
   "name": "python3"
  },
  "language_info": {
   "codemirror_mode": {
    "name": "ipython",
    "version": 3
   },
   "file_extension": ".py",
   "mimetype": "text/x-python",
   "name": "python",
   "nbconvert_exporter": "python",
   "pygments_lexer": "ipython3",
   "version": "3.10.4"
  },
  "orig_nbformat": 4,
  "vscode": {
   "interpreter": {
    "hash": "c5ea7dc634d8047a259e5b898f154d237fbe6934b444b1a949475949608d751e"
   }
  }
 },
 "nbformat": 4,
 "nbformat_minor": 2
}
