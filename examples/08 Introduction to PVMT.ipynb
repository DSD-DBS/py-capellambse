{
 "cells": [
  {
   "cell_type": "markdown",
   "metadata": {},
   "source": [
    "# Introduction to Property Value Management (PVMT)\n",
    "\n",
    "This notebook present the current capabilities of the PVMT extension for py-capellambse.\n",
    "We will see how to display all defined property value domains, their groups and the\n",
    "available properties.\n",
    "Further we'll see how to access applied property values from ModelObjects. This is demonstrated on the list of LogicalActors."
   ]
  },
  {
   "cell_type": "code",
   "execution_count": 1,
   "metadata": {},
   "outputs": [],
   "source": [
    "import capellambse\n",
    "\n",
    "\n",
    "path_to_model = \"../tests/data/melodymodel/5_2/Melody Model Test.aird\"\n",
    "model = capellambse.MelodyModel(path_to_model, jupyter_untrusted=True)"
   ]
  },
  {
   "cell_type": "markdown",
   "metadata": {},
   "source": [
    "You can investigate all defined PVMT domains, their groups and properties:"
   ]
  },
  {
   "cell_type": "code",
   "execution_count": 10,
   "metadata": {},
   "outputs": [
    {
     "data": {
      "text/html": [
       "<h1>PropertyValuePkg <span style=\"font-size: 70%;\">(org.polarsys.capella.core.data.capellacore:PropertyValuePkg)</span></h1><table><tr><th style=\"text-align: right;\">constraints</th><td style=\"text-align: left;\"><p><em>(Empty list)</em></p></td></tr><tr><th style=\"text-align: right;\">description</th><td style=\"text-align: left;\"><em>None</em></td></tr><tr><th style=\"text-align: right;\">diagrams</th><td style=\"text-align: left;\"><p><em>(Empty list)</em></p></td></tr><tr><th style=\"text-align: right;\">enumeration_property_types</th><td style=\"text-align: left;\"><ol start=\"0\" style=\"text-align: left;\"><li><strong>EnumerationPropertyType</strong> &quot;DarkMagicPowerEnum&quot; (2644e99b-72c8-42f0-9bba-5141dda592e9)</li></ol></td></tr><tr><th style=\"text-align: right;\">groups</th><td style=\"text-align: left;\"><ol start=\"0\" style=\"text-align: left;\"><li><strong>PropertyValueGroup</strong> &quot;Power&quot; (1e241678-282c-46f3-abbd-e0cf34e743ee)</li><li><strong>PropertyValueGroup</strong> &quot;Power Level&quot; (a0cb5a23-955e-43d6-a633-2c4e66991364)</li></ol></td></tr><tr><th style=\"text-align: right;\">name</th><td style=\"text-align: left;\">DarkMagic</td></tr><tr><th style=\"text-align: right;\">packages</th><td style=\"text-align: left;\"><p><em>(Empty list)</em></p></td></tr><tr><th style=\"text-align: right;\">parent</th><td style=\"text-align: left;\"><strong>PropertyValuePkg</strong> &quot;EXTENSIONS&quot; (fdbeb3b8-e1e2-4c6d-aff4-bccb1b9f437f)</td></tr><tr><th style=\"text-align: right;\">progress_status</th><td style=\"text-align: left;\">NOT_SET</td></tr><tr><th style=\"text-align: right;\">pvmt</th><td style=\"text-align: left;\"><em>&lt;capellambse.extensions.pvmt.PropertyValueProxy object at 0x7f27e23738e0&gt;</em></td></tr><tr><th style=\"text-align: right;\">requirements</th><td style=\"text-align: left;\"><p><em>(Empty list)</em></p></td></tr><tr><th style=\"text-align: right;\">summary</th><td style=\"text-align: left;\"><em>None</em></td></tr><tr><th style=\"text-align: right;\">traces</th><td style=\"text-align: left;\"><p><em>(Empty list)</em></p></td></tr><tr><th style=\"text-align: right;\">uuid</th><td style=\"text-align: left;\">3763dd54-a878-446a-9330-b5d9c7121865</td></tr><tr><th style=\"text-align: right;\">values</th><td style=\"text-align: left;\"><ol start=\"0\" style=\"text-align: left;\"><li><strong>StringPropertyValue</strong> &quot;version&quot;: 1.0.0 (6b9fc2f4-48c4-49d1-96c2-0c082d64ec83)</li></ol></td></tr><tr><th style=\"text-align: right;\">xtype</th><td style=\"text-align: left;\">org.polarsys.capella.core.data.capellacore:PropertyValuePkg</td></tr></table>"
      ],
      "text/plain": [
       "<PropertyValuePkg 'DarkMagic' (3763dd54-a878-446a-9330-b5d9c7121865)>\n",
       ".constraints = []\n",
       ".description = None\n",
       ".diagrams = []\n",
       ".enumeration_property_types = [0] <EnumerationPropertyType 'DarkMagicPowerEnum' (2644e99b-72c8-42f0-9bba-5141dda592e9)>\n",
       ".groups = [0] <PropertyValueGroup 'Power' (1e241678-282c-46f3-abbd-e0cf34e743ee)>\n",
       "          [1] <PropertyValueGroup 'Power Level' (a0cb5a23-955e-43d6-a633-2c4e66991364)>\n",
       ".name = 'DarkMagic'\n",
       ".packages = []\n",
       ".parent = <PropertyValuePkg 'EXTENSIONS' (fdbeb3b8-e1e2-4c6d-aff4-bccb1b9f437f)>\n",
       ".progress_status = 'NOT_SET'\n",
       ".pvmt = <capellambse.extensions.pvmt.PropertyValueProxy object at 0x7f27e23aeb60>\n",
       ".requirements = []\n",
       ".summary = None\n",
       ".traces = []\n",
       ".uuid = '3763dd54-a878-446a-9330-b5d9c7121865'\n",
       ".values = [0] <StringPropertyValue 'version' (6b9fc2f4-48c4-49d1-96c2-0c082d64ec83)>\n",
       ".xtype = 'org.polarsys.capella.core.data.capellacore:PropertyValuePkg'"
      ]
     },
     "metadata": {},
     "output_type": "display_data"
    },
    {
     "data": {
      "text/html": [
       "<ol start=\"0\" style=\"text-align: left;\"><li><strong>PropertyValueGroup</strong> &quot;Power&quot; (1e241678-282c-46f3-abbd-e0cf34e743ee)</li><li><strong>PropertyValueGroup</strong> &quot;Power Level&quot; (a0cb5a23-955e-43d6-a633-2c4e66991364)</li></ol>"
      ],
      "text/plain": [
       "[0] <PropertyValueGroup 'Power' (1e241678-282c-46f3-abbd-e0cf34e743ee)>\n",
       "[1] <PropertyValueGroup 'Power Level' (a0cb5a23-955e-43d6-a633-2c4e66991364)>"
      ]
     },
     "metadata": {},
     "output_type": "display_data"
    },
    {
     "data": {
      "text/plain": [
       "'Power'"
      ]
     },
     "metadata": {},
     "output_type": "display_data"
    },
    {
     "data": {
      "text/html": [
       "<ol start=\"0\" style=\"text-align: left;\"><li><strong>FloatPropertyValue</strong> &quot;Min&quot;: 0.0 (4c5eba40-fcc3-480f-b88f-e375dadc00e5)</li><li><strong>FloatPropertyValue</strong> &quot;Max&quot;: 10000.0 (196467a2-ecee-4f35-8987-6a898cd34616)</li></ol>"
      ],
      "text/plain": [
       "[0] <FloatPropertyValue 'Min' (4c5eba40-fcc3-480f-b88f-e375dadc00e5)>\n",
       "[1] <FloatPropertyValue 'Max' (196467a2-ecee-4f35-8987-6a898cd34616)>"
      ]
     },
     "metadata": {},
     "output_type": "display_data"
    },
    {
     "data": {
      "text/plain": [
       "'Power Level'"
      ]
     },
     "metadata": {},
     "output_type": "display_data"
    },
    {
     "data": {
      "text/html": [
       "<ol start=\"0\" style=\"text-align: left;\"><li><strong>EnumerationPropertyValue</strong> &quot;Skill&quot;: <EnumerationPropertyLiteral 'TheOneWhoShallNotBeNamed' (4da42696-28e2-4f90-bfb6-90ba1fc52d01)>\n",
       ".constraints = []\n",
       ".description = None\n",
       ".diagrams = []\n",
       ".name = 'TheOneWhoShallNotBeNamed'\n",
       ".parent = <EnumerationPropertyType 'DarkMagicPowerEnum' (2644e99b-72c8-42f0-9bba-5141dda592e9)>\n",
       ".progress_status = 'NOT_SET'\n",
       ".pvmt = <capellambse.extensions.pvmt.PropertyValueProxy object at 0x7f27e246b730>\n",
       ".requirements = []\n",
       ".summary = None\n",
       ".traces = []\n",
       ".uuid = '4da42696-28e2-4f90-bfb6-90ba1fc52d01'\n",
       ".values = [0] <StringPropertyValue '__LITERAL__' (51fc9166-c399-40a4-98d4-f3b87165df7b)>\n",
       ".xtype = 'org.polarsys.capella.core.data.capellacore:EnumerationPropertyLiteral' (7367c731-aabb-4807-9d74-7ef2c6482ec9)</li></ol>"
      ],
      "text/plain": [
       "[0] <EnumerationPropertyValue 'Skill' (7367c731-aabb-4807-9d74-7ef2c6482ec9)>"
      ]
     },
     "metadata": {},
     "output_type": "display_data"
    }
   ],
   "source": [
    "darkmagic = model.property_value_packages[0].packages[0]\n",
    "display(darkmagic)\n",
    "display(darkmagic.groups)\n",
    "for grp in darkmagic.groups:\n",
    "    display(grp.name)\n",
    "    display(grp.values)"
   ]
  },
  {
   "cell_type": "markdown",
   "metadata": {},
   "source": [
    "The domain scope (i.e. what ArchitectureLayer) this extension can be apploed to is not yet processed further. Scopes have rules underneath to control on which ModelObject's this can be applied to.\n",
    "This is not yet supported."
   ]
  },
  {
   "cell_type": "code",
   "execution_count": 6,
   "metadata": {},
   "outputs": [
    {
     "data": {
      "text/plain": [
       "Markup('[PROPERTY]DarkMagic.Power.Max<10000.0[/PROPERTY]\\n[ARCHITECTURE]LOGICAL[/ARCHITECTURE]')"
      ]
     },
     "execution_count": 6,
     "metadata": {},
     "output_type": "execute_result"
    }
   ],
   "source": [
    "level = darkmagic.groups[-1]\n",
    "level.description"
   ]
  },
  {
   "cell_type": "markdown",
   "metadata": {},
   "source": [
    "## Access PVMT property values\n",
    "\n",
    "The ground rule is that you can access PVMT via the `.pvmt` attribute on literally everything you can find in a model. Then the pattern is `domain.group.subgroup.[moresubgroups...].property` from which the pvmt can be indexed with:"
   ]
  },
  {
   "cell_type": "markdown",
   "metadata": {},
   "source": [
    "Let's check Dumbledore's dark magic power level:"
   ]
  },
  {
   "cell_type": "code",
   "execution_count": 7,
   "metadata": {},
   "outputs": [
    {
     "data": {
      "text/plain": [
       "'Mighty'"
      ]
     },
     "execution_count": 7,
     "metadata": {},
     "output_type": "execute_result"
    }
   ],
   "source": [
    "dumbledore = model.la.all_components.by_name(\"Prof. A. P. W. B. Dumbledore\")\n",
    "dumbledore.pvmt[\"DarkMagic.Power Level.Skill\"]"
   ]
  },
  {
   "cell_type": "markdown",
   "metadata": {},
   "source": [
    "In our test model we have more famous wizzards. Let us define a function to collect all property values and load them into a pandas.DataFrame:"
   ]
  },
  {
   "cell_type": "code",
   "execution_count": 8,
   "metadata": {},
   "outputs": [
    {
     "data": {
      "text/html": [
       "<div>\n",
       "<style scoped>\n",
       "    .dataframe tbody tr th:only-of-type {\n",
       "        vertical-align: middle;\n",
       "    }\n",
       "\n",
       "    .dataframe tbody tr th {\n",
       "        vertical-align: top;\n",
       "    }\n",
       "\n",
       "    .dataframe thead th {\n",
       "        text-align: right;\n",
       "    }\n",
       "</style>\n",
       "<table border=\"1\" class=\"dataframe\">\n",
       "  <thead>\n",
       "    <tr style=\"text-align: right;\">\n",
       "      <th></th>\n",
       "      <th>Minimum Power</th>\n",
       "      <th>Maximum Power</th>\n",
       "      <th>Skill level</th>\n",
       "    </tr>\n",
       "  </thead>\n",
       "  <tbody>\n",
       "    <tr>\n",
       "      <th>Voldemort</th>\n",
       "      <td>NaN</td>\n",
       "      <td>10000.0</td>\n",
       "      <td>TheOneWhoShallNotBeNamed</td>\n",
       "    </tr>\n",
       "    <tr>\n",
       "      <th>Harry J. Potter</th>\n",
       "      <td>300.0</td>\n",
       "      <td>500.0</td>\n",
       "      <td>Apprentice</td>\n",
       "    </tr>\n",
       "    <tr>\n",
       "      <th>Prof. A. P. W. B. Dumbledore</th>\n",
       "      <td>800.0</td>\n",
       "      <td>1600.0</td>\n",
       "      <td>Mighty</td>\n",
       "    </tr>\n",
       "    <tr>\n",
       "      <th>R. Weasley</th>\n",
       "      <td>50.0</td>\n",
       "      <td>150.0</td>\n",
       "      <td>Apprentice</td>\n",
       "    </tr>\n",
       "    <tr>\n",
       "      <th>Prof. S. Snape</th>\n",
       "      <td>200.0</td>\n",
       "      <td>450.0</td>\n",
       "      <td>Mighty</td>\n",
       "    </tr>\n",
       "  </tbody>\n",
       "</table>\n",
       "</div>"
      ],
      "text/plain": [
       "                              Minimum Power  Maximum Power  \\\n",
       "Voldemort                               NaN        10000.0   \n",
       "Harry J. Potter                       300.0          500.0   \n",
       "Prof. A. P. W. B. Dumbledore          800.0         1600.0   \n",
       "R. Weasley                             50.0          150.0   \n",
       "Prof. S. Snape                        200.0          450.0   \n",
       "\n",
       "                                           Skill level  \n",
       "Voldemort                     TheOneWhoShallNotBeNamed  \n",
       "Harry J. Potter                             Apprentice  \n",
       "Prof. A. P. W. B. Dumbledore                    Mighty  \n",
       "R. Weasley                                  Apprentice  \n",
       "Prof. S. Snape                                  Mighty  "
      ]
     },
     "execution_count": 8,
     "metadata": {},
     "output_type": "execute_result"
    }
   ],
   "source": [
    "import pandas as pd\n",
    "\n",
    "\n",
    "def get_darkmagic_dataframe(model: capellambse.MelodyModel) -> pd.DataFrame:\n",
    "    \"\"\"Return a DataFrame with the darkmagic power for all LogicalActors.\"\"\"\n",
    "    return pd.DataFrame(\n",
    "        [\n",
    "            {\n",
    "                \"Minimum Power\": actor.pvmt[\"DarkMagic.Power.Min\"],\n",
    "                \"Maximum Power\": actor.pvmt[\"DarkMagic.Power.Max\"],\n",
    "                \"Skill level\": actor.pvmt[\"DarkMagic.Power Level.Skill\"],\n",
    "            } for actor in model.la.all_actors\n",
    "        ], index=(actor.name for actor in model.la.all_actors)\n",
    "    )\n",
    "\n",
    "\n",
    "get_darkmagic_dataframe(model)"
   ]
  },
  {
   "cell_type": "markdown",
   "metadata": {},
   "source": [
    "## Writing Property values"
   ]
  },
  {
   "cell_type": "code",
   "execution_count": 9,
   "metadata": {},
   "outputs": [
    {
     "ename": "TypeError",
     "evalue": "'PropertyValueProxy' object does not support item assignment",
     "output_type": "error",
     "traceback": [
      "\u001b[0;31m---------------------------------------------------------------------------\u001b[0m",
      "\u001b[0;31mTypeError\u001b[0m                                 Traceback (most recent call last)",
      "\u001b[1;32m/home/liyuanxin/wörk/python-capella-mbse/examples/08 Introduction to PVMT.ipynb Cell 15\u001b[0m in \u001b[0;36m<cell line: 1>\u001b[0;34m()\u001b[0m\n\u001b[0;32m----> <a href='vscode-notebook-cell:/home/liyuanxin/w%C3%B6rk/python-capella-mbse/examples/08%20Introduction%20to%20PVMT.ipynb#X15sZmlsZQ%3D%3D?line=0'>1</a>\u001b[0m dumbledore\u001b[39m.\u001b[39mpvmt[\u001b[39m\"\u001b[39m\u001b[39mDarkMagic.Power.Min\u001b[39m\u001b[39m\"\u001b[39m] \u001b[39m=\u001b[39m \u001b[39m1000.0\u001b[39m\n",
      "\u001b[0;31mTypeError\u001b[0m: 'PropertyValueProxy' object does not support item assignment"
     ]
    }
   ],
   "source": [
    "dumbledore.pvmt[\"DarkMagic.Power.Min\"] = 1000.0"
   ]
  },
  {
   "cell_type": "code",
   "execution_count": null,
   "metadata": {},
   "outputs": [],
   "source": []
  }
 ],
 "metadata": {
  "kernelspec": {
   "display_name": "Python 3.10.4 ('venv': venv)",
   "language": "python",
   "name": "python3"
  },
  "language_info": {
   "codemirror_mode": {
    "name": "ipython",
    "version": 3
   },
   "file_extension": ".py",
   "mimetype": "text/x-python",
   "name": "python",
   "nbconvert_exporter": "python",
   "pygments_lexer": "ipython3",
   "version": "3.10.4"
  },
  "orig_nbformat": 4,
  "vscode": {
   "interpreter": {
    "hash": "c5ea7dc634d8047a259e5b898f154d237fbe6934b444b1a949475949608d751e"
   }
  }
 },
 "nbformat": 4,
 "nbformat_minor": 2
}
