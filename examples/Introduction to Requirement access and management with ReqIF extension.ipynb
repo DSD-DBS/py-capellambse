{
 "cells": [
  {
   "cell_type": "markdown",
   "id": "7bcee230",
   "metadata": {},
   "source": [
    "# Introduction\n",
    "\n",
    "Welcome to the ReqIF extension Showcase notebook. This notebook will show you some basic (and not so basic) things that you can get done using this library.\n",
    "\n",
    "The below code loads the library and one of the test models:"
   ]
  },
  {
   "cell_type": "code",
   "execution_count": 1,
   "id": "a52777dd",
   "metadata": {},
   "outputs": [
    {
     "name": "stderr",
     "output_type": "stream",
     "text": [
      "Cannot load PVMT extension: ValueError: Provided model does not have a PropertyValuePkg\n",
      "Property values are not available in this model\n"
     ]
    },
    {
     "data": {
      "text/plain": [
       "<capellambse.model.MelodyModel at 0x7f2440255ee0>"
      ]
     },
     "execution_count": 1,
     "metadata": {},
     "output_type": "execute_result"
    }
   ],
   "source": [
    "import capellambse\n",
    "\n",
    "path_to_model = \"../tests/data/melodymodel/5_0/Melody Model Test.aird\"\n",
    "model = capellambse.MelodyModel(path_to_model)\n",
    "model"
   ]
  },
  {
   "cell_type": "markdown",
   "id": "d8442183",
   "metadata": {},
   "source": [
    "You can access a lookup for all requirements defined in a specific layer."
   ]
  },
  {
   "cell_type": "code",
   "execution_count": 2,
   "id": "42a46a49",
   "metadata": {},
   "outputs": [
    {
     "data": {
      "text/html": [
       "<ol start=\"0\" style=\"text-align: left;\"><li><strong>Requirement</strong> &quot;TestReq1&quot; (3c2d312c-37c9-41b5-8c32-67578fa52dc3)</li><li><strong>Requirement</strong> &quot;TypedReq2&quot; (0a9a68b1-ba9a-4793-b2cf-4448f0b4b8cc)</li><li><strong>Requirement</strong> &quot;TestReq3&quot; (79291c33-5147-4543-9398-9077d582576d)</li><li><strong>Requirement</strong> &quot;TypedReq1&quot; (85d41db2-9e17-438b-95cf-49342452ddf3)</li><li><strong>Requirement</strong> &quot;TestReq&quot; (1092f69a-5f3a-4fe6-a8fd-b2dffde90650)</li></ol>"
      ],
      "text/plain": [
       "<CoupledElementList at 0x00007F244025AAC0 [<Requirement 'Test Module/This is a folder./<p>Test requirement 1 really l o n g text that is&nbsp;way too long to display here as that</p>\\n\\n<p>&lt; &gt; &quot; &#39;</p>\\n\\n<ul>\\n\\t<li>This&nbsp;is a list</li>\\n\\t<li>an unordered one</li>\\n</ul>\\n\\n<ol>\\n\\t<li>Ordered list</li>\\n\\t<li>Ok</li>\\n</ol>\\n' (3c2d312c-37c9-41b5-8c32-67578fa52dc3)>, <Requirement 'Test Module/This is a folder./TypedReq2' (0a9a68b1-ba9a-4793-b2cf-4448f0b4b8cc)>, <Requirement 'Test Module/This is a folder./Subfolder/TestReq3' (79291c33-5147-4543-9398-9077d582576d)>, <Requirement 'Test Module/TypedReq1' (85d41db2-9e17-438b-95cf-49342452ddf3)>, <Requirement 'Next Module/TestReq' (1092f69a-5f3a-4fe6-a8fd-b2dffde90650)>]>"
      ]
     },
     "execution_count": 2,
     "metadata": {},
     "output_type": "execute_result"
    }
   ],
   "source": [
    "model.oa.all_requirements"
   ]
  },
  {
   "cell_type": "markdown",
   "id": "904c842b",
   "metadata": {},
   "source": [
    "Have a look at all of the available attributes for a Requirement ModelElement:"
   ]
  },
  {
   "cell_type": "code",
   "execution_count": 3,
   "id": "cb0a5b75",
   "metadata": {},
   "outputs": [
    {
     "data": {
      "text/html": [
       "<h1>Requirement <span style=\"font-size: 70%;\">(Requirements:Requirement)</span></h1><table><tr><th style=\"text-align: right;\">attributes</th><td style=\"text-align: left;\"><ol start=\"0\" style=\"text-align: left;\"><li><strong>RequirementsAttribute</strong> &quot;(Unnamed Requirements:BooleanValueAttribute)&quot; (9c692405-b8aa-4caa-b988-51d27db5cd1b)</li><li><strong>RequirementsAttribute</strong> &quot;(Unnamed Requirements:DateValueAttribute)&quot; (b97c09b5-948a-46e8-a656-69d764ddce7d)</li><li><strong>RequirementsAttribute</strong> &quot;(Unnamed Requirements:IntegerValueAttribute)&quot; (85dfd42c-7f6e-4236-a181-bdd784040431)</li><li><strong>RequirementsAttribute</strong> &quot;(Unnamed Requirements:RealValueAttribute)&quot; (d2231d14-854d-4625-b48b-6cf1c2554367)</li><li><strong>RequirementsAttribute</strong> &quot;(Unnamed Requirements:StringValueAttribute)&quot; (ee8a69ef-61b9-4db9-9a0f-628e5d4704e1)</li><li><strong>RequirementsAttribute</strong> &quot;(Unnamed Requirements:BooleanValueAttribute)&quot; (dcb8614e-2d1c-4cb3-aa0c-667a297e7489)</li></ol></td></tr><tr><th style=\"text-align: right;\">chapter_name</th><td style=\"text-align: left;\">2</td></tr><tr><th style=\"text-align: right;\">constraints</th><td style=\"text-align: left;\"><p><em>(Empty list)</em></p></td></tr><tr><th style=\"text-align: right;\">description</th><td style=\"text-align: left;\">This is a test requirement of kind 1.</td></tr><tr><th style=\"text-align: right;\">diagrams</th><td style=\"text-align: left;\"><p><em>(Empty list)</em></p></td></tr><tr><th style=\"text-align: right;\">foreign_id</th><td style=\"text-align: left;\"><em>1</em></td></tr><tr><th style=\"text-align: right;\">identifier</th><td style=\"text-align: left;\">REQTYPE-1</td></tr><tr><th style=\"text-align: right;\">long_name</th><td style=\"text-align: left;\">1</td></tr><tr><th style=\"text-align: right;\">name</th><td style=\"text-align: left;\">TestReq1</td></tr><tr><th style=\"text-align: right;\">owner</th><td style=\"text-align: left;\"><strong>RequirementsFolder</strong> &quot;Folder&quot; (e16f5cc1-3299-43d0-b1a0-82d31a137111)</td></tr><tr><th style=\"text-align: right;\">prefix</th><td style=\"text-align: left;\">3</td></tr><tr><th style=\"text-align: right;\">progress_status</th><td style=\"text-align: left;\">NOT_SET</td></tr><tr><th style=\"text-align: right;\">related</th><td style=\"text-align: left;\"><ol start=\"0\" style=\"text-align: left;\"><li><strong>Entity</strong> &quot;Weather&quot; (4bf0356c-89dd-45e9-b8a6-e0332c026d33)</li><li><strong>SystemFunction</strong> &quot;Sysexfunc&quot; (00e7b925-cf4c-4cb0-929e-5409a1cd872b)</li><li><strong>Requirement</strong> &quot;TypedReq1&quot; (85d41db2-9e17-438b-95cf-49342452ddf3)</li><li><strong>LogicalComponent</strong> &quot;Hogwarts&quot; (0d2edb8f-fa34-4e73-89ec-fb9a63001440)</li></ol></td></tr><tr><th style=\"text-align: right;\">relations</th><td style=\"text-align: left;\"><ol start=\"0\" style=\"text-align: left;\"><li><strong>RequirementsIncRelation</strong> &quot;None&quot; (078b2c69-4352-4cf9-9ea5-6573b75e5eec)</li><li><strong>RequirementsIncRelation</strong> &quot;None&quot; (24c824ef-b187-4725-a051-a68707e82d70)</li><li><strong>RequirementsOutRelation</strong> &quot;None&quot; (57033242-3766-4961-8091-ce3d9326ed67)</li><li><strong>RequirementsIntRelation</strong> &quot;None&quot; (7de4c1a5-e106-4171-902a-502b816b60b0)</li></ol></td></tr><tr><th style=\"text-align: right;\">requirements</th><td style=\"text-align: left;\"><ol start=\"0\" style=\"text-align: left;\"><li><strong>Entity</strong> &quot;Weather&quot; (4bf0356c-89dd-45e9-b8a6-e0332c026d33)</li><li><strong>SystemFunction</strong> &quot;Sysexfunc&quot; (00e7b925-cf4c-4cb0-929e-5409a1cd872b)</li><li><strong>Requirement</strong> &quot;TypedReq1&quot; (85d41db2-9e17-438b-95cf-49342452ddf3)</li><li><strong>LogicalComponent</strong> &quot;Hogwarts&quot; (0d2edb8f-fa34-4e73-89ec-fb9a63001440)</li></ol></td></tr><tr><th style=\"text-align: right;\">summary</th><td style=\"text-align: left;\"><em>None</em></td></tr><tr><th style=\"text-align: right;\">text</th><td style=\"text-align: left;\"><p>Test requirement 1 really l o n g text that is way too long to display here as that</p>\n",
       "\n",
       "<p>&lt; &gt; \" '</p>\n",
       "\n",
       "<ul>\n",
       "\t<li>This is a list</li>\n",
       "\t<li>an unordered one</li>\n",
       "</ul>\n",
       "\n",
       "<ol>\n",
       "\t<li>Ordered list</li>\n",
       "\t<li>Ok</li>\n",
       "</ol>\n",
       "</td></tr><tr><th style=\"text-align: right;\">type</th><td style=\"text-align: left;\"><strong>RequirementType</strong> &quot;None&quot; (db47fca9-ddb6-4397-8d4b-e397e53d277e)</td></tr><tr><th style=\"text-align: right;\">uuid</th><td style=\"text-align: left;\">3c2d312c-37c9-41b5-8c32-67578fa52dc3</td></tr><tr><th style=\"text-align: right;\">xtype</th><td style=\"text-align: left;\">Requirements:Requirement</td></tr></table>"
      ],
      "text/plain": [
       "<Requirement 'Test Module/This is a folder./<p>Test requirement 1 really l o n g text that is&nbsp;way too long to display here as that</p>\\n\\n<p>&lt; &gt; &quot; &#39;</p>\\n\\n<ul>\\n\\t<li>This&nbsp;is a list</li>\\n\\t<li>an unordered one</li>\\n</ul>\\n\\n<ol>\\n\\t<li>Ordered list</li>\\n\\t<li>Ok</li>\\n</ol>\\n' (3c2d312c-37c9-41b5-8c32-67578fa52dc3)>"
      ]
     },
     "execution_count": 3,
     "metadata": {},
     "output_type": "execute_result"
    }
   ],
   "source": [
    "model.oa.all_requirements[0]"
   ]
  },
  {
   "cell_type": "markdown",
   "id": "896e3633",
   "metadata": {},
   "source": [
    "## Filtering for requirements by type\n",
    "\n",
    "You probably know about typing of your Requirements. You can have a view of all requirement type folders directly on a specific layer and see the stored requirement_types:"
   ]
  },
  {
   "cell_type": "code",
   "execution_count": 4,
   "id": "8dad0bed",
   "metadata": {},
   "outputs": [
    {
     "data": {
      "text/html": [
       "<h1>RequirementsTypesFolder <span style=\"font-size: 70%;\">(CapellaRequirements:CapellaTypesFolder)</span></h1><table><tr><th style=\"text-align: right;\">constraints</th><td style=\"text-align: left;\"><p><em>(Empty list)</em></p></td></tr><tr><th style=\"text-align: right;\">data_type_definitions</th><td style=\"text-align: left;\"><ol start=\"0\" style=\"text-align: left;\"><li><strong>DataTypeDefinition</strong> &quot;None&quot; (3b7ec38a-e26a-4c23-9fa3-275af3f629ee)</li><li><strong>EnumDataTypeDefinition</strong> &quot;None&quot; (637caf95-3229-4607-99a0-7d7b990bc97f)</li></ol></td></tr><tr><th style=\"text-align: right;\">description</th><td style=\"text-align: left;\"><em>None</em></td></tr><tr><th style=\"text-align: right;\">diagrams</th><td style=\"text-align: left;\"><p><em>(Empty list)</em></p></td></tr><tr><th style=\"text-align: right;\">identifier</th><td style=\"text-align: left;\"><em>None</em></td></tr><tr><th style=\"text-align: right;\">long_name</th><td style=\"text-align: left;\">Types</td></tr><tr><th style=\"text-align: right;\">module_types</th><td style=\"text-align: left;\"><ol start=\"0\" style=\"text-align: left;\"><li><strong>ModuleType</strong> &quot;None&quot; (a67e7f43-4b49-425c-a6a7-d44e1054a488)</li></ol></td></tr><tr><th style=\"text-align: right;\">name</th><td style=\"text-align: left;\"><em>None</em></td></tr><tr><th style=\"text-align: right;\">prefix</th><td style=\"text-align: left;\"><em>None</em></td></tr><tr><th style=\"text-align: right;\">progress_status</th><td style=\"text-align: left;\">NOT_SET</td></tr><tr><th style=\"text-align: right;\">relation_types</th><td style=\"text-align: left;\"><ol start=\"0\" style=\"text-align: left;\"><li><strong>RelationType</strong> &quot;None&quot; (f1aceb81-5f70-4469-a127-94830eb9be04)</li></ol></td></tr><tr><th style=\"text-align: right;\">requirement_types</th><td style=\"text-align: left;\"><ol start=\"0\" style=\"text-align: left;\"><li><strong>RequirementType</strong> &quot;None&quot; (db47fca9-ddb6-4397-8d4b-e397e53d277e)</li></ol></td></tr><tr><th style=\"text-align: right;\">requirements</th><td style=\"text-align: left;\"><p><em>(Empty list)</em></p></td></tr><tr><th style=\"text-align: right;\">summary</th><td style=\"text-align: left;\"><em>None</em></td></tr><tr><th style=\"text-align: right;\">type</th><td style=\"text-align: left;\"><em>None</em></td></tr><tr><th style=\"text-align: right;\">uuid</th><td style=\"text-align: left;\">67bba9cf-953c-4f0b-9986-41991c68d241</td></tr><tr><th style=\"text-align: right;\">xtype</th><td style=\"text-align: left;\">CapellaRequirements:CapellaTypesFolder</td></tr></table>"
      ],
      "text/plain": [
       "<RequirementsTypesFolder 'Types' (67bba9cf-953c-4f0b-9986-41991c68d241)>"
      ]
     },
     "execution_count": 4,
     "metadata": {},
     "output_type": "execute_result"
    }
   ],
   "source": [
    "model.oa.requirement_types_folders[0]"
   ]
  },
  {
   "cell_type": "code",
   "execution_count": 5,
   "id": "28c463c1",
   "metadata": {},
   "outputs": [
    {
     "data": {
      "text/html": [
       "<h1>RequirementType <span style=\"font-size: 70%;\">(Requirements:RequirementType)</span></h1><table><tr><th style=\"text-align: right;\">attribute_definitions</th><td style=\"text-align: left;\"><ol start=\"0\" style=\"text-align: left;\"><li><strong>AttributeDefinition</strong> &quot;None&quot; (682bd51d-5451-4930-a97e-8bfca6c3a127)</li><li><strong>AttributeDefinitionEnumeration</strong> &quot;None&quot; (c316ab07-c5c3-4866-a896-92e34733055c)</li><li><strong>AttributeDefinitionEnumeration</strong> &quot;None&quot; (f31d4dd3-99f7-41d1-b1ce-f07b20d26eac)</li><li><strong>AttributeDefinition</strong> &quot;None&quot; (0bd40628-10a5-451e-86da-187c93bc3b10)</li></ol></td></tr><tr><th style=\"text-align: right;\">constraints</th><td style=\"text-align: left;\"><p><em>(Empty list)</em></p></td></tr><tr><th style=\"text-align: right;\">description</th><td style=\"text-align: left;\"><em>None</em></td></tr><tr><th style=\"text-align: right;\">diagrams</th><td style=\"text-align: left;\"><p><em>(Empty list)</em></p></td></tr><tr><th style=\"text-align: right;\">identifier</th><td style=\"text-align: left;\"><em>None</em></td></tr><tr><th style=\"text-align: right;\">long_name</th><td style=\"text-align: left;\">ReqType</td></tr><tr><th style=\"text-align: right;\">name</th><td style=\"text-align: left;\"><em>None</em></td></tr><tr><th style=\"text-align: right;\">owner</th><td style=\"text-align: left;\"><strong>RequirementsTypesFolder</strong> &quot;None&quot; (67bba9cf-953c-4f0b-9986-41991c68d241)</td></tr><tr><th style=\"text-align: right;\">prefix</th><td style=\"text-align: left;\"><em>None</em></td></tr><tr><th style=\"text-align: right;\">progress_status</th><td style=\"text-align: left;\">NOT_SET</td></tr><tr><th style=\"text-align: right;\">requirements</th><td style=\"text-align: left;\"><p><em>(Empty list)</em></p></td></tr><tr><th style=\"text-align: right;\">summary</th><td style=\"text-align: left;\"><em>None</em></td></tr><tr><th style=\"text-align: right;\">type</th><td style=\"text-align: left;\"><em>None</em></td></tr><tr><th style=\"text-align: right;\">uuid</th><td style=\"text-align: left;\">db47fca9-ddb6-4397-8d4b-e397e53d277e</td></tr><tr><th style=\"text-align: right;\">xtype</th><td style=\"text-align: left;\">Requirements:RequirementType</td></tr></table>"
      ],
      "text/plain": [
       "<RequirementType 'ReqType' (db47fca9-ddb6-4397-8d4b-e397e53d277e)>"
      ]
     },
     "execution_count": 5,
     "metadata": {},
     "output_type": "execute_result"
    }
   ],
   "source": [
    "model.oa.requirement_types_folders[0].requirement_types[0]"
   ]
  },
  {
   "cell_type": "markdown",
   "id": "62baecda",
   "metadata": {},
   "source": [
    "Now we actually want to filter the requirements by this type with name 'ReqType'. Very original name, we know. You wouldn't really see the filtering effect since all requirements in the oa layer are of that type. So let us create one new requirement dynamically:"
   ]
  },
  {
   "cell_type": "code",
   "execution_count": 6,
   "id": "2d985277",
   "metadata": {},
   "outputs": [
    {
     "data": {
      "text/html": [
       "<h1>Requirement <span style=\"font-size: 70%;\">(Requirements:Requirement)</span></h1><table><tr><th style=\"text-align: right;\">attributes</th><td style=\"text-align: left;\"><p><em>(Empty list)</em></p></td></tr><tr><th style=\"text-align: right;\">chapter_name</th><td style=\"text-align: left;\"><em>None</em></td></tr><tr><th style=\"text-align: right;\">constraints</th><td style=\"text-align: left;\"><p><em>(Empty list)</em></p></td></tr><tr><th style=\"text-align: right;\">description</th><td style=\"text-align: left;\"><em>None</em></td></tr><tr><th style=\"text-align: right;\">diagrams</th><td style=\"text-align: left;\"><p><em>(Empty list)</em></p></td></tr><tr><th style=\"text-align: right;\">foreign_id</th><td style=\"text-align: left;\"><em>None</em></td></tr><tr><th style=\"text-align: right;\">identifier</th><td style=\"text-align: left;\"><em>None</em></td></tr><tr><th style=\"text-align: right;\">long_name</th><td style=\"text-align: left;\"><em>None</em></td></tr><tr><th style=\"text-align: right;\">name</th><td style=\"text-align: left;\">New showcase req</td></tr><tr><th style=\"text-align: right;\">owner</th><td style=\"text-align: left;\"><strong>RequirementsModule</strong> &quot;Test Module&quot; (f8e2195d-b5f5-4452-a12b-79233d943d5e)</td></tr><tr><th style=\"text-align: right;\">prefix</th><td style=\"text-align: left;\"><em>None</em></td></tr><tr><th style=\"text-align: right;\">progress_status</th><td style=\"text-align: left;\">NOT_SET</td></tr><tr><th style=\"text-align: right;\">related</th><td style=\"text-align: left;\"><p><em>(Empty list)</em></p></td></tr><tr><th style=\"text-align: right;\">relations</th><td style=\"text-align: left;\"><p><em>(Empty list)</em></p></td></tr><tr><th style=\"text-align: right;\">requirements</th><td style=\"text-align: left;\"><p><em>(Empty list)</em></p></td></tr><tr><th style=\"text-align: right;\">summary</th><td style=\"text-align: left;\"><em>None</em></td></tr><tr><th style=\"text-align: right;\">text</th><td style=\"text-align: left;\"><em>None</em></td></tr><tr><th style=\"text-align: right;\">type</th><td style=\"text-align: left;\"><em>None</em></td></tr><tr><th style=\"text-align: right;\">uuid</th><td style=\"text-align: left;\">1322936c-df67-4a3f-a53f-ceb804aa9549</td></tr><tr><th style=\"text-align: right;\">xtype</th><td style=\"text-align: left;\">Requirements:Requirement</td></tr></table>"
      ],
      "text/plain": [
       "<Requirement 'Test Module/New showcase req' (1322936c-df67-4a3f-a53f-ceb804aa9549)>"
      ]
     },
     "metadata": {},
     "output_type": "display_data"
    },
    {
     "data": {
      "text/html": [
       "<ol start=\"0\" style=\"text-align: left;\"><li><strong>Requirement</strong> &quot;TestReq1&quot; (3c2d312c-37c9-41b5-8c32-67578fa52dc3)</li><li><strong>Requirement</strong> &quot;TypedReq2&quot; (0a9a68b1-ba9a-4793-b2cf-4448f0b4b8cc)</li><li><strong>Requirement</strong> &quot;TestReq3&quot; (79291c33-5147-4543-9398-9077d582576d)</li><li><strong>Requirement</strong> &quot;TypedReq1&quot; (85d41db2-9e17-438b-95cf-49342452ddf3)</li><li><strong>Requirement</strong> &quot;New showcase req&quot; (1322936c-df67-4a3f-a53f-ceb804aa9549)</li><li><strong>Requirement</strong> &quot;TestReq&quot; (1092f69a-5f3a-4fe6-a8fd-b2dffde90650)</li></ol>"
      ],
      "text/plain": [
       "<CoupledElementList at 0x00007F2417F11A60 [<Requirement 'Test Module/This is a folder./<p>Test requirement 1 really l o n g text that is&nbsp;way too long to display here as that</p>\\n\\n<p>&lt; &gt; &quot; &#39;</p>\\n\\n<ul>\\n\\t<li>This&nbsp;is a list</li>\\n\\t<li>an unordered one</li>\\n</ul>\\n\\n<ol>\\n\\t<li>Ordered list</li>\\n\\t<li>Ok</li>\\n</ol>\\n' (3c2d312c-37c9-41b5-8c32-67578fa52dc3)>, <Requirement 'Test Module/This is a folder./TypedReq2' (0a9a68b1-ba9a-4793-b2cf-4448f0b4b8cc)>, <Requirement 'Test Module/This is a folder./Subfolder/TestReq3' (79291c33-5147-4543-9398-9077d582576d)>, <Requirement 'Test Module/TypedReq1' (85d41db2-9e17-438b-95cf-49342452ddf3)>, <Requirement 'Test Module/New showcase req' (1322936c-df67-4a3f-a53f-ceb804aa9549)>, <Requirement 'Next Module/TestReq' (1092f69a-5f3a-4fe6-a8fd-b2dffde90650)>]>"
      ]
     },
     "execution_count": 6,
     "metadata": {},
     "output_type": "execute_result"
    }
   ],
   "source": [
    "new_req = model.oa.requirement_modules[0].requirements.create(\"Requirement\", name=\"New showcase req\")\n",
    "display(new_req)\n",
    "model.oa.all_requirements"
   ]
  },
  {
   "cell_type": "code",
   "execution_count": 7,
   "id": "9156aac3",
   "metadata": {},
   "outputs": [
    {
     "data": {
      "text/html": [
       "<ol start=\"0\" style=\"text-align: left;\"><li><strong>Requirement</strong> &quot;TestReq1&quot; (3c2d312c-37c9-41b5-8c32-67578fa52dc3)</li><li><strong>Requirement</strong> &quot;TypedReq2&quot; (0a9a68b1-ba9a-4793-b2cf-4448f0b4b8cc)</li><li><strong>Requirement</strong> &quot;TestReq3&quot; (79291c33-5147-4543-9398-9077d582576d)</li><li><strong>Requirement</strong> &quot;TypedReq1&quot; (85d41db2-9e17-438b-95cf-49342452ddf3)</li><li><strong>Requirement</strong> &quot;TestReq&quot; (1092f69a-5f3a-4fe6-a8fd-b2dffde90650)</li></ol>"
      ],
      "text/plain": [
       "<ElementList at 0x00007F2443353CC0 [<Requirement 'Test Module/This is a folder./<p>Test requirement 1 really l o n g text that is&nbsp;way too long to display here as that</p>\\n\\n<p>&lt; &gt; &quot; &#39;</p>\\n\\n<ul>\\n\\t<li>This&nbsp;is a list</li>\\n\\t<li>an unordered one</li>\\n</ul>\\n\\n<ol>\\n\\t<li>Ordered list</li>\\n\\t<li>Ok</li>\\n</ol>\\n' (3c2d312c-37c9-41b5-8c32-67578fa52dc3)>, <Requirement 'Test Module/This is a folder./TypedReq2' (0a9a68b1-ba9a-4793-b2cf-4448f0b4b8cc)>, <Requirement 'Test Module/This is a folder./Subfolder/TestReq3' (79291c33-5147-4543-9398-9077d582576d)>, <Requirement 'Test Module/TypedReq1' (85d41db2-9e17-438b-95cf-49342452ddf3)>, <Requirement 'Next Module/TestReq' (1092f69a-5f3a-4fe6-a8fd-b2dffde90650)>]>"
      ]
     },
     "execution_count": 7,
     "metadata": {},
     "output_type": "execute_result"
    }
   ],
   "source": [
    "model.oa.all_requirements.by_type(\"ReqType\")"
   ]
  },
  {
   "cell_type": "code",
   "execution_count": null,
   "id": "f6687b07",
   "metadata": {},
   "outputs": [],
   "source": []
  }
 ],
 "metadata": {
  "kernelspec": {
   "display_name": "Python 3 (ipykernel)",
   "language": "python",
   "name": "python3"
  },
  "language_info": {
   "codemirror_mode": {
    "name": "ipython",
    "version": 3
   },
   "file_extension": ".py",
   "mimetype": "text/x-python",
   "name": "python",
   "nbconvert_exporter": "python",
   "pygments_lexer": "ipython3",
   "version": "3.9.7"
  }
 },
 "nbformat": 4,
 "nbformat_minor": 5
}
