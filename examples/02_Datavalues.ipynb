{
 "cells": [
  {
   "cell_type": "markdown",
   "id": "1a1fe414",
   "metadata": {},
   "source": [
    "# Data Values\n",
    "\n",
    "This Jupyter notebook demonstrates how Data Values in Capella can be handled.\n",
    "First, let's load the model again..."
   ]
  },
  {
   "cell_type": "code",
   "execution_count": 1,
   "id": "3e28d1c9",
   "metadata": {},
   "outputs": [
    {
     "name": "stderr",
     "output_type": "stream",
     "text": [
      "Cannot load PVMT extension: ValueError: Provided model does not have a PropertyValuePkg\n",
      "Property values are not available in this model\n"
     ]
    },
    {
     "data": {
      "text/plain": [
       "<capellambse.model.MelodyModel at 0x7f5c0c27dbe0>"
      ]
     },
     "execution_count": 1,
     "metadata": {},
     "output_type": "execute_result"
    }
   ],
   "source": [
    "import capellambse\n",
    "path_to_model = \"../tests/data/melodymodel/5_0/MelodyModelTest.aird\"\n",
    "model = capellambse.MelodyModel(path_to_model)\n",
    "model"
   ]
  },
  {
   "cell_type": "markdown",
   "id": "48ce0c1e",
   "metadata": {},
   "source": [
    "As explained in the notebook 01, please ignore the warning about PVMT missing above."
   ]
  },
  {
   "cell_type": "markdown",
   "id": "7e68b88c-b4bc-4c20-a39f-48094c0eabdd",
   "metadata": {
    "tags": []
   },
   "source": [
    "## Example 1: List Data values\n",
    "\n",
    "The below code will print all data values in the Logical Architecture. It works the same with the other architectures, just replace the `oa` accordingly."
   ]
  },
  {
   "cell_type": "code",
   "execution_count": 2,
   "id": "abcd8693",
   "metadata": {},
   "outputs": [
    {
     "data": {
      "text/html": [
       "<p><em>(Empty list)</em></p>"
      ],
      "text/plain": [
       "<CoupledElementList at 0x00007F5BEE05B4C0 []>"
      ]
     },
     "execution_count": 2,
     "metadata": {},
     "output_type": "execute_result"
    }
   ],
   "source": [
    "model.oa.all_datavalues"
   ]
  },
  {
   "cell_type": "code",
   "execution_count": 3,
   "id": "a968821f",
   "metadata": {},
   "outputs": [
    {
     "data": {
      "text/html": [
       "<ol start=\"0\" style=\"text-align: left;\"><li><strong>Union</strong> &quot;Union 2&quot; (31c5c280-64e1-4d11-b874-412966aa547c)</li></ol>"
      ],
      "text/plain": [
       "<CoupledElementList at 0x00007F5C0C20A520 [<Union 'Union 2' (31c5c280-64e1-4d11-b874-412966aa547c)>]>"
      ]
     },
     "execution_count": 3,
     "metadata": {},
     "output_type": "execute_result"
    }
   ],
   "source": [
    "model.sa.all_unions"
   ]
  },
  {
   "cell_type": "code",
   "execution_count": 8,
   "id": "56bb4b44",
   "metadata": {
    "scrolled": true
   },
   "outputs": [
    {
     "data": {
      "text/html": [
       "<h1>DataPkg <span style=\"font-size: 70%;\">(org.polarsys.capella.core.data.information:DataPkg)</span></h1><table><tr><th style=\"text-align: right;\">classes</th><td style=\"text-align: left;\"><ol start=\"0\" style=\"text-align: left;\"><li><strong>Class</strong> &quot;Class 1&quot; (959b5222-7717-4ee9-bd3a-f8a209899464)</li><li><strong>Class</strong> &quot;SuperClass&quot; (bbc296e1-ed4c-40cf-b37d-c8eb8613228a)</li></ol></td></tr><tr><th style=\"text-align: right;\">constraints</th><td style=\"text-align: left;\"><p><em>(Empty list)</em></p></td></tr><tr><th style=\"text-align: right;\">datavalues</th><td style=\"text-align: left;\"><p><em>(Empty list)</em></p></td></tr><tr><th style=\"text-align: right;\">description</th><td style=\"text-align: left;\"><p>This is a test description for a data package.</p>\n",
       "</td></tr><tr><th style=\"text-align: right;\">diagrams</th><td style=\"text-align: left;\"><p><em>(Empty list)</em></p></td></tr><tr><th style=\"text-align: right;\">name</th><td style=\"text-align: left;\">Test Package</td></tr><tr><th style=\"text-align: right;\">packages</th><td style=\"text-align: left;\"><ol start=\"0\" style=\"text-align: left;\"><li><strong>DataPkg</strong> &quot;Test SubPackage&quot; (ff8bbadd-49f0-4662-819c-b92e1b3a4470)</li></ol></td></tr><tr><th style=\"text-align: right;\">progress_status</th><td style=\"text-align: left;\">NOT_SET</td></tr><tr><th style=\"text-align: right;\">requirements</th><td style=\"text-align: left;\"><p><em>(Empty list)</em></p></td></tr><tr><th style=\"text-align: right;\">summary</th><td style=\"text-align: left;\"><em>None</em></td></tr><tr><th style=\"text-align: right;\">uuid</th><td style=\"text-align: left;\">696fce59-43a7-4ef7-a8b1-59fcab73e525</td></tr><tr><th style=\"text-align: right;\">xtype</th><td style=\"text-align: left;\">org.polarsys.capella.core.data.information:DataPkg</td></tr></table>"
      ],
      "text/plain": [
       "<DataPkg 'Test Package' (696fce59-43a7-4ef7-a8b1-59fcab73e525)>"
      ]
     },
     "execution_count": 8,
     "metadata": {},
     "output_type": "execute_result"
    }
   ],
   "source": [
    "model.sa.data_package.packages[1]"
   ]
  },
  {
   "cell_type": "code",
   "execution_count": null,
   "id": "eb05ea54",
   "metadata": {},
   "outputs": [],
   "source": []
  }
 ],
 "metadata": {
  "kernelspec": {
   "display_name": "Python 3 (ipykernel)",
   "language": "python",
   "name": "python3"
  },
  "language_info": {
   "codemirror_mode": {
    "name": "ipython",
    "version": 3
   },
   "file_extension": ".py",
   "mimetype": "text/x-python",
   "name": "python",
   "nbconvert_exporter": "python",
   "pygments_lexer": "ipython3",
   "version": "3.9.7"
  }
 },
 "nbformat": 4,
 "nbformat_minor": 5
}
