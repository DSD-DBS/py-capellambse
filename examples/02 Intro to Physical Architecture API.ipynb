{
 "cells": [
  {
   "cell_type": "markdown",
   "id": "b02a2030",
   "metadata": {},
   "source": [
    "# Introduction to Physical Architecture API\n",
    "\n",
    "**Note**: In this notebook we will use `pandas` dataframes library to construct and visualize tables, **if you don't have pandas installed** in the current environemnt you may want to do so by running the cell below."
   ]
  },
  {
   "cell_type": "code",
   "execution_count": null,
   "id": "4c181cfb",
   "metadata": {},
   "outputs": [],
   "source": [
    "!pip install pandas"
   ]
  },
  {
   "cell_type": "markdown",
   "id": "3d39f975",
   "metadata": {},
   "source": [
    "The cell below loads our test model so we could play with it and silences warnings."
   ]
  },
  {
   "cell_type": "code",
   "execution_count": 2,
   "id": "1386d2f7",
   "metadata": {
    "scrolled": true
   },
   "outputs": [],
   "source": [
    "import capellambse\n",
    "import logging\n",
    "import pandas as pd\n",
    "\n",
    "\n",
    "logging.getLogger().setLevel(logging.CRITICAL)\n",
    "model = capellambse.MelodyModel(\"../tests/data/melodymodel/5_0/Melody Model Test.aird\")"
   ]
  },
  {
   "cell_type": "markdown",
   "id": "9f73eb7e",
   "metadata": {},
   "source": [
    "but before we jump into code, lets have a look first at Capella metamodel concerning the Physical Architecture layer (PA).\n",
    "\n",
    "Things in PA are very similar to what we see in SysML when it comes to `ibd`s (Internal Block Diagrams) - the boxes we see on those are `Part`s that are instanciated from `Block` objects. Same happens in Capella - the boxes we see on `PAB` diagrams are `Parts` that were instanciated from `PhysicalComponent`s. Here also comes the very special difference of Capella - unless you explicitly enable **part re-use**, `PhysicalComponent` will always have only one `Part`. This is the default behavior of Capella. \n",
    "\n",
    "Our API should support both cases but at the moment we don't use models with **part re-use** enabled in production yet and so don't test the library against this case. Yet we do implement Parts and support many parts - one component relationship model.\n",
    "\n",
    "One more issue to mention - rendering PA diagrams outside of Capella was never a high priority so the resulting representations of PABs rendered without Capella are not very accurate at the moment. We hope to improve it soon though. If you still do want to see how it looks like when we render it right now - uncomment the `# diagram` in the cell below"
   ]
  },
  {
   "cell_type": "code",
   "execution_count": 3,
   "id": "8b555976",
   "metadata": {
    "scrolled": false
   },
   "outputs": [],
   "source": [
    "diagram = model.pa.diagrams.by_name(\"[PAB] A sample vehicle arch\")\n",
    "# diagram"
   ]
  },
  {
   "cell_type": "markdown",
   "id": "1c479ca3",
   "metadata": {},
   "source": [
    "# Example 1: List components that are visible on a diagram\n",
    "\n",
    "To start, lets get all parts on that diagram and turn them into PhysicalComponents"
   ]
  },
  {
   "cell_type": "code",
   "execution_count": 4,
   "id": "711574aa",
   "metadata": {
    "scrolled": true
   },
   "outputs": [
    {
     "data": {
      "text/plain": [
       "[<PhysicalComponent 'Server' (9137f463-7497-40c2-b20a-897158fdba9a)>,\n",
       " <PhysicalComponent 'Switch Firmware' (c78b5d7c-be0c-4ed4-9d12-d447cb39304e)>,\n",
       " <PhysicalComponent 'Camera Assembly' (5bfc516b-c20d-4007-9a38-5ba0e889d0a4)>,\n",
       " <PhysicalComponent 'App 1 SWC' (b80a6fcc-8d35-4675-a2e6-60efcbd61e27)>,\n",
       " <PhysicalComponent 'Switch Configuration' (23c47b69-7352-481d-be88-498fb351adbe)>,\n",
       " <PhysicalComponent 'Card 2 OS' (09e19313-c824-467f-9fb5-95ed8b4e2d51)>,\n",
       " <PhysicalComponent 'Camera Driver SWC' (74067f56-33bf-47f5-bb8b-f3604097f653)>,\n",
       " <PhysicalComponent 'Camera Firmware' (db2d86d7-48ee-478b-a6fc-d6387ab0032e)>,\n",
       " <PhysicalComponent 'Compute Card 2' (3a982128-3281-4d37-8838-a6058b7a25d9)>,\n",
       " <PhysicalComponent 'Cooling Fan' (65e82f3f-c5b7-44c1-bfea-8e20bb0230be)>,\n",
       " <PhysicalComponent 'Network Switch' (b51ccc6f-5f96-4e28-b90e-72463a3b50cf)>,\n",
       " <PhysicalComponent 'Equipment compartment' (3d68852d-fcc0-452c-af12-a2fbe22f81fa)>,\n",
       " <PhysicalComponent 'Sensor compartment' (3f416925-9d8a-4e9c-99f3-e912efb23d2f)>,\n",
       " <PhysicalComponent 'App 2 SWC' (ca5af12c-5259-4844-aaac-9ca9f84aa90b)>,\n",
       " <PhysicalComponent 'Compute Card 1' (63be604e-883e-41ea-9023-fc74f29906fe)>,\n",
       " <PhysicalComponent 'Card 1 OS' (7b188ad0-0d82-4b2c-9913-45292e537871)>,\n",
       " <PhysicalComponent 'Vehicle' (b327d900-abd2-4138-a111-9ff0684739d8)>]"
      ]
     },
     "execution_count": 4,
     "metadata": {},
     "output_type": "execute_result"
    }
   ],
   "source": [
    "components_on_diagram = list(map(lambda x: x.type, diagram.nodes.by_type(\"Part\")))\n",
    "components_on_diagram"
   ]
  },
  {
   "cell_type": "markdown",
   "id": "aab38c3e",
   "metadata": {},
   "source": [
    "we could also get all components across PA layer by doing `model.pa.all_components` but we will not go there in this example.\n",
    "\n",
    "We can review any single component from that list above"
   ]
  },
  {
   "cell_type": "code",
   "execution_count": 5,
   "id": "21ef5c4d",
   "metadata": {},
   "outputs": [
    {
     "data": {
      "text/html": [
       "<h1>PhysicalComponent <span style=\"font-size: 70%;\">(org.polarsys.capella.core.data.pa:PhysicalComponent)</span></h1><table><tr><th style=\"text-align: right;\">components</th><td style=\"text-align: left;\"><p><em>(Empty list)</em></p></td></tr><tr><th style=\"text-align: right;\">constraints</th><td style=\"text-align: left;\"><p><em>(Empty list)</em></p></td></tr><tr><th style=\"text-align: right;\">deployed_components</th><td style=\"text-align: left;\"><p><em>(Empty list)</em></p></td></tr><tr><th style=\"text-align: right;\">deploying_components</th><td style=\"text-align: left;\"><ol start=\"0\" style=\"text-align: left;\"><li><strong>PhysicalComponent</strong> &quot;Camera Assembly&quot; (5bfc516b-c20d-4007-9a38-5ba0e889d0a4)</li></ol></td></tr><tr><th style=\"text-align: right;\">description</th><td style=\"text-align: left;\"><em>None</em></td></tr><tr><th style=\"text-align: right;\">diagrams</th><td style=\"text-align: left;\"><p><em>(Empty list)</em></p></td></tr><tr><th style=\"text-align: right;\">functions</th><td style=\"text-align: left;\"><p><em>(Empty list)</em></p></td></tr><tr><th style=\"text-align: right;\">is_abstract</th><td style=\"text-align: left;\"><em>False</em></td></tr><tr><th style=\"text-align: right;\">is_actor</th><td style=\"text-align: left;\"><em>False</em></td></tr><tr><th style=\"text-align: right;\">is_human</th><td style=\"text-align: left;\"><em>False</em></td></tr><tr><th style=\"text-align: right;\">kind</th><td style=\"text-align: left;\"><em>&lt;Kind.SOFTWARE_EXECUTION_UNIT: 8&gt;</em></td></tr><tr><th style=\"text-align: right;\">name</th><td style=\"text-align: left;\">Camera Firmware</td></tr><tr><th style=\"text-align: right;\">nature</th><td style=\"text-align: left;\"><em>&lt;Nature.BEHAVIOR: 2&gt;</em></td></tr><tr><th style=\"text-align: right;\">owned_components</th><td style=\"text-align: left;\"><p><em>(Empty list)</em></p></td></tr><tr><th style=\"text-align: right;\">owner</th><td style=\"text-align: left;\"><strong>PhysicalComponent</strong> &quot;Physical System&quot; (b9f9a83c-fb02-44f7-9123-9d86326de5f1)</td></tr><tr><th style=\"text-align: right;\">parts</th><td style=\"text-align: left;\"><ol start=\"0\" style=\"text-align: left;\"><li><strong>Part</strong> &quot;Camera Firmware&quot; (b61a8bb7-0297-4153-9b45-87f88a54efcc)</li></ol></td></tr><tr><th style=\"text-align: right;\">ports</th><td style=\"text-align: left;\"><p><em>(Empty list)</em></p></td></tr><tr><th style=\"text-align: right;\">progress_status</th><td style=\"text-align: left;\">NOT_SET</td></tr><tr><th style=\"text-align: right;\">pvmt</th><td style=\"text-align: left;\"><em>&lt;capellambse.extensions.pvmt.PropertyValueProxy object at 0x7f732cefd2b0&gt;</em></td></tr><tr><th style=\"text-align: right;\">realized_logical_components</th><td style=\"text-align: left;\"><p><em>(Empty list)</em></p></td></tr><tr><th style=\"text-align: right;\">requirements</th><td style=\"text-align: left;\"><p><em>(Empty list)</em></p></td></tr><tr><th style=\"text-align: right;\">state_machines</th><td style=\"text-align: left;\"><p><em>(Empty list)</em></p></td></tr><tr><th style=\"text-align: right;\">summary</th><td style=\"text-align: left;\"><em>None</em></td></tr><tr><th style=\"text-align: right;\">uuid</th><td style=\"text-align: left;\">db2d86d7-48ee-478b-a6fc-d6387ab0032e</td></tr><tr><th style=\"text-align: right;\">xtype</th><td style=\"text-align: left;\">org.polarsys.capella.core.data.pa:PhysicalComponent</td></tr></table>"
      ],
      "text/plain": [
       "<PhysicalComponent 'Camera Firmware' (db2d86d7-48ee-478b-a6fc-d6387ab0032e)>"
      ]
     },
     "execution_count": 5,
     "metadata": {},
     "output_type": "execute_result"
    }
   ],
   "source": [
    "components_on_diagram[7]"
   ]
  },
  {
   "cell_type": "markdown",
   "id": "22343924",
   "metadata": {},
   "source": [
    "However we may need just a few of those attributes in a view.\n",
    "\n",
    "Now that we have a list of components lets collect some of the attributes of interest in a table. To keep it simple we'll introduce an attribute extractor function that will turn fields of interset into a nice dictionary."
   ]
  },
  {
   "cell_type": "code",
   "execution_count": 6,
   "id": "63ff286c",
   "metadata": {},
   "outputs": [],
   "source": [
    "def extract_attrs_of_interest(component):\n",
    "    return dict(\n",
    "        name=component.name,\n",
    "        nature=component.nature,\n",
    "        kind=component.kind,\n",
    "        components=\"; \".join([cmp.name for cmp in component.components])\n",
    "    )"
   ]
  },
  {
   "cell_type": "markdown",
   "id": "55d509d0",
   "metadata": {},
   "source": [
    "we can then apply that extractor function to our list of components and use `pandas` to display it for us in a tabular form"
   ]
  },
  {
   "cell_type": "code",
   "execution_count": 7,
   "id": "6d8ff25c",
   "metadata": {},
   "outputs": [
    {
     "data": {
      "text/html": [
       "<div>\n",
       "<style scoped>\n",
       "    .dataframe tbody tr th:only-of-type {\n",
       "        vertical-align: middle;\n",
       "    }\n",
       "\n",
       "    .dataframe tbody tr th {\n",
       "        vertical-align: top;\n",
       "    }\n",
       "\n",
       "    .dataframe thead th {\n",
       "        text-align: right;\n",
       "    }\n",
       "</style>\n",
       "<table border=\"1\" class=\"dataframe\">\n",
       "  <thead>\n",
       "    <tr style=\"text-align: right;\">\n",
       "      <th></th>\n",
       "      <th>name</th>\n",
       "      <th>nature</th>\n",
       "      <th>kind</th>\n",
       "      <th>components</th>\n",
       "    </tr>\n",
       "  </thead>\n",
       "  <tbody>\n",
       "    <tr>\n",
       "      <th>0</th>\n",
       "      <td>Server</td>\n",
       "      <td>NODE</td>\n",
       "      <td>HARDWARE</td>\n",
       "      <td>Compute Card 1; Compute Card 2</td>\n",
       "    </tr>\n",
       "    <tr>\n",
       "      <th>1</th>\n",
       "      <td>Switch Firmware</td>\n",
       "      <td>BEHAVIOR</td>\n",
       "      <td>HARDWARE_COMPUTER</td>\n",
       "      <td></td>\n",
       "    </tr>\n",
       "    <tr>\n",
       "      <th>2</th>\n",
       "      <td>Camera Assembly</td>\n",
       "      <td>NODE</td>\n",
       "      <td>HARDWARE</td>\n",
       "      <td>Camera Firmware</td>\n",
       "    </tr>\n",
       "    <tr>\n",
       "      <th>3</th>\n",
       "      <td>App 1 SWC</td>\n",
       "      <td>BEHAVIOR</td>\n",
       "      <td>SOFTWARE</td>\n",
       "      <td></td>\n",
       "    </tr>\n",
       "    <tr>\n",
       "      <th>4</th>\n",
       "      <td>Switch Configuration</td>\n",
       "      <td>BEHAVIOR</td>\n",
       "      <td>DATA</td>\n",
       "      <td></td>\n",
       "    </tr>\n",
       "    <tr>\n",
       "      <th>5</th>\n",
       "      <td>Card 2 OS</td>\n",
       "      <td>BEHAVIOR</td>\n",
       "      <td>SOFTWARE</td>\n",
       "      <td>App 2 SWC</td>\n",
       "    </tr>\n",
       "    <tr>\n",
       "      <th>6</th>\n",
       "      <td>Camera Driver SWC</td>\n",
       "      <td>BEHAVIOR</td>\n",
       "      <td>SOFTWARE</td>\n",
       "      <td></td>\n",
       "    </tr>\n",
       "    <tr>\n",
       "      <th>7</th>\n",
       "      <td>Camera Firmware</td>\n",
       "      <td>BEHAVIOR</td>\n",
       "      <td>SOFTWARE_EXECUTION_UNIT</td>\n",
       "      <td></td>\n",
       "    </tr>\n",
       "    <tr>\n",
       "      <th>8</th>\n",
       "      <td>Compute Card 2</td>\n",
       "      <td>NODE</td>\n",
       "      <td>HARDWARE</td>\n",
       "      <td>Card 2 OS</td>\n",
       "    </tr>\n",
       "    <tr>\n",
       "      <th>9</th>\n",
       "      <td>Cooling Fan</td>\n",
       "      <td>NODE</td>\n",
       "      <td>HARDWARE</td>\n",
       "      <td></td>\n",
       "    </tr>\n",
       "    <tr>\n",
       "      <th>10</th>\n",
       "      <td>Network Switch</td>\n",
       "      <td>NODE</td>\n",
       "      <td>HARDWARE</td>\n",
       "      <td>Switch Firmware; Switch Configuration</td>\n",
       "    </tr>\n",
       "    <tr>\n",
       "      <th>11</th>\n",
       "      <td>Equipment compartment</td>\n",
       "      <td>NODE</td>\n",
       "      <td>FACILITIES</td>\n",
       "      <td>Server; Network Switch</td>\n",
       "    </tr>\n",
       "    <tr>\n",
       "      <th>12</th>\n",
       "      <td>Sensor compartment</td>\n",
       "      <td>NODE</td>\n",
       "      <td>FACILITIES</td>\n",
       "      <td>Camera Assembly</td>\n",
       "    </tr>\n",
       "    <tr>\n",
       "      <th>13</th>\n",
       "      <td>App 2 SWC</td>\n",
       "      <td>BEHAVIOR</td>\n",
       "      <td>SOFTWARE</td>\n",
       "      <td></td>\n",
       "    </tr>\n",
       "    <tr>\n",
       "      <th>14</th>\n",
       "      <td>Compute Card 1</td>\n",
       "      <td>NODE</td>\n",
       "      <td>HARDWARE</td>\n",
       "      <td>Card 1 OS; Cooling Fan</td>\n",
       "    </tr>\n",
       "    <tr>\n",
       "      <th>15</th>\n",
       "      <td>Card 1 OS</td>\n",
       "      <td>BEHAVIOR</td>\n",
       "      <td>SERVICES</td>\n",
       "      <td>Camera Driver SWC; App 1 SWC</td>\n",
       "    </tr>\n",
       "    <tr>\n",
       "      <th>16</th>\n",
       "      <td>Vehicle</td>\n",
       "      <td>NODE</td>\n",
       "      <td>SOFTWARE_DEPLOYMENT_UNIT</td>\n",
       "      <td>Equipment compartment; Sensor compartment</td>\n",
       "    </tr>\n",
       "  </tbody>\n",
       "</table>\n",
       "</div>"
      ],
      "text/plain": [
       "                     name    nature                      kind  \\\n",
       "0                  Server      NODE                  HARDWARE   \n",
       "1         Switch Firmware  BEHAVIOR         HARDWARE_COMPUTER   \n",
       "2         Camera Assembly      NODE                  HARDWARE   \n",
       "3               App 1 SWC  BEHAVIOR                  SOFTWARE   \n",
       "4    Switch Configuration  BEHAVIOR                      DATA   \n",
       "5               Card 2 OS  BEHAVIOR                  SOFTWARE   \n",
       "6       Camera Driver SWC  BEHAVIOR                  SOFTWARE   \n",
       "7         Camera Firmware  BEHAVIOR   SOFTWARE_EXECUTION_UNIT   \n",
       "8          Compute Card 2      NODE                  HARDWARE   \n",
       "9             Cooling Fan      NODE                  HARDWARE   \n",
       "10         Network Switch      NODE                  HARDWARE   \n",
       "11  Equipment compartment      NODE                FACILITIES   \n",
       "12     Sensor compartment      NODE                FACILITIES   \n",
       "13              App 2 SWC  BEHAVIOR                  SOFTWARE   \n",
       "14         Compute Card 1      NODE                  HARDWARE   \n",
       "15              Card 1 OS  BEHAVIOR                  SERVICES   \n",
       "16                Vehicle      NODE  SOFTWARE_DEPLOYMENT_UNIT   \n",
       "\n",
       "                                   components  \n",
       "0              Compute Card 1; Compute Card 2  \n",
       "1                                              \n",
       "2                             Camera Firmware  \n",
       "3                                              \n",
       "4                                              \n",
       "5                                   App 2 SWC  \n",
       "6                                              \n",
       "7                                              \n",
       "8                                   Card 2 OS  \n",
       "9                                              \n",
       "10      Switch Firmware; Switch Configuration  \n",
       "11                     Server; Network Switch  \n",
       "12                            Camera Assembly  \n",
       "13                                             \n",
       "14                     Card 1 OS; Cooling Fan  \n",
       "15               Camera Driver SWC; App 1 SWC  \n",
       "16  Equipment compartment; Sensor compartment  "
      ]
     },
     "execution_count": 7,
     "metadata": {},
     "output_type": "execute_result"
    }
   ],
   "source": [
    "pd.DataFrame(list(map(extract_attrs_of_interest, components_on_diagram)))"
   ]
  },
  {
   "cell_type": "markdown",
   "id": "91a9ab15",
   "metadata": {},
   "source": [
    "# Example 2: Create HW-SW allocation table\n",
    "\n",
    "Now lets assume that components of node nature are hardware things and behavior corresponds to software components. Assuming that lets identify leaf hardware components (lowest replaceable units) and for each of those indicate which software components they have.\n",
    "\n",
    "To get there lets first filter out the list of components of Node nature that have at least on subcomponent of Behavior nature. To get to the end result quicker we'll use the `._filter` method of our object list. To use that method we'll need to provide a function that selects attribute of interest and a value (or list of values) that this attribute should have to be selected. To shorten the expression we'll use `lambda` functions - a way to define new function in place."
   ]
  },
  {
   "cell_type": "code",
   "execution_count": 8,
   "id": "01644c9d",
   "metadata": {},
   "outputs": [
    {
     "data": {
      "text/html": [
       "<ol start=\"0\" style=\"text-align: left;\"><li><strong>PhysicalComponent</strong> &quot;Compute Card 1&quot; (63be604e-883e-41ea-9023-fc74f29906fe)</li><li><strong>PhysicalComponent</strong> &quot;Compute Card 2&quot; (3a982128-3281-4d37-8838-a6058b7a25d9)</li><li><strong>PhysicalComponent</strong> &quot;Network Switch&quot; (b51ccc6f-5f96-4e28-b90e-72463a3b50cf)</li><li><strong>PhysicalComponent</strong> &quot;Camera Assembly&quot; (5bfc516b-c20d-4007-9a38-5ba0e889d0a4)</li></ol>"
      ],
      "text/plain": [
       "<ElementList at 0x00007F732C644C20 [<PhysicalComponent 'Compute Card 1' (63be604e-883e-41ea-9023-fc74f29906fe)>, <PhysicalComponent 'Compute Card 2' (3a982128-3281-4d37-8838-a6058b7a25d9)>, <PhysicalComponent 'Network Switch' (b51ccc6f-5f96-4e28-b90e-72463a3b50cf)>, <PhysicalComponent 'Camera Assembly' (5bfc516b-c20d-4007-9a38-5ba0e889d0a4)>]>"
      ]
     },
     "execution_count": 8,
     "metadata": {},
     "output_type": "execute_result"
    }
   ],
   "source": [
    "def select_nature(component):\n",
    "    return component.nature\n",
    "\n",
    "\n",
    "cmps = model.pa.all_components[1:]._filter(select_nature, \"NODE\")\n",
    "# Note: the above [1:] assumes that 0th component is the root component and is not of interest (+ see issue #41)\n",
    "cmps_with_sw = cmps._filter(lambda x: any(x.components._filter(select_nature, \"BEHAVIOR\")), True)\n",
    "cmps_with_sw"
   ]
  },
  {
   "cell_type": "markdown",
   "id": "4286bd9d",
   "metadata": {},
   "source": [
    "For sure we could come to the above list filtering by `kind` attribute, however in practice not all projects strictly use the `kind` attribute / it needs manual setting and maintenance and therefore is a bit less reliable.\n",
    "\n",
    "Our next stop is to list the SW components of those HW components. As SW components may be nested (i.e. apps on OS or partitions, etc.) we would simply \"flatten\" that hierarchy. We can create function `get_sw_components` that would recursively crawl down the SW components tree and give us back a flat list and test it on one component."
   ]
  },
  {
   "cell_type": "code",
   "execution_count": 9,
   "id": "70abf6f9",
   "metadata": {},
   "outputs": [
    {
     "data": {
      "text/html": [
       "<ol start=\"0\" style=\"text-align: left;\"><li><strong>PhysicalComponent</strong> &quot;Card 1 OS&quot; (7b188ad0-0d82-4b2c-9913-45292e537871)</li><li><strong>PhysicalComponent</strong> &quot;Camera Driver SWC&quot; (74067f56-33bf-47f5-bb8b-f3604097f653)</li><li><strong>PhysicalComponent</strong> &quot;App 1 SWC&quot; (b80a6fcc-8d35-4675-a2e6-60efcbd61e27)</li></ol>"
      ],
      "text/plain": [
       "<ElementList at 0x00007F72EA823810 [<PhysicalComponent 'Card 1 OS' (7b188ad0-0d82-4b2c-9913-45292e537871)>, <PhysicalComponent 'Camera Driver SWC' (74067f56-33bf-47f5-bb8b-f3604097f653)>, <PhysicalComponent 'App 1 SWC' (b80a6fcc-8d35-4675-a2e6-60efcbd61e27)>]>"
      ]
     },
     "execution_count": 9,
     "metadata": {},
     "output_type": "execute_result"
    }
   ],
   "source": [
    "def get_sw_components(sw_component):\n",
    "    subcmp = sw_component.components._filter(select_nature, \"BEHAVIOR\")\n",
    "    for cmp in subcmp:\n",
    "        subcmp += get_sw_components(cmp)\n",
    "    return subcmp\n",
    "\n",
    "get_sw_components(cmps_with_sw[0])"
   ]
  },
  {
   "cell_type": "markdown",
   "id": "8086d62c",
   "metadata": {},
   "source": [
    "lets apply `get_sw_components` function to the complete list of components with SW, `cmps_with_sw` and turn the results into a table. In this table we'll serialize SW components into a ;-separated string:"
   ]
  },
  {
   "cell_type": "code",
   "execution_count": 10,
   "id": "faa00eb0",
   "metadata": {},
   "outputs": [
    {
     "data": {
      "text/html": [
       "<div>\n",
       "<style scoped>\n",
       "    .dataframe tbody tr th:only-of-type {\n",
       "        vertical-align: middle;\n",
       "    }\n",
       "\n",
       "    .dataframe tbody tr th {\n",
       "        vertical-align: top;\n",
       "    }\n",
       "\n",
       "    .dataframe thead th {\n",
       "        text-align: right;\n",
       "    }\n",
       "</style>\n",
       "<table border=\"1\" class=\"dataframe\">\n",
       "  <thead>\n",
       "    <tr style=\"text-align: right;\">\n",
       "      <th></th>\n",
       "      <th>hardware_component</th>\n",
       "      <th>deployed_sw_components</th>\n",
       "    </tr>\n",
       "  </thead>\n",
       "  <tbody>\n",
       "    <tr>\n",
       "      <th>0</th>\n",
       "      <td>Compute Card 1</td>\n",
       "      <td>Card 1 OS; Camera Driver SWC; App 1 SWC</td>\n",
       "    </tr>\n",
       "    <tr>\n",
       "      <th>1</th>\n",
       "      <td>Compute Card 2</td>\n",
       "      <td>Card 2 OS; App 2 SWC</td>\n",
       "    </tr>\n",
       "    <tr>\n",
       "      <th>2</th>\n",
       "      <td>Network Switch</td>\n",
       "      <td>Switch Firmware; Switch Configuration</td>\n",
       "    </tr>\n",
       "    <tr>\n",
       "      <th>3</th>\n",
       "      <td>Camera Assembly</td>\n",
       "      <td>Camera Firmware</td>\n",
       "    </tr>\n",
       "  </tbody>\n",
       "</table>\n",
       "</div>"
      ],
      "text/plain": [
       "  hardware_component                   deployed_sw_components\n",
       "0     Compute Card 1  Card 1 OS; Camera Driver SWC; App 1 SWC\n",
       "1     Compute Card 2                     Card 2 OS; App 2 SWC\n",
       "2     Network Switch    Switch Firmware; Switch Configuration\n",
       "3    Camera Assembly                          Camera Firmware"
      ]
     },
     "execution_count": 10,
     "metadata": {},
     "output_type": "execute_result"
    }
   ],
   "source": [
    "def describe_hw_component_sw_allocations(hw_component):\n",
    "    return dict(\n",
    "        hardware_component=hw_component.name,\n",
    "        deployed_sw_components=\"; \".join(map(lambda x: x.name, get_sw_components(hw_component)))\n",
    "    )\n",
    "\n",
    "df = pd.DataFrame(list(map(describe_hw_component_sw_allocations, cmps_with_sw)))\n",
    "df"
   ]
  },
  {
   "cell_type": "markdown",
   "id": "851b0540",
   "metadata": {},
   "source": [
    "to complete the picture we could also list all HW components that dont have software (so that a sanity check could be perofrmed)"
   ]
  },
  {
   "cell_type": "code",
   "execution_count": 11,
   "id": "e48d4998",
   "metadata": {},
   "outputs": [
    {
     "data": {
      "text/html": [
       "<ol start=\"0\" style=\"text-align: left;\"><li><strong>PhysicalComponent</strong> &quot;PC 1&quot; (8a6d68c8-ac3d-4654-a07e-ada7adeed09f)</li><li><strong>PhysicalComponent</strong> &quot;PC 3&quot; (f5d7980d-e1e9-4515-8bb0-be7e80ac5839)</li><li><strong>PhysicalComponent</strong> &quot;Vehicle&quot; (a2c7f619-b38a-4b92-94a5-cbaa631badfc)</li><li><strong>PhysicalComponent</strong> &quot;Sub PC&quot; (793e6da2-d019-4716-a5c5-af8ad550ca5e)</li><li><strong>PhysicalComponent</strong> &quot;Deploy Sub PC&quot; (8a6c6ec9-095d-4d8b-9728-69bc79af5f27)</li><li><strong>PhysicalComponent</strong> &quot;Vehicle&quot; (b327d900-abd2-4138-a111-9ff0684739d8)</li><li><strong>PhysicalComponent</strong> &quot;Equipment compartment&quot; (3d68852d-fcc0-452c-af12-a2fbe22f81fa)</li><li><strong>PhysicalComponent</strong> &quot;Server&quot; (9137f463-7497-40c2-b20a-897158fdba9a)</li><li><strong>PhysicalComponent</strong> &quot;Cooling Fan&quot; (65e82f3f-c5b7-44c1-bfea-8e20bb0230be)</li><li><strong>PhysicalComponent</strong> &quot;Sensor compartment&quot; (3f416925-9d8a-4e9c-99f3-e912efb23d2f)</li><li><strong>PhysicalComponent</strong> &quot;PA 1&quot; (a0847e9c-8b82-407d-8143-e908e2db97a1)</li></ol>"
      ],
      "text/plain": [
       "<ElementList at 0x00007F730B011680 [<PhysicalComponent 'PC 1' (8a6d68c8-ac3d-4654-a07e-ada7adeed09f)>, <PhysicalComponent 'PC 3' (f5d7980d-e1e9-4515-8bb0-be7e80ac5839)>, <PhysicalComponent 'Vehicle' (a2c7f619-b38a-4b92-94a5-cbaa631badfc)>, <PhysicalComponent 'Sub PC' (793e6da2-d019-4716-a5c5-af8ad550ca5e)>, <PhysicalComponent 'Deploy Sub PC' (8a6c6ec9-095d-4d8b-9728-69bc79af5f27)>, <PhysicalComponent 'Vehicle' (b327d900-abd2-4138-a111-9ff0684739d8)>, <PhysicalComponent 'Equipment compartment' (3d68852d-fcc0-452c-af12-a2fbe22f81fa)>, <PhysicalComponent 'Server' (9137f463-7497-40c2-b20a-897158fdba9a)>, <PhysicalComponent 'Cooling Fan' (65e82f3f-c5b7-44c1-bfea-8e20bb0230be)>, <PhysicalComponent 'Sensor compartment' (3f416925-9d8a-4e9c-99f3-e912efb23d2f)>, <PhysicalComponent 'PA 1' (a0847e9c-8b82-407d-8143-e908e2db97a1)>]>"
      ]
     },
     "execution_count": 11,
     "metadata": {},
     "output_type": "execute_result"
    }
   ],
   "source": [
    "cmps_without_sw = cmps._filter(lambda x: any(x.components._filter(select_nature, \"BEHAVIOR\")), False)\n",
    "cmps_without_sw"
   ]
  }
 ],
 "metadata": {
  "kernelspec": {
   "display_name": "Python 3 (ipykernel)",
   "language": "python",
   "name": "python3"
  },
  "language_info": {
   "codemirror_mode": {
    "name": "ipython",
    "version": 3
   },
   "file_extension": ".py",
   "mimetype": "text/x-python",
   "name": "python",
   "nbconvert_exporter": "python",
   "pygments_lexer": "ipython3",
   "version": "3.8.10"
  }
 },
 "nbformat": 4,
 "nbformat_minor": 5
}
