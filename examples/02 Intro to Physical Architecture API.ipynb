{
 "cells": [
  {
   "cell_type": "markdown",
   "id": "b02a2030",
   "metadata": {},
   "source": [
    "# Introduction to Physical Architecture API\n",
    "\n",
    "**Note**: In this notebook we will use `pandas` dataframes library to construct and visualize tables, if you don't have pandas installed in the current environemnt you may want to do so by running the cell below."
   ]
  },
  {
   "cell_type": "code",
   "execution_count": null,
   "id": "4c181cfb",
   "metadata": {},
   "outputs": [],
   "source": [
    "!pip install pandas"
   ]
  },
  {
   "cell_type": "markdown",
   "id": "3d39f975",
   "metadata": {},
   "source": [
    "The cell below loads our test model so we could play with it and silences warnings."
   ]
  },
  {
   "cell_type": "code",
   "execution_count": 6,
   "id": "1386d2f7",
   "metadata": {
    "scrolled": true
   },
   "outputs": [],
   "source": [
    "import capellambse\n",
    "import logging\n",
    "import pandas as pd\n",
    "\n",
    "\n",
    "logging.getLogger().setLevel(logging.CRITICAL)\n",
    "model = capellambse.MelodyModel(\"../tests/data/melodymodel/5_0/MelodyModelTest.aird\")"
   ]
  },
  {
   "cell_type": "markdown",
   "id": "9f73eb7e",
   "metadata": {},
   "source": [
    "but before we jump into code, lets have a look first at Capella metamodel concerning the Physical Architecture layer (PA).\n",
    "\n",
    "Things in PA are very similar to what we see in SysML when it comes to `ibd`s (Internal Block Diagrams) - the boxes we see on those are `Part`s that are instanciated from `Block` objects. Same happens in Capella - the boxes we see on `PAB` diagrams are `Parts` that were instanciated from `PhysicalComponent`s. Here also comes the very special difference of Capella - unless you explicitly enable **part re-use**, `PhysicalComponent` will always have only one `Part`. This is the default behavior of Capella. \n",
    "\n",
    "Our API should support both cases but at the moment we don't use models with **part re-use** enabled in production yet and so don't test the library against this case. Yet we do implement Parts and support many parts - one component relationship model.\n",
    "\n",
    "One more issue to mention - rendering PA diagrams outside of Capella was never a high priority so the resulting representations of PABs rendered without Capella are not very accurate at the moment. We hope to improve it soon though. If you still do want to see how it looks like when we render it right now - uncomment the `# diagram` in the cell below"
   ]
  },
  {
   "cell_type": "code",
   "execution_count": 10,
   "id": "8b555976",
   "metadata": {
    "scrolled": false
   },
   "outputs": [
    {
     "data": {
      "image/svg+xml": [
       "<svg baseProfile=\"full\" class=\"PhysicalArchitectureBlank\" height=\"661\" version=\"1.1\" viewBox=\"160 -39 732 661\" width=\"732\" xmlns=\"http://www.w3.org/2000/svg\" xmlns:ev=\"http://www.w3.org/2001/xml-events\" xmlns:xlink=\"http://www.w3.org/1999/xlink\"><defs><style>.PhysicalArchitectureBlank * { shape-rendering: geometricPrecision; }\n",
       ".PhysicalArchitectureBlank text { font-family: \"Segoe UI\"; font-size: 8pt; }\n",
       ".PhysicalArchitectureBlank g { cursor: pointer; }\n",
       ".PhysicalArchitectureBlank g.Edge &gt; path { fill: none; stroke: rgb(0, 0, 0); }\n",
       ".PhysicalArchitectureBlank g.Box &gt; line { stroke: #000000; }\n",
       ".PhysicalArchitectureBlank g.Box &gt; rect, .PhysicalArchitectureBlank g.Box &gt; use { fill: transparent; stroke: #000000; stroke-width: 1; }\n",
       ".PhysicalArchitectureBlank g.Box.Annotation &gt; line { stroke: none; }\n",
       ".PhysicalArchitectureBlank g.Box.Annotation &gt; rect, .PhysicalArchitectureBlank g.Box.Annotation &gt; use { fill: none; stroke: none; }\n",
       ".PhysicalArchitectureBlank g.Box.Constraint &gt; line { stroke: #888888; }\n",
       ".PhysicalArchitectureBlank g.Box.Constraint &gt; rect, .PhysicalArchitectureBlank g.Box.Constraint &gt; use { fill: #FFF5B5; stroke: #888888; }\n",
       ".PhysicalArchitectureBlank g.Box.Constraint &gt; text { fill: #000000; }\n",
       ".PhysicalArchitectureBlank g.Box.Note &gt; line { stroke: #FFCC66; }\n",
       ".PhysicalArchitectureBlank g.Box.Note &gt; rect, .PhysicalArchitectureBlank g.Box.Note &gt; use { fill: #FFFFCB; stroke: #FFCC66; }\n",
       ".PhysicalArchitectureBlank g.Box.Note &gt; text { fill: #000000; }\n",
       ".PhysicalArchitectureBlank g.Box.Requirement &gt; line { stroke: #72496E; }\n",
       ".PhysicalArchitectureBlank g.Box.Requirement &gt; rect, .PhysicalArchitectureBlank g.Box.Requirement &gt; use { fill: #D9C4D7; stroke: #72496E; }\n",
       ".PhysicalArchitectureBlank g.Box.Requirement &gt; text { fill: #000000; }\n",
       ".PhysicalArchitectureBlank g.Box.Text &gt; line { stroke: transparent; }\n",
       ".PhysicalArchitectureBlank g.Box.Text &gt; rect, .PhysicalArchitectureBlank g.Box.Text &gt; use { stroke: transparent; }\n",
       ".PhysicalArchitectureBlank g.Edge &gt; rect { fill: none; stroke: none; }\n",
       ".PhysicalArchitectureBlank g.Circle &gt; circle { fill: #000000; stroke: none; }\n",
       ".PhysicalArchitectureBlank g.Edge &gt; path { stroke-width: 1; }\n",
       ".PhysicalArchitectureBlank g.Edge.Connector &gt; rect { fill: none; stroke: none; }\n",
       ".PhysicalArchitectureBlank g.Circle.Connector &gt; circle { fill: #B0B0B0; stroke: none; }\n",
       ".PhysicalArchitectureBlank g.Edge.Connector &gt; path { stroke: #B0B0B0; stroke-dasharray: 1; }\n",
       ".PhysicalArchitectureBlank g.Edge.Constraint &gt; rect { fill: none; stroke: none; }\n",
       ".PhysicalArchitectureBlank g.Circle.Constraint &gt; circle { fill: #000000; stroke: none; }\n",
       ".PhysicalArchitectureBlank g.Edge.Constraint &gt; path { stroke: #000000; stroke-dasharray: 1, 3; marker-end: url(#FineArrowMark_000000); stroke-linecap: round; }\n",
       ".PhysicalArchitectureBlank g.Edge.Note &gt; rect { fill: none; stroke: none; }\n",
       ".PhysicalArchitectureBlank g.Circle.Note &gt; circle { fill: #000000; stroke: none; }\n",
       ".PhysicalArchitectureBlank g.Edge.Note &gt; path { stroke: #000000; stroke-dasharray: 1, 3; }\n",
       ".PhysicalArchitectureBlank g.Edge.RequirementRelation &gt; rect { fill: none; stroke: none; }\n",
       ".PhysicalArchitectureBlank g.Circle.RequirementRelation &gt; circle { fill: #72496E; stroke: none; }\n",
       ".PhysicalArchitectureBlank g.Edge.RequirementRelation &gt; path { stroke: #72496E; stroke-width: 2; marker-end: url(#FineArrowMark_72496E); stroke-dasharray: 5; }\n",
       ".PhysicalArchitectureBlank g.Edge.RequirementRelation &gt; text { fill: #72496E; }\n",
       ".PhysicalArchitectureBlank g.Box.CP_IN &gt; line { stroke: #000000; }\n",
       ".PhysicalArchitectureBlank g.Box.CP_IN &gt; rect, .PhysicalArchitectureBlank g.Box.CP_IN &gt; use { fill: #FFFFFF; stroke: #000000; }\n",
       ".PhysicalArchitectureBlank g.Box.CP_OUT &gt; line { stroke: #000000; }\n",
       ".PhysicalArchitectureBlank g.Box.CP_OUT &gt; rect, .PhysicalArchitectureBlank g.Box.CP_OUT &gt; use { fill: #FFFFFF; stroke: #000000; }\n",
       ".PhysicalArchitectureBlank g.Box.CP_INOUT &gt; line { stroke: #000000; }\n",
       ".PhysicalArchitectureBlank g.Box.CP_INOUT &gt; rect, .PhysicalArchitectureBlank g.Box.CP_INOUT &gt; use { fill: #FFFFFF; stroke: #000000; }\n",
       ".PhysicalArchitectureBlank g.Box.PP &gt; line { stroke: #7B694F; }\n",
       ".PhysicalArchitectureBlank g.Box.PP &gt; rect, .PhysicalArchitectureBlank g.Box.PP &gt; use { fill: #FFF477; stroke: #7B694F; }\n",
       ".PhysicalArchitectureBlank g.Box.PhysicalComponent &gt; line { stroke: #7B694F; }\n",
       ".PhysicalArchitectureBlank g.Box.PhysicalComponent &gt; rect, .PhysicalArchitectureBlank g.Box.PhysicalComponent &gt; use { fill: url(\"#.PhysicalComponentFillGradient\"); stroke: #7B694F; }\n",
       ".PhysicalArchitectureBlank g.Box.PhysicalComponent &gt; text { fill: #000000; }\n",
       ".PhysicalArchitectureBlank g.Edge.PhysicalLink &gt; rect { fill: none; stroke: none; }\n",
       ".PhysicalArchitectureBlank g.Circle.PhysicalLink &gt; circle { fill: #EF2929; stroke: none; }\n",
       ".PhysicalArchitectureBlank g.Edge.PhysicalLink &gt; path { stroke: #EF2929; stroke-width: 2; }\n",
       ".PhysicalArchitectureBlank g.Edge.PhysicalLink &gt; text { fill: #EF2929; }\n",
       "</style><symbol id=\"ErrorSymbol\" viewBox=\"0 0 2.6458 2.6458\"><path d=\"M 0,0 2.6458333,2.6458333 M 0,2.6458333 2.6458333,0\" style=\"fill: none; stroke: red; stroke-width: 0.5;\" /></symbol><symbol id=\"RequirementSymbol\" style=\"stroke: none;\" viewBox=\"0 0 50 50\"><path d=\"M 12.806813,6.5702324 A 6.244379,5.8113241 0 0 1 6.5624342,12.381557 6.244379,5.8113241 0 0 1 0.31805515,6.5702324 6.244379,5.8113241 0 0 1 6.5624342,0.75890827 6.244379,5.8113241 0 0 1 12.806813,6.5702324 Z\" style=\"fill: #431964\" /><path d=\"m 4.3228658,5.8752475 h 2.9514721 q 0.2945581,0 0.5184223,-0.1413879 Q 8.0225155,5.5865806 8.1462299,5.3214783 8.2699443,5.056376 8.2758355,4.7029063 v 0 q 0,-0.3475786 -0.1237144,-0.6126808 Q 8.0284067,3.8251232 7.7986513,3.6837353 7.5747872,3.5364562 7.2743379,3.5364562 H 4.3228658 V 2.1873801 h 2.9927103 q 0.7246129,0 1.2724909,0.3122316 0.5478781,0.3122316 0.8483274,0.8836743 0.3063404,0.5714427 0.3063404,1.3196203 v 0 q 0,0.7540687 -0.3063404,1.3255114 Q 9.1359451,6.5998605 8.5821759,6.912092 8.0342978,7.2243236 7.3155761,7.2243236 H 4.3228658 Z M 3.7396407,2.1873801 H 5.1476285 V 10.759021 H 3.7396407 Z M 6.3906636,6.9592213 7.8516718,6.6882279 10.102096,10.759021 H 8.4113322 Z\" style=\"fill:#ffffff;\" /></symbol><symbol id=\"PhysicalLinkSymbol\" viewBox=\"0 0 40 30\"><linearGradient id=\"PhysicalLinkSymbol-gradient\" x1=\"0\" x2=\"1\" y1=\"0\" y2=\"1\"><stop offset=\"0.0\" stop-color=\"#DFDF00\" stop-opacity=\"1\" /><stop offset=\"1.0\" stop-color=\"#E8E809\" stop-opacity=\"1\" /></linearGradient><linearGradient id=\"PhysicalLinkSymbol-gradientreverse\" x1=\"0\" x2=\"1\" y1=\"0\" y2=\"1\"><stop offset=\"0.0\" stop-color=\"#E8E809\" stop-opacity=\"1\" /><stop offset=\"1.0\" stop-color=\"#DFDF00\" stop-opacity=\"1\" /></linearGradient><g style=\"stroke:#000;stroke-width:2;\"><path d=\"M 36.190065,5.0377724 V 24.962228 H 26.17482 V 5.0377724 Z\" style=\"fill: url(#PhysicalLinkSymbol-gradientreverse)\" /><path d=\"m 14.372107,10 h 12.622435 c 0.926189,0.585267 1.836022,1.274509 2.268178,5 -0.208657,2.812473 -0.954601,4.503809 -2.273297,5 H 14.296948\" style=\"fill: #F60A0A\" /><path d=\"M 3.9464908,5.0048246 V 24.995175 H 10.87518 C 12.433713,24.159139 15.158267,20.291241 15.313795,15 15.498614,11.583142 14.059659,6.6240913 10.87518,5.0048246 c -2.2179509,0 -4.5908341,0 -6.9286892,0 z\" style=\"fill: url(#PhysicalLinkSymbol-gradient)\" /></g></symbol><symbol id=\"ComponentExchangeSymbol\" viewBox=\"0 0 40 30\"><linearGradient id=\"ComponentExchangeSymbol-gradient\" x1=\"0\" x2=\"1\" y1=\"0\" y2=\"1\"><stop offset=\"0.0\" stop-color=\"#8FA5B6\" stop-opacity=\"1\" /><stop offset=\"1.0\" stop-color=\"#E0E9F3\" stop-opacity=\"1\" /></linearGradient><linearGradient id=\"ComponentExchangeSymbol-gradientreverse\" x1=\"0\" x2=\"1\" y1=\"0\" y2=\"1\"><stop offset=\"0.0\" stop-color=\"#E0E9F3\" stop-opacity=\"1\" /><stop offset=\"1.0\" stop-color=\"#8FA5B6\" stop-opacity=\"1\" /></linearGradient><g style=\"stroke:#000;stroke-width:2;\"><path d=\"M 36.190065,5.0377724 V 24.962228 H 26.17482 V 5.0377724 Z\" style=\"fill: url(#ComponentExchangeSymbol-gradientreverse)\" /><path d=\"m 14.372107,10 h 12.622435 c 0.926189,0.585267 1.836022,1.274509 2.268178,5 -0.208657,2.812473 -0.954601,4.503809 -2.273297,5 H 14.296948\" style=\"fill: #A3BCD0\" /><path d=\"M 3.9464908,5.0048246 V 24.995175 H 10.87518 C 12.433713,24.159139 15.158267,20.291241 15.313795,15 15.498614,11.583142 14.059659,6.6240913 10.87518,5.0048246 c -2.2179509,0 -4.5908341,0 -6.9286892,0 z\" style=\"fill: url(#ComponentExchangeSymbol-gradient)\" /></g></symbol><symbol id=\"ComponentPortSymbol\" viewBox=\"0 0 10 10\"><path d=\"M0 0h10v10H0z\" /><path d=\"M 2,2 5,7 8,2\" /></symbol><linearGradient id=\".PhysicalComponentFillGradient\" x1=\"0%\" x2=\"0%\" y1=\"0%\" y2=\"100%\"><stop offset=\"0\" stop-color=\"#FFFFDC\" /><stop offset=\"1\" stop-color=\"#FFFCB7\" /></linearGradient><linearGradient id=\"CustomGradient_C3E6FF_96B1DA\" x1=\"0\" x2=\"0\" y1=\"0\" y2=\"1\"><stop offset=\"0.0\" stop-color=\"#C3E6FF\" stop-opacity=\"1\" /><stop offset=\"1.0\" stop-color=\"#96B1DA\" stop-opacity=\"1\" /></linearGradient></defs><rect fill=\"white\" height=\"661\" stroke=\"none\" width=\"732\" x=\"160\" y=\"-39\" /><g class=\"Box PhysicalComponent\" id=\"_fKTsUFIqEeyiRNlyKPJwqw\"><rect class=\"PhysicalComponent\" height=\"641\" style=\"stroke-width: 1\" width=\"671\" x=\"170.5\" y=\"-28.5\" /><text class=\"PhysicalComponent\" dominant-baseline=\"middle\" text-anchor=\"middle\" x=\"170\" y=\"-29\"><tspan x=\"505.5\" xml:space=\"preserve\" y=\"-19.0\">Vehicle</tspan></text></g><g class=\"Box PhysicalComponent\" id=\"_gvL_cFIqEeyiRNlyKPJwqw\"><rect class=\"PhysicalComponent\" height=\"601\" style=\"stroke-width: 1\" width=\"411\" x=\"415.5\" y=\"-4.5\" /><text class=\"PhysicalComponent\" dominant-baseline=\"middle\" text-anchor=\"middle\" x=\"415\" y=\"-5\"><tspan x=\"620.5\" xml:space=\"preserve\" y=\"6.428571428571429\">Equipment compartment</tspan></text></g><g class=\"Box PhysicalComponent\" id=\"_maCCYFIqEeyiRNlyKPJwqw\"><rect class=\"PhysicalComponent\" height=\"411\" style=\"stroke-width: 1\" width=\"251\" x=\"420.5\" y=\"168.5\" /><text class=\"PhysicalComponent\" dominant-baseline=\"middle\" text-anchor=\"middle\" x=\"420\" y=\"168\"><tspan x=\"545.5\" xml:space=\"preserve\" y=\"178.0\">Server</tspan></text></g><g class=\"Box PhysicalComponent\" id=\"_s9csEFIqEeyiRNlyKPJwqw\"><rect class=\"PhysicalComponent\" height=\"221\" style=\"stroke-width: 1\" width=\"231\" x=\"425.5\" y=\"192.5\" /><text class=\"PhysicalComponent\" dominant-baseline=\"middle\" text-anchor=\"middle\" x=\"425\" y=\"192\"><tspan x=\"540.5\" xml:space=\"preserve\" y=\"203.42857142857142\">Compute Card 1</tspan></text></g><g class=\"Box PhysicalComponent\" id=\"_Ef4boFIrEeyiRNlyKPJwqw\"><rect class=\"PhysicalComponent\" height=\"141\" style=\"fill: url(&quot;#CustomGradient_C3E6FF_96B1DA&quot;); stroke: #4A4A97; stroke-width: 1\" width=\"181\" x=\"440.5\" y=\"216.5\" /><text class=\"PhysicalComponent\" dominant-baseline=\"middle\" text-anchor=\"middle\" x=\"440\" y=\"216\"><tspan x=\"530.5\" xml:space=\"preserve\" y=\"226.0\">Card 1 OS</tspan></text></g><g class=\"Box PhysicalComponent\" id=\"_32KFkFIrEeyiRNlyKPJwqw\"><rect class=\"PhysicalComponent\" height=\"31\" style=\"fill: url(&quot;#CustomGradient_C3E6FF_96B1DA&quot;); stroke: #4A4A97; stroke-width: 1\" width=\"141\" x=\"455.5\" y=\"240.5\" /><text class=\"PhysicalComponent\" dominant-baseline=\"middle\" text-anchor=\"middle\" x=\"455\" y=\"240\"><tspan x=\"525.5\" xml:space=\"preserve\" y=\"255.5\">Camera Driver SWC</tspan></text></g><g class=\"Box CP_IN\"><use class=\"CP_IN\" height=\"10\" transform=\"rotate(270 458.5 256.5)\" width=\"10\" x=\"453.5\" xlink:href=\"#ComponentPortSymbol\" y=\"251.5\" /></g><g class=\"Box CP_OUT\"><use class=\"CP_OUT\" height=\"10\" transform=\"rotate(-90 593.5 257.5)\" width=\"10\" x=\"588.5\" xlink:href=\"#ComponentPortSymbol\" y=\"252.5\" /></g><g class=\"Box PhysicalComponent\" id=\"_j7FBwFIsEeyiRNlyKPJwqw\"><rect class=\"PhysicalComponent\" height=\"31\" style=\"fill: url(&quot;#CustomGradient_C3E6FF_96B1DA&quot;); stroke: #4A4A97; stroke-width: 1\" width=\"141\" x=\"455.5\" y=\"310.5\" /><text class=\"PhysicalComponent\" dominant-baseline=\"middle\" text-anchor=\"middle\" x=\"455\" y=\"310\"><tspan x=\"525.5\" xml:space=\"preserve\" y=\"325.5\">App 1 SWC</tspan></text></g><g class=\"Box CP_IN\"><use class=\"CP_IN\" height=\"10\" transform=\"rotate(270 458.5 326.5)\" width=\"10\" x=\"453.5\" xlink:href=\"#ComponentPortSymbol\" y=\"321.5\" /></g><g class=\"Box CP_OUT\"><use class=\"CP_OUT\" height=\"10\" transform=\"rotate(-90 593.5 326.5)\" width=\"10\" x=\"588.5\" xlink:href=\"#ComponentPortSymbol\" y=\"321.5\" /></g><g class=\"Box CP_INOUT\"><rect class=\"CP_INOUT\" height=\"10\" transform=\"rotate(-90 618.5 242.5)\" width=\"10\" x=\"613.5\" y=\"237.5\" /></g><g class=\"Box PhysicalComponent\" id=\"_nicnQFK_Eey20fzX2riFkQ\"><rect class=\"PhysicalComponent\" height=\"31\" style=\"stroke-width: 1\" width=\"180\" x=\"441.5\" y=\"366.5\" /><text class=\"PhysicalComponent\" dominant-baseline=\"middle\" text-anchor=\"middle\" x=\"441\" y=\"366\"><tspan x=\"531.0\" xml:space=\"preserve\" y=\"381.5\">Cooling Fan</tspan></text></g><g class=\"Box PP\" id=\"_xXlfoFIrEeyiRNlyKPJwqw\"><rect class=\"PP\" height=\"10\" style=\"stroke-width: 1\" width=\"10\" x=\"648.5\" y=\"214.5\" /><text class=\"Annotation\" dominant-baseline=\"middle\" text-anchor=\"middle\" x=\"661\" y=\"214\"><tspan x=\"668.5\" xml:space=\"preserve\" y=\"219.0\">X2</tspan></text></g><g class=\"Box PhysicalComponent\" id=\"_5dI1AFIsEeyiRNlyKPJwqw\"><rect class=\"PhysicalComponent\" height=\"111\" style=\"stroke-width: 1\" width=\"231\" x=\"425.5\" y=\"452.5\" /><text class=\"PhysicalComponent\" dominant-baseline=\"middle\" text-anchor=\"middle\" x=\"425\" y=\"452\"><tspan x=\"540.5\" xml:space=\"preserve\" y=\"463.42857142857144\">Compute Card 2</tspan></text></g><g class=\"Box PhysicalComponent\" id=\"_8MhMYFIsEeyiRNlyKPJwqw\"><rect class=\"PhysicalComponent\" height=\"69\" style=\"fill: url(&quot;#CustomGradient_C3E6FF_96B1DA&quot;); stroke: #4A4A97; stroke-width: 1\" width=\"161\" x=\"450.5\" y=\"476.5\" /><text class=\"PhysicalComponent\" dominant-baseline=\"middle\" text-anchor=\"middle\" x=\"450\" y=\"476\"><tspan x=\"530.5\" xml:space=\"preserve\" y=\"486.0\">Card 2 OS</tspan></text></g><g class=\"Box PhysicalComponent\" id=\"_E8hCYFItEeyiRNlyKPJwqw\"><rect class=\"PhysicalComponent\" height=\"31\" style=\"fill: url(&quot;#CustomGradient_C3E6FF_96B1DA&quot;); stroke: #4A4A97; stroke-width: 1\" width=\"141\" x=\"455.5\" y=\"500.5\" /><text class=\"PhysicalComponent\" dominant-baseline=\"middle\" text-anchor=\"middle\" x=\"455\" y=\"500\"><tspan x=\"525.5\" xml:space=\"preserve\" y=\"515.5\">App 2 SWC</tspan></text></g><g class=\"Box CP_IN\"><use class=\"CP_IN\" height=\"10\" transform=\"rotate(270 458.5 516.5)\" width=\"10\" x=\"453.5\" xlink:href=\"#ComponentPortSymbol\" y=\"511.5\" /></g><g class=\"Box CP_INOUT\"><rect class=\"CP_INOUT\" height=\"10\" transform=\"rotate(-90 608.5 502.5)\" width=\"10\" x=\"603.5\" y=\"497.5\" /></g><g class=\"Box PP\" id=\"_NqsTcFItEeyiRNlyKPJwqw\"><rect class=\"PP\" height=\"10\" style=\"stroke-width: 1\" width=\"10\" x=\"648.5\" y=\"523.5\" /><text class=\"Annotation\" dominant-baseline=\"middle\" text-anchor=\"middle\" x=\"661\" y=\"523\"><tspan x=\"668.5\" xml:space=\"preserve\" y=\"528.0\">X2</tspan></text></g><g class=\"Box PhysicalComponent\" id=\"__bD24FIqEeyiRNlyKPJwqw\"><rect class=\"PhysicalComponent\" height=\"141\" style=\"stroke-width: 1\" width=\"251\" x=\"420.5\" y=\"18.5\" /><text class=\"PhysicalComponent\" dominant-baseline=\"middle\" text-anchor=\"middle\" x=\"420\" y=\"18\"><tspan x=\"545.5\" xml:space=\"preserve\" y=\"28.0\">Network Switch</tspan></text></g><g class=\"Box PhysicalComponent\" id=\"_JQdOsFIrEeyiRNlyKPJwqw\"><rect class=\"PhysicalComponent\" height=\"61\" style=\"fill: url(&quot;#CustomGradient_C3E6FF_96B1DA&quot;); stroke: #4A4A97; stroke-width: 1\" width=\"128\" x=\"465.5\" y=\"42.5\" /><text class=\"PhysicalComponent\" dominant-baseline=\"middle\" text-anchor=\"middle\" x=\"465\" y=\"42\"><tspan x=\"529.0\" xml:space=\"preserve\" y=\"72.5\">Switch Firmware</tspan></text></g><g class=\"Box CP_INOUT\"><rect class=\"CP_INOUT\" height=\"10\" transform=\"rotate(-90 590.5 88.5)\" width=\"10\" x=\"585.5\" y=\"83.5\" /></g><g class=\"Box CP_INOUT\"><rect class=\"CP_INOUT\" height=\"10\" transform=\"rotate(-90 590.5 58.5)\" width=\"10\" x=\"585.5\" y=\"53.5\" /></g><g class=\"Box CP_INOUT\"><rect class=\"CP_INOUT\" height=\"10\" transform=\"rotate(90 468.5 78.5)\" width=\"10\" x=\"463.5\" y=\"73.5\" /></g><g class=\"Box PhysicalComponent\" id=\"_MP2_EFIrEeyiRNlyKPJwqw\"><rect class=\"PhysicalComponent\" height=\"69\" style=\"fill: url(&quot;#CustomGradient_C3E6FF_96B1DA&quot;); stroke: #4A4A97; stroke-width: 1\" width=\"148\" x=\"445.5\" y=\"112.5\" /><text class=\"PhysicalComponent\" dominant-baseline=\"middle\" text-anchor=\"middle\" x=\"445\" y=\"112\"><tspan x=\"519.0\" xml:space=\"preserve\" y=\"146.49999999999997\">Switch Configuration</tspan></text></g><g class=\"Box PP\" id=\"_wap9UFIrEeyiRNlyKPJwqw\"><rect class=\"PP\" height=\"10\" style=\"stroke-width: 1\" width=\"10\" x=\"418.5\" y=\"49.5\" /><text class=\"Annotation\" dominant-baseline=\"middle\" text-anchor=\"middle\" x=\"431\" y=\"49\"><tspan x=\"437.5\" xml:space=\"preserve\" y=\"54.0\">P1</tspan></text></g><g class=\"Box PP\" id=\"_xXkRgFIrEeyiRNlyKPJwqw\"><rect class=\"PP\" height=\"10\" style=\"stroke-width: 1\" width=\"10\" x=\"663.5\" y=\"130.5\" /><text class=\"Annotation\" dominant-baseline=\"middle\" text-anchor=\"middle\" x=\"676\" y=\"130\"><tspan x=\"683.5\" xml:space=\"preserve\" y=\"135.0\">P3</tspan></text></g><g class=\"Box PP\" id=\"_Nqs6glItEeyiRNlyKPJwqw\"><rect class=\"PP\" height=\"10\" style=\"stroke-width: 1\" width=\"10\" x=\"663.5\" y=\"29.5\" /><text class=\"Annotation\" dominant-baseline=\"middle\" text-anchor=\"middle\" x=\"676\" y=\"29\"><tspan x=\"683.5\" xml:space=\"preserve\" y=\"34.0\">P2</tspan></text></g><g class=\"Box PhysicalComponent\" id=\"_31cwYFIqEeyiRNlyKPJwqw\"><rect class=\"PhysicalComponent\" height=\"151\" style=\"stroke-width: 1\" width=\"141\" x=\"185.5\" y=\"-4.5\" /><text class=\"PhysicalComponent\" dominant-baseline=\"middle\" text-anchor=\"middle\" x=\"185\" y=\"-5\"><tspan x=\"255.5\" xml:space=\"preserve\" y=\"6.428571428571429\">Sensor compartment</tspan></text></g><g class=\"Box PhysicalComponent\" id=\"_XBG7IFIrEeyiRNlyKPJwqw\"><rect class=\"PhysicalComponent\" height=\"111\" style=\"stroke-width: 1\" width=\"121\" x=\"190.5\" y=\"18.5\" /><text class=\"PhysicalComponent\" dominant-baseline=\"middle\" text-anchor=\"middle\" x=\"190\" y=\"18\"><tspan x=\"250.5\" xml:space=\"preserve\" y=\"29.42857142857143\">Camera Assembly</tspan></text></g><g class=\"Box PhysicalComponent\" id=\"_aZqLUFIrEeyiRNlyKPJwqw\"><rect class=\"PhysicalComponent\" height=\"61\" style=\"fill: url(&quot;#CustomGradient_C3E6FF_96B1DA&quot;); stroke: #4A4A97; stroke-width: 1\" width=\"91\" x=\"195.5\" y=\"52.5\" /><text class=\"PhysicalComponent\" dominant-baseline=\"middle\" text-anchor=\"middle\" x=\"195\" y=\"52\"><tspan x=\"240.5\" xml:space=\"preserve\" y=\"77.5\">Camera</tspan><tspan x=\"240.5\" xml:space=\"preserve\" y=\"87.5\">Firmware</tspan></text></g><g class=\"Box CP_OUT\"><use class=\"CP_OUT\" height=\"10\" transform=\"rotate(-90 283.5 98.5)\" width=\"10\" x=\"278.5\" xlink:href=\"#ComponentPortSymbol\" y=\"93.5\" /></g><g class=\"Box CP_INOUT\"><rect class=\"CP_INOUT\" height=\"10\" transform=\"rotate(-90 283.5 78.5)\" width=\"10\" x=\"278.5\" y=\"73.5\" /></g><g class=\"Box PP\" id=\"_wanhEFIrEeyiRNlyKPJwqw\"><rect class=\"PP\" height=\"10\" style=\"stroke-width: 1\" width=\"10\" x=\"303.5\" y=\"49.5\" /></g><g class=\"Box PhysicalPath\" id=\"_TEp6YFIwEeyiRNlyKPJwqw\"><rect class=\"PhysicalPath\" height=\"20\" style=\"fill: #1872F8; stroke-width: 1\" width=\"20\" x=\"862.5\" y=\"262.5\" /><text class=\"PhysicalPath\" dominant-baseline=\"middle\" text-anchor=\"middle\" x=\"862\" y=\"262\"><tspan x=\"872.0\" xml:space=\"preserve\" y=\"265.57142857142856\">car</tspan><tspan x=\"872.0\" xml:space=\"preserve\" y=\"275.57142857142856\">d...</tspan></text></g><g class=\"Edge PhysicalLink\" id=\"_wa-GYFIrEeyiRNlyKPJwqw\"><path class=\"Edge\" d=\"M 313.5 54.5 418.5 54.5\" /><rect class=\"AnnotationBB\" height=\"10\" width=\"23\" x=\"355\" y=\"36\" /><text class=\"Annotation\" dominant-baseline=\"middle\" text-anchor=\"middle\" x=\"343.0\" y=\"36\"><tspan x=\"367.5\" xml:space=\"preserve\" y=\"41.0\">PL 1</tspan></text><use height=\"20\" width=\"20\" x=\"336.07142857142856\" xlink:href=\"#PhysicalLinkSymbol\" y=\"31.0\" /></g><g class=\"Edge PhysicalLink\" id=\"_xXmGsFIrEeyiRNlyKPJwqw\"><path class=\"Edge\" d=\"M 673.5 135.5 785.5 135.5 785.5 219.5 658.5 219.5\" style=\"stroke: #1872F8; stroke-width: 4\" /><rect class=\"AnnotationBB\" height=\"10\" width=\"60\" x=\"719\" y=\"113\" /><text class=\"Annotation\" dominant-baseline=\"middle\" text-anchor=\"middle\" x=\"707.0\" y=\"113\"><tspan x=\"750.0\" xml:space=\"preserve\" y=\"118.0\">Eth Cable 2</tspan></text><use height=\"20\" width=\"20\" x=\"700.0\" xlink:href=\"#PhysicalLinkSymbol\" y=\"108.0\" /></g><g class=\"Edge PhysicalLink\" id=\"_NqthklItEeyiRNlyKPJwqw\"><path class=\"Edge\" d=\"M 658.5 528.5 814.5 528.5 814.5 34.5 673.5 34.5\" style=\"stroke: #1872F8; stroke-width: 4\" /><rect class=\"AnnotationBB\" height=\"10\" width=\"60\" x=\"712\" y=\"9\" /><text class=\"Annotation\" dominant-baseline=\"middle\" text-anchor=\"middle\" x=\"700.0\" y=\"9\"><tspan x=\"743.0\" xml:space=\"preserve\" y=\"14.0\">Eth Cable 3</tspan></text><use height=\"20\" width=\"20\" x=\"693.0\" xlink:href=\"#PhysicalLinkSymbol\" y=\"4.0\" /></g><g class=\"Edge ComponentExchange\" id=\"_oucNoFItEeyiRNlyKPJwqw\"><path class=\"Edge\" d=\"M 288.5 98.5 329.5 98.5 329.5 256.5 453.5 256.5\" style=\"stroke: #4A4A97\" /><rect class=\"AnnotationBB\" height=\"10\" width=\"18\" x=\"356\" y=\"244\" /><text class=\"Annotation\" dominant-baseline=\"middle\" text-anchor=\"middle\" x=\"344.0\" y=\"244\"><tspan x=\"366.0\" xml:space=\"preserve\" y=\"249.0\">C 1</tspan></text><use height=\"20\" width=\"20\" x=\"337.42857142857144\" xlink:href=\"#ComponentExchangeSymbol\" y=\"239.0\" /></g><g class=\"Edge ComponentExchange\" id=\"_sK7ioVItEeyiRNlyKPJwqw\"><path class=\"Edge\" d=\"M 598.5 257.5 605.5 257.5 605.5 301.5 445.5 301.5 445.5 326.5 453.5 326.5\" style=\"stroke: #4A4A97\" /><rect class=\"AnnotationBB\" height=\"10\" width=\"18\" x=\"463\" y=\"284\" /><text class=\"Annotation\" dominant-baseline=\"middle\" text-anchor=\"middle\" x=\"451.0\" y=\"284\"><tspan x=\"473.0\" xml:space=\"preserve\" y=\"289.0\">C 2</tspan></text><use height=\"20\" width=\"20\" x=\"444.42857142857144\" xlink:href=\"#ComponentExchangeSymbol\" y=\"279.0\" /></g><g class=\"Edge ComponentExchange\" id=\"_SggWYFIuEeyiRNlyKPJwqw\"><path class=\"Edge\" d=\"M 623.5 242.5 780.5 242.5 780.5 88.5 595.5 88.5\" style=\"stroke: #4A4A97\" /><rect class=\"AnnotationBB\" height=\"10\" width=\"18\" x=\"702\" y=\"65\" /><text class=\"Annotation\" dominant-baseline=\"middle\" text-anchor=\"middle\" x=\"690.0\" y=\"65\"><tspan x=\"712.0\" xml:space=\"preserve\" y=\"70.0\">C 3</tspan></text><use height=\"20\" width=\"20\" x=\"683.4285714285714\" xlink:href=\"#ComponentExchangeSymbol\" y=\"60.0\" /></g><g class=\"Edge ComponentExchange\" id=\"_6WU04lIuEeyiRNlyKPJwqw\"><path class=\"Edge\" d=\"M 613.5 502.5 790.5 502.5 790.5 58.5 595.5 58.5\" style=\"stroke: #4A4A97\" /><rect class=\"AnnotationBB\" height=\"10\" width=\"18\" x=\"701\" y=\"38\" /><text class=\"Annotation\" dominant-baseline=\"middle\" text-anchor=\"middle\" x=\"689.0\" y=\"38\"><tspan x=\"711.0\" xml:space=\"preserve\" y=\"43.0\">C 4</tspan></text><use height=\"20\" width=\"20\" x=\"682.4285714285714\" xlink:href=\"#ComponentExchangeSymbol\" y=\"33.0\" /></g><g class=\"Edge ComponentExchange\" id=\"_iU7b8FIvEeyiRNlyKPJwqw\"><path class=\"Edge\" d=\"M 288.5 78.5 463.5 78.5\" style=\"stroke: #4A4A97\" /><rect class=\"AnnotationBB\" height=\"10\" width=\"18\" x=\"353\" y=\"66\" /><text class=\"Annotation\" dominant-baseline=\"middle\" text-anchor=\"middle\" x=\"341.0\" y=\"66\"><tspan x=\"363.0\" xml:space=\"preserve\" y=\"71.0\">C 5</tspan></text><use height=\"20\" width=\"20\" x=\"334.42857142857144\" xlink:href=\"#ComponentExchangeSymbol\" y=\"61.0\" /></g><g class=\"Edge ComponentExchange\" id=\"_pw3CAFIvEeyiRNlyKPJwqw\"><path class=\"Edge\" d=\"M 598.5 326.5 635.5 326.5 635.5 431.5 435.5 431.5 435.5 516.5 453.5 516.5\" style=\"stroke: #4A4A97\" /><rect class=\"AnnotationBB\" height=\"10\" width=\"18\" x=\"453\" y=\"414\" /><text class=\"Annotation\" dominant-baseline=\"middle\" text-anchor=\"middle\" x=\"441.0\" y=\"414\"><tspan x=\"463.0\" xml:space=\"preserve\" y=\"419.0\">C 6</tspan></text><use height=\"20\" width=\"20\" x=\"434.42857142857144\" xlink:href=\"#ComponentExchangeSymbol\" y=\"409.0\" /></g><g class=\"Edge ComponentPortAllocation\" id=\"_6Bf-8FIvEeyiRNlyKPJwqw\"><path class=\"Edge\" d=\"M 428.5 54.5 463.5 78.5\" style=\"stroke: #274C72\" /><rect class=\"AnnotationBB\" height=\"0\" width=\"0\" x=\"449\" y=\"57\" /><text class=\"Annotation\" dominant-baseline=\"middle\" text-anchor=\"middle\" x=\"449\" y=\"57\"><tspan x=\"449.0\" xml:space=\"preserve\" y=\"57.0\" /></text></g><g class=\"Edge ComponentPortAllocation\" id=\"_6BgmAlIvEeyiRNlyKPJwqw\"><path class=\"Edge\" d=\"M 303.5 54.5 288.5 78.5\" style=\"stroke: #274C72\" /><rect class=\"AnnotationBB\" height=\"0\" width=\"0\" x=\"306\" y=\"71\" /><text class=\"Annotation\" dominant-baseline=\"middle\" text-anchor=\"middle\" x=\"306\" y=\"71\"><tspan x=\"306.0\" xml:space=\"preserve\" y=\"71.0\" /></text></g><g class=\"Edge ComponentPortAllocation\" id=\"_9ZAGUFIvEeyiRNlyKPJwqw\"><path class=\"Edge\" d=\"M 663.5 135.5 595.5 88.5\" style=\"stroke: #274C72\" /><rect class=\"AnnotationBB\" height=\"0\" width=\"0\" x=\"635\" y=\"120\" /><text class=\"Annotation\" dominant-baseline=\"middle\" text-anchor=\"middle\" x=\"635\" y=\"120\"><tspan x=\"635.0\" xml:space=\"preserve\" y=\"120.0\" /></text></g><g class=\"Edge ComponentPortAllocation\" id=\"_9ZAtVFIvEeyiRNlyKPJwqw\"><path class=\"Edge\" d=\"M 648.5 219.5 623.5 242.5\" style=\"stroke: #274C72\" /><rect class=\"AnnotationBB\" height=\"0\" width=\"0\" x=\"654\" y=\"241\" /><text class=\"Annotation\" dominant-baseline=\"middle\" text-anchor=\"middle\" x=\"654\" y=\"241\"><tspan x=\"654.0\" xml:space=\"preserve\" y=\"241.0\" /></text></g><g class=\"Edge ComponentPortAllocation\" id=\"_A46iwFIwEeyiRNlyKPJwqw\"><path class=\"Edge\" d=\"M 663.5 34.5 595.5 58.5\" style=\"stroke: #274C72\" /><rect class=\"AnnotationBB\" height=\"0\" width=\"0\" x=\"635\" y=\"53\" /><text class=\"Annotation\" dominant-baseline=\"middle\" text-anchor=\"middle\" x=\"635\" y=\"53\"><tspan x=\"635.0\" xml:space=\"preserve\" y=\"53.0\" /></text></g><g class=\"Edge ComponentPortAllocation\" id=\"_A46ixVIwEeyiRNlyKPJwqw\"><path class=\"Edge\" d=\"M 648.5 528.5 613.5 502.5\" style=\"stroke: #274C72\" /><rect class=\"AnnotationBB\" height=\"0\" width=\"0\" x=\"638\" y=\"526\" /><text class=\"Annotation\" dominant-baseline=\"middle\" text-anchor=\"middle\" x=\"638\" y=\"526\"><tspan x=\"638.0\" xml:space=\"preserve\" y=\"526.0\" /></text></g><g class=\"Edge PhysicalPath\" id=\"_TGEPoFIwEeyiRNlyKPJwqw\"><path class=\"Edge\" d=\"M 668.5 130.5 659.5 94.5 668.5 39.5\" style=\"stroke: #1872F8; stroke-width: 4\" /><rect class=\"AnnotationBB\" height=\"10\" width=\"132\" x=\"593\" y=\"82\" /><text class=\"Annotation\" dominant-baseline=\"middle\" text-anchor=\"middle\" x=\"593\" y=\"82\"><tspan x=\"659.0\" xml:space=\"preserve\" y=\"87.0\">card1 - card2 connection</tspan></text></g><g class=\"Edge ComponentExchange\" id=\"_jk1vMFIwEeyiRNlyKPJwqw\"><path class=\"Edge\" d=\"M 603.5 502.5 490.5 502.5 463.5 516.5\" style=\"stroke: #4A4A97\" /><rect class=\"AnnotationBB\" height=\"10\" width=\"19\" x=\"523\" y=\"487\" /><text class=\"Annotation\" dominant-baseline=\"middle\" text-anchor=\"middle\" x=\"511.0\" y=\"487\"><tspan x=\"533.5\" xml:space=\"preserve\" y=\"492.0\">D 7</tspan></text><use height=\"20\" width=\"20\" x=\"504.21428571428567\" xlink:href=\"#ComponentExchangeSymbol\" y=\"482.0\" /></g><g class=\"Edge ComponentExchange\" id=\"_m4vv8FIwEeyiRNlyKPJwqw\"><path class=\"Edge\" d=\"M 618.5 247.5 640.5 287.5 598.5 326.5\" style=\"stroke: #4A4A97\" /><rect class=\"AnnotationBB\" height=\"10\" width=\"19\" x=\"629\" y=\"269\" /><text class=\"Annotation\" dominant-baseline=\"middle\" text-anchor=\"middle\" x=\"617.0\" y=\"269\"><tspan x=\"639.5\" xml:space=\"preserve\" y=\"274.0\">D 8</tspan></text><use height=\"20\" width=\"20\" x=\"610.2142857142857\" xlink:href=\"#ComponentExchangeSymbol\" y=\"264.0\" /></g></svg>"
      ],
      "text/plain": [
       "<Diagram '[PAB] A sample vehicle arch'>"
      ]
     },
     "execution_count": 10,
     "metadata": {},
     "output_type": "execute_result"
    }
   ],
   "source": [
    "diagram = model.pa.diagrams.by_name(\"[PAB] A sample vehicle arch\")\n",
    "diagram"
   ]
  },
  {
   "cell_type": "markdown",
   "id": "1c479ca3",
   "metadata": {},
   "source": [
    "# Example 1: List components that are visible on a diagram\n",
    "\n",
    "To start, lets get all parts on that diagram and turn them into PhysicalComponents"
   ]
  },
  {
   "cell_type": "code",
   "execution_count": 5,
   "id": "711574aa",
   "metadata": {
    "scrolled": true
   },
   "outputs": [
    {
     "data": {
      "text/plain": [
       "[<PhysicalComponent 'Card 1 OS' (7b188ad0-0d82-4b2c-9913-45292e537871)>,\n",
       " <PhysicalComponent 'Camera Assembly' (5bfc516b-c20d-4007-9a38-5ba0e889d0a4)>,\n",
       " <PhysicalComponent 'App 2 SWC' (ca5af12c-5259-4844-aaac-9ca9f84aa90b)>,\n",
       " <PhysicalComponent 'Switch Firmware' (c78b5d7c-be0c-4ed4-9d12-d447cb39304e)>,\n",
       " <PhysicalComponent 'Compute Card 2' (3a982128-3281-4d37-8838-a6058b7a25d9)>,\n",
       " <PhysicalComponent 'Server' (9137f463-7497-40c2-b20a-897158fdba9a)>,\n",
       " <PhysicalComponent 'App 1 SWC' (b80a6fcc-8d35-4675-a2e6-60efcbd61e27)>,\n",
       " <PhysicalComponent 'Equipment compartment' (3d68852d-fcc0-452c-af12-a2fbe22f81fa)>,\n",
       " <PhysicalComponent 'Compute Card 1' (63be604e-883e-41ea-9023-fc74f29906fe)>,\n",
       " <PhysicalComponent 'Cooling Fan' (65e82f3f-c5b7-44c1-bfea-8e20bb0230be)>,\n",
       " <PhysicalComponent 'Camera Driver SWC' (74067f56-33bf-47f5-bb8b-f3604097f653)>,\n",
       " <PhysicalComponent 'Card 2 OS' (09e19313-c824-467f-9fb5-95ed8b4e2d51)>,\n",
       " <PhysicalComponent 'Switch Configuration' (23c47b69-7352-481d-be88-498fb351adbe)>,\n",
       " <PhysicalComponent 'Network Switch' (b51ccc6f-5f96-4e28-b90e-72463a3b50cf)>,\n",
       " <PhysicalComponent 'Camera Firmware' (db2d86d7-48ee-478b-a6fc-d6387ab0032e)>,\n",
       " <PhysicalComponent 'Sensor compartment' (3f416925-9d8a-4e9c-99f3-e912efb23d2f)>,\n",
       " <PhysicalComponent 'Vehicle' (b327d900-abd2-4138-a111-9ff0684739d8)>]"
      ]
     },
     "execution_count": 5,
     "metadata": {},
     "output_type": "execute_result"
    }
   ],
   "source": [
    "components_on_diagram = list(map(lambda x: x.type, diagram.nodes.by_type(\"Part\")))\n",
    "components_on_diagram"
   ]
  },
  {
   "cell_type": "markdown",
   "id": "aab38c3e",
   "metadata": {},
   "source": [
    "we could also get all components across PA layer by doing `model.pa.all_components` but we will not go there in this example.\n",
    "\n",
    "We can review any single component from that list above"
   ]
  },
  {
   "cell_type": "code",
   "execution_count": 20,
   "id": "21ef5c4d",
   "metadata": {},
   "outputs": [
    {
     "data": {
      "text/html": [
       "<h1>PhysicalComponent <span style=\"font-size: 70%;\">(org.polarsys.capella.core.data.pa:PhysicalComponent)</span></h1><table><tr><th style=\"text-align: right;\">components</th><td style=\"text-align: left;\"><ol start=\"0\" style=\"text-align: left;\"><li><strong>PhysicalComponent</strong> &quot;Card 1 OS&quot; (7b188ad0-0d82-4b2c-9913-45292e537871)</li><li><strong>PhysicalComponent</strong> &quot;Cooling Fan&quot; (65e82f3f-c5b7-44c1-bfea-8e20bb0230be)</li></ol></td></tr><tr><th style=\"text-align: right;\">constraints</th><td style=\"text-align: left;\"><p><em>(Empty list)</em></p></td></tr><tr><th style=\"text-align: right;\">deployed_components</th><td style=\"text-align: left;\"><ol start=\"0\" style=\"text-align: left;\"><li><strong>PhysicalComponent</strong> &quot;Card 1 OS&quot; (7b188ad0-0d82-4b2c-9913-45292e537871)</li></ol></td></tr><tr><th style=\"text-align: right;\">deploying_components</th><td style=\"text-align: left;\"><p><em>(Empty list)</em></p></td></tr><tr><th style=\"text-align: right;\">description</th><td style=\"text-align: left;\"><em>None</em></td></tr><tr><th style=\"text-align: right;\">diagrams</th><td style=\"text-align: left;\"><p><em>(Empty list)</em></p></td></tr><tr><th style=\"text-align: right;\">functions</th><td style=\"text-align: left;\"><p><em>(Empty list)</em></p></td></tr><tr><th style=\"text-align: right;\">is_abstract</th><td style=\"text-align: left;\"><em>False</em></td></tr><tr><th style=\"text-align: right;\">is_actor</th><td style=\"text-align: left;\"><em>False</em></td></tr><tr><th style=\"text-align: right;\">is_human</th><td style=\"text-align: left;\"><em>False</em></td></tr><tr><th style=\"text-align: right;\">kind</th><td style=\"text-align: left;\"><em>&lt;Kind.HARDWARE: 2&gt;</em></td></tr><tr><th style=\"text-align: right;\">name</th><td style=\"text-align: left;\">Compute Card 1</td></tr><tr><th style=\"text-align: right;\">nature</th><td style=\"text-align: left;\"><em>&lt;Nature.NODE: 1&gt;</em></td></tr><tr><th style=\"text-align: right;\">owned_components</th><td style=\"text-align: left;\"><ol start=\"0\" style=\"text-align: left;\"><li><strong>PhysicalComponent</strong> &quot;Cooling Fan&quot; (65e82f3f-c5b7-44c1-bfea-8e20bb0230be)</li></ol></td></tr><tr><th style=\"text-align: right;\">owner</th><td style=\"text-align: left;\"><strong>PhysicalComponent</strong> &quot;Server&quot; (9137f463-7497-40c2-b20a-897158fdba9a)</td></tr><tr><th style=\"text-align: right;\">parts</th><td style=\"text-align: left;\"><ol start=\"0\" style=\"text-align: left;\"><li><strong>Part</strong> &quot;Compute Card 1&quot; (544549d6-2aa4-44c2-b2ae-a86302f48e62)</li></ol></td></tr><tr><th style=\"text-align: right;\">ports</th><td style=\"text-align: left;\"><ol start=\"0\" style=\"text-align: left;\"><li><strong>PhysicalPort</strong> &quot;X2&quot; (22859552-3710-4e58-9aa6-caebd044c921)</li></ol></td></tr><tr><th style=\"text-align: right;\">progress_status</th><td style=\"text-align: left;\">NOT_SET</td></tr><tr><th style=\"text-align: right;\">realized_logical_components</th><td style=\"text-align: left;\"><p><em>(Empty list)</em></p></td></tr><tr><th style=\"text-align: right;\">requirements</th><td style=\"text-align: left;\"><p><em>(Empty list)</em></p></td></tr><tr><th style=\"text-align: right;\">state_machines</th><td style=\"text-align: left;\"><p><em>(Empty list)</em></p></td></tr><tr><th style=\"text-align: right;\">summary</th><td style=\"text-align: left;\"><em>None</em></td></tr><tr><th style=\"text-align: right;\">uuid</th><td style=\"text-align: left;\">63be604e-883e-41ea-9023-fc74f29906fe</td></tr><tr><th style=\"text-align: right;\">xtype</th><td style=\"text-align: left;\">org.polarsys.capella.core.data.pa:PhysicalComponent</td></tr></table>"
      ],
      "text/plain": [
       "<PhysicalComponent 'Compute Card 1' (63be604e-883e-41ea-9023-fc74f29906fe)>"
      ]
     },
     "execution_count": 20,
     "metadata": {},
     "output_type": "execute_result"
    }
   ],
   "source": [
    "components_on_diagram[7]"
   ]
  },
  {
   "cell_type": "markdown",
   "id": "22343924",
   "metadata": {},
   "source": [
    "However we may need just a few of those attributes in a view.\n",
    "\n",
    "Now that we have a list of components lets collect some of the attributes of interest in a table. To keep it simple we'll introduce an attribute extractor function that will turn fields of interset into a nice dictionary."
   ]
  },
  {
   "cell_type": "code",
   "execution_count": 6,
   "id": "63ff286c",
   "metadata": {},
   "outputs": [],
   "source": [
    "def extract_attrs_of_interest(component):\n",
    "    return dict(\n",
    "        name=component.name,\n",
    "        nature=component.nature,\n",
    "        kind=component.kind,\n",
    "        components=\"; \".join([cmp.name for cmp in component.components])\n",
    "    )"
   ]
  },
  {
   "cell_type": "markdown",
   "id": "55d509d0",
   "metadata": {},
   "source": [
    "we can then apply that extractor function to our list of components and use `pandas` to display it for us in a tabular form"
   ]
  },
  {
   "cell_type": "code",
   "execution_count": 7,
   "id": "6d8ff25c",
   "metadata": {},
   "outputs": [
    {
     "data": {
      "text/html": [
       "<div>\n",
       "<style scoped>\n",
       "    .dataframe tbody tr th:only-of-type {\n",
       "        vertical-align: middle;\n",
       "    }\n",
       "\n",
       "    .dataframe tbody tr th {\n",
       "        vertical-align: top;\n",
       "    }\n",
       "\n",
       "    .dataframe thead th {\n",
       "        text-align: right;\n",
       "    }\n",
       "</style>\n",
       "<table border=\"1\" class=\"dataframe\">\n",
       "  <thead>\n",
       "    <tr style=\"text-align: right;\">\n",
       "      <th></th>\n",
       "      <th>name</th>\n",
       "      <th>nature</th>\n",
       "      <th>kind</th>\n",
       "      <th>components</th>\n",
       "    </tr>\n",
       "  </thead>\n",
       "  <tbody>\n",
       "    <tr>\n",
       "      <th>0</th>\n",
       "      <td>Camera Assembly</td>\n",
       "      <td>NODE</td>\n",
       "      <td>HARDWARE</td>\n",
       "      <td>Camera Firmware</td>\n",
       "    </tr>\n",
       "    <tr>\n",
       "      <th>1</th>\n",
       "      <td>Camera Firmware</td>\n",
       "      <td>BEHAVIOR</td>\n",
       "      <td>SOFTWARE_EXECUTION_UNIT</td>\n",
       "      <td></td>\n",
       "    </tr>\n",
       "    <tr>\n",
       "      <th>2</th>\n",
       "      <td>App 1 SWC</td>\n",
       "      <td>BEHAVIOR</td>\n",
       "      <td>SOFTWARE</td>\n",
       "      <td></td>\n",
       "    </tr>\n",
       "    <tr>\n",
       "      <th>3</th>\n",
       "      <td>Compute Card 2</td>\n",
       "      <td>NODE</td>\n",
       "      <td>HARDWARE</td>\n",
       "      <td>Card 2 OS</td>\n",
       "    </tr>\n",
       "    <tr>\n",
       "      <th>4</th>\n",
       "      <td>Camera Driver SWC</td>\n",
       "      <td>BEHAVIOR</td>\n",
       "      <td>SOFTWARE</td>\n",
       "      <td></td>\n",
       "    </tr>\n",
       "    <tr>\n",
       "      <th>5</th>\n",
       "      <td>Equipment compartment</td>\n",
       "      <td>NODE</td>\n",
       "      <td>FACILITIES</td>\n",
       "      <td>Server; Network Switch</td>\n",
       "    </tr>\n",
       "    <tr>\n",
       "      <th>6</th>\n",
       "      <td>Switch Firmware</td>\n",
       "      <td>BEHAVIOR</td>\n",
       "      <td>HARDWARE_COMPUTER</td>\n",
       "      <td></td>\n",
       "    </tr>\n",
       "    <tr>\n",
       "      <th>7</th>\n",
       "      <td>Cooling Fan</td>\n",
       "      <td>NODE</td>\n",
       "      <td>HARDWARE</td>\n",
       "      <td></td>\n",
       "    </tr>\n",
       "    <tr>\n",
       "      <th>8</th>\n",
       "      <td>Compute Card 1</td>\n",
       "      <td>NODE</td>\n",
       "      <td>HARDWARE</td>\n",
       "      <td>Card 1 OS; Cooling Fan</td>\n",
       "    </tr>\n",
       "    <tr>\n",
       "      <th>9</th>\n",
       "      <td>Card 1 OS</td>\n",
       "      <td>BEHAVIOR</td>\n",
       "      <td>SERVICES</td>\n",
       "      <td>Camera Driver SWC; App 1 SWC</td>\n",
       "    </tr>\n",
       "    <tr>\n",
       "      <th>10</th>\n",
       "      <td>Switch Configuration</td>\n",
       "      <td>BEHAVIOR</td>\n",
       "      <td>DATA</td>\n",
       "      <td></td>\n",
       "    </tr>\n",
       "    <tr>\n",
       "      <th>11</th>\n",
       "      <td>Card 2 OS</td>\n",
       "      <td>BEHAVIOR</td>\n",
       "      <td>SOFTWARE</td>\n",
       "      <td>App 2 SWC</td>\n",
       "    </tr>\n",
       "    <tr>\n",
       "      <th>12</th>\n",
       "      <td>Vehicle</td>\n",
       "      <td>NODE</td>\n",
       "      <td>SOFTWARE_DEPLOYMENT_UNIT</td>\n",
       "      <td>Equipment compartment; Sensor compartment</td>\n",
       "    </tr>\n",
       "    <tr>\n",
       "      <th>13</th>\n",
       "      <td>Server</td>\n",
       "      <td>NODE</td>\n",
       "      <td>HARDWARE</td>\n",
       "      <td>Compute Card 1; Compute Card 2</td>\n",
       "    </tr>\n",
       "    <tr>\n",
       "      <th>14</th>\n",
       "      <td>App 2 SWC</td>\n",
       "      <td>BEHAVIOR</td>\n",
       "      <td>SOFTWARE</td>\n",
       "      <td></td>\n",
       "    </tr>\n",
       "    <tr>\n",
       "      <th>15</th>\n",
       "      <td>Sensor compartment</td>\n",
       "      <td>NODE</td>\n",
       "      <td>FACILITIES</td>\n",
       "      <td>Camera Assembly</td>\n",
       "    </tr>\n",
       "    <tr>\n",
       "      <th>16</th>\n",
       "      <td>Network Switch</td>\n",
       "      <td>NODE</td>\n",
       "      <td>HARDWARE</td>\n",
       "      <td>Switch Firmware; Switch Configuration</td>\n",
       "    </tr>\n",
       "  </tbody>\n",
       "</table>\n",
       "</div>"
      ],
      "text/plain": [
       "                     name    nature                      kind  \\\n",
       "0         Camera Assembly      NODE                  HARDWARE   \n",
       "1         Camera Firmware  BEHAVIOR   SOFTWARE_EXECUTION_UNIT   \n",
       "2               App 1 SWC  BEHAVIOR                  SOFTWARE   \n",
       "3          Compute Card 2      NODE                  HARDWARE   \n",
       "4       Camera Driver SWC  BEHAVIOR                  SOFTWARE   \n",
       "5   Equipment compartment      NODE                FACILITIES   \n",
       "6         Switch Firmware  BEHAVIOR         HARDWARE_COMPUTER   \n",
       "7             Cooling Fan      NODE                  HARDWARE   \n",
       "8          Compute Card 1      NODE                  HARDWARE   \n",
       "9               Card 1 OS  BEHAVIOR                  SERVICES   \n",
       "10   Switch Configuration  BEHAVIOR                      DATA   \n",
       "11              Card 2 OS  BEHAVIOR                  SOFTWARE   \n",
       "12                Vehicle      NODE  SOFTWARE_DEPLOYMENT_UNIT   \n",
       "13                 Server      NODE                  HARDWARE   \n",
       "14              App 2 SWC  BEHAVIOR                  SOFTWARE   \n",
       "15     Sensor compartment      NODE                FACILITIES   \n",
       "16         Network Switch      NODE                  HARDWARE   \n",
       "\n",
       "                                   components  \n",
       "0                             Camera Firmware  \n",
       "1                                              \n",
       "2                                              \n",
       "3                                   Card 2 OS  \n",
       "4                                              \n",
       "5                      Server; Network Switch  \n",
       "6                                              \n",
       "7                                              \n",
       "8                      Card 1 OS; Cooling Fan  \n",
       "9                Camera Driver SWC; App 1 SWC  \n",
       "10                                             \n",
       "11                                  App 2 SWC  \n",
       "12  Equipment compartment; Sensor compartment  \n",
       "13             Compute Card 1; Compute Card 2  \n",
       "14                                             \n",
       "15                            Camera Assembly  \n",
       "16      Switch Firmware; Switch Configuration  "
      ]
     },
     "execution_count": 7,
     "metadata": {},
     "output_type": "execute_result"
    }
   ],
   "source": [
    "pd.DataFrame(list(map(extract_attrs_of_interest, components_on_diagram)))"
   ]
  },
  {
   "cell_type": "markdown",
   "id": "91a9ab15",
   "metadata": {},
   "source": [
    "# Example 2: Create HW-SW allocation table\n",
    "\n",
    "Now lets assume that components of node nature are hardware things and behavior corresponds to software components. Assuming that lets identify leaf hardware components (lowest replaceable units) and for each of those indicate which software components they have.\n",
    "\n",
    "To get there lets first filter out the list of components of Node nature that have at least on subcomponent of Behavior nature. To get to the end result quicker we'll use the `._filter` method of our object list. To use that method we'll need to provide a function that selects attribute of interest and a value (or list of values) that this attribute should have to be selected. To shorten the expression we'll use `lambda` functions - a way to define new function in place."
   ]
  },
  {
   "cell_type": "code",
   "execution_count": 43,
   "id": "01644c9d",
   "metadata": {},
   "outputs": [
    {
     "data": {
      "text/html": [
       "<ol start=\"0\" style=\"text-align: left;\"><li><strong>PhysicalComponent</strong> &quot;Compute Card 1&quot; (63be604e-883e-41ea-9023-fc74f29906fe)</li><li><strong>PhysicalComponent</strong> &quot;Compute Card 2&quot; (3a982128-3281-4d37-8838-a6058b7a25d9)</li><li><strong>PhysicalComponent</strong> &quot;Network Switch&quot; (b51ccc6f-5f96-4e28-b90e-72463a3b50cf)</li><li><strong>PhysicalComponent</strong> &quot;Camera Assembly&quot; (5bfc516b-c20d-4007-9a38-5ba0e889d0a4)</li></ol>"
      ],
      "text/plain": [
       "<ElementList at 0x00007F3696E09AE0 [<PhysicalComponent 'Compute Card 1' (63be604e-883e-41ea-9023-fc74f29906fe)>, <PhysicalComponent 'Compute Card 2' (3a982128-3281-4d37-8838-a6058b7a25d9)>, <PhysicalComponent 'Network Switch' (b51ccc6f-5f96-4e28-b90e-72463a3b50cf)>, <PhysicalComponent 'Camera Assembly' (5bfc516b-c20d-4007-9a38-5ba0e889d0a4)>]>"
      ]
     },
     "execution_count": 43,
     "metadata": {},
     "output_type": "execute_result"
    }
   ],
   "source": [
    "def select_nature(component):\n",
    "    return component.nature\n",
    "\n",
    "\n",
    "cmps = model.pa.all_components[1:]._filter(select_nature, \"NODE\")\n",
    "# Note: the above [1:] assumes that 0th component is the root component and is not of interest (+ see issue #41)\n",
    "cmps_with_sw = cmps._filter(lambda x: any(x.components._filter(select_nature, \"BEHAVIOR\")), True)\n",
    "cmps_with_sw"
   ]
  },
  {
   "cell_type": "markdown",
   "id": "4286bd9d",
   "metadata": {},
   "source": [
    "For sure we could come to the above list filtering by `kind` attribute, however in practice not all projects strictly use the `kind` attribute / it needs manual setting and maintenance and therefore is a bit less reliable.\n",
    "\n",
    "Our next stop is to list the SW components of those HW components. As SW components may be nested (i.e. apps on OS or partitions, etc.) we would simply \"flatten\" that hierarchy. We can create function `get_sw_components` that would recursively crawl down the SW components tree and give us back a flat list and test it on one component."
   ]
  },
  {
   "cell_type": "code",
   "execution_count": 45,
   "id": "70abf6f9",
   "metadata": {},
   "outputs": [
    {
     "data": {
      "text/html": [
       "<ol start=\"0\" style=\"text-align: left;\"><li><strong>PhysicalComponent</strong> &quot;Card 1 OS&quot; (7b188ad0-0d82-4b2c-9913-45292e537871)</li><li><strong>PhysicalComponent</strong> &quot;Camera Driver SWC&quot; (74067f56-33bf-47f5-bb8b-f3604097f653)</li><li><strong>PhysicalComponent</strong> &quot;App 1 SWC&quot; (b80a6fcc-8d35-4675-a2e6-60efcbd61e27)</li></ol>"
      ],
      "text/plain": [
       "<ElementList at 0x00007F3696E361D0 [<PhysicalComponent 'Card 1 OS' (7b188ad0-0d82-4b2c-9913-45292e537871)>, <PhysicalComponent 'Camera Driver SWC' (74067f56-33bf-47f5-bb8b-f3604097f653)>, <PhysicalComponent 'App 1 SWC' (b80a6fcc-8d35-4675-a2e6-60efcbd61e27)>]>"
      ]
     },
     "execution_count": 45,
     "metadata": {},
     "output_type": "execute_result"
    }
   ],
   "source": [
    "def get_sw_components(sw_component):\n",
    "    subcmp = sw_component.components._filter(select_nature, \"BEHAVIOR\")\n",
    "    for cmp in subcmp:\n",
    "        subcmp += get_sw_components(cmp)\n",
    "    return subcmp\n",
    "\n",
    "get_sw_components(cmps_with_sw[0])"
   ]
  },
  {
   "cell_type": "markdown",
   "id": "8086d62c",
   "metadata": {},
   "source": [
    "lets apply `get_sw_components` function to the complete list of components with SW, `cmps_with_sw` and turn the results into a table. In this table we'll serialize SW components into a ;-separated string:"
   ]
  },
  {
   "cell_type": "code",
   "execution_count": 48,
   "id": "faa00eb0",
   "metadata": {},
   "outputs": [
    {
     "data": {
      "text/html": [
       "<div>\n",
       "<style scoped>\n",
       "    .dataframe tbody tr th:only-of-type {\n",
       "        vertical-align: middle;\n",
       "    }\n",
       "\n",
       "    .dataframe tbody tr th {\n",
       "        vertical-align: top;\n",
       "    }\n",
       "\n",
       "    .dataframe thead th {\n",
       "        text-align: right;\n",
       "    }\n",
       "</style>\n",
       "<table border=\"1\" class=\"dataframe\">\n",
       "  <thead>\n",
       "    <tr style=\"text-align: right;\">\n",
       "      <th></th>\n",
       "      <th>hardware_component</th>\n",
       "      <th>deployed_sw_components</th>\n",
       "    </tr>\n",
       "  </thead>\n",
       "  <tbody>\n",
       "    <tr>\n",
       "      <th>0</th>\n",
       "      <td>Compute Card 1</td>\n",
       "      <td>Card 1 OS; Camera Driver SWC; App 1 SWC</td>\n",
       "    </tr>\n",
       "    <tr>\n",
       "      <th>1</th>\n",
       "      <td>Compute Card 2</td>\n",
       "      <td>Card 2 OS; App 2 SWC</td>\n",
       "    </tr>\n",
       "    <tr>\n",
       "      <th>2</th>\n",
       "      <td>Network Switch</td>\n",
       "      <td>Switch Firmware; Switch Configuration</td>\n",
       "    </tr>\n",
       "    <tr>\n",
       "      <th>3</th>\n",
       "      <td>Camera Assembly</td>\n",
       "      <td>Camera Firmware</td>\n",
       "    </tr>\n",
       "  </tbody>\n",
       "</table>\n",
       "</div>"
      ],
      "text/plain": [
       "  hardware_component                   deployed_sw_components\n",
       "0     Compute Card 1  Card 1 OS; Camera Driver SWC; App 1 SWC\n",
       "1     Compute Card 2                     Card 2 OS; App 2 SWC\n",
       "2     Network Switch    Switch Firmware; Switch Configuration\n",
       "3    Camera Assembly                          Camera Firmware"
      ]
     },
     "execution_count": 48,
     "metadata": {},
     "output_type": "execute_result"
    }
   ],
   "source": [
    "def describe_hw_component_sw_allocations(hw_component):\n",
    "    return dict(\n",
    "        hardware_component=hw_component.name,\n",
    "        deployed_sw_components=\"; \".join(map(lambda x: x.name, get_sw_components(hw_component)))\n",
    "    )\n",
    "\n",
    "df = pd.DataFrame(list(map(describe_hw_component_sw_allocations, cmps_with_sw)))\n",
    "df"
   ]
  },
  {
   "cell_type": "markdown",
   "id": "851b0540",
   "metadata": {},
   "source": [
    "to complete the picture we could also list all HW components that dont have software (so that a sanity check could be perofrmed)"
   ]
  },
  {
   "cell_type": "code",
   "execution_count": 49,
   "id": "e48d4998",
   "metadata": {},
   "outputs": [
    {
     "data": {
      "text/html": [
       "<ol start=\"0\" style=\"text-align: left;\"><li><strong>PhysicalComponent</strong> &quot;PC 1&quot; (8a6d68c8-ac3d-4654-a07e-ada7adeed09f)</li><li><strong>PhysicalComponent</strong> &quot;PC 3&quot; (f5d7980d-e1e9-4515-8bb0-be7e80ac5839)</li><li><strong>PhysicalComponent</strong> &quot;Vehicle&quot; (a2c7f619-b38a-4b92-94a5-cbaa631badfc)</li><li><strong>PhysicalComponent</strong> &quot;Sub PC&quot; (793e6da2-d019-4716-a5c5-af8ad550ca5e)</li><li><strong>PhysicalComponent</strong> &quot;Deploy Sub PC&quot; (8a6c6ec9-095d-4d8b-9728-69bc79af5f27)</li><li><strong>PhysicalComponent</strong> &quot;Vehicle&quot; (b327d900-abd2-4138-a111-9ff0684739d8)</li><li><strong>PhysicalComponent</strong> &quot;Equipment compartment&quot; (3d68852d-fcc0-452c-af12-a2fbe22f81fa)</li><li><strong>PhysicalComponent</strong> &quot;Server&quot; (9137f463-7497-40c2-b20a-897158fdba9a)</li><li><strong>PhysicalComponent</strong> &quot;Cooling Fan&quot; (65e82f3f-c5b7-44c1-bfea-8e20bb0230be)</li><li><strong>PhysicalComponent</strong> &quot;Sensor compartment&quot; (3f416925-9d8a-4e9c-99f3-e912efb23d2f)</li><li><strong>PhysicalComponent</strong> &quot;PA 1&quot; (a0847e9c-8b82-407d-8143-e908e2db97a1)</li></ol>"
      ],
      "text/plain": [
       "<ElementList at 0x00007F3696E0A630 [<PhysicalComponent 'PC 1' (8a6d68c8-ac3d-4654-a07e-ada7adeed09f)>, <PhysicalComponent 'PC 3' (f5d7980d-e1e9-4515-8bb0-be7e80ac5839)>, <PhysicalComponent 'Vehicle' (a2c7f619-b38a-4b92-94a5-cbaa631badfc)>, <PhysicalComponent 'Sub PC' (793e6da2-d019-4716-a5c5-af8ad550ca5e)>, <PhysicalComponent 'Deploy Sub PC' (8a6c6ec9-095d-4d8b-9728-69bc79af5f27)>, <PhysicalComponent 'Vehicle' (b327d900-abd2-4138-a111-9ff0684739d8)>, <PhysicalComponent 'Equipment compartment' (3d68852d-fcc0-452c-af12-a2fbe22f81fa)>, <PhysicalComponent 'Server' (9137f463-7497-40c2-b20a-897158fdba9a)>, <PhysicalComponent 'Cooling Fan' (65e82f3f-c5b7-44c1-bfea-8e20bb0230be)>, <PhysicalComponent 'Sensor compartment' (3f416925-9d8a-4e9c-99f3-e912efb23d2f)>, <PhysicalComponent 'PA 1' (a0847e9c-8b82-407d-8143-e908e2db97a1)>]>"
      ]
     },
     "execution_count": 49,
     "metadata": {},
     "output_type": "execute_result"
    }
   ],
   "source": [
    "cmps_without_sw = cmps._filter(lambda x: any(x.components._filter(select_nature, \"BEHAVIOR\")), False)\n",
    "cmps_without_sw"
   ]
  }
 ],
 "metadata": {
  "kernelspec": {
   "display_name": "Python 3 (ipykernel)",
   "language": "python",
   "name": "python3"
  },
  "language_info": {
   "codemirror_mode": {
    "name": "ipython",
    "version": 3
   },
   "file_extension": ".py",
   "mimetype": "text/x-python",
   "name": "python",
   "nbconvert_exporter": "python",
   "pygments_lexer": "ipython3",
   "version": "3.8.10"
  }
 },
 "nbformat": 4,
 "nbformat_minor": 5
}
